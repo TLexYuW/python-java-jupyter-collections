{
 "cells": [
  {
   "cell_type": "markdown",
   "id": "d0143813-e78f-4e5a-966f-779925933541",
   "metadata": {},
   "source": [
    "# Import"
   ]
  },
  {
   "cell_type": "code",
   "execution_count": 17,
   "id": "81ea9130-7cbe-43a6-a8b7-19fc8bb65a0d",
   "metadata": {},
   "outputs": [],
   "source": [
    "from functools import reduce"
   ]
  },
  {
   "cell_type": "markdown",
   "id": "033f7c83-3213-4c57-9b6a-dc3eb95b8980",
   "metadata": {},
   "source": [
    "---"
   ]
  },
  {
   "cell_type": "markdown",
   "id": "41802b25-61a8-49aa-b514-3e47da242159",
   "metadata": {},
   "source": [
    "# Setup"
   ]
  },
  {
   "cell_type": "code",
   "execution_count": null,
   "id": "fc7714ef-131b-4e1b-922f-c1889ef7a005",
   "metadata": {},
   "outputs": [],
   "source": [
    "# code"
   ]
  },
  {
   "cell_type": "markdown",
   "id": "1b935757-74fc-454c-9053-e30e0ed5aac5",
   "metadata": {},
   "source": [
    "---"
   ]
  },
  {
   "cell_type": "markdown",
   "id": "29c209b5-4f87-474c-9e6c-e3a36fa88229",
   "metadata": {},
   "source": [
    "# TOC"
   ]
  },
  {
   "cell_type": "markdown",
   "id": "0db224b8-9272-4592-bd86-da6398e36307",
   "metadata": {},
   "source": [
    "- Demo-1"
   ]
  },
  {
   "cell_type": "markdown",
   "id": "01502c79-9751-49b5-8c09-d5a73868571c",
   "metadata": {},
   "source": [
    "---"
   ]
  },
  {
   "cell_type": "markdown",
   "id": "e4971b5c-11dc-495e-a109-4e808e652de0",
   "metadata": {},
   "source": [
    "# Demo-1"
   ]
  },
  {
   "cell_type": "code",
   "execution_count": 1,
   "id": "274acea3-a300-4906-8db4-f69f83d5f54c",
   "metadata": {},
   "outputs": [],
   "source": [
    "def add(x, y):\n",
    "    return x + y"
   ]
  },
  {
   "cell_type": "code",
   "execution_count": 2,
   "id": "e3042e55-4491-4f08-88ae-324e9e105939",
   "metadata": {},
   "outputs": [
    {
     "name": "stdout",
     "output_type": "stream",
     "text": [
      "8\n"
     ]
    }
   ],
   "source": [
    "print(add(5, 3))"
   ]
  },
  {
   "cell_type": "code",
   "execution_count": 3,
   "id": "b870da52-3e97-4f7c-bf14-2f09e581600a",
   "metadata": {},
   "outputs": [],
   "source": [
    "def ladd(x, y):\n",
    "    return x + y"
   ]
  },
  {
   "cell_type": "code",
   "execution_count": 4,
   "id": "fcdc0e12-9dc0-4a4e-8825-3e5f612d3754",
   "metadata": {},
   "outputs": [
    {
     "name": "stdout",
     "output_type": "stream",
     "text": [
      "8\n"
     ]
    }
   ],
   "source": [
    "print(ladd(5, 3))"
   ]
  },
  {
   "cell_type": "code",
   "execution_count": 6,
   "id": "5434792c-ea8c-4924-b830-444df9642ea7",
   "metadata": {},
   "outputs": [
    {
     "name": "stdout",
     "output_type": "stream",
     "text": [
      "8\n"
     ]
    }
   ],
   "source": [
    "def make_adder(n):\n",
    "    return lambda x: x + n\n",
    "\n",
    "plus_x = make_adder(5)\n",
    "print(plus_x(3))"
   ]
  },
  {
   "cell_type": "markdown",
   "id": "30a84143-4c36-446d-847b-0756185ec0aa",
   "metadata": {},
   "source": [
    "---"
   ]
  },
  {
   "cell_type": "markdown",
   "id": "f861a2f7-fa04-4bd8-8ad5-15d2b4d129cb",
   "metadata": {},
   "source": [
    "# Demo-2"
   ]
  },
  {
   "cell_type": "code",
   "execution_count": 13,
   "id": "21f77a20-320f-4ef8-a73a-d6c8e9fd5d75",
   "metadata": {},
   "outputs": [
    {
     "name": "stdout",
     "output_type": "stream",
     "text": [
      "4\n"
     ]
    }
   ],
   "source": [
    "def lsquared(num): return num * num\n",
    "\n",
    "print(lsquared(2))"
   ]
  },
  {
   "cell_type": "markdown",
   "id": "23a55982-f505-4cc4-9e1f-fcc9ff4a0d9f",
   "metadata": {},
   "source": [
    "---"
   ]
  },
  {
   "cell_type": "markdown",
   "id": "963d27e1-3644-4a04-807c-b78d4c9a484d",
   "metadata": {},
   "source": [
    "# Demo3"
   ]
  },
  {
   "cell_type": "code",
   "execution_count": 11,
   "id": "c1385f3a-4213-421c-95b3-d9d423521cb1",
   "metadata": {},
   "outputs": [],
   "source": [
    "def funcBuilder(x): return lambda num: num + x"
   ]
  },
  {
   "cell_type": "code",
   "execution_count": 12,
   "id": "9e705e8f-f5ef-4a83-bf1d-c76f1cf33a67",
   "metadata": {},
   "outputs": [
    {
     "name": "stdout",
     "output_type": "stream",
     "text": [
      "17\n",
      "27\n"
     ]
    }
   ],
   "source": [
    "addTen = funcBuilder(10)\n",
    "addTwenty = funcBuilder(20)\n",
    "\n",
    "print(addTen(7))\n",
    "print(addTwenty(7))"
   ]
  },
  {
   "cell_type": "markdown",
   "id": "4a7dacca-b995-4b66-a18e-5261b790681e",
   "metadata": {},
   "source": [
    "---"
   ]
  },
  {
   "cell_type": "markdown",
   "id": "037cf8e6-dba7-4df2-8600-28b182a8fce2",
   "metadata": {},
   "source": [
    "# Demo-4"
   ]
  },
  {
   "cell_type": "code",
   "execution_count": 16,
   "id": "6b51ed6e-3bc3-4c01-a9ad-e025fc9a24f8",
   "metadata": {},
   "outputs": [
    {
     "name": "stdout",
     "output_type": "stream",
     "text": [
      "[9, 49, 144, 324, 400, 441]\n"
     ]
    }
   ],
   "source": [
    "numbers = [3, 7, 12, 18, 20, 21]\n",
    "\n",
    "squared_nums = map(lambda n: n * n, numbers)\n",
    "\n",
    "print(list(squared_nums))"
   ]
  },
  {
   "cell_type": "markdown",
   "id": "e61498cc-6dd6-46d4-99b4-934314dfc0a1",
   "metadata": {},
   "source": [
    "---"
   ]
  },
  {
   "cell_type": "markdown",
   "id": "e532b7ec-cfe7-420d-a70d-6332b334228c",
   "metadata": {},
   "source": [
    "# Demo-5"
   ]
  },
  {
   "cell_type": "code",
   "execution_count": 15,
   "id": "4b90db3c-53c2-4f8c-a854-f17c143e246d",
   "metadata": {},
   "outputs": [
    {
     "name": "stdout",
     "output_type": "stream",
     "text": [
      "[3, 7, 21]\n"
     ]
    }
   ],
   "source": [
    "numbers = [3, 7, 12, 18, 20, 21]\n",
    "\n",
    "odd_nums = filter(lambda n: n % 2 != 0, numbers)\n",
    "\n",
    "print(list(odd_nums))"
   ]
  },
  {
   "cell_type": "markdown",
   "id": "d77500a2-30b8-4572-8a21-d37844097afc",
   "metadata": {},
   "source": [
    "---"
   ]
  },
  {
   "cell_type": "markdown",
   "id": "a9089a25-972d-4f69-b861-5de31230dda2",
   "metadata": {},
   "source": [
    "# Demo-6"
   ]
  },
  {
   "cell_type": "code",
   "execution_count": 18,
   "id": "bcbed9d0-c98f-4c3d-b15d-68a0347b9684",
   "metadata": {},
   "outputs": [
    {
     "name": "stdout",
     "output_type": "stream",
     "text": [
      "29\n"
     ]
    }
   ],
   "source": [
    "numbers = [1, 2, 3, 4, 5, 6, 7, 1]\n",
    "\n",
    "total = reduce(lambda acc, curr: acc + curr, numbers)\n",
    "\n",
    "print(total)"
   ]
  },
  {
   "cell_type": "markdown",
   "id": "d2d5e77c-feb0-475c-ba50-5136e374de6c",
   "metadata": {},
   "source": [
    "---"
   ]
  },
  {
   "cell_type": "markdown",
   "id": "75616726-a6ef-4737-a2a4-db14114d1232",
   "metadata": {},
   "source": [
    "# Demo-7"
   ]
  },
  {
   "cell_type": "code",
   "execution_count": 19,
   "id": "c3c4190d-ed1a-4ab6-a8e1-2e520c8aecef",
   "metadata": {},
   "outputs": [
    {
     "name": "stdout",
     "output_type": "stream",
     "text": [
      "26\n"
     ]
    }
   ],
   "source": [
    "names = [\"Dave Gray\", \"Sara Ito\", \"John Wick\"]\n",
    "\n",
    "char_count = reduce(lambda acc, curr: acc + len(curr), names, 0)\n",
    "\n",
    "print(char_count)"
   ]
  },
  {
   "cell_type": "markdown",
   "id": "9ae05391-f46d-418f-9e84-6100640a26bf",
   "metadata": {},
   "source": [
    "---"
   ]
  }
 ],
 "metadata": {
  "kernelspec": {
   "display_name": "Python 3 (ipykernel)",
   "language": "python",
   "name": "python3"
  },
  "language_info": {
   "codemirror_mode": {
    "name": "ipython",
    "version": 3
   },
   "file_extension": ".py",
   "mimetype": "text/x-python",
   "name": "python",
   "nbconvert_exporter": "python",
   "pygments_lexer": "ipython3",
   "version": "3.12.1"
  },
  "widgets": {
   "application/vnd.jupyter.widget-state+json": {
    "state": {},
    "version_major": 2,
    "version_minor": 0
   }
  }
 },
 "nbformat": 4,
 "nbformat_minor": 5
}
