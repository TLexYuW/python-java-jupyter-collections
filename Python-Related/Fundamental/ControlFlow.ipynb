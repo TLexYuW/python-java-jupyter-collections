{
 "cells": [
  {
   "cell_type": "markdown",
   "id": "d0143813-e78f-4e5a-966f-779925933541",
   "metadata": {},
   "source": [
    "# Import"
   ]
  },
  {
   "cell_type": "code",
   "execution_count": 12,
   "id": "81ea9130-7cbe-43a6-a8b7-19fc8bb65a0d",
   "metadata": {},
   "outputs": [],
   "source": [
    "import random;"
   ]
  },
  {
   "cell_type": "markdown",
   "id": "033f7c83-3213-4c57-9b6a-dc3eb95b8980",
   "metadata": {},
   "source": [
    "---"
   ]
  },
  {
   "cell_type": "markdown",
   "id": "41802b25-61a8-49aa-b514-3e47da242159",
   "metadata": {},
   "source": [
    "# Setup"
   ]
  },
  {
   "cell_type": "code",
   "execution_count": null,
   "id": "fc7714ef-131b-4e1b-922f-c1889ef7a005",
   "metadata": {},
   "outputs": [],
   "source": [
    "# code"
   ]
  },
  {
   "cell_type": "markdown",
   "id": "1b935757-74fc-454c-9053-e30e0ed5aac5",
   "metadata": {},
   "source": [
    "---"
   ]
  },
  {
   "cell_type": "markdown",
   "id": "29c209b5-4f87-474c-9e6c-e3a36fa88229",
   "metadata": {},
   "source": [
    "# TOC"
   ]
  },
  {
   "cell_type": "markdown",
   "id": "0db224b8-9272-4592-bd86-da6398e36307",
   "metadata": {},
   "source": [
    "- Loops\n",
    "- `if`\n",
    "- `while`\n",
    "- `is`\n",
    "- `is not`\n",
    "- `or`\n",
    "- `and`\n",
    "- `and not`"
   ]
  },
  {
   "cell_type": "markdown",
   "id": "01502c79-9751-49b5-8c09-d5a73868571c",
   "metadata": {},
   "source": [
    "---"
   ]
  },
  {
   "cell_type": "markdown",
   "id": "e4971b5c-11dc-495e-a109-4e808e652de0",
   "metadata": {},
   "source": [
    "# Loops"
   ]
  },
  {
   "cell_type": "markdown",
   "id": "16393f37-4ab3-42d8-ab22-82519ae07398",
   "metadata": {},
   "source": [
    "### Demo-1"
   ]
  },
  {
   "cell_type": "code",
   "execution_count": 5,
   "id": "7cfc2d5f-0100-4a24-8aec-b6316a88c64f",
   "metadata": {},
   "outputs": [
    {
     "ename": "TypeError",
     "evalue": "'int' object is not iterable",
     "output_type": "error",
     "traceback": [
      "\u001b[0;31m---------------------------------------------------------------------------\u001b[0m",
      "\u001b[0;31mTypeError\u001b[0m                                 Traceback (most recent call last)",
      "Cell \u001b[0;32mIn[5], line 2\u001b[0m\n\u001b[1;32m      1\u001b[0m x \u001b[38;5;241m=\u001b[39m \u001b[38;5;241m2021\u001b[39m\n\u001b[0;32m----> 2\u001b[0m \u001b[38;5;28;43;01mfor\u001b[39;49;00m\u001b[43m \u001b[49m\u001b[43mi\u001b[49m\u001b[43m \u001b[49m\u001b[38;5;129;43;01min\u001b[39;49;00m\u001b[43m \u001b[49m\u001b[43mx\u001b[49m\u001b[43m:\u001b[49m\n\u001b[1;32m      3\u001b[0m \u001b[43m    \u001b[49m\u001b[38;5;28;43mprint\u001b[39;49m\u001b[43m(\u001b[49m\u001b[43mi\u001b[49m\u001b[43m)\u001b[49m\n",
      "\u001b[0;31mTypeError\u001b[0m: 'int' object is not iterable"
     ]
    }
   ],
   "source": [
    "x = 2021\n",
    "for i in x:\n",
    "    print(i)"
   ]
  },
  {
   "cell_type": "markdown",
   "id": "88eed89f-bffc-47dc-977a-199eea8aac3d",
   "metadata": {},
   "source": [
    "---"
   ]
  },
  {
   "cell_type": "markdown",
   "id": "d69912e5-8eb1-4b0c-b9d3-8c23efd4e407",
   "metadata": {},
   "source": [
    "### Demo-2"
   ]
  },
  {
   "cell_type": "code",
   "execution_count": 6,
   "id": "2dc4fcf3-9ac4-401d-b2d7-0eb1fb454e7b",
   "metadata": {},
   "outputs": [
    {
     "ename": "AttributeError",
     "evalue": "'int' object has no attribute 'upper'",
     "output_type": "error",
     "traceback": [
      "\u001b[0;31m---------------------------------------------------------------------------\u001b[0m",
      "\u001b[0;31mAttributeError\u001b[0m                            Traceback (most recent call last)",
      "Cell \u001b[0;32mIn[6], line 3\u001b[0m\n\u001b[1;32m      1\u001b[0m x \u001b[38;5;241m=\u001b[39m \u001b[38;5;124m\"\u001b[39m\u001b[38;5;124mabcd\u001b[39m\u001b[38;5;124m\"\u001b[39m\n\u001b[1;32m      2\u001b[0m \u001b[38;5;28;01mfor\u001b[39;00m i \u001b[38;5;129;01min\u001b[39;00m \u001b[38;5;28mrange\u001b[39m(\u001b[38;5;28mlen\u001b[39m(x)):\n\u001b[0;32m----> 3\u001b[0m     \u001b[43mi\u001b[49m\u001b[38;5;241;43m.\u001b[39;49m\u001b[43mupper\u001b[49m()\n\u001b[1;32m      4\u001b[0m \u001b[38;5;28mprint\u001b[39m(x)\n",
      "\u001b[0;31mAttributeError\u001b[0m: 'int' object has no attribute 'upper'"
     ]
    }
   ],
   "source": [
    "x = \"abcd\"\n",
    "for i in range(len(x)):\n",
    "    i.upper()\n",
    "print(x)"
   ]
  },
  {
   "cell_type": "markdown",
   "id": "5d1abb49-ea61-45b9-91ff-1a87a7ba2935",
   "metadata": {},
   "source": [
    "---"
   ]
  },
  {
   "cell_type": "markdown",
   "id": "3df458e8-0d14-4f24-984f-c0714ff69960",
   "metadata": {},
   "source": [
    "### Demo-3"
   ]
  },
  {
   "cell_type": "code",
   "execution_count": 7,
   "id": "2a2781d6-affa-47c4-9282-80ee0e7c4eb2",
   "metadata": {},
   "outputs": [
    {
     "name": "stdout",
     "output_type": "stream",
     "text": [
      "A\n",
      "B\n",
      "C\n",
      "D\n"
     ]
    }
   ],
   "source": [
    "x = \"abcd\"\n",
    "for i in x:\n",
    "    print(i.upper())\n"
   ]
  },
  {
   "cell_type": "markdown",
   "id": "7c5ded60-a9b9-45b0-9345-7ef12a7f6cec",
   "metadata": {},
   "source": [
    "---"
   ]
  },
  {
   "cell_type": "markdown",
   "id": "6348bc47-e1b2-418f-a20f-54ff35d8c8d2",
   "metadata": {},
   "source": [
    "### Demo-4"
   ]
  },
  {
   "cell_type": "code",
   "execution_count": 8,
   "id": "98d3defe-4b69-4e37-baae-c62671507b95",
   "metadata": {},
   "outputs": [
    {
     "name": "stdout",
     "output_type": "stream",
     "text": [
      "4\n",
      "0\n",
      "1\n",
      "2\n",
      "3\n"
     ]
    }
   ],
   "source": [
    "x = \"abcd\"\n",
    "print(len(x))\n",
    "for i in range(len(x)):\n",
    "    print(i)"
   ]
  },
  {
   "cell_type": "markdown",
   "id": "b2cc5c6d-727e-4e5d-9af5-5b424af238dc",
   "metadata": {},
   "source": [
    "---"
   ]
  },
  {
   "cell_type": "markdown",
   "id": "174617b8-d7b7-4ea4-be42-bb0a1ff90269",
   "metadata": {},
   "source": [
    "### Demo-5"
   ]
  },
  {
   "cell_type": "code",
   "execution_count": 9,
   "id": "f5a30932-6439-4264-b8c8-d5710a468b76",
   "metadata": {},
   "outputs": [
    {
     "ename": "TypeError",
     "evalue": "'str' object cannot be interpreted as an integer",
     "output_type": "error",
     "traceback": [
      "\u001b[0;31m---------------------------------------------------------------------------\u001b[0m",
      "\u001b[0;31mTypeError\u001b[0m                                 Traceback (most recent call last)",
      "Cell \u001b[0;32mIn[9], line 2\u001b[0m\n\u001b[1;32m      1\u001b[0m x \u001b[38;5;241m=\u001b[39m \u001b[38;5;124m\"\u001b[39m\u001b[38;5;124mabcd\u001b[39m\u001b[38;5;124m\"\u001b[39m\n\u001b[0;32m----> 2\u001b[0m \u001b[38;5;28;01mfor\u001b[39;00m i \u001b[38;5;129;01min\u001b[39;00m \u001b[38;5;28;43mrange\u001b[39;49m\u001b[43m(\u001b[49m\u001b[43mx\u001b[49m\u001b[43m)\u001b[49m:\n\u001b[1;32m      3\u001b[0m     \u001b[38;5;28mprint\u001b[39m(i)\n",
      "\u001b[0;31mTypeError\u001b[0m: 'str' object cannot be interpreted as an integer"
     ]
    }
   ],
   "source": [
    "x = \"abcd\"\n",
    "for i in range(x):\n",
    "    print(i)"
   ]
  },
  {
   "cell_type": "markdown",
   "id": "1cd7ce62-dbb2-4d43-847a-ffe1e9d84a22",
   "metadata": {},
   "source": [
    "### Demo-6"
   ]
  },
  {
   "cell_type": "code",
   "execution_count": 3,
   "id": "82ab1dc2-4909-47ed-bb26-a31ac4d2c51d",
   "metadata": {
    "scrolled": true
   },
   "outputs": [
    {
     "name": "stdout",
     "output_type": "stream",
     "text": [
      "a\n",
      "b\n",
      "c\n",
      "d\n"
     ]
    }
   ],
   "source": [
    "x = \"abcd\"\n",
    "for i in x:\n",
    "    print(i)\n",
    "    x.upper()"
   ]
  },
  {
   "cell_type": "markdown",
   "id": "ac14951b-b649-49cb-ac08-bf86d0eaf932",
   "metadata": {},
   "source": [
    "---"
   ]
  },
  {
   "cell_type": "markdown",
   "id": "5f2183f0-a7df-44a5-8a7d-8bc8f7bae754",
   "metadata": {},
   "source": [
    "### Demo-7"
   ]
  },
  {
   "cell_type": "code",
   "execution_count": 9,
   "id": "84d348a9-f410-4512-b70a-56bfbee1a9c3",
   "metadata": {},
   "outputs": [
    {
     "name": "stdout",
     "output_type": "stream",
     "text": [
      "Five Times (0)\n",
      "Five Times (1)\n",
      "Five Times (2)\n",
      "Five Times (3)\n",
      "Five Times (4)\n"
     ]
    }
   ],
   "source": [
    "for i in range(5):\n",
    "    print('Five Times ({})'.format(str(i)))\n",
    "    "
   ]
  },
  {
   "cell_type": "markdown",
   "id": "23a55982-f505-4cc4-9e1f-fcc9ff4a0d9f",
   "metadata": {},
   "source": [
    "---"
   ]
  },
  {
   "cell_type": "markdown",
   "id": "aaa17ad0-ce93-4fce-b0fb-19918b59d4ae",
   "metadata": {},
   "source": [
    "### Demo-8"
   ]
  },
  {
   "cell_type": "code",
   "execution_count": 10,
   "id": "ebc10d24-be3b-46c4-a4e0-b01f6e67340b",
   "metadata": {},
   "outputs": [
    {
     "name": "stdout",
     "output_type": "stream",
     "text": [
      "0\n",
      "2\n",
      "4\n",
      "6\n",
      "8\n"
     ]
    }
   ],
   "source": [
    "for i in range(0, 10, 2):\n",
    "    print(i)"
   ]
  },
  {
   "cell_type": "markdown",
   "id": "6236b462-c56e-49fa-802d-8867c70e0c43",
   "metadata": {},
   "source": [
    "---"
   ]
  },
  {
   "cell_type": "markdown",
   "id": "595ff9d7-8c7d-47ca-a0c3-dd53a2b2b2ec",
   "metadata": {},
   "source": [
    "### Demo-9"
   ]
  },
  {
   "cell_type": "code",
   "execution_count": null,
   "id": "fa7607fe-588d-472e-acdc-8659adc93c38",
   "metadata": {},
   "outputs": [],
   "source": [
    "for i in range(5, -1, -1):\n",
    "    print(i)"
   ]
  },
  {
   "cell_type": "markdown",
   "id": "6b2735c8-7d43-4eb3-b53c-247365feadb3",
   "metadata": {},
   "source": [
    "---"
   ]
  },
  {
   "cell_type": "markdown",
   "id": "b7a83c5b-6c1d-461e-b9b1-08a426bc3866",
   "metadata": {},
   "source": [
    "### Demo-10"
   ]
  },
  {
   "cell_type": "code",
   "execution_count": null,
   "id": "0e6599f9-29b0-4adb-948c-b8d64f8ac26c",
   "metadata": {},
   "outputs": [],
   "source": [
    "for i in [1, 2, 3, 4, 5]:\n",
    "    if i == 3:\n",
    "        break\n",
    "else:\n",
    "    print(\"only executed when no item of the list is equal to 3\")"
   ]
  },
  {
   "cell_type": "markdown",
   "id": "3f460c5d-66b3-47f7-8686-d53348b1ff78",
   "metadata": {},
   "source": [
    "---"
   ]
  },
  {
   "cell_type": "markdown",
   "id": "24ca6551-2541-4a25-8ee1-115857db0e04",
   "metadata": {},
   "source": [
    "### Demo-11"
   ]
  },
  {
   "cell_type": "code",
   "execution_count": 13,
   "id": "1fc2b057-67b8-4652-9531-2206875ef6b7",
   "metadata": {},
   "outputs": [
    {
     "name": "stdout",
     "output_type": "stream",
     "text": [
      "8\n",
      "3\n",
      "8\n",
      "8\n",
      "10\n"
     ]
    }
   ],
   "source": [
    "for i in range(5):\n",
    "    print(random.randint(1, 10))"
   ]
  },
  {
   "cell_type": "markdown",
   "id": "b43e1c78-2b5f-427f-8907-e0de27136526",
   "metadata": {},
   "source": [
    "---"
   ]
  },
  {
   "cell_type": "markdown",
   "id": "cfc03788-2f9b-4fb1-b7a9-5ba0f19394ca",
   "metadata": {},
   "source": [
    "### enumerate()"
   ]
  },
  {
   "cell_type": "code",
   "execution_count": 28,
   "id": "226a1828-13f4-42e7-832d-f7213d7c8878",
   "metadata": {},
   "outputs": [
    {
     "name": "stdout",
     "output_type": "stream",
     "text": [
      "0 1\n",
      "1 2\n",
      "2 3\n",
      "3 4\n"
     ]
    }
   ],
   "source": [
    "list1 = [1, 2, 3, 4]\n",
    "for index, j in enumerate(list1):\n",
    "    print(index, j)"
   ]
  },
  {
   "cell_type": "markdown",
   "id": "8a9cf989-5691-40c8-b9f1-0c2dcd442fb9",
   "metadata": {},
   "source": [
    "---"
   ]
  },
  {
   "cell_type": "markdown",
   "id": "2ae6d230-9c1f-43ca-bae8-ce59986392f0",
   "metadata": {},
   "source": [
    "### Demo-12"
   ]
  },
  {
   "cell_type": "code",
   "execution_count": 30,
   "id": "f0001b40-1b1c-40b6-ab0a-b0223e604d00",
   "metadata": {},
   "outputs": [
    {
     "name": "stdout",
     "output_type": "stream",
     "text": [
      "[10, 11, 12, 13, 14]\n"
     ]
    }
   ],
   "source": [
    "list1 = [10, 11, 12, 13, 14]\n",
    "print(list1[::1])"
   ]
  },
  {
   "cell_type": "markdown",
   "id": "25c8a8f8-89fa-4f54-9fad-729b4ce5410f",
   "metadata": {},
   "source": [
    "---"
   ]
  },
  {
   "cell_type": "markdown",
   "id": "e9698b5e-a405-4bbc-a051-a3691b708ae7",
   "metadata": {},
   "source": [
    "### Demo-13"
   ]
  },
  {
   "cell_type": "code",
   "execution_count": 29,
   "id": "0f9bc56a-13b4-4058-9dca-973d7799b7f8",
   "metadata": {},
   "outputs": [
    {
     "name": "stdout",
     "output_type": "stream",
     "text": [
      "[8, 9, 10]\n"
     ]
    }
   ],
   "source": [
    "list2 = [[1, 2, 3, 2, 5], [4, 5, 6, 7], [8, 9, 10]]\n",
    "for i in list2:\n",
    "    if len(i) == 3:\n",
    "        print(i)"
   ]
  },
  {
   "cell_type": "markdown",
   "id": "5c33b499-53c9-4c4d-aff1-e4909dc87a03",
   "metadata": {},
   "source": [
    "---"
   ]
  },
  {
   "cell_type": "markdown",
   "id": "f861a2f7-fa04-4bd8-8ad5-15d2b4d129cb",
   "metadata": {},
   "source": [
    "# if"
   ]
  },
  {
   "cell_type": "code",
   "execution_count": 4,
   "id": "21f77a20-320f-4ef8-a73a-d6c8e9fd5d75",
   "metadata": {},
   "outputs": [
    {
     "name": "stdout",
     "output_type": "stream",
     "text": [
      "Hi, Stranger\n"
     ]
    }
   ],
   "source": [
    "name = ''\n",
    "if name == 'A':\n",
    "    print('Hi, A')\n",
    "else:\n",
    "    print('Hi, Stranger')"
   ]
  },
  {
   "cell_type": "code",
   "execution_count": 5,
   "id": "e99d914c-f779-4745-8dea-6fa8ab1c5ae7",
   "metadata": {},
   "outputs": [
    {
     "name": "stdout",
     "output_type": "stream",
     "text": [
      "You are not A\n"
     ]
    }
   ],
   "source": [
    "age = 5\n",
    "if name == 'A':\n",
    "    print('Hi, A')\n",
    "elif age < 12:\n",
    "    print('You are not A')"
   ]
  },
  {
   "cell_type": "markdown",
   "id": "324ddb12-b492-4257-8ba7-3d880fb843e7",
   "metadata": {},
   "source": [
    "---"
   ]
  },
  {
   "cell_type": "markdown",
   "id": "e76dd02b-4d1b-4d6f-a2be-306bb1b0b242",
   "metadata": {},
   "source": [
    "# while"
   ]
  },
  {
   "cell_type": "code",
   "execution_count": 6,
   "id": "ebc91f5b-6356-48d3-9cfe-fae8d2ff195b",
   "metadata": {},
   "outputs": [
    {
     "name": "stdout",
     "output_type": "stream",
     "text": [
      "Hello, world\n",
      "Hello, world\n",
      "Hello, world\n",
      "Hello, world\n",
      "Hello, world\n"
     ]
    }
   ],
   "source": [
    "spam = 0\n",
    "while spam < 5:\n",
    "    print('Hello, world')\n",
    "    spam += 1"
   ]
  },
  {
   "cell_type": "code",
   "execution_count": 7,
   "id": "8449ade6-48bd-4eba-a5e3-aeb5b49a3eac",
   "metadata": {},
   "outputs": [
    {
     "name": "stdout",
     "output_type": "stream",
     "text": [
      "Please type your name.\n"
     ]
    },
    {
     "name": "stdin",
     "output_type": "stream",
     "text": [
      " 111\n"
     ]
    },
    {
     "name": "stdout",
     "output_type": "stream",
     "text": [
      "Please type your name.\n"
     ]
    },
    {
     "name": "stdin",
     "output_type": "stream",
     "text": [
      " test\n"
     ]
    },
    {
     "name": "stdout",
     "output_type": "stream",
     "text": [
      "Thank you!\n"
     ]
    }
   ],
   "source": [
    "while True:\n",
    "    print('Please type your name.')\n",
    "    name = input()\n",
    "    if name == 'test':\n",
    "        break\n",
    "print('Thank you!')"
   ]
  },
  {
   "cell_type": "code",
   "execution_count": 8,
   "id": "be0e3298-6f27-4da0-a791-14462016e0ce",
   "metadata": {},
   "outputs": [
    {
     "name": "stdout",
     "output_type": "stream",
     "text": [
      "Who are you?\n"
     ]
    },
    {
     "name": "stdin",
     "output_type": "stream",
     "text": [
      " J\n"
     ]
    },
    {
     "name": "stdout",
     "output_type": "stream",
     "text": [
      "Hello, J. What is the password? (It is a fish.)\n"
     ]
    },
    {
     "name": "stdin",
     "output_type": "stream",
     "text": [
      " fish\n"
     ]
    },
    {
     "name": "stdout",
     "output_type": "stream",
     "text": [
      "Access granted\n"
     ]
    }
   ],
   "source": [
    "while True:\n",
    "    print('Who are you?')\n",
    "    name = input()\n",
    "    if name != 'J':\n",
    "        continue\n",
    "    print('Hello, J. What is the password? (It is a fish.)')\n",
    "    password = input()\n",
    "    if password == 'fish':\n",
    "        break\n",
    "print('Access granted')"
   ]
  },
  {
   "cell_type": "code",
   "execution_count": 25,
   "id": "47f1ac9b-bc37-4ccd-accd-cc57f86e2e35",
   "metadata": {},
   "outputs": [
    {
     "name": "stdout",
     "output_type": "stream",
     "text": [
      "9\n",
      "7\n"
     ]
    }
   ],
   "source": [
    "print(0o11)\n",
    "print(0o7)"
   ]
  },
  {
   "cell_type": "code",
   "execution_count": 26,
   "id": "6589bfa3-33a4-46c1-abee-f0fccd980e16",
   "metadata": {},
   "outputs": [
    {
     "name": "stdout",
     "output_type": "stream",
     "text": [
      "5\n",
      "6\n",
      "7\n",
      "8\n"
     ]
    }
   ],
   "source": [
    "i = 5\n",
    "while True:\n",
    "    if i % 0o11 == 0:\n",
    "        break\n",
    "    print(i)\n",
    "    i += 1"
   ]
  },
  {
   "cell_type": "code",
   "execution_count": 27,
   "id": "566e25aa-d80d-4711-aa56-2d9bc304fc19",
   "metadata": {},
   "outputs": [
    {
     "name": "stdout",
     "output_type": "stream",
     "text": [
      "1\n",
      "2\n",
      "3\n",
      "4\n",
      "5\n",
      "6\n"
     ]
    }
   ],
   "source": [
    "i = 1\n",
    "while True:\n",
    "    if i % 0o7 == 0:\n",
    "        break\n",
    "    print(i)\n",
    "    i += 1"
   ]
  },
  {
   "cell_type": "markdown",
   "id": "a6abfeac-425e-42db-a3e1-8bfe3aee1423",
   "metadata": {},
   "source": [
    "---"
   ]
  },
  {
   "cell_type": "markdown",
   "id": "963d27e1-3644-4a04-807c-b78d4c9a484d",
   "metadata": {},
   "source": [
    "# is"
   ]
  },
  {
   "cell_type": "code",
   "execution_count": 15,
   "id": "c1385f3a-4213-421c-95b3-d9d423521cb1",
   "metadata": {},
   "outputs": [
    {
     "name": "stdout",
     "output_type": "stream",
     "text": [
      "True\n"
     ]
    }
   ],
   "source": [
    "print(True is True)"
   ]
  },
  {
   "cell_type": "markdown",
   "id": "4a7dacca-b995-4b66-a18e-5261b790681e",
   "metadata": {},
   "source": [
    "---"
   ]
  },
  {
   "cell_type": "markdown",
   "id": "037cf8e6-dba7-4df2-8600-28b182a8fce2",
   "metadata": {},
   "source": [
    "# not"
   ]
  },
  {
   "cell_type": "code",
   "execution_count": 16,
   "id": "6b51ed6e-3bc3-4c01-a9ad-e025fc9a24f8",
   "metadata": {},
   "outputs": [
    {
     "name": "stdout",
     "output_type": "stream",
     "text": [
      "True\n"
     ]
    }
   ],
   "source": [
    "print(True is not False)\n"
   ]
  },
  {
   "cell_type": "markdown",
   "id": "e61498cc-6dd6-46d4-99b4-934314dfc0a1",
   "metadata": {},
   "source": [
    "---"
   ]
  },
  {
   "cell_type": "markdown",
   "id": "9812d1a2-e1fb-47f9-92c9-d99b78fd9e39",
   "metadata": {},
   "source": [
    "# or"
   ]
  },
  {
   "cell_type": "code",
   "execution_count": 17,
   "id": "098ae1f1-c2f3-4684-9d7f-dfdc085c46e0",
   "metadata": {},
   "outputs": [
    {
     "name": "stdout",
     "output_type": "stream",
     "text": [
      "True\n"
     ]
    }
   ],
   "source": [
    "print((1 == 2) or (2 == 2))"
   ]
  },
  {
   "cell_type": "markdown",
   "id": "2aba681e-c165-4112-af2e-93c603255051",
   "metadata": {},
   "source": [
    "---"
   ]
  },
  {
   "cell_type": "markdown",
   "id": "01fb353a-b26d-45f8-9b3d-5e52373bd852",
   "metadata": {},
   "source": [
    "# and"
   ]
  },
  {
   "cell_type": "code",
   "execution_count": 14,
   "id": "79f7a6c7-66f1-4b86-93e8-bb62049f5972",
   "metadata": {},
   "outputs": [
    {
     "name": "stdout",
     "output_type": "stream",
     "text": [
      "True\n"
     ]
    }
   ],
   "source": [
    "print((4 < 5) and (5 < 6))"
   ]
  },
  {
   "cell_type": "code",
   "execution_count": null,
   "id": "6326ac49-9d46-4a77-b7fa-1fcb4737755a",
   "metadata": {},
   "outputs": [],
   "source": [
    "print((4 < 5) and (9 < 6))"
   ]
  },
  {
   "cell_type": "markdown",
   "id": "7e00e707-9622-463f-a9d9-84cff619e2c1",
   "metadata": {},
   "source": [
    "---"
   ]
  },
  {
   "cell_type": "markdown",
   "id": "3db2789e-691d-441f-8d86-091f318ce236",
   "metadata": {},
   "source": [
    "# and not"
   ]
  },
  {
   "cell_type": "code",
   "execution_count": 18,
   "id": "f4e052e0-a38c-45e8-bc37-fc9d7da1ec34",
   "metadata": {},
   "outputs": [
    {
     "name": "stdout",
     "output_type": "stream",
     "text": [
      "True\n"
     ]
    }
   ],
   "source": [
    "print((2 + 2 == 4) and not (2 + 2 == 5) and ( 2 * 2 == 2 + 2))"
   ]
  },
  {
   "cell_type": "markdown",
   "id": "8e403f00-9bd9-41c6-9175-f27e43480028",
   "metadata": {},
   "source": [
    "---"
   ]
  },
  {
   "cell_type": "markdown",
   "id": "600b3738-a755-466f-95a2-dda8f7e62fcb",
   "metadata": {},
   "source": [
    "# Guess Game"
   ]
  },
  {
   "cell_type": "code",
   "execution_count": 20,
   "id": "d5618b4f-9147-41de-8af2-16012bb223a1",
   "metadata": {},
   "outputs": [
    {
     "name": "stdin",
     "output_type": "stream",
     "text": [
      "Guess a number:  1\n"
     ]
    },
    {
     "name": "stdout",
     "output_type": "stream",
     "text": [
      "Congratulations, u got it!\n"
     ]
    }
   ],
   "source": [
    "secret_number = random.randint(1, 10)\n",
    "guess = int(input(\"Guess a number: \"))\n",
    "while guess != secret_number:\n",
    "    guess = int(input(\"Guess a number: \"))\n",
    "else:\n",
    "    print(\"Congratulations, u got it!\")"
   ]
  },
  {
   "cell_type": "code",
   "execution_count": null,
   "id": "c639e094-ab30-412c-9a33-803b2cd7436b",
   "metadata": {},
   "outputs": [],
   "source": []
  }
 ],
 "metadata": {
  "kernelspec": {
   "display_name": "Python 3 (ipykernel)",
   "language": "python",
   "name": "python3"
  },
  "language_info": {
   "codemirror_mode": {
    "name": "ipython",
    "version": 3
   },
   "file_extension": ".py",
   "mimetype": "text/x-python",
   "name": "python",
   "nbconvert_exporter": "python",
   "pygments_lexer": "ipython3",
   "version": "3.12.1"
  },
  "widgets": {
   "application/vnd.jupyter.widget-state+json": {
    "state": {},
    "version_major": 2,
    "version_minor": 0
   }
  }
 },
 "nbformat": 4,
 "nbformat_minor": 5
}
