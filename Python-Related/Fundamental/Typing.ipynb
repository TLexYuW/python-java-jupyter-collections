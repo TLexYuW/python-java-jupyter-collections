{
 "cells": [
  {
   "cell_type": "markdown",
   "id": "40c069e4-8a9d-447e-bdf7-6ed303777c45",
   "metadata": {},
   "source": [
    "# TOC"
   ]
  },
  {
   "cell_type": "markdown",
   "id": "f3d269f1-06f0-4dad-8d1f-5bfdd84572c1",
   "metadata": {},
   "source": [
    "- [Demo](#Demo)\n",
    "- [Self](#Self)\n",
    "- [None](#None)\n",
    "- [Advanced](#Advanced)\n",
    "    - Custom Types\n",
    "    - Optional Type\n",
    "    - Any Type\n",
    "    - Tuple Type\n",
    "    - Callable Type\n",
    "    - Generic Type"
   ]
  },
  {
   "cell_type": "markdown",
   "id": "30bda98a-99e3-48c0-a6e1-dea854971314",
   "metadata": {},
   "source": [
    "---"
   ]
  },
  {
   "cell_type": "markdown",
   "id": "15176de1-e0ba-4fab-bc23-fd947e1abd0b",
   "metadata": {
    "jp-MarkdownHeadingCollapsed": true
   },
   "source": [
    "# Import"
   ]
  },
  {
   "cell_type": "code",
   "execution_count": 4,
   "id": "c3dab9ff-5d94-4fb8-90e1-723f0047dd77",
   "metadata": {},
   "outputs": [],
   "source": [
    "from typing import *"
   ]
  },
  {
   "cell_type": "markdown",
   "id": "440b58b8-1098-44a2-a379-a13c8da77fe3",
   "metadata": {},
   "source": [
    "---"
   ]
  },
  {
   "cell_type": "markdown",
   "id": "742cb458-f653-47d4-8b35-a3497e2120cc",
   "metadata": {
    "jp-MarkdownHeadingCollapsed": true
   },
   "source": [
    "# Demo"
   ]
  },
  {
   "cell_type": "code",
   "execution_count": 5,
   "id": "1c72d681-c2b9-41fe-8882-2058f3d2c37f",
   "metadata": {},
   "outputs": [
    {
     "data": {
      "text/plain": [
       "1"
      ]
     },
     "execution_count": 5,
     "metadata": {},
     "output_type": "execute_result"
    }
   ],
   "source": [
    "x: str = 1\n",
    "x"
   ]
  },
  {
   "cell_type": "markdown",
   "id": "39d712e0-83f8-466a-8272-38cc3636ded8",
   "metadata": {},
   "source": [
    "---"
   ]
  },
  {
   "cell_type": "markdown",
   "id": "a2d90fd4-fa5b-45e9-895e-2afec9e9d742",
   "metadata": {
    "jp-MarkdownHeadingCollapsed": true
   },
   "source": [
    "# Self"
   ]
  },
  {
   "cell_type": "code",
   "execution_count": 6,
   "id": "4f28bde9-7cfc-40dc-9bce-cb7f10b86290",
   "metadata": {},
   "outputs": [],
   "source": [
    "class Shape:\n",
    "    def set_scale(self, scale: float) -> Self:\n",
    "        self.scale = scale\n",
    "        return self\n",
    "\n",
    "class Circle(Shape):\n",
    "    def set_radius(self, radius: float) -> Self:\n",
    "        self.radius = radius\n",
    "        return self\n"
   ]
  },
  {
   "cell_type": "code",
   "execution_count": 7,
   "id": "82a506ed-c041-4343-9b52-13c31e9ee870",
   "metadata": {},
   "outputs": [
    {
     "data": {
      "text/plain": [
       "<__main__.Circle at 0x16da1e7b4d0>"
      ]
     },
     "execution_count": 7,
     "metadata": {},
     "output_type": "execute_result"
    }
   ],
   "source": [
    "c: Circle = Circle()\n",
    "c.set_scale(0.5)\n",
    "c.set_scale(0.5).set_radius(2.7)"
   ]
  },
  {
   "cell_type": "code",
   "execution_count": 8,
   "id": "576a07c1-2371-47c2-906e-a0f5b7325b69",
   "metadata": {},
   "outputs": [
    {
     "name": "stdout",
     "output_type": "stream",
     "text": [
      "0.5\n",
      "2.7\n",
      "22.890600000000003\n"
     ]
    }
   ],
   "source": [
    "print(c.scale)\n",
    "print(c.radius)\n",
    "print(c.radius * c.radius * 3.14)"
   ]
  },
  {
   "cell_type": "markdown",
   "id": "b5d08420-4aba-4d04-bd4a-9d7932a58fb8",
   "metadata": {},
   "source": [
    "---"
   ]
  },
  {
   "cell_type": "markdown",
   "id": "74c4f46d-a0a4-4a88-bb20-665083500afb",
   "metadata": {
    "jp-MarkdownHeadingCollapsed": true
   },
   "source": [
    "# None"
   ]
  },
  {
   "cell_type": "code",
   "execution_count": 9,
   "id": "b1cfcc57-2be8-4702-be99-83a4287d0f56",
   "metadata": {},
   "outputs": [
    {
     "name": "stdout",
     "output_type": "stream",
     "text": [
      "6\n"
     ]
    }
   ],
   "source": [
    "def add_number(a: int, b: int, c: int) -> None:\n",
    "    print(a + b + c)\n",
    "\n",
    "\n",
    "add_number(1, 2, 3)"
   ]
  },
  {
   "cell_type": "markdown",
   "id": "274ad012-777b-4377-a4a5-b201482159ac",
   "metadata": {},
   "source": [
    "---"
   ]
  },
  {
   "cell_type": "markdown",
   "id": "29419fef-be0a-4de2-a629-ca7fc46efc29",
   "metadata": {
    "jp-MarkdownHeadingCollapsed": true
   },
   "source": [
    "# Advanced"
   ]
  },
  {
   "cell_type": "code",
   "execution_count": 10,
   "id": "801636bd-e70d-4c42-8c66-2ae05a6097f0",
   "metadata": {},
   "outputs": [
    {
     "data": {
      "text/plain": [
       "[[1, 2, 3], [], []]"
      ]
     },
     "execution_count": 10,
     "metadata": {},
     "output_type": "execute_result"
    }
   ],
   "source": [
    "[[1, 2, 3], [], []]"
   ]
  },
  {
   "cell_type": "code",
   "execution_count": 11,
   "id": "27b9fd14-a5aa-4abd-ad9e-2ca94ace0623",
   "metadata": {},
   "outputs": [
    {
     "data": {
      "text/plain": [
       "[[1, 2], [3, 4]]"
      ]
     },
     "execution_count": 11,
     "metadata": {},
     "output_type": "execute_result"
    }
   ],
   "source": [
    "x: List[List[int]] = [[1, 2], [3, 4]]\n",
    "x"
   ]
  },
  {
   "cell_type": "code",
   "execution_count": 12,
   "id": "adda8ba5-e9b5-4073-982e-5c3ca51536a2",
   "metadata": {},
   "outputs": [
    {
     "data": {
      "text/plain": [
       "{'A': 'B'}"
      ]
     },
     "execution_count": 12,
     "metadata": {},
     "output_type": "execute_result"
    }
   ],
   "source": [
    "y: Dict[str, str] = {\"A\": \"B\"}\n",
    "y"
   ]
  },
  {
   "cell_type": "code",
   "execution_count": 13,
   "id": "8229e2d5-9b51-468c-b50b-f13203f72db3",
   "metadata": {},
   "outputs": [
    {
     "data": {
      "text/plain": [
       "{'a', 'b'}"
      ]
     },
     "execution_count": 13,
     "metadata": {},
     "output_type": "execute_result"
    }
   ],
   "source": [
    "z: Set[str] = {\"a\", \"b\"}\n",
    "z"
   ]
  },
  {
   "cell_type": "markdown",
   "id": "47770a49-f6cc-45de-a547-dcaa3687d781",
   "metadata": {
    "jp-MarkdownHeadingCollapsed": true
   },
   "source": [
    "## Custom Types"
   ]
  },
  {
   "cell_type": "code",
   "execution_count": 14,
   "id": "17ecaaff-3163-47a6-86a2-d8f26778c7b0",
   "metadata": {},
   "outputs": [
    {
     "name": "stdout",
     "output_type": "stream",
     "text": [
      "[1.2, 3.5, 5.7, 9.0]\n"
     ]
    }
   ],
   "source": [
    "Vector = List[float]\n",
    "\n",
    "\n",
    "def foo(v: Vector) -> Vector:\n",
    "    print(v)\n",
    "\n",
    "\n",
    "foo([1.2, 3.5, 5.7, 9.0])"
   ]
  },
  {
   "cell_type": "code",
   "execution_count": 15,
   "id": "fcd448f2-ec68-4ee3-9989-b37ace989ff7",
   "metadata": {},
   "outputs": [
    {
     "name": "stdout",
     "output_type": "stream",
     "text": [
      "[[1.2, 3.5, 5.7, 9.0], [75.5, 45.5, 775.4, 11.4]]\n"
     ]
    }
   ],
   "source": [
    "Vectors = List[Vector]\n",
    "\n",
    "\n",
    "def foo2(v: Vectors) -> Vectors:\n",
    "    print(v)\n",
    "\n",
    "\n",
    "foo2([[1.2, 3.5, 5.7, 9.0], [75.5, 45.5, 775.4, 11.4]])"
   ]
  },
  {
   "cell_type": "markdown",
   "id": "1ab0016f-b52a-429e-884a-3511027b97ee",
   "metadata": {},
   "source": [
    "## Optional Type"
   ]
  },
  {
   "cell_type": "code",
   "execution_count": 16,
   "id": "57b17ad9-005b-4301-9056-ad3838bb0e26",
   "metadata": {
    "scrolled": true
   },
   "outputs": [
    {
     "name": "stdout",
     "output_type": "stream",
     "text": [
      "False\n"
     ]
    }
   ],
   "source": [
    "def foo3(output: Optional[bool]=False):\n",
    "    print(output)\n",
    "\n",
    "foo3()"
   ]
  },
  {
   "cell_type": "markdown",
   "id": "4afa50e4-aa71-4188-b320-059e752416b8",
   "metadata": {
    "jp-MarkdownHeadingCollapsed": true
   },
   "source": [
    "## Any Type"
   ]
  },
  {
   "cell_type": "code",
   "execution_count": 17,
   "id": "0fe43d4b-0ccb-4383-8b41-3f7cc44940e8",
   "metadata": {},
   "outputs": [
    {
     "name": "stdout",
     "output_type": "stream",
     "text": [
      "string\n"
     ]
    }
   ],
   "source": [
    "def foo4(output: Any):\n",
    "    print(output)\n",
    "\n",
    "foo4(\"string\")"
   ]
  },
  {
   "cell_type": "markdown",
   "id": "6c6c7a6e-7d4a-4336-8e2f-b9db92e540dd",
   "metadata": {},
   "source": [
    "## Sequence Type"
   ]
  },
  {
   "cell_type": "code",
   "execution_count": 18,
   "id": "6cc95ce1-ea86-44fa-80aa-52ef5197adfa",
   "metadata": {},
   "outputs": [
    {
     "name": "stdout",
     "output_type": "stream",
     "text": [
      "('1', '2', '3')\n"
     ]
    }
   ],
   "source": [
    "def foo5(output: Sequence[str]):\n",
    "    print(output)\n",
    "\n",
    "\n",
    "foo5((\"1\", \"2\", \"3\"))"
   ]
  },
  {
   "cell_type": "code",
   "execution_count": 19,
   "id": "ebbf8b37-536e-451a-9f9f-c129ce65f4cd",
   "metadata": {},
   "outputs": [
    {
     "name": "stdout",
     "output_type": "stream",
     "text": [
      "['1', '2', '3']\n"
     ]
    }
   ],
   "source": [
    "foo5([\"1\", \"2\", \"3\"])"
   ]
  },
  {
   "cell_type": "code",
   "execution_count": 20,
   "id": "d2d3a8cc-3795-4141-a13d-361a5a815dcb",
   "metadata": {},
   "outputs": [
    {
     "name": "stdout",
     "output_type": "stream",
     "text": [
      "hello\n"
     ]
    }
   ],
   "source": [
    "foo5(\"hello\")"
   ]
  },
  {
   "cell_type": "code",
   "execution_count": 21,
   "id": "ecc86076-ec55-4c21-840b-7b6487f52e4e",
   "metadata": {},
   "outputs": [
    {
     "name": "stdout",
     "output_type": "stream",
     "text": [
      "{1, 2, 3}\n"
     ]
    }
   ],
   "source": [
    "foo5({1, 2, 3})"
   ]
  },
  {
   "cell_type": "code",
   "execution_count": 22,
   "id": "25684a8d-a157-43b1-b783-5ec25f94adb1",
   "metadata": {},
   "outputs": [
    {
     "name": "stdout",
     "output_type": "stream",
     "text": [
      "{1: 'a', 2: 'b', 3: 'c'}\n"
     ]
    }
   ],
   "source": [
    "d = {\n",
    "    1: \"a\",\n",
    "    2: \"b\",\n",
    "    3: \"c\",\n",
    "}\n",
    "foo5(d)"
   ]
  },
  {
   "cell_type": "markdown",
   "id": "e0184358-8b3d-4020-924a-63a6b323f7cf",
   "metadata": {},
   "source": [
    "## Tuple Type"
   ]
  },
  {
   "cell_type": "code",
   "execution_count": 23,
   "id": "3bd41ec4-a406-48c5-b08f-c0f398653ec9",
   "metadata": {},
   "outputs": [
    {
     "data": {
      "text/plain": [
       "(1, 2, 3, 'Hello')"
      ]
     },
     "execution_count": 23,
     "metadata": {},
     "output_type": "execute_result"
    }
   ],
   "source": [
    "x: tuple = (1, 2, 3, \"Hello\")\n",
    "x"
   ]
  },
  {
   "cell_type": "code",
   "execution_count": 29,
   "id": "8c576f4d-63b7-4a9c-b36c-75e8267afe7e",
   "metadata": {},
   "outputs": [
    {
     "data": {
      "text/plain": [
       "(1, 2, 3)"
      ]
     },
     "execution_count": 29,
     "metadata": {},
     "output_type": "execute_result"
    }
   ],
   "source": [
    "y: Tuple[int, int, int] = (1, 2, 3)\n",
    "y"
   ]
  },
  {
   "cell_type": "markdown",
   "id": "4560f82c-2c04-4141-80d5-e0a10404e02e",
   "metadata": {},
   "source": [
    "## Callable Type"
   ]
  },
  {
   "cell_type": "code",
   "execution_count": 60,
   "id": "29203e0a-386c-492c-a1cc-309a8a7bee4d",
   "metadata": {},
   "outputs": [],
   "source": [
    "def call(func: Callable[[int, int], int]) -> None:\n",
    "    func(1, 2)\n",
    "\n",
    "def add(x: int, y: int) -> int:\n",
    "    return print(x + y)"
   ]
  },
  {
   "cell_type": "code",
   "execution_count": 61,
   "id": "8b33e9c8-eeda-43b8-8846-162db6ba14d6",
   "metadata": {},
   "outputs": [
    {
     "name": "stdout",
     "output_type": "stream",
     "text": [
      "3\n"
     ]
    }
   ],
   "source": [
    "call(add)"
   ]
  },
  {
   "cell_type": "code",
   "execution_count": 62,
   "id": "a0eb0d5b-1a44-435c-ad85-cc00fe186f30",
   "metadata": {},
   "outputs": [],
   "source": [
    "def call() -> Callable[[int, int], int]:\n",
    "    def add(x: int, y: int) -> int:\n",
    "        return x + y\n",
    "    return add"
   ]
  },
  {
   "cell_type": "code",
   "execution_count": 63,
   "id": "0ebbc659-937f-46ad-86d2-39e40ef2783c",
   "metadata": {},
   "outputs": [
    {
     "name": "stdout",
     "output_type": "stream",
     "text": [
      "8\n"
     ]
    }
   ],
   "source": [
    "add_function = call()\n",
    "\n",
    "result = add_function(3, 5)\n",
    "\n",
    "print(result)"
   ]
  },
  {
   "cell_type": "markdown",
   "id": "a45f3690-d72e-4ea1-9e78-a629017150c9",
   "metadata": {},
   "source": [
    "## Generic Type"
   ]
  },
  {
   "cell_type": "code",
   "execution_count": 65,
   "id": "0e3d588c-c31c-4851-a81a-52eb5e09f266",
   "metadata": {},
   "outputs": [],
   "source": [
    "T = TypeVar('T')\n",
    "\n",
    "def get_item(lst: List[T], index: int) -> T:\n",
    "    return lst[index]"
   ]
  },
  {
   "cell_type": "code",
   "execution_count": 68,
   "id": "8865866f-50fe-4a2c-b38f-01f5bc86bf28",
   "metadata": {},
   "outputs": [
    {
     "name": "stdout",
     "output_type": "stream",
     "text": [
      "3\n",
      "d\n"
     ]
    }
   ],
   "source": [
    "int_list = [1, 2, 3, 4, 5]\n",
    "str_list = ['a', 'b', 'c', 'd', 'e']\n",
    "\n",
    "result_int = get_item(int_list, 2)\n",
    "result_str = get_item(str_list, 3)\n",
    "\n",
    "print(result_int)\n",
    "print(result_str)"
   ]
  }
 ],
 "metadata": {
  "kernelspec": {
   "display_name": "Python 3 (ipykernel)",
   "language": "python",
   "name": "python3"
  },
  "language_info": {
   "codemirror_mode": {
    "name": "ipython",
    "version": 3
   },
   "file_extension": ".py",
   "mimetype": "text/x-python",
   "name": "python",
   "nbconvert_exporter": "python",
   "pygments_lexer": "ipython3",
   "version": "3.11.4"
  },
  "widgets": {
   "application/vnd.jupyter.widget-state+json": {
    "state": {},
    "version_major": 2,
    "version_minor": 0
   }
  }
 },
 "nbformat": 4,
 "nbformat_minor": 5
}
