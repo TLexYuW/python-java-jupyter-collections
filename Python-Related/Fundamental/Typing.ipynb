{
 "cells": [
  {
   "cell_type": "markdown",
   "id": "40c069e4-8a9d-447e-bdf7-6ed303777c45",
   "metadata": {},
   "source": [
    "# TOC"
   ]
  },
  {
   "cell_type": "markdown",
   "id": "f3d269f1-06f0-4dad-8d1f-5bfdd84572c1",
   "metadata": {},
   "source": [
    "- [Demo](#Demo)\n",
    "- [Self](#Self)\n",
    "- [None](#None)\n",
    "- Advanced\n",
    "    - "
   ]
  },
  {
   "cell_type": "markdown",
   "id": "30bda98a-99e3-48c0-a6e1-dea854971314",
   "metadata": {},
   "source": [
    "---"
   ]
  },
  {
   "cell_type": "markdown",
   "id": "15176de1-e0ba-4fab-bc23-fd947e1abd0b",
   "metadata": {},
   "source": [
    "# Import"
   ]
  },
  {
   "cell_type": "code",
   "execution_count": 9,
   "id": "c3dab9ff-5d94-4fb8-90e1-723f0047dd77",
   "metadata": {},
   "outputs": [],
   "source": [
    "from typing import *"
   ]
  },
  {
   "cell_type": "markdown",
   "id": "440b58b8-1098-44a2-a379-a13c8da77fe3",
   "metadata": {},
   "source": [
    "---"
   ]
  },
  {
   "cell_type": "markdown",
   "id": "742cb458-f653-47d4-8b35-a3497e2120cc",
   "metadata": {},
   "source": [
    "# Demo"
   ]
  },
  {
   "cell_type": "code",
   "execution_count": 7,
   "id": "1c72d681-c2b9-41fe-8882-2058f3d2c37f",
   "metadata": {},
   "outputs": [
    {
     "data": {
      "text/plain": [
       "1"
      ]
     },
     "execution_count": 7,
     "metadata": {},
     "output_type": "execute_result"
    }
   ],
   "source": [
    "x: str = 1\n",
    "x"
   ]
  },
  {
   "cell_type": "markdown",
   "id": "39d712e0-83f8-466a-8272-38cc3636ded8",
   "metadata": {},
   "source": [
    "---"
   ]
  },
  {
   "cell_type": "markdown",
   "id": "a2d90fd4-fa5b-45e9-895e-2afec9e9d742",
   "metadata": {},
   "source": [
    "# Self"
   ]
  },
  {
   "cell_type": "code",
   "execution_count": 15,
   "id": "4f28bde9-7cfc-40dc-9bce-cb7f10b86290",
   "metadata": {},
   "outputs": [],
   "source": [
    "class Shape:\n",
    "    def set_scale(self, scale: float) -> Self:\n",
    "        self.scale = scale\n",
    "        return self\n",
    "\n",
    "class Circle(Shape):\n",
    "    def set_radius(self, radius: float) -> Self:\n",
    "        self.radius = radius\n",
    "        return self\n"
   ]
  },
  {
   "cell_type": "code",
   "execution_count": 19,
   "id": "82a506ed-c041-4343-9b52-13c31e9ee870",
   "metadata": {},
   "outputs": [
    {
     "data": {
      "text/plain": [
       "<__main__.Circle at 0x1772d91f7d0>"
      ]
     },
     "execution_count": 19,
     "metadata": {},
     "output_type": "execute_result"
    }
   ],
   "source": [
    "c: Circle = Circle()\n",
    "c.set_scale(0.5)\n",
    "c.set_scale(0.5).set_radius(2.7)"
   ]
  },
  {
   "cell_type": "code",
   "execution_count": 22,
   "id": "576a07c1-2371-47c2-906e-a0f5b7325b69",
   "metadata": {},
   "outputs": [
    {
     "name": "stdout",
     "output_type": "stream",
     "text": [
      "0.5\n",
      "2.7\n",
      "22.890600000000003\n"
     ]
    }
   ],
   "source": [
    "print(c.scale)\n",
    "print(c.radius)\n",
    "print(c.radius * c.radius * 3.14)"
   ]
  },
  {
   "cell_type": "markdown",
   "id": "b5d08420-4aba-4d04-bd4a-9d7932a58fb8",
   "metadata": {},
   "source": [
    "---"
   ]
  },
  {
   "cell_type": "markdown",
   "id": "74c4f46d-a0a4-4a88-bb20-665083500afb",
   "metadata": {},
   "source": [
    "# None"
   ]
  },
  {
   "cell_type": "code",
   "execution_count": 23,
   "id": "b1cfcc57-2be8-4702-be99-83a4287d0f56",
   "metadata": {},
   "outputs": [
    {
     "name": "stdout",
     "output_type": "stream",
     "text": [
      "6\n"
     ]
    }
   ],
   "source": [
    "def add_number(a: int, b: int, c: int) -> None:\n",
    "    print(a + b + c)\n",
    "\n",
    "\n",
    "add_number(1, 2, 3)"
   ]
  },
  {
   "cell_type": "markdown",
   "id": "274ad012-777b-4377-a4a5-b201482159ac",
   "metadata": {},
   "source": [
    "---"
   ]
  },
  {
   "cell_type": "markdown",
   "id": "29419fef-be0a-4de2-a629-ca7fc46efc29",
   "metadata": {},
   "source": [
    "# Advanced"
   ]
  },
  {
   "cell_type": "code",
   "execution_count": 25,
   "id": "801636bd-e70d-4c42-8c66-2ae05a6097f0",
   "metadata": {},
   "outputs": [
    {
     "data": {
      "text/plain": [
       "[[1, 2, 3], [], []]"
      ]
     },
     "execution_count": 25,
     "metadata": {},
     "output_type": "execute_result"
    }
   ],
   "source": [
    "[[1, 2, 3], [], []]"
   ]
  },
  {
   "cell_type": "code",
   "execution_count": 27,
   "id": "27b9fd14-a5aa-4abd-ad9e-2ca94ace0623",
   "metadata": {},
   "outputs": [
    {
     "data": {
      "text/plain": [
       "[[1, 2], [3, 4]]"
      ]
     },
     "execution_count": 27,
     "metadata": {},
     "output_type": "execute_result"
    }
   ],
   "source": [
    "x: List[List[int]] = [[1, 2], [3, 4]]\n",
    "x"
   ]
  },
  {
   "cell_type": "code",
   "execution_count": 31,
   "id": "adda8ba5-e9b5-4073-982e-5c3ca51536a2",
   "metadata": {},
   "outputs": [
    {
     "data": {
      "text/plain": [
       "{'A': 'B'}"
      ]
     },
     "execution_count": 31,
     "metadata": {},
     "output_type": "execute_result"
    }
   ],
   "source": [
    "y: Dict[str, str] = {\"A\": \"B\"}\n",
    "y"
   ]
  },
  {
   "cell_type": "code",
   "execution_count": 36,
   "id": "8229e2d5-9b51-468c-b50b-f13203f72db3",
   "metadata": {},
   "outputs": [
    {
     "data": {
      "text/plain": [
       "{'a', 'b'}"
      ]
     },
     "execution_count": 36,
     "metadata": {},
     "output_type": "execute_result"
    }
   ],
   "source": [
    "z: Set[str] = {\"a\", \"b\"}\n",
    "z"
   ]
  },
  {
   "cell_type": "markdown",
   "id": "47770a49-f6cc-45de-a547-dcaa3687d781",
   "metadata": {},
   "source": [
    "## Custom Types"
   ]
  },
  {
   "cell_type": "code",
   "execution_count": 40,
   "id": "17ecaaff-3163-47a6-86a2-d8f26778c7b0",
   "metadata": {},
   "outputs": [
    {
     "name": "stdout",
     "output_type": "stream",
     "text": [
      "[1.2, 3.5, 5.7, 9.0]\n"
     ]
    }
   ],
   "source": [
    "Vector = List[float]\n",
    "\n",
    "\n",
    "def foo(v: Vector) -> Vector:\n",
    "    print(v)\n",
    "\n",
    "\n",
    "foo([1.2, 3.5, 5.7, 9.0])"
   ]
  },
  {
   "cell_type": "code",
   "execution_count": 49,
   "id": "fcd448f2-ec68-4ee3-9989-b37ace989ff7",
   "metadata": {},
   "outputs": [
    {
     "name": "stdout",
     "output_type": "stream",
     "text": [
      "[[1.2, 3.5, 5.7, 9.0], [75.5, 45.5, 775.4, 11.4]]\n"
     ]
    }
   ],
   "source": [
    "Vectors = List[Vector]\n",
    "\n",
    "\n",
    "def foo2(v: Vectors) -> Vectors:\n",
    "    print(v)\n",
    "\n",
    "\n",
    "foo2([[1.2, 3.5, 5.7, 9.0], [75.5, 45.5, 775.4, 11.4]])"
   ]
  },
  {
   "cell_type": "markdown",
   "id": "1ab0016f-b52a-429e-884a-3511027b97ee",
   "metadata": {},
   "source": [
    "## Optional Type"
   ]
  },
  {
   "cell_type": "code",
   "execution_count": 53,
   "id": "57b17ad9-005b-4301-9056-ad3838bb0e26",
   "metadata": {},
   "outputs": [
    {
     "name": "stdout",
     "output_type": "stream",
     "text": [
      "False\n"
     ]
    }
   ],
   "source": [
    "def foo(output: Optional[bool]=False):\n",
    "    print(output)\n",
    "\n",
    "foo()"
   ]
  },
  {
   "cell_type": "code",
   "execution_count": null,
   "id": "8014e450-bda3-40a7-a6d3-a4b0bd70184f",
   "metadata": {},
   "outputs": [],
   "source": []
  }
 ],
 "metadata": {
  "kernelspec": {
   "display_name": "Python 3 (ipykernel)",
   "language": "python",
   "name": "python3"
  },
  "language_info": {
   "codemirror_mode": {
    "name": "ipython",
    "version": 3
   },
   "file_extension": ".py",
   "mimetype": "text/x-python",
   "name": "python",
   "nbconvert_exporter": "python",
   "pygments_lexer": "ipython3",
   "version": "3.11.4"
  }
 },
 "nbformat": 4,
 "nbformat_minor": 5
}
