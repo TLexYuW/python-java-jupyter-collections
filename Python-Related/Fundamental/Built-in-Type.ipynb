{
 "cells": [
  {
   "cell_type": "markdown",
   "id": "ed97cb9d-d5b5-4de2-8949-092ef3a5b232",
   "metadata": {},
   "source": [
    "# Import"
   ]
  },
  {
   "cell_type": "code",
   "execution_count": null,
   "id": "b651036d-46e9-418b-bea0-e952eb32f5f8",
   "metadata": {},
   "outputs": [],
   "source": []
  },
  {
   "cell_type": "markdown",
   "id": "45027b66-4f44-4941-bc2d-2d60d34bc123",
   "metadata": {},
   "source": [
    "---"
   ]
  },
  {
   "cell_type": "markdown",
   "id": "3e66c84c-8648-464d-a03b-97b5fcb50112",
   "metadata": {},
   "source": [
    "# TOC\n",
    "- [Docs](https://docs.python.org/3/library/stdtypes.html)\n",
    "- String\n",
    "    - `isalnum()`\n",
    "    - `isalpha()`\n",
    "    - `isdigit()`\n",
    "    - `upper`\n",
    "    - `lower`\n",
    "    - f_string\n",
    "        - Demo\n",
    "        - Demo2"
   ]
  },
  {
   "cell_type": "markdown",
   "id": "1819d060-e6e4-4661-b703-5a54df959a10",
   "metadata": {},
   "source": [
    "---"
   ]
  },
  {
   "cell_type": "markdown",
   "id": "9fd6513c-2a95-4b74-86f2-4cc5787dbc8c",
   "metadata": {},
   "source": [
    "# isalpha()"
   ]
  },
  {
   "cell_type": "code",
   "execution_count": 3,
   "id": "3375f3d2-b702-4c6a-b5ca-8a3f538783d3",
   "metadata": {},
   "outputs": [
    {
     "data": {
      "text/plain": [
       "True"
      ]
     },
     "execution_count": 3,
     "metadata": {},
     "output_type": "execute_result"
    }
   ],
   "source": [
    "s = \"test\"\n",
    "s.isalpha()"
   ]
  },
  {
   "cell_type": "code",
   "execution_count": 5,
   "id": "664cf521-01f8-4b6d-8f92-7b7d1e2fd2c8",
   "metadata": {},
   "outputs": [
    {
     "data": {
      "text/plain": [
       "False"
      ]
     },
     "execution_count": 5,
     "metadata": {},
     "output_type": "execute_result"
    }
   ],
   "source": [
    "n = \"123\"\n",
    "n.isalpha()"
   ]
  },
  {
   "cell_type": "markdown",
   "id": "984d78e2-46d5-4939-ac4a-87f9bbfc2ebb",
   "metadata": {},
   "source": [
    "---"
   ]
  },
  {
   "cell_type": "markdown",
   "id": "6330a318-ff41-4d68-a6ac-38d7c9f9693e",
   "metadata": {},
   "source": [
    "# isdigit()"
   ]
  },
  {
   "cell_type": "code",
   "execution_count": 9,
   "id": "622ce732-f2f6-4b4b-bdb1-9dc2b92e5306",
   "metadata": {},
   "outputs": [
    {
     "data": {
      "text/plain": [
       "True"
      ]
     },
     "execution_count": 9,
     "metadata": {},
     "output_type": "execute_result"
    }
   ],
   "source": [
    "txt = \"50800\"\n",
    "txt.isdigit()"
   ]
  },
  {
   "cell_type": "code",
   "execution_count": 8,
   "id": "e5c5b48c-c06c-45e5-acc0-658b6fb98fc3",
   "metadata": {},
   "outputs": [
    {
     "data": {
      "text/plain": [
       "False"
      ]
     },
     "execution_count": 8,
     "metadata": {},
     "output_type": "execute_result"
    }
   ],
   "source": [
    "t = \"test\"\n",
    "t.isdigit()"
   ]
  },
  {
   "cell_type": "markdown",
   "id": "2a4f49bb-dd43-41d7-aee8-d360586f961b",
   "metadata": {},
   "source": [
    "---"
   ]
  },
  {
   "cell_type": "markdown",
   "id": "a7ba8c60-908f-487a-bfb7-0e3b819f8155",
   "metadata": {},
   "source": [
    "# isalnum()"
   ]
  },
  {
   "cell_type": "code",
   "execution_count": 10,
   "id": "3d86a606-836c-4132-802e-1efe5a2357fd",
   "metadata": {},
   "outputs": [
    {
     "data": {
      "text/plain": [
       "True"
      ]
     },
     "execution_count": 10,
     "metadata": {},
     "output_type": "execute_result"
    }
   ],
   "source": [
    "txt = \"Company12\"\n",
    "txt.isalnum()"
   ]
  },
  {
   "cell_type": "code",
   "execution_count": 11,
   "id": "de2b1261-b716-465f-9f54-386eefa76e21",
   "metadata": {},
   "outputs": [
    {
     "data": {
      "text/plain": [
       "False"
      ]
     },
     "execution_count": 11,
     "metadata": {},
     "output_type": "execute_result"
    }
   ],
   "source": [
    "t = \"!@#!$\"\n",
    "t.isalnum()"
   ]
  },
  {
   "cell_type": "code",
   "execution_count": 15,
   "id": "b6ea8320-beb8-4cb3-87a3-d84d467e8c4a",
   "metadata": {},
   "outputs": [
    {
     "name": "stdout",
     "output_type": "stream",
     "text": [
      "False\n",
      "True\n"
     ]
    }
   ],
   "source": [
    "i, j = 'a', ' '\n",
    "print(not i.isalnum())\n",
    "print(not j.isalnum())"
   ]
  },
  {
   "cell_type": "code",
   "execution_count": 19,
   "id": "fb75a8d4-80b2-4f2f-a4c3-5d098294dd4c",
   "metadata": {},
   "outputs": [
    {
     "name": "stdout",
     "output_type": "stream",
     "text": [
      "10\n",
      "9\n"
     ]
    }
   ],
   "source": [
    "x = 10\n",
    "print(x - (not i.isalnum()))\n",
    "print(x - (not j.isalnum()))"
   ]
  },
  {
   "cell_type": "markdown",
   "id": "ec799539-2835-45f5-9470-8ea3cc368cb7",
   "metadata": {},
   "source": [
    "---"
   ]
  },
  {
   "cell_type": "markdown",
   "id": "49167b65-7d9d-43af-911a-57eee5aa8fca",
   "metadata": {},
   "source": [
    "# upper()"
   ]
  },
  {
   "cell_type": "code",
   "execution_count": 23,
   "id": "fbaba034-6600-4fea-8ef0-2b3828d2cce9",
   "metadata": {},
   "outputs": [
    {
     "name": "stdout",
     "output_type": "stream",
     "text": [
      "Uppercase String: HELLO, WORLD!\n"
     ]
    }
   ],
   "source": [
    "original_string = \"Hello, World!\"\n",
    "\n",
    "uppercase_string = original_string.upper()\n",
    "\n",
    "print(\"Uppercase String:\", uppercase_string)"
   ]
  },
  {
   "cell_type": "markdown",
   "id": "3c0c2522-12cb-4e9f-b64b-3b3a7a4482f7",
   "metadata": {},
   "source": [
    "---"
   ]
  },
  {
   "cell_type": "markdown",
   "id": "0940c8a0-cbdd-46a0-ab69-85639f00b59b",
   "metadata": {},
   "source": [
    "# `r''`"
   ]
  },
  {
   "cell_type": "code",
   "execution_count": 1,
   "id": "6874e98a-a8db-4635-b981-48e1cb70a671",
   "metadata": {},
   "outputs": [
    {
     "name": "stdout",
     "output_type": "stream",
     "text": [
      "That is \\'s xxxx.\n"
     ]
    }
   ],
   "source": [
    "print(r'That is \\'s xxxx.')"
   ]
  },
  {
   "cell_type": "markdown",
   "id": "f7e41589-3275-43f4-b7f3-48797d1b103f",
   "metadata": {},
   "source": [
    "---"
   ]
  },
  {
   "cell_type": "markdown",
   "id": "8b00d0d0-83b9-4864-b528-9a1cf2725f4f",
   "metadata": {},
   "source": [
    "# Triple quote"
   ]
  },
  {
   "cell_type": "code",
   "execution_count": 2,
   "id": "46700be0-0f65-4bf1-b586-68a86e9d7f1e",
   "metadata": {},
   "outputs": [
    {
     "name": "stdout",
     "output_type": "stream",
     "text": [
      "\n",
      "      triple quotes\n",
      "test\n",
      "      \n"
     ]
    }
   ],
   "source": [
    "print('''\n",
    "      triple quotes\n",
    "test\n",
    "      ''')"
   ]
  },
  {
   "cell_type": "markdown",
   "id": "70c81a57-aba0-4cee-91a4-6edd84bc9bb3",
   "metadata": {},
   "source": [
    "---"
   ]
  },
  {
   "cell_type": "markdown",
   "id": "3ab741c7-63d8-4214-a74c-97bb2c7c9e2e",
   "metadata": {},
   "source": [
    "# `[n]`"
   ]
  },
  {
   "cell_type": "code",
   "execution_count": 3,
   "id": "13bd7cc0-e6e4-46a9-b831-975cfd2f369a",
   "metadata": {},
   "outputs": [
    {
     "name": "stdout",
     "output_type": "stream",
     "text": [
      "H\n",
      "cats, rats, bats\n"
     ]
    }
   ],
   "source": [
    "s = 'Hello World'\n",
    "\n",
    "print(s[0])\n",
    "\n"
   ]
  },
  {
   "cell_type": "markdown",
   "id": "0fa258d2-b2e7-4c15-94f8-b66bd57b38bd",
   "metadata": {},
   "source": [
    "---"
   ]
  },
  {
   "cell_type": "markdown",
   "id": "908ba829-2cce-4e24-957f-fa2579cfca70",
   "metadata": {},
   "source": [
    "# `join()`"
   ]
  },
  {
   "cell_type": "code",
   "execution_count": 5,
   "id": "df9d3ea9-e862-4a5f-96fa-b8d9e8a397c8",
   "metadata": {},
   "outputs": [
    {
     "name": "stdout",
     "output_type": "stream",
     "text": [
      "cats, rats, bats\n"
     ]
    }
   ],
   "source": [
    "print(', '.join(['cats', 'rats', 'bats']))"
   ]
  },
  {
   "cell_type": "markdown",
   "id": "7e71b5b6-d7b4-4770-99dc-18e32c805c49",
   "metadata": {},
   "source": [
    "---"
   ]
  },
  {
   "cell_type": "markdown",
   "id": "6e1ec179-67f2-43fb-87b7-4d0129d1ab43",
   "metadata": {},
   "source": [
    "# `split()`"
   ]
  },
  {
   "cell_type": "code",
   "execution_count": 6,
   "id": "82c37210-e726-440a-91a3-8d7d31920155",
   "metadata": {},
   "outputs": [
    {
     "name": "stdout",
     "output_type": "stream",
     "text": [
      "['My', 'name', 'is', 'x']\n"
     ]
    }
   ],
   "source": [
    "print('My name is x'.split())"
   ]
  },
  {
   "cell_type": "markdown",
   "id": "521124f4-2b18-4e96-aadf-96518068b9d8",
   "metadata": {},
   "source": [
    "---"
   ]
  },
  {
   "cell_type": "markdown",
   "id": "f6b0788e-4e81-4552-8290-e0b6078c43be",
   "metadata": {},
   "source": [
    "# `rjust()`"
   ]
  },
  {
   "cell_type": "code",
   "execution_count": 7,
   "id": "1ed38b37-7dc8-4f05-9346-b33e70bce539",
   "metadata": {},
   "outputs": [
    {
     "name": "stdout",
     "output_type": "stream",
     "text": [
      "        hi\n",
      "                  hi\n"
     ]
    }
   ],
   "source": [
    "print('hi'.rjust(10))\n",
    "print('hi'.rjust(20))"
   ]
  },
  {
   "cell_type": "markdown",
   "id": "aab24051-31da-408c-9177-646d43a7e271",
   "metadata": {},
   "source": [
    "---"
   ]
  },
  {
   "cell_type": "markdown",
   "id": "5c09fd26-b64f-40ee-9577-5bb7cb1cd6a0",
   "metadata": {},
   "source": [
    "# `strip()`"
   ]
  },
  {
   "cell_type": "code",
   "execution_count": 8,
   "id": "14e389ab-2a78-478c-91aa-1c7803c1bd72",
   "metadata": {},
   "outputs": [
    {
     "name": "stdout",
     "output_type": "stream",
     "text": [
      "hi\n",
      "          hi\n",
      "hi                \n"
     ]
    }
   ],
   "source": [
    "s1 = '          hi                '\n",
    "print(s1.strip())\n",
    "print(s1.rstrip())\n",
    "print(s1.lstrip())"
   ]
  },
  {
   "cell_type": "markdown",
   "id": "a1797964-0ddd-4914-8441-cdba669002f1",
   "metadata": {},
   "source": [
    "---"
   ]
  },
  {
   "cell_type": "markdown",
   "id": "01086f8a-5520-4a90-8d86-c419cd790d8a",
   "metadata": {},
   "source": [
    "# `f''`"
   ]
  },
  {
   "cell_type": "code",
   "execution_count": 9,
   "id": "57df871a-83d9-4017-8c7a-a32da89eaa76",
   "metadata": {},
   "outputs": [
    {
     "name": "stdout",
     "output_type": "stream",
     "text": [
      "Hi abcde\n"
     ]
    }
   ],
   "source": [
    "n = 'abcde'\n",
    "print(f'Hi {n}')"
   ]
  },
  {
   "cell_type": "markdown",
   "id": "7da8975e-2bd6-4b08-b128-4bf3c19a1517",
   "metadata": {},
   "source": [
    "---"
   ]
  },
  {
   "cell_type": "markdown",
   "id": "7e6d5e1a-d1c3-4e61-a7f6-4c8f74c30482",
   "metadata": {},
   "source": [
    "# `sep=\"\",end=\"\"`"
   ]
  },
  {
   "cell_type": "code",
   "execution_count": 10,
   "id": "b4fd714e-f185-49a2-9bb1-7e83d10f64f6",
   "metadata": {},
   "outputs": [
    {
     "name": "stdout",
     "output_type": "stream",
     "text": [
      "H💖e💖l💖l💖o💖!💀\n",
      "World😀"
     ]
    }
   ],
   "source": [
    "print('H', 'e', 'l', 'l', 'o', '!', sep=\"💖\", end=\"💀\\n\")\n",
    "print(\"World\", end=\"😀\")"
   ]
  },
  {
   "cell_type": "markdown",
   "id": "3a52925a-bf56-4a4f-8d6a-4694c932260f",
   "metadata": {},
   "source": [
    "---"
   ]
  },
  {
   "cell_type": "markdown",
   "id": "2fbb6b8c-7206-4a13-b5b6-6043672ef1f7",
   "metadata": {},
   "source": [
    "# Demo"
   ]
  },
  {
   "cell_type": "code",
   "execution_count": 21,
   "id": "286afce2-e826-47f1-9866-80dea8dc6341",
   "metadata": {},
   "outputs": [
    {
     "name": "stdout",
     "output_type": "stream",
     "text": [
      "\n",
      "XXXXX has 3 coins left.\n",
      "\n",
      "XXXXX has 3 coins left.\n",
      "\n",
      "XXXXX has 3 coins left.\n",
      "\n",
      "XXXXX has 3 coins left.\n",
      "\n",
      "XXXXX has 3 coins left.\n",
      "\n",
      "L has 3 coins left.\n"
     ]
    }
   ],
   "source": [
    "person = \"XXXXX\"\n",
    "coins = 3\n",
    "\n",
    "print(\"\\n\" + person + \" has \" + str(coins) + \" coins left.\")\n",
    "\n",
    "message = \"\\n%s has %s coins left.\" % (person, coins)\n",
    "print(message)\n",
    "\n",
    "message = \"\\n{} has {} coins left.\".format(person, coins)\n",
    "print(message)\n",
    "\n",
    "message = \"\\n{1} has {0} coins left.\".format(coins, person)\n",
    "print(message)\n",
    "\n",
    "message = \"\\n{person} has {coins} coins left.\".format(coins=coins, person=person)\n",
    "print(message)\n",
    "\n",
    "player = {\"person\": \"L\", \"coins\": 3}\n",
    "\n",
    "\n",
    "message = \"\\n{person} has {coins} coins left.\".format(**player)\n",
    "print(message)"
   ]
  },
  {
   "cell_type": "code",
   "execution_count": 22,
   "id": "7e4ca187-6e38-48d7-9e1a-5a721604e3ab",
   "metadata": {},
   "outputs": [
    {
     "name": "stdout",
     "output_type": "stream",
     "text": [
      "\n",
      "XXXXX has 3 coins left.\n",
      "\n",
      "XXXXX has 1000 coins left.\n",
      "\n",
      "xxxxx has 3 coins left.\n",
      "\n",
      "l has 3 coins left.\n"
     ]
    }
   ],
   "source": [
    "message = f\"\\n{person} has {coins} coins left.\"\n",
    "print(message)\n",
    "\n",
    "message = f\"\\n{person} has {100 * 10} coins left.\"\n",
    "print(message)\n",
    "\n",
    "message = f\"\\n{person.lower()} has {coins} coins left.\"\n",
    "print(message)\n",
    "\n",
    "message = f\"\\n{str(player['person']).lower()} has {coins} coins left.\"\n",
    "print(message)"
   ]
  },
  {
   "cell_type": "markdown",
   "id": "9f370abc-3702-4f7f-8af0-0387c176d14d",
   "metadata": {},
   "source": [
    "---"
   ]
  },
  {
   "cell_type": "markdown",
   "id": "42d9984c-4db2-4369-88a6-21220d95ff13",
   "metadata": {},
   "source": [
    "# Demo2"
   ]
  },
  {
   "cell_type": "code",
   "execution_count": 18,
   "id": "3d853e8c-ef72-4239-a10e-09f0bee79c11",
   "metadata": {},
   "outputs": [
    {
     "name": "stdout",
     "output_type": "stream",
     "text": [
      "\n",
      "2.25 times 10 is 22.50\n"
     ]
    }
   ],
   "source": [
    "num = 10\n",
    "print(f\"\\n2.25 times {num} is {2.25 * num:.2f}\")"
   ]
  },
  {
   "cell_type": "code",
   "execution_count": 19,
   "id": "bcc8b3e2-63d4-4242-8536-d9abd2053e93",
   "metadata": {},
   "outputs": [
    {
     "name": "stdout",
     "output_type": "stream",
     "text": [
      "2.25 times 1 is 2.25\n",
      "2.25 times 2 is 4.50\n",
      "2.25 times 3 is 6.75\n",
      "2.25 times 4 is 9.00\n",
      "2.25 times 5 is 11.25\n",
      "2.25 times 6 is 13.50\n",
      "2.25 times 7 is 15.75\n",
      "2.25 times 8 is 18.00\n",
      "2.25 times 9 is 20.25\n",
      "2.25 times 10 is 22.50\n"
     ]
    }
   ],
   "source": [
    "for num in range(1, 11):\n",
    "    print(f\"2.25 times {num} is {2.25 * num:.2f}\")"
   ]
  },
  {
   "cell_type": "code",
   "execution_count": 20,
   "id": "e8f93d55-0ff6-42ff-9846-53103bead41f",
   "metadata": {},
   "outputs": [
    {
     "name": "stdout",
     "output_type": "stream",
     "text": [
      "1 divided by 4.52 is 22.12%\n",
      "2 divided by 4.52 is 44.25%\n",
      "3 divided by 4.52 is 66.37%\n",
      "4 divided by 4.52 is 88.50%\n",
      "5 divided by 4.52 is 110.62%\n",
      "6 divided by 4.52 is 132.74%\n",
      "7 divided by 4.52 is 154.87%\n",
      "8 divided by 4.52 is 176.99%\n",
      "9 divided by 4.52 is 199.12%\n",
      "10 divided by 4.52 is 221.24%\n"
     ]
    }
   ],
   "source": [
    "for num in range(1, 11):\n",
    "    print(f\"{num} divided by 4.52 is {num / 4.52:.2%}\")"
   ]
  },
  {
   "cell_type": "markdown",
   "id": "d86ee799-0b78-4327-a721-565864faab33",
   "metadata": {},
   "source": [
    "---"
   ]
  }
 ],
 "metadata": {
  "kernelspec": {
   "display_name": "Python 3 (ipykernel)",
   "language": "python",
   "name": "python3"
  },
  "language_info": {
   "codemirror_mode": {
    "name": "ipython",
    "version": 3
   },
   "file_extension": ".py",
   "mimetype": "text/x-python",
   "name": "python",
   "nbconvert_exporter": "python",
   "pygments_lexer": "ipython3",
   "version": "3.11.7"
  }
 },
 "nbformat": 4,
 "nbformat_minor": 5
}
