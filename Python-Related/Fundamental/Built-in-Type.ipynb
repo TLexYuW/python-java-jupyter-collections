{
 "cells": [
  {
   "cell_type": "markdown",
   "id": "3e66c84c-8648-464d-a03b-97b5fcb50112",
   "metadata": {},
   "source": [
    "# TOC\n",
    "- [Docs](https://docs.python.org/3/library/stdtypes.html)\n",
    "- String\n",
    "    - `isalnum()`\n",
    "    - `isalpha()`\n",
    "    - `isdigit()`"
   ]
  },
  {
   "cell_type": "markdown",
   "id": "1819d060-e6e4-4661-b703-5a54df959a10",
   "metadata": {},
   "source": [
    "---"
   ]
  },
  {
   "cell_type": "markdown",
   "id": "ed97cb9d-d5b5-4de2-8949-092ef3a5b232",
   "metadata": {},
   "source": [
    "# Import"
   ]
  },
  {
   "cell_type": "code",
   "execution_count": null,
   "id": "b651036d-46e9-418b-bea0-e952eb32f5f8",
   "metadata": {},
   "outputs": [],
   "source": []
  },
  {
   "cell_type": "markdown",
   "id": "45027b66-4f44-4941-bc2d-2d60d34bc123",
   "metadata": {},
   "source": [
    "---"
   ]
  },
  {
   "cell_type": "markdown",
   "id": "9fd6513c-2a95-4b74-86f2-4cc5787dbc8c",
   "metadata": {},
   "source": [
    "# isalpha()"
   ]
  },
  {
   "cell_type": "code",
   "execution_count": 3,
   "id": "3375f3d2-b702-4c6a-b5ca-8a3f538783d3",
   "metadata": {},
   "outputs": [
    {
     "data": {
      "text/plain": [
       "True"
      ]
     },
     "execution_count": 3,
     "metadata": {},
     "output_type": "execute_result"
    }
   ],
   "source": [
    "s = \"test\"\n",
    "s.isalpha()"
   ]
  },
  {
   "cell_type": "code",
   "execution_count": 5,
   "id": "664cf521-01f8-4b6d-8f92-7b7d1e2fd2c8",
   "metadata": {},
   "outputs": [
    {
     "data": {
      "text/plain": [
       "False"
      ]
     },
     "execution_count": 5,
     "metadata": {},
     "output_type": "execute_result"
    }
   ],
   "source": [
    "n = \"123\"\n",
    "n.isalpha()"
   ]
  },
  {
   "cell_type": "markdown",
   "id": "984d78e2-46d5-4939-ac4a-87f9bbfc2ebb",
   "metadata": {},
   "source": [
    "---"
   ]
  },
  {
   "cell_type": "markdown",
   "id": "6330a318-ff41-4d68-a6ac-38d7c9f9693e",
   "metadata": {},
   "source": [
    "# isdigit()"
   ]
  },
  {
   "cell_type": "code",
   "execution_count": 9,
   "id": "622ce732-f2f6-4b4b-bdb1-9dc2b92e5306",
   "metadata": {},
   "outputs": [
    {
     "data": {
      "text/plain": [
       "True"
      ]
     },
     "execution_count": 9,
     "metadata": {},
     "output_type": "execute_result"
    }
   ],
   "source": [
    "txt = \"50800\"\n",
    "txt.isdigit()"
   ]
  },
  {
   "cell_type": "code",
   "execution_count": 8,
   "id": "e5c5b48c-c06c-45e5-acc0-658b6fb98fc3",
   "metadata": {},
   "outputs": [
    {
     "data": {
      "text/plain": [
       "False"
      ]
     },
     "execution_count": 8,
     "metadata": {},
     "output_type": "execute_result"
    }
   ],
   "source": [
    "t = \"test\"\n",
    "t.isdigit()"
   ]
  },
  {
   "cell_type": "markdown",
   "id": "2a4f49bb-dd43-41d7-aee8-d360586f961b",
   "metadata": {},
   "source": [
    "---"
   ]
  },
  {
   "cell_type": "markdown",
   "id": "a7ba8c60-908f-487a-bfb7-0e3b819f8155",
   "metadata": {},
   "source": [
    "# isalnum()"
   ]
  },
  {
   "cell_type": "code",
   "execution_count": 10,
   "id": "3d86a606-836c-4132-802e-1efe5a2357fd",
   "metadata": {},
   "outputs": [
    {
     "data": {
      "text/plain": [
       "True"
      ]
     },
     "execution_count": 10,
     "metadata": {},
     "output_type": "execute_result"
    }
   ],
   "source": [
    "txt = \"Company12\"\n",
    "txt.isalnum()"
   ]
  },
  {
   "cell_type": "code",
   "execution_count": 11,
   "id": "de2b1261-b716-465f-9f54-386eefa76e21",
   "metadata": {},
   "outputs": [
    {
     "data": {
      "text/plain": [
       "False"
      ]
     },
     "execution_count": 11,
     "metadata": {},
     "output_type": "execute_result"
    }
   ],
   "source": [
    "t = \"!@#!$\"\n",
    "t.isalnum()"
   ]
  },
  {
   "cell_type": "code",
   "execution_count": 15,
   "id": "b6ea8320-beb8-4cb3-87a3-d84d467e8c4a",
   "metadata": {},
   "outputs": [
    {
     "name": "stdout",
     "output_type": "stream",
     "text": [
      "False\n",
      "True\n"
     ]
    }
   ],
   "source": [
    "i, j = 'a', ' '\n",
    "print(not i.isalnum())\n",
    "print(not j.isalnum())"
   ]
  },
  {
   "cell_type": "code",
   "execution_count": 19,
   "id": "fb75a8d4-80b2-4f2f-a4c3-5d098294dd4c",
   "metadata": {},
   "outputs": [
    {
     "name": "stdout",
     "output_type": "stream",
     "text": [
      "10\n",
      "9\n"
     ]
    }
   ],
   "source": [
    "x = 10\n",
    "print(x - (not i.isalnum()))\n",
    "print(x - (not j.isalnum()))"
   ]
  },
  {
   "cell_type": "code",
   "execution_count": null,
   "id": "9242e082-89df-451c-9de7-52ca2972372c",
   "metadata": {},
   "outputs": [],
   "source": []
  }
 ],
 "metadata": {
  "kernelspec": {
   "display_name": "Python 3 (ipykernel)",
   "language": "python",
   "name": "python3"
  },
  "language_info": {
   "codemirror_mode": {
    "name": "ipython",
    "version": 3
   },
   "file_extension": ".py",
   "mimetype": "text/x-python",
   "name": "python",
   "nbconvert_exporter": "python",
   "pygments_lexer": "ipython3",
   "version": "3.11.4"
  }
 },
 "nbformat": 4,
 "nbformat_minor": 5
}
