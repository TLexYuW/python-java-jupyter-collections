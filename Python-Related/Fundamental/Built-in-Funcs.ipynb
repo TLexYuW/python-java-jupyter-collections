{
 "cells": [
  {
   "cell_type": "markdown",
   "id": "3570980b-a928-4c2a-b1b7-5171f417e6b1",
   "metadata": {},
   "source": [
    "# TOC\r\n",
    "- [Docs](https://docs.python.org/3/library/functions.html)\r\n",
    "- A\r\n",
    "    - [abs()](#abs)\r\n",
    "    - [aiter()](#aiter)\r\n",
    "    - [all()](#all)\r\n",
    "    - [anext()](#anext)\r\n",
    "    - [any()](#any)\r\n",
    "    - [ascii()](#ascii)\r\n",
    "- B\r\n",
    "    - [bin()](#bin)\r\n",
    "    - [bool()](#bool)\r\n",
    "    - [breakpoint()](#breakpoint)\r\n",
    "    - [bytearray()](#bytearray)\r\n",
    "    - [bytes()](#bytes)\r\n",
    "- C\r\n",
    "    - [callable()](#callable)\r\n",
    "    - [chr()](#chr)\r\n",
    "    - [classmethod()](#classmethod)\r\n",
    "    - [compile()](#compile)\r\n",
    "    - [complex()](#complex)\r\n",
    "- D\r\n",
    "    - [delattr()](#delattr)\r\n",
    "    - [dict()](#dict)\r\n",
    "    - [dir()](#dir)\r\n",
    "    - [divmod()](#divmod)\r\n",
    "- E\r\n",
    "    - [enumerate()](#enumerate)\r\n",
    "    - [eval()](#eval)\r\n",
    "    - [exec()](#exec)\r\n",
    "- F\r\n",
    "    - [filter()](#filter)\r\n",
    "    - [float()](#float)\r\n",
    "    - [format()](#format)\r\n",
    "    - [frozenset()](#frozenset)\r\n",
    "- G\r\n",
    "    - [getattr()](#getattr)\r\n",
    "    - [globals()](#globals)\r\n",
    "- H\r\n",
    "    - [hasattr()](#hasattr)\r\n",
    "    - [hash()](#hash)\r\n",
    "    - [help()](#help)\r\n",
    "    - [hex()](#hex)\r\n",
    "- I\r\n",
    "    - [id()](#id)\r\n",
    "    - [input()](#input)\r\n",
    "    - [int()](#int)\r\n",
    "    - [isinstance()](#isinstance)\r\n",
    "    - [issubclass()](#issubclass)\r\n",
    "    - [iter()](#iter)\r\n",
    "- L\r\n",
    "    - [len()](#len)\r\n",
    "    - [list()](#list)\r\n",
    "    - [locals()](#locals)\r\n",
    "- M\r\n",
    "    - [map()](#map)\r\n",
    "    - [max()](#max)\r\n",
    "    - [memoryview()](#memoryview)\r\n",
    "    - [min()](#min)\r\n",
    "- N\r\n",
    "    - [next()](#next)\r\n",
    "- O\r\n",
    "    - [object()](#object)\r\n",
    "    - [oct()](#oct)\r\n",
    "    - [open()](#open)\r\n",
    "    - [ord()](#ord)\r\n",
    "- P\r\n",
    "    - [pow()](#pow)\r\n",
    "    - [print()](#print)\r\n",
    "    - [property()](#property)\r\n",
    "- R\r\n",
    "    - [range()](#range)\r\n",
    "    - [repr()](#repr)\r\n",
    "    - [reversed()](#reversed)\r\n",
    "    - [round()](#round)\r\n",
    "- S\r\n",
    "    - [set()](#set)\r\n",
    "    - [setattr()](#setattr)\r\n",
    "    - [slice()](#slice)\r\n",
    "    - [sorted()](#sorted)\r\n",
    "    - [staticmethod()](#staticmethod)\r\n",
    "    - [str()](#str)\r\n",
    "    - [sum()](#sum)\r\n",
    "    - [super()](#super)\r\n"
   ]
  },
  {
   "cell_type": "markdown",
   "id": "1819d060-e6e4-4661-b703-5a54df959a10",
   "metadata": {},
   "source": [
    "---"
   ]
  },
  {
   "cell_type": "markdown",
   "id": "ed97cb9d-d5b5-4de2-8949-092ef3a5b232",
   "metadata": {},
   "source": [
    "# Import"
   ]
  },
  {
   "cell_type": "code",
   "execution_count": null,
   "id": "b651036d-46e9-418b-bea0-e952eb32f5f8",
   "metadata": {},
   "outputs": [],
   "source": []
  },
  {
   "cell_type": "markdown",
   "id": "45027b66-4f44-4941-bc2d-2d60d34bc123",
   "metadata": {},
   "source": [
    "---"
   ]
  },
  {
   "cell_type": "markdown",
   "id": "4ba6fb83-fbf7-4d7c-a2c2-2e30afcc8942",
   "metadata": {},
   "source": [
    "# A"
   ]
  },
  {
   "cell_type": "markdown",
   "id": "5339af7c-dbb9-4d8f-b25d-89afc6e9e358",
   "metadata": {},
   "source": [
    "### abs"
   ]
  },
  {
   "cell_type": "markdown",
   "id": "56084280-49bf-465d-83a3-1f530d6a3b33",
   "metadata": {},
   "source": [
    "### aiter"
   ]
  },
  {
   "cell_type": "markdown",
   "id": "17537d1c-0f33-44aa-947b-b5f4770293c6",
   "metadata": {},
   "source": [
    "### all"
   ]
  },
  {
   "cell_type": "markdown",
   "id": "08820e95-90ee-4aa3-82a6-f230f6821c61",
   "metadata": {},
   "source": [
    "### anext"
   ]
  },
  {
   "cell_type": "markdown",
   "id": "4e926133-3836-4ef1-a1f4-8e3dc7ecb070",
   "metadata": {},
   "source": [
    "### any"
   ]
  },
  {
   "cell_type": "markdown",
   "id": "250c53fe-73fa-45cb-a887-bac99399a025",
   "metadata": {},
   "source": [
    "### ascii"
   ]
  },
  {
   "cell_type": "markdown",
   "id": "74b92a25-ccc2-401a-ad0c-81c1ee3ab22a",
   "metadata": {},
   "source": [
    "---"
   ]
  },
  {
   "cell_type": "markdown",
   "id": "0db1edc3-046e-4f85-9753-7c4ecb040a89",
   "metadata": {},
   "source": [
    "# B"
   ]
  },
  {
   "cell_type": "markdown",
   "id": "e9858d87-f9cf-4215-9e5d-66d3782d4e84",
   "metadata": {},
   "source": [
    "### bin"
   ]
  },
  {
   "cell_type": "markdown",
   "id": "f6825560-f222-42ea-9ee7-d0b16003eaae",
   "metadata": {},
   "source": [
    "### bool"
   ]
  },
  {
   "cell_type": "markdown",
   "id": "fc23181b-040c-4a97-aa1a-e401aeaec922",
   "metadata": {},
   "source": [
    "### breakpoint"
   ]
  },
  {
   "cell_type": "markdown",
   "id": "69a8af77-c270-4114-b0a8-aaa63021ba92",
   "metadata": {},
   "source": [
    "### bytearray"
   ]
  },
  {
   "cell_type": "markdown",
   "id": "cea22c9c-c101-4845-b616-3ee32182335b",
   "metadata": {},
   "source": [
    "### bytes"
   ]
  },
  {
   "cell_type": "markdown",
   "id": "3771a1dc-e822-4447-b79b-bb564ad51cb0",
   "metadata": {},
   "source": [
    "---"
   ]
  },
  {
   "cell_type": "markdown",
   "id": "5e6df34b-b116-499e-9ce5-2bc05e87c4da",
   "metadata": {},
   "source": [
    "# C"
   ]
  },
  {
   "cell_type": "markdown",
   "id": "e8e0ae5a-7b84-4990-bae4-971b6998b362",
   "metadata": {},
   "source": [
    "### callable"
   ]
  },
  {
   "cell_type": "markdown",
   "id": "bd54db36-616e-4a09-8580-853971dd8cbb",
   "metadata": {},
   "source": [
    "### chr"
   ]
  },
  {
   "cell_type": "markdown",
   "id": "8da226b6-f03f-45db-b5af-2e8c9df8452c",
   "metadata": {},
   "source": [
    "### classmethod"
   ]
  },
  {
   "cell_type": "markdown",
   "id": "8f818045-8e78-4d82-a4ab-7e22d2cfdfa1",
   "metadata": {},
   "source": [
    "### compile"
   ]
  },
  {
   "cell_type": "markdown",
   "id": "5e7dd510-d373-41d6-9344-0762aa81130a",
   "metadata": {},
   "source": [
    "### complex"
   ]
  },
  {
   "cell_type": "markdown",
   "id": "2f1695ea-e1a9-4d6e-8aa0-2080e82c2a3a",
   "metadata": {},
   "source": [
    "---"
   ]
  },
  {
   "cell_type": "markdown",
   "id": "11736339-47ff-4831-8e8c-8c6925a5a6e9",
   "metadata": {},
   "source": [
    "# D"
   ]
  },
  {
   "cell_type": "markdown",
   "id": "7911ec89-572f-4533-8231-55b24a831f9d",
   "metadata": {},
   "source": [
    "### delattr"
   ]
  },
  {
   "cell_type": "markdown",
   "id": "f37384a9-0e1e-4f08-933b-8c0230894843",
   "metadata": {},
   "source": [
    "### dict"
   ]
  },
  {
   "cell_type": "markdown",
   "id": "f10d11ed-2c24-46d2-8908-24bea8ab4733",
   "metadata": {},
   "source": [
    "### dir"
   ]
  },
  {
   "cell_type": "markdown",
   "id": "31a2a7ce-2f3a-4174-97fa-61318103727f",
   "metadata": {},
   "source": [
    "### divmod"
   ]
  },
  {
   "cell_type": "markdown",
   "id": "c2df580b-c9d0-469a-829c-c8374ce2c776",
   "metadata": {},
   "source": [
    "---"
   ]
  },
  {
   "cell_type": "markdown",
   "id": "4bd38cbf-024e-44b1-b8e9-4ca82e93e957",
   "metadata": {},
   "source": [
    "# E"
   ]
  },
  {
   "cell_type": "markdown",
   "id": "a6f26172-7038-4c4e-8653-ec7e6fbf77e3",
   "metadata": {},
   "source": [
    "### enumerate"
   ]
  },
  {
   "cell_type": "markdown",
   "id": "998b26b0-a456-4aea-8dfb-a1feb2ec0542",
   "metadata": {},
   "source": [
    "### eval"
   ]
  },
  {
   "cell_type": "markdown",
   "id": "2f1d9a40-dfef-4972-b0f2-4df92d6824c4",
   "metadata": {},
   "source": [
    "### exec"
   ]
  },
  {
   "cell_type": "markdown",
   "id": "907de13c-ae93-4c25-a0d4-18462dca753c",
   "metadata": {},
   "source": [
    "---"
   ]
  },
  {
   "cell_type": "markdown",
   "id": "385942cd-59cb-4720-b151-1fb298681d78",
   "metadata": {},
   "source": [
    "# F"
   ]
  },
  {
   "cell_type": "markdown",
   "id": "4ff281f5-3ecf-4f41-84c7-f4e68c382e65",
   "metadata": {},
   "source": [
    "### filter"
   ]
  },
  {
   "cell_type": "markdown",
   "id": "a1fc8cbf-4c9c-4490-8267-6f847ba3fdf6",
   "metadata": {},
   "source": [
    "### float"
   ]
  },
  {
   "cell_type": "markdown",
   "id": "794fe59a-acb2-4ff3-b5a3-3988d33f0030",
   "metadata": {},
   "source": [
    "### format"
   ]
  },
  {
   "cell_type": "markdown",
   "id": "f152b7eb-4bec-4948-9e5e-566a6f1b49f8",
   "metadata": {},
   "source": [
    "### frozenset"
   ]
  },
  {
   "cell_type": "markdown",
   "id": "c6fe7edf-c082-4925-9504-6d0f80f022a6",
   "metadata": {},
   "source": [
    "---"
   ]
  },
  {
   "cell_type": "markdown",
   "id": "e7ff27e5-ddc4-4f85-9d3f-6353f5813427",
   "metadata": {},
   "source": [
    "# G"
   ]
  },
  {
   "cell_type": "markdown",
   "id": "e221d285-5d45-494b-9b4b-251c0302eac8",
   "metadata": {},
   "source": [
    "### getattr"
   ]
  },
  {
   "cell_type": "markdown",
   "id": "ab18beb6-f36b-4116-9dab-1427ca29db33",
   "metadata": {},
   "source": [
    "### globals"
   ]
  },
  {
   "cell_type": "markdown",
   "id": "2ad33f52-94ea-451a-ad57-0bf1ee28d422",
   "metadata": {},
   "source": [
    "---"
   ]
  },
  {
   "cell_type": "markdown",
   "id": "1d5147c2-9078-4b3e-a95f-3d1e414da40d",
   "metadata": {},
   "source": [
    "# H"
   ]
  },
  {
   "cell_type": "markdown",
   "id": "0cdf2e67-c531-47af-aa99-59cf508bb0da",
   "metadata": {},
   "source": [
    "### hasattr"
   ]
  },
  {
   "cell_type": "markdown",
   "id": "32791427-3a59-4f16-af5a-38334a90e383",
   "metadata": {},
   "source": [
    "### hash"
   ]
  },
  {
   "cell_type": "markdown",
   "id": "7e5f325d-656d-441c-b3c6-5204976e1fd3",
   "metadata": {},
   "source": [
    "### help"
   ]
  },
  {
   "cell_type": "markdown",
   "id": "6d6a79e5-faed-4aee-813e-6d91dfad756a",
   "metadata": {},
   "source": [
    "### hex"
   ]
  },
  {
   "cell_type": "markdown",
   "id": "a45c23f6-27cd-4a6e-a591-5c6c09fc8bb8",
   "metadata": {},
   "source": [
    "---"
   ]
  },
  {
   "cell_type": "markdown",
   "id": "840e89e2-66a4-4ed8-b0e7-d58b0565b9b9",
   "metadata": {},
   "source": [
    "# I"
   ]
  },
  {
   "cell_type": "markdown",
   "id": "3907fa4b-b386-4e53-9517-17187b298b8f",
   "metadata": {},
   "source": [
    "### id"
   ]
  },
  {
   "cell_type": "markdown",
   "id": "94bbe2d6-d700-4109-a27f-6856c12a1b76",
   "metadata": {},
   "source": [
    "### input"
   ]
  },
  {
   "cell_type": "markdown",
   "id": "bcbb496f-3ac8-4cdf-a00f-3bd60eee75d8",
   "metadata": {},
   "source": [
    "### int"
   ]
  },
  {
   "cell_type": "markdown",
   "id": "51bdff52-174d-45cb-a7a3-cad6b7e55841",
   "metadata": {},
   "source": [
    "### isinstance"
   ]
  },
  {
   "cell_type": "markdown",
   "id": "9448630d-7b81-4132-bc56-c057ecd6d94e",
   "metadata": {},
   "source": [
    "### issubclass"
   ]
  },
  {
   "cell_type": "markdown",
   "id": "d30dd160-008d-4fa5-ba0a-31f3aa0087cc",
   "metadata": {},
   "source": [
    "### iter"
   ]
  },
  {
   "cell_type": "markdown",
   "id": "dee018e8-7249-44c4-a661-e7537c5b2fea",
   "metadata": {},
   "source": [
    "---"
   ]
  },
  {
   "cell_type": "markdown",
   "id": "4b8a8918-f9b5-4c43-96df-790d939042d9",
   "metadata": {},
   "source": [
    "# L"
   ]
  },
  {
   "cell_type": "markdown",
   "id": "010ec3ca-d0db-49e2-876d-72d6c935cf3b",
   "metadata": {},
   "source": [
    "### len"
   ]
  },
  {
   "cell_type": "markdown",
   "id": "8d53b4df-3c58-46fe-b24d-d38139f1a3b7",
   "metadata": {},
   "source": [
    "### list"
   ]
  },
  {
   "cell_type": "markdown",
   "id": "1b9381ce-c079-48b6-add4-ebf5198ef50e",
   "metadata": {},
   "source": [
    "### locals"
   ]
  },
  {
   "cell_type": "markdown",
   "id": "50fa98f0-602f-4753-bff6-720e667cf795",
   "metadata": {},
   "source": [
    "---"
   ]
  },
  {
   "cell_type": "markdown",
   "id": "78964513-095e-4864-9317-8df0d948a15d",
   "metadata": {},
   "source": [
    "# M"
   ]
  },
  {
   "cell_type": "markdown",
   "id": "c416cbf3-759e-49b8-98d8-d87f7397c9ad",
   "metadata": {},
   "source": [
    "### map"
   ]
  },
  {
   "cell_type": "markdown",
   "id": "98babe29-45c4-4697-bc95-96f4f99279ad",
   "metadata": {},
   "source": [
    "### max"
   ]
  },
  {
   "cell_type": "markdown",
   "id": "3b9f9534-90c7-4247-a548-7082032da478",
   "metadata": {},
   "source": [
    "### memoryview"
   ]
  },
  {
   "cell_type": "markdown",
   "id": "45146677-a94a-4901-8bc5-bfd87127f277",
   "metadata": {},
   "source": [
    "### min"
   ]
  },
  {
   "cell_type": "markdown",
   "id": "08a0019b-af80-40c4-afdf-0c770e84df78",
   "metadata": {},
   "source": [
    "---"
   ]
  },
  {
   "cell_type": "markdown",
   "id": "eecbf5a4-bedc-4d0e-9fd9-3534ba03b939",
   "metadata": {},
   "source": [
    "# N"
   ]
  },
  {
   "cell_type": "markdown",
   "id": "92cada06-f304-4d29-bbbc-def7d4a769ef",
   "metadata": {},
   "source": [
    "### next"
   ]
  },
  {
   "cell_type": "markdown",
   "id": "12a8942c-c4bf-4680-90f2-a90ddf34b2f4",
   "metadata": {},
   "source": [
    "---"
   ]
  },
  {
   "cell_type": "markdown",
   "id": "c0384a43-ed14-4a62-9157-ee2b9dd7e62a",
   "metadata": {},
   "source": [
    "# O"
   ]
  },
  {
   "cell_type": "markdown",
   "id": "93eac729-0368-4376-82d0-4803c333076d",
   "metadata": {},
   "source": [
    "### object"
   ]
  },
  {
   "cell_type": "markdown",
   "id": "167cd723-91aa-4da2-a83d-9e863a3d1ba9",
   "metadata": {},
   "source": [
    "### oct"
   ]
  },
  {
   "cell_type": "markdown",
   "id": "f32ac7e4-2b6c-4d31-823a-412548d0b863",
   "metadata": {},
   "source": [
    "### open"
   ]
  },
  {
   "cell_type": "markdown",
   "id": "a0939b0c-b00e-45e0-b691-308ff4692d7a",
   "metadata": {},
   "source": [
    "### ord"
   ]
  },
  {
   "cell_type": "markdown",
   "id": "9b13d119-a738-4484-8f22-52ac429cb56b",
   "metadata": {},
   "source": [
    "---"
   ]
  },
  {
   "cell_type": "markdown",
   "id": "f1da6ae6-1174-4083-a664-8e228276d7fb",
   "metadata": {},
   "source": [
    "# P"
   ]
  },
  {
   "cell_type": "markdown",
   "id": "aa9b8685-fc92-4115-8722-ca200571f061",
   "metadata": {},
   "source": [
    "### pow"
   ]
  },
  {
   "cell_type": "markdown",
   "id": "6d8f4dae-f32f-4bf5-9bda-3845273e15b6",
   "metadata": {},
   "source": [
    "### print"
   ]
  },
  {
   "cell_type": "markdown",
   "id": "ac17d0ca-cac8-48c3-9646-78230dffb317",
   "metadata": {},
   "source": [
    "### property"
   ]
  },
  {
   "cell_type": "markdown",
   "id": "032f97be-3fb3-4efe-bcbc-a8be36b551e3",
   "metadata": {},
   "source": [
    "---"
   ]
  },
  {
   "cell_type": "markdown",
   "id": "48577059-63b9-4b62-926a-f7afb780a4c1",
   "metadata": {},
   "source": [
    "---"
   ]
  },
  {
   "cell_type": "markdown",
   "id": "5d0c3e43-ec03-4ef1-9603-5bed67519b39",
   "metadata": {},
   "source": [
    "---"
   ]
  },
  {
   "cell_type": "markdown",
   "id": "7831cc1e-504d-4a6c-b6a8-ca14b224c086",
   "metadata": {},
   "source": [
    "# R"
   ]
  },
  {
   "cell_type": "markdown",
   "id": "4a36d3da-9d6f-494b-a3c8-f65b0f3d68bf",
   "metadata": {},
   "source": [
    "### `range`\n",
    "> Off-by-one error"
   ]
  },
  {
   "cell_type": "code",
   "execution_count": 13,
   "id": "8428e8d5-7091-4a71-832d-b4afdfa557fb",
   "metadata": {},
   "outputs": [
    {
     "name": "stdout",
     "output_type": "stream",
     "text": [
      "1\n",
      "2\n",
      "3\n",
      "4\n"
     ]
    }
   ],
   "source": [
    "for i in range(1, 5):\n",
    "    print(i)"
   ]
  },
  {
   "cell_type": "code",
   "execution_count": 14,
   "id": "5864f402-87da-405b-95ac-e7723a9f5e13",
   "metadata": {},
   "outputs": [
    {
     "name": "stdout",
     "output_type": "stream",
     "text": [
      "0\n",
      "2\n",
      "4\n",
      "6\n",
      "8\n"
     ]
    }
   ],
   "source": [
    "# Start + Stop + Step\n",
    "for i in range(0, 10, 2):\n",
    "    print(i)"
   ]
  },
  {
   "cell_type": "code",
   "execution_count": 15,
   "id": "d7e83338-2403-4ffa-8329-357f61526de7",
   "metadata": {},
   "outputs": [
    {
     "name": "stdout",
     "output_type": "stream",
     "text": [
      "4\n",
      "2\n"
     ]
    }
   ],
   "source": [
    "for i in range(4, 0, -2):\n",
    "    print(i)"
   ]
  },
  {
   "cell_type": "markdown",
   "id": "216a7688-8d09-4588-a5d1-c4a1bd8eb881",
   "metadata": {},
   "source": [
    "### repr"
   ]
  },
  {
   "cell_type": "markdown",
   "id": "8f6732dd-78d7-4764-bd2a-8b31f139965d",
   "metadata": {},
   "source": [
    "### reversed"
   ]
  },
  {
   "cell_type": "markdown",
   "id": "237857a4-9b74-46b9-ba02-e84ff0f2255e",
   "metadata": {},
   "source": [
    "### round"
   ]
  },
  {
   "cell_type": "markdown",
   "id": "c7097743-766e-41b9-930d-e8ab45b1849b",
   "metadata": {},
   "source": [
    "---"
   ]
  },
  {
   "cell_type": "markdown",
   "id": "c0e91ba1-9cb7-4bde-9151-f41329978e30",
   "metadata": {},
   "source": [
    "# S"
   ]
  },
  {
   "cell_type": "markdown",
   "id": "5e56752f-c57c-42ea-be5a-6de93aab4ef5",
   "metadata": {},
   "source": [
    "### set"
   ]
  },
  {
   "cell_type": "markdown",
   "id": "d65bc13d-a051-4e03-abab-df50dafeb12d",
   "metadata": {},
   "source": [
    "### setattr"
   ]
  },
  {
   "cell_type": "markdown",
   "id": "13b04145-bbd9-430c-8498-8421162457ef",
   "metadata": {},
   "source": [
    "### slice"
   ]
  },
  {
   "cell_type": "markdown",
   "id": "207eb3e2-8152-47f8-ac4e-afd0fac5a933",
   "metadata": {},
   "source": [
    "### sorted"
   ]
  },
  {
   "cell_type": "markdown",
   "id": "2d1b7f13-7b4e-4eae-a4c5-67b39a9c16e8",
   "metadata": {},
   "source": [
    "### staticmethod"
   ]
  },
  {
   "cell_type": "markdown",
   "id": "56c5588d-7b40-4ecd-8018-14bfd20c79a6",
   "metadata": {},
   "source": [
    "### str"
   ]
  },
  {
   "cell_type": "markdown",
   "id": "ecc97f41-5abe-4e3c-8533-cdf9c09ffdb3",
   "metadata": {},
   "source": [
    "### sum"
   ]
  },
  {
   "cell_type": "markdown",
   "id": "9dfaf20b-7ac8-4ebb-b1e7-5ed138dc0337",
   "metadata": {},
   "source": [
    "### super"
   ]
  },
  {
   "cell_type": "markdown",
   "id": "60f26da9-098e-4c11-a3bc-1896b6370633",
   "metadata": {},
   "source": [
    "---"
   ]
  },
  {
   "cell_type": "markdown",
   "id": "283629f5-24ce-4f91-b70a-b5a86ee93438",
   "metadata": {},
   "source": [
    "# T"
   ]
  },
  {
   "cell_type": "markdown",
   "id": "c07fa435-4b02-477c-a8b9-e51470caf950",
   "metadata": {},
   "source": [
    "### tuple"
   ]
  },
  {
   "cell_type": "markdown",
   "id": "15655248-acfa-417d-8658-ec662c637fc4",
   "metadata": {},
   "source": [
    "### type"
   ]
  },
  {
   "cell_type": "markdown",
   "id": "f941ce8e-1c9f-499d-966e-31f084532fa7",
   "metadata": {},
   "source": [
    "---"
   ]
  },
  {
   "cell_type": "markdown",
   "id": "18074e00-d3d6-464d-aa58-de4dfdf8fa7e",
   "metadata": {},
   "source": [
    "# V"
   ]
  },
  {
   "cell_type": "markdown",
   "id": "a590539c-3351-4453-9ec0-9a49de991447",
   "metadata": {},
   "source": [
    "### vars\n"
   ]
  },
  {
   "cell_type": "markdown",
   "id": "0a35e1fa-aa8f-4385-b12c-79ffc610047b",
   "metadata": {},
   "source": [
    "---"
   ]
  },
  {
   "cell_type": "markdown",
   "id": "a73127e7-a1d0-48a3-babd-f6103646dd4c",
   "metadata": {},
   "source": [
    "# Z"
   ]
  },
  {
   "cell_type": "markdown",
   "id": "be8ef221-3ec6-484f-891e-00410aeec7a5",
   "metadata": {},
   "source": [
    "### zip"
   ]
  },
  {
   "cell_type": "markdown",
   "id": "2c6428a1-3a44-43b3-907e-27b755c16f36",
   "metadata": {},
   "source": [
    "### import"
   ]
  },
  {
   "cell_type": "markdown",
   "id": "9868d3a7-a2ad-4214-bf75-389ac3c198af",
   "metadata": {},
   "source": [
    "---"
   ]
  },
  {
   "cell_type": "code",
   "execution_count": null,
   "id": "e02cdb40-1bf4-416f-ac36-42ccb63eeb09",
   "metadata": {},
   "outputs": [],
   "source": []
  }
 ],
 "metadata": {
  "kernelspec": {
   "display_name": "Python 3 (ipykernel)",
   "language": "python",
   "name": "python3"
  },
  "language_info": {
   "codemirror_mode": {
    "name": "ipython",
    "version": 3
   },
   "file_extension": ".py",
   "mimetype": "text/x-python",
   "name": "python",
   "nbconvert_exporter": "python",
   "pygments_lexer": "ipython3",
   "version": "3.11.4"
  },
  "widgets": {
   "application/vnd.jupyter.widget-state+json": {
    "state": {},
    "version_major": 2,
    "version_minor": 0
   }
  }
 },
 "nbformat": 4,
 "nbformat_minor": 5
}
