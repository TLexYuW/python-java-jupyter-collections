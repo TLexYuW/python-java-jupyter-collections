{
 "cells": [
  {
   "cell_type": "markdown",
   "id": "2d254378-8b6a-40b8-a50c-0e95b0a4b2af",
   "metadata": {},
   "source": [
    "# TOC\n",
    "- [Docs](https://docs.python.org/3/library/functions.html)\r\n",
    "- A\r\n",
    "    - abs()\r\n",
    "    - aiter()\r\n",
    "    - all()\r\n",
    "    - anext()\r\n",
    "    - any()\r\n",
    "    - ascii()\r\n",
    "- B\r\n",
    "    - bin()\r\n",
    "    - bool()\r\n",
    "    - breakpoint()\r\n",
    "    - bytearray()\r\n",
    "    - bytes()\r\n",
    "- C\r\n",
    "    - callable()\r\n",
    "    - chr()\r\n",
    "    - classmethod()\r\n",
    "    - compile()\r\n",
    "    - complex()\r\n",
    "- D\r\n",
    "    - delattr()\r\n",
    "    - dict()\r\n",
    "    - dir()\r\n",
    "    - divmod()\r\n",
    "- E\r\n",
    "    - enumerate()\r\n",
    "    - eval()\r\n",
    "    - exec()\r\n",
    "- F\r\n",
    "    - filter()\r\n",
    "    - float()\r\n",
    "    - format()\r\n",
    "    - frozenset()\r\n",
    "- G\r\n",
    "    - getattr()\r\n",
    "    - globals()\r\n",
    "- H\r\n",
    "    - hasattr()\r\n",
    "    - hash()\r\n",
    "    - help()\r\n",
    "    - hex()\r\n",
    "- I\r\n",
    "    - id()\r\n",
    "    - input()\r\n",
    "    - int()\r\n",
    "    - isinstance()\r\n",
    "    - issubclass()\r\n",
    "    - iter()\r\n",
    "- L\r\n",
    "    - len()\r\n",
    "    - list()\r\n",
    "    - locals()\r\n",
    "- M\r\n",
    "    - map()\r\n",
    "    - max()\r\n",
    "    - memoryview()\r\n",
    "    - min()\r\n",
    "- N\r\n",
    "    - next()\r\n",
    "- O\r\n",
    "    - object()\r\n",
    "    - oct()\r\n",
    "    - open()\r\n",
    "    - ord()\r\n",
    "- P\r\n",
    "    - pow()\r\n",
    "    - print()\r\n",
    "    - property()\r\n",
    "- R\r\n",
    "    - [range()](#range())\r\n",
    "    - repr()\r\n",
    "    - reversed()\r\n",
    "    - round()\r\n",
    "- S\r\n",
    "    - set()\r\n",
    "    - setattr()\r\n",
    "    - slice()\r\n",
    "    - sorted()\r\n",
    "    - staticmethod()\r\n",
    "    - str()\r\n",
    "    - sum()\r\n",
    "    - super()\r\n",
    "- T\r\n",
    "    - tuple()\r\n",
    "    - type()\r\n",
    "- V\r\n",
    "    - vars()\r\n",
    "- Z\r\n",
    "    - zip()\r\n",
    "    - __import__()"
   ]
  },
  {
   "cell_type": "markdown",
   "id": "1819d060-e6e4-4661-b703-5a54df959a10",
   "metadata": {},
   "source": [
    "---"
   ]
  },
  {
   "cell_type": "markdown",
   "id": "ed97cb9d-d5b5-4de2-8949-092ef3a5b232",
   "metadata": {},
   "source": [
    "# Import"
   ]
  },
  {
   "cell_type": "code",
   "execution_count": null,
   "id": "b651036d-46e9-418b-bea0-e952eb32f5f8",
   "metadata": {},
   "outputs": [],
   "source": []
  },
  {
   "cell_type": "markdown",
   "id": "45027b66-4f44-4941-bc2d-2d60d34bc123",
   "metadata": {},
   "source": [
    "---"
   ]
  },
  {
   "cell_type": "markdown",
   "id": "4ba6fb83-fbf7-4d7c-a2c2-2e30afcc8942",
   "metadata": {},
   "source": [
    "# `range()`\n",
    "> Off-by-one error"
   ]
  },
  {
   "cell_type": "code",
   "execution_count": 6,
   "id": "8428e8d5-7091-4a71-832d-b4afdfa557fb",
   "metadata": {},
   "outputs": [
    {
     "name": "stdout",
     "output_type": "stream",
     "text": [
      "1\n",
      "2\n",
      "3\n",
      "4\n"
     ]
    }
   ],
   "source": [
    "for i in range(1, 5):\n",
    "    print(i)"
   ]
  },
  {
   "cell_type": "code",
   "execution_count": 7,
   "id": "5864f402-87da-405b-95ac-e7723a9f5e13",
   "metadata": {},
   "outputs": [
    {
     "name": "stdout",
     "output_type": "stream",
     "text": [
      "0\n",
      "2\n",
      "4\n",
      "6\n",
      "8\n"
     ]
    }
   ],
   "source": [
    "# Start + Stop + Step\n",
    "for i in range(0, 10, 2):\n",
    "    print(i)"
   ]
  },
  {
   "cell_type": "code",
   "execution_count": 8,
   "id": "d7e83338-2403-4ffa-8329-357f61526de7",
   "metadata": {},
   "outputs": [
    {
     "name": "stdout",
     "output_type": "stream",
     "text": [
      "4\n",
      "2\n"
     ]
    }
   ],
   "source": [
    "for i in range(4, 0, -2):\n",
    "    print(i)"
   ]
  },
  {
   "cell_type": "code",
   "execution_count": null,
   "id": "0b134905-3a63-4f3f-a8a9-6d3501b02d0d",
   "metadata": {},
   "outputs": [],
   "source": []
  }
 ],
 "metadata": {
  "kernelspec": {
   "display_name": "Python 3 (ipykernel)",
   "language": "python",
   "name": "python3"
  },
  "language_info": {
   "codemirror_mode": {
    "name": "ipython",
    "version": 3
   },
   "file_extension": ".py",
   "mimetype": "text/x-python",
   "name": "python",
   "nbconvert_exporter": "python",
   "pygments_lexer": "ipython3",
   "version": "3.11.4"
  }
 },
 "nbformat": 4,
 "nbformat_minor": 5
}
