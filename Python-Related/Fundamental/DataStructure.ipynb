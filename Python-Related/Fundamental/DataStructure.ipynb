{
 "cells": [
  {
   "cell_type": "markdown",
   "id": "f5445324-896e-43df-b40c-25a541cb6c15",
   "metadata": {},
   "source": [
    "# TOC"
   ]
  },
  {
   "cell_type": "markdown",
   "id": "a201cce0-e5f1-42c5-b5e1-b366d8551745",
   "metadata": {},
   "source": [
    "- [List](#List)\n",
    "    - `[]` \n",
    "- [Set](#Set)\n",
    "    - `{}`\n",
    "- [Tuples](#Tuples)\n",
    "    - `()`\n",
    "- [Dictionary](#Dictionary)\n",
    "    - `{'key': 'value'}`"
   ]
  },
  {
   "cell_type": "markdown",
   "id": "b19960d1-daa3-4e4b-a968-509f06d8bce8",
   "metadata": {},
   "source": [
    "---"
   ]
  },
  {
   "cell_type": "markdown",
   "id": "80abfbfd-b690-4afd-9645-870b92dc8d38",
   "metadata": {},
   "source": [
    "# Template"
   ]
  },
  {
   "cell_type": "markdown",
   "id": "373abb6f-c2cd-4dfc-a1f4-35d02d5b8e12",
   "metadata": {
    "jp-MarkdownHeadingCollapsed": true
   },
   "source": [
    "#### Demo"
   ]
  },
  {
   "cell_type": "code",
   "execution_count": 38,
   "id": "99a94279-5f3e-4f21-bf62-1807f2591fd5",
   "metadata": {},
   "outputs": [],
   "source": [
    "# Code"
   ]
  },
  {
   "cell_type": "markdown",
   "id": "50b8bc8f-a2d1-4079-a610-d9fd86b65760",
   "metadata": {},
   "source": [
    "---"
   ]
  },
  {
   "cell_type": "markdown",
   "id": "ecb3f70e-ce44-4331-999d-ace07aca13cc",
   "metadata": {
    "jp-MarkdownHeadingCollapsed": true
   },
   "source": [
    "# List"
   ]
  },
  {
   "cell_type": "markdown",
   "id": "8dd2bf8a-ff13-4c20-9fc3-057658c043f9",
   "metadata": {},
   "source": [
    "#### Demo"
   ]
  },
  {
   "cell_type": "code",
   "execution_count": 39,
   "id": "320c0451-6cf7-41ab-8618-471c52136c54",
   "metadata": {},
   "outputs": [],
   "source": [
    "l = [\"cat\", \"bat\", \"rat\", \"elephant\"]"
   ]
  },
  {
   "cell_type": "code",
   "execution_count": 40,
   "id": "4f55104c-cd4b-41de-a247-33a5da5180e6",
   "metadata": {},
   "outputs": [
    {
     "data": {
      "text/plain": [
       "'elephant'"
      ]
     },
     "execution_count": 40,
     "metadata": {},
     "output_type": "execute_result"
    }
   ],
   "source": [
    "l[-1]"
   ]
  },
  {
   "cell_type": "code",
   "execution_count": 41,
   "id": "538e8e3b-2fb9-46e3-8d97-82ba21a0528f",
   "metadata": {},
   "outputs": [
    {
     "data": {
      "text/plain": [
       "['cat', 'bat', 'rat', 'elephant']"
      ]
     },
     "execution_count": 41,
     "metadata": {},
     "output_type": "execute_result"
    }
   ],
   "source": [
    "l[0:4]"
   ]
  },
  {
   "cell_type": "code",
   "execution_count": 42,
   "id": "24721555-e3e1-415f-9814-7783754ac10b",
   "metadata": {},
   "outputs": [
    {
     "data": {
      "text/plain": [
       "['bat', 'rat']"
      ]
     },
     "execution_count": 42,
     "metadata": {},
     "output_type": "execute_result"
    }
   ],
   "source": [
    "l[1:3]"
   ]
  },
  {
   "cell_type": "code",
   "execution_count": 43,
   "id": "5038bfe0-bd77-4cdf-a6ee-3a0381723c1b",
   "metadata": {},
   "outputs": [
    {
     "data": {
      "text/plain": [
       "['cat', 'bat', 'rat']"
      ]
     },
     "execution_count": 43,
     "metadata": {},
     "output_type": "execute_result"
    }
   ],
   "source": [
    "l[0:-1]"
   ]
  },
  {
   "cell_type": "code",
   "execution_count": 44,
   "id": "3533a59f-6e5d-4189-825e-a45cb193c07b",
   "metadata": {},
   "outputs": [
    {
     "data": {
      "text/plain": [
       "['cat', 'rat']"
      ]
     },
     "execution_count": 44,
     "metadata": {},
     "output_type": "execute_result"
    }
   ],
   "source": [
    "l[::2]"
   ]
  },
  {
   "cell_type": "markdown",
   "id": "07ed398a-338e-4cbc-ba77-10f53f52799c",
   "metadata": {},
   "source": [
    "###### Copy"
   ]
  },
  {
   "cell_type": "code",
   "execution_count": 45,
   "id": "ecf21f18-7a47-42fa-b8ad-11298d6a8573",
   "metadata": {},
   "outputs": [
    {
     "data": {
      "text/plain": [
       "['cat', 'bat', 'rat', 'elephant']"
      ]
     },
     "execution_count": 45,
     "metadata": {},
     "output_type": "execute_result"
    }
   ],
   "source": [
    "l2 = l[:]\n",
    "l2"
   ]
  },
  {
   "cell_type": "markdown",
   "id": "e08defcc-2c6b-4876-9712-7e98c5a57979",
   "metadata": {},
   "source": [
    "###### Append"
   ]
  },
  {
   "cell_type": "code",
   "execution_count": 46,
   "id": "8a4ca9a0-1884-4d89-99e3-5d7462d1302e",
   "metadata": {},
   "outputs": [
    {
     "data": {
      "text/plain": [
       "['cat', 'bat', 'rat', 'elephant', 'dog']"
      ]
     },
     "execution_count": 46,
     "metadata": {},
     "output_type": "execute_result"
    }
   ],
   "source": [
    "l2.append(\"dog\")\n",
    "l2"
   ]
  },
  {
   "cell_type": "code",
   "execution_count": 47,
   "id": "9e92e641-7aaf-45fa-b1e7-8923403002c2",
   "metadata": {},
   "outputs": [
    {
     "data": {
      "text/plain": [
       "['cat', 'bat', 'elephant', 'dog']"
      ]
     },
     "execution_count": 47,
     "metadata": {},
     "output_type": "execute_result"
    }
   ],
   "source": [
    "del l2[2]\n",
    "l2"
   ]
  },
  {
   "cell_type": "markdown",
   "id": "a42f4f3d-a170-4ed8-98a6-3f4a2c91b5ea",
   "metadata": {},
   "source": [
    "---"
   ]
  },
  {
   "cell_type": "markdown",
   "id": "268a7826-9d3c-4401-9249-ffb1080a4c95",
   "metadata": {},
   "source": [
    "#### Demo"
   ]
  },
  {
   "cell_type": "code",
   "execution_count": 48,
   "id": "f1aeb264-aa54-407f-88ce-571420ce5ffb",
   "metadata": {},
   "outputs": [],
   "source": [
    "supplies = [\"pens\", \"staples\", \"flame-throwers\", \"binders\"]"
   ]
  },
  {
   "cell_type": "code",
   "execution_count": 49,
   "id": "7f1bd81e-8bd2-43c8-8511-f84e10547769",
   "metadata": {},
   "outputs": [
    {
     "name": "stdout",
     "output_type": "stream",
     "text": [
      "Index 0 in supplies is : pens\n",
      "Index 1 in supplies is : staples\n",
      "Index 2 in supplies is : flame-throwers\n",
      "Index 3 in supplies is : binders\n"
     ]
    }
   ],
   "source": [
    "for i, supply in enumerate(supplies):\n",
    "    print(\"Index {} in supplies is : {}\".format(str(i), supply))"
   ]
  },
  {
   "cell_type": "markdown",
   "id": "30fc209a-cefa-4a58-bffe-512f7836db28",
   "metadata": {},
   "source": [
    "---"
   ]
  },
  {
   "cell_type": "markdown",
   "id": "d077fe44-a4e5-4183-a8ff-a678fe35ae80",
   "metadata": {},
   "source": [
    "#### Demo"
   ]
  },
  {
   "cell_type": "code",
   "execution_count": 50,
   "id": "0d98065a-a89e-41da-a118-7a481760ecb2",
   "metadata": {},
   "outputs": [],
   "source": [
    "names = [\"P\", \"J\", \"E\"]\n",
    "ages = [6, 33, 44]"
   ]
  },
  {
   "cell_type": "code",
   "execution_count": 51,
   "id": "5949a72e-aefd-471a-b9d1-fc81156aa481",
   "metadata": {},
   "outputs": [
    {
     "name": "stdout",
     "output_type": "stream",
     "text": [
      "P is 6 years old\n",
      "J is 33 years old\n",
      "E is 44 years old\n"
     ]
    }
   ],
   "source": [
    "for n, a in zip(names, ages):\n",
    "    print(\"{} is {} years old\".format(n, a))"
   ]
  },
  {
   "cell_type": "code",
   "execution_count": 52,
   "id": "a3735242-d4e9-412e-ae3c-96229a2ebcba",
   "metadata": {},
   "outputs": [
    {
     "name": "stdout",
     "output_type": "stream",
     "text": [
      "True\n"
     ]
    }
   ],
   "source": [
    "print(\"P\" in names)"
   ]
  },
  {
   "cell_type": "markdown",
   "id": "233c8f67-49a2-402f-bac6-6b8d68d8483a",
   "metadata": {},
   "source": [
    "---"
   ]
  },
  {
   "cell_type": "markdown",
   "id": "1807853c-5e3e-4e43-a92e-7f86c7c3484a",
   "metadata": {},
   "source": [
    "#### Demo\n"
   ]
  },
  {
   "cell_type": "code",
   "execution_count": 53,
   "id": "f90102f0-81e7-4041-b059-5c8b4d9b656d",
   "metadata": {},
   "outputs": [
    {
     "data": {
      "text/plain": [
       "[1, 2, 3, 'A', 'B', 'C']"
      ]
     },
     "execution_count": 53,
     "metadata": {},
     "output_type": "execute_result"
    }
   ],
   "source": [
    "[1, 2, 3] + [\"A\", \"B\", \"C\"]"
   ]
  },
  {
   "cell_type": "code",
   "execution_count": 54,
   "id": "dda4d269-b7d9-4dce-9334-3235d5850b2d",
   "metadata": {},
   "outputs": [
    {
     "data": {
      "text/plain": [
       "['x', 'y', 'z', 'x', 'y', 'z', 'x', 'y', 'z']"
      ]
     },
     "execution_count": 54,
     "metadata": {},
     "output_type": "execute_result"
    }
   ],
   "source": [
    "[\"x\", \"y\", \"z\"] * 3"
   ]
  },
  {
   "cell_type": "markdown",
   "id": "59c1cb8a-16cd-4923-8f4a-136b0a7ed68e",
   "metadata": {},
   "source": [
    "---"
   ]
  },
  {
   "cell_type": "markdown",
   "id": "20386351-0cf8-40bb-8d30-62a58c965829",
   "metadata": {},
   "source": [
    "#### Demo"
   ]
  },
  {
   "cell_type": "code",
   "execution_count": 55,
   "id": "9a715336-dc5a-4dd7-aded-d46c79ae2114",
   "metadata": {},
   "outputs": [],
   "source": [
    "v = [\"f\", \"o\", \"l\"]\n",
    "q, w, e = v"
   ]
  },
  {
   "cell_type": "code",
   "execution_count": 56,
   "id": "1f130e2b-c21f-4e83-bd53-f3f50319af8c",
   "metadata": {},
   "outputs": [
    {
     "name": "stdout",
     "output_type": "stream",
     "text": [
      "f\n",
      "o\n",
      "l\n"
     ]
    }
   ],
   "source": [
    "print(q)\n",
    "print(w)\n",
    "print(e)"
   ]
  },
  {
   "cell_type": "code",
   "execution_count": 57,
   "id": "2f730019-1cc2-4952-89e1-608e4c515dcb",
   "metadata": {},
   "outputs": [
    {
     "data": {
      "text/plain": [
       "['f', 'test', 'o', 'l']"
      ]
     },
     "execution_count": 57,
     "metadata": {},
     "output_type": "execute_result"
    }
   ],
   "source": [
    "v.insert(1, \"test\")\n",
    "v"
   ]
  },
  {
   "cell_type": "code",
   "execution_count": 58,
   "id": "c5d48c9a-1bd2-46d6-8199-ec191189461d",
   "metadata": {},
   "outputs": [
    {
     "data": {
      "text/plain": [
       "['f', 'o', 'l']"
      ]
     },
     "execution_count": 58,
     "metadata": {},
     "output_type": "execute_result"
    }
   ],
   "source": [
    "v.remove(\"test\")\n",
    "v"
   ]
  },
  {
   "cell_type": "code",
   "execution_count": 59,
   "id": "b455a030-e2a7-47b8-8386-842460b58e12",
   "metadata": {},
   "outputs": [
    {
     "data": {
      "text/plain": [
       "['f', 'l', 'o']"
      ]
     },
     "execution_count": 59,
     "metadata": {},
     "output_type": "execute_result"
    }
   ],
   "source": [
    "v.sort()\n",
    "v"
   ]
  },
  {
   "cell_type": "code",
   "execution_count": 60,
   "id": "43eddf67-dc2c-4b14-ac5c-1f3b5aa14727",
   "metadata": {},
   "outputs": [
    {
     "data": {
      "text/plain": [
       "['o', 'l', 'f']"
      ]
     },
     "execution_count": 60,
     "metadata": {},
     "output_type": "execute_result"
    }
   ],
   "source": [
    "v.sort(reverse=True)\n",
    "v"
   ]
  },
  {
   "cell_type": "code",
   "execution_count": 61,
   "id": "710d4819-c938-4b9e-83e9-0f5e32c0e241",
   "metadata": {},
   "outputs": [
    {
     "data": {
      "text/plain": [
       "['f', 'l', 'o']"
      ]
     },
     "execution_count": 61,
     "metadata": {},
     "output_type": "execute_result"
    }
   ],
   "source": [
    "sorted(v)"
   ]
  },
  {
   "cell_type": "markdown",
   "id": "2325ab94-cb53-4c9d-9b10-40c31a750b28",
   "metadata": {},
   "source": [
    "---"
   ]
  },
  {
   "cell_type": "markdown",
   "id": "a4e2bfe0-ca1a-41b4-a5c6-30e05823d2c3",
   "metadata": {},
   "source": [
    "#### Demo"
   ]
  },
  {
   "cell_type": "code",
   "execution_count": 62,
   "id": "e9478831-3307-4aa2-a335-32d4f7248031",
   "metadata": {},
   "outputs": [],
   "source": [
    "a, b = \"Alice\", \"Bob\"\n",
    "a, b = b, a"
   ]
  },
  {
   "cell_type": "code",
   "execution_count": 63,
   "id": "7babab74-e6fd-48c9-85c8-3aa025142e1a",
   "metadata": {},
   "outputs": [
    {
     "data": {
      "text/plain": [
       "'Bob'"
      ]
     },
     "execution_count": 63,
     "metadata": {},
     "output_type": "execute_result"
    }
   ],
   "source": [
    "a"
   ]
  },
  {
   "cell_type": "code",
   "execution_count": 64,
   "id": "eae021a2-df3e-44f3-a013-4b6b4929a4f8",
   "metadata": {},
   "outputs": [
    {
     "data": {
      "text/plain": [
       "'Alice'"
      ]
     },
     "execution_count": 64,
     "metadata": {},
     "output_type": "execute_result"
    }
   ],
   "source": [
    "b"
   ]
  },
  {
   "cell_type": "markdown",
   "id": "fc56ceb0-0b37-4d01-b1c1-c86a51b1e922",
   "metadata": {},
   "source": [
    "---"
   ]
  },
  {
   "cell_type": "markdown",
   "id": "7221cde9-59d1-4b13-9218-42092afc2612",
   "metadata": {
    "jp-MarkdownHeadingCollapsed": true
   },
   "source": [
    "# Set"
   ]
  },
  {
   "cell_type": "markdown",
   "id": "6520d6a1-c25f-4613-b0b3-22c53c7ce244",
   "metadata": {},
   "source": [
    "#### Demo"
   ]
  },
  {
   "cell_type": "code",
   "execution_count": 65,
   "id": "c04d393c-4da7-4b9f-9086-f0f5181b1267",
   "metadata": {
    "editable": true,
    "slideshow": {
     "slide_type": ""
    },
    "tags": []
   },
   "outputs": [
    {
     "data": {
      "text/plain": [
       "{1, 2, 3}"
      ]
     },
     "execution_count": 65,
     "metadata": {},
     "output_type": "execute_result"
    }
   ],
   "source": [
    "{1, 2, 3}"
   ]
  },
  {
   "cell_type": "code",
   "execution_count": 66,
   "id": "0487d8e0-b97e-471f-b495-52102aeda09f",
   "metadata": {},
   "outputs": [
    {
     "data": {
      "text/plain": [
       "{4, 5, 6}"
      ]
     },
     "execution_count": 66,
     "metadata": {},
     "output_type": "execute_result"
    }
   ],
   "source": [
    "set([4, 5, 6])"
   ]
  },
  {
   "cell_type": "code",
   "execution_count": 67,
   "id": "6153359f-27cb-40da-b481-979413880341",
   "metadata": {},
   "outputs": [
    {
     "data": {
      "text/plain": [
       "{1, 2, 3, 4, 5}"
      ]
     },
     "execution_count": 67,
     "metadata": {},
     "output_type": "execute_result"
    }
   ],
   "source": [
    "s = {1, 1, 2, 2, 3, 3, 4, 4, 5, 5}\n",
    "s"
   ]
  },
  {
   "cell_type": "markdown",
   "id": "b9f79d27-5d2b-4f16-b7ad-4880bea234dd",
   "metadata": {},
   "source": [
    "- update"
   ]
  },
  {
   "cell_type": "code",
   "execution_count": 68,
   "id": "f4860227-6aa2-405b-8b8b-7d38f951ae82",
   "metadata": {},
   "outputs": [
    {
     "data": {
      "text/plain": [
       "{1, 2, 3, 4, 5, 6, 7, 8, 9, 10}"
      ]
     },
     "execution_count": 68,
     "metadata": {},
     "output_type": "execute_result"
    }
   ],
   "source": [
    "s.update([6,7,8,9,10,1,2,3,4,5])\n",
    "s"
   ]
  },
  {
   "cell_type": "markdown",
   "id": "f13bdcb9-807e-44ab-8e99-d96b8a9f1e5b",
   "metadata": {},
   "source": [
    "- remove"
   ]
  },
  {
   "cell_type": "code",
   "execution_count": 69,
   "id": "5b8b1261-93c3-40e8-8db9-cf61b475ab0c",
   "metadata": {},
   "outputs": [
    {
     "data": {
      "text/plain": [
       "{1, 2, 3, 4, 5, 6, 7, 8, 9}"
      ]
     },
     "execution_count": 69,
     "metadata": {},
     "output_type": "execute_result"
    }
   ],
   "source": [
    "s.remove(10)\n",
    "s"
   ]
  },
  {
   "cell_type": "markdown",
   "id": "353b58fb-f328-48b9-8b21-6fb4e70f8799",
   "metadata": {},
   "source": [
    "- discard"
   ]
  },
  {
   "cell_type": "code",
   "execution_count": 71,
   "id": "ba3804af-c92e-4f45-bcde-92ebcc733ff5",
   "metadata": {},
   "outputs": [
    {
     "data": {
      "text/plain": [
       "{1, 2, 3, 4, 5, 6, 7, 8, 9}"
      ]
     },
     "execution_count": 71,
     "metadata": {},
     "output_type": "execute_result"
    }
   ],
   "source": [
    "s.discard(10)\n",
    "s"
   ]
  },
  {
   "cell_type": "markdown",
   "id": "f1738a03-8466-441a-b929-df19df997e8a",
   "metadata": {},
   "source": [
    "- union"
   ]
  },
  {
   "cell_type": "code",
   "execution_count": 72,
   "id": "07ed6df8-cd46-4e70-afe7-72cee383c03e",
   "metadata": {},
   "outputs": [
    {
     "data": {
      "text/plain": [
       "{4, 5, 6, 'a', 'b', 'c'}"
      ]
     },
     "execution_count": 72,
     "metadata": {},
     "output_type": "execute_result"
    }
   ],
   "source": [
    "s1 = {'a','b','c'}\n",
    "s2 = {4,5,6}\n",
    "mix = s1.union(s2)\n",
    "mix"
   ]
  },
  {
   "cell_type": "markdown",
   "id": "66b3b623-6a36-467b-83db-abb8a576d519",
   "metadata": {},
   "source": [
    "- difference"
   ]
  },
  {
   "cell_type": "code",
   "execution_count": 73,
   "id": "f50bac98-b1c7-4472-aecd-e4f8009637af",
   "metadata": {},
   "outputs": [
    {
     "data": {
      "text/plain": [
       "{1, 2, 3, 7, 8, 9}"
      ]
     },
     "execution_count": 73,
     "metadata": {},
     "output_type": "execute_result"
    }
   ],
   "source": [
    "s.difference(s2)"
   ]
  },
  {
   "cell_type": "markdown",
   "id": "baf51b5c-c1e8-4b81-9c89-bcb456eb14f3",
   "metadata": {},
   "source": [
    "- symmetric_difference"
   ]
  },
  {
   "cell_type": "code",
   "execution_count": 75,
   "id": "22b899f2-b0d7-43a9-9339-9ade19f7b927",
   "metadata": {},
   "outputs": [
    {
     "data": {
      "text/plain": [
       "{1, 4}"
      ]
     },
     "execution_count": 75,
     "metadata": {},
     "output_type": "execute_result"
    }
   ],
   "source": [
    "s3 = {1,2,3}\n",
    "s4 = {2,3,4}\n",
    "s3.symmetric_difference(s4)"
   ]
  },
  {
   "cell_type": "markdown",
   "id": "894f7cca-5788-47a3-9853-3a13a9154907",
   "metadata": {},
   "source": [
    "---"
   ]
  },
  {
   "cell_type": "markdown",
   "id": "53dd016c-24c1-4d68-8e62-913b9a69eaf3",
   "metadata": {},
   "source": [
    "# Tuples"
   ]
  },
  {
   "cell_type": "markdown",
   "id": "983a0dfd-aa35-42b3-a126-06bd84fa62af",
   "metadata": {},
   "source": [
    "#### Demo"
   ]
  },
  {
   "cell_type": "code",
   "execution_count": 81,
   "id": "02cbef2b-96e7-4e82-9261-02787f3f2d39",
   "metadata": {},
   "outputs": [],
   "source": [
    "eg = ('Hello', 42 , 1.5)"
   ]
  },
  {
   "cell_type": "code",
   "execution_count": 80,
   "id": "293bc98f-39e9-44d9-9f48-a2847e8ed2fa",
   "metadata": {},
   "outputs": [
    {
     "data": {
      "text/plain": [
       "(42, 1.5)"
      ]
     },
     "execution_count": 80,
     "metadata": {},
     "output_type": "execute_result"
    }
   ],
   "source": [
    "eg[1:3]"
   ]
  },
  {
   "cell_type": "code",
   "execution_count": 79,
   "id": "73e55dda-20c0-422d-8db4-3fc4eb30187e",
   "metadata": {},
   "outputs": [
    {
     "data": {
      "text/plain": [
       "3"
      ]
     },
     "execution_count": 79,
     "metadata": {},
     "output_type": "execute_result"
    }
   ],
   "source": [
    "len(eg)"
   ]
  },
  {
   "cell_type": "code",
   "execution_count": 78,
   "id": "c0675e8a-f3fc-44f8-91ca-01e3463c3cf3",
   "metadata": {},
   "outputs": [
    {
     "data": {
      "text/plain": [
       "('cat', 'dog', 5)"
      ]
     },
     "execution_count": 78,
     "metadata": {},
     "output_type": "execute_result"
    }
   ],
   "source": [
    "tuple(['cat', 'dog', 5])"
   ]
  },
  {
   "cell_type": "code",
   "execution_count": 77,
   "id": "47259cff-e6d4-4ac7-b6db-4367b0ecab0f",
   "metadata": {},
   "outputs": [
    {
     "data": {
      "text/plain": [
       "['cat', 'dog', 5]"
      ]
     },
     "execution_count": 77,
     "metadata": {},
     "output_type": "execute_result"
    }
   ],
   "source": [
    "list(('cat', 'dog', 5))"
   ]
  },
  {
   "cell_type": "markdown",
   "id": "955e231b-fa50-4341-95f1-5beeeb4da0c8",
   "metadata": {},
   "source": [
    "---"
   ]
  },
  {
   "cell_type": "markdown",
   "id": "d16ac5c1-d6eb-49d7-a70f-559dc3e42d48",
   "metadata": {},
   "source": [
    "# Dictionary"
   ]
  },
  {
   "cell_type": "markdown",
   "id": "d23ee623-0845-400c-b24a-bd64db6c1874",
   "metadata": {},
   "source": [
    "#### Demo"
   ]
  },
  {
   "cell_type": "code",
   "execution_count": null,
   "id": "34a30f7f-2be3-411e-9627-6aee0717652d",
   "metadata": {},
   "outputs": [],
   "source": []
  },
  {
   "cell_type": "markdown",
   "id": "414c1bdd-f289-4b77-9324-9dab416b1054",
   "metadata": {},
   "source": [
    "---"
   ]
  }
 ],
 "metadata": {
  "kernelspec": {
   "display_name": "Python 3 (ipykernel)",
   "language": "python",
   "name": "python3"
  },
  "language_info": {
   "codemirror_mode": {
    "name": "ipython",
    "version": 3
   },
   "file_extension": ".py",
   "mimetype": "text/x-python",
   "name": "python",
   "nbconvert_exporter": "python",
   "pygments_lexer": "ipython3",
   "version": "3.11.7"
  },
  "widgets": {
   "application/vnd.jupyter.widget-state+json": {
    "state": {},
    "version_major": 2,
    "version_minor": 0
   }
  }
 },
 "nbformat": 4,
 "nbformat_minor": 5
}
