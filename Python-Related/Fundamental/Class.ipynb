{
 "cells": [
  {
   "cell_type": "markdown",
   "id": "e4f7cfd4-1498-4065-93d3-ac50901eb5db",
   "metadata": {},
   "source": [
    "# TOC"
   ]
  },
  {
   "cell_type": "markdown",
   "id": "a72ba075-afc6-447e-9cb9-78a63231a7e3",
   "metadata": {},
   "source": [
    "- [Class](#Class)"
   ]
  },
  {
   "cell_type": "markdown",
   "id": "dd416bac-4c44-4bd6-befc-a6badd643dda",
   "metadata": {},
   "source": [
    "---"
   ]
  },
  {
   "cell_type": "markdown",
   "id": "a350b999-9aa8-4166-82fc-e06dd2a961d7",
   "metadata": {},
   "source": [
    "# Import"
   ]
  },
  {
   "cell_type": "code",
   "execution_count": 3,
   "id": "b2c14752-d03c-4365-b6ab-dcbc81e470c9",
   "metadata": {},
   "outputs": [],
   "source": [
    "from typing import Self"
   ]
  },
  {
   "cell_type": "markdown",
   "id": "a31be4ea-2564-427b-954d-7c9ea68bfc59",
   "metadata": {},
   "source": [
    "---"
   ]
  },
  {
   "cell_type": "markdown",
   "id": "cdd80967-efea-4405-91ca-cb2d3da3faa8",
   "metadata": {},
   "source": [
    "# Claass\n",
    "- OOP"
   ]
  },
  {
   "cell_type": "markdown",
   "id": "8a53b3b8-ae96-47b7-aaab-69ab446a4361",
   "metadata": {},
   "source": [
    "#### Demo"
   ]
  },
  {
   "cell_type": "code",
   "execution_count": 11,
   "id": "7cb660c6-975a-4ecf-8e56-ba4b81f96b64",
   "metadata": {},
   "outputs": [],
   "source": [
    "class BalanceException(Exception):\n",
    "    pass\n",
    "\n",
    "\n",
    "class BankAccount:\n",
    "    def __init__(self, initialAmmount, acctName) -> Self:\n",
    "        self.balance = initialAmmount\n",
    "        self.name = acctName\n",
    "        print(f\"\\nAccount {self.name} created.\\nBalance = {self.balance:.2f}\")\n",
    "\n",
    "    def getBalance(self):\n",
    "        print(f\"\\nAccount {self.name} balance = ${self.balance:.2f}\")\n",
    "\n",
    "    def deposite(self, amount):\n",
    "        self.balance = self.balance + amount\n",
    "        print(\"\\nDeposite complete.\")\n",
    "        self.getBalance()\n",
    "\n",
    "    def viableTransaction(self, amount):\n",
    "        if self.balance >= amount:\n",
    "            return\n",
    "        else:\n",
    "            raise BalanceException(\n",
    "                f\"\\n😿 Sorry, account '{self.name}' only has a balance of ${self.balance:.2f}\"\n",
    "            )\n",
    "\n",
    "    def withdraw(self, amount):\n",
    "        try:\n",
    "            self.viableTransaction(amount)\n",
    "            self.balance = self.balance - amount\n",
    "            print(\"\\nWithdraw complete. ✅\")\n",
    "            self.getBalance()\n",
    "        except BalanceException as error:\n",
    "            print(f\"\\nWithdraw interrupted ❌: {error}\")\n",
    "\n",
    "    def transfer(self, amount, account):\n",
    "        try:\n",
    "            print(\"\\n---------------------\\n\\nBeginning Transfer...💰\")\n",
    "            self.viableTransaction(amount)\n",
    "            self.withdraw(amount)\n",
    "            account.deposite(amount)\n",
    "            print(\"\\nTransfer complete! ✅\\n\\n---------------------\")\n",
    "        except BalanceException as error:\n",
    "            print(f\"\\nTransfer interrupted ❌: {error}\")\n",
    "\n",
    "\n",
    "class InterestRewardsAcct(BankAccount):\n",
    "    def deposite(self, amount):\n",
    "        self.balance = self.balance + (amount * 1.05)\n",
    "        print(\"\\nDeposit complete. ✅\")\n",
    "        self.getBalance()\n",
    "\n",
    "\n",
    "class SavingsAcct(InterestRewardsAcct):\n",
    "    def __init__(self, initialAmmount, acctName) -> Self:\n",
    "        super().__init__(initialAmmount, acctName)\n",
    "        self.fee = 5\n",
    "\n",
    "    def withdraw(self, amount):\n",
    "        try:\n",
    "            self.viableTransaction(amount + self.fee)\n",
    "            self.balance = self.balance - (amount + self.fee)\n",
    "            print(f\"\\nWithdraw complete ✅, and Fee is ${self.fee}.\")\n",
    "            self.getBalance()\n",
    "        except BalanceException as error:\n",
    "            print(f\"\\nWithdraw interrupted ❌: {error}\")"
   ]
  },
  {
   "cell_type": "code",
   "execution_count": 12,
   "id": "f552cc63-8eae-4201-8987-5d723485b2ed",
   "metadata": {},
   "outputs": [
    {
     "name": "stdout",
     "output_type": "stream",
     "text": [
      "\n",
      "Account Lex created.\n",
      "Balance = 1000000.00\n",
      "\n",
      "Account Clark created.\n",
      "Balance = 100.00\n",
      "<__main__.BankAccount object at 0x111a753d0>\n",
      "<__main__.BankAccount object at 0x111a771d0>\n",
      "\n",
      "Account Lex balance = $1000000.00\n",
      "\n",
      "Account Clark balance = $100.00\n",
      "\n",
      "Withdraw interrupted ❌: \n",
      "😿 Sorry, account 'Clark' only has a balance of $100.00\n",
      "\n",
      "Withdraw complete. ✅\n",
      "\n",
      "Account Clark balance = $90.00\n",
      "\n",
      "---------------------\n",
      "\n",
      "Beginning Transfer...💰\n",
      "\n",
      "Withdraw complete. ✅\n",
      "\n",
      "Account Lex balance = $999000.00\n",
      "\n",
      "Deposite complete.\n",
      "\n",
      "Account Clark balance = $1090.00\n",
      "\n",
      "Transfer complete! ✅\n",
      "\n",
      "---------------------\n",
      "\n",
      "Account Wayne created.\n",
      "Balance = 1200000.00\n",
      "\n",
      "Account Wayne balance = $1200000.00\n",
      "\n",
      "Deposit complete. ✅\n",
      "\n",
      "Account Wayne balance = $1201050.00\n",
      "\n",
      "Account Barry created.\n",
      "Balance = 10000.00\n",
      "\n",
      "Account Barry balance = $10000.00\n",
      "\n",
      "---------------------\n",
      "\n",
      "Beginning Transfer...💰\n",
      "\n",
      "Withdraw complete ✅, and Fee is $5.\n",
      "\n",
      "Account Barry balance = $8995.00\n",
      "\n",
      "Deposite complete.\n",
      "\n",
      "Account Clark balance = $2090.00\n",
      "\n",
      "Transfer complete! ✅\n",
      "\n",
      "---------------------\n"
     ]
    }
   ],
   "source": [
    "Lex = BankAccount(1_000_000, \"Lex\")\n",
    "Clark = BankAccount(100, \"Clark\")\n",
    "\n",
    "print(Lex)\n",
    "print(Clark)\n",
    "\n",
    "Lex.getBalance()\n",
    "Clark.getBalance()\n",
    "\n",
    "Clark.withdraw(111111)\n",
    "Clark.withdraw(10)\n",
    "\n",
    "Lex.transfer(1000, Clark)\n",
    "\n",
    "Wayne = InterestRewardsAcct(1_200_000, \"Wayne\")\n",
    "Wayne.getBalance()\n",
    "Wayne.deposite(1000)\n",
    "\n",
    "Barry = SavingsAcct(10000, \"Barry\")\n",
    "Barry.getBalance()\n",
    "Barry.transfer(1000, Clark)"
   ]
  },
  {
   "cell_type": "markdown",
   "id": "e62ae9b9-15f3-4fb3-8c40-4afc3c105303",
   "metadata": {},
   "source": [
    "---"
   ]
  }
 ],
 "metadata": {
  "kernelspec": {
   "display_name": "Python 3 (ipykernel)",
   "language": "python",
   "name": "python3"
  },
  "language_info": {
   "codemirror_mode": {
    "name": "ipython",
    "version": 3
   },
   "file_extension": ".py",
   "mimetype": "text/x-python",
   "name": "python",
   "nbconvert_exporter": "python",
   "pygments_lexer": "ipython3",
   "version": "3.11.4"
  }
 },
 "nbformat": 4,
 "nbformat_minor": 5
}
