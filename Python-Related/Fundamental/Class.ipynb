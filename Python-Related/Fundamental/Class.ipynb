{
 "cells": [
  {
   "cell_type": "markdown",
   "id": "e4f7cfd4-1498-4065-93d3-ac50901eb5db",
   "metadata": {},
   "source": [
    "# TOC"
   ]
  },
  {
   "cell_type": "markdown",
   "id": "a72ba075-afc6-447e-9cb9-78a63231a7e3",
   "metadata": {},
   "source": [
    "- [Class](#Class)\n",
    "- DataClass"
   ]
  },
  {
   "cell_type": "markdown",
   "id": "dd416bac-4c44-4bd6-befc-a6badd643dda",
   "metadata": {},
   "source": [
    "---"
   ]
  },
  {
   "cell_type": "markdown",
   "id": "a350b999-9aa8-4166-82fc-e06dd2a961d7",
   "metadata": {},
   "source": [
    "# Import"
   ]
  },
  {
   "cell_type": "code",
   "execution_count": 3,
   "id": "b2c14752-d03c-4365-b6ab-dcbc81e470c9",
   "metadata": {},
   "outputs": [],
   "source": [
    "from typing import Self"
   ]
  },
  {
   "cell_type": "markdown",
   "id": "a31be4ea-2564-427b-954d-7c9ea68bfc59",
   "metadata": {},
   "source": [
    "---"
   ]
  },
  {
   "cell_type": "markdown",
   "id": "cdd80967-efea-4405-91ca-cb2d3da3faa8",
   "metadata": {},
   "source": [
    "# Claass\n",
    "- OOP"
   ]
  },
  {
   "cell_type": "markdown",
   "id": "8a53b3b8-ae96-47b7-aaab-69ab446a4361",
   "metadata": {},
   "source": [
    "#### Demo"
   ]
  },
  {
   "cell_type": "code",
   "execution_count": 11,
   "id": "7cb660c6-975a-4ecf-8e56-ba4b81f96b64",
   "metadata": {},
   "outputs": [],
   "source": [
    "class BalanceException(Exception):\n",
    "    pass\n",
    "\n",
    "\n",
    "class BankAccount:\n",
    "    def __init__(self, initialAmmount, acctName) -> Self:\n",
    "        self.balance = initialAmmount\n",
    "        self.name = acctName\n",
    "        print(f\"\\nAccount {self.name} created.\\nBalance = {self.balance:.2f}\")\n",
    "\n",
    "    def getBalance(self):\n",
    "        print(f\"\\nAccount {self.name} balance = ${self.balance:.2f}\")\n",
    "\n",
    "    def deposite(self, amount):\n",
    "        self.balance = self.balance + amount\n",
    "        print(\"\\nDeposite complete.\")\n",
    "        self.getBalance()\n",
    "\n",
    "    def viableTransaction(self, amount):\n",
    "        if self.balance >= amount:\n",
    "            return\n",
    "        else:\n",
    "            raise BalanceException(\n",
    "                f\"\\n😿 Sorry, account '{self.name}' only has a balance of ${self.balance:.2f}\"\n",
    "            )\n",
    "\n",
    "    def withdraw(self, amount):\n",
    "        try:\n",
    "            self.viableTransaction(amount)\n",
    "            self.balance = self.balance - amount\n",
    "            print(\"\\nWithdraw complete. ✅\")\n",
    "            self.getBalance()\n",
    "        except BalanceException as error:\n",
    "            print(f\"\\nWithdraw interrupted ❌: {error}\")\n",
    "\n",
    "    def transfer(self, amount, account):\n",
    "        try:\n",
    "            print(\"\\n---------------------\\n\\nBeginning Transfer...💰\")\n",
    "            self.viableTransaction(amount)\n",
    "            self.withdraw(amount)\n",
    "            account.deposite(amount)\n",
    "            print(\"\\nTransfer complete! ✅\\n\\n---------------------\")\n",
    "        except BalanceException as error:\n",
    "            print(f\"\\nTransfer interrupted ❌: {error}\")\n",
    "\n",
    "\n",
    "class InterestRewardsAcct(BankAccount):\n",
    "    def deposite(self, amount):\n",
    "        self.balance = self.balance + (amount * 1.05)\n",
    "        print(\"\\nDeposit complete. ✅\")\n",
    "        self.getBalance()\n",
    "\n",
    "\n",
    "class SavingsAcct(InterestRewardsAcct):\n",
    "    def __init__(self, initialAmmount, acctName) -> Self:\n",
    "        super().__init__(initialAmmount, acctName)\n",
    "        self.fee = 5\n",
    "\n",
    "    def withdraw(self, amount):\n",
    "        try:\n",
    "            self.viableTransaction(amount + self.fee)\n",
    "            self.balance = self.balance - (amount + self.fee)\n",
    "            print(f\"\\nWithdraw complete ✅, and Fee is ${self.fee}.\")\n",
    "            self.getBalance()\n",
    "        except BalanceException as error:\n",
    "            print(f\"\\nWithdraw interrupted ❌: {error}\")"
   ]
  },
  {
   "cell_type": "code",
   "execution_count": 12,
   "id": "f552cc63-8eae-4201-8987-5d723485b2ed",
   "metadata": {},
   "outputs": [
    {
     "name": "stdout",
     "output_type": "stream",
     "text": [
      "\n",
      "Account Lex created.\n",
      "Balance = 1000000.00\n",
      "\n",
      "Account Clark created.\n",
      "Balance = 100.00\n",
      "<__main__.BankAccount object at 0x111a753d0>\n",
      "<__main__.BankAccount object at 0x111a771d0>\n",
      "\n",
      "Account Lex balance = $1000000.00\n",
      "\n",
      "Account Clark balance = $100.00\n",
      "\n",
      "Withdraw interrupted ❌: \n",
      "😿 Sorry, account 'Clark' only has a balance of $100.00\n",
      "\n",
      "Withdraw complete. ✅\n",
      "\n",
      "Account Clark balance = $90.00\n",
      "\n",
      "---------------------\n",
      "\n",
      "Beginning Transfer...💰\n",
      "\n",
      "Withdraw complete. ✅\n",
      "\n",
      "Account Lex balance = $999000.00\n",
      "\n",
      "Deposite complete.\n",
      "\n",
      "Account Clark balance = $1090.00\n",
      "\n",
      "Transfer complete! ✅\n",
      "\n",
      "---------------------\n",
      "\n",
      "Account Wayne created.\n",
      "Balance = 1200000.00\n",
      "\n",
      "Account Wayne balance = $1200000.00\n",
      "\n",
      "Deposit complete. ✅\n",
      "\n",
      "Account Wayne balance = $1201050.00\n",
      "\n",
      "Account Barry created.\n",
      "Balance = 10000.00\n",
      "\n",
      "Account Barry balance = $10000.00\n",
      "\n",
      "---------------------\n",
      "\n",
      "Beginning Transfer...💰\n",
      "\n",
      "Withdraw complete ✅, and Fee is $5.\n",
      "\n",
      "Account Barry balance = $8995.00\n",
      "\n",
      "Deposite complete.\n",
      "\n",
      "Account Clark balance = $2090.00\n",
      "\n",
      "Transfer complete! ✅\n",
      "\n",
      "---------------------\n"
     ]
    }
   ],
   "source": [
    "Lex = BankAccount(1_000_000, \"Lex\")\n",
    "Clark = BankAccount(100, \"Clark\")\n",
    "\n",
    "print(Lex)\n",
    "print(Clark)\n",
    "\n",
    "Lex.getBalance()\n",
    "Clark.getBalance()\n",
    "\n",
    "Clark.withdraw(111111)\n",
    "Clark.withdraw(10)\n",
    "\n",
    "Lex.transfer(1000, Clark)\n",
    "\n",
    "Wayne = InterestRewardsAcct(1_200_000, \"Wayne\")\n",
    "Wayne.getBalance()\n",
    "Wayne.deposite(1000)\n",
    "\n",
    "Barry = SavingsAcct(10000, \"Barry\")\n",
    "Barry.getBalance()\n",
    "Barry.transfer(1000, Clark)"
   ]
  },
  {
   "cell_type": "markdown",
   "id": "e62ae9b9-15f3-4fb3-8c40-4afc3c105303",
   "metadata": {},
   "source": [
    "---"
   ]
  },
  {
   "cell_type": "markdown",
   "id": "d13fea3a-cbef-4f65-820e-6b692dc25dd2",
   "metadata": {},
   "source": [
    "# DataClass"
   ]
  },
  {
   "cell_type": "markdown",
   "id": "dd367399-9d46-4ecc-af91-33117e8df685",
   "metadata": {},
   "source": [
    "### Demo1"
   ]
  },
  {
   "cell_type": "code",
   "execution_count": 1,
   "id": "c8b2a3af-b6f1-4872-a7ae-e65057559301",
   "metadata": {},
   "outputs": [],
   "source": [
    "class Investor:\n",
    "    def __init__(self, name: str, age: int, cash: float):\n",
    "        self.name = name\n",
    "        self.age = age\n",
    "        self.cash = cash\n",
    "\n",
    "    def __repr__(self):\n",
    "        return f\"Name: {self.name}\"\n",
    "\n",
    "    def __eq__(self, other):\n",
    "        return self.name == other.name\n",
    "\n",
    "    def __lt__(self, other):\n",
    "        return self.cash < other.cash"
   ]
  },
  {
   "cell_type": "code",
   "execution_count": 3,
   "id": "7f07a71f-1bfb-4067-9054-398cc4f76d9d",
   "metadata": {},
   "outputs": [
    {
     "name": "stdout",
     "output_type": "stream",
     "text": [
      "True\n"
     ]
    }
   ],
   "source": [
    "i1 = Investor(\"John\", 25, 9000)\n",
    "i2 = Investor(\"Anna\", 30, 12000)\n",
    "i3 = Investor(\"Bob\", 70, 8000000)\n",
    "i4 = Investor(\"John\", 50, 100)\n",
    "\n",
    "print(i1 == i4)"
   ]
  },
  {
   "cell_type": "code",
   "execution_count": 5,
   "id": "650db396-6503-4699-b9e6-7c2a008ec90d",
   "metadata": {},
   "outputs": [
    {
     "name": "stdout",
     "output_type": "stream",
     "text": [
      "True\n"
     ]
    }
   ],
   "source": [
    "print(i1 > i4)"
   ]
  },
  {
   "cell_type": "code",
   "execution_count": 6,
   "id": "59f1b26c-36dc-4e6c-82e4-f695af214444",
   "metadata": {},
   "outputs": [
    {
     "name": "stdout",
     "output_type": "stream",
     "text": [
      "False\n"
     ]
    }
   ],
   "source": [
    "print(i1 == i3)"
   ]
  },
  {
   "cell_type": "markdown",
   "id": "55aa4e0a-5171-43aa-9548-79c75be027c7",
   "metadata": {},
   "source": [
    "### Demo2"
   ]
  },
  {
   "cell_type": "code",
   "execution_count": 50,
   "id": "c6782f4e-26d7-47e2-9b45-19fdaa521480",
   "metadata": {},
   "outputs": [],
   "source": [
    "from dataclasses import dataclass, field\n",
    "\n",
    "@dataclass(order=True, unsafe_hash=True)\n",
    "class Investor:\n",
    "    sort_index: float = field(init=False, repr=True)\n",
    "    name: str\n",
    "    age: int\n",
    "    cash: float = field(repr=True)\n",
    "    hoppy: str\n",
    "\n",
    "    def __post_init__(self):\n",
    "        self.sort_index = self.cash"
   ]
  },
  {
   "cell_type": "code",
   "execution_count": 56,
   "id": "42172c92-8291-487d-a0d2-27243be629e2",
   "metadata": {},
   "outputs": [],
   "source": [
    "i1 = Investor(\"John\", 25, 9000, \"Road Running\")\n",
    "i111 = Investor(\"John\", 25, 9000, \"Road Running\")\n",
    "i11 = Investor(\"Test\", 25, 9000, \"Testing\")\n",
    "i2 = Investor(\"Anna\", 30, 12000, \"Swim\")\n",
    "i3 = Investor(\"Bob\", 70, 8000000, \"Baseball\")\n",
    "i4 = Investor(\"John\", 50, 100, \"Basketball\")\n",
    "my_list = [i1, i11, i2, i3, i4]"
   ]
  },
  {
   "cell_type": "code",
   "execution_count": 57,
   "id": "ac21cf8d-8bc3-4d58-8302-3677fa158dba",
   "metadata": {},
   "outputs": [
    {
     "name": "stdout",
     "output_type": "stream",
     "text": [
      "Investor(sort_index=9000, name='John', age=25, cash=9000, hoppy='Road Running')\n"
     ]
    }
   ],
   "source": [
    "print(i1)"
   ]
  },
  {
   "cell_type": "code",
   "execution_count": 58,
   "id": "79a231dd-1dc0-4335-8100-f5d185be1c99",
   "metadata": {},
   "outputs": [
    {
     "name": "stdout",
     "output_type": "stream",
     "text": [
      "False\n"
     ]
    }
   ],
   "source": [
    "print(i1 == i11)"
   ]
  },
  {
   "cell_type": "code",
   "execution_count": 59,
   "id": "b6f5cb72-04cc-4f08-83a8-ca1b30a2390b",
   "metadata": {},
   "outputs": [
    {
     "data": {
      "text/plain": [
       "[Investor(sort_index=100, name='John', age=50, cash=100, hoppy='Basketball'),\n",
       " Investor(sort_index=9000, name='John', age=25, cash=9000, hoppy='Road Running'),\n",
       " Investor(sort_index=9000, name='Test', age=25, cash=9000, hoppy='Testing'),\n",
       " Investor(sort_index=12000, name='Anna', age=30, cash=12000, hoppy='Swim'),\n",
       " Investor(sort_index=8000000, name='Bob', age=70, cash=8000000, hoppy='Baseball')]"
      ]
     },
     "execution_count": 59,
     "metadata": {},
     "output_type": "execute_result"
    }
   ],
   "source": [
    "my_list.sort()\n",
    "my_list"
   ]
  },
  {
   "cell_type": "code",
   "execution_count": 60,
   "id": "88170fd0-c2e4-4552-8e12-ef140de54ad0",
   "metadata": {},
   "outputs": [
    {
     "name": "stdout",
     "output_type": "stream",
     "text": [
      "6894095854089442020\n",
      "6894095854089442020\n"
     ]
    }
   ],
   "source": [
    "print(hash(i1))\n",
    "print(hash(i111))"
   ]
  },
  {
   "cell_type": "markdown",
   "id": "ff9d1555-713d-4ec7-9349-094106acf208",
   "metadata": {},
   "source": [
    "---"
   ]
  },
  {
   "cell_type": "code",
   "execution_count": null,
   "id": "ff9b580a-e521-4c78-be53-06476f1c6a23",
   "metadata": {},
   "outputs": [],
   "source": []
  }
 ],
 "metadata": {
  "kernelspec": {
   "display_name": "Python 3 (ipykernel)",
   "language": "python",
   "name": "python3"
  },
  "language_info": {
   "codemirror_mode": {
    "name": "ipython",
    "version": 3
   },
   "file_extension": ".py",
   "mimetype": "text/x-python",
   "name": "python",
   "nbconvert_exporter": "python",
   "pygments_lexer": "ipython3",
   "version": "3.11.7"
  }
 },
 "nbformat": 4,
 "nbformat_minor": 5
}
