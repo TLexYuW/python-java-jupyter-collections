{
 "cells": [
  {
   "cell_type": "markdown",
   "id": "e05793ad-87b2-4bb7-9408-50c0754b7286",
   "metadata": {},
   "source": [
    "# TOC"
   ]
  },
  {
   "cell_type": "markdown",
   "id": "64937841-04a7-47f1-a713-92a2d6a99a40",
   "metadata": {},
   "source": [
    "- [`AND`](#AND) : & conjunction \n",
    "- [`OR`](#OR) : | disjunction\n",
    "- [`negation`](#negation) : ~ \n",
    "- [`XOR`](#XOR) : ^ exclusive\n",
    "- [Bit Shifting](#Bit-Shifting)\n",
    "    - `>>`\n",
    "    - `<<`"
   ]
  },
  {
   "cell_type": "markdown",
   "id": "2d6153bd-3389-4f0b-a03b-c6f68bb61e85",
   "metadata": {},
   "source": [
    "1 & 1 ===> 1\n",
    "\n",
    "1 | 1 ===> 1\n",
    "\n",
    "0 | 1 ===> 1\n",
    "\n",
    "0 ^ 1 ===> 1"
   ]
  },
  {
   "cell_type": "markdown",
   "id": "fd62b736-efef-4e93-affc-c5a8b870ef05",
   "metadata": {},
   "source": [
    "---"
   ]
  },
  {
   "cell_type": "code",
   "execution_count": 10,
   "id": "59250933-2a17-42c3-9ca3-b9dbb1e556ce",
   "metadata": {},
   "outputs": [
    {
     "name": "stdout",
     "output_type": "stream",
     "text": [
      "0b1111\n",
      "0b10110\n"
     ]
    }
   ],
   "source": [
    "\"\"\"\n",
    "0 0 0 0 1 1 1 1\n",
    "0 0 0 1 0 1 1 0\n",
    "\"\"\"\n",
    "print(bin(15))\n",
    "print(bin(22))"
   ]
  },
  {
   "cell_type": "markdown",
   "id": "7daaab90-a420-4634-88a2-74dc466290ae",
   "metadata": {},
   "source": [
    "---"
   ]
  },
  {
   "cell_type": "markdown",
   "id": "5ca05898-af52-4d49-8737-d0acfae7c035",
   "metadata": {},
   "source": [
    "# AND"
   ]
  },
  {
   "cell_type": "code",
   "execution_count": 11,
   "id": "d6d51c86-94a6-4338-a6d3-d148a12a2a3b",
   "metadata": {},
   "outputs": [
    {
     "name": "stdout",
     "output_type": "stream",
     "text": [
      "6\n",
      "0b110\n"
     ]
    }
   ],
   "source": [
    "\"\"\"\n",
    "0 0 0 0 0 1 1 0\n",
    "\"\"\"\n",
    "print(15 & 22)\n",
    "print(bin(6))"
   ]
  },
  {
   "cell_type": "code",
   "execution_count": 23,
   "id": "afd1c80d-e462-4a19-bb3d-64a8abb55855",
   "metadata": {},
   "outputs": [
    {
     "name": "stdout",
     "output_type": "stream",
     "text": [
      "a & b = 4\n"
     ]
    }
   ],
   "source": [
    "a = 20\n",
    "b = 5\n",
    "print(\"a & b =\", a & b)"
   ]
  },
  {
   "cell_type": "markdown",
   "id": "36190684-bde5-47f1-8f67-97e5d0afb7ea",
   "metadata": {},
   "source": [
    "---"
   ]
  },
  {
   "cell_type": "markdown",
   "id": "a04be7e5-6267-409b-b8b7-a1620029749b",
   "metadata": {},
   "source": [
    "# OR"
   ]
  },
  {
   "cell_type": "code",
   "execution_count": 29,
   "id": "eb255cda-f099-442e-86cb-aaa7ceb2efc0",
   "metadata": {},
   "outputs": [
    {
     "name": "stdout",
     "output_type": "stream",
     "text": [
      "31\n",
      "0b11111\n"
     ]
    }
   ],
   "source": [
    "\"\"\"\n",
    "0 0 0 0 1 1 1 1\n",
    "0 0 0 1 0 1 1 0\n",
    "\"\"\"\n",
    "\"\"\"\n",
    "0 0 0 1 1 1 1 1\n",
    "\"\"\"\n",
    "print(15 | 22)\n",
    "print(bin(31))"
   ]
  },
  {
   "cell_type": "code",
   "execution_count": 28,
   "id": "335ef491-a852-4d8e-b9f1-102561619768",
   "metadata": {},
   "outputs": [
    {
     "name": "stdout",
     "output_type": "stream",
     "text": [
      "a | b = 21\n"
     ]
    }
   ],
   "source": [
    "a = 20\n",
    "b = 5\n",
    "print(\"a | b =\", a | b)"
   ]
  },
  {
   "cell_type": "markdown",
   "id": "cd47e988-02f3-4ba3-aa08-f15a723fe1e0",
   "metadata": {},
   "source": [
    "---"
   ]
  },
  {
   "cell_type": "markdown",
   "id": "5b7e0039-ef3e-445f-8c47-5647d813770e",
   "metadata": {},
   "source": [
    "# negation"
   ]
  },
  {
   "cell_type": "code",
   "execution_count": 25,
   "id": "ecfcac1c-2071-48a9-9491-72e5e2d820d8",
   "metadata": {},
   "outputs": [
    {
     "name": "stdout",
     "output_type": "stream",
     "text": [
      "0b11001000\n",
      "0b11001001\n",
      "-201\n",
      "-0b11001001\n"
     ]
    }
   ],
   "source": [
    "\"\"\"\n",
    " 0b11001000  --- 200\n",
    " 0b11001001  --- 201\n",
    " 0b00110111\n",
    "\"\"\"\n",
    "print(bin(200))\n",
    "print(bin(201))\n",
    "print(~200)\n",
    "print(bin(-201))"
   ]
  },
  {
   "cell_type": "code",
   "execution_count": 26,
   "id": "a00b3c80-49d0-4063-b95d-29151c11521a",
   "metadata": {},
   "outputs": [
    {
     "name": "stdout",
     "output_type": "stream",
     "text": [
      "201\n",
      "0b11001001\n"
     ]
    }
   ],
   "source": [
    "binary_representation = \"0b11001000\"\n",
    "print(int(binary_representation, 2) + 1)\n",
    "result_binary = bin(int(binary_representation, 2) + 1)\n",
    "print(result_binary)"
   ]
  },
  {
   "cell_type": "markdown",
   "id": "2d9b142e-3ffb-4686-a9c1-714be2396e41",
   "metadata": {},
   "source": [
    "---"
   ]
  },
  {
   "cell_type": "markdown",
   "id": "f3d1ce97-b7e9-4bd6-9274-caf6d145c8dd",
   "metadata": {},
   "source": [
    "# XOR"
   ]
  },
  {
   "cell_type": "code",
   "execution_count": 30,
   "id": "39ef282b-6661-4f52-a8c6-43ed60a2ea51",
   "metadata": {},
   "outputs": [
    {
     "name": "stdout",
     "output_type": "stream",
     "text": [
      "25\n",
      "0b11001\n"
     ]
    }
   ],
   "source": [
    "\"\"\"\n",
    "0 0 0 0 1 1 1 1\n",
    "0 0 0 1 0 1 1 0\n",
    "\"\"\"\n",
    "\"\"\"\n",
    "0 0 0 1 1 0 0 1\n",
    "\"\"\"\n",
    "print(15 ^ 22)\n",
    "print(bin(25))"
   ]
  },
  {
   "cell_type": "code",
   "execution_count": 27,
   "id": "360fa10f-0de1-4a4e-a6a5-e3ef3f06d52c",
   "metadata": {},
   "outputs": [
    {
     "name": "stdout",
     "output_type": "stream",
     "text": [
      "14\n"
     ]
    }
   ],
   "source": [
    "print(5 ^ 11)"
   ]
  },
  {
   "cell_type": "markdown",
   "id": "a90da2ea-0bbf-495e-a4c5-70e6fd8cc927",
   "metadata": {},
   "source": [
    "---"
   ]
  },
  {
   "cell_type": "markdown",
   "id": "49a30774-151b-418a-853e-830db20ad859",
   "metadata": {},
   "source": [
    "# Bit Shifting"
   ]
  },
  {
   "cell_type": "code",
   "execution_count": 16,
   "id": "87b34a41-3584-4baf-b8a9-947cf2b17118",
   "metadata": {},
   "outputs": [
    {
     "name": "stdout",
     "output_type": "stream",
     "text": [
      "0b10110\n",
      "11\n",
      "0b1011\n"
     ]
    }
   ],
   "source": [
    "\"\"\"\n",
    "0 0 0 1 0 1 1 0\n",
    "0 0 0 0 1 0 1 1\n",
    "\"\"\"\n",
    "print(bin(22))\n",
    "print(22 >> 1)\n",
    "print(bin(11))"
   ]
  },
  {
   "cell_type": "code",
   "execution_count": 17,
   "id": "8459dd38-049c-4978-8c51-9612330431b9",
   "metadata": {},
   "outputs": [
    {
     "name": "stdout",
     "output_type": "stream",
     "text": [
      "44\n",
      "0b101100\n"
     ]
    }
   ],
   "source": [
    "\"\"\"\n",
    "0 0 0 1 0 1 1 0\n",
    "0 0 1 0 1 1 0 0\n",
    "\"\"\"\n",
    "print(22 << 1)\n",
    "print(bin(44))"
   ]
  },
  {
   "cell_type": "code",
   "execution_count": 2,
   "id": "e1cca249-4e8c-40c1-829a-d21454662742",
   "metadata": {},
   "outputs": [
    {
     "name": "stdout",
     "output_type": "stream",
     "text": [
      "11\n",
      "5\n",
      "44\n",
      "88\n"
     ]
    }
   ],
   "source": [
    "print(22 // 2)\n",
    "print(22 // 4)\n",
    "print(22 * 2)\n",
    "print(22 * 4)"
   ]
  },
  {
   "cell_type": "code",
   "execution_count": 22,
   "id": "ac5fb55a-a18b-4eee-95ad-9c4e1e6369a6",
   "metadata": {},
   "outputs": [
    {
     "name": "stdout",
     "output_type": "stream",
     "text": [
      "11\n",
      "5\n",
      "44\n",
      "88\n"
     ]
    }
   ],
   "source": [
    "print(22 >> 1)\n",
    "print(22 >> 2)\n",
    "print(22 << 1)\n",
    "print(22 << 2)"
   ]
  },
  {
   "cell_type": "code",
   "execution_count": 2,
   "id": "037a2eac-0905-484c-8ca7-bea366710057",
   "metadata": {},
   "outputs": [
    {
     "ename": "SyntaxError",
     "evalue": "invalid syntax (2027607242.py, line 1)",
     "output_type": "error",
     "traceback": [
      "\u001b[0;36m  Cell \u001b[0;32mIn[2], line 1\u001b[0;36m\u001b[0m\n\u001b[0;31m    print(22 >>> 1)\u001b[0m\n\u001b[0m               ^\u001b[0m\n\u001b[0;31mSyntaxError\u001b[0m\u001b[0;31m:\u001b[0m invalid syntax\n"
     ]
    }
   ],
   "source": [
    "print(22 >>> 1)"
   ]
  },
  {
   "cell_type": "code",
   "execution_count": null,
   "id": "4e0c2f32-640b-4f7f-b84c-1f2277ffcffa",
   "metadata": {},
   "outputs": [],
   "source": []
  }
 ],
 "metadata": {
  "kernelspec": {
   "display_name": "Python 3 (ipykernel)",
   "language": "python",
   "name": "python3"
  },
  "language_info": {
   "codemirror_mode": {
    "name": "ipython",
    "version": 3
   },
   "file_extension": ".py",
   "mimetype": "text/x-python",
   "name": "python",
   "nbconvert_exporter": "python",
   "pygments_lexer": "ipython3",
   "version": "3.11.7"
  }
 },
 "nbformat": 4,
 "nbformat_minor": 5
}
