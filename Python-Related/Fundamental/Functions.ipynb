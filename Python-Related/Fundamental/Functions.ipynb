{
 "cells": [
  {
   "cell_type": "markdown",
   "id": "d0143813-e78f-4e5a-966f-779925933541",
   "metadata": {},
   "source": [
    "# Import"
   ]
  },
  {
   "cell_type": "code",
   "execution_count": 20,
   "id": "81ea9130-7cbe-43a6-a8b7-19fc8bb65a0d",
   "metadata": {},
   "outputs": [],
   "source": [
    "import random"
   ]
  },
  {
   "cell_type": "markdown",
   "id": "033f7c83-3213-4c57-9b6a-dc3eb95b8980",
   "metadata": {},
   "source": [
    "---"
   ]
  },
  {
   "cell_type": "markdown",
   "id": "41802b25-61a8-49aa-b514-3e47da242159",
   "metadata": {},
   "source": [
    "# Setup"
   ]
  },
  {
   "cell_type": "code",
   "execution_count": 21,
   "id": "fc7714ef-131b-4e1b-922f-c1889ef7a005",
   "metadata": {},
   "outputs": [],
   "source": [
    "# code"
   ]
  },
  {
   "cell_type": "markdown",
   "id": "1b935757-74fc-454c-9053-e30e0ed5aac5",
   "metadata": {},
   "source": [
    "---"
   ]
  },
  {
   "cell_type": "markdown",
   "id": "29c209b5-4f87-474c-9e6c-e3a36fa88229",
   "metadata": {},
   "source": [
    "# TOC"
   ]
  },
  {
   "cell_type": "markdown",
   "id": "0db224b8-9272-4592-bd86-da6398e36307",
   "metadata": {},
   "source": [
    "- Functions\n",
    "    - Demo-1 \n",
    "    - Inner Functions\n",
    "        - Demo\n",
    "    - argv\n",
    "        - Demo   "
   ]
  },
  {
   "cell_type": "markdown",
   "id": "01502c79-9751-49b5-8c09-d5a73868571c",
   "metadata": {},
   "source": [
    "---"
   ]
  },
  {
   "cell_type": "markdown",
   "id": "e4971b5c-11dc-495e-a109-4e808e652de0",
   "metadata": {},
   "source": [
    "# Functions"
   ]
  },
  {
   "cell_type": "markdown",
   "id": "a609fdc6-37a7-4734-9b97-37c34bc7a2d5",
   "metadata": {},
   "source": [
    "### Demo-1"
   ]
  },
  {
   "cell_type": "code",
   "execution_count": 22,
   "id": "274acea3-a300-4906-8db4-f69f83d5f54c",
   "metadata": {},
   "outputs": [],
   "source": [
    "def hi(name):\n",
    "    print('Hello {}'.format(name))"
   ]
  },
  {
   "cell_type": "code",
   "execution_count": 23,
   "id": "6945481b-2486-4d6e-b1f2-8b1f7440d9c2",
   "metadata": {},
   "outputs": [
    {
     "name": "stdout",
     "output_type": "stream",
     "text": [
      "Hello abc\n"
     ]
    }
   ],
   "source": [
    "hi('abc')"
   ]
  },
  {
   "cell_type": "markdown",
   "id": "54344a95-bd3f-4a36-b9e3-a4d81aa03606",
   "metadata": {},
   "source": [
    "### Demo-2"
   ]
  },
  {
   "cell_type": "code",
   "execution_count": 24,
   "id": "92aea951-fa4d-4a86-913d-cd569f2f4a01",
   "metadata": {},
   "outputs": [],
   "source": [
    "def getAns(num):\n",
    "    if num == 1:\n",
    "        return 'It is 1'\n",
    "    elif num == 2:\n",
    "        return 'It is 2'"
   ]
  },
  {
   "cell_type": "code",
   "execution_count": 25,
   "id": "899cbb21-123e-41b0-bf25-35672fa2a829",
   "metadata": {},
   "outputs": [
    {
     "name": "stdout",
     "output_type": "stream",
     "text": [
      "It is 2\n",
      "Helloworld\n",
      "cat,dogs,mice\n"
     ]
    }
   ],
   "source": [
    "r = random.randint(1, 2)\n",
    "f = getAns(r)\n",
    "print(f)\n",
    "\n",
    "print('Hello', end='')\n",
    "print('world')\n",
    "\n",
    "print('cat', 'dogs', 'mice', sep=',')\n"
   ]
  },
  {
   "cell_type": "markdown",
   "id": "f2cf1ada-e633-46d4-8db7-4701639673f0",
   "metadata": {},
   "source": [
    "### Demo-3"
   ]
  },
  {
   "cell_type": "code",
   "execution_count": 26,
   "id": "1f45262f-5382-4984-a19d-c79a78721b54",
   "metadata": {},
   "outputs": [],
   "source": [
    "def spam():\n",
    "    global eggs\n",
    "    eggs = 'spam'"
   ]
  },
  {
   "cell_type": "code",
   "execution_count": 27,
   "id": "7078242b-d027-4645-bb1e-3f20135e576a",
   "metadata": {},
   "outputs": [
    {
     "name": "stdout",
     "output_type": "stream",
     "text": [
      "spam\n"
     ]
    }
   ],
   "source": [
    "eggs = 'global'\n",
    "spam()\n",
    "print(eggs)"
   ]
  },
  {
   "cell_type": "markdown",
   "id": "30a84143-4c36-446d-847b-0756185ec0aa",
   "metadata": {},
   "source": [
    "---"
   ]
  },
  {
   "cell_type": "markdown",
   "id": "f861a2f7-fa04-4bd8-8ad5-15d2b4d129cb",
   "metadata": {},
   "source": [
    "### Demo-4"
   ]
  },
  {
   "cell_type": "code",
   "execution_count": 28,
   "id": "21f77a20-320f-4ef8-a73a-d6c8e9fd5d75",
   "metadata": {},
   "outputs": [
    {
     "name": "stdout",
     "output_type": "stream",
     "text": [
      "Enter a number:  11\n"
     ]
    },
    {
     "name": "stdout",
     "output_type": "stream",
     "text": [
      "11\n"
     ]
    }
   ],
   "source": [
    "def input_num():\n",
    "    return int(input(\"Enter a number: \"))\n",
    "\n",
    "num = input_num()\n",
    "print(num)"
   ]
  },
  {
   "cell_type": "markdown",
   "id": "23a55982-f505-4cc4-9e1f-fcc9ff4a0d9f",
   "metadata": {},
   "source": [
    "---"
   ]
  },
  {
   "cell_type": "markdown",
   "id": "e76dd02b-4d1b-4d6f-a2be-306bb1b0b242",
   "metadata": {},
   "source": [
    "### Demo-5"
   ]
  },
  {
   "cell_type": "code",
   "execution_count": 29,
   "id": "ebc91f5b-6356-48d3-9cfe-fae8d2ff195b",
   "metadata": {},
   "outputs": [
    {
     "name": "stdout",
     "output_type": "stream",
     "text": [
      "The tallest student is Jackson\n"
     ]
    }
   ],
   "source": [
    "def my_function(*students):\n",
    "    print(\"The tallest student is \" + students[2])\n",
    "\n",
    "\n",
    "my_function(\"James\", \"Ella\", \"Jackson\")"
   ]
  },
  {
   "cell_type": "markdown",
   "id": "a6abfeac-425e-42db-a3e1-8bfe3aee1423",
   "metadata": {},
   "source": [
    "---"
   ]
  },
  {
   "cell_type": "markdown",
   "id": "963d27e1-3644-4a04-807c-b78d4c9a484d",
   "metadata": {},
   "source": [
    "### Demo-6"
   ]
  },
  {
   "cell_type": "code",
   "execution_count": 30,
   "id": "c1385f3a-4213-421c-95b3-d9d423521cb1",
   "metadata": {},
   "outputs": [
    {
     "name": "stdout",
     "output_type": "stream",
     "text": [
      "50\n"
     ]
    }
   ],
   "source": [
    "def multi_func(num1, num2):\n",
    "    return num1 * num2\n",
    "\n",
    "\n",
    "res = multi_func(num2=5, num1=10)\n",
    "print(res)"
   ]
  },
  {
   "cell_type": "markdown",
   "id": "4a7dacca-b995-4b66-a18e-5261b790681e",
   "metadata": {},
   "source": [
    "---"
   ]
  },
  {
   "cell_type": "markdown",
   "id": "7fe772ed-5685-4def-9787-22282a8c2bf9",
   "metadata": {},
   "source": [
    "### Demo-7"
   ]
  },
  {
   "cell_type": "code",
   "execution_count": 31,
   "id": "341f12ed-8890-41b5-b1a4-9db8122b8e61",
   "metadata": {},
   "outputs": [
    {
     "name": "stdout",
     "output_type": "stream",
     "text": [
      "The tallest student is Jackson\n"
     ]
    }
   ],
   "source": [
    "def my_function(*students):\n",
    "    print(\"The tallest student is \" + students[2])\n",
    "\n",
    "\n",
    "my_function(\"James\", \"Ella\", \"Jackson\")"
   ]
  },
  {
   "cell_type": "markdown",
   "id": "f114915a-5bfe-4672-8ce2-87b1642aaa2c",
   "metadata": {},
   "source": [
    "---"
   ]
  },
  {
   "cell_type": "markdown",
   "id": "b7fd81c7-67cd-4451-aa4d-0bd68b37ba9c",
   "metadata": {},
   "source": [
    "### Demo-8"
   ]
  },
  {
   "cell_type": "code",
   "execution_count": 32,
   "id": "2e06e32d-52c2-43c7-b7e9-00b962b83c67",
   "metadata": {},
   "outputs": [
    {
     "name": "stdout",
     "output_type": "stream",
     "text": [
      "john 19\n"
     ]
    }
   ],
   "source": [
    "def print_info(name, age=18):\n",
    "    print(name, age)\n",
    "\n",
    "\n",
    "print_info(\"john\", 19)"
   ]
  },
  {
   "cell_type": "markdown",
   "id": "d1534164-3cd7-4adb-a027-ce5ab9c7b62b",
   "metadata": {},
   "source": [
    "---"
   ]
  },
  {
   "cell_type": "markdown",
   "id": "1ff051f7-e432-466c-b4a0-00225e8c656c",
   "metadata": {},
   "source": [
    "### Demo-9"
   ]
  },
  {
   "cell_type": "code",
   "execution_count": 33,
   "id": "dc05dc66-f5e9-41fc-8bca-ccd965ed4b6d",
   "metadata": {},
   "outputs": [
    {
     "name": "stdout",
     "output_type": "stream",
     "text": [
      "5.0\n"
     ]
    }
   ],
   "source": [
    "def my_function(x):\n",
    "    return 10 / x\n",
    "\n",
    "print(my_function(2))"
   ]
  },
  {
   "cell_type": "markdown",
   "id": "546b0d77-5f65-43bd-8f55-c68e7099f478",
   "metadata": {},
   "source": [
    "---"
   ]
  },
  {
   "cell_type": "markdown",
   "id": "4cbf4a6b-94a8-49ec-8d65-699eeb7b56ad",
   "metadata": {},
   "source": [
    "### Demo-10"
   ]
  },
  {
   "cell_type": "code",
   "execution_count": 34,
   "id": "c3255a70-533e-4ddd-ab68-84a381dcb4c5",
   "metadata": {},
   "outputs": [
    {
     "name": "stdout",
     "output_type": "stream",
     "text": [
      "[7, 5, 9]\n"
     ]
    }
   ],
   "source": [
    "def get_odd_func(numbers):\n",
    "    odd_numbers = []\n",
    "    for num in numbers:\n",
    "        if num % 2:\n",
    "            odd_numbers.append(num)\n",
    "    return odd_numbers\n",
    "\n",
    "\n",
    "print(get_odd_func([7, 4, 5, 6, 9, 8, 12]))"
   ]
  },
  {
   "cell_type": "markdown",
   "id": "5817ed37-5514-4603-a1c6-46ec89612d4d",
   "metadata": {},
   "source": [
    "---"
   ]
  },
  {
   "cell_type": "markdown",
   "id": "2729b5de-8013-4abd-b530-9b5829c15366",
   "metadata": {},
   "source": [
    "### Demo-11"
   ]
  },
  {
   "cell_type": "code",
   "execution_count": 35,
   "id": "ce922a59-a1af-4bbc-be29-8daa9c4e6e65",
   "metadata": {},
   "outputs": [
    {
     "name": "stdout",
     "output_type": "stream",
     "text": [
      "[1, 2, 3, 1, 2, 3]\n"
     ]
    }
   ],
   "source": [
    "def double_list(numbers):\n",
    "  return 2 * numbers\n",
    "\n",
    "numbers = [1, 2, 3]\n",
    "print(double_list(numbers))"
   ]
  },
  {
   "cell_type": "markdown",
   "id": "45de7e20-aa9c-4e8e-b27b-8549a6b35d62",
   "metadata": {},
   "source": [
    "---"
   ]
  },
  {
   "cell_type": "markdown",
   "id": "fc241781-7765-4812-aae0-4c65c9f45b77",
   "metadata": {},
   "source": [
    "## Inner Functions"
   ]
  },
  {
   "cell_type": "markdown",
   "id": "1b1e7992-dde2-4286-8424-9afd8adac445",
   "metadata": {},
   "source": [
    "### Demo-12"
   ]
  },
  {
   "cell_type": "code",
   "execution_count": 36,
   "id": "d3a793b9-2334-4f29-9fe9-4345a2b52a5f",
   "metadata": {},
   "outputs": [
    {
     "name": "stdout",
     "output_type": "stream",
     "text": [
      "20\n"
     ]
    }
   ],
   "source": [
    "def my_function():\n",
    "  def my_inner_function():\n",
    "    x = 20\n",
    "  print(x)\n",
    "  my_inner_function()\n",
    "\n",
    "my_function()"
   ]
  },
  {
   "cell_type": "markdown",
   "id": "70dd4629-5808-4006-b8b0-2ed40acb9ce6",
   "metadata": {},
   "source": [
    "---"
   ]
  },
  {
   "cell_type": "markdown",
   "id": "a14deeeb-2004-4fa4-a8f3-f90803ae592f",
   "metadata": {},
   "source": [
    "### Demo-13"
   ]
  },
  {
   "cell_type": "code",
   "execution_count": 37,
   "id": "a8a7a8d8-0833-4d4c-ac20-59b70b2a10e7",
   "metadata": {},
   "outputs": [
    {
     "name": "stdout",
     "output_type": "stream",
     "text": [
      "20\n"
     ]
    }
   ],
   "source": [
    "x = 30\n",
    "\n",
    "\n",
    "def my_function():\n",
    "    global x\n",
    "    x = 20\n",
    "\n",
    "\n",
    "my_function()\n",
    "print(x)"
   ]
  },
  {
   "cell_type": "markdown",
   "id": "a11266ea-3d0c-4035-bc87-1fe424c2fe48",
   "metadata": {},
   "source": [
    "---"
   ]
  },
  {
   "cell_type": "markdown",
   "id": "4a2c4543-d5ff-4a7f-90c4-bf73a79f56bf",
   "metadata": {},
   "source": [
    "### Demo-14"
   ]
  },
  {
   "cell_type": "code",
   "execution_count": 38,
   "id": "6b51ed6e-3bc3-4c01-a9ad-e025fc9a24f8",
   "metadata": {},
   "outputs": [
    {
     "name": "stdout",
     "output_type": "stream",
     "text": [
      "20\n"
     ]
    }
   ],
   "source": [
    "def my_function():\n",
    "    def my_inner_function():\n",
    "        x = 20\n",
    "        print(x)\n",
    "    my_inner_function()\n",
    "\n",
    "\n",
    "my_function()"
   ]
  },
  {
   "cell_type": "markdown",
   "id": "e61498cc-6dd6-46d4-99b4-934314dfc0a1",
   "metadata": {},
   "source": [
    "---"
   ]
  },
  {
   "cell_type": "markdown",
   "id": "8e96599d-9a30-46fb-9116-fa990676fb33",
   "metadata": {},
   "source": [
    "### Demo-15"
   ]
  },
  {
   "cell_type": "code",
   "execution_count": 39,
   "id": "0e86e9fe-3a37-43a1-95b4-a81497b25a65",
   "metadata": {},
   "outputs": [
    {
     "name": "stdout",
     "output_type": "stream",
     "text": [
      "20 20 "
     ]
    }
   ],
   "source": [
    "x = 20\n",
    "\n",
    "def my_function():\n",
    "    print(x, end=' ')\n",
    "\n",
    "\n",
    "my_function()\n",
    "print(x, end=' ')"
   ]
  },
  {
   "cell_type": "markdown",
   "id": "e384dfe0-039e-45dc-862b-9225a2a3a442",
   "metadata": {},
   "source": [
    "---"
   ]
  },
  {
   "cell_type": "markdown",
   "id": "4f0150ca-06db-495d-859c-179ce16cf6c4",
   "metadata": {},
   "source": [
    "### Demo-15"
   ]
  },
  {
   "cell_type": "code",
   "execution_count": 40,
   "id": "8972973d-9272-42cd-a2f5-8901651810af",
   "metadata": {},
   "outputs": [
    {
     "name": "stdout",
     "output_type": "stream",
     "text": [
      "20\n"
     ]
    }
   ],
   "source": [
    "def my_function():\n",
    "    x = 20\n",
    "\n",
    "    def my_inner_function():\n",
    "        print(x)\n",
    "    my_inner_function()\n",
    "\n",
    "\n",
    "my_function()"
   ]
  },
  {
   "cell_type": "markdown",
   "id": "98249026-f94e-40fc-87e8-9ba9c4340025",
   "metadata": {},
   "source": [
    "---"
   ]
  },
  {
   "cell_type": "markdown",
   "id": "0af4cefe-f588-447b-a2f9-272bea77d3d1",
   "metadata": {},
   "source": [
    "## argv"
   ]
  },
  {
   "cell_type": "code",
   "execution_count": 42,
   "id": "6b5487cc-8b3f-4b81-a786-c9ffe9252517",
   "metadata": {},
   "outputs": [
    {
     "name": "stdout",
     "output_type": "stream",
     "text": [
      "Hello\n"
     ]
    }
   ],
   "source": [
    "def my_function(*argv):\n",
    "    print(argv[0])\n",
    "\n",
    "\n",
    "my_function('Hello', 'World!')"
   ]
  },
  {
   "cell_type": "code",
   "execution_count": 43,
   "id": "3be423bc-5f40-4786-88d1-46ca4d2842e2",
   "metadata": {},
   "outputs": [
    {
     "name": "stdout",
     "output_type": "stream",
     "text": [
      "('Hello', 'World!')\n"
     ]
    }
   ],
   "source": [
    "def my_function(*argv):\n",
    "    print(argv)\n",
    "\n",
    "\n",
    "my_function('Hello', 'World!')"
   ]
  },
  {
   "cell_type": "code",
   "execution_count": 44,
   "id": "5365e17a-6e2f-4ff2-9ea9-91ac24bb6701",
   "metadata": {},
   "outputs": [
    {
     "name": "stdout",
     "output_type": "stream",
     "text": [
      "First argument: Welcome\n",
      "Next argument: to\n",
      "Next argument: Python!\n"
     ]
    }
   ],
   "source": [
    "def my_function(arg1, *argv):\n",
    "    print(\"First argument:\", arg1)\n",
    "    for arg in argv:\n",
    "        print(\"Next argument:\", arg)\n",
    "\n",
    "\n",
    "my_function('Welcome', 'to', 'Python!')"
   ]
  },
  {
   "cell_type": "code",
   "execution_count": null,
   "id": "ed33b8f7-3eff-433c-8992-ff1e1c85693d",
   "metadata": {},
   "outputs": [],
   "source": []
  }
 ],
 "metadata": {
  "kernelspec": {
   "display_name": "Python 3 (ipykernel)",
   "language": "python",
   "name": "python3"
  },
  "language_info": {
   "codemirror_mode": {
    "name": "ipython",
    "version": 3
   },
   "file_extension": ".py",
   "mimetype": "text/x-python",
   "name": "python",
   "nbconvert_exporter": "python",
   "pygments_lexer": "ipython3",
   "version": "3.11.7"
  }
 },
 "nbformat": 4,
 "nbformat_minor": 5
}
