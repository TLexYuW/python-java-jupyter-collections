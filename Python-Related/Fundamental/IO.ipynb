{
 "cells": [
  {
   "cell_type": "markdown",
   "id": "f5445324-896e-43df-b40c-25a541cb6c15",
   "metadata": {},
   "source": [
    "# TOC"
   ]
  },
  {
   "cell_type": "markdown",
   "id": "a201cce0-e5f1-42c5-b5e1-b366d8551745",
   "metadata": {},
   "source": [
    "- [IO](#IO)\n",
    "- [With Keyword](#With-Keyword)"
   ]
  },
  {
   "cell_type": "markdown",
   "id": "b19960d1-daa3-4e4b-a968-509f06d8bce8",
   "metadata": {},
   "source": [
    "---"
   ]
  },
  {
   "cell_type": "markdown",
   "id": "80abfbfd-b690-4afd-9645-870b92dc8d38",
   "metadata": {},
   "source": [
    "# Import"
   ]
  },
  {
   "cell_type": "code",
   "execution_count": 61,
   "id": "99a94279-5f3e-4f21-bf62-1807f2591fd5",
   "metadata": {},
   "outputs": [],
   "source": [
    "import os"
   ]
  },
  {
   "cell_type": "markdown",
   "id": "50b8bc8f-a2d1-4079-a610-d9fd86b65760",
   "metadata": {},
   "source": [
    "---"
   ]
  },
  {
   "cell_type": "markdown",
   "id": "985bc0a0-5b99-4112-bcd3-70f7c27b15a7",
   "metadata": {},
   "source": [
    "# Setup"
   ]
  },
  {
   "cell_type": "code",
   "execution_count": 63,
   "id": "f69fca29-9d31-4b5e-80d3-7eb832ef8477",
   "metadata": {},
   "outputs": [],
   "source": [
    "base_url = \"../../datasets/others/\""
   ]
  },
  {
   "cell_type": "markdown",
   "id": "8a438097-4bf2-4715-b630-984f40c53775",
   "metadata": {},
   "source": [
    "---"
   ]
  },
  {
   "cell_type": "markdown",
   "id": "ecb3f70e-ce44-4331-999d-ace07aca13cc",
   "metadata": {},
   "source": [
    "# IO\n",
    "- r = Read\n",
    "- a = Append\n",
    "- w = Write\n",
    "- x = Create"
   ]
  },
  {
   "cell_type": "markdown",
   "id": "8dd2bf8a-ff13-4c20-9fc3-057658c043f9",
   "metadata": {},
   "source": [
    "#### Read"
   ]
  },
  {
   "cell_type": "code",
   "execution_count": 35,
   "id": "3ea2bee8-887c-453d-ac36-1e0a688e30ef",
   "metadata": {},
   "outputs": [],
   "source": [
    "f = open(\"../../datasets/others/names.txt\", \"r\")"
   ]
  },
  {
   "cell_type": "code",
   "execution_count": 36,
   "id": "f135a7ef-2f14-4058-b2bc-4b238a487d67",
   "metadata": {},
   "outputs": [],
   "source": [
    "# print(f.read())"
   ]
  },
  {
   "cell_type": "code",
   "execution_count": 37,
   "id": "5c1efa47-15a8-42eb-8199-7feefe6fb86b",
   "metadata": {},
   "outputs": [],
   "source": [
    "# print(f.read(4))"
   ]
  },
  {
   "cell_type": "code",
   "execution_count": 38,
   "id": "240f60c0-51e2-4ca9-8425-1fb84949303a",
   "metadata": {},
   "outputs": [],
   "source": [
    "# print(f.readline())"
   ]
  },
  {
   "cell_type": "code",
   "execution_count": 39,
   "id": "ec40ea75-4392-47f6-a962-b89c470158ef",
   "metadata": {},
   "outputs": [],
   "source": [
    "# print(f.readline())"
   ]
  },
  {
   "cell_type": "code",
   "execution_count": 40,
   "id": "5c26b30b-dc69-453e-b7af-32c3752599fe",
   "metadata": {},
   "outputs": [],
   "source": [
    "# print(f.readline())"
   ]
  },
  {
   "cell_type": "code",
   "execution_count": 41,
   "id": "92ddae7c-e01e-4a1d-bdfe-2d0ee6429726",
   "metadata": {},
   "outputs": [
    {
     "name": "stdout",
     "output_type": "stream",
     "text": [
      "Dave\n",
      "\n",
      "Jane\n",
      "\n",
      "Eddie\n",
      "\n",
      "Jimmie\n",
      "\n",
      "Neil\n"
     ]
    }
   ],
   "source": [
    "for line in f:\n",
    "    print(line)"
   ]
  },
  {
   "cell_type": "code",
   "execution_count": 42,
   "id": "ecd1adcf-30fa-407c-b344-875e168f359b",
   "metadata": {},
   "outputs": [],
   "source": [
    "f.close()"
   ]
  },
  {
   "cell_type": "code",
   "execution_count": 43,
   "id": "35247d6b-d705-4e65-bd52-99dfaebcc22d",
   "metadata": {},
   "outputs": [
    {
     "name": "stdout",
     "output_type": "stream",
     "text": [
      "The file you want to read doesn't exist\n"
     ]
    }
   ],
   "source": [
    "try:\n",
    "    f = open(\"../../datasets/others/names_doesnt_exist.txt\", \"r\")\n",
    "    print(f.read())\n",
    "except:\n",
    "    print(\"The file you want to read doesn't exist\")\n",
    "finally:\n",
    "    f.close()"
   ]
  },
  {
   "cell_type": "markdown",
   "id": "9c49b9ce-b25a-4daf-a1a0-11668d2549f8",
   "metadata": {},
   "source": [
    "#### Append"
   ]
  },
  {
   "cell_type": "code",
   "execution_count": 44,
   "id": "62987e0d-b33b-4bb2-bbf8-66e6b17e1542",
   "metadata": {},
   "outputs": [],
   "source": [
    "f = open(\"../../datasets/others/names.txt\", \"a\")\n",
    "f.write(\"Neil\")\n",
    "f.close()"
   ]
  },
  {
   "cell_type": "code",
   "execution_count": 45,
   "id": "adfd35a1-1af0-49a0-bb69-e813339d18de",
   "metadata": {},
   "outputs": [
    {
     "name": "stdout",
     "output_type": "stream",
     "text": [
      "Dave\n",
      "Jane\n",
      "Eddie\n",
      "Jimmie\n",
      "NeilNeil\n"
     ]
    }
   ],
   "source": [
    "f = open(\"../../datasets/others/names.txt\")\n",
    "print(f.read())\n",
    "f.close()"
   ]
  },
  {
   "cell_type": "markdown",
   "id": "1da29206-287c-48aa-8a59-9013e6dcf095",
   "metadata": {},
   "source": [
    "#### Write\n",
    "- overwrite"
   ]
  },
  {
   "cell_type": "code",
   "execution_count": 46,
   "id": "caee4b7c-0a26-4a87-bfd0-b79735449a5c",
   "metadata": {},
   "outputs": [],
   "source": [
    "f = open(\"../../datasets/others/context.txt\", \"w\")\n",
    "f.write(\"I delete all of the context\")\n",
    "f.close()"
   ]
  },
  {
   "cell_type": "code",
   "execution_count": 47,
   "id": "a314d62e-9545-4d18-9f3c-2d7e8e0331ae",
   "metadata": {},
   "outputs": [
    {
     "name": "stdout",
     "output_type": "stream",
     "text": [
      "I delete all of the context\n"
     ]
    }
   ],
   "source": [
    "f = open(\"../../datasets/others/context.txt\")\n",
    "print(f.read())\n",
    "f.close()"
   ]
  },
  {
   "cell_type": "markdown",
   "id": "f958c713-54fc-43b6-a751-cf831c5b70ec",
   "metadata": {},
   "source": [
    "#### Two ways to create a new file\n",
    "- Opens a file for writing, creates the file if it doesn't exist\n",
    "- Creates the specified file, but returns an error if the file exists"
   ]
  },
  {
   "cell_type": "code",
   "execution_count": 49,
   "id": "0306dacd-668b-4d73-80b0-fc7c08530a5c",
   "metadata": {},
   "outputs": [],
   "source": [
    "f = open(\"../../datasets/others/name_list.txt\", \"w\")\n",
    "f.close()"
   ]
  },
  {
   "cell_type": "code",
   "execution_count": 53,
   "id": "1a2c1fee-87ff-4896-ab41-1043b65272b4",
   "metadata": {},
   "outputs": [],
   "source": [
    "if not os.path.exists(\"../../datasets/others/list.txt\"):\n",
    "    f = open(\"../../datasets/others/list.txt\", \"x\")\n",
    "    f.close()"
   ]
  },
  {
   "cell_type": "markdown",
   "id": "21fdb7d7-3f7d-4da0-9885-b08cbe13f877",
   "metadata": {},
   "source": [
    "#### Delete a file\n",
    "- avoid an error if it doesn't exist"
   ]
  },
  {
   "cell_type": "code",
   "execution_count": 56,
   "id": "9ef7928d-1fd8-40ff-bbb8-ae4c122dd0df",
   "metadata": {},
   "outputs": [
    {
     "name": "stdout",
     "output_type": "stream",
     "text": [
      "File exist\n"
     ]
    }
   ],
   "source": [
    "if os.path.exists(\"../../datasets/others/list.txt\"):\n",
    "    print(\"File exist\")\n",
    "    os.remove(\"../../datasets/others/list.txt\")\n",
    "else:\n",
    "    print(\"The file you wish to delete does not exist\")"
   ]
  },
  {
   "cell_type": "markdown",
   "id": "a1e3febe-b8d6-4211-8ddf-d7e4c5c561af",
   "metadata": {},
   "source": [
    "# With Keyword"
   ]
  },
  {
   "cell_type": "code",
   "execution_count": 67,
   "id": "14dfc7ae-1555-4160-b72c-9caa7ff115d2",
   "metadata": {},
   "outputs": [],
   "source": [
    "with open(base_url + \"more_names.txt\") as f:\n",
    "    content = f.read()"
   ]
  },
  {
   "cell_type": "code",
   "execution_count": 68,
   "id": "8d294d09-11e8-4b90-99be-c2ee46cbce21",
   "metadata": {},
   "outputs": [],
   "source": [
    "with open(base_url + \"names.txt\", \"w\") as f:\n",
    "    f.write(content)"
   ]
  }
 ],
 "metadata": {
  "kernelspec": {
   "display_name": "Python 3 (ipykernel)",
   "language": "python",
   "name": "python3"
  },
  "language_info": {
   "codemirror_mode": {
    "name": "ipython",
    "version": 3
   },
   "file_extension": ".py",
   "mimetype": "text/x-python",
   "name": "python",
   "nbconvert_exporter": "python",
   "pygments_lexer": "ipython3",
   "version": "3.11.4"
  },
  "widgets": {
   "application/vnd.jupyter.widget-state+json": {
    "state": {},
    "version_major": 2,
    "version_minor": 0
   }
  }
 },
 "nbformat": 4,
 "nbformat_minor": 5
}
