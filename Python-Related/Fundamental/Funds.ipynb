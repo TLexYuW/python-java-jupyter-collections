{
 "cells": [
  {
   "cell_type": "markdown",
   "id": "d0143813-e78f-4e5a-966f-779925933541",
   "metadata": {},
   "source": [
    "# Import"
   ]
  },
  {
   "cell_type": "code",
   "execution_count": null,
   "id": "81ea9130-7cbe-43a6-a8b7-19fc8bb65a0d",
   "metadata": {},
   "outputs": [],
   "source": []
  },
  {
   "cell_type": "markdown",
   "id": "033f7c83-3213-4c57-9b6a-dc3eb95b8980",
   "metadata": {},
   "source": [
    "---"
   ]
  },
  {
   "cell_type": "markdown",
   "id": "41802b25-61a8-49aa-b514-3e47da242159",
   "metadata": {},
   "source": [
    "# Setup"
   ]
  },
  {
   "cell_type": "code",
   "execution_count": null,
   "id": "fc7714ef-131b-4e1b-922f-c1889ef7a005",
   "metadata": {},
   "outputs": [],
   "source": [
    "# code"
   ]
  },
  {
   "cell_type": "markdown",
   "id": "1b935757-74fc-454c-9053-e30e0ed5aac5",
   "metadata": {},
   "source": [
    "---"
   ]
  },
  {
   "cell_type": "markdown",
   "id": "29c209b5-4f87-474c-9e6c-e3a36fa88229",
   "metadata": {},
   "source": [
    "# TOC"
   ]
  },
  {
   "cell_type": "markdown",
   "id": "0db224b8-9272-4592-bd86-da6398e36307",
   "metadata": {},
   "source": [
    "- Args\n",
    "- Kwargs\n",
    "- Exception\n",
    "- All & Any\n",
    "- Operators"
   ]
  },
  {
   "cell_type": "markdown",
   "id": "01502c79-9751-49b5-8c09-d5a73868571c",
   "metadata": {},
   "source": [
    "---"
   ]
  },
  {
   "cell_type": "markdown",
   "id": "fec098e7-b42f-4d44-a127-9d09402616ca",
   "metadata": {},
   "source": [
    "# Args"
   ]
  },
  {
   "cell_type": "code",
   "execution_count": 1,
   "id": "d61f3c42-e4c6-4324-9043-5af4ab3c6b90",
   "metadata": {},
   "outputs": [
    {
     "name": "stdout",
     "output_type": "stream",
     "text": [
      "apples\n",
      "bananas\n",
      "grapes\n",
      "None\n"
     ]
    }
   ],
   "source": [
    "def fruits(*args):\n",
    "    for fruit in args:\n",
    "        print(fruit)\n",
    "        \n",
    "        \n",
    "print(fruits(\"apples\", \"bananas\", \"grapes\"))"
   ]
  },
  {
   "cell_type": "code",
   "execution_count": 2,
   "id": "33d4f9c5-6e5d-49ee-8a74-413bdaf52b62",
   "metadata": {},
   "outputs": [
    {
     "name": "stdout",
     "output_type": "stream",
     "text": [
      "name: apple\n",
      "color: red\n",
      "None\n"
     ]
    }
   ],
   "source": [
    "def fruit(**kwargs):\n",
    "    for key, value in kwargs.items():\n",
    "        print(\"{0}: {1}\".format(key, value))\n",
    "        \n",
    "print(fruit(name = 'apple', color = 'red'))"
   ]
  },
  {
   "cell_type": "markdown",
   "id": "df787af6-2d0a-4923-85bc-9798affc6993",
   "metadata": {},
   "source": [
    "---"
   ]
  },
  {
   "cell_type": "markdown",
   "id": "e4971b5c-11dc-495e-a109-4e808e652de0",
   "metadata": {},
   "source": [
    "# Exception"
   ]
  },
  {
   "cell_type": "code",
   "execution_count": 1,
   "id": "274acea3-a300-4906-8db4-f69f83d5f54c",
   "metadata": {},
   "outputs": [
    {
     "name": "stdout",
     "output_type": "stream",
     "text": [
      "-- division finished --\n",
      "21.0\n",
      "-- division finished --\n",
      "3.5\n",
      "Error: Invalid argument: division by zero\n",
      "-- division finished --\n",
      "None\n",
      "-- division finished --\n",
      "42.0\n"
     ]
    }
   ],
   "source": [
    "def spam(divideBy):\n",
    "    try:\n",
    "        return 42 / divideBy\n",
    "    except ZeroDivisionError as e:\n",
    "        print('Error: Invalid argument: {}'.format(e))\n",
    "    finally:\n",
    "        print(\"-- division finished --\")\n",
    "        \n",
    "print(spam(2))\n",
    "print(spam(12))\n",
    "print(spam(0))\n",
    "print(spam(1))"
   ]
  },
  {
   "cell_type": "markdown",
   "id": "21639265-6191-41c8-ad30-685607881188",
   "metadata": {},
   "source": [
    "### Demo-1"
   ]
  },
  {
   "cell_type": "code",
   "execution_count": 16,
   "id": "a323625c-205d-4b27-a195-febca354d7e8",
   "metadata": {},
   "outputs": [
    {
     "name": "stdin",
     "output_type": "stream",
     "text": [
      "Enter a number:  2132desdas\n"
     ]
    },
    {
     "name": "stdout",
     "output_type": "stream",
     "text": [
      "ValueError\n"
     ]
    }
   ],
   "source": [
    "try:\n",
    "    x = int(input(\"Enter a number: \"))\n",
    "    y = 1 / x\n",
    "    print(y)\n",
    "\n",
    "except ZeroDivisionError:\n",
    "    print(\"ZeroDivisionError\")\n",
    "except ValueError:\n",
    "    print(\"ValueError\")\n",
    "except:\n",
    "    print(\"Else Wrong\")"
   ]
  },
  {
   "cell_type": "markdown",
   "id": "6a28003c-67cf-409e-90ed-547d8b970b28",
   "metadata": {},
   "source": [
    "### Demo-2"
   ]
  },
  {
   "cell_type": "code",
   "execution_count": 17,
   "id": "c94c1f5c-9cf7-4476-8eeb-2eb9bad66914",
   "metadata": {},
   "outputs": [
    {
     "name": "stdout",
     "output_type": "stream",
     "text": [
      "zero error\n"
     ]
    }
   ],
   "source": [
    "try:\n",
    "    print(\"my_string\"[1/0])\n",
    "except IndexError:\n",
    "    print(\"index error\")\n",
    "except ZeroDivisionError:\n",
    "    print(\"zero error\")\n",
    "except:\n",
    "    print(\"other error\")"
   ]
  },
  {
   "cell_type": "markdown",
   "id": "4c62586a-aff6-4848-9112-13f75ef2ac1c",
   "metadata": {},
   "source": [
    "### Demo-3"
   ]
  },
  {
   "cell_type": "code",
   "execution_count": 18,
   "id": "926f2a15-636d-4f39-8d90-b0698bfdd31d",
   "metadata": {},
   "outputs": [
    {
     "name": "stdout",
     "output_type": "stream",
     "text": [
      "No character found in that index\n"
     ]
    }
   ],
   "source": [
    "try:\n",
    "    x = 'seasalt'[7]\n",
    "except IndexError:\n",
    "    print(\"No character found in that index\")"
   ]
  },
  {
   "cell_type": "markdown",
   "id": "ef837ee4-7778-43d3-9624-6e303a1780af",
   "metadata": {},
   "source": [
    "### Demo-4"
   ]
  },
  {
   "cell_type": "code",
   "execution_count": 19,
   "id": "3452b3f8-e1ca-42f2-a234-7ee118fecf30",
   "metadata": {},
   "outputs": [
    {
     "name": "stdin",
     "output_type": "stream",
     "text": [
      "Enter a number:  12\n"
     ]
    },
    {
     "name": "stdout",
     "output_type": "stream",
     "text": [
      "Please enter valid numbers, besides zero.\n"
     ]
    }
   ],
   "source": [
    "a = input(\"Enter a number: \")\n",
    "try:\n",
    "    float(a) / 0\n",
    "except (TypeError, ZeroDivisionError):\n",
    "    print(\"Please enter valid numbers, besides zero.\")"
   ]
  },
  {
   "cell_type": "markdown",
   "id": "30a84143-4c36-446d-847b-0756185ec0aa",
   "metadata": {},
   "source": [
    "---"
   ]
  },
  {
   "cell_type": "markdown",
   "id": "f861a2f7-fa04-4bd8-8ad5-15d2b4d129cb",
   "metadata": {},
   "source": [
    "# All & Any"
   ]
  },
  {
   "cell_type": "code",
   "execution_count": 2,
   "id": "21f77a20-320f-4ef8-a73a-d6c8e9fd5d75",
   "metadata": {},
   "outputs": [],
   "source": [
    "x = [\n",
    "    True,\n",
    "    True,\n",
    "    True,\n",
    "]\n",
    "\n",
    "\n",
    "y = [\n",
    "    True,\n",
    "    False,\n",
    "    True,\n",
    "]\n",
    "\n",
    "\n",
    "z = [\n",
    "    False,\n",
    "    False,\n",
    "    False,\n",
    "]"
   ]
  },
  {
   "cell_type": "code",
   "execution_count": 6,
   "id": "137d8a28-9e0d-4060-add0-f6f63ecabff5",
   "metadata": {},
   "outputs": [
    {
     "name": "stdout",
     "output_type": "stream",
     "text": [
      "True\n",
      "True\n",
      "False\n"
     ]
    }
   ],
   "source": [
    "print(any(x))\n",
    "print(any(y))\n",
    "print(any(z))"
   ]
  },
  {
   "cell_type": "code",
   "execution_count": 7,
   "id": "397cf8b4-e017-4de9-a1d4-9c60dc6be7dd",
   "metadata": {},
   "outputs": [
    {
     "name": "stdout",
     "output_type": "stream",
     "text": [
      "True\n",
      "False\n",
      "False\n"
     ]
    }
   ],
   "source": [
    "print(all(x))\n",
    "print(all(y))\n",
    "print(all(z))"
   ]
  },
  {
   "cell_type": "code",
   "execution_count": 8,
   "id": "1a323f9a-a22e-465a-9c38-5a685a6a9344",
   "metadata": {},
   "outputs": [
    {
     "name": "stdout",
     "output_type": "stream",
     "text": [
      "False\n",
      "True\n"
     ]
    }
   ],
   "source": [
    "m = [0, 0, 0, 1]\n",
    "\n",
    "print(all(m))\n",
    "print(any(m))"
   ]
  },
  {
   "cell_type": "markdown",
   "id": "23a55982-f505-4cc4-9e1f-fcc9ff4a0d9f",
   "metadata": {},
   "source": [
    "---"
   ]
  },
  {
   "cell_type": "markdown",
   "id": "e76dd02b-4d1b-4d6f-a2be-306bb1b0b242",
   "metadata": {},
   "source": [
    "# Operators"
   ]
  },
  {
   "cell_type": "code",
   "execution_count": 9,
   "id": "ebc91f5b-6356-48d3-9cfe-fae8d2ff195b",
   "metadata": {},
   "outputs": [
    {
     "name": "stdout",
     "output_type": "stream",
     "text": [
      "8\n",
      "5.0\n",
      "5\n",
      "1.0\n",
      "-29.0\n",
      "16.0\n",
      "16\n"
     ]
    }
   ],
   "source": [
    "# Exponential\n",
    "print(2 ** 3)\n",
    "\n",
    "print(10 / 2)\n",
    "\n",
    "# Floor\n",
    "print(10 // 2)\n",
    "print(6. // 4)\n",
    "\n",
    "print(10 - 6 ** 2 / 9 * 10 + 1)\n",
    "\n",
    "print(20 / 5 * 4)\n",
    "\n",
    "print(20 // 5 * 4)\n"
   ]
  },
  {
   "cell_type": "code",
   "execution_count": 11,
   "id": "fa70cd65-dbc7-4627-818b-f554d33708af",
   "metadata": {},
   "outputs": [
    {
     "name": "stdout",
     "output_type": "stream",
     "text": [
      "True\n"
     ]
    }
   ],
   "source": [
    "print(\"python\" > \"Python\")"
   ]
  },
  {
   "cell_type": "code",
   "execution_count": 10,
   "id": "782225da-2746-4888-8a76-ba9b0a5c8f59",
   "metadata": {},
   "outputs": [
    {
     "name": "stdout",
     "output_type": "stream",
     "text": [
      "You are hungry\n"
     ]
    }
   ],
   "source": [
    "is_hungry = True\n",
    "if not is_hungry:\n",
    "    print(\"You are not hungry\")\n",
    "else:\n",
    "    print(\"You are hungry\")"
   ]
  },
  {
   "cell_type": "code",
   "execution_count": 20,
   "id": "a9c7d1cc-d3c7-42d8-8a87-b09ccf68d855",
   "metadata": {},
   "outputs": [
    {
     "name": "stdout",
     "output_type": "stream",
     "text": [
      "True\n"
     ]
    }
   ],
   "source": [
    "print(42 == 42.0)"
   ]
  },
  {
   "cell_type": "markdown",
   "id": "a6abfeac-425e-42db-a3e1-8bfe3aee1423",
   "metadata": {},
   "source": [
    "---"
   ]
  }
 ],
 "metadata": {
  "kernelspec": {
   "display_name": "Python 3 (ipykernel)",
   "language": "python",
   "name": "python3"
  },
  "language_info": {
   "codemirror_mode": {
    "name": "ipython",
    "version": 3
   },
   "file_extension": ".py",
   "mimetype": "text/x-python",
   "name": "python",
   "nbconvert_exporter": "python",
   "pygments_lexer": "ipython3",
   "version": "3.11.7"
  }
 },
 "nbformat": 4,
 "nbformat_minor": 5
}
