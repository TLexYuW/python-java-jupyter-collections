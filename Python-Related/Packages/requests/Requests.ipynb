{
 "cells": [
  {
   "cell_type": "markdown",
   "id": "da3b8e7a-b6f6-457f-9b1e-e45002af4e22",
   "metadata": {},
   "source": [
    "# Import"
   ]
  },
  {
   "cell_type": "code",
   "execution_count": 1,
   "id": "19012406-02f1-446f-bda9-88119b6f7ffb",
   "metadata": {},
   "outputs": [],
   "source": [
    "import requests as rqs"
   ]
  },
  {
   "cell_type": "markdown",
   "id": "dc8a8505-f581-47d5-966e-5c4aa295189f",
   "metadata": {},
   "source": [
    "---"
   ]
  },
  {
   "cell_type": "markdown",
   "id": "d313a1f4-bdd2-4560-ad38-f0fc9c3df4e4",
   "metadata": {},
   "source": [
    "# TOC"
   ]
  },
  {
   "cell_type": "markdown",
   "id": "ecc9e9be-4f8e-4254-a383-fde4ec1c1b83",
   "metadata": {},
   "source": [
    "- GET\n",
    "- POST\n",
    "- Handle Error\n",
    "- Change User-Agent\n",
    "- Download Image\n",
    "- Timeout\n",
    "- Proxy Server"
   ]
  },
  {
   "cell_type": "markdown",
   "id": "c67c55f5-7cb1-4253-8ea1-3f7fe6b9082a",
   "metadata": {},
   "source": [
    "---"
   ]
  },
  {
   "cell_type": "markdown",
   "id": "25c158a9-14e4-4fd6-a5be-66584d212103",
   "metadata": {},
   "source": [
    "# Setup"
   ]
  },
  {
   "cell_type": "code",
   "execution_count": null,
   "id": "14e3ab76-b9fd-4bb2-83ea-d7f9d80e756b",
   "metadata": {},
   "outputs": [],
   "source": [
    "# code"
   ]
  },
  {
   "cell_type": "markdown",
   "id": "5d2a4d23-fdcd-4a1a-b574-7845f0adc0ee",
   "metadata": {},
   "source": [
    "---"
   ]
  },
  {
   "cell_type": "markdown",
   "id": "9c60ba38-fc57-4786-b89e-30445c773bd4",
   "metadata": {},
   "source": [
    "# GET"
   ]
  },
  {
   "cell_type": "code",
   "execution_count": 4,
   "id": "271e1c76-9448-4aad-86d8-b35eec6a2a6d",
   "metadata": {},
   "outputs": [
    {
     "name": "stdout",
     "output_type": "stream",
     "text": [
      "200\n"
     ]
    }
   ],
   "source": [
    "res_1 = rqs.get(\"https://httpbin.org/get\")\n",
    "print(res_1.status_code)"
   ]
  },
  {
   "cell_type": "code",
   "execution_count": 41,
   "id": "89f4bdac-d636-479c-bb0a-0df572c58288",
   "metadata": {},
   "outputs": [
    {
     "name": "stdout",
     "output_type": "stream",
     "text": [
      "{'headers': {'Accept': '*/*', 'Accept-Encoding': 'gzip, deflate', 'Host': 'httpbin.org', 'User-Agent': 'python-requests/2.31.0', 'X-Amzn-Trace-Id': 'Root=1-65c49370-20fbeec06a80467b3bf256c4'}, 'url': 'https://httpbin.org/get'}\n"
     ]
    }
   ],
   "source": [
    "res_1_json = res_1.json()\n",
    "del res_1_json[\"args\"]\n",
    "del res_1_json[\"origin\"]\n",
    "print(res_1_json)"
   ]
  },
  {
   "cell_type": "code",
   "execution_count": 7,
   "id": "f600c42b-4b36-4e4d-9de0-86e737566979",
   "metadata": {},
   "outputs": [
    {
     "name": "stdout",
     "output_type": "stream",
     "text": [
      "200\n"
     ]
    }
   ],
   "source": [
    "params = {\"name\": \"Lex\", \"age\": 1000}\n",
    "res_2 = rqs.get(\"https://httpbin.org/get\", params=params)\n",
    "print(res_2.status_code)"
   ]
  },
  {
   "cell_type": "code",
   "execution_count": 42,
   "id": "2a0d9c06-3eb7-4028-b0f8-7bc3b5d09e4a",
   "metadata": {},
   "outputs": [
    {
     "name": "stdout",
     "output_type": "stream",
     "text": [
      "{'args': {'age': '1000', 'name': 'Lex'}, 'headers': {'Accept': '*/*', 'Accept-Encoding': 'gzip, deflate', 'Host': 'httpbin.org', 'User-Agent': 'python-requests/2.31.0', 'X-Amzn-Trace-Id': 'Root=1-65c4937e-56122d5c36e565ef65d55333'}, 'url': 'https://httpbin.org/get?name=Lex&age=1000'}\n"
     ]
    }
   ],
   "source": [
    "res_2_json = res_2.json()\n",
    "del res_2_json[\"origin\"]\n",
    "print(res_2_json)"
   ]
  },
  {
   "cell_type": "markdown",
   "id": "4ad42e1a-73ee-4b9c-936b-90d6385cc3d1",
   "metadata": {},
   "source": [
    "---"
   ]
  },
  {
   "cell_type": "markdown",
   "id": "eff18e16-9c12-4c4c-9dd5-f5f9443169c5",
   "metadata": {},
   "source": [
    "# POST"
   ]
  },
  {
   "cell_type": "code",
   "execution_count": 9,
   "id": "83d21f48-c1f2-48a9-af76-bd61f84f7de8",
   "metadata": {},
   "outputs": [
    {
     "name": "stdout",
     "output_type": "stream",
     "text": [
      "200\n"
     ]
    }
   ],
   "source": [
    "payload = {\"name\": \"Lex\", \"age\": 1000}\n",
    "res_3 = rqs.post(\"https://httpbin.org/post\", data=payload)\n",
    "print(res_3.status_code)"
   ]
  },
  {
   "cell_type": "code",
   "execution_count": 40,
   "id": "c2eb3e50-04ea-495b-ad77-1cef4e06f527",
   "metadata": {},
   "outputs": [
    {
     "name": "stdout",
     "output_type": "stream",
     "text": [
      "{'args': {}, 'data': '', 'files': {}, 'form': {'age': '1000', 'name': 'Lex'}, 'headers': {'Accept': '*/*', 'Accept-Encoding': 'gzip, deflate', 'Content-Length': '17', 'Content-Type': 'application/x-www-form-urlencoded', 'Host': 'httpbin.org', 'User-Agent': 'python-requests/2.31.0', 'X-Amzn-Trace-Id': 'Root=1-65c493a1-5ae0f8915631ca1619446185'}, 'json': None, 'url': 'https://httpbin.org/post'}\n"
     ]
    }
   ],
   "source": [
    "res_3_json = res_3.json()\n",
    "del res_3_json[\"origin\"]\n",
    "print(res_3_json)"
   ]
  },
  {
   "cell_type": "markdown",
   "id": "92606b04-97fb-4c1c-9283-ecb91b6e3d8b",
   "metadata": {},
   "source": [
    "---"
   ]
  },
  {
   "cell_type": "markdown",
   "id": "c8881d34-432f-4013-bc04-e8da47b5c0ef",
   "metadata": {},
   "source": [
    "# Handle Error"
   ]
  },
  {
   "cell_type": "code",
   "execution_count": 11,
   "id": "731b66ed-7ec9-4f88-bf3b-686da4f0daa1",
   "metadata": {},
   "outputs": [
    {
     "name": "stdout",
     "output_type": "stream",
     "text": [
      "404\n",
      "{'Date': 'Thu, 08 Feb 2024 08:42:31 GMT', 'Content-Type': 'text/html; charset=utf-8', 'Content-Length': '0', 'Connection': 'keep-alive', 'Server': 'gunicorn/19.9.0', 'Access-Control-Allow-Origin': '*', 'Access-Control-Allow-Credentials': 'true'}\n"
     ]
    }
   ],
   "source": [
    "res_4 = rqs.get(\"https://httpbin.org/status/404\")\n",
    "print(res_4.status_code)\n",
    "print(res_4.headers)"
   ]
  },
  {
   "cell_type": "code",
   "execution_count": 13,
   "id": "afa6d272-ffa2-4c8a-94ff-018be0d5db7d",
   "metadata": {},
   "outputs": [
    {
     "name": "stdout",
     "output_type": "stream",
     "text": [
      "raise error\n"
     ]
    }
   ],
   "source": [
    "if res_4.status_code == rqs.codes.not_found:\n",
    "    print(\"raise error\")\n",
    "    # res_4.raise_for_status()"
   ]
  },
  {
   "cell_type": "code",
   "execution_count": 14,
   "id": "223426c3-add4-4f93-9a5b-00efcb61e023",
   "metadata": {},
   "outputs": [
    {
     "name": "stdout",
     "output_type": "stream",
     "text": [
      "Not Found\n"
     ]
    }
   ],
   "source": [
    "if res_4.status_code == rqs.codes.not_found:\n",
    "    print(\"Not Found\")\n",
    "else:\n",
    "    print(res_4.status_code)"
   ]
  },
  {
   "cell_type": "markdown",
   "id": "a5b3bdd2-1830-4741-a2a8-05a76fa3b10d",
   "metadata": {},
   "source": [
    "---"
   ]
  },
  {
   "cell_type": "markdown",
   "id": "976068c9-003c-476c-9817-d680736d3dc4",
   "metadata": {},
   "source": [
    "# Change User-Agent"
   ]
  },
  {
   "cell_type": "code",
   "execution_count": 16,
   "id": "8e202673-5c1a-4261-9836-91d21fc12e2a",
   "metadata": {},
   "outputs": [],
   "source": [
    "headers = {\n",
    "    \"User-Agent\": \"Mozilla/5.0 (iPhone14,3; U; CPU iPhone OS 15_0 like Mac OS X) AppleWebKit/602.1.50 (KHTML, like Gecko) Version/10.0 Mobile/19A346 Safari/602.1\",\n",
    "    \"Accept\": \"image/svg+xml\",\n",
    "}"
   ]
  },
  {
   "cell_type": "code",
   "execution_count": 18,
   "id": "c052cff8-eead-45f4-9741-915631a0c8bd",
   "metadata": {},
   "outputs": [
    {
     "name": "stdout",
     "output_type": "stream",
     "text": [
      "200\n"
     ]
    }
   ],
   "source": [
    "res_5 = rqs.get(\"https://httpbin.org/user-agent\", headers=headers)\n",
    "print(res_5.status_code)"
   ]
  },
  {
   "cell_type": "code",
   "execution_count": 19,
   "id": "355f584a-06fd-432e-abf6-cc766dd14b2f",
   "metadata": {},
   "outputs": [
    {
     "name": "stdout",
     "output_type": "stream",
     "text": [
      "{'Date': 'Thu, 08 Feb 2024 08:43:48 GMT', 'Content-Type': 'application/json', 'Content-Length': '165', 'Connection': 'keep-alive', 'Server': 'gunicorn/19.9.0', 'Access-Control-Allow-Origin': '*', 'Access-Control-Allow-Credentials': 'true'}\n"
     ]
    }
   ],
   "source": [
    "print(res_5.headers)"
   ]
  },
  {
   "cell_type": "code",
   "execution_count": 20,
   "id": "cc5690b8-da5d-4cb2-ae99-a00ec8d26b2b",
   "metadata": {},
   "outputs": [
    {
     "name": "stdout",
     "output_type": "stream",
     "text": [
      "{\n",
      "  \"user-agent\": \"Mozilla/5.0 (iPhone14,3; U; CPU iPhone OS 15_0 like Mac OS X) AppleWebKit/602.1.50 (KHTML, like Gecko) Version/10.0 Mobile/19A346 Safari/602.1\"\n",
      "}\n",
      "\n"
     ]
    }
   ],
   "source": [
    "print(res_5.text)"
   ]
  },
  {
   "cell_type": "markdown",
   "id": "ec16745d-e6ee-4ace-ad58-1688b6dde0e3",
   "metadata": {},
   "source": [
    "---"
   ]
  },
  {
   "cell_type": "markdown",
   "id": "870c7c87-f77e-492c-96c3-d05c86de75f3",
   "metadata": {},
   "source": [
    "# Download Image"
   ]
  },
  {
   "cell_type": "code",
   "execution_count": 21,
   "id": "3081c924-24cc-43c4-a21b-242fe1268ada",
   "metadata": {},
   "outputs": [],
   "source": [
    "res_6 = rqs.get(\"https://httpbin.org/image\", headers=headers)"
   ]
  },
  {
   "cell_type": "code",
   "execution_count": 31,
   "id": "05a1644e-e150-4e93-ae9d-793a96991696",
   "metadata": {},
   "outputs": [],
   "source": [
    "with open(\"../../../datasets/images/image_test.jpg\", \"wb\") as f:\n",
    "    f.write(res_6.content)"
   ]
  },
  {
   "cell_type": "markdown",
   "id": "c1de1e93-1b6e-4f33-be77-8621abbf004c",
   "metadata": {},
   "source": [
    "---"
   ]
  },
  {
   "cell_type": "markdown",
   "id": "4ee878b1-b267-4e26-b081-6aa343380d2a",
   "metadata": {},
   "source": [
    "# Timeout"
   ]
  },
  {
   "cell_type": "code",
   "execution_count": 39,
   "id": "60d8507e-4369-40be-a61b-1aa29993d6ac",
   "metadata": {},
   "outputs": [
    {
     "name": "stdout",
     "output_type": "stream",
     "text": [
      "{'data': '', 'files': {}, 'form': {}, 'headers': {'Accept': '*/*', 'Accept-Encoding': 'gzip, deflate', 'Host': 'httpbin.org', 'User-Agent': 'python-requests/2.31.0', 'X-Amzn-Trace-Id': 'Root=1-65c4973d-09ea8964256c61d205aec335'}, 'url': 'https://httpbin.org/delay/2'}\n",
      "{'data': '', 'files': {}, 'form': {}, 'headers': {'Accept': '*/*', 'Accept-Encoding': 'gzip, deflate', 'Host': 'httpbin.org', 'User-Agent': 'python-requests/2.31.0', 'X-Amzn-Trace-Id': 'Root=1-65c49740-5be14f01600cb7a24226a6e0'}, 'url': 'https://httpbin.org/delay/2'}\n",
      "{'data': '', 'files': {}, 'form': {}, 'headers': {'Accept': '*/*', 'Accept-Encoding': 'gzip, deflate', 'Host': 'httpbin.org', 'User-Agent': 'python-requests/2.31.0', 'X-Amzn-Trace-Id': 'Root=1-65c49743-2cafb203490c1a5e6ce0cddd'}, 'url': 'https://httpbin.org/delay/2'}\n"
     ]
    }
   ],
   "source": [
    "for i in [1, 2, 3]:\n",
    "    try:\n",
    "        res_7 = rqs.get(\"https://httpbin.org/delay/2\", timeout=3)\n",
    "    except:\n",
    "        print(i)\n",
    "        continue\n",
    "\n",
    "    res_7_json = res_7.json()\n",
    "    del res_7_json[\"args\"]\n",
    "    del res_7_json[\"origin\"]\n",
    "    print(res_7_json)"
   ]
  },
  {
   "cell_type": "markdown",
   "id": "b2b9b294-aa35-43b3-bf1f-570eadba9a94",
   "metadata": {},
   "source": [
    "---"
   ]
  },
  {
   "cell_type": "markdown",
   "id": "c9b6c00f-393d-4e68-8bac-f83ebfbd020b",
   "metadata": {},
   "source": [
    "# Proxy Server"
   ]
  },
  {
   "cell_type": "code",
   "execution_count": 37,
   "id": "2eaf6937-064f-4088-b595-d199a85fb914",
   "metadata": {},
   "outputs": [],
   "source": [
    "proxies = {\"http\": \"46.4.96.137:80\"}\n",
    "res_8 = rqs.get(\"https://httpbin.org/get\", proxies=proxies)"
   ]
  },
  {
   "cell_type": "code",
   "execution_count": 38,
   "id": "2a656e3a-e852-4282-b808-f951f575a469",
   "metadata": {},
   "outputs": [
    {
     "name": "stdout",
     "output_type": "stream",
     "text": [
      "{'args': {}, 'headers': {'Accept': '*/*', 'Accept-Encoding': 'gzip, deflate', 'Host': 'httpbin.org', 'User-Agent': 'python-requests/2.31.0', 'X-Amzn-Trace-Id': 'Root=1-65c4967f-6d7cd3705c78c27d01019248'}, 'url': 'https://httpbin.org/get'}\n"
     ]
    }
   ],
   "source": [
    "res_8_json = res_8.json()\n",
    "del res_8_json[\"origin\"]\n",
    "print(res_8_json)"
   ]
  },
  {
   "cell_type": "markdown",
   "id": "e78cefa0-fae5-470e-bcfa-d7364beb4481",
   "metadata": {},
   "source": [
    "---"
   ]
  }
 ],
 "metadata": {
  "kernelspec": {
   "display_name": "Python 3 (ipykernel)",
   "language": "python",
   "name": "python3"
  },
  "language_info": {
   "codemirror_mode": {
    "name": "ipython",
    "version": 3
   },
   "file_extension": ".py",
   "mimetype": "text/x-python",
   "name": "python",
   "nbconvert_exporter": "python",
   "pygments_lexer": "ipython3",
   "version": "3.11.7"
  },
  "widgets": {
   "application/vnd.jupyter.widget-state+json": {
    "state": {},
    "version_major": 2,
    "version_minor": 0
   }
  }
 },
 "nbformat": 4,
 "nbformat_minor": 5
}
