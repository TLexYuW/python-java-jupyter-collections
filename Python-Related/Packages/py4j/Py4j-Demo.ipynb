{
 "cells": [
  {
   "cell_type": "code",
   "execution_count": 6,
   "id": "c1d9a37f-977c-4ae8-94bd-8fea717f728a",
   "metadata": {},
   "outputs": [
    {
     "name": "stdout",
     "output_type": "stream",
     "text": [
      "4 9\n",
      "13\n"
     ]
    }
   ],
   "source": [
    "# Java Server Ref https://www.py4j.org/\n",
    "from py4j.java_gateway import JavaGateway\n",
    "\n",
    "gateway = JavaGateway()                   # connect to the JVM\n",
    "random = gateway.jvm.java.util.Random()   # create a java.util.Random instance\n",
    "number1 = random.nextInt(10)              # call the Random.nextInt method\n",
    "number2 = random.nextInt(10)\n",
    "print(number1, number2)\n",
    "\n",
    "addition_app = gateway.entry_point               # get the AdditionApplication instance\n",
    "value = addition_app.addition(number1, number2) # call the addition method\n",
    "print(value)"
   ]
  },
  {
   "cell_type": "code",
   "execution_count": null,
   "id": "d3a8fd6d-144f-45d1-b3e3-2d02ccc632ce",
   "metadata": {},
   "outputs": [],
   "source": []
  }
 ],
 "metadata": {
  "kernelspec": {
   "display_name": "Python 3 (ipykernel)",
   "language": "python",
   "name": "python3"
  },
  "language_info": {
   "codemirror_mode": {
    "name": "ipython",
    "version": 3
   },
   "file_extension": ".py",
   "mimetype": "text/x-python",
   "name": "python",
   "nbconvert_exporter": "python",
   "pygments_lexer": "ipython3",
   "version": "3.12.1"
  },
  "widgets": {
   "application/vnd.jupyter.widget-state+json": {
    "state": {},
    "version_major": 2,
    "version_minor": 0
   }
  }
 },
 "nbformat": 4,
 "nbformat_minor": 5
}
