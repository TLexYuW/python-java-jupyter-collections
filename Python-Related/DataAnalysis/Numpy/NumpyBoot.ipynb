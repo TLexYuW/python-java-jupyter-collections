{
 "cells": [
  {
   "cell_type": "markdown",
   "id": "f3b6e669-bfbd-4871-98b2-0fb5944785d1",
   "metadata": {},
   "source": [
    "# Import"
   ]
  },
  {
   "cell_type": "code",
   "execution_count": 212,
   "id": "10904d35-ca7e-49f6-92c4-0278a11749c1",
   "metadata": {},
   "outputs": [],
   "source": [
    "import sys\n",
    "\n",
    "import numpy as np"
   ]
  },
  {
   "cell_type": "markdown",
   "id": "b5977ef2-c2a0-4dab-8495-3b7922cc4284",
   "metadata": {},
   "source": [
    "# Setup"
   ]
  },
  {
   "cell_type": "code",
   "execution_count": 213,
   "id": "41aa7b8f-70de-4f7c-a657-6d73ad492d39",
   "metadata": {},
   "outputs": [],
   "source": [
    "# "
   ]
  },
  {
   "cell_type": "markdown",
   "id": "0bb3ac3b-2f32-4394-8fc7-e60ce557031f",
   "metadata": {},
   "source": [
    "---"
   ]
  },
  {
   "cell_type": "markdown",
   "id": "4e074e18-bb54-43b1-b100-964c2ea1f6f7",
   "metadata": {},
   "source": [
    "# Demo"
   ]
  },
  {
   "cell_type": "markdown",
   "id": "ae60cfbc-9ed8-49f5-87d9-fb284cee3a87",
   "metadata": {},
   "source": [
    "> Desc."
   ]
  },
  {
   "cell_type": "markdown",
   "id": "c221abaf-945b-429c-93d2-1e99a7d2616b",
   "metadata": {},
   "source": [
    "---"
   ]
  },
  {
   "cell_type": "markdown",
   "id": "13b639bd-cb92-4ea8-8b67-6eac1fc8e5a5",
   "metadata": {},
   "source": [
    "# TOC"
   ]
  },
  {
   "cell_type": "markdown",
   "id": "26358993-c1b8-4c36-8faa-e51a7c8b69be",
   "metadata": {},
   "source": [
    "- [Numpy Arrays](#Numpy-Arrays)\n",
    "- [Funtion](#Function)\n",
    "    - [linspace](#linspace)\n",
    "    - [random](#random)\n",
    "    - [arange](#arange)\n",
    "    - [reshape](#reshape)\n",
    "    - [zeros](#zeros)\n",
    "    - [ones](#ones)\n",
    "    - [empty](#empty)\n",
    "    - [identity](#identity)\n",
    "    - [eye](#eye)\n",
    "- [Size of objects in Memory](#Size-of-objects-in-Memory)\n",
    "    - [Performance](#Performance)"
   ]
  },
  {
   "cell_type": "markdown",
   "id": "20721c42-d65a-4ca7-a2b9-a617b4e34f78",
   "metadata": {},
   "source": [
    "---"
   ]
  },
  {
   "cell_type": "markdown",
   "id": "4884e1aa-6314-4fc6-ba2f-6d9a1643fec3",
   "metadata": {},
   "source": [
    "# Numpy Arrays"
   ]
  },
  {
   "cell_type": "code",
   "execution_count": 214,
   "id": "eaf6f978-12b1-4b45-bc54-29c2285a80ed",
   "metadata": {},
   "outputs": [],
   "source": [
    "na = np.array([1, 2, 3, 4])\n",
    "nb = np.array([0, 0.5, 1, 1.5, 2])"
   ]
  },
  {
   "cell_type": "code",
   "execution_count": 215,
   "id": "f0e806af-a29b-470c-8591-c88f425f8f49",
   "metadata": {},
   "outputs": [
    {
     "name": "stdout",
     "output_type": "stream",
     "text": [
      "[1 2 3 4]\n",
      "[0.  0.5 1.  1.5 2. ]\n"
     ]
    }
   ],
   "source": [
    "print(na)\n",
    "print(nb)"
   ]
  },
  {
   "cell_type": "code",
   "execution_count": 216,
   "id": "ca106a46-0c3d-4c28-8d12-7ad7387821df",
   "metadata": {},
   "outputs": [
    {
     "data": {
      "text/plain": [
       "(1, 2)"
      ]
     },
     "execution_count": 216,
     "metadata": {},
     "output_type": "execute_result"
    }
   ],
   "source": [
    "na[0], na[1]"
   ]
  },
  {
   "cell_type": "code",
   "execution_count": 217,
   "id": "9f55a013-f52b-417b-90a2-f358af4d2232",
   "metadata": {},
   "outputs": [
    {
     "data": {
      "text/plain": [
       "(0.0, 0.5)"
      ]
     },
     "execution_count": 217,
     "metadata": {},
     "output_type": "execute_result"
    }
   ],
   "source": [
    "nb[0], nb[1]"
   ]
  },
  {
   "cell_type": "code",
   "execution_count": 218,
   "id": "36e42764-bb47-4ec8-b375-5705b658bcc4",
   "metadata": {},
   "outputs": [
    {
     "data": {
      "text/plain": [
       "array([1, 2, 3, 4])"
      ]
     },
     "execution_count": 218,
     "metadata": {},
     "output_type": "execute_result"
    }
   ],
   "source": [
    "na[0:]"
   ]
  },
  {
   "cell_type": "code",
   "execution_count": 219,
   "id": "73f6dc93-e882-4a16-abe9-cf14c9de34b2",
   "metadata": {},
   "outputs": [
    {
     "data": {
      "text/plain": [
       "array([2, 3])"
      ]
     },
     "execution_count": 219,
     "metadata": {},
     "output_type": "execute_result"
    }
   ],
   "source": [
    "na[1:3]"
   ]
  },
  {
   "cell_type": "code",
   "execution_count": 220,
   "id": "fd447902-fe98-4a08-a5a6-bee2abd5883c",
   "metadata": {},
   "outputs": [
    {
     "data": {
      "text/plain": [
       "array([1, 2, 3])"
      ]
     },
     "execution_count": 220,
     "metadata": {},
     "output_type": "execute_result"
    }
   ],
   "source": [
    "na[:-1]"
   ]
  },
  {
   "cell_type": "code",
   "execution_count": 221,
   "id": "485f16e2-c321-4f03-9426-4d5dd231e632",
   "metadata": {},
   "outputs": [
    {
     "data": {
      "text/plain": [
       "array([1, 3])"
      ]
     },
     "execution_count": 221,
     "metadata": {},
     "output_type": "execute_result"
    }
   ],
   "source": [
    "na[::2]"
   ]
  },
  {
   "cell_type": "code",
   "execution_count": 222,
   "id": "0b22c7b2-eb5e-4ea7-817f-56ffa153060e",
   "metadata": {},
   "outputs": [
    {
     "data": {
      "text/plain": [
       "2.0"
      ]
     },
     "execution_count": 222,
     "metadata": {},
     "output_type": "execute_result"
    }
   ],
   "source": [
    "nb[-1]"
   ]
  },
  {
   "cell_type": "code",
   "execution_count": 223,
   "id": "b28fbfe5-90e5-47c1-942e-22341803f53d",
   "metadata": {},
   "outputs": [
    {
     "data": {
      "text/plain": [
       "array([0., 1., 2.])"
      ]
     },
     "execution_count": 223,
     "metadata": {},
     "output_type": "execute_result"
    }
   ],
   "source": [
    "nb[[0, 2, -1]]"
   ]
  },
  {
   "cell_type": "markdown",
   "id": "7d92190d-7620-476e-b5d8-5e3fe09aa582",
   "metadata": {},
   "source": [
    "---"
   ]
  },
  {
   "cell_type": "markdown",
   "id": "002bef83-2d6c-4415-a39b-539598276276",
   "metadata": {},
   "source": [
    "## Array Types"
   ]
  },
  {
   "cell_type": "code",
   "execution_count": 224,
   "id": "c1300d12-b3d7-46e4-89d5-d1fa4164192c",
   "metadata": {},
   "outputs": [
    {
     "data": {
      "text/plain": [
       "array([1, 2, 3, 4])"
      ]
     },
     "execution_count": 224,
     "metadata": {},
     "output_type": "execute_result"
    }
   ],
   "source": [
    "na"
   ]
  },
  {
   "cell_type": "code",
   "execution_count": 225,
   "id": "88360e8c-a837-403d-a405-5dea4ec3e9c6",
   "metadata": {},
   "outputs": [
    {
     "data": {
      "text/plain": [
       "array([0. , 0.5, 1. , 1.5, 2. ])"
      ]
     },
     "execution_count": 225,
     "metadata": {},
     "output_type": "execute_result"
    }
   ],
   "source": [
    "nb"
   ]
  },
  {
   "cell_type": "code",
   "execution_count": 226,
   "id": "04079695-3644-43f7-8ebc-0f0499b6b09a",
   "metadata": {},
   "outputs": [
    {
     "data": {
      "text/plain": [
       "dtype('int32')"
      ]
     },
     "execution_count": 226,
     "metadata": {},
     "output_type": "execute_result"
    }
   ],
   "source": [
    "na.dtype"
   ]
  },
  {
   "cell_type": "code",
   "execution_count": 227,
   "id": "1c4db011-f4e7-4481-ad28-a2b2fd7274a3",
   "metadata": {},
   "outputs": [
    {
     "data": {
      "text/plain": [
       "dtype('float64')"
      ]
     },
     "execution_count": 227,
     "metadata": {},
     "output_type": "execute_result"
    }
   ],
   "source": [
    "nb.dtype"
   ]
  },
  {
   "cell_type": "markdown",
   "id": "a59007a8-c199-4759-97ef-2419d3045606",
   "metadata": {},
   "source": [
    "#### Set Type"
   ]
  },
  {
   "cell_type": "code",
   "execution_count": 228,
   "id": "39447f30-ce91-4ae0-9cef-72907fe40e34",
   "metadata": {},
   "outputs": [
    {
     "data": {
      "text/plain": [
       "array([1., 2., 3., 4.])"
      ]
     },
     "execution_count": 228,
     "metadata": {},
     "output_type": "execute_result"
    }
   ],
   "source": [
    "np.array([1, 2, 3, 4], dtype=np.float64)"
   ]
  },
  {
   "cell_type": "code",
   "execution_count": 229,
   "id": "b117c7bc-0653-4dec-a5b6-1d14e0019b76",
   "metadata": {},
   "outputs": [
    {
     "data": {
      "text/plain": [
       "array([1, 2, 3, 4], dtype=int64)"
      ]
     },
     "execution_count": 229,
     "metadata": {},
     "output_type": "execute_result"
    }
   ],
   "source": [
    "np.array([1, 2, 3, 4], dtype=np.int64)"
   ]
  },
  {
   "cell_type": "code",
   "execution_count": 230,
   "id": "01b37bf9-0a46-4dc4-a68d-d7edd390b422",
   "metadata": {},
   "outputs": [],
   "source": [
    "nc = np.array([\"a\", \"b\", \"c\"])"
   ]
  },
  {
   "cell_type": "code",
   "execution_count": 231,
   "id": "effb6e22-08a7-46f9-8806-8d162a8629fa",
   "metadata": {},
   "outputs": [
    {
     "data": {
      "text/plain": [
       "dtype('<U1')"
      ]
     },
     "execution_count": 231,
     "metadata": {},
     "output_type": "execute_result"
    }
   ],
   "source": [
    "nc.dtype"
   ]
  },
  {
   "cell_type": "code",
   "execution_count": 232,
   "id": "1edd54bd-badf-4af4-9310-849a43ae5b41",
   "metadata": {},
   "outputs": [],
   "source": [
    "nd = np.array([{\"a\": 1}, sys])"
   ]
  },
  {
   "cell_type": "code",
   "execution_count": 233,
   "id": "dcb2ca50-d22e-4bf8-9492-cf325be78434",
   "metadata": {},
   "outputs": [
    {
     "data": {
      "text/plain": [
       "dtype('O')"
      ]
     },
     "execution_count": 233,
     "metadata": {},
     "output_type": "execute_result"
    }
   ],
   "source": [
    "nd.dtype"
   ]
  },
  {
   "cell_type": "markdown",
   "id": "f8fb9e9a-0036-46e7-b038-d67659cc8cf5",
   "metadata": {},
   "source": [
    "#### Demo"
   ]
  },
  {
   "cell_type": "code",
   "execution_count": 234,
   "id": "d3d7168d-767a-4376-9368-98486ef17467",
   "metadata": {},
   "outputs": [
    {
     "data": {
      "text/plain": [
       "True"
      ]
     },
     "execution_count": 234,
     "metadata": {},
     "output_type": "execute_result"
    }
   ],
   "source": [
    "level_list = np.array([1000, 4000, 150, 9001, 1500])\n",
    "any(level_list > 9000)"
   ]
  },
  {
   "cell_type": "markdown",
   "id": "c08acf88-6a3e-48a9-b7a3-085918ce906c",
   "metadata": {},
   "source": [
    "---"
   ]
  },
  {
   "cell_type": "markdown",
   "id": "3e734235-17b5-4236-b175-7c739ea9422a",
   "metadata": {},
   "source": [
    "## Dimensions and shapes"
   ]
  },
  {
   "cell_type": "markdown",
   "id": "cfe25475-f05c-4c6f-8db4-02d15bd43fff",
   "metadata": {},
   "source": [
    "#### Demo"
   ]
  },
  {
   "cell_type": "code",
   "execution_count": 235,
   "id": "ba0e6ea8-6768-4a5c-bbea-e49ee4225575",
   "metadata": {},
   "outputs": [],
   "source": [
    "A = np.array([[1, 2, 3], [4, 5, 6]])"
   ]
  },
  {
   "cell_type": "code",
   "execution_count": 236,
   "id": "ea563560-91e1-4a52-aef6-891b04a0ee0b",
   "metadata": {},
   "outputs": [
    {
     "data": {
      "text/plain": [
       "array([[1, 2, 3],\n",
       "       [4, 5, 6]])"
      ]
     },
     "execution_count": 236,
     "metadata": {},
     "output_type": "execute_result"
    }
   ],
   "source": [
    "A"
   ]
  },
  {
   "cell_type": "code",
   "execution_count": 237,
   "id": "540d47b2-a4f9-4764-8d9f-7add6d2e9684",
   "metadata": {},
   "outputs": [
    {
     "data": {
      "text/plain": [
       "(2, 3)"
      ]
     },
     "execution_count": 237,
     "metadata": {},
     "output_type": "execute_result"
    }
   ],
   "source": [
    "A.shape"
   ]
  },
  {
   "cell_type": "code",
   "execution_count": 238,
   "id": "384a03fa-07a1-4820-920a-9422190b1a98",
   "metadata": {},
   "outputs": [
    {
     "data": {
      "text/plain": [
       "2"
      ]
     },
     "execution_count": 238,
     "metadata": {},
     "output_type": "execute_result"
    }
   ],
   "source": [
    "A.ndim"
   ]
  },
  {
   "cell_type": "code",
   "execution_count": 239,
   "id": "e340b99e-c289-4a9e-b5d8-55a234523291",
   "metadata": {},
   "outputs": [
    {
     "data": {
      "text/plain": [
       "6"
      ]
     },
     "execution_count": 239,
     "metadata": {},
     "output_type": "execute_result"
    }
   ],
   "source": [
    "A.size"
   ]
  },
  {
   "cell_type": "markdown",
   "id": "d605bfd8-6e3e-49e2-b9ad-1fed81c159f5",
   "metadata": {},
   "source": [
    "---"
   ]
  },
  {
   "cell_type": "markdown",
   "id": "03cb5dea-57ae-4344-aca6-a59ed5346958",
   "metadata": {},
   "source": [
    "#### Demo"
   ]
  },
  {
   "cell_type": "code",
   "execution_count": 240,
   "id": "ade0600c-eb24-4ffe-9263-1e75d82461f7",
   "metadata": {},
   "outputs": [],
   "source": [
    "B = np.array(\n",
    "    [\n",
    "        [\n",
    "            [12, 11, 10],\n",
    "            [9, 8, 7],\n",
    "        ],\n",
    "        [[6, 5, 4], [3, 2, 1]],\n",
    "    ]\n",
    ")"
   ]
  },
  {
   "cell_type": "code",
   "execution_count": 241,
   "id": "243b78b3-f36a-49e1-94ce-cae81bce9ecc",
   "metadata": {},
   "outputs": [
    {
     "data": {
      "text/plain": [
       "dtype('int32')"
      ]
     },
     "execution_count": 241,
     "metadata": {},
     "output_type": "execute_result"
    }
   ],
   "source": [
    "B.dtype"
   ]
  },
  {
   "cell_type": "markdown",
   "id": "b85b9bd9-14ff-4fc1-a9d0-9ef7d7208263",
   "metadata": {},
   "source": [
    "---"
   ]
  },
  {
   "cell_type": "markdown",
   "id": "1d347389-5077-4c02-a5b9-1c92481a241b",
   "metadata": {},
   "source": [
    "#### Demo\n",
    "If the shape isn't consistent, it'll just fall back to regular Python objects:\r\n",
    "\r\n"
   ]
  },
  {
   "cell_type": "code",
   "execution_count": 242,
   "id": "d3332e52-7020-4387-aa79-b0cb465e485a",
   "metadata": {},
   "outputs": [],
   "source": [
    "C = np.array(\n",
    "    [\n",
    "        [\n",
    "            [12, 11, 10],\n",
    "            [9, 8, 7],\n",
    "        ],\n",
    "        [[6, 5, 4]],\n",
    "    ],\n",
    "    dtype=np.object_,\n",
    ")"
   ]
  },
  {
   "cell_type": "code",
   "execution_count": 243,
   "id": "a59d72d3-ad50-446c-9888-41657620c7f3",
   "metadata": {},
   "outputs": [
    {
     "data": {
      "text/plain": [
       "dtype('O')"
      ]
     },
     "execution_count": 243,
     "metadata": {},
     "output_type": "execute_result"
    }
   ],
   "source": [
    "C.dtype"
   ]
  },
  {
   "cell_type": "code",
   "execution_count": 244,
   "id": "d3ed2975-6caf-4e1b-8ab9-758e89066d53",
   "metadata": {},
   "outputs": [
    {
     "data": {
      "text/plain": [
       "(2,)"
      ]
     },
     "execution_count": 244,
     "metadata": {},
     "output_type": "execute_result"
    }
   ],
   "source": [
    "C.shape"
   ]
  },
  {
   "cell_type": "code",
   "execution_count": 245,
   "id": "7e9628a6-098c-46b4-b864-c7dd9e5367c6",
   "metadata": {},
   "outputs": [
    {
     "data": {
      "text/plain": [
       "2"
      ]
     },
     "execution_count": 245,
     "metadata": {},
     "output_type": "execute_result"
    }
   ],
   "source": [
    "C.size"
   ]
  },
  {
   "cell_type": "code",
   "execution_count": 246,
   "id": "c9b7645c-2798-4365-947b-ccf1713972ee",
   "metadata": {},
   "outputs": [
    {
     "data": {
      "text/plain": [
       "list"
      ]
     },
     "execution_count": 246,
     "metadata": {},
     "output_type": "execute_result"
    }
   ],
   "source": [
    "type(C[0])"
   ]
  },
  {
   "cell_type": "markdown",
   "id": "aed1573b-2b00-4fa1-8322-35b18a9bd1f3",
   "metadata": {},
   "source": [
    "---"
   ]
  },
  {
   "cell_type": "markdown",
   "id": "e14febea-b4c1-4b9a-a261-53d3fe5d2db8",
   "metadata": {},
   "source": [
    "## Indexing and Slicing of Matrices"
   ]
  },
  {
   "cell_type": "code",
   "execution_count": 247,
   "id": "25889d18-a8d1-4ae9-a431-5b2fbd4b088f",
   "metadata": {},
   "outputs": [],
   "source": [
    "# Square matrix\n",
    "\"\"\"\n",
    "# .  0  1  2\n",
    "    [1, 2, 3],  # 0\n",
    "    [4, 5, 6],  # 1\n",
    "    [7, 8, 9],  # 2\n",
    "\"\"\"\n",
    "A = np.array(\n",
    "    [\n",
    "        [1, 2, 3],\n",
    "        [4, 5, 6],\n",
    "        [7, 8, 9],\n",
    "    ]\n",
    ")"
   ]
  },
  {
   "cell_type": "code",
   "execution_count": 248,
   "id": "4f2cde57-32db-4e16-8fe2-571c4e8893cd",
   "metadata": {},
   "outputs": [
    {
     "data": {
      "text/plain": [
       "array([4, 5, 6])"
      ]
     },
     "execution_count": 248,
     "metadata": {},
     "output_type": "execute_result"
    }
   ],
   "source": [
    "A[1]"
   ]
  },
  {
   "cell_type": "code",
   "execution_count": 249,
   "id": "e4e2eeca-e478-4aaf-a5bc-52af70f8ec21",
   "metadata": {},
   "outputs": [
    {
     "data": {
      "text/plain": [
       "4"
      ]
     },
     "execution_count": 249,
     "metadata": {},
     "output_type": "execute_result"
    }
   ],
   "source": [
    "# A[d1, d2, d3, d4]\n",
    "A[1][0]"
   ]
  },
  {
   "cell_type": "code",
   "execution_count": 250,
   "id": "6fdf7c05-7f54-41cc-a74a-222ba9fa475d",
   "metadata": {},
   "outputs": [
    {
     "data": {
      "text/plain": [
       "array([[1, 2, 3],\n",
       "       [4, 5, 6]])"
      ]
     },
     "execution_count": 250,
     "metadata": {},
     "output_type": "execute_result"
    }
   ],
   "source": [
    "A[0:2]"
   ]
  },
  {
   "cell_type": "code",
   "execution_count": 251,
   "id": "4b794d93-c4e7-4f8b-a1eb-466229b909df",
   "metadata": {},
   "outputs": [
    {
     "data": {
      "text/plain": [
       "array([[1, 2],\n",
       "       [4, 5],\n",
       "       [7, 8]])"
      ]
     },
     "execution_count": 251,
     "metadata": {},
     "output_type": "execute_result"
    }
   ],
   "source": [
    "A[:, :2]"
   ]
  },
  {
   "cell_type": "code",
   "execution_count": 252,
   "id": "0f88bf14-ee1d-46f3-855b-052b081d24a7",
   "metadata": {},
   "outputs": [
    {
     "data": {
      "text/plain": [
       "array([[1, 2],\n",
       "       [4, 5]])"
      ]
     },
     "execution_count": 252,
     "metadata": {},
     "output_type": "execute_result"
    }
   ],
   "source": [
    "A[:2, :2]"
   ]
  },
  {
   "cell_type": "code",
   "execution_count": 253,
   "id": "fa3427e1-e049-4af1-9370-f5b416cb6a94",
   "metadata": {},
   "outputs": [
    {
     "data": {
      "text/plain": [
       "array([[3],\n",
       "       [6]])"
      ]
     },
     "execution_count": 253,
     "metadata": {},
     "output_type": "execute_result"
    }
   ],
   "source": [
    "A[:2, 2:]"
   ]
  },
  {
   "cell_type": "code",
   "execution_count": 254,
   "id": "ea13cb3b-4107-4c0a-bcff-c977882acab3",
   "metadata": {},
   "outputs": [],
   "source": [
    "A[1] = np.array([10, 10, 10])\n",
    "A[2] = 99"
   ]
  },
  {
   "cell_type": "code",
   "execution_count": 255,
   "id": "e45688f8-d2bd-497b-b3a9-e8379256894b",
   "metadata": {},
   "outputs": [
    {
     "data": {
      "text/plain": [
       "array([[ 1,  2,  3],\n",
       "       [10, 10, 10],\n",
       "       [99, 99, 99]])"
      ]
     },
     "execution_count": 255,
     "metadata": {},
     "output_type": "execute_result"
    }
   ],
   "source": [
    "A"
   ]
  },
  {
   "cell_type": "markdown",
   "id": "614055be-3c7d-4cc9-8844-ee1f3ce4a7fa",
   "metadata": {},
   "source": [
    "---"
   ]
  },
  {
   "cell_type": "markdown",
   "id": "531ba24d-0027-4f66-a06b-eb37e9e3cdff",
   "metadata": {},
   "source": [
    "## Summary Statistics"
   ]
  },
  {
   "cell_type": "code",
   "execution_count": 256,
   "id": "186c48c0-dbc9-4989-8142-11d82548daba",
   "metadata": {},
   "outputs": [
    {
     "data": {
      "text/plain": [
       "array([1, 2, 3, 4])"
      ]
     },
     "execution_count": 256,
     "metadata": {},
     "output_type": "execute_result"
    }
   ],
   "source": [
    "na"
   ]
  },
  {
   "cell_type": "code",
   "execution_count": 257,
   "id": "c1ade887-a84c-4ba9-a257-8bdf87b0047e",
   "metadata": {},
   "outputs": [
    {
     "data": {
      "text/plain": [
       "10"
      ]
     },
     "execution_count": 257,
     "metadata": {},
     "output_type": "execute_result"
    }
   ],
   "source": [
    "na.sum()"
   ]
  },
  {
   "cell_type": "code",
   "execution_count": 258,
   "id": "591220d4-99b0-4b2c-9472-bf810dd56e44",
   "metadata": {},
   "outputs": [
    {
     "data": {
      "text/plain": [
       "2.5"
      ]
     },
     "execution_count": 258,
     "metadata": {},
     "output_type": "execute_result"
    }
   ],
   "source": [
    "na.mean()"
   ]
  },
  {
   "cell_type": "markdown",
   "id": "20a44909-3e8a-4911-bf79-6486d1ffa015",
   "metadata": {},
   "source": [
    "- 標準差(std, standard deviation)\n",
    "- 變異數(var, variance)"
   ]
  },
  {
   "cell_type": "code",
   "execution_count": 259,
   "id": "b85d57d0-46eb-4157-a0a4-164c47367998",
   "metadata": {},
   "outputs": [
    {
     "data": {
      "text/plain": [
       "1.118033988749895"
      ]
     },
     "execution_count": 259,
     "metadata": {},
     "output_type": "execute_result"
    }
   ],
   "source": [
    "na.std()"
   ]
  },
  {
   "cell_type": "code",
   "execution_count": 260,
   "id": "65d21c74-c3ca-4d57-8991-109ca1a49eea",
   "metadata": {},
   "outputs": [
    {
     "data": {
      "text/plain": [
       "1.25"
      ]
     },
     "execution_count": 260,
     "metadata": {},
     "output_type": "execute_result"
    }
   ],
   "source": [
    "na.var()"
   ]
  },
  {
   "cell_type": "code",
   "execution_count": 261,
   "id": "d00465d7-42eb-42d5-8780-5d61bdfe983d",
   "metadata": {},
   "outputs": [],
   "source": [
    "D = np.array([[1, 2, 3], [4, 5, 6], [7, 8, 9]])"
   ]
  },
  {
   "cell_type": "code",
   "execution_count": 262,
   "id": "2df4d46c-d649-4503-84f9-6a0d7a9075a2",
   "metadata": {},
   "outputs": [
    {
     "data": {
      "text/plain": [
       "array([[1, 2, 3],\n",
       "       [4, 5, 6],\n",
       "       [7, 8, 9]])"
      ]
     },
     "execution_count": 262,
     "metadata": {},
     "output_type": "execute_result"
    }
   ],
   "source": [
    "D"
   ]
  },
  {
   "cell_type": "code",
   "execution_count": 263,
   "id": "9a5aed58-32c4-4363-abc2-10d31fd257c9",
   "metadata": {},
   "outputs": [
    {
     "data": {
      "text/plain": [
       "45"
      ]
     },
     "execution_count": 263,
     "metadata": {},
     "output_type": "execute_result"
    }
   ],
   "source": [
    "D.sum()"
   ]
  },
  {
   "cell_type": "code",
   "execution_count": 264,
   "id": "29f79dcc-85b5-482f-a179-db4f6b457685",
   "metadata": {},
   "outputs": [
    {
     "data": {
      "text/plain": [
       "5.0"
      ]
     },
     "execution_count": 264,
     "metadata": {},
     "output_type": "execute_result"
    }
   ],
   "source": [
    "D.mean()"
   ]
  },
  {
   "cell_type": "code",
   "execution_count": 265,
   "id": "8964d5be-d291-411f-b42b-1bef6766f1f6",
   "metadata": {},
   "outputs": [
    {
     "data": {
      "text/plain": [
       "2.581988897471611"
      ]
     },
     "execution_count": 265,
     "metadata": {},
     "output_type": "execute_result"
    }
   ],
   "source": [
    "D.std()"
   ]
  },
  {
   "cell_type": "markdown",
   "id": "142085b4-1f24-4b09-9fad-e4705e6ad6cc",
   "metadata": {},
   "source": [
    "- axis=None: Apply operation array-wise.\n",
    "- \n",
    "axis=0: Apply operation column-wise, across all rows for each column\n",
    "- \r\n",
    "axis=1: Apply operation row-wise, across all columns for each row."
   ]
  },
  {
   "cell_type": "code",
   "execution_count": 266,
   "id": "18512d60-9ae3-4499-a0a4-eba5679b8488",
   "metadata": {},
   "outputs": [
    {
     "data": {
      "text/plain": [
       "array([12, 15, 18])"
      ]
     },
     "execution_count": 266,
     "metadata": {},
     "output_type": "execute_result"
    }
   ],
   "source": [
    "D.sum(axis=0)"
   ]
  },
  {
   "cell_type": "code",
   "execution_count": 267,
   "id": "7bc45d49-4d4b-43b7-b2d9-df368eae01bc",
   "metadata": {},
   "outputs": [
    {
     "data": {
      "text/plain": [
       "array([ 6, 15, 24])"
      ]
     },
     "execution_count": 267,
     "metadata": {},
     "output_type": "execute_result"
    }
   ],
   "source": [
    "D.sum(axis=1)"
   ]
  },
  {
   "cell_type": "code",
   "execution_count": 268,
   "id": "8734b86e-7aae-4a24-bec2-f1d649a6b694",
   "metadata": {},
   "outputs": [
    {
     "data": {
      "text/plain": [
       "array([4., 5., 6.])"
      ]
     },
     "execution_count": 268,
     "metadata": {},
     "output_type": "execute_result"
    }
   ],
   "source": [
    "D.mean(axis=0)"
   ]
  },
  {
   "cell_type": "code",
   "execution_count": 269,
   "id": "e0405337-9177-4283-b9a6-2088c1ad2b58",
   "metadata": {},
   "outputs": [
    {
     "data": {
      "text/plain": [
       "array([2., 5., 8.])"
      ]
     },
     "execution_count": 269,
     "metadata": {},
     "output_type": "execute_result"
    }
   ],
   "source": [
    "D.mean(axis=1)"
   ]
  },
  {
   "cell_type": "markdown",
   "id": "60ec1146-e87c-44e9-9f01-fc227aa87b12",
   "metadata": {},
   "source": [
    "## Broadcasting and Vectorized operations"
   ]
  },
  {
   "cell_type": "code",
   "execution_count": 270,
   "id": "44cfd971-c4d8-49fe-a915-25ab24741e7a",
   "metadata": {},
   "outputs": [],
   "source": [
    "ndarr = np.arange(4)"
   ]
  },
  {
   "cell_type": "code",
   "execution_count": 271,
   "id": "e60716f7-35e2-4f92-8629-6589a62b64b3",
   "metadata": {},
   "outputs": [
    {
     "data": {
      "text/plain": [
       "array([0, 1, 2, 3])"
      ]
     },
     "execution_count": 271,
     "metadata": {},
     "output_type": "execute_result"
    }
   ],
   "source": [
    "ndarr"
   ]
  },
  {
   "cell_type": "code",
   "execution_count": 272,
   "id": "a987d0fb-c2eb-4fc3-bb70-6d7377bfa472",
   "metadata": {},
   "outputs": [
    {
     "data": {
      "text/plain": [
       "array([10, 11, 12, 13])"
      ]
     },
     "execution_count": 272,
     "metadata": {},
     "output_type": "execute_result"
    }
   ],
   "source": [
    "ndarr + 10"
   ]
  },
  {
   "cell_type": "code",
   "execution_count": 273,
   "id": "b6cb0616-c6e5-4a18-a136-55e4a6df8097",
   "metadata": {},
   "outputs": [
    {
     "data": {
      "text/plain": [
       "array([ 0, 10, 20, 30])"
      ]
     },
     "execution_count": 273,
     "metadata": {},
     "output_type": "execute_result"
    }
   ],
   "source": [
    "ndarr * 10"
   ]
  },
  {
   "cell_type": "code",
   "execution_count": 274,
   "id": "42c25aef-d8f6-4b86-8647-2c3e50475cef",
   "metadata": {},
   "outputs": [
    {
     "data": {
      "text/plain": [
       "array([0, 1, 2, 3])"
      ]
     },
     "execution_count": 274,
     "metadata": {},
     "output_type": "execute_result"
    }
   ],
   "source": [
    "ndarr"
   ]
  },
  {
   "cell_type": "code",
   "execution_count": 275,
   "id": "85653f9b-5510-47a8-923e-50c6c78ab228",
   "metadata": {},
   "outputs": [
    {
     "data": {
      "text/plain": [
       "array([100, 101, 102, 103])"
      ]
     },
     "execution_count": 275,
     "metadata": {},
     "output_type": "execute_result"
    }
   ],
   "source": [
    "ndarr += 100\n",
    "ndarr"
   ]
  },
  {
   "cell_type": "code",
   "execution_count": 276,
   "id": "c516ff86-964a-4ef4-a5fa-7363de654272",
   "metadata": {},
   "outputs": [],
   "source": [
    "l = [0, 1, 2, 3]"
   ]
  },
  {
   "cell_type": "code",
   "execution_count": 277,
   "id": "1f869a90-a5b8-4884-9494-ff0020894a8b",
   "metadata": {},
   "outputs": [
    {
     "data": {
      "text/plain": [
       "[0, 10, 20, 30]"
      ]
     },
     "execution_count": 277,
     "metadata": {},
     "output_type": "execute_result"
    }
   ],
   "source": [
    "[i * 10 for i in l]"
   ]
  },
  {
   "cell_type": "code",
   "execution_count": 278,
   "id": "0b55164f-5421-4c05-b7a7-f1de97f30549",
   "metadata": {},
   "outputs": [],
   "source": [
    "a = np.arange(4)\n",
    "b = np.array([10, 10, 10, 10])"
   ]
  },
  {
   "cell_type": "code",
   "execution_count": 279,
   "id": "be97c650-033c-48a3-a7b2-dd053bdb5d26",
   "metadata": {},
   "outputs": [
    {
     "data": {
      "text/plain": [
       "array([10, 11, 12, 13])"
      ]
     },
     "execution_count": 279,
     "metadata": {},
     "output_type": "execute_result"
    }
   ],
   "source": [
    "a + b"
   ]
  },
  {
   "cell_type": "markdown",
   "id": "7e2782a3-7183-44da-a1cf-1317c9dabb20",
   "metadata": {},
   "source": [
    "## Boolean Arrays"
   ]
  },
  {
   "cell_type": "code",
   "execution_count": 280,
   "id": "c9b2e3b1-f9aa-47f7-b02c-92e009f12eda",
   "metadata": {},
   "outputs": [],
   "source": [
    "a = np.arange(4)"
   ]
  },
  {
   "cell_type": "code",
   "execution_count": 281,
   "id": "b57e928e-f222-4a51-960e-d3e35f11db91",
   "metadata": {},
   "outputs": [
    {
     "data": {
      "text/plain": [
       "array([0, 3])"
      ]
     },
     "execution_count": 281,
     "metadata": {},
     "output_type": "execute_result"
    }
   ],
   "source": [
    "a[[True, False, False, True]]"
   ]
  },
  {
   "cell_type": "code",
   "execution_count": 282,
   "id": "a3214a12-d063-4521-8f46-35c175233042",
   "metadata": {},
   "outputs": [
    {
     "data": {
      "text/plain": [
       "array([False, False,  True,  True])"
      ]
     },
     "execution_count": 282,
     "metadata": {},
     "output_type": "execute_result"
    }
   ],
   "source": [
    "a >= 2"
   ]
  },
  {
   "cell_type": "code",
   "execution_count": 283,
   "id": "06494eed-10cc-45ed-8610-d9216b6039a9",
   "metadata": {},
   "outputs": [
    {
     "data": {
      "text/plain": [
       "array([2, 3])"
      ]
     },
     "execution_count": 283,
     "metadata": {},
     "output_type": "execute_result"
    }
   ],
   "source": [
    "a[a >= 2]"
   ]
  },
  {
   "cell_type": "code",
   "execution_count": 284,
   "id": "42e2b1a2-d643-4905-93f6-25abaafd52cb",
   "metadata": {},
   "outputs": [
    {
     "data": {
      "text/plain": [
       "array([2, 3])"
      ]
     },
     "execution_count": 284,
     "metadata": {},
     "output_type": "execute_result"
    }
   ],
   "source": [
    "a[a > a.mean()]"
   ]
  },
  {
   "cell_type": "code",
   "execution_count": 285,
   "id": "a9054895-399c-436d-aa3b-a52c1d7d2eca",
   "metadata": {},
   "outputs": [
    {
     "data": {
      "text/plain": [
       "array([0, 1])"
      ]
     },
     "execution_count": 285,
     "metadata": {},
     "output_type": "execute_result"
    }
   ],
   "source": [
    "a[~(a > a.mean())]"
   ]
  },
  {
   "cell_type": "code",
   "execution_count": 286,
   "id": "f530a34d-9edc-4d82-803d-5dea5dfdeba5",
   "metadata": {},
   "outputs": [
    {
     "data": {
      "text/plain": [
       "array([0, 1])"
      ]
     },
     "execution_count": 286,
     "metadata": {},
     "output_type": "execute_result"
    }
   ],
   "source": [
    "a[(a == 0) | (a == 1)]"
   ]
  },
  {
   "cell_type": "code",
   "execution_count": 287,
   "id": "67639833-b68f-4b72-8292-c6dd5d2180a5",
   "metadata": {},
   "outputs": [
    {
     "data": {
      "text/plain": [
       "array([0, 2])"
      ]
     },
     "execution_count": 287,
     "metadata": {},
     "output_type": "execute_result"
    }
   ],
   "source": [
    "a[(a <= 2) & (a % 2 == 0)]"
   ]
  },
  {
   "cell_type": "code",
   "execution_count": 288,
   "id": "85e7eb2d-1ce6-430c-9262-88c87ee7f752",
   "metadata": {},
   "outputs": [],
   "source": [
    "K = np.random.randint(100, size=(3, 3))"
   ]
  },
  {
   "cell_type": "code",
   "execution_count": 289,
   "id": "7243678d-3bca-4cfd-914a-3f833c92aeae",
   "metadata": {},
   "outputs": [
    {
     "data": {
      "text/plain": [
       "array([[34, 17, 38],\n",
       "       [65, 83, 10],\n",
       "       [61, 70, 26]])"
      ]
     },
     "execution_count": 289,
     "metadata": {},
     "output_type": "execute_result"
    }
   ],
   "source": [
    "K"
   ]
  },
  {
   "cell_type": "code",
   "execution_count": 290,
   "id": "947da03d-b9e9-47bf-a8f3-0eb680f01708",
   "metadata": {},
   "outputs": [
    {
     "data": {
      "text/plain": [
       "array([[ True, False,  True],\n",
       "       [ True,  True, False],\n",
       "       [ True,  True, False]])"
      ]
     },
     "execution_count": 290,
     "metadata": {},
     "output_type": "execute_result"
    }
   ],
   "source": [
    "K > 30"
   ]
  },
  {
   "cell_type": "code",
   "execution_count": 291,
   "id": "d18e484e-9d2c-493b-a19f-3c4fbf10eb51",
   "metadata": {},
   "outputs": [
    {
     "data": {
      "text/plain": [
       "array([34, 38, 65, 83, 61, 70])"
      ]
     },
     "execution_count": 291,
     "metadata": {},
     "output_type": "execute_result"
    }
   ],
   "source": [
    "K[K > 30]"
   ]
  },
  {
   "cell_type": "markdown",
   "id": "07767f7f-7efc-42b6-a517-6c8624347ef5",
   "metadata": {},
   "source": [
    "## Linear Algebra\n"
   ]
  },
  {
   "cell_type": "code",
   "execution_count": 292,
   "id": "624f50e7-a079-4a46-8a92-179eaf05fef0",
   "metadata": {},
   "outputs": [],
   "source": [
    "LA = np.array([[1, 2, 3], [4, 5, 6], [7, 8, 9]])"
   ]
  },
  {
   "cell_type": "code",
   "execution_count": 293,
   "id": "7be7d27f-7bb2-49f1-86e3-d9ea3db0cb2e",
   "metadata": {},
   "outputs": [],
   "source": [
    "LB = np.array([[6, 5], [4, 3], [2, 1]])"
   ]
  },
  {
   "cell_type": "markdown",
   "id": "1075039b-cee0-42cd-a092-be6013dd9f04",
   "metadata": {},
   "source": [
    "- dot\n",
    "- `@`\n",
    "- `T`"
   ]
  },
  {
   "cell_type": "code",
   "execution_count": 294,
   "id": "86f83db4-7c91-4f0f-97e0-e0d4f0b592e6",
   "metadata": {},
   "outputs": [
    {
     "data": {
      "text/plain": [
       "array([[20, 14],\n",
       "       [56, 41],\n",
       "       [92, 68]])"
      ]
     },
     "execution_count": 294,
     "metadata": {},
     "output_type": "execute_result"
    }
   ],
   "source": [
    "LA.dot(LB)"
   ]
  },
  {
   "cell_type": "code",
   "execution_count": 295,
   "id": "92a0888a-8b0d-49c7-acc7-754586395661",
   "metadata": {},
   "outputs": [
    {
     "data": {
      "text/plain": [
       "array([[20, 14],\n",
       "       [56, 41],\n",
       "       [92, 68]])"
      ]
     },
     "execution_count": 295,
     "metadata": {},
     "output_type": "execute_result"
    }
   ],
   "source": [
    "LA @ LB"
   ]
  },
  {
   "cell_type": "code",
   "execution_count": 296,
   "id": "7e947b87-306f-4979-8054-b3be7b18fd70",
   "metadata": {},
   "outputs": [
    {
     "data": {
      "text/plain": [
       "array([[6, 4, 2],\n",
       "       [5, 3, 1]])"
      ]
     },
     "execution_count": 296,
     "metadata": {},
     "output_type": "execute_result"
    }
   ],
   "source": [
    "LB.T"
   ]
  },
  {
   "cell_type": "code",
   "execution_count": 297,
   "id": "2104f2b9-e19c-4bdb-bc91-545fe18e905a",
   "metadata": {},
   "outputs": [
    {
     "data": {
      "text/plain": [
       "array([[36, 48, 60],\n",
       "       [24, 33, 42]])"
      ]
     },
     "execution_count": 297,
     "metadata": {},
     "output_type": "execute_result"
    }
   ],
   "source": [
    "LB.T @ LA"
   ]
  },
  {
   "cell_type": "markdown",
   "id": "fd1a206a-d3b5-413d-9f68-4d0a7890b2f3",
   "metadata": {},
   "source": [
    "---"
   ]
  },
  {
   "cell_type": "markdown",
   "id": "c91e5161-a016-4052-afce-9bac7354803f",
   "metadata": {},
   "source": [
    "# Function"
   ]
  },
  {
   "cell_type": "markdown",
   "id": "bb58c534-e35a-4cd8-ae15-09334cbf5a74",
   "metadata": {},
   "source": [
    "### `random`"
   ]
  },
  {
   "cell_type": "code",
   "execution_count": 315,
   "id": "88677a9b-a7dc-4373-8dee-85eb4d377fc7",
   "metadata": {},
   "outputs": [
    {
     "data": {
      "text/plain": [
       "array([0.92404567, 0.34414093])"
      ]
     },
     "execution_count": 315,
     "metadata": {},
     "output_type": "execute_result"
    }
   ],
   "source": [
    "np.random.random(size=2)"
   ]
  },
  {
   "cell_type": "code",
   "execution_count": 317,
   "id": "f06f69cc-765e-4d63-9d47-4fb481718ec4",
   "metadata": {},
   "outputs": [
    {
     "data": {
      "text/plain": [
       "array([-1.21242908,  0.41298576])"
      ]
     },
     "execution_count": 317,
     "metadata": {},
     "output_type": "execute_result"
    }
   ],
   "source": [
    "np.random.normal(size=2)"
   ]
  },
  {
   "cell_type": "code",
   "execution_count": 316,
   "id": "fe376ca8-1663-4c53-9a47-4c48ea4a3b16",
   "metadata": {
    "scrolled": true
   },
   "outputs": [
    {
     "data": {
      "text/plain": [
       "array([[0.95568927, 0.64763469, 0.68806986, 0.54028216],\n",
       "       [0.8501506 , 0.73901338, 0.22268109, 0.74608047]])"
      ]
     },
     "execution_count": 316,
     "metadata": {},
     "output_type": "execute_result"
    }
   ],
   "source": [
    "np.random.rand(2, 4)"
   ]
  },
  {
   "cell_type": "markdown",
   "id": "d2ddb414-a140-4c21-8480-e3d56f2c3736",
   "metadata": {},
   "source": [
    "---"
   ]
  },
  {
   "cell_type": "markdown",
   "id": "2fb90fca-a89f-412b-b1c4-4e4ba6129fe0",
   "metadata": {},
   "source": [
    "### `arrage`"
   ]
  },
  {
   "cell_type": "code",
   "execution_count": 320,
   "id": "2f896cbc-995c-4f15-8b5d-8a3b01b68688",
   "metadata": {},
   "outputs": [
    {
     "data": {
      "text/plain": [
       "array([ 0,  1,  2,  3,  4,  5,  6,  7,  8,  9, 10, 11, 12, 13, 14])"
      ]
     },
     "execution_count": 320,
     "metadata": {},
     "output_type": "execute_result"
    }
   ],
   "source": [
    "np.arange(15)"
   ]
  },
  {
   "cell_type": "code",
   "execution_count": 321,
   "id": "52bdf021-3485-4b06-934e-b48a77afd216",
   "metadata": {},
   "outputs": [
    {
     "data": {
      "text/plain": [
       "array([5, 6, 7, 8, 9])"
      ]
     },
     "execution_count": 321,
     "metadata": {},
     "output_type": "execute_result"
    }
   ],
   "source": [
    "np.arange(5, 10)"
   ]
  },
  {
   "cell_type": "code",
   "execution_count": 325,
   "id": "c6d7e540-a47f-462f-9b2e-1d80d1a8a909",
   "metadata": {},
   "outputs": [
    {
     "data": {
      "text/plain": [
       "array([0. , 0.1, 0.2, 0.3, 0.4, 0.5, 0.6, 0.7, 0.8, 0.9, 1. , 1.1, 1.2,\n",
       "       1.3, 1.4, 1.5, 1.6, 1.7, 1.8, 1.9])"
      ]
     },
     "execution_count": 325,
     "metadata": {},
     "output_type": "execute_result"
    }
   ],
   "source": [
    "np.arange(0, 2, .1)"
   ]
  },
  {
   "cell_type": "markdown",
   "id": "d59b23b6-0942-496c-a664-413089cf11df",
   "metadata": {},
   "source": [
    "---"
   ]
  },
  {
   "cell_type": "markdown",
   "id": "8ff1b171-23fd-4e8b-a2d8-e15a820292d0",
   "metadata": {},
   "source": [
    "### `reshape`\n",
    "> Gives a new shape to an array without changing its data."
   ]
  },
  {
   "cell_type": "code",
   "execution_count": 345,
   "id": "06998aeb-dc24-4275-a2be-b95853a0270b",
   "metadata": {},
   "outputs": [
    {
     "data": {
      "text/plain": [
       "array([0, 1, 2, 3, 4, 5, 6, 7, 8, 9])"
      ]
     },
     "execution_count": 345,
     "metadata": {},
     "output_type": "execute_result"
    }
   ],
   "source": [
    "arr = np.arange(10)\n",
    "arr"
   ]
  },
  {
   "cell_type": "code",
   "execution_count": 347,
   "id": "50d0a22a-827f-4b80-93b1-4de146c1ec07",
   "metadata": {},
   "outputs": [
    {
     "data": {
      "text/plain": [
       "array([[0, 1, 2, 3, 4],\n",
       "       [5, 6, 7, 8, 9]])"
      ]
     },
     "execution_count": 347,
     "metadata": {},
     "output_type": "execute_result"
    }
   ],
   "source": [
    "arr.reshape(2, 5)"
   ]
  },
  {
   "cell_type": "markdown",
   "id": "832ccfa5-87cc-4223-9642-c78b407d0fff",
   "metadata": {},
   "source": [
    "---"
   ]
  },
  {
   "cell_type": "markdown",
   "id": "ab549c5e-2642-4a6b-b533-58202da50de6",
   "metadata": {},
   "source": [
    "### `zeros`"
   ]
  },
  {
   "cell_type": "code",
   "execution_count": 358,
   "id": "f8c39d15-2ee5-4650-95f6-688a3b9f4021",
   "metadata": {},
   "outputs": [
    {
     "data": {
      "text/plain": [
       "array([0., 0., 0., 0., 0.])"
      ]
     },
     "execution_count": 358,
     "metadata": {},
     "output_type": "execute_result"
    }
   ],
   "source": [
    "np.zeros(5)"
   ]
  },
  {
   "cell_type": "code",
   "execution_count": 360,
   "id": "fa6defbd-6326-497e-b0de-986626ea04cb",
   "metadata": {},
   "outputs": [
    {
     "data": {
      "text/plain": [
       "array([[0, 0, 0],\n",
       "       [0, 0, 0],\n",
       "       [0, 0, 0]])"
      ]
     },
     "execution_count": 360,
     "metadata": {},
     "output_type": "execute_result"
    }
   ],
   "source": [
    "np.zeros((3, 3), dtype=np.int_)"
   ]
  },
  {
   "cell_type": "markdown",
   "id": "0d76c424-a737-4e48-9550-6d88836a6c14",
   "metadata": {},
   "source": [
    "---"
   ]
  },
  {
   "cell_type": "markdown",
   "id": "33f4556d-195e-4ac3-b663-10ad9662bf23",
   "metadata": {},
   "source": [
    "### `ones`"
   ]
  },
  {
   "cell_type": "code",
   "execution_count": 364,
   "id": "8f9a866e-fa96-4464-9cdf-0b968b55af96",
   "metadata": {},
   "outputs": [
    {
     "data": {
      "text/plain": [
       "array([1., 1., 1., 1., 1.])"
      ]
     },
     "execution_count": 364,
     "metadata": {},
     "output_type": "execute_result"
    }
   ],
   "source": [
    "np.ones(5)"
   ]
  },
  {
   "cell_type": "code",
   "execution_count": 363,
   "id": "a350573a-9aa3-4f5c-b851-448fe924d50e",
   "metadata": {},
   "outputs": [
    {
     "data": {
      "text/plain": [
       "array([[1., 1., 1.],\n",
       "       [1., 1., 1.],\n",
       "       [1., 1., 1.]])"
      ]
     },
     "execution_count": 363,
     "metadata": {},
     "output_type": "execute_result"
    }
   ],
   "source": [
    "np.ones((3, 3))"
   ]
  },
  {
   "cell_type": "markdown",
   "id": "a7090e07-3ed0-458c-abc6-2d6b1821caac",
   "metadata": {},
   "source": [
    "---"
   ]
  },
  {
   "cell_type": "markdown",
   "id": "1491246f-0846-427d-8c63-bb3b715bcc8d",
   "metadata": {},
   "source": [
    "### `empty`"
   ]
  },
  {
   "cell_type": "code",
   "execution_count": 366,
   "id": "2e5cdbb5-5fab-428e-94c8-7165ee2696c4",
   "metadata": {},
   "outputs": [
    {
     "data": {
      "text/plain": [
       "array([1., 1., 1., 1., 1.])"
      ]
     },
     "execution_count": 366,
     "metadata": {},
     "output_type": "execute_result"
    }
   ],
   "source": [
    "np.empty(5)"
   ]
  },
  {
   "cell_type": "code",
   "execution_count": 365,
   "id": "0de02645-6bc7-4af6-8204-8befc0a92cf6",
   "metadata": {},
   "outputs": [
    {
     "data": {
      "text/plain": [
       "array([[1., 1., 1.],\n",
       "       [1., 1., 1.],\n",
       "       [1., 1., 1.]])"
      ]
     },
     "execution_count": 365,
     "metadata": {},
     "output_type": "execute_result"
    }
   ],
   "source": [
    "np.empty((3, 3))"
   ]
  },
  {
   "cell_type": "markdown",
   "id": "80d42f09-7762-4ebb-8e2e-0f8b48b9fb31",
   "metadata": {},
   "source": [
    "---"
   ]
  },
  {
   "cell_type": "markdown",
   "id": "a17bf2cf-ef7c-40ae-b50b-2c48ed8627bc",
   "metadata": {},
   "source": [
    "### `identity`"
   ]
  },
  {
   "cell_type": "code",
   "execution_count": 312,
   "id": "f1e7c8be-dd06-497f-8ca2-a8bb644e0444",
   "metadata": {},
   "outputs": [
    {
     "data": {
      "text/plain": [
       "array([[1., 0., 0.],\n",
       "       [0., 1., 0.],\n",
       "       [0., 0., 1.]])"
      ]
     },
     "execution_count": 312,
     "metadata": {},
     "output_type": "execute_result"
    }
   ],
   "source": [
    "np.identity(3)"
   ]
  },
  {
   "cell_type": "markdown",
   "id": "cd91f39c-4678-4934-a110-ffe1df4d65e7",
   "metadata": {},
   "source": [
    "---"
   ]
  },
  {
   "cell_type": "markdown",
   "id": "68d25543-4956-453a-b3f9-81bee22abb3d",
   "metadata": {},
   "source": [
    "### `eye`"
   ]
  },
  {
   "cell_type": "code",
   "execution_count": 314,
   "id": "7ca6018c-4a83-4021-bc9a-a6d1150af820",
   "metadata": {},
   "outputs": [
    {
     "data": {
      "text/plain": [
       "array([[1., 0., 0.],\n",
       "       [0., 1., 0.],\n",
       "       [0., 0., 1.]])"
      ]
     },
     "execution_count": 314,
     "metadata": {},
     "output_type": "execute_result"
    }
   ],
   "source": [
    "np.eye(3, 3)"
   ]
  },
  {
   "cell_type": "markdown",
   "id": "c6b1796c-7a70-4c77-90e1-cebf692552fa",
   "metadata": {},
   "source": [
    "---"
   ]
  },
  {
   "cell_type": "markdown",
   "id": "b0875fa0-4c7d-4cf9-b457-266c08edad71",
   "metadata": {},
   "source": [
    "### `linspace`\n",
    "> 在一定範圍內來均勻地撒點"
   ]
  },
  {
   "cell_type": "code",
   "execution_count": 298,
   "id": "91f70ed4-fa44-4b3e-8ed8-57024c5eff2f",
   "metadata": {},
   "outputs": [
    {
     "name": "stdout",
     "output_type": "stream",
     "text": [
      "[1. 2. 3.]\n"
     ]
    }
   ],
   "source": [
    "a = np.linspace(1, 3, 3)\n",
    "print(a)"
   ]
  },
  {
   "cell_type": "code",
   "execution_count": 299,
   "id": "e68df642-e252-446f-9aba-90577b2e1cd4",
   "metadata": {
    "scrolled": true
   },
   "outputs": [
    {
     "name": "stdout",
     "output_type": "stream",
     "text": [
      "[1.         1.21052632 1.42105263 1.63157895 1.84210526 2.05263158\n",
      " 2.26315789 2.47368421 2.68421053 2.89473684 3.10526316 3.31578947\n",
      " 3.52631579 3.73684211 3.94736842 4.15789474 4.36842105 4.57894737\n",
      " 4.78947368 5.        ]\n"
     ]
    }
   ],
   "source": [
    "a = np.linspace(1, 5, 20)\n",
    "print(a)"
   ]
  },
  {
   "cell_type": "code",
   "execution_count": 357,
   "id": "537b6db9-28c6-4cb8-a504-8de88148a301",
   "metadata": {},
   "outputs": [
    {
     "data": {
      "text/plain": [
       "array([0.  , 0.05, 0.1 , 0.15, 0.2 , 0.25, 0.3 , 0.35, 0.4 , 0.45, 0.5 ,\n",
       "       0.55, 0.6 , 0.65, 0.7 , 0.75, 0.8 , 0.85, 0.9 , 0.95])"
      ]
     },
     "execution_count": 357,
     "metadata": {},
     "output_type": "execute_result"
    }
   ],
   "source": [
    "np.linspace(0, 1, 20, False)"
   ]
  },
  {
   "cell_type": "markdown",
   "id": "1db6c853-1d57-4ed5-b9d3-050ce5ffc061",
   "metadata": {},
   "source": [
    "### `Func`\n",
    "> Desc."
   ]
  },
  {
   "cell_type": "markdown",
   "id": "0d7aac41-7649-48eb-9a52-aa43ec8ae4f9",
   "metadata": {},
   "source": [
    "---"
   ]
  },
  {
   "cell_type": "markdown",
   "id": "e9af38e7-f51c-4050-b1d7-1433d2f34623",
   "metadata": {},
   "source": [
    "# Size of objects in Memory\n",
    "\n"
   ]
  },
  {
   "cell_type": "markdown",
   "id": "c0a50c25-bc09-4c41-a006-2ee18bfd4458",
   "metadata": {},
   "source": [
    "- An integer in Python is > 24bytes\n",
    "- Longs are even larger\n",
    "- Numpy size is much smaller"
   ]
  },
  {
   "cell_type": "code",
   "execution_count": 300,
   "id": "f9d4b6d9-e75a-4a79-9f5f-a0a41cd8754b",
   "metadata": {},
   "outputs": [
    {
     "data": {
      "text/plain": [
       "28"
      ]
     },
     "execution_count": 300,
     "metadata": {},
     "output_type": "execute_result"
    }
   ],
   "source": [
    "sys.getsizeof(1)"
   ]
  },
  {
   "cell_type": "code",
   "execution_count": 301,
   "id": "dd45bce4-1b37-47d1-9028-42bf948485ed",
   "metadata": {},
   "outputs": [
    {
     "data": {
      "text/plain": [
       "72"
      ]
     },
     "execution_count": 301,
     "metadata": {},
     "output_type": "execute_result"
    }
   ],
   "source": [
    "sys.getsizeof(10**100)"
   ]
  },
  {
   "cell_type": "code",
   "execution_count": 302,
   "id": "03686424-618b-47a7-9a11-84414483f683",
   "metadata": {},
   "outputs": [
    {
     "data": {
      "text/plain": [
       "4"
      ]
     },
     "execution_count": 302,
     "metadata": {},
     "output_type": "execute_result"
    }
   ],
   "source": [
    "np.dtype(int).itemsize"
   ]
  },
  {
   "cell_type": "code",
   "execution_count": 303,
   "id": "d338e87a-689b-4bb7-894f-b99862120bbb",
   "metadata": {},
   "outputs": [
    {
     "data": {
      "text/plain": [
       "1"
      ]
     },
     "execution_count": 303,
     "metadata": {},
     "output_type": "execute_result"
    }
   ],
   "source": [
    "np.dtype(np.int8).itemsize"
   ]
  },
  {
   "cell_type": "code",
   "execution_count": 304,
   "id": "49588c84-13dc-47df-9656-b858ec8b8f21",
   "metadata": {},
   "outputs": [
    {
     "data": {
      "text/plain": [
       "8"
      ]
     },
     "execution_count": 304,
     "metadata": {},
     "output_type": "execute_result"
    }
   ],
   "source": [
    "np.dtype(float).itemsize"
   ]
  },
  {
   "cell_type": "markdown",
   "id": "8f6b0be2-f09f-4e04-a387-436fc7ec0001",
   "metadata": {},
   "source": [
    "- Lists are even larger\n",
    "\n"
   ]
  },
  {
   "cell_type": "code",
   "execution_count": 305,
   "id": "bd926148-8955-4cf4-a368-0b2a6e82b368",
   "metadata": {},
   "outputs": [
    {
     "data": {
      "text/plain": [
       "64"
      ]
     },
     "execution_count": 305,
     "metadata": {},
     "output_type": "execute_result"
    }
   ],
   "source": [
    "sys.getsizeof([1])"
   ]
  },
  {
   "cell_type": "code",
   "execution_count": 306,
   "id": "23cac99d-9a9e-4f79-bbe4-e1f00e69beb8",
   "metadata": {},
   "outputs": [
    {
     "data": {
      "text/plain": [
       "4"
      ]
     },
     "execution_count": 306,
     "metadata": {},
     "output_type": "execute_result"
    }
   ],
   "source": [
    "np.array([1]).nbytes"
   ]
  },
  {
   "cell_type": "markdown",
   "id": "37ec1600-c368-4307-a68a-ebe265927e24",
   "metadata": {},
   "source": [
    "## Performance"
   ]
  },
  {
   "cell_type": "code",
   "execution_count": 307,
   "id": "d9d15c53-6c81-4b11-8a2c-1033a53753e8",
   "metadata": {},
   "outputs": [],
   "source": [
    "pl = list(range(100000))"
   ]
  },
  {
   "cell_type": "code",
   "execution_count": 308,
   "id": "60d66247-8b51-4ce0-965e-015356d224cf",
   "metadata": {},
   "outputs": [],
   "source": [
    "na = np.arange(100000)"
   ]
  },
  {
   "cell_type": "code",
   "execution_count": 309,
   "id": "e490db58-b506-44dc-aad4-c7c357ed7500",
   "metadata": {},
   "outputs": [
    {
     "name": "stdout",
     "output_type": "stream",
     "text": [
      "CPU times: total: 0 ns\n",
      "Wall time: 0 ns\n"
     ]
    },
    {
     "data": {
      "text/plain": [
       "216474736"
      ]
     },
     "execution_count": 309,
     "metadata": {},
     "output_type": "execute_result"
    }
   ],
   "source": [
    "%time np.sum(na ** 2)"
   ]
  },
  {
   "cell_type": "code",
   "execution_count": 310,
   "id": "8f4dff97-1446-4464-a447-685249ee28f1",
   "metadata": {},
   "outputs": [
    {
     "name": "stdout",
     "output_type": "stream",
     "text": [
      "CPU times: total: 15.6 ms\n",
      "Wall time: 11 ms\n"
     ]
    },
    {
     "data": {
      "text/plain": [
       "333328333350000"
      ]
     },
     "execution_count": 310,
     "metadata": {},
     "output_type": "execute_result"
    }
   ],
   "source": [
    "%time sum([x ** 2 for x in pl])"
   ]
  },
  {
   "cell_type": "code",
   "execution_count": null,
   "id": "db894d69-1668-4cd8-bdea-52cc4287a1dc",
   "metadata": {},
   "outputs": [],
   "source": []
  }
 ],
 "metadata": {
  "kernelspec": {
   "display_name": "Python 3 (ipykernel)",
   "language": "python",
   "name": "python3"
  },
  "language_info": {
   "codemirror_mode": {
    "name": "ipython",
    "version": 3
   },
   "file_extension": ".py",
   "mimetype": "text/x-python",
   "name": "python",
   "nbconvert_exporter": "python",
   "pygments_lexer": "ipython3",
   "version": "3.12.1"
  },
  "widgets": {
   "application/vnd.jupyter.widget-state+json": {
    "state": {},
    "version_major": 2,
    "version_minor": 0
   }
  }
 },
 "nbformat": 4,
 "nbformat_minor": 5
}
