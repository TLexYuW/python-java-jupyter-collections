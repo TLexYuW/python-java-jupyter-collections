{
 "cells": [
  {
   "cell_type": "markdown",
   "id": "26a72352-473d-4f0f-88c5-7c9600e611f2",
   "metadata": {},
   "source": [
    "# The Sakila Database\n",
    "<img width=\"1600px\" src=\"https://user-images.githubusercontent.com/7065401/58504872-fa243b00-8161-11e9-85ed-4b7d8d7ce9f7.png\" />"
   ]
  },
  {
   "cell_type": "markdown",
   "id": "14260656-277f-4522-9c74-84939a799ab0",
   "metadata": {},
   "source": [
    "---"
   ]
  },
  {
   "cell_type": "markdown",
   "id": "c6c64fb1-1278-4730-8598-71519a7a816f",
   "metadata": {},
   "source": [
    "# Import"
   ]
  },
  {
   "cell_type": "code",
   "execution_count": null,
   "id": "d8abe74d-bce5-446a-a0e4-b5cf3d720793",
   "metadata": {},
   "outputs": [],
   "source": [
    "import numpy as np\n",
    "import pandas as pd\n",
    "import matplotlib.pyplot as plt\n",
    "\n",
    "%matplotlib inline"
   ]
  },
  {
   "cell_type": "markdown",
   "id": "5f76e79d-a20b-425e-9aa8-d384fb9a35cc",
   "metadata": {},
   "source": [
    "---"
   ]
  },
  {
   "cell_type": "markdown",
   "id": "85a1ec32-88ad-46ca-89cf-8d86546dd1d1",
   "metadata": {},
   "source": [
    "# Setup"
   ]
  },
  {
   "cell_type": "code",
   "execution_count": null,
   "id": "1e19e54a-75c5-4f86-8069-c7ce572fe063",
   "metadata": {},
   "outputs": [],
   "source": [
    "!head "
   ]
  },
  {
   "cell_type": "code",
   "execution_count": null,
   "id": "66a6f225-f3d5-45f2-b3ff-3f1263d21d80",
   "metadata": {},
   "outputs": [],
   "source": []
  },
  {
   "cell_type": "markdown",
   "id": "80cbf322-14c7-4a2a-a4da-78e6eb54f804",
   "metadata": {},
   "source": [
    "---"
   ]
  },
  {
   "cell_type": "markdown",
   "id": "f455e13c-2004-4e5f-92bc-9424f963d8ac",
   "metadata": {},
   "source": [
    "# TOC"
   ]
  },
  {
   "cell_type": "code",
   "execution_count": null,
   "id": "b3894c45-3d77-4df1-823a-c3e3ab589831",
   "metadata": {},
   "outputs": [],
   "source": [
    "# code"
   ]
  },
  {
   "cell_type": "markdown",
   "id": "73dbfe67-5b09-4c12-b1b6-9aa8722bb91a",
   "metadata": {},
   "source": [
    "---"
   ]
  },
  {
   "cell_type": "markdown",
   "id": "887f4dbd-cd69-4c69-b00f-028c108b052f",
   "metadata": {},
   "source": [
    "# Template"
   ]
  },
  {
   "cell_type": "code",
   "execution_count": 3,
   "id": "16e0aeb3-315e-4456-9868-88d576fd77fc",
   "metadata": {},
   "outputs": [],
   "source": [
    "# Template Code"
   ]
  },
  {
   "cell_type": "markdown",
   "id": "7dedeee9-c380-4eba-87a6-7f6d23e97ec7",
   "metadata": {},
   "source": [
    "---"
   ]
  },
  {
   "cell_type": "markdown",
   "id": "5fc49a8b-d98b-4cb7-81a1-242159e291e0",
   "metadata": {},
   "source": [
    "# Data Head"
   ]
  },
  {
   "cell_type": "code",
   "execution_count": null,
   "id": "a5a1bf4f-87f1-45e6-bba2-407b9bb4ae5e",
   "metadata": {
    "scrolled": true
   },
   "outputs": [],
   "source": []
  },
  {
   "cell_type": "markdown",
   "id": "98e593e2-3f13-4377-970f-548e748ef89e",
   "metadata": {},
   "source": [
    "---"
   ]
  },
  {
   "cell_type": "code",
   "execution_count": null,
   "id": "0c2a510a-3250-47f2-97e2-43ef1d72108b",
   "metadata": {},
   "outputs": [],
   "source": []
  }
 ],
 "metadata": {
  "kernelspec": {
   "display_name": "Python 3 (ipykernel)",
   "language": "python",
   "name": "python3"
  },
  "language_info": {
   "codemirror_mode": {
    "name": "ipython",
    "version": 3
   },
   "file_extension": ".py",
   "mimetype": "text/x-python",
   "name": "python",
   "nbconvert_exporter": "python",
   "pygments_lexer": "ipython3",
   "version": "3.11.4"
  },
  "widgets": {
   "application/vnd.jupyter.widget-state+json": {
    "state": {},
    "version_major": 2,
    "version_minor": 0
   }
  }
 },
 "nbformat": 4,
 "nbformat_minor": 5
}
