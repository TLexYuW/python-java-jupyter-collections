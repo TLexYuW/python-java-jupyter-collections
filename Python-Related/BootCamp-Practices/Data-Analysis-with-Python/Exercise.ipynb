{
 "cells": [
  {
   "cell_type": "code",
   "execution_count": 8,
   "id": "5f10c475-5282-46c3-b77a-db54f2620500",
   "metadata": {},
   "outputs": [
    {
     "name": "stdout",
     "output_type": "stream",
     "text": [
      "1.26.3\n"
     ]
    }
   ],
   "source": [
    "import numpy as np\n",
    "\n",
    "print(np.__version__)"
   ]
  },
  {
   "cell_type": "markdown",
   "id": "9785f5bb-28e8-4042-96d3-85cf4af45ca5",
   "metadata": {},
   "source": [
    "---"
   ]
  },
  {
   "cell_type": "markdown",
   "id": "76c269f3-0290-4941-8f8e-5be521b671bc",
   "metadata": {},
   "source": [
    "# TOC\n",
    "- Array\n",
    "    - [Creation](#Creation)\n",
    "    - [Indexation](#Indexation)\n",
    "    - [Manipulation](#Manipulation)\n",
    "    - [Boolean(masks)](#Boolean(masks))\n",
    "    - [Logic Funcs](#Logic-Funcs)\n",
    "    - [Summary Statistics](#Summary-Statistics)"
   ]
  },
  {
   "cell_type": "markdown",
   "id": "5b99586f-21b0-47dc-aef4-4ac4999976ed",
   "metadata": {},
   "source": [
    "---"
   ]
  },
  {
   "cell_type": "markdown",
   "id": "b8068442-81d8-4eab-8147-15bc161e2fd6",
   "metadata": {},
   "source": [
    "# Creation"
   ]
  },
  {
   "cell_type": "markdown",
   "id": "1c07a474-bb38-499b-81fa-a78e2639d042",
   "metadata": {},
   "source": [
    "- Create a numpy array of size 10, filled with zeros.\n"
   ]
  },
  {
   "cell_type": "markdown",
   "id": "45f1ca7c-f715-4fcc-953b-a9d777ffdb91",
   "metadata": {},
   "source": [
    "- Create a numpy array with values ranging from 10 to 49\n"
   ]
  },
  {
   "cell_type": "markdown",
   "id": "52836d72-c787-4029-9996-efea6cfd7131",
   "metadata": {},
   "source": [
    "- Create a numpy matrix of 2*2 integers, filled with ones."
   ]
  },
  {
   "cell_type": "markdown",
   "id": "2657645d-a699-49e3-b6fe-0f5c252a5c18",
   "metadata": {},
   "source": [
    "- Create a numpy matrix of 3*2 float numbers, filled with ones."
   ]
  },
  {
   "cell_type": "markdown",
   "id": "904f3187-43b5-4664-8e0f-4bfe46e14499",
   "metadata": {},
   "source": [
    "- Given the X numpy array, create a new numpy array with the same shape and type as X, filled with ones."
   ]
  },
  {
   "cell_type": "markdown",
   "id": "1e7ae6e4-1495-4e06-b9ed-e0e65ab2c807",
   "metadata": {},
   "source": [
    "- Given the X numpy matrix, create a new numpy matrix with the same shape and type as X, filled with zeros."
   ]
  },
  {
   "cell_type": "markdown",
   "id": "7f9bfcc3-bfe8-4b20-957c-7038cebd984f",
   "metadata": {},
   "source": [
    "- Create a numpy matrix of 4*4 integers, filled with fives."
   ]
  },
  {
   "cell_type": "markdown",
   "id": "e1454803-9caf-4f3b-83a0-dd43dfb1489e",
   "metadata": {},
   "source": [
    "- Given the X numpy matrix, create a new numpy matrix with the same shape and type as X, filled with sevens."
   ]
  },
  {
   "cell_type": "markdown",
   "id": "53200f9b-7f4b-4086-9f50-f77d1241bbbb",
   "metadata": {},
   "source": [
    "- Create a 3*3 identity numpy matrix with ones on the diagonal and zeros elsewhere."
   ]
  },
  {
   "cell_type": "markdown",
   "id": "0fd33bb9-f404-4686-8436-a7dd17955d6b",
   "metadata": {},
   "source": [
    "- Create a numpy array, filled with 3 random integer values between 1 and 10."
   ]
  },
  {
   "cell_type": "markdown",
   "id": "8d6b7f05-a625-495c-afb8-d369f8913819",
   "metadata": {},
   "source": [
    "- Create a 3*3*3 numpy matrix, filled with random float values."
   ]
  },
  {
   "cell_type": "markdown",
   "id": "fcba7726-780e-47fd-84ea-411a4a0fef97",
   "metadata": {},
   "source": [
    "- Given the X python list convert it to an Y numpy array"
   ]
  },
  {
   "cell_type": "markdown",
   "id": "ea2a68b8-79cf-4dab-b774-f354f3292ae7",
   "metadata": {},
   "source": [
    "- Given the X numpy array, make a copy and store it on Y."
   ]
  },
  {
   "cell_type": "markdown",
   "id": "4e0fbd15-da28-4506-b508-5e45f89f8f93",
   "metadata": {},
   "source": [
    "- Create a numpy array with numbers from 1 to 10"
   ]
  },
  {
   "cell_type": "markdown",
   "id": "05133367-aa3f-4fe3-b764-ee4954dac9ac",
   "metadata": {},
   "source": [
    "- Create a numpy array with the odd numbers between 1 to 10"
   ]
  },
  {
   "cell_type": "markdown",
   "id": "ede0acf0-0a91-412e-8646-64eeec1bbf9c",
   "metadata": {},
   "source": [
    "- Create a numpy array with numbers from 1 to 10, in descending order.\n"
   ]
  },
  {
   "cell_type": "markdown",
   "id": "3421c4bd-3e3d-42ea-8538-fc674fa15f04",
   "metadata": {},
   "source": [
    "- Create a 3*3 numpy matrix, filled with values ranging from 0 to 8"
   ]
  },
  {
   "cell_type": "markdown",
   "id": "c78e078e-8717-41a1-931b-ef7fdebf4ba7",
   "metadata": {},
   "source": [
    "- Show the memory size of the given Z numpy matrix"
   ]
  },
  {
   "cell_type": "markdown",
   "id": "f295cee3-3e78-42d2-870f-175b23a8e579",
   "metadata": {},
   "source": [
    "# Indexation"
   ]
  },
  {
   "cell_type": "markdown",
   "id": "8d243b49-ed66-4bba-a6f2-e9da292736e5",
   "metadata": {},
   "source": [
    "- Given the X numpy array, show it's first element\n"
   ]
  },
  {
   "cell_type": "markdown",
   "id": "65d33822-6d23-41fb-a74b-18deec29a621",
   "metadata": {},
   "source": [
    "- Given the X numpy array, show it's last element\n"
   ]
  },
  {
   "cell_type": "markdown",
   "id": "24a24f2a-b424-424f-9f54-0b7e8bea66c6",
   "metadata": {},
   "source": [
    "- Given the X numpy array, show it's first three elements\n"
   ]
  },
  {
   "cell_type": "markdown",
   "id": "61e5532d-768e-46ac-986a-56ed18048a0b",
   "metadata": {},
   "source": [
    "- Given the X numpy array, show all middle elements\n"
   ]
  },
  {
   "cell_type": "markdown",
   "id": "44d746fa-5087-4603-9692-bc36da3e5a5f",
   "metadata": {},
   "source": [
    "- Given the X numpy array, show the elements in reverse position\n"
   ]
  },
  {
   "cell_type": "markdown",
   "id": "2706a2cc-9a2d-430b-b50a-f5d56c0eadbc",
   "metadata": {},
   "source": [
    "- Given the X numpy array, show the elements in an odd position\r\n"
   ]
  },
  {
   "cell_type": "markdown",
   "id": "b00551ba-076f-4c1b-a39c-bfa4f9a346c4",
   "metadata": {},
   "source": [
    "- Given the X numpy matrix, show the first row elements\r\n"
   ]
  },
  {
   "cell_type": "markdown",
   "id": "4eb32178-afe0-406d-8ca9-1bd5e7e1a93c",
   "metadata": {},
   "source": [
    "- Given the X numpy matrix, show the last row elements\r\n"
   ]
  },
  {
   "cell_type": "markdown",
   "id": "c6add1bf-48aa-44a9-9aa8-724e018226c8",
   "metadata": {},
   "source": [
    "- Given the X numpy matrix, show the first element on first row\n"
   ]
  },
  {
   "cell_type": "markdown",
   "id": "9cad550f-21a8-41e5-896b-a337fabe00d4",
   "metadata": {},
   "source": [
    "- Given the X numpy matrix, show the last element on last row\n"
   ]
  },
  {
   "cell_type": "markdown",
   "id": "0f8f3330-f5e6-479a-9505-1e6ffa61c159",
   "metadata": {},
   "source": [
    "- Given the X numpy matrix, show the middle row elements\n"
   ]
  },
  {
   "cell_type": "markdown",
   "id": "95da926e-0cba-4b44-94af-c82efc86b636",
   "metadata": {},
   "source": [
    "- Given the X numpy matrix, show the first two elements on the first two rows\n"
   ]
  },
  {
   "cell_type": "markdown",
   "id": "94a2b9d4-4d5a-47a3-a921-f40494adfe1f",
   "metadata": {},
   "source": [
    "- Given the X numpy matrix, show the last two elements on the last two rows\r\n"
   ]
  },
  {
   "cell_type": "markdown",
   "id": "5c356441-93aa-4d9d-a366-2690c1f3c7d1",
   "metadata": {},
   "source": [
    "# Manipulation"
   ]
  },
  {
   "cell_type": "markdown",
   "id": "160083ae-fccf-4417-8410-0b0e560e5f04",
   "metadata": {},
   "source": [
    "- Convert the given integer numpy array to float\r\n"
   ]
  },
  {
   "cell_type": "markdown",
   "id": "f200d427-de2a-4695-a7ac-dfd7f39fb3ba",
   "metadata": {},
   "source": [
    "- Reverse the given numpy array (first element becomes last)\r\n"
   ]
  },
  {
   "cell_type": "markdown",
   "id": "7067f81d-4541-4f3f-a58c-e25ae2f5c892",
   "metadata": {},
   "source": [
    "- Order (sort) the given numpy array\r\n"
   ]
  },
  {
   "cell_type": "markdown",
   "id": "98461846-5382-4996-b7fa-d58fd266df86",
   "metadata": {},
   "source": [
    "- Given the X numpy array, set the fifth element equal to 1\r\n"
   ]
  },
  {
   "cell_type": "markdown",
   "id": "49692d4d-3747-411e-ae11-cee10efda84a",
   "metadata": {},
   "source": [
    "- Given the X numpy array, change the 50 with a 40\r\n"
   ]
  },
  {
   "cell_type": "markdown",
   "id": "c2b51ff8-6af7-47f7-9078-5fc8ed4ac35e",
   "metadata": {},
   "source": [
    "- Given the X numpy matrix, change the last row with all 1\r\n"
   ]
  },
  {
   "cell_type": "markdown",
   "id": "b78e2095-7b6b-4633-a619-b5a1357f9a86",
   "metadata": {},
   "source": [
    "- Given the X numpy matrix, change the last item on the last row with a 0\r\n"
   ]
  },
  {
   "cell_type": "markdown",
   "id": "d51f05a0-9aec-491e-8afb-8c6bfa92e388",
   "metadata": {},
   "source": [
    "- Given the X numpy matrix, add 5 to every element\r\n"
   ]
  },
  {
   "cell_type": "markdown",
   "id": "cbdce3b4-4554-4ca3-a9db-40b165166317",
   "metadata": {},
   "source": [
    "# Boolean(masks)"
   ]
  },
  {
   "cell_type": "markdown",
   "id": "5c2ec3c3-3fd2-471d-9d4e-df571caeeb2a",
   "metadata": {},
   "source": [
    "- Given the X numpy array, make a mask showing negative elements\n"
   ]
  },
  {
   "cell_type": "markdown",
   "id": "b5b746a3-2b85-41d4-9485-4f31eaf9d42d",
   "metadata": {},
   "source": [
    "- Given the X numpy array, get the negative elements\r\n"
   ]
  },
  {
   "cell_type": "markdown",
   "id": "06ee1dca-b9c5-4b98-9dbe-4e220c2a9746",
   "metadata": {},
   "source": [
    "- Given the X numpy array, get numbers higher than 5\r\n"
   ]
  },
  {
   "cell_type": "markdown",
   "id": "9380b125-c79a-4eda-a03b-c069d6dee2aa",
   "metadata": {},
   "source": [
    "- Given the X numpy array, get numbers higher than the elements mean\r\n"
   ]
  },
  {
   "cell_type": "markdown",
   "id": "80c44b50-a818-4c0c-996e-2494f691d0b9",
   "metadata": {},
   "source": [
    "- Given the X numpy array, get numbers equal to 2 or 10\r\n"
   ]
  },
  {
   "cell_type": "markdown",
   "id": "e78e3198-d2df-416e-9ff4-906b8ce67f0f",
   "metadata": {},
   "source": [
    "# Logic Funcs"
   ]
  },
  {
   "cell_type": "markdown",
   "id": "c2b901cf-cef3-4ac2-858e-dcc66676b08e",
   "metadata": {},
   "source": [
    "- Given the X numpy array, return True if none of its elements is zero\r\n"
   ]
  },
  {
   "cell_type": "markdown",
   "id": "900f5a48-8d92-4fd6-ab46-f14cdc2d3818",
   "metadata": {},
   "source": [
    "- Given the X numpy array, return True if any of its elements is zero\r\n"
   ]
  },
  {
   "cell_type": "markdown",
   "id": "23fcd2cc-85fb-4ccd-831e-40e5ea1e54ba",
   "metadata": {},
   "source": [
    "# Summary Statistics"
   ]
  },
  {
   "cell_type": "markdown",
   "id": "2e7c2081-9b4b-4b2e-9395-936772654806",
   "metadata": {},
   "source": [
    "- Given the X numpy array, show the sum of its elements\r\n"
   ]
  },
  {
   "cell_type": "markdown",
   "id": "2544ae23-55dd-49db-8955-016e2597b913",
   "metadata": {},
   "source": [
    "- Given the X numpy array, show the mean value of its elements\r\n"
   ]
  },
  {
   "cell_type": "markdown",
   "id": "e2adb015-8018-4584-9966-56a9efec86b0",
   "metadata": {},
   "source": [
    "- Given the X numpy matrix, show the sum of its columns\r\n"
   ]
  },
  {
   "cell_type": "markdown",
   "id": "f9579906-1ce7-49b6-9f21-49b3c3f71cb3",
   "metadata": {},
   "source": [
    "- Given the X numpy matrix, show the mean value of its rows\r\n"
   ]
  },
  {
   "cell_type": "markdown",
   "id": "be5d4839-dfc8-46fc-a945-66f29369e5a4",
   "metadata": {},
   "source": [
    "- Given the X numpy array, show the max value of its elements\r\n"
   ]
  }
 ],
 "metadata": {
  "kernelspec": {
   "display_name": "Python 3 (ipykernel)",
   "language": "python",
   "name": "python3"
  },
  "language_info": {
   "codemirror_mode": {
    "name": "ipython",
    "version": 3
   },
   "file_extension": ".py",
   "mimetype": "text/x-python",
   "name": "python",
   "nbconvert_exporter": "python",
   "pygments_lexer": "ipython3",
   "version": "3.12.1"
  },
  "widgets": {
   "application/vnd.jupyter.widget-state+json": {
    "state": {},
    "version_major": 2,
    "version_minor": 0
   }
  }
 },
 "nbformat": 4,
 "nbformat_minor": 5
}
