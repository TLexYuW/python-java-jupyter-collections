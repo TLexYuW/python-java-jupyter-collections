{
 "cells": [
  {
   "cell_type": "markdown",
   "id": "9993052e-4175-4e19-9df5-8101dd7c0834",
   "metadata": {},
   "source": [
    "# Import"
   ]
  },
  {
   "cell_type": "code",
   "execution_count": 1,
   "id": "94e2d15a-8ead-4c6e-8193-fda8cb638242",
   "metadata": {},
   "outputs": [],
   "source": [
    "import requests\n",
    "import pandas as pd"
   ]
  },
  {
   "cell_type": "markdown",
   "id": "70b0d57d-8887-43d9-adef-28e69ed350fb",
   "metadata": {},
   "source": [
    "---"
   ]
  },
  {
   "cell_type": "markdown",
   "id": "a81fb4ae-5ceb-4055-a873-cf4788dc0955",
   "metadata": {},
   "source": [
    "# TOC"
   ]
  },
  {
   "cell_type": "markdown",
   "id": "93ee4f5c-2148-4366-85e7-2977998fbc12",
   "metadata": {},
   "source": [
    "- "
   ]
  },
  {
   "cell_type": "markdown",
   "id": "60031a3a-da0c-4cb4-89cd-bf2dc41dfd3a",
   "metadata": {},
   "source": [
    "---"
   ]
  },
  {
   "cell_type": "code",
   "execution_count": 9,
   "id": "714208c3-63c3-4971-85b1-59446acd5e48",
   "metadata": {},
   "outputs": [],
   "source": [
    "# https://api.kraken.com/0/public/OHLC?pair=XBTUSD&interval=60&since=1704305938\n",
    "def get_historic_price(symbol, after='2018-09-01'):\n",
    "    \n",
    "    url = 'https://api.kraken.com/0/public/OHLC'\n",
    "    pair = f\"{symbol.upper()}USD\" # XBTUSD when symbol='xbt' for example\n",
    "    \n",
    "    resp = requests.get(url, params={\n",
    "        \"pair\": pair,\n",
    "        'interval': 60,\n",
    "        'since': str(int(pd.Timestamp(after).timestamp()))\n",
    "    })\n",
    "    resp.raise_for_status()\n",
    "    \n",
    "    data = resp.json()\n",
    "    \n",
    "    results_key = [k for k in data['result'].keys() if k != 'last'][0]\n",
    "    results = [\n",
    "        (close_time, float(open), float(high), float(low), float(close), float(volume))\n",
    "        for (close_time, open, high, low, close, vwap, volume, count)\n",
    "        in data['result'][results_key]\n",
    "    ]\n",
    "    df = pd.DataFrame(results, columns=[\n",
    "        'CloseTime', 'OpenPrice', 'HighPrice', 'LowPrice', 'ClosePrice', 'Volume'\n",
    "    ])\n",
    "    df['CloseTime'] = pd.to_datetime(df['CloseTime'], unit='s')\n",
    "    df.set_index('CloseTime', inplace=True)\n",
    "    return df"
   ]
  },
  {
   "cell_type": "code",
   "execution_count": 3,
   "id": "965f6df0-1e24-4b02-8fa4-512f2e8c7d4b",
   "metadata": {},
   "outputs": [
    {
     "data": {
      "text/plain": [
       "Timestamp('2024-01-03 18:18:58.152708')"
      ]
     },
     "execution_count": 3,
     "metadata": {},
     "output_type": "execute_result"
    }
   ],
   "source": [
    "last_week = (pd.Timestamp.now() - pd.offsets.Day(7))\n",
    "last_week"
   ]
  },
  {
   "cell_type": "code",
   "execution_count": 8,
   "id": "b371f404-bccd-4f36-b204-f76c0e327c53",
   "metadata": {},
   "outputs": [
    {
     "name": "stdout",
     "output_type": "stream",
     "text": [
      "1704305938\n"
     ]
    }
   ],
   "source": [
    "btc = get_historic_price('btc', after=last_week)"
   ]
  },
  {
   "cell_type": "code",
   "execution_count": 5,
   "id": "4cdf4fe2-930f-47bb-ae39-e5d39c47af09",
   "metadata": {},
   "outputs": [
    {
     "data": {
      "text/html": [
       "<div>\n",
       "<style scoped>\n",
       "    .dataframe tbody tr th:only-of-type {\n",
       "        vertical-align: middle;\n",
       "    }\n",
       "\n",
       "    .dataframe tbody tr th {\n",
       "        vertical-align: top;\n",
       "    }\n",
       "\n",
       "    .dataframe thead th {\n",
       "        text-align: right;\n",
       "    }\n",
       "</style>\n",
       "<table border=\"1\" class=\"dataframe\">\n",
       "  <thead>\n",
       "    <tr style=\"text-align: right;\">\n",
       "      <th></th>\n",
       "      <th>OpenPrice</th>\n",
       "      <th>HighPrice</th>\n",
       "      <th>LowPrice</th>\n",
       "      <th>ClosePrice</th>\n",
       "      <th>Volume</th>\n",
       "    </tr>\n",
       "    <tr>\n",
       "      <th>CloseTime</th>\n",
       "      <th></th>\n",
       "      <th></th>\n",
       "      <th></th>\n",
       "      <th></th>\n",
       "      <th></th>\n",
       "    </tr>\n",
       "  </thead>\n",
       "  <tbody>\n",
       "    <tr>\n",
       "      <th>2024-01-03 19:00:00</th>\n",
       "      <td>42295.8</td>\n",
       "      <td>42993.0</td>\n",
       "      <td>42212.6</td>\n",
       "      <td>42622.1</td>\n",
       "      <td>186.367519</td>\n",
       "    </tr>\n",
       "    <tr>\n",
       "      <th>2024-01-03 20:00:00</th>\n",
       "      <td>42615.8</td>\n",
       "      <td>42858.9</td>\n",
       "      <td>42582.3</td>\n",
       "      <td>42761.1</td>\n",
       "      <td>113.481515</td>\n",
       "    </tr>\n",
       "    <tr>\n",
       "      <th>2024-01-03 21:00:00</th>\n",
       "      <td>42746.3</td>\n",
       "      <td>42973.7</td>\n",
       "      <td>42608.7</td>\n",
       "      <td>42916.2</td>\n",
       "      <td>91.145601</td>\n",
       "    </tr>\n",
       "    <tr>\n",
       "      <th>2024-01-03 22:00:00</th>\n",
       "      <td>42916.2</td>\n",
       "      <td>42964.7</td>\n",
       "      <td>42650.1</td>\n",
       "      <td>42767.3</td>\n",
       "      <td>70.203314</td>\n",
       "    </tr>\n",
       "    <tr>\n",
       "      <th>2024-01-03 23:00:00</th>\n",
       "      <td>42767.3</td>\n",
       "      <td>42849.6</td>\n",
       "      <td>42649.5</td>\n",
       "      <td>42849.5</td>\n",
       "      <td>36.038142</td>\n",
       "    </tr>\n",
       "  </tbody>\n",
       "</table>\n",
       "</div>"
      ],
      "text/plain": [
       "                     OpenPrice  HighPrice  LowPrice  ClosePrice      Volume\n",
       "CloseTime                                                                  \n",
       "2024-01-03 19:00:00    42295.8    42993.0   42212.6     42622.1  186.367519\n",
       "2024-01-03 20:00:00    42615.8    42858.9   42582.3     42761.1  113.481515\n",
       "2024-01-03 21:00:00    42746.3    42973.7   42608.7     42916.2   91.145601\n",
       "2024-01-03 22:00:00    42916.2    42964.7   42650.1     42767.3   70.203314\n",
       "2024-01-03 23:00:00    42767.3    42849.6   42649.5     42849.5   36.038142"
      ]
     },
     "execution_count": 5,
     "metadata": {},
     "output_type": "execute_result"
    }
   ],
   "source": [
    "btc.head()"
   ]
  },
  {
   "cell_type": "code",
   "execution_count": null,
   "id": "aa0631a5-b3a9-4fde-a1a3-c9d4cae9df94",
   "metadata": {},
   "outputs": [],
   "source": []
  }
 ],
 "metadata": {
  "kernelspec": {
   "display_name": "Python 3 (ipykernel)",
   "language": "python",
   "name": "python3"
  },
  "language_info": {
   "codemirror_mode": {
    "name": "ipython",
    "version": 3
   },
   "file_extension": ".py",
   "mimetype": "text/x-python",
   "name": "python",
   "nbconvert_exporter": "python",
   "pygments_lexer": "ipython3",
   "version": "3.12.1"
  },
  "widgets": {
   "application/vnd.jupyter.widget-state+json": {
    "state": {},
    "version_major": 2,
    "version_minor": 0
   }
  }
 },
 "nbformat": 4,
 "nbformat_minor": 5
}
