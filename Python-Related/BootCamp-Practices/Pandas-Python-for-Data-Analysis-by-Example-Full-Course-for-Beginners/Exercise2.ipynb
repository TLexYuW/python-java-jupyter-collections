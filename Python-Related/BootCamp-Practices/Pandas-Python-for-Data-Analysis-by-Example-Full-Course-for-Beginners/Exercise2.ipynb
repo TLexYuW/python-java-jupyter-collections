{
 "cells": [
  {
   "cell_type": "markdown",
   "id": "26a72352-473d-4f0f-88c5-7c9600e611f2",
   "metadata": {},
   "source": [
    "# The Sakila Database\n",
    "<img width=\"1600px\" src=\"https://user-images.githubusercontent.com/7065401/58504872-fa243b00-8161-11e9-85ed-4b7d8d7ce9f7.png\" />"
   ]
  },
  {
   "cell_type": "markdown",
   "id": "14260656-277f-4522-9c74-84939a799ab0",
   "metadata": {},
   "source": [
    "---"
   ]
  },
  {
   "cell_type": "markdown",
   "id": "887f4dbd-cd69-4c69-b00f-028c108b052f",
   "metadata": {},
   "source": [
    "# Template"
   ]
  },
  {
   "cell_type": "code",
   "execution_count": 3,
   "id": "16e0aeb3-315e-4456-9868-88d576fd77fc",
   "metadata": {},
   "outputs": [],
   "source": [
    "# Template Code"
   ]
  },
  {
   "cell_type": "markdown",
   "id": "7dedeee9-c380-4eba-87a6-7f6d23e97ec7",
   "metadata": {},
   "source": [
    "---"
   ]
  },
  {
   "cell_type": "markdown",
   "id": "5fc49a8b-d98b-4cb7-81a1-242159e291e0",
   "metadata": {},
   "source": [
    "# "
   ]
  },
  {
   "cell_type": "code",
   "execution_count": 5,
   "id": "a5a1bf4f-87f1-45e6-bba2-407b9bb4ae5e",
   "metadata": {},
   "outputs": [
    {
     "name": "stdout",
     "output_type": "stream",
     "text": [
      "Hello\n"
     ]
    }
   ],
   "source": [
    "print(\"Hello\")"
   ]
  },
  {
   "cell_type": "markdown",
   "id": "98e593e2-3f13-4377-970f-548e748ef89e",
   "metadata": {},
   "source": [
    "---"
   ]
  }
 ],
 "metadata": {
  "kernelspec": {
   "display_name": "Python 3 (ipykernel)",
   "language": "python",
   "name": "python3"
  },
  "language_info": {
   "codemirror_mode": {
    "name": "ipython",
    "version": 3
   },
   "file_extension": ".py",
   "mimetype": "text/x-python",
   "name": "python",
   "nbconvert_exporter": "python",
   "pygments_lexer": "ipython3",
   "version": "3.12.1"
  },
  "widgets": {
   "application/vnd.jupyter.widget-state+json": {
    "state": {},
    "version_major": 2,
    "version_minor": 0
   }
  }
 },
 "nbformat": 4,
 "nbformat_minor": 5
}
