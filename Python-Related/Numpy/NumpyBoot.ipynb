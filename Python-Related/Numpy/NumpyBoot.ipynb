{
 "cells": [
  {
   "cell_type": "markdown",
   "id": "f3b6e669-bfbd-4871-98b2-0fb5944785d1",
   "metadata": {},
   "source": [
    "# Import"
   ]
  },
  {
   "cell_type": "code",
   "execution_count": 80,
   "id": "10904d35-ca7e-49f6-92c4-0278a11749c1",
   "metadata": {},
   "outputs": [],
   "source": [
    "import sys\n",
    "\n",
    "import numpy as np"
   ]
  },
  {
   "cell_type": "markdown",
   "id": "b5977ef2-c2a0-4dab-8495-3b7922cc4284",
   "metadata": {},
   "source": [
    "# Setup"
   ]
  },
  {
   "cell_type": "code",
   "execution_count": 81,
   "id": "41aa7b8f-70de-4f7c-a657-6d73ad492d39",
   "metadata": {},
   "outputs": [],
   "source": [
    "# code"
   ]
  },
  {
   "cell_type": "markdown",
   "id": "0bb3ac3b-2f32-4394-8fc7-e60ce557031f",
   "metadata": {},
   "source": [
    "---"
   ]
  },
  {
   "cell_type": "markdown",
   "id": "4e074e18-bb54-43b1-b100-964c2ea1f6f7",
   "metadata": {},
   "source": [
    "# Demo"
   ]
  },
  {
   "cell_type": "markdown",
   "id": "ae60cfbc-9ed8-49f5-87d9-fb284cee3a87",
   "metadata": {},
   "source": [
    "> Desc."
   ]
  },
  {
   "cell_type": "markdown",
   "id": "c221abaf-945b-429c-93d2-1e99a7d2616b",
   "metadata": {},
   "source": [
    "---"
   ]
  },
  {
   "cell_type": "markdown",
   "id": "13b639bd-cb92-4ea8-8b67-6eac1fc8e5a5",
   "metadata": {},
   "source": [
    "# TOC"
   ]
  },
  {
   "cell_type": "markdown",
   "id": "26358993-c1b8-4c36-8faa-e51a7c8b69be",
   "metadata": {},
   "source": [
    "- [Numpy Arrays](#Numpy-Arrays)\n",
    "- [Funtion](#Function)\n",
    "    - [linspace](#linspace)\n",
    "    - [random](#random)\n",
    "    - [arange](#arange)\n",
    "    - [reshape](#reshape)\n",
    "    - [zeros](#zeros)\n",
    "    - [ones](#ones)\n",
    "    - [empty](#empty)\n",
    "    - [identity](#identity)\n",
    "    - [eye](#eye)\n",
    "- [Size of objects in Memory](#Size-of-objects-in-Memory)"
   ]
  },
  {
   "cell_type": "markdown",
   "id": "20721c42-d65a-4ca7-a2b9-a617b4e34f78",
   "metadata": {},
   "source": [
    "---"
   ]
  },
  {
   "cell_type": "markdown",
   "id": "4884e1aa-6314-4fc6-ba2f-6d9a1643fec3",
   "metadata": {},
   "source": [
    "# Numpy Arrays"
   ]
  },
  {
   "cell_type": "code",
   "execution_count": 82,
   "id": "eaf6f978-12b1-4b45-bc54-29c2285a80ed",
   "metadata": {},
   "outputs": [],
   "source": [
    "na = np.array([1, 2, 3, 4])\n",
    "nb = np.array([0, 0.5, 1, 1.5, 2])"
   ]
  },
  {
   "cell_type": "code",
   "execution_count": 83,
   "id": "f0e806af-a29b-470c-8591-c88f425f8f49",
   "metadata": {},
   "outputs": [
    {
     "name": "stdout",
     "output_type": "stream",
     "text": [
      "[1 2 3 4]\n",
      "[0.  0.5 1.  1.5 2. ]\n"
     ]
    }
   ],
   "source": [
    "print(na)\n",
    "print(nb)"
   ]
  },
  {
   "cell_type": "code",
   "execution_count": 84,
   "id": "ca106a46-0c3d-4c28-8d12-7ad7387821df",
   "metadata": {},
   "outputs": [
    {
     "data": {
      "text/plain": [
       "(1, 2)"
      ]
     },
     "execution_count": 84,
     "metadata": {},
     "output_type": "execute_result"
    }
   ],
   "source": [
    "na[0], na[1]"
   ]
  },
  {
   "cell_type": "code",
   "execution_count": 85,
   "id": "9f55a013-f52b-417b-90a2-f358af4d2232",
   "metadata": {},
   "outputs": [
    {
     "data": {
      "text/plain": [
       "(0.0, 0.5)"
      ]
     },
     "execution_count": 85,
     "metadata": {},
     "output_type": "execute_result"
    }
   ],
   "source": [
    "nb[0], nb[1]"
   ]
  },
  {
   "cell_type": "code",
   "execution_count": 86,
   "id": "36e42764-bb47-4ec8-b375-5705b658bcc4",
   "metadata": {},
   "outputs": [
    {
     "data": {
      "text/plain": [
       "array([1, 2, 3, 4])"
      ]
     },
     "execution_count": 86,
     "metadata": {},
     "output_type": "execute_result"
    }
   ],
   "source": [
    "na[0:]"
   ]
  },
  {
   "cell_type": "code",
   "execution_count": 87,
   "id": "73f6dc93-e882-4a16-abe9-cf14c9de34b2",
   "metadata": {},
   "outputs": [
    {
     "data": {
      "text/plain": [
       "array([2, 3])"
      ]
     },
     "execution_count": 87,
     "metadata": {},
     "output_type": "execute_result"
    }
   ],
   "source": [
    "na[1:3]"
   ]
  },
  {
   "cell_type": "code",
   "execution_count": 88,
   "id": "fd447902-fe98-4a08-a5a6-bee2abd5883c",
   "metadata": {},
   "outputs": [
    {
     "data": {
      "text/plain": [
       "array([1, 2, 3])"
      ]
     },
     "execution_count": 88,
     "metadata": {},
     "output_type": "execute_result"
    }
   ],
   "source": [
    "na[:-1]"
   ]
  },
  {
   "cell_type": "code",
   "execution_count": 89,
   "id": "485f16e2-c321-4f03-9426-4d5dd231e632",
   "metadata": {},
   "outputs": [
    {
     "data": {
      "text/plain": [
       "array([1, 3])"
      ]
     },
     "execution_count": 89,
     "metadata": {},
     "output_type": "execute_result"
    }
   ],
   "source": [
    "na[::2]"
   ]
  },
  {
   "cell_type": "code",
   "execution_count": 90,
   "id": "0b22c7b2-eb5e-4ea7-817f-56ffa153060e",
   "metadata": {},
   "outputs": [
    {
     "data": {
      "text/plain": [
       "2.0"
      ]
     },
     "execution_count": 90,
     "metadata": {},
     "output_type": "execute_result"
    }
   ],
   "source": [
    "nb[-1]"
   ]
  },
  {
   "cell_type": "code",
   "execution_count": 91,
   "id": "b28fbfe5-90e5-47c1-942e-22341803f53d",
   "metadata": {},
   "outputs": [
    {
     "data": {
      "text/plain": [
       "array([0., 1., 2.])"
      ]
     },
     "execution_count": 91,
     "metadata": {},
     "output_type": "execute_result"
    }
   ],
   "source": [
    "nb[[0, 2, -1]]"
   ]
  },
  {
   "cell_type": "markdown",
   "id": "7d92190d-7620-476e-b5d8-5e3fe09aa582",
   "metadata": {},
   "source": [
    "---"
   ]
  },
  {
   "cell_type": "markdown",
   "id": "002bef83-2d6c-4415-a39b-539598276276",
   "metadata": {},
   "source": [
    "## Array Types"
   ]
  },
  {
   "cell_type": "code",
   "execution_count": 92,
   "id": "c1300d12-b3d7-46e4-89d5-d1fa4164192c",
   "metadata": {},
   "outputs": [
    {
     "data": {
      "text/plain": [
       "array([1, 2, 3, 4])"
      ]
     },
     "execution_count": 92,
     "metadata": {},
     "output_type": "execute_result"
    }
   ],
   "source": [
    "na"
   ]
  },
  {
   "cell_type": "code",
   "execution_count": 93,
   "id": "88360e8c-a837-403d-a405-5dea4ec3e9c6",
   "metadata": {},
   "outputs": [
    {
     "data": {
      "text/plain": [
       "array([0. , 0.5, 1. , 1.5, 2. ])"
      ]
     },
     "execution_count": 93,
     "metadata": {},
     "output_type": "execute_result"
    }
   ],
   "source": [
    "nb"
   ]
  },
  {
   "cell_type": "code",
   "execution_count": 94,
   "id": "04079695-3644-43f7-8ebc-0f0499b6b09a",
   "metadata": {},
   "outputs": [
    {
     "data": {
      "text/plain": [
       "dtype('int32')"
      ]
     },
     "execution_count": 94,
     "metadata": {},
     "output_type": "execute_result"
    }
   ],
   "source": [
    "na.dtype"
   ]
  },
  {
   "cell_type": "code",
   "execution_count": 95,
   "id": "1c4db011-f4e7-4481-ad28-a2b2fd7274a3",
   "metadata": {},
   "outputs": [
    {
     "data": {
      "text/plain": [
       "dtype('float64')"
      ]
     },
     "execution_count": 95,
     "metadata": {},
     "output_type": "execute_result"
    }
   ],
   "source": [
    "nb.dtype"
   ]
  },
  {
   "cell_type": "markdown",
   "id": "a59007a8-c199-4759-97ef-2419d3045606",
   "metadata": {},
   "source": [
    "#### Set Type"
   ]
  },
  {
   "cell_type": "code",
   "execution_count": 96,
   "id": "39447f30-ce91-4ae0-9cef-72907fe40e34",
   "metadata": {},
   "outputs": [
    {
     "data": {
      "text/plain": [
       "array([1., 2., 3., 4.])"
      ]
     },
     "execution_count": 96,
     "metadata": {},
     "output_type": "execute_result"
    }
   ],
   "source": [
    "np.array([1, 2, 3, 4], dtype=np.float64)"
   ]
  },
  {
   "cell_type": "code",
   "execution_count": 97,
   "id": "b117c7bc-0653-4dec-a5b6-1d14e0019b76",
   "metadata": {},
   "outputs": [
    {
     "data": {
      "text/plain": [
       "array([1, 2, 3, 4], dtype=int64)"
      ]
     },
     "execution_count": 97,
     "metadata": {},
     "output_type": "execute_result"
    }
   ],
   "source": [
    "np.array([1, 2, 3, 4], dtype=np.int64)"
   ]
  },
  {
   "cell_type": "code",
   "execution_count": 98,
   "id": "01b37bf9-0a46-4dc4-a68d-d7edd390b422",
   "metadata": {},
   "outputs": [],
   "source": [
    "nc = np.array([\"a\", \"b\", \"c\"])"
   ]
  },
  {
   "cell_type": "code",
   "execution_count": 99,
   "id": "effb6e22-08a7-46f9-8806-8d162a8629fa",
   "metadata": {},
   "outputs": [
    {
     "data": {
      "text/plain": [
       "dtype('<U1')"
      ]
     },
     "execution_count": 99,
     "metadata": {},
     "output_type": "execute_result"
    }
   ],
   "source": [
    "nc.dtype"
   ]
  },
  {
   "cell_type": "code",
   "execution_count": 100,
   "id": "1edd54bd-badf-4af4-9310-849a43ae5b41",
   "metadata": {},
   "outputs": [],
   "source": [
    "nd = np.array([{\"a\": 1}, sys])"
   ]
  },
  {
   "cell_type": "code",
   "execution_count": 101,
   "id": "dcb2ca50-d22e-4bf8-9492-cf325be78434",
   "metadata": {},
   "outputs": [
    {
     "data": {
      "text/plain": [
       "dtype('O')"
      ]
     },
     "execution_count": 101,
     "metadata": {},
     "output_type": "execute_result"
    }
   ],
   "source": [
    "nd.dtype"
   ]
  },
  {
   "cell_type": "markdown",
   "id": "f8fb9e9a-0036-46e7-b038-d67659cc8cf5",
   "metadata": {},
   "source": [
    "#### Demo"
   ]
  },
  {
   "cell_type": "code",
   "execution_count": 102,
   "id": "d3d7168d-767a-4376-9368-98486ef17467",
   "metadata": {},
   "outputs": [
    {
     "data": {
      "text/plain": [
       "True"
      ]
     },
     "execution_count": 102,
     "metadata": {},
     "output_type": "execute_result"
    }
   ],
   "source": [
    "level_list = np.array([1000, 4000, 150, 9001, 1500])\n",
    "any(level_list > 9000)"
   ]
  },
  {
   "cell_type": "markdown",
   "id": "c08acf88-6a3e-48a9-b7a3-085918ce906c",
   "metadata": {},
   "source": [
    "---"
   ]
  },
  {
   "cell_type": "markdown",
   "id": "3e734235-17b5-4236-b175-7c739ea9422a",
   "metadata": {},
   "source": [
    "## Dimensions and shapes"
   ]
  },
  {
   "cell_type": "markdown",
   "id": "cfe25475-f05c-4c6f-8db4-02d15bd43fff",
   "metadata": {},
   "source": [
    "#### Demo"
   ]
  },
  {
   "cell_type": "code",
   "execution_count": 103,
   "id": "ba0e6ea8-6768-4a5c-bbea-e49ee4225575",
   "metadata": {},
   "outputs": [],
   "source": [
    "A = np.array([[1, 2, 3], [4, 5, 6]])"
   ]
  },
  {
   "cell_type": "code",
   "execution_count": 104,
   "id": "ea563560-91e1-4a52-aef6-891b04a0ee0b",
   "metadata": {},
   "outputs": [
    {
     "data": {
      "text/plain": [
       "array([[1, 2, 3],\n",
       "       [4, 5, 6]])"
      ]
     },
     "execution_count": 104,
     "metadata": {},
     "output_type": "execute_result"
    }
   ],
   "source": [
    "A"
   ]
  },
  {
   "cell_type": "code",
   "execution_count": 105,
   "id": "540d47b2-a4f9-4764-8d9f-7add6d2e9684",
   "metadata": {},
   "outputs": [
    {
     "data": {
      "text/plain": [
       "(2, 3)"
      ]
     },
     "execution_count": 105,
     "metadata": {},
     "output_type": "execute_result"
    }
   ],
   "source": [
    "A.shape"
   ]
  },
  {
   "cell_type": "code",
   "execution_count": 106,
   "id": "384a03fa-07a1-4820-920a-9422190b1a98",
   "metadata": {},
   "outputs": [
    {
     "data": {
      "text/plain": [
       "2"
      ]
     },
     "execution_count": 106,
     "metadata": {},
     "output_type": "execute_result"
    }
   ],
   "source": [
    "A.ndim"
   ]
  },
  {
   "cell_type": "code",
   "execution_count": 107,
   "id": "e340b99e-c289-4a9e-b5d8-55a234523291",
   "metadata": {},
   "outputs": [
    {
     "data": {
      "text/plain": [
       "6"
      ]
     },
     "execution_count": 107,
     "metadata": {},
     "output_type": "execute_result"
    }
   ],
   "source": [
    "A.size"
   ]
  },
  {
   "cell_type": "markdown",
   "id": "d605bfd8-6e3e-49e2-b9ad-1fed81c159f5",
   "metadata": {},
   "source": [
    "---"
   ]
  },
  {
   "cell_type": "markdown",
   "id": "03cb5dea-57ae-4344-aca6-a59ed5346958",
   "metadata": {},
   "source": [
    "#### Demo"
   ]
  },
  {
   "cell_type": "code",
   "execution_count": 108,
   "id": "ade0600c-eb24-4ffe-9263-1e75d82461f7",
   "metadata": {},
   "outputs": [],
   "source": [
    "B = np.array(\n",
    "    [\n",
    "        [\n",
    "            [12, 11, 10],\n",
    "            [9, 8, 7],\n",
    "        ],\n",
    "        [[6, 5, 4], [3, 2, 1]],\n",
    "    ]\n",
    ")"
   ]
  },
  {
   "cell_type": "code",
   "execution_count": 109,
   "id": "243b78b3-f36a-49e1-94ce-cae81bce9ecc",
   "metadata": {},
   "outputs": [
    {
     "data": {
      "text/plain": [
       "dtype('int32')"
      ]
     },
     "execution_count": 109,
     "metadata": {},
     "output_type": "execute_result"
    }
   ],
   "source": [
    "B.dtype"
   ]
  },
  {
   "cell_type": "markdown",
   "id": "b85b9bd9-14ff-4fc1-a9d0-9ef7d7208263",
   "metadata": {},
   "source": [
    "---"
   ]
  },
  {
   "cell_type": "markdown",
   "id": "1d347389-5077-4c02-a5b9-1c92481a241b",
   "metadata": {},
   "source": [
    "#### Demo\n",
    "If the shape isn't consistent, it'll just fall back to regular Python objects:\r\n",
    "\r\n"
   ]
  },
  {
   "cell_type": "code",
   "execution_count": 110,
   "id": "d3332e52-7020-4387-aa79-b0cb465e485a",
   "metadata": {},
   "outputs": [],
   "source": [
    "C = np.array(\n",
    "    [\n",
    "        [\n",
    "            [12, 11, 10],\n",
    "            [9, 8, 7],\n",
    "        ],\n",
    "        [[6, 5, 4]],\n",
    "    ],\n",
    "    dtype=np.object_,\n",
    ")"
   ]
  },
  {
   "cell_type": "code",
   "execution_count": 111,
   "id": "a59d72d3-ad50-446c-9888-41657620c7f3",
   "metadata": {},
   "outputs": [
    {
     "data": {
      "text/plain": [
       "dtype('O')"
      ]
     },
     "execution_count": 111,
     "metadata": {},
     "output_type": "execute_result"
    }
   ],
   "source": [
    "C.dtype"
   ]
  },
  {
   "cell_type": "code",
   "execution_count": 112,
   "id": "d3ed2975-6caf-4e1b-8ab9-758e89066d53",
   "metadata": {},
   "outputs": [
    {
     "data": {
      "text/plain": [
       "(2,)"
      ]
     },
     "execution_count": 112,
     "metadata": {},
     "output_type": "execute_result"
    }
   ],
   "source": [
    "C.shape"
   ]
  },
  {
   "cell_type": "code",
   "execution_count": 113,
   "id": "7e9628a6-098c-46b4-b864-c7dd9e5367c6",
   "metadata": {},
   "outputs": [
    {
     "data": {
      "text/plain": [
       "2"
      ]
     },
     "execution_count": 113,
     "metadata": {},
     "output_type": "execute_result"
    }
   ],
   "source": [
    "C.size"
   ]
  },
  {
   "cell_type": "code",
   "execution_count": 114,
   "id": "c9b7645c-2798-4365-947b-ccf1713972ee",
   "metadata": {},
   "outputs": [
    {
     "data": {
      "text/plain": [
       "list"
      ]
     },
     "execution_count": 114,
     "metadata": {},
     "output_type": "execute_result"
    }
   ],
   "source": [
    "type(C[0])"
   ]
  },
  {
   "cell_type": "markdown",
   "id": "aed1573b-2b00-4fa1-8322-35b18a9bd1f3",
   "metadata": {},
   "source": [
    "---"
   ]
  },
  {
   "cell_type": "markdown",
   "id": "e14febea-b4c1-4b9a-a261-53d3fe5d2db8",
   "metadata": {},
   "source": [
    "## Indexing and Slicing of Matrices"
   ]
  },
  {
   "cell_type": "code",
   "execution_count": 144,
   "id": "25889d18-a8d1-4ae9-a431-5b2fbd4b088f",
   "metadata": {},
   "outputs": [],
   "source": [
    "# Square matrix\n",
    "\"\"\"\n",
    "# .  0  1  2\n",
    "    [1, 2, 3],  # 0\n",
    "    [4, 5, 6],  # 1\n",
    "    [7, 8, 9],  # 2\n",
    "\"\"\"\n",
    "A = np.array(\n",
    "    [\n",
    "        [1, 2, 3],\n",
    "        [4, 5, 6],\n",
    "        [7, 8, 9],\n",
    "    ]\n",
    ")"
   ]
  },
  {
   "cell_type": "code",
   "execution_count": 116,
   "id": "4f2cde57-32db-4e16-8fe2-571c4e8893cd",
   "metadata": {},
   "outputs": [
    {
     "data": {
      "text/plain": [
       "array([4, 5, 6])"
      ]
     },
     "execution_count": 116,
     "metadata": {},
     "output_type": "execute_result"
    }
   ],
   "source": [
    "A[1]"
   ]
  },
  {
   "cell_type": "code",
   "execution_count": 117,
   "id": "e4e2eeca-e478-4aaf-a5bc-52af70f8ec21",
   "metadata": {},
   "outputs": [
    {
     "data": {
      "text/plain": [
       "4"
      ]
     },
     "execution_count": 117,
     "metadata": {},
     "output_type": "execute_result"
    }
   ],
   "source": [
    "# A[d1, d2, d3, d4]\n",
    "A[1][0]"
   ]
  },
  {
   "cell_type": "code",
   "execution_count": 118,
   "id": "6fdf7c05-7f54-41cc-a74a-222ba9fa475d",
   "metadata": {},
   "outputs": [
    {
     "data": {
      "text/plain": [
       "array([[1, 2, 3],\n",
       "       [4, 5, 6]])"
      ]
     },
     "execution_count": 118,
     "metadata": {},
     "output_type": "execute_result"
    }
   ],
   "source": [
    "A[0:2]"
   ]
  },
  {
   "cell_type": "code",
   "execution_count": 119,
   "id": "4b794d93-c4e7-4f8b-a1eb-466229b909df",
   "metadata": {},
   "outputs": [
    {
     "data": {
      "text/plain": [
       "array([[1, 2],\n",
       "       [4, 5],\n",
       "       [7, 8]])"
      ]
     },
     "execution_count": 119,
     "metadata": {},
     "output_type": "execute_result"
    }
   ],
   "source": [
    "A[:, :2]"
   ]
  },
  {
   "cell_type": "code",
   "execution_count": 120,
   "id": "0f88bf14-ee1d-46f3-855b-052b081d24a7",
   "metadata": {},
   "outputs": [
    {
     "data": {
      "text/plain": [
       "array([[1, 2],\n",
       "       [4, 5]])"
      ]
     },
     "execution_count": 120,
     "metadata": {},
     "output_type": "execute_result"
    }
   ],
   "source": [
    "A[:2, :2]"
   ]
  },
  {
   "cell_type": "code",
   "execution_count": 121,
   "id": "fa3427e1-e049-4af1-9370-f5b416cb6a94",
   "metadata": {},
   "outputs": [
    {
     "data": {
      "text/plain": [
       "array([[3],\n",
       "       [6]])"
      ]
     },
     "execution_count": 121,
     "metadata": {},
     "output_type": "execute_result"
    }
   ],
   "source": [
    "A[:2, 2:]"
   ]
  },
  {
   "cell_type": "code",
   "execution_count": 126,
   "id": "ea13cb3b-4107-4c0a-bcff-c977882acab3",
   "metadata": {},
   "outputs": [],
   "source": [
    "A[1] = np.array([10, 10, 10])\n",
    "A[2] = 99"
   ]
  },
  {
   "cell_type": "code",
   "execution_count": 127,
   "id": "e45688f8-d2bd-497b-b3a9-e8379256894b",
   "metadata": {},
   "outputs": [
    {
     "data": {
      "text/plain": [
       "array([[ 1,  2,  3],\n",
       "       [10, 10, 10],\n",
       "       [99, 99, 99]])"
      ]
     },
     "execution_count": 127,
     "metadata": {},
     "output_type": "execute_result"
    }
   ],
   "source": [
    "A"
   ]
  },
  {
   "cell_type": "markdown",
   "id": "614055be-3c7d-4cc9-8844-ee1f3ce4a7fa",
   "metadata": {},
   "source": [
    "---"
   ]
  },
  {
   "cell_type": "markdown",
   "id": "531ba24d-0027-4f66-a06b-eb37e9e3cdff",
   "metadata": {},
   "source": [
    "## Summary Statistics"
   ]
  },
  {
   "cell_type": "code",
   "execution_count": 128,
   "id": "186c48c0-dbc9-4989-8142-11d82548daba",
   "metadata": {},
   "outputs": [
    {
     "data": {
      "text/plain": [
       "array([1, 2, 3, 4])"
      ]
     },
     "execution_count": 128,
     "metadata": {},
     "output_type": "execute_result"
    }
   ],
   "source": [
    "na"
   ]
  },
  {
   "cell_type": "code",
   "execution_count": 129,
   "id": "c1ade887-a84c-4ba9-a257-8bdf87b0047e",
   "metadata": {},
   "outputs": [
    {
     "data": {
      "text/plain": [
       "10"
      ]
     },
     "execution_count": 129,
     "metadata": {},
     "output_type": "execute_result"
    }
   ],
   "source": [
    "na.sum()"
   ]
  },
  {
   "cell_type": "code",
   "execution_count": 131,
   "id": "591220d4-99b0-4b2c-9472-bf810dd56e44",
   "metadata": {},
   "outputs": [
    {
     "data": {
      "text/plain": [
       "2.5"
      ]
     },
     "execution_count": 131,
     "metadata": {},
     "output_type": "execute_result"
    }
   ],
   "source": [
    "na.mean()"
   ]
  },
  {
   "cell_type": "markdown",
   "id": "20a44909-3e8a-4911-bf79-6486d1ffa015",
   "metadata": {},
   "source": [
    "- 標準差(std, standard deviation)\n",
    "- 變異數(var, variance)"
   ]
  },
  {
   "cell_type": "code",
   "execution_count": 132,
   "id": "b85d57d0-46eb-4157-a0a4-164c47367998",
   "metadata": {},
   "outputs": [
    {
     "data": {
      "text/plain": [
       "1.2139539573337679"
      ]
     },
     "execution_count": 132,
     "metadata": {},
     "output_type": "execute_result"
    }
   ],
   "source": [
    "a.std()"
   ]
  },
  {
   "cell_type": "code",
   "execution_count": 133,
   "id": "65d21c74-c3ca-4d57-8991-109ca1a49eea",
   "metadata": {},
   "outputs": [
    {
     "data": {
      "text/plain": [
       "1.4736842105263157"
      ]
     },
     "execution_count": 133,
     "metadata": {},
     "output_type": "execute_result"
    }
   ],
   "source": [
    "a.var()"
   ]
  },
  {
   "cell_type": "code",
   "execution_count": 136,
   "id": "d00465d7-42eb-42d5-8780-5d61bdfe983d",
   "metadata": {},
   "outputs": [],
   "source": [
    "D = np.array([[1, 2, 3], [4, 5, 6], [7, 8, 9]])"
   ]
  },
  {
   "cell_type": "code",
   "execution_count": 137,
   "id": "2df4d46c-d649-4503-84f9-6a0d7a9075a2",
   "metadata": {},
   "outputs": [
    {
     "data": {
      "text/plain": [
       "array([[1, 2, 3],\n",
       "       [4, 5, 6],\n",
       "       [7, 8, 9]])"
      ]
     },
     "execution_count": 137,
     "metadata": {},
     "output_type": "execute_result"
    }
   ],
   "source": [
    "D"
   ]
  },
  {
   "cell_type": "code",
   "execution_count": 139,
   "id": "9a5aed58-32c4-4363-abc2-10d31fd257c9",
   "metadata": {},
   "outputs": [
    {
     "data": {
      "text/plain": [
       "45"
      ]
     },
     "execution_count": 139,
     "metadata": {},
     "output_type": "execute_result"
    }
   ],
   "source": [
    "D.sum()"
   ]
  },
  {
   "cell_type": "code",
   "execution_count": 140,
   "id": "29f79dcc-85b5-482f-a179-db4f6b457685",
   "metadata": {},
   "outputs": [
    {
     "data": {
      "text/plain": [
       "5.0"
      ]
     },
     "execution_count": 140,
     "metadata": {},
     "output_type": "execute_result"
    }
   ],
   "source": [
    "D.mean()"
   ]
  },
  {
   "cell_type": "code",
   "execution_count": 141,
   "id": "8964d5be-d291-411f-b42b-1bef6766f1f6",
   "metadata": {},
   "outputs": [
    {
     "data": {
      "text/plain": [
       "2.581988897471611"
      ]
     },
     "execution_count": 141,
     "metadata": {},
     "output_type": "execute_result"
    }
   ],
   "source": [
    "D.std()"
   ]
  },
  {
   "cell_type": "markdown",
   "id": "142085b4-1f24-4b09-9fad-e4705e6ad6cc",
   "metadata": {},
   "source": [
    "- axis=None: Apply operation array-wise.\n",
    "- \n",
    "axis=0: Apply operation column-wise, across all rows for each column\n",
    "- \r\n",
    "axis=1: Apply operation row-wise, across all columns for each row."
   ]
  },
  {
   "cell_type": "code",
   "execution_count": 145,
   "id": "18512d60-9ae3-4499-a0a4-eba5679b8488",
   "metadata": {},
   "outputs": [
    {
     "data": {
      "text/plain": [
       "array([12, 15, 18])"
      ]
     },
     "execution_count": 145,
     "metadata": {},
     "output_type": "execute_result"
    }
   ],
   "source": [
    "D.sum(axis=0)"
   ]
  },
  {
   "cell_type": "code",
   "execution_count": 147,
   "id": "7bc45d49-4d4b-43b7-b2d9-df368eae01bc",
   "metadata": {},
   "outputs": [
    {
     "data": {
      "text/plain": [
       "array([ 6, 15, 24])"
      ]
     },
     "execution_count": 147,
     "metadata": {},
     "output_type": "execute_result"
    }
   ],
   "source": [
    "D.sum(axis=1)"
   ]
  },
  {
   "cell_type": "code",
   "execution_count": 149,
   "id": "8734b86e-7aae-4a24-bec2-f1d649a6b694",
   "metadata": {},
   "outputs": [
    {
     "data": {
      "text/plain": [
       "array([4., 5., 6.])"
      ]
     },
     "execution_count": 149,
     "metadata": {},
     "output_type": "execute_result"
    }
   ],
   "source": [
    "D.mean(axis=0)"
   ]
  },
  {
   "cell_type": "code",
   "execution_count": 150,
   "id": "e0405337-9177-4283-b9a6-2088c1ad2b58",
   "metadata": {},
   "outputs": [
    {
     "data": {
      "text/plain": [
       "array([2., 5., 8.])"
      ]
     },
     "execution_count": 150,
     "metadata": {},
     "output_type": "execute_result"
    }
   ],
   "source": [
    "D.mean(axis=1)"
   ]
  },
  {
   "cell_type": "markdown",
   "id": "60ec1146-e87c-44e9-9f01-fc227aa87b12",
   "metadata": {},
   "source": [
    "## Broadcasting and Vectorized operations"
   ]
  },
  {
   "cell_type": "code",
   "execution_count": 157,
   "id": "44cfd971-c4d8-49fe-a915-25ab24741e7a",
   "metadata": {},
   "outputs": [],
   "source": [
    "ndarr = np.arange(4)"
   ]
  },
  {
   "cell_type": "code",
   "execution_count": 158,
   "id": "e60716f7-35e2-4f92-8629-6589a62b64b3",
   "metadata": {},
   "outputs": [
    {
     "data": {
      "text/plain": [
       "array([0, 1, 2, 3])"
      ]
     },
     "execution_count": 158,
     "metadata": {},
     "output_type": "execute_result"
    }
   ],
   "source": [
    "ndarr"
   ]
  },
  {
   "cell_type": "code",
   "execution_count": 159,
   "id": "a987d0fb-c2eb-4fc3-bb70-6d7377bfa472",
   "metadata": {},
   "outputs": [
    {
     "data": {
      "text/plain": [
       "array([10, 11, 12, 13])"
      ]
     },
     "execution_count": 159,
     "metadata": {},
     "output_type": "execute_result"
    }
   ],
   "source": [
    "ndarr + 10"
   ]
  },
  {
   "cell_type": "code",
   "execution_count": 160,
   "id": "b6cb0616-c6e5-4a18-a136-55e4a6df8097",
   "metadata": {},
   "outputs": [
    {
     "data": {
      "text/plain": [
       "array([ 0, 10, 20, 30])"
      ]
     },
     "execution_count": 160,
     "metadata": {},
     "output_type": "execute_result"
    }
   ],
   "source": [
    "ndarr * 10"
   ]
  },
  {
   "cell_type": "code",
   "execution_count": 161,
   "id": "42c25aef-d8f6-4b86-8647-2c3e50475cef",
   "metadata": {},
   "outputs": [
    {
     "data": {
      "text/plain": [
       "array([0, 1, 2, 3])"
      ]
     },
     "execution_count": 161,
     "metadata": {},
     "output_type": "execute_result"
    }
   ],
   "source": [
    "ndarr"
   ]
  },
  {
   "cell_type": "code",
   "execution_count": 164,
   "id": "85653f9b-5510-47a8-923e-50c6c78ab228",
   "metadata": {},
   "outputs": [
    {
     "data": {
      "text/plain": [
       "array([300, 301, 302, 303])"
      ]
     },
     "execution_count": 164,
     "metadata": {},
     "output_type": "execute_result"
    }
   ],
   "source": [
    "ndarr += 100\n",
    "ndarr"
   ]
  },
  {
   "cell_type": "code",
   "execution_count": 165,
   "id": "c516ff86-964a-4ef4-a5fa-7363de654272",
   "metadata": {},
   "outputs": [],
   "source": [
    "l = [0, 1, 2, 3]"
   ]
  },
  {
   "cell_type": "code",
   "execution_count": 166,
   "id": "1f869a90-a5b8-4884-9494-ff0020894a8b",
   "metadata": {},
   "outputs": [
    {
     "data": {
      "text/plain": [
       "[0, 10, 20, 30]"
      ]
     },
     "execution_count": 166,
     "metadata": {},
     "output_type": "execute_result"
    }
   ],
   "source": [
    "[i * 10 for i in l]"
   ]
  },
  {
   "cell_type": "code",
   "execution_count": 170,
   "id": "0b55164f-5421-4c05-b7a7-f1de97f30549",
   "metadata": {},
   "outputs": [],
   "source": [
    "a = np.arange(4)\n",
    "b = np.array([10, 10, 10, 10])"
   ]
  },
  {
   "cell_type": "code",
   "execution_count": 171,
   "id": "be97c650-033c-48a3-a7b2-dd053bdb5d26",
   "metadata": {},
   "outputs": [
    {
     "data": {
      "text/plain": [
       "array([10, 11, 12, 13])"
      ]
     },
     "execution_count": 171,
     "metadata": {},
     "output_type": "execute_result"
    }
   ],
   "source": [
    "a + b"
   ]
  },
  {
   "cell_type": "markdown",
   "id": "7e2782a3-7183-44da-a1cf-1317c9dabb20",
   "metadata": {},
   "source": [
    "## Boolean Arrays"
   ]
  },
  {
   "cell_type": "code",
   "execution_count": 203,
   "id": "c9b2e3b1-f9aa-47f7-b02c-92e009f12eda",
   "metadata": {},
   "outputs": [
    {
     "data": {
      "text/plain": [
       "array([0, 1, 2, 3])"
      ]
     },
     "execution_count": 203,
     "metadata": {},
     "output_type": "execute_result"
    }
   ],
   "source": [
    "a"
   ]
  },
  {
   "cell_type": "code",
   "execution_count": 202,
   "id": "b57e928e-f222-4a51-960e-d3e35f11db91",
   "metadata": {},
   "outputs": [
    {
     "data": {
      "text/plain": [
       "array([0, 3])"
      ]
     },
     "execution_count": 202,
     "metadata": {},
     "output_type": "execute_result"
    }
   ],
   "source": [
    "a[[True, False, False, True]]"
   ]
  },
  {
   "cell_type": "code",
   "execution_count": 204,
   "id": "a3214a12-d063-4521-8f46-35c175233042",
   "metadata": {},
   "outputs": [
    {
     "data": {
      "text/plain": [
       "array([False, False,  True,  True])"
      ]
     },
     "execution_count": 204,
     "metadata": {},
     "output_type": "execute_result"
    }
   ],
   "source": [
    "a >= 2"
   ]
  },
  {
   "cell_type": "code",
   "execution_count": 207,
   "id": "06494eed-10cc-45ed-8610-d9216b6039a9",
   "metadata": {},
   "outputs": [
    {
     "data": {
      "text/plain": [
       "array([2, 3])"
      ]
     },
     "execution_count": 207,
     "metadata": {},
     "output_type": "execute_result"
    }
   ],
   "source": [
    "a[a >= 2]"
   ]
  },
  {
   "cell_type": "code",
   "execution_count": 210,
   "id": "42e2b1a2-d643-4905-93f6-25abaafd52cb",
   "metadata": {},
   "outputs": [
    {
     "data": {
      "text/plain": [
       "array([2, 3])"
      ]
     },
     "execution_count": 210,
     "metadata": {},
     "output_type": "execute_result"
    }
   ],
   "source": [
    "a[a > a.mean()]"
   ]
  },
  {
   "cell_type": "code",
   "execution_count": 211,
   "id": "a9054895-399c-436d-aa3b-a52c1d7d2eca",
   "metadata": {},
   "outputs": [
    {
     "data": {
      "text/plain": [
       "array([0, 1])"
      ]
     },
     "execution_count": 211,
     "metadata": {},
     "output_type": "execute_result"
    }
   ],
   "source": [
    "a[~(a > a.mean())]"
   ]
  },
  {
   "cell_type": "markdown",
   "id": "07767f7f-7efc-42b6-a517-6c8624347ef5",
   "metadata": {},
   "source": [
    "## Linear Algebra\n"
   ]
  },
  {
   "cell_type": "code",
   "execution_count": null,
   "id": "624f50e7-a079-4a46-8a92-179eaf05fef0",
   "metadata": {},
   "outputs": [],
   "source": []
  },
  {
   "cell_type": "markdown",
   "id": "fd1a206a-d3b5-413d-9f68-4d0a7890b2f3",
   "metadata": {},
   "source": [
    "---"
   ]
  },
  {
   "cell_type": "markdown",
   "id": "c91e5161-a016-4052-afce-9bac7354803f",
   "metadata": {},
   "source": [
    "# Function"
   ]
  },
  {
   "cell_type": "markdown",
   "id": "b0875fa0-4c7d-4cf9-b457-266c08edad71",
   "metadata": {},
   "source": [
    "## `linspace`"
   ]
  },
  {
   "cell_type": "markdown",
   "id": "c1029747-c65a-4391-b8c0-19c6f81548fa",
   "metadata": {},
   "source": [
    "> 在一定範圍內來均勻地撒點"
   ]
  },
  {
   "cell_type": "code",
   "execution_count": 124,
   "id": "91f70ed4-fa44-4b3e-8ed8-57024c5eff2f",
   "metadata": {},
   "outputs": [
    {
     "name": "stdout",
     "output_type": "stream",
     "text": [
      "[1. 2. 3.]\n"
     ]
    }
   ],
   "source": [
    "a = np.linspace(1, 3, 3)\n",
    "print(a)"
   ]
  },
  {
   "cell_type": "code",
   "execution_count": 125,
   "id": "e68df642-e252-446f-9aba-90577b2e1cd4",
   "metadata": {
    "scrolled": true
   },
   "outputs": [
    {
     "name": "stdout",
     "output_type": "stream",
     "text": [
      "[1.         1.21052632 1.42105263 1.63157895 1.84210526 2.05263158\n",
      " 2.26315789 2.47368421 2.68421053 2.89473684 3.10526316 3.31578947\n",
      " 3.52631579 3.73684211 3.94736842 4.15789474 4.36842105 4.57894737\n",
      " 4.78947368 5.        ]\n"
     ]
    }
   ],
   "source": [
    "a = np.linspace(1, 5, 20)\n",
    "print(a)"
   ]
  },
  {
   "cell_type": "code",
   "execution_count": null,
   "id": "41f7e919-376a-4ced-81a1-0080013dfa76",
   "metadata": {},
   "outputs": [],
   "source": []
  },
  {
   "cell_type": "markdown",
   "id": "0d7aac41-7649-48eb-9a52-aa43ec8ae4f9",
   "metadata": {},
   "source": [
    "---"
   ]
  },
  {
   "cell_type": "markdown",
   "id": "e9af38e7-f51c-4050-b1d7-1433d2f34623",
   "metadata": {},
   "source": [
    "# Size of objects in Memory\n",
    "\n"
   ]
  },
  {
   "cell_type": "markdown",
   "id": "c0a50c25-bc09-4c41-a006-2ee18bfd4458",
   "metadata": {},
   "source": [
    "- An integer in Python is > 24bytes\n",
    "- Longs are even larger\n",
    "- Numpy size is much smaller"
   ]
  },
  {
   "cell_type": "code",
   "execution_count": 181,
   "id": "f9d4b6d9-e75a-4a79-9f5f-a0a41cd8754b",
   "metadata": {},
   "outputs": [
    {
     "data": {
      "text/plain": [
       "28"
      ]
     },
     "execution_count": 181,
     "metadata": {},
     "output_type": "execute_result"
    }
   ],
   "source": [
    "sys.getsizeof(1)"
   ]
  },
  {
   "cell_type": "code",
   "execution_count": 182,
   "id": "dd45bce4-1b37-47d1-9028-42bf948485ed",
   "metadata": {},
   "outputs": [
    {
     "data": {
      "text/plain": [
       "72"
      ]
     },
     "execution_count": 182,
     "metadata": {},
     "output_type": "execute_result"
    }
   ],
   "source": [
    "sys.getsizeof(10**100)"
   ]
  },
  {
   "cell_type": "code",
   "execution_count": 184,
   "id": "03686424-618b-47a7-9a11-84414483f683",
   "metadata": {},
   "outputs": [
    {
     "data": {
      "text/plain": [
       "4"
      ]
     },
     "execution_count": 184,
     "metadata": {},
     "output_type": "execute_result"
    }
   ],
   "source": [
    "np.dtype(int).itemsize"
   ]
  },
  {
   "cell_type": "code",
   "execution_count": 183,
   "id": "d338e87a-689b-4bb7-894f-b99862120bbb",
   "metadata": {},
   "outputs": [
    {
     "data": {
      "text/plain": [
       "1"
      ]
     },
     "execution_count": 183,
     "metadata": {},
     "output_type": "execute_result"
    }
   ],
   "source": [
    "np.dtype(np.int8).itemsize"
   ]
  },
  {
   "cell_type": "code",
   "execution_count": 185,
   "id": "49588c84-13dc-47df-9656-b858ec8b8f21",
   "metadata": {},
   "outputs": [
    {
     "data": {
      "text/plain": [
       "8"
      ]
     },
     "execution_count": 185,
     "metadata": {},
     "output_type": "execute_result"
    }
   ],
   "source": [
    "np.dtype(float).itemsize"
   ]
  },
  {
   "cell_type": "markdown",
   "id": "8f6b0be2-f09f-4e04-a387-436fc7ec0001",
   "metadata": {},
   "source": [
    "- Lists are even larger\n",
    "\n"
   ]
  },
  {
   "cell_type": "code",
   "execution_count": 186,
   "id": "bd926148-8955-4cf4-a368-0b2a6e82b368",
   "metadata": {},
   "outputs": [
    {
     "data": {
      "text/plain": [
       "64"
      ]
     },
     "execution_count": 186,
     "metadata": {},
     "output_type": "execute_result"
    }
   ],
   "source": [
    "sys.getsizeof([1])"
   ]
  },
  {
   "cell_type": "code",
   "execution_count": 187,
   "id": "23cac99d-9a9e-4f79-bbe4-e1f00e69beb8",
   "metadata": {},
   "outputs": [
    {
     "data": {
      "text/plain": [
       "4"
      ]
     },
     "execution_count": 187,
     "metadata": {},
     "output_type": "execute_result"
    }
   ],
   "source": [
    "np.array([1]).nbytes"
   ]
  },
  {
   "cell_type": "markdown",
   "id": "37ec1600-c368-4307-a68a-ebe265927e24",
   "metadata": {},
   "source": [
    "## Performance"
   ]
  },
  {
   "cell_type": "code",
   "execution_count": 199,
   "id": "d9d15c53-6c81-4b11-8a2c-1033a53753e8",
   "metadata": {},
   "outputs": [],
   "source": [
    "pl = list(range(100000))"
   ]
  },
  {
   "cell_type": "code",
   "execution_count": 198,
   "id": "60d66247-8b51-4ce0-965e-015356d224cf",
   "metadata": {},
   "outputs": [],
   "source": [
    "na = np.arange(100000)"
   ]
  },
  {
   "cell_type": "code",
   "execution_count": 200,
   "id": "e490db58-b506-44dc-aad4-c7c357ed7500",
   "metadata": {},
   "outputs": [
    {
     "name": "stdout",
     "output_type": "stream",
     "text": [
      "CPU times: total: 0 ns\n",
      "Wall time: 0 ns\n"
     ]
    },
    {
     "data": {
      "text/plain": [
       "216474736"
      ]
     },
     "execution_count": 200,
     "metadata": {},
     "output_type": "execute_result"
    }
   ],
   "source": [
    "%time np.sum(na ** 2)"
   ]
  },
  {
   "cell_type": "code",
   "execution_count": 201,
   "id": "8f4dff97-1446-4464-a447-685249ee28f1",
   "metadata": {},
   "outputs": [
    {
     "name": "stdout",
     "output_type": "stream",
     "text": [
      "CPU times: total: 15.6 ms\n",
      "Wall time: 8 ms\n"
     ]
    },
    {
     "data": {
      "text/plain": [
       "333328333350000"
      ]
     },
     "execution_count": 201,
     "metadata": {},
     "output_type": "execute_result"
    }
   ],
   "source": [
    "%time sum([x ** 2 for x in pl])"
   ]
  },
  {
   "cell_type": "code",
   "execution_count": null,
   "id": "20988987-4750-404d-bee0-4d23e68526ee",
   "metadata": {},
   "outputs": [],
   "source": []
  }
 ],
 "metadata": {
  "kernelspec": {
   "display_name": "Python 3 (ipykernel)",
   "language": "python",
   "name": "python3"
  },
  "language_info": {
   "codemirror_mode": {
    "name": "ipython",
    "version": 3
   },
   "file_extension": ".py",
   "mimetype": "text/x-python",
   "name": "python",
   "nbconvert_exporter": "python",
   "pygments_lexer": "ipython3",
   "version": "3.12.1"
  },
  "widgets": {
   "application/vnd.jupyter.widget-state+json": {
    "state": {},
    "version_major": 2,
    "version_minor": 0
   }
  }
 },
 "nbformat": 4,
 "nbformat_minor": 5
}
