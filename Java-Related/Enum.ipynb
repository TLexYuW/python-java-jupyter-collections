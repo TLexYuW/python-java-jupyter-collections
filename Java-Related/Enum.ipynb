{
 "cells": [
  {
   "cell_type": "markdown",
   "id": "137f0428-8acb-482b-a821-6b7484b60995",
   "metadata": {},
   "source": [
    "# Dependency"
   ]
  },
  {
   "cell_type": "code",
   "execution_count": 2,
   "id": "9ca4f3b5-67ce-409a-82d6-56cd31749f7f",
   "metadata": {},
   "outputs": [],
   "source": [
    "// code"
   ]
  },
  {
   "cell_type": "markdown",
   "id": "47be9283-5920-4f11-b08a-7cc52f3fdd39",
   "metadata": {},
   "source": [
    "---"
   ]
  },
  {
   "cell_type": "markdown",
   "id": "e1302cc7-5b9c-4bfd-a100-55d94532e800",
   "metadata": {
    "jp-MarkdownHeadingCollapsed": true
   },
   "source": [
    "# Import"
   ]
  },
  {
   "cell_type": "code",
   "execution_count": 1,
   "id": "b93de10c-70b5-4c1f-8d91-6bf136cab50c",
   "metadata": {},
   "outputs": [],
   "source": [
    "import java.util.*;\n",
    "\n",
    "import static java.lang.System.out;"
   ]
  },
  {
   "cell_type": "markdown",
   "id": "8139d770-ff81-4eed-96b1-ca046abdef97",
   "metadata": {},
   "source": [
    "---"
   ]
  },
  {
   "cell_type": "markdown",
   "id": "df23eea2-8723-4325-889c-f40129a8d9ae",
   "metadata": {
    "jp-MarkdownHeadingCollapsed": true
   },
   "source": [
    "# TOC"
   ]
  },
  {
   "cell_type": "markdown",
   "id": "14fdd7c0-dcf5-474e-a3b9-1a1418702cef",
   "metadata": {},
   "source": []
  },
  {
   "cell_type": "markdown",
   "id": "e88b1f90-ca56-467c-9775-fcac5550edbf",
   "metadata": {},
   "source": [
    "---"
   ]
  },
  {
   "cell_type": "markdown",
   "id": "fa7feedd-2587-4a63-8b86-781755bf3f9b",
   "metadata": {},
   "source": [
    "# Setup\n",
    "- [Model](#Model)\n",
    "- [Utils](#Utils)"
   ]
  },
  {
   "cell_type": "markdown",
   "id": "c4eb8988-48eb-4e7a-998b-594d011df853",
   "metadata": {},
   "source": [
    "## Model"
   ]
  },
  {
   "cell_type": "code",
   "execution_count": null,
   "id": "d92ca361-92a3-48c6-8ccf-6d5ae3425000",
   "metadata": {},
   "outputs": [],
   "source": []
  },
  {
   "cell_type": "markdown",
   "id": "dc33787a-cea4-45cc-8796-a811eeac2047",
   "metadata": {},
   "source": [
    "## Utils"
   ]
  },
  {
   "cell_type": "code",
   "execution_count": null,
   "id": "f6063337-3ac8-4445-96e1-7ca98cd3bdc3",
   "metadata": {},
   "outputs": [],
   "source": []
  },
  {
   "cell_type": "markdown",
   "id": "5ffb2e63-714a-4b4d-84fa-91da5b9bc5e1",
   "metadata": {},
   "source": [
    "---"
   ]
  },
  {
   "cell_type": "markdown",
   "id": "ffeb2263-1208-487c-963f-d03f0b77689f",
   "metadata": {},
   "source": [
    "# Enum\n",
    "> enumerated\n",
    "> \n",
    "> ordered listing of items in a collection\n",
    "> \n",
    "> grouping of constants that behave similarly to objects"
   ]
  },
  {
   "cell_type": "code",
   "execution_count": 2,
   "id": "4b46e398-a2ef-4352-b82c-dd8735e8c5d6",
   "metadata": {},
   "outputs": [
    {
     "name": "stdout",
     "output_type": "stream",
     "text": [
      "MAIN_PAGE\n",
      "1\n",
      "categories\n"
     ]
    }
   ],
   "source": [
    "public enum Categories {\n",
    "\tMAIN_PAGE(1,\"categories\");\n",
    "\tprivate final Integer id;\n",
    "\tprivate final String slug;\n",
    "\n",
    "\tCategories(Integer id, String slug) {\n",
    "\t\tthis.id = id;\n",
    "\t\tthis.slug = slug;\n",
    "\t}\n",
    "\n",
    "\tpublic Integer getId() {\n",
    "\t\treturn id;\n",
    "\t}\n",
    "\n",
    "\tpublic String getSlug() {\n",
    "\t\treturn slug;\n",
    "\t}\n",
    "}\n",
    "\n",
    "String name = Categories.MAIN_PAGE.name();\n",
    "int value = Categories.MAIN_PAGE.getId();\n",
    "String description = Categories.MAIN_PAGE.getSlug();\n",
    "\n",
    "System.out.println(name);\n",
    "System.out.println(value);\n",
    "System.out.println(description);"
   ]
  },
  {
   "cell_type": "markdown",
   "id": "17cd5510-26ed-4afc-ab7f-674e8d98d605",
   "metadata": {},
   "source": [
    "---"
   ]
  },
  {
   "cell_type": "markdown",
   "id": "2fce9753-edd3-4c5e-a4c1-9cabe41feabb",
   "metadata": {
    "jp-MarkdownHeadingCollapsed": true
   },
   "source": [
    "# Demo2"
   ]
  },
  {
   "cell_type": "code",
   "execution_count": 3,
   "id": "45d383e5-e2cb-41d5-b4fb-d2dab83c6849",
   "metadata": {},
   "outputs": [],
   "source": [
    "public enum Days {\n",
    "    SUNDAY, MONDAY, TUESDAY, WEDNESDAY,\n",
    "    THURSDAY, FRIDAY, SATURDAY;\n",
    "}"
   ]
  },
  {
   "cell_type": "code",
   "execution_count": 6,
   "id": "6128dbec-813f-4c71-be5e-43ed1945b8d9",
   "metadata": {},
   "outputs": [],
   "source": [
    "public class EnumIteration {\n",
    "\n",
    "    public void iterate(){\n",
    "        Days[] days = Days.values();\n",
    "        for (Days day : days) {\n",
    "            System.out.println(day);\n",
    "        }\n",
    "    }\n",
    "}"
   ]
  },
  {
   "cell_type": "code",
   "execution_count": 7,
   "id": "0bc36b26-6269-4515-a535-f5983c89da7e",
   "metadata": {},
   "outputs": [
    {
     "name": "stdout",
     "output_type": "stream",
     "text": [
      "SUNDAY\n",
      "MONDAY\n",
      "TUESDAY\n",
      "WEDNESDAY\n",
      "THURSDAY\n",
      "FRIDAY\n",
      "SATURDAY\n"
     ]
    }
   ],
   "source": [
    "final EnumIteration enumIteration = new EnumIteration();\n",
    "enumIteration.iterate();"
   ]
  },
  {
   "cell_type": "markdown",
   "id": "fbe440d1-ea8d-4ba6-90aa-842ed52474d0",
   "metadata": {},
   "source": [
    "---"
   ]
  },
  {
   "cell_type": "markdown",
   "id": "b54edf3a-7587-4176-9459-35f0df533721",
   "metadata": {},
   "source": [
    "# Demo3"
   ]
  },
  {
   "cell_type": "code",
   "execution_count": 14,
   "id": "4a00d740-d39f-4584-a19d-745b06dee6f0",
   "metadata": {},
   "outputs": [],
   "source": [
    "public enum Ensemble {\n",
    "    ONE(1),TWO(2),THREE(3),\n",
    "    FOUR(4),FIVE(5),SIX(6),\n",
    "    SEVEN(7), EIGHT(8),NINE(9),\n",
    "    TEN(10),ELEVEN(11),TWELVE(12);\n",
    "\n",
    "    private final int num;\n",
    "    Ensemble(int n) {\n",
    "        this.num = n;\n",
    "    }\n",
    "\n",
    "    public int getNum() {\n",
    "        return num;\n",
    "    }\n",
    "}"
   ]
  },
  {
   "cell_type": "code",
   "execution_count": 15,
   "id": "fa5c9fb6-dc4a-4948-afce-49a9e5023124",
   "metadata": {},
   "outputs": [
    {
     "name": "stdout",
     "output_type": "stream",
     "text": [
      "ONE: 1\n",
      "TWO: 2\n",
      "THREE: 3\n",
      "FOUR: 4\n",
      "FIVE: 5\n",
      "SIX: 6\n",
      "SEVEN: 7\n",
      "EIGHT: 8\n",
      "NINE: 9\n",
      "TEN: 10\n",
      "ELEVEN: 11\n",
      "TWELVE: 12\n"
     ]
    }
   ],
   "source": [
    "for (Ensemble e : Ensemble.values()) {\n",
    "    System.out.println(e + \": \" + e.getNum());\n",
    "}"
   ]
  },
  {
   "cell_type": "markdown",
   "id": "6174ebd8-2a84-4573-bafe-b6aac6fccb3d",
   "metadata": {},
   "source": [
    "---"
   ]
  },
  {
   "cell_type": "markdown",
   "id": "748bf6df-dacf-40b9-8184-c5ba0626adf7",
   "metadata": {},
   "source": [
    "# Demo4"
   ]
  },
  {
   "cell_type": "code",
   "execution_count": 16,
   "id": "984fe5e2-0951-4f3a-889f-5759de82db91",
   "metadata": {},
   "outputs": [],
   "source": [
    "public enum Planet {\n",
    "    MERCURY(1),\n",
    "    VENUS(2),\n",
    "    EARTH(3),\n",
    "    MARS(4),\n",
    "    JUPITER(5),\n",
    "    SATURN(6),\n",
    "    URANUS(7),\n",
    "    NEPTUNE(8),\n",
    "    PLUTO(9);\n",
    "\n",
    "    final int number;\n",
    "\n",
    "    Planet(int number) {\n",
    "        this.number = number;\n",
    "    }\n",
    "}"
   ]
  },
  {
   "cell_type": "code",
   "execution_count": 17,
   "id": "e73e7ab9-bdcd-4185-8b6c-f63d121e91dd",
   "metadata": {},
   "outputs": [
    {
     "name": "stdout",
     "output_type": "stream",
     "text": [
      "You can live here !!\n",
      "This is planet #3\n"
     ]
    }
   ],
   "source": [
    "static void canILiveHere(Planet myPlanet){\n",
    "    switch (myPlanet){\n",
    "        case EARTH -> {\n",
    "            System.out.println(\"You can live here !!\");\n",
    "            System.out.println(\"This is planet #\" +  myPlanet.number);\n",
    "        }\n",
    "        default -> {\n",
    "            System.out.println(\"You can't live here !!\");\n",
    "            System.out.println(\"This is planet #\" +  myPlanet.number);\n",
    "        }\n",
    "    }\n",
    "}\n",
    "\n",
    "Planet myPlanet = Planet.EARTH;\n",
    "canILiveHere(myPlanet);"
   ]
  }
 ],
 "metadata": {
  "kernelspec": {
   "display_name": "Java",
   "language": "java",
   "name": "java"
  },
  "language_info": {
   "codemirror_mode": "java",
   "file_extension": ".jshell",
   "mimetype": "text/x-java-source",
   "name": "Java",
   "pygments_lexer": "java",
   "version": "17.0.9+8-LTS"
  }
 },
 "nbformat": 4,
 "nbformat_minor": 5
}
