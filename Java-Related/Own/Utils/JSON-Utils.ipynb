{
 "cells": [
  {
   "cell_type": "markdown",
   "id": "7324f22a-239e-4723-9da0-c3d4c4e93b4f",
   "metadata": {},
   "source": [
    "# Dependencies"
   ]
  },
  {
   "cell_type": "code",
   "execution_count": 6,
   "id": "b828531c-89c1-47f6-8fb1-e0f91551d8e2",
   "metadata": {},
   "outputs": [],
   "source": [
    "%%loadFromPOM\n",
    "<repositories>\n",
    "    <repository>\n",
    "        <id>central</id>\n",
    "        <url>https://repo1.maven.org/maven2/</url>\n",
    "    </repository>\n",
    "</repositories>\n",
    "\n",
    "<dependency>\n",
    "  <groupId>com.fasterxml.jackson.core</groupId>\n",
    "  <artifactId>jackson-databind</artifactId>\n",
    "  <version>2.13.4.2</version>\n",
    "</dependency>\n",
    "\n",
    "<dependency>\n",
    "    <groupId>com.fasterxml.jackson.datatype</groupId>\n",
    "    <artifactId>jackson-datatype-jdk8</artifactId>\n",
    "    <version>2.14.3</version>\n",
    "</dependency>\n",
    "\n",
    "<dependency>\n",
    "    <groupId>com.fasterxml.jackson.datatype</groupId>\n",
    "    <artifactId>jackson-datatype-jsr310</artifactId>\n",
    "    <version>2.14.3</version>\n",
    "</dependency>\n",
    "\n",
    "<dependency>\n",
    "    <groupId>com.fasterxml.jackson.module</groupId>\n",
    "    <artifactId>jackson-module-parameter-names</artifactId>\n",
    "    <version>2.14.3</version>\n",
    "</dependency>\n",
    "\n",
    "<dependency>\n",
    "    <groupId>org.projectlombok</groupId>\n",
    "    <artifactId>lombok</artifactId>\n",
    "    <version>1.18.30</version>\n",
    "</dependency>"
   ]
  },
  {
   "cell_type": "code",
   "execution_count": 7,
   "id": "68050e74-a579-42b8-b4e3-907d04d79647",
   "metadata": {},
   "outputs": [],
   "source": [
    "%maven org.junit.jupiter:junit-jupiter-api:5.8.2\n",
    "%maven org.junit.jupiter:junit-jupiter-engine:5.8.2"
   ]
  },
  {
   "cell_type": "markdown",
   "id": "25941959-e579-46b1-ba12-01f0db6ef5e7",
   "metadata": {},
   "source": [
    "# Import"
   ]
  },
  {
   "cell_type": "code",
   "execution_count": 5,
   "id": "4572c6a7-09a2-49b7-bea0-3dcae6c893f2",
   "metadata": {},
   "outputs": [],
   "source": [
    "import com.fasterxml.jackson.annotation.JsonInclude;\n",
    "import com.fasterxml.jackson.core.JsonParser;\n",
    "import com.fasterxml.jackson.core.type.TypeReference;\n",
    "import com.fasterxml.jackson.databind.*;\n",
    "import com.fasterxml.jackson.databind.node.ObjectNode;\n",
    "import lombok.SneakyThrows;\n",
    "import lombok.extern.slf4j.Slf4j;\n",
    "\n",
    "import java.io.OutputStream;\n",
    "import java.text.SimpleDateFormat;\n",
    "import java.util.ArrayList;\n",
    "import java.util.List;\n",
    "import java.util.Map;"
   ]
  },
  {
   "cell_type": "markdown",
   "id": "ee789088-2b01-411d-a987-fe9cb58296c0",
   "metadata": {},
   "source": [
    "---"
   ]
  },
  {
   "cell_type": "markdown",
   "id": "607bf5c9-1e33-4c20-8c55-08f4df5d2f4a",
   "metadata": {},
   "source": [
    "# TOC"
   ]
  },
  {
   "cell_type": "markdown",
   "id": "be8e40c9-0df8-4891-9e65-f20e9e5112a4",
   "metadata": {},
   "source": [
    "- [JsonUtil](#JsonUtil)"
   ]
  },
  {
   "cell_type": "markdown",
   "id": "8f952549-b51e-4615-8624-71843636c584",
   "metadata": {},
   "source": [
    "---"
   ]
  },
  {
   "cell_type": "markdown",
   "id": "8e57a547-e450-4a8f-b214-3c44fb1db349",
   "metadata": {},
   "source": [
    "# JsonUtil"
   ]
  },
  {
   "cell_type": "markdown",
   "id": "218a563f-162c-4368-a4aa-9d279f71b90e",
   "metadata": {},
   "source": [
    "---"
   ]
  }
 ],
 "metadata": {
  "kernelspec": {
   "display_name": "Java",
   "language": "java",
   "name": "java"
  },
  "language_info": {
   "codemirror_mode": "java",
   "file_extension": ".jshell",
   "mimetype": "text/x-java-source",
   "name": "Java",
   "pygments_lexer": "java",
   "version": "17.0.6+10-jvmci-22.3-b13"
  },
  "widgets": {
   "application/vnd.jupyter.widget-state+json": {
    "state": {},
    "version_major": 2,
    "version_minor": 0
   }
  }
 },
 "nbformat": 4,
 "nbformat_minor": 5
}
