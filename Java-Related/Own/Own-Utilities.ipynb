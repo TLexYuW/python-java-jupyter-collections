{
 "cells": [
  {
   "cell_type": "markdown",
   "id": "7324f22a-239e-4723-9da0-c3d4c4e93b4f",
   "metadata": {},
   "source": [
    "# Import"
   ]
  },
  {
   "cell_type": "code",
   "execution_count": null,
   "id": "4572c6a7-09a2-49b7-bea0-3dcae6c893f2",
   "metadata": {},
   "outputs": [],
   "source": []
  },
  {
   "cell_type": "markdown",
   "id": "ee789088-2b01-411d-a987-fe9cb58296c0",
   "metadata": {},
   "source": [
    "---"
   ]
  },
  {
   "cell_type": "markdown",
   "id": "607bf5c9-1e33-4c20-8c55-08f4df5d2f4a",
   "metadata": {},
   "source": [
    "# TOC"
   ]
  },
  {
   "cell_type": "markdown",
   "id": "be8e40c9-0df8-4891-9e65-f20e9e5112a4",
   "metadata": {},
   "source": [
    "- [JWT](#JWT)"
   ]
  },
  {
   "cell_type": "markdown",
   "id": "8f952549-b51e-4615-8624-71843636c584",
   "metadata": {},
   "source": [
    "---"
   ]
  },
  {
   "cell_type": "markdown",
   "id": "2fe9cf1c-a9fd-4292-b609-b7f96c9d78f0",
   "metadata": {},
   "source": [
    "# JWT"
   ]
  },
  {
   "cell_type": "code",
   "execution_count": 1,
   "id": "a21d406e-7d10-4192-badb-0c3bdc06b303",
   "metadata": {},
   "outputs": [
    {
     "name": "stdout",
     "output_type": "stream",
     "text": [
      "Invalid JWT format\n"
     ]
    }
   ],
   "source": [
    "private static boolean isValidJwtFormat(String token) {\n",
    "    String jwtRegex = \"^[A-Za-z0-9-_=]+\\\\.[A-Za-z0-9-_=]+\\\\.?[A-Za-z0-9-_.+/=]*$\";\n",
    "\n",
    "    Pattern pattern = Pattern.compile(jwtRegex);\n",
    "    Matcher matcher = pattern.matcher(token);\n",
    "\n",
    "    return matcher.matches();\n",
    "}\n",
    "\n",
    "String accessToken = \"{{access_token}}\";\n",
    "\n",
    "if (isValidJwtFormat(accessToken)) {\n",
    "    System.out.println(\"Valid JWT format\");\n",
    "} else {\n",
    "    System.out.println(\"Invalid JWT format\");\n",
    "}"
   ]
  },
  {
   "cell_type": "markdown",
   "id": "f00b34fd-71f7-4966-9126-945146548c9c",
   "metadata": {},
   "source": [
    "---"
   ]
  },
  {
   "cell_type": "markdown",
   "id": "8e57a547-e450-4a8f-b214-3c44fb1db349",
   "metadata": {},
   "source": [
    "# Title"
   ]
  },
  {
   "cell_type": "code",
   "execution_count": 2,
   "id": "91211239-5913-4281-b4c7-6feb92aa2c82",
   "metadata": {},
   "outputs": [],
   "source": [
    "// Code"
   ]
  },
  {
   "cell_type": "markdown",
   "id": "218a563f-162c-4368-a4aa-9d279f71b90e",
   "metadata": {},
   "source": [
    "---"
   ]
  }
 ],
 "metadata": {
  "kernelspec": {
   "display_name": "Java",
   "language": "java",
   "name": "java"
  },
  "language_info": {
   "codemirror_mode": "java",
   "file_extension": ".jshell",
   "mimetype": "text/x-java-source",
   "name": "Java",
   "pygments_lexer": "java",
   "version": "17.0.6+10-jvmci-22.3-b13"
  },
  "widgets": {
   "application/vnd.jupyter.widget-state+json": {
    "state": {},
    "version_major": 2,
    "version_minor": 0
   }
  }
 },
 "nbformat": 4,
 "nbformat_minor": 5
}
