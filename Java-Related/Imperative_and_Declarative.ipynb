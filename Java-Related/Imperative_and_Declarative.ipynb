{
 "cells": [
  {
   "cell_type": "markdown",
   "id": "c9b69ba2-e043-42d1-9fe8-83a4afd56a65",
   "metadata": {},
   "source": [
    "# Dependency"
   ]
  },
  {
   "cell_type": "code",
   "execution_count": 59,
   "id": "004874d8-ab79-4f57-b31b-683d302c686a",
   "metadata": {},
   "outputs": [],
   "source": [
    "// code"
   ]
  },
  {
   "cell_type": "markdown",
   "id": "a99f0d97-600f-4fd6-938e-88ae21c3a2a0",
   "metadata": {},
   "source": [
    "---"
   ]
  },
  {
   "cell_type": "markdown",
   "id": "cbb2bac4-7cd7-4a23-b504-befe53448997",
   "metadata": {},
   "source": [
    "# Import"
   ]
  },
  {
   "cell_type": "code",
   "execution_count": 60,
   "id": "3798a87f-8991-4de2-8753-0c138d479344",
   "metadata": {},
   "outputs": [],
   "source": [
    "import java.util.stream.Collectors;\n",
    "import java.util.*;\n",
    "\n",
    "import static java.lang.System.out;"
   ]
  },
  {
   "cell_type": "markdown",
   "id": "9e17f33a-43c2-4fbc-ae1b-4b84f620b974",
   "metadata": {},
   "source": [
    "---"
   ]
  },
  {
   "cell_type": "markdown",
   "id": "23478eb1-ef40-4bb1-b0ca-74d8a1eba05f",
   "metadata": {
    "jp-MarkdownHeadingCollapsed": true
   },
   "source": [
    "# TOC"
   ]
  },
  {
   "cell_type": "markdown",
   "id": "267ae1c7-6a75-4c3e-b246-d9b455ce03d0",
   "metadata": {},
   "source": []
  },
  {
   "cell_type": "markdown",
   "id": "3c1b8cbe-8711-46ba-bdcd-623111e3bc8c",
   "metadata": {},
   "source": [
    "---"
   ]
  },
  {
   "cell_type": "markdown",
   "id": "45b5182b-867b-4aa7-ba0a-7d7f44addad1",
   "metadata": {},
   "source": [
    "# Setup\n",
    "- [Model](#Model)\n",
    "- [Utils](#Utils)"
   ]
  },
  {
   "cell_type": "markdown",
   "id": "3a47f2ec-a72c-496d-91ba-f7554531b3a4",
   "metadata": {},
   "source": [
    "## Model"
   ]
  },
  {
   "cell_type": "code",
   "execution_count": 61,
   "id": "3dd68f0f-68db-4975-8390-28c6399130ab",
   "metadata": {},
   "outputs": [],
   "source": [
    "public enum Gender {\n",
    "    MALE, FEMALE;\n",
    "}"
   ]
  },
  {
   "cell_type": "code",
   "execution_count": 62,
   "id": "6c2f039d-58b5-4c34-9643-0fa125bd9185",
   "metadata": {},
   "outputs": [],
   "source": [
    "public class Person {\n",
    "    private final String name;\n",
    "    private final Gender gender;\n",
    "\n",
    "    public Person(String name, Gender gender) {\n",
    "        this.name = name;\n",
    "        this.gender = gender;\n",
    "    }\n",
    "\n",
    "    public String getName() {\n",
    "        return name;\n",
    "    }\n",
    "\n",
    "    public Gender getGender() {\n",
    "        return gender;\n",
    "    }\n",
    "\n",
    "    @Override\n",
    "    public String toString() {\n",
    "        return \"Person{\" +\n",
    "                \"name='\" + name + '\\'' +\n",
    "                \", gender=\" + gender +\n",
    "                '}';\n",
    "    }\n",
    "}\n"
   ]
  },
  {
   "cell_type": "markdown",
   "id": "5b5534ab-4048-43f5-a4c2-6d4faab7c163",
   "metadata": {},
   "source": [
    "## Utils"
   ]
  },
  {
   "cell_type": "code",
   "execution_count": 63,
   "id": "fe2578d5-51c6-44bf-ab4c-196b201daaad",
   "metadata": {},
   "outputs": [],
   "source": [
    "List<Person> people = List.of(\n",
    "    new Person(\"John\", Gender.MALE),\n",
    "    new Person(\"Maria\", Gender.FEMALE),\n",
    "    new Person(\"Aisha\", Gender.FEMALE),\n",
    "    new Person(\"Alex\", Gender.MALE),\n",
    "    new Person(\"Alice\", Gender.FEMALE)\n",
    ");"
   ]
  },
  {
   "cell_type": "markdown",
   "id": "4d2edeb2-1ab8-453e-9c5f-343188124f1a",
   "metadata": {},
   "source": [
    "---"
   ]
  },
  {
   "cell_type": "markdown",
   "id": "6eaff8ce-53c8-48d4-b061-b017ffc5b719",
   "metadata": {},
   "source": [
    "# Imperative Approach"
   ]
  },
  {
   "cell_type": "code",
   "execution_count": 64,
   "id": "38c4a12a-8a92-4a52-bede-cc728178389e",
   "metadata": {},
   "outputs": [
    {
     "name": "stdout",
     "output_type": "stream",
     "text": [
      "Person{name='Maria', gender=FEMALE}\n",
      "Person{name='Aisha', gender=FEMALE}\n",
      "Person{name='Alice', gender=FEMALE}\n"
     ]
    }
   ],
   "source": [
    "List<Person> females = new ArrayList<>();\n",
    "for (Person p : people) {\n",
    "    if (Gender.FEMALE.equals(p.getGender())){\n",
    "        females.add(p);\n",
    "    }\n",
    "}\n",
    "\n",
    "for (Person f : females) {\n",
    "    System.out.println(f);\n",
    "}"
   ]
  },
  {
   "cell_type": "markdown",
   "id": "15ba67ca-fc94-45b3-9b61-6f02f0528d6a",
   "metadata": {},
   "source": [
    "---"
   ]
  },
  {
   "cell_type": "markdown",
   "id": "bf5a18d6-5303-4af7-9134-4442c64f4802",
   "metadata": {},
   "source": [
    "# Declarative Approach"
   ]
  },
  {
   "cell_type": "code",
   "execution_count": 65,
   "id": "9a7a53a7-db8a-4376-b2df-6ff3af5a94db",
   "metadata": {},
   "outputs": [
    {
     "data": {
      "text/plain": [
       "[Person{name='Maria', gender=FEMALE}, Person{name='Aisha', gender=FEMALE}, Person{name='Alice', gender=FEMALE}]"
      ]
     },
     "execution_count": 65,
     "metadata": {},
     "output_type": "execute_result"
    }
   ],
   "source": [
    "people.stream()\n",
    "        .filter(person -> Gender.FEMALE.equals(person.getGender())) // filter(Predicate)\n",
    "        .collect(Collectors.toList())"
   ]
  },
  {
   "cell_type": "code",
   "execution_count": 66,
   "id": "fa5d9391-043e-4df4-bade-54da3e66ee4b",
   "metadata": {},
   "outputs": [
    {
     "name": "stdout",
     "output_type": "stream",
     "text": [
      "Person{name='Maria', gender=FEMALE}\n",
      "Person{name='Aisha', gender=FEMALE}\n",
      "Person{name='Alice', gender=FEMALE}\n"
     ]
    }
   ],
   "source": [
    "people.stream()\n",
    "        .filter(person -> Gender.FEMALE.equals(person.getGender()))\n",
    "        .forEach(System.out::println);"
   ]
  }
 ],
 "metadata": {
  "kernelspec": {
   "display_name": "Java",
   "language": "java",
   "name": "java"
  },
  "language_info": {
   "codemirror_mode": "java",
   "file_extension": ".jshell",
   "mimetype": "text/x-java-source",
   "name": "Java",
   "pygments_lexer": "java",
   "version": "21+35-jvmci-23.1-b15"
  },
  "widgets": {
   "application/vnd.jupyter.widget-state+json": {
    "state": {},
    "version_major": 2,
    "version_minor": 0
   }
  }
 },
 "nbformat": 4,
 "nbformat_minor": 5
}
