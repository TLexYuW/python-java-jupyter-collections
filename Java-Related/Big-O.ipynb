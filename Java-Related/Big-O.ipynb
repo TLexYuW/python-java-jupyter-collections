{
 "cells": [
  {
   "cell_type": "markdown",
   "id": "2249d714-2dce-4503-b5b1-dac123707cb6",
   "metadata": {},
   "source": [
    "# Dependency"
   ]
  },
  {
   "cell_type": "code",
   "execution_count": 2,
   "id": "d2a52af3-f1de-4688-bb1b-ea3a410da751",
   "metadata": {},
   "outputs": [],
   "source": [
    "// code"
   ]
  },
  {
   "cell_type": "markdown",
   "id": "4d34cde4-b996-439f-99b9-2dbf65a9940a",
   "metadata": {},
   "source": [
    "---"
   ]
  },
  {
   "cell_type": "markdown",
   "id": "9993d519-b6a5-41fb-8933-019a46a59b83",
   "metadata": {},
   "source": [
    "# Import"
   ]
  },
  {
   "cell_type": "code",
   "execution_count": 1,
   "id": "b347ac66-5b9c-4bf6-8baf-67912d68462c",
   "metadata": {},
   "outputs": [],
   "source": [
    "\n",
    "import static java.lang.System.out;"
   ]
  },
  {
   "cell_type": "markdown",
   "id": "949a799c-ee01-4b6b-9426-530e5eab8da4",
   "metadata": {},
   "source": [
    "---"
   ]
  },
  {
   "cell_type": "markdown",
   "id": "7fe88401-0ea5-418e-996f-c078601f6751",
   "metadata": {},
   "source": [
    "# TOC"
   ]
  },
  {
   "cell_type": "markdown",
   "id": "5f274a0b-0a62-47ca-94db-6b97d809028c",
   "metadata": {},
   "source": [
    "- ConstantTimeAlgorithms\n",
    "- ExponentialTimeAlgorithms\n",
    "- FactorialTimeAlgorithms\n",
    "- LinearTimeAlgorithms\n",
    "- LogarithmicTimeAlgorithms\n",
    "- NLogNTimeAlgorithms\n",
    "- PolynomialTimeAlgorithms"
   ]
  },
  {
   "cell_type": "markdown",
   "id": "fab02c4f-2756-4c57-b020-d0c1bd24d8d8",
   "metadata": {},
   "source": [
    "---"
   ]
  },
  {
   "cell_type": "markdown",
   "id": "af7fa8ba-9e51-42f5-9764-d17f672b5e5e",
   "metadata": {},
   "source": [
    "# Setup\n",
    "- [Model](#Model)\n",
    "- [Utils](#Utils)"
   ]
  },
  {
   "cell_type": "markdown",
   "id": "81115e2d-81c2-4123-b635-71d877df241a",
   "metadata": {
    "jp-MarkdownHeadingCollapsed": true
   },
   "source": [
    "## Model"
   ]
  },
  {
   "cell_type": "code",
   "execution_count": null,
   "id": "9bab2e00-8534-4843-b808-d45291606e32",
   "metadata": {},
   "outputs": [],
   "source": []
  },
  {
   "cell_type": "markdown",
   "id": "893e33c5-3a0b-4154-bb4c-5208c74fdfe1",
   "metadata": {},
   "source": [
    "## Utils"
   ]
  },
  {
   "cell_type": "code",
   "execution_count": null,
   "id": "c1789ee1-3725-40f3-b65e-0849569847a1",
   "metadata": {},
   "outputs": [],
   "source": []
  },
  {
   "cell_type": "markdown",
   "id": "f0fa72f5-74ce-4f18-9d1f-f230057f5660",
   "metadata": {},
   "source": [
    "---"
   ]
  },
  {
   "cell_type": "markdown",
   "id": "bdfd5c16-4d9d-44e9-a88a-b190cce37780",
   "metadata": {},
   "source": [
    "# ConstantTimeAlgorithms\n",
    "### $O(1)$"
   ]
  },
  {
   "cell_type": "code",
   "execution_count": 2,
   "id": "1de5e51d-dbfc-41cf-9bed-71222211ab71",
   "metadata": {},
   "outputs": [
    {
     "name": "stdout",
     "output_type": "stream",
     "text": [
      "Hey - your input is: 1000\n",
      "Hey - your input is: 1000\n",
      "Hmm.. I'm doing more stuff with: 1000\n",
      "And more: 1000\n"
     ]
    }
   ],
   "source": [
    "int n = 1000;\n",
    "System.out.println(\"Hey - your input is: \" + n);\n",
    "\n",
    "int x = 1000;\n",
    "System.out.println(\"Hey - your input is: \" + x);\n",
    "System.out.println(\"Hmm.. I'm doing more stuff with: \" + x);\n",
    "System.out.println(\"And more: \" + x);"
   ]
  },
  {
   "cell_type": "markdown",
   "id": "8c368618-2b73-4af9-8d2b-a79dac7fad4f",
   "metadata": {},
   "source": [
    "---"
   ]
  }
 ],
 "metadata": {
  "kernelspec": {
   "display_name": "Java",
   "language": "java",
   "name": "java"
  },
  "language_info": {
   "codemirror_mode": "java",
   "file_extension": ".jshell",
   "mimetype": "text/x-java-source",
   "name": "Java",
   "pygments_lexer": "java",
   "version": "17.0.6+10-jvmci-22.3-b13"
  },
  "widgets": {
   "application/vnd.jupyter.widget-state+json": {
    "state": {},
    "version_major": 2,
    "version_minor": 0
   }
  }
 },
 "nbformat": 4,
 "nbformat_minor": 5
}
