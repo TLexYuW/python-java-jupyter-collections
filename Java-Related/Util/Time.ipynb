{
 "cells": [
  {
   "cell_type": "markdown",
   "id": "ff1a3c9d-1d46-456a-89a6-5c451d69bb7d",
   "metadata": {},
   "source": [
    "# Dependency"
   ]
  },
  {
   "cell_type": "code",
   "execution_count": 11,
   "id": "d766dc71-55fb-4147-ae60-935a84b36ad4",
   "metadata": {
    "vscode": {
     "languageId": "java"
    }
   },
   "outputs": [],
   "source": [
    "// code"
   ]
  },
  {
   "cell_type": "markdown",
   "id": "af849673-3acc-48bf-a00a-b43555f6e909",
   "metadata": {},
   "source": [
    "---"
   ]
  },
  {
   "cell_type": "markdown",
   "id": "c5d3ed57-48ee-46a0-a589-04447aefdad1",
   "metadata": {},
   "source": [
    "# Import"
   ]
  },
  {
   "cell_type": "code",
   "execution_count": 12,
   "id": "b60b3524-5c2a-42f3-b9c3-8c7a4bd61572",
   "metadata": {
    "vscode": {
     "languageId": "java"
    }
   },
   "outputs": [],
   "source": [
    "import java.time.*;\n",
    "import java.time.format.*;\n",
    "\n",
    "import static java.lang.System.out;"
   ]
  },
  {
   "cell_type": "markdown",
   "id": "b46b835e-287a-4a99-9b2b-6009e5b32c40",
   "metadata": {},
   "source": [
    "---"
   ]
  },
  {
   "cell_type": "markdown",
   "id": "945dc36a-61f2-4506-b3a7-ca44164b8585",
   "metadata": {},
   "source": [
    "# TOC"
   ]
  },
  {
   "cell_type": "markdown",
   "id": "123245f8-9bcc-4036-9866-73da30fece2b",
   "metadata": {},
   "source": [
    "- [LocalDate](#localdate)\n",
    "- [DateTimeFormatter](#datetimeformatter)\n",
    "- [LocalTime](#localtime)\n",
    "- [LocalDateTime](#localdatetime)\n",
    "- [ZonedDateTime](#zoneddatetime)\n",
    "- [OffsetDateTime](#offsetdatetime)"
   ]
  },
  {
   "cell_type": "markdown",
   "id": "ba167845-043e-4e74-808c-336bb81767e2",
   "metadata": {},
   "source": [
    "---"
   ]
  },
  {
   "cell_type": "markdown",
   "id": "27cb2d40-4cd9-46f3-b6ad-8657899466cc",
   "metadata": {},
   "source": [
    "# Setup\n",
    "- [Model](#Model)\n",
    "- [Utils](#Utils)"
   ]
  },
  {
   "cell_type": "markdown",
   "id": "e6d61639-2b6d-41a0-97a1-b25940efbec1",
   "metadata": {},
   "source": [
    "## Model"
   ]
  },
  {
   "cell_type": "code",
   "execution_count": null,
   "id": "7d877191-e3ce-4940-b3b4-b939879cbc2d",
   "metadata": {
    "vscode": {
     "languageId": "java"
    }
   },
   "outputs": [],
   "source": []
  },
  {
   "cell_type": "markdown",
   "id": "c0d8510d-b858-4b7e-9e63-812e6fa18306",
   "metadata": {},
   "source": [
    "## Utils"
   ]
  },
  {
   "cell_type": "code",
   "execution_count": null,
   "id": "51e9e001-e0e9-440e-a2c1-23d81ce0d89a",
   "metadata": {
    "vscode": {
     "languageId": "java"
    }
   },
   "outputs": [],
   "source": []
  },
  {
   "cell_type": "markdown",
   "id": "a3cec1b3-cbaf-44db-b351-a5314b76ab04",
   "metadata": {},
   "source": [
    "---"
   ]
  },
  {
   "cell_type": "markdown",
   "id": "9d04664a-2ed8-4d73-9c8e-2e6821f02659",
   "metadata": {},
   "source": [
    "# LocalDate"
   ]
  },
  {
   "cell_type": "code",
   "execution_count": 13,
   "id": "e51e0970-405d-466e-888f-fdd9a9757f91",
   "metadata": {
    "vscode": {
     "languageId": "java"
    }
   },
   "outputs": [
    {
     "name": "stdout",
     "output_type": "stream",
     "text": [
      "2023-02-28\n",
      "2023-03-01\n",
      "2023-08-01\n"
     ]
    }
   ],
   "source": [
    "LocalDate ld = LocalDate.of(2023, Month.FEBRUARY, 28);\n",
    "System.out.println(ld);\n",
    "ld = ld.plusDays(1);\n",
    "System.out.println(ld);\n",
    "ld = ld.plusMonths(5);\n",
    "System.out.println(ld);"
   ]
  },
  {
   "cell_type": "markdown",
   "id": "97186083-d165-44c7-89f9-45c671885d00",
   "metadata": {},
   "source": [
    "---"
   ]
  },
  {
   "cell_type": "markdown",
   "id": "09a47092-f99a-4bea-b991-aeac16d97b1d",
   "metadata": {},
   "source": [
    "# DateTimeFormatter"
   ]
  },
  {
   "cell_type": "code",
   "execution_count": 14,
   "id": "f06f6dbe-c681-4107-b786-e8a5366fdb95",
   "metadata": {
    "vscode": {
     "languageId": "java"
    }
   },
   "outputs": [
    {
     "name": "stdout",
     "output_type": "stream",
     "text": [
      "2023 08 01\n",
      "2023 08 01\n",
      "2023 8月 01\n",
      "2023 8月 01\n"
     ]
    }
   ],
   "source": [
    "DateTimeFormatter dtf = DateTimeFormatter.ofPattern(\"yyyy MM dd\");\n",
    "System.out.println(ld.format(dtf));\n",
    "System.out.println(dtf.format(ld));\n",
    "\n",
    "DateTimeFormatter dtf = DateTimeFormatter.ofPattern(\"yyyy MMM dd\");\n",
    "System.out.println(ld.format(dtf));\n",
    "System.out.println(dtf.format(ld));"
   ]
  },
  {
   "cell_type": "markdown",
   "id": "6a5bc2b2-774f-470e-b53f-9b52a3b014fa",
   "metadata": {},
   "source": [
    "---"
   ]
  },
  {
   "cell_type": "markdown",
   "id": "e9fb2cbc-62eb-4dfc-821b-01b7df42d4b7",
   "metadata": {},
   "source": [
    "# LocalTime"
   ]
  },
  {
   "cell_type": "code",
   "execution_count": 15,
   "id": "e5d21dd1-13b6-413b-a73a-b08d897a2ef1",
   "metadata": {
    "vscode": {
     "languageId": "java"
    }
   },
   "outputs": [
    {
     "name": "stdout",
     "output_type": "stream",
     "text": [
      "12:30:15\n"
     ]
    }
   ],
   "source": [
    "LocalTime lt = LocalTime.of(12, 30, 15);\n",
    "System.out.println(lt);"
   ]
  },
  {
   "cell_type": "markdown",
   "id": "3d8b1c94-dc65-4ab6-b7d7-4f2ff2ce871d",
   "metadata": {},
   "source": [
    "---"
   ]
  },
  {
   "cell_type": "markdown",
   "id": "fa5e32e8-c303-4acd-a95a-0fc3b94d1f93",
   "metadata": {},
   "source": [
    "# LocalDateTime"
   ]
  },
  {
   "cell_type": "code",
   "execution_count": 16,
   "id": "088fa37e-5d20-474b-93a3-6f26ead7b8d4",
   "metadata": {
    "vscode": {
     "languageId": "java"
    }
   },
   "outputs": [
    {
     "name": "stdout",
     "output_type": "stream",
     "text": [
      "2023-08-01T12:30:15\n"
     ]
    }
   ],
   "source": [
    "LocalDateTime ldt = LocalDateTime.of(ld, lt);\n",
    "System.out.println(ldt);"
   ]
  },
  {
   "cell_type": "code",
   "execution_count": 17,
   "id": "ab0e9701",
   "metadata": {
    "vscode": {
     "languageId": "java"
    }
   },
   "outputs": [
    {
     "data": {
      "text/plain": [
       "2023-08-01T12:30:15Z[UTC]"
      ]
     },
     "execution_count": 17,
     "metadata": {},
     "output_type": "execute_result"
    }
   ],
   "source": [
    "ldt.atZone(ZoneId.of(\"UTC\"))"
   ]
  },
  {
   "cell_type": "code",
   "execution_count": 18,
   "id": "6a74827f",
   "metadata": {
    "vscode": {
     "languageId": "java"
    }
   },
   "outputs": [
    {
     "name": "stdout",
     "output_type": "stream",
     "text": [
      "LocalDateTime最小值：-999999999-01-01T00:00\n",
      "LocalDateTime最大值：+999999999-12-31T23:59:59.999999999\n",
      "-999999999-1-1\n",
      "999999999-12-31\n"
     ]
    }
   ],
   "source": [
    "LocalDateTime min = LocalDateTime.MIN;\n",
    "LocalDateTime max = LocalDateTime.MAX;\n",
    "\n",
    "System.out.println(\"LocalDateTime最小值：\" + min);\n",
    "System.out.println(\"LocalDateTime最大值：\" + max);\n",
    "System.out.println(min.getYear() + \"-\" + min.getMonthValue() + \"-\" + min.getDayOfMonth());\n",
    "System.out.println(max.getYear() + \"-\" + max.getMonthValue() + \"-\" + max.getDayOfMonth());"
   ]
  },
  {
   "cell_type": "code",
   "execution_count": 19,
   "id": "0b51272c",
   "metadata": {
    "vscode": {
     "languageId": "java"
    }
   },
   "outputs": [
    {
     "name": "stdout",
     "output_type": "stream",
     "text": [
      "Asia/Aden\n",
      "America/Cuiaba\n",
      "Etc/GMT+9\n",
      "Etc/GMT+8\n",
      "Africa/Nairobi\n",
      "America/Marigot\n",
      "Asia/Aqtau\n",
      "Pacific/Kwajalein\n",
      "America/El_Salvador\n",
      "Asia/Pontianak\n",
      "Africa/Cairo\n",
      "Pacific/Pago_Pago\n",
      "Africa/Mbabane\n",
      "Asia/Kuching\n",
      "Pacific/Honolulu\n",
      "Pacific/Rarotonga\n",
      "America/Guatemala\n",
      "Australia/Hobart\n",
      "Europe/London\n",
      "America/Belize\n",
      "America/Panama\n",
      "Asia/Chungking\n",
      "America/Managua\n",
      "America/Indiana/Petersburg\n",
      "Asia/Yerevan\n",
      "Europe/Brussels\n",
      "GMT\n",
      "Europe/Warsaw\n",
      "America/Chicago\n",
      "Asia/Kashgar\n",
      "Chile/Continental\n",
      "Pacific/Yap\n",
      "CET\n",
      "Etc/GMT-1\n",
      "Etc/GMT-0\n",
      "Europe/Jersey\n",
      "America/Tegucigalpa\n",
      "Etc/GMT-5\n",
      "Europe/Istanbul\n",
      "America/Eirunepe\n",
      "Etc/GMT-4\n",
      "America/Miquelon\n",
      "Etc/GMT-3\n",
      "Europe/Luxembourg\n",
      "Etc/GMT-2\n",
      "Etc/GMT-9\n",
      "America/Argentina/Catamarca\n",
      "Etc/GMT-8\n",
      "Etc/GMT-7\n",
      "Etc/GMT-6\n",
      "Europe/Zaporozhye\n",
      "Canada/Yukon\n",
      "Canada/Atlantic\n",
      "Atlantic/St_Helena\n",
      "Australia/Tasmania\n",
      "Libya\n",
      "Europe/Guernsey\n",
      "America/Grand_Turk\n",
      "Asia/Samarkand\n",
      "America/Argentina/Cordoba\n",
      "Asia/Phnom_Penh\n",
      "Africa/Kigali\n",
      "Asia/Almaty\n",
      "US/Alaska\n",
      "Asia/Dubai\n",
      "Europe/Isle_of_Man\n",
      "America/Araguaina\n",
      "Cuba\n",
      "Asia/Novosibirsk\n",
      "America/Argentina/Salta\n",
      "Etc/GMT+3\n",
      "Africa/Tunis\n",
      "Etc/GMT+2\n",
      "Etc/GMT+1\n",
      "Pacific/Fakaofo\n",
      "Africa/Tripoli\n",
      "Etc/GMT+0\n",
      "Israel\n",
      "Africa/Banjul\n",
      "Etc/GMT+7\n",
      "Indian/Comoro\n",
      "Etc/GMT+6\n",
      "Etc/GMT+5\n",
      "Etc/GMT+4\n",
      "Pacific/Port_Moresby\n",
      "US/Arizona\n",
      "Antarctica/Syowa\n",
      "Indian/Reunion\n",
      "Pacific/Palau\n",
      "Europe/Kaliningrad\n",
      "America/Montevideo\n",
      "Africa/Windhoek\n",
      "Asia/Karachi\n",
      "Africa/Mogadishu\n",
      "Australia/Perth\n",
      "Brazil/East\n",
      "Etc/GMT\n",
      "Asia/Chita\n",
      "Pacific/Easter\n",
      "Antarctica/Davis\n",
      "Antarctica/McMurdo\n",
      "Asia/Macao\n",
      "America/Manaus\n",
      "Africa/Freetown\n",
      "Europe/Bucharest\n",
      "Asia/Tomsk\n",
      "America/Argentina/Mendoza\n",
      "Asia/Macau\n",
      "Europe/Malta\n",
      "Mexico/BajaSur\n",
      "Pacific/Tahiti\n",
      "Africa/Asmera\n",
      "Europe/Busingen\n",
      "America/Argentina/Rio_Gallegos\n",
      "Africa/Malabo\n",
      "Europe/Skopje\n",
      "America/Catamarca\n",
      "America/Godthab\n",
      "Europe/Sarajevo\n",
      "Australia/ACT\n",
      "GB-Eire\n",
      "Africa/Lagos\n",
      "America/Cordoba\n",
      "Europe/Rome\n",
      "Asia/Dacca\n",
      "Indian/Mauritius\n",
      "Pacific/Samoa\n",
      "America/Regina\n",
      "America/Fort_Wayne\n",
      "America/Dawson_Creek\n",
      "Africa/Algiers\n",
      "Europe/Mariehamn\n",
      "America/St_Johns\n",
      "America/St_Thomas\n",
      "Europe/Zurich\n",
      "America/Anguilla\n",
      "Asia/Dili\n",
      "America/Denver\n",
      "Africa/Bamako\n",
      "Europe/Saratov\n",
      "GB\n",
      "Mexico/General\n",
      "Pacific/Wallis\n",
      "Europe/Gibraltar\n",
      "Africa/Conakry\n",
      "Africa/Lubumbashi\n",
      "Asia/Istanbul\n",
      "America/Havana\n",
      "NZ-CHAT\n",
      "Asia/Choibalsan\n",
      "America/Porto_Acre\n",
      "Asia/Omsk\n",
      "Europe/Vaduz\n",
      "US/Michigan\n",
      "Asia/Dhaka\n",
      "America/Barbados\n",
      "Europe/Tiraspol\n",
      "Atlantic/Cape_Verde\n",
      "Asia/Yekaterinburg\n",
      "America/Louisville\n",
      "Pacific/Johnston\n",
      "Pacific/Chatham\n",
      "Europe/Ljubljana\n",
      "America/Sao_Paulo\n",
      "Asia/Jayapura\n",
      "America/Curacao\n",
      "Asia/Dushanbe\n",
      "America/Guyana\n",
      "America/Guayaquil\n",
      "America/Martinique\n",
      "Portugal\n",
      "Europe/Berlin\n",
      "Europe/Moscow\n",
      "Europe/Chisinau\n",
      "America/Puerto_Rico\n",
      "America/Rankin_Inlet\n",
      "Pacific/Ponape\n",
      "Europe/Stockholm\n",
      "Europe/Budapest\n",
      "America/Argentina/Jujuy\n",
      "Australia/Eucla\n",
      "Asia/Shanghai\n",
      "Universal\n",
      "Europe/Zagreb\n",
      "America/Port_of_Spain\n",
      "Europe/Helsinki\n",
      "Asia/Beirut\n",
      "Asia/Tel_Aviv\n",
      "Pacific/Bougainville\n",
      "US/Central\n",
      "Africa/Sao_Tome\n",
      "Indian/Chagos\n",
      "America/Cayenne\n",
      "Asia/Yakutsk\n",
      "Pacific/Galapagos\n",
      "Australia/North\n",
      "Europe/Paris\n",
      "Africa/Ndjamena\n",
      "Pacific/Fiji\n",
      "America/Rainy_River\n",
      "Indian/Maldives\n",
      "Australia/Yancowinna\n",
      "SystemV/AST4\n",
      "Asia/Oral\n",
      "America/Yellowknife\n",
      "Pacific/Enderbury\n",
      "America/Juneau\n",
      "Australia/Victoria\n",
      "America/Indiana/Vevay\n",
      "Asia/Tashkent\n",
      "Asia/Jakarta\n",
      "Africa/Ceuta\n",
      "Asia/Barnaul\n",
      "America/Recife\n",
      "America/Buenos_Aires\n",
      "America/Noronha\n",
      "America/Swift_Current\n",
      "Australia/Adelaide\n",
      "America/Metlakatla\n",
      "Africa/Djibouti\n",
      "America/Paramaribo\n",
      "Asia/Qostanay\n",
      "Europe/Simferopol\n",
      "Europe/Sofia\n",
      "Africa/Nouakchott\n",
      "Europe/Prague\n",
      "America/Indiana/Vincennes\n",
      "Antarctica/Mawson\n",
      "America/Kralendijk\n",
      "Antarctica/Troll\n",
      "Europe/Samara\n",
      "Indian/Christmas\n",
      "America/Antigua\n",
      "Pacific/Gambier\n",
      "America/Indianapolis\n",
      "America/Inuvik\n",
      "America/Iqaluit\n",
      "Pacific/Funafuti\n",
      "UTC\n",
      "Antarctica/Macquarie\n",
      "Canada/Pacific\n",
      "America/Moncton\n",
      "Africa/Gaborone\n",
      "Pacific/Chuuk\n",
      "Asia/Pyongyang\n",
      "America/St_Vincent\n",
      "Asia/Gaza\n",
      "Etc/Universal\n",
      "PST8PDT\n",
      "Atlantic/Faeroe\n",
      "Asia/Qyzylorda\n",
      "Canada/Newfoundland\n",
      "America/Kentucky/Louisville\n",
      "America/Yakutat\n",
      "America/Ciudad_Juarez\n",
      "Asia/Ho_Chi_Minh\n",
      "Antarctica/Casey\n",
      "Europe/Copenhagen\n",
      "Africa/Asmara\n",
      "Atlantic/Azores\n",
      "Europe/Vienna\n",
      "ROK\n",
      "Pacific/Pitcairn\n",
      "America/Mazatlan\n",
      "Australia/Queensland\n",
      "Pacific/Nauru\n",
      "Europe/Tirane\n",
      "Asia/Kolkata\n",
      "SystemV/MST7\n",
      "Australia/Canberra\n",
      "MET\n",
      "Australia/Broken_Hill\n",
      "Europe/Riga\n",
      "America/Dominica\n",
      "Africa/Abidjan\n",
      "America/Mendoza\n",
      "America/Santarem\n",
      "Kwajalein\n",
      "America/Asuncion\n",
      "Asia/Ulan_Bator\n",
      "NZ\n",
      "America/Boise\n",
      "Australia/Currie\n",
      "EST5EDT\n",
      "Pacific/Guam\n",
      "Pacific/Wake\n",
      "Atlantic/Bermuda\n",
      "America/Costa_Rica\n",
      "America/Dawson\n",
      "Asia/Chongqing\n",
      "Eire\n",
      "Europe/Amsterdam\n",
      "America/Indiana/Knox\n",
      "America/North_Dakota/Beulah\n",
      "Africa/Accra\n",
      "Atlantic/Faroe\n",
      "Mexico/BajaNorte\n",
      "America/Maceio\n",
      "Etc/UCT\n",
      "Pacific/Apia\n",
      "GMT0\n",
      "America/Atka\n",
      "Pacific/Niue\n",
      "Australia/Lord_Howe\n",
      "Europe/Dublin\n",
      "Pacific/Truk\n",
      "MST7MDT\n",
      "America/Monterrey\n",
      "America/Nassau\n",
      "America/Jamaica\n",
      "Asia/Bishkek\n",
      "America/Atikokan\n",
      "Atlantic/Stanley\n",
      "Australia/NSW\n",
      "US/Hawaii\n",
      "SystemV/CST6\n",
      "Indian/Mahe\n",
      "Asia/Aqtobe\n",
      "America/Sitka\n",
      "Asia/Vladivostok\n",
      "Africa/Libreville\n",
      "Africa/Maputo\n",
      "Zulu\n",
      "America/Kentucky/Monticello\n",
      "Africa/El_Aaiun\n",
      "Africa/Ouagadougou\n",
      "America/Coral_Harbour\n",
      "Pacific/Marquesas\n",
      "Brazil/West\n",
      "America/Aruba\n",
      "America/North_Dakota/Center\n",
      "America/Cayman\n",
      "Asia/Ulaanbaatar\n",
      "Asia/Baghdad\n",
      "Europe/San_Marino\n",
      "America/Indiana/Tell_City\n",
      "America/Tijuana\n",
      "Pacific/Saipan\n",
      "SystemV/YST9\n",
      "Africa/Douala\n",
      "America/Chihuahua\n",
      "America/Ojinaga\n",
      "Asia/Hovd\n",
      "America/Anchorage\n",
      "Chile/EasterIsland\n",
      "America/Halifax\n",
      "Antarctica/Rothera\n",
      "America/Indiana/Indianapolis\n",
      "US/Mountain\n",
      "Asia/Damascus\n",
      "America/Argentina/San_Luis\n",
      "America/Santiago\n",
      "Asia/Baku\n",
      "America/Argentina/Ushuaia\n",
      "Atlantic/Reykjavik\n",
      "Africa/Brazzaville\n",
      "Africa/Porto-Novo\n",
      "America/La_Paz\n",
      "Antarctica/DumontDUrville\n",
      "Asia/Taipei\n",
      "Antarctica/South_Pole\n",
      "Asia/Manila\n",
      "Asia/Bangkok\n",
      "Africa/Dar_es_Salaam\n",
      "Poland\n",
      "Atlantic/Madeira\n",
      "Antarctica/Palmer\n",
      "America/Thunder_Bay\n",
      "Africa/Addis_Ababa\n",
      "Asia/Yangon\n",
      "Europe/Uzhgorod\n",
      "Brazil/DeNoronha\n",
      "Asia/Ashkhabad\n",
      "Etc/Zulu\n",
      "America/Indiana/Marengo\n",
      "America/Creston\n",
      "America/Punta_Arenas\n",
      "America/Mexico_City\n",
      "Antarctica/Vostok\n",
      "Asia/Jerusalem\n",
      "Europe/Andorra\n",
      "US/Samoa\n",
      "PRC\n",
      "Asia/Vientiane\n",
      "Pacific/Kiritimati\n",
      "America/Matamoros\n",
      "America/Blanc-Sablon\n",
      "Asia/Riyadh\n",
      "Iceland\n",
      "Pacific/Pohnpei\n",
      "Asia/Ujung_Pandang\n",
      "Atlantic/South_Georgia\n",
      "Europe/Lisbon\n",
      "Asia/Harbin\n",
      "Europe/Oslo\n",
      "Asia/Novokuznetsk\n",
      "CST6CDT\n",
      "Atlantic/Canary\n",
      "America/Knox_IN\n",
      "Asia/Kuwait\n",
      "SystemV/HST10\n",
      "Pacific/Efate\n",
      "Africa/Lome\n",
      "America/Bogota\n",
      "America/Menominee\n",
      "America/Adak\n",
      "Pacific/Norfolk\n",
      "Europe/Kirov\n",
      "America/Resolute\n",
      "Pacific/Kanton\n",
      "Pacific/Tarawa\n",
      "Africa/Kampala\n",
      "Asia/Krasnoyarsk\n",
      "Greenwich\n",
      "SystemV/EST5\n",
      "America/Edmonton\n",
      "Europe/Podgorica\n",
      "Australia/South\n",
      "Canada/Central\n",
      "Africa/Bujumbura\n",
      "America/Santo_Domingo\n",
      "US/Eastern\n",
      "Europe/Minsk\n",
      "Pacific/Auckland\n",
      "Africa/Casablanca\n",
      "America/Glace_Bay\n",
      "Canada/Eastern\n",
      "Asia/Qatar\n",
      "Europe/Kiev\n",
      "Singapore\n",
      "Asia/Magadan\n",
      "SystemV/PST8\n",
      "America/Port-au-Prince\n",
      "Europe/Belfast\n",
      "America/St_Barthelemy\n",
      "Asia/Ashgabat\n",
      "Africa/Luanda\n",
      "America/Nipigon\n",
      "Atlantic/Jan_Mayen\n",
      "Brazil/Acre\n",
      "Asia/Muscat\n",
      "Asia/Bahrain\n",
      "Europe/Vilnius\n",
      "America/Fortaleza\n",
      "Etc/GMT0\n",
      "US/East-Indiana\n",
      "America/Hermosillo\n",
      "America/Cancun\n",
      "Africa/Maseru\n",
      "Pacific/Kosrae\n",
      "Africa/Kinshasa\n",
      "Asia/Kathmandu\n",
      "Asia/Seoul\n",
      "Australia/Sydney\n",
      "America/Lima\n",
      "Australia/LHI\n",
      "America/St_Lucia\n",
      "Europe/Madrid\n",
      "America/Bahia_Banderas\n",
      "America/Montserrat\n",
      "Asia/Brunei\n",
      "America/Santa_Isabel\n",
      "Canada/Mountain\n",
      "America/Cambridge_Bay\n",
      "Asia/Colombo\n",
      "Australia/West\n",
      "Indian/Antananarivo\n",
      "Australia/Brisbane\n",
      "Indian/Mayotte\n",
      "US/Indiana-Starke\n",
      "Asia/Urumqi\n",
      "US/Aleutian\n",
      "Europe/Volgograd\n",
      "America/Lower_Princes\n",
      "America/Vancouver\n",
      "Africa/Blantyre\n",
      "America/Rio_Branco\n",
      "America/Danmarkshavn\n",
      "America/Detroit\n",
      "America/Thule\n",
      "Africa/Lusaka\n",
      "Asia/Hong_Kong\n",
      "Iran\n",
      "America/Argentina/La_Rioja\n",
      "Africa/Dakar\n",
      "SystemV/CST6CDT\n",
      "America/Tortola\n",
      "America/Porto_Velho\n",
      "Asia/Sakhalin\n",
      "Etc/GMT+10\n",
      "America/Scoresbysund\n",
      "Asia/Kamchatka\n",
      "Asia/Thimbu\n",
      "Africa/Harare\n",
      "Etc/GMT+12\n",
      "Etc/GMT+11\n",
      "Navajo\n",
      "America/Nome\n",
      "Europe/Tallinn\n",
      "Turkey\n",
      "Africa/Khartoum\n",
      "Africa/Johannesburg\n",
      "Africa/Bangui\n",
      "Europe/Belgrade\n",
      "Jamaica\n",
      "Africa/Bissau\n",
      "Asia/Tehran\n",
      "WET\n",
      "Europe/Astrakhan\n",
      "Africa/Juba\n",
      "America/Campo_Grande\n",
      "America/Belem\n",
      "Etc/Greenwich\n",
      "Asia/Saigon\n",
      "America/Ensenada\n",
      "Pacific/Midway\n",
      "America/Jujuy\n",
      "Africa/Timbuktu\n",
      "America/Bahia\n",
      "America/Goose_Bay\n",
      "America/Virgin\n",
      "America/Pangnirtung\n",
      "Asia/Katmandu\n",
      "America/Phoenix\n",
      "Africa/Niamey\n",
      "America/Whitehorse\n",
      "Pacific/Noumea\n",
      "Asia/Tbilisi\n",
      "Europe/Kyiv\n",
      "America/Montreal\n",
      "Asia/Makassar\n",
      "America/Argentina/San_Juan\n",
      "Hongkong\n",
      "UCT\n",
      "Asia/Nicosia\n",
      "America/Indiana/Winamac\n",
      "SystemV/MST7MDT\n",
      "America/Argentina/ComodRivadavia\n",
      "America/Boa_Vista\n",
      "America/Grenada\n",
      "Asia/Atyrau\n",
      "Australia/Darwin\n",
      "Asia/Khandyga\n",
      "Asia/Kuala_Lumpur\n",
      "Asia/Famagusta\n",
      "Asia/Thimphu\n",
      "Asia/Rangoon\n",
      "Europe/Bratislava\n",
      "Asia/Calcutta\n",
      "America/Argentina/Tucuman\n",
      "Asia/Kabul\n",
      "Indian/Cocos\n",
      "Japan\n",
      "Pacific/Tongatapu\n",
      "America/New_York\n",
      "Etc/GMT-12\n",
      "Etc/GMT-11\n",
      "America/Nuuk\n",
      "Etc/GMT-10\n",
      "SystemV/YST9YDT\n",
      "Europe/Ulyanovsk\n",
      "Etc/GMT-14\n",
      "Etc/GMT-13\n",
      "W-SU\n",
      "America/Merida\n",
      "EET\n",
      "America/Rosario\n",
      "Canada/Saskatchewan\n",
      "America/St_Kitts\n",
      "Arctic/Longyearbyen\n",
      "America/Fort_Nelson\n",
      "America/Caracas\n",
      "America/Guadeloupe\n",
      "Asia/Hebron\n",
      "Indian/Kerguelen\n",
      "SystemV/PST8PDT\n",
      "Africa/Monrovia\n",
      "Asia/Ust-Nera\n",
      "Egypt\n",
      "Asia/Srednekolymsk\n",
      "America/North_Dakota/New_Salem\n",
      "Asia/Anadyr\n",
      "Australia/Melbourne\n",
      "Asia/Irkutsk\n",
      "America/Shiprock\n",
      "America/Winnipeg\n",
      "Europe/Vatican\n",
      "Asia/Amman\n",
      "Etc/UTC\n",
      "SystemV/AST4ADT\n",
      "Asia/Tokyo\n",
      "America/Toronto\n",
      "Asia/Singapore\n",
      "Australia/Lindeman\n",
      "America/Los_Angeles\n",
      "SystemV/EST5EDT\n",
      "Pacific/Majuro\n",
      "America/Argentina/Buenos_Aires\n",
      "Europe/Nicosia\n",
      "Pacific/Guadalcanal\n",
      "Europe/Athens\n",
      "US/Pacific\n",
      "Europe/Monaco\n"
     ]
    }
   ],
   "source": [
    "Set<String> zoneIds= ZoneId.getAvailableZoneIds();\n",
    "zoneIds.forEach(System.out::println);"
   ]
  },
  {
   "cell_type": "code",
   "execution_count": 20,
   "id": "566ec738",
   "metadata": {
    "vscode": {
     "languageId": "java"
    }
   },
   "outputs": [
    {
     "name": "stdout",
     "output_type": "stream",
     "text": [
      "當前時區的本地時間 : 2024-04-19T17:36:24.030140400\n",
      "當前時區的本地時間 : 2024-04-19T17:36:24.050139800\n",
      "當前時區的本地時間 : 2024-04-19T18:36:24.068143\n",
      "當前時區的本地時間 : 2024-04-19T17:36:24.085139700\n"
     ]
    }
   ],
   "source": [
    "System.out.println(\"當前時區的本地時間 : \" + LocalDateTime.now());\n",
    "System.out.println(\"當前時區的本地時間 : \" + LocalDateTime.of(LocalDate.now(), LocalTime.now()));\n",
    "System.out.println(\"當前時區的本地時間 : \" + LocalDateTime.now(ZoneId.of(\"Japan\")));\n",
    "System.out.println(\"當前時區的本地時間 : \" + LocalDateTime.now(ZoneId.of(\"Asia/Taipei\")));"
   ]
  },
  {
   "cell_type": "markdown",
   "id": "e68b2c27-d9e8-451b-9df7-fec3bb0c0308",
   "metadata": {},
   "source": [
    "---"
   ]
  },
  {
   "cell_type": "markdown",
   "id": "f7d77e84-bba2-4493-936c-b99442590e53",
   "metadata": {},
   "source": [
    "# ZonedDateTime"
   ]
  },
  {
   "cell_type": "code",
   "execution_count": 21,
   "id": "2671e48f-4d98-4a7f-ba1a-760ceb87b2d1",
   "metadata": {
    "vscode": {
     "languageId": "java"
    }
   },
   "outputs": [],
   "source": [
    "// ZoneId.getAvailableZoneIds().forEach(System.out::println);"
   ]
  },
  {
   "cell_type": "code",
   "execution_count": 22,
   "id": "e62c38b8-6634-4be7-b733-3b59d2270898",
   "metadata": {
    "vscode": {
     "languageId": "java"
    }
   },
   "outputs": [
    {
     "name": "stdout",
     "output_type": "stream",
     "text": [
      "2023-08-01T12:30:15+08:00[Asia/Taipei]\n"
     ]
    }
   ],
   "source": [
    "ZonedDateTime zdt = ZonedDateTime.of(ldt, ZoneId.of(\"Asia/Taipei\"));\n",
    "System.out.println(zdt);"
   ]
  },
  {
   "cell_type": "markdown",
   "id": "bcefa91c-fbaa-40ab-9e71-ef7083d23fad",
   "metadata": {},
   "source": [
    "---"
   ]
  },
  {
   "cell_type": "markdown",
   "id": "0d675119",
   "metadata": {},
   "source": [
    "# OffsetDateTime"
   ]
  },
  {
   "cell_type": "code",
   "execution_count": null,
   "id": "9164dc1c",
   "metadata": {
    "vscode": {
     "languageId": "java"
    }
   },
   "outputs": [],
   "source": []
  }
 ],
 "metadata": {
  "kernelspec": {
   "display_name": "Java",
   "language": "java",
   "name": "java"
  },
  "language_info": {
   "codemirror_mode": "java",
   "file_extension": ".jshell",
   "mimetype": "text/x-java-source",
   "name": "Java",
   "pygments_lexer": "java",
   "version": "17.0.6+10-jvmci-22.3-b13"
  }
 },
 "nbformat": 4,
 "nbformat_minor": 5
}
