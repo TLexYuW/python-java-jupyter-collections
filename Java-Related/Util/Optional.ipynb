{
 "cells": [
  {
   "cell_type": "markdown",
   "id": "e12986fe-5f4e-4dd0-a55d-62669b8ad408",
   "metadata": {},
   "source": [
    "# Dependency"
   ]
  },
  {
   "cell_type": "code",
   "execution_count": 8,
   "id": "ae343569-7a75-4d02-bdaa-006239b4711b",
   "metadata": {},
   "outputs": [],
   "source": [
    "%%loadFromPOM\n",
    "<properties>\n",
    "    <junit-platform.version>5.3.1</junit-platform.version>\n",
    "</properties>\n",
    "<dependencies>\n",
    "    <dependency>\n",
    "        <groupId>org.junit.jupiter</groupId>\n",
    "        <artifactId>junit-jupiter-api</artifactId>\n",
    "        <version>5.3.1</version>\n",
    "    <!--    <scope>test</scope> -->\n",
    "    </dependency>\n",
    "    <dependency>\n",
    "        <groupId>org.junit.jupiter</groupId>\n",
    "        <artifactId>junit-jupiter-engine</artifactId>\n",
    "        <version>${junit-platform.version}</version>\n",
    "    <!--    <scope>test</scope> -->\n",
    "    </dependency>\n",
    "</dependencies>"
   ]
  },
  {
   "cell_type": "markdown",
   "id": "144febc4-63d0-448a-a66b-87241ffdf6ff",
   "metadata": {},
   "source": [
    "# Import"
   ]
  },
  {
   "cell_type": "code",
   "execution_count": 12,
   "id": "5868e14d-8085-4107-b79f-56e5edba6d02",
   "metadata": {},
   "outputs": [],
   "source": [
    "import org.junit.jupiter.api.Test;\n",
    "\n",
    "import java.util.Arrays;\n",
    "import java.util.List;\n",
    "import java.util.NoSuchElementException;\n",
    "import java.util.Optional;\n",
    "import java.util.function.Supplier;\n",
    "\n",
    "import static java.lang.System.*;\n",
    "import static org.junit.jupiter.api.Assertions.*;"
   ]
  },
  {
   "cell_type": "markdown",
   "id": "5690cb8d-63f4-4cb2-87ba-40300f0c8c08",
   "metadata": {},
   "source": [
    "---"
   ]
  },
  {
   "cell_type": "markdown",
   "id": "73dad69e-3a1b-4bf2-af2b-1d82e15d59b2",
   "metadata": {},
   "source": [
    "# TOC\n",
    "Ref\n",
    "- https://www.baeldung.com/java-optional"
   ]
  },
  {
   "cell_type": "markdown",
   "id": "47d4547a-fc10-4309-9023-8cb12213f655",
   "metadata": {},
   "source": [
    "- isPresent()\n",
    "- OrElse()\n",
    "- OrElseGet()\n",
    "- isEmpty()"
   ]
  },
  {
   "cell_type": "markdown",
   "id": "c066dd1e-9930-4076-9bb4-93df0f65755d",
   "metadata": {},
   "source": [
    "---"
   ]
  },
  {
   "cell_type": "markdown",
   "id": "17c700db-c555-41a5-bf8e-a8ebfc6af52d",
   "metadata": {},
   "source": [
    "# isPresent()\n",
    "> JDK 8"
   ]
  },
  {
   "cell_type": "code",
   "execution_count": 24,
   "id": "61b3b1a6-229c-4c92-a95d-816482e113a1",
   "metadata": {},
   "outputs": [
    {
     "name": "stdout",
     "output_type": "stream",
     "text": [
      "false\n"
     ]
    }
   ],
   "source": [
    "public void whenCreatesEmptyOptional_thenCorrect() {\n",
    "    Optional<String> empty = Optional.empty();\n",
    "    out.println(empty.isPresent());\n",
    "}\n",
    "whenCreatesEmptyOptional_thenCorrect()"
   ]
  },
  {
   "cell_type": "code",
   "execution_count": 115,
   "id": "e0d9448b-208e-4b50-8e9d-0f3ad110b862",
   "metadata": {},
   "outputs": [
    {
     "name": "stdout",
     "output_type": "stream",
     "text": [
      "true\n"
     ]
    }
   ],
   "source": [
    "public void givenNonNull_whenCreatesNonNullable_thenCorrect() {\n",
    "    String name = \"baeldung\";\n",
    "    Optional<String> opt = Optional.of(name);\n",
    "    out.println(opt.isPresent());\n",
    "}\n",
    "givenNonNull_whenCreatesNonNullable_thenCorrect()"
   ]
  },
  {
   "cell_type": "code",
   "execution_count": 116,
   "id": "71a92c26-8b4a-45a9-bf48-b3fe783b2e49",
   "metadata": {},
   "outputs": [
    {
     "name": "stdout",
     "output_type": "stream",
     "text": [
      "false\n"
     ]
    }
   ],
   "source": [
    "\n",
    "public void givenNonNull_whenCreatesNonNullable_thenCorrect() {\n",
    "    String name = null;\n",
    "    Optional<String> opt = Optional.ofNullable(name);\n",
    "    out.println(opt.isPresent());\n",
    "}\n",
    "givenNonNull_whenCreatesNonNullable_thenCorrect()"
   ]
  },
  {
   "cell_type": "code",
   "execution_count": 112,
   "id": "fe4afa77-e26b-4309-ab98-02ee300ae3dd",
   "metadata": {},
   "outputs": [
    {
     "ename": "EvalException",
     "evalue": "null",
     "output_type": "error",
     "traceback": [
      "\u001b[1m\u001b[31m---------------------------------------------------------------------------\u001b[0m",
      "\u001b[1m\u001b[31mjava.lang.NullPointerException: null\u001b[0m",
      "\u001b[1m\u001b[31m\tat java.base/java.util.Objects.requireNonNull(Objects.java:208)\u001b[0m",
      "\u001b[1m\u001b[31m\tat java.base/java.util.Optional.of(Optional.java:113)\u001b[0m",
      "\u001b[1m\u001b[31m\tat .givenNull_whenThrowsErrorOnCreate_thenCorrect(#59:3)\u001b[0m",
      "\u001b[1m\u001b[31m\tat .(#101:1)\u001b[0m"
     ]
    }
   ],
   "source": [
    "public void givenNull_whenThrowsErrorOnCreate_thenCorrect() {\n",
    "    String name = null;\n",
    "    Optional.of(name);\n",
    "}\n",
    "givenNull_whenThrowsErrorOnCreate_thenCorrect()"
   ]
  },
  {
   "cell_type": "code",
   "execution_count": 111,
   "id": "55feae2c-ed2e-40bd-b6c6-f09c3ee0f3d4",
   "metadata": {},
   "outputs": [
    {
     "name": "stdout",
     "output_type": "stream",
     "text": [
      "false\n"
     ]
    }
   ],
   "source": [
    "public void givenNonNull_whenCreatesNullable_thenCorrect() {\n",
    "    String name = null;\n",
    "    Optional<String> opt = Optional.ofNullable(name);\n",
    "    out.println(opt.isPresent());\n",
    "}\n",
    "givenNonNull_whenCreatesNullable_thenCorrect()"
   ]
  },
  {
   "cell_type": "code",
   "execution_count": 26,
   "id": "8ef71440-a24f-43f2-9674-9d0cbea4cf08",
   "metadata": {},
   "outputs": [
    {
     "name": "stdout",
     "output_type": "stream",
     "text": [
      "Sending email to test@gmail.com\n"
     ]
    }
   ],
   "source": [
    "Optional.ofNullable(\"test@gmail.com\").ifPresent(email -> System.out.println(\"Sending email to \" + email));"
   ]
  },
  {
   "cell_type": "code",
   "execution_count": 27,
   "id": "53f3c3b9-a267-4fdf-8c77-89bb4de434b8",
   "metadata": {},
   "outputs": [
    {
     "name": "stdout",
     "output_type": "stream",
     "text": [
      "Cannot send email\n"
     ]
    }
   ],
   "source": [
    "Optional.ofNullable(null)\n",
    "    .ifPresentOrElse(email -> System.out.println(\"Sending email to \" + email),\n",
    "                        () -> System.out.println(\"Cannot send email\"));"
   ]
  },
  {
   "cell_type": "markdown",
   "id": "a6a1b67f-9f1c-453e-8155-097f5654464a",
   "metadata": {},
   "source": [
    "---"
   ]
  },
  {
   "cell_type": "markdown",
   "id": "fe417198-f0d7-4ecb-bb00-9612fa13c5f7",
   "metadata": {
    "jp-MarkdownHeadingCollapsed": true
   },
   "source": [
    "# OrElse()"
   ]
  },
  {
   "cell_type": "code",
   "execution_count": 102,
   "id": "cfb5f784-895a-433f-a662-f498f6dfaae8",
   "metadata": {},
   "outputs": [
    {
     "name": "stdout",
     "output_type": "stream",
     "text": [
      "john"
     ]
    }
   ],
   "source": [
    "public void whenOrElseWorks_thenCorrect() {\n",
    "    String nullName = null;\n",
    "    String name = Optional.ofNullable(nullName).orElse(\"john\");\n",
    "    out.print(name);\n",
    "}\n",
    "whenOrElseWorks_thenCorrect()"
   ]
  },
  {
   "cell_type": "markdown",
   "id": "b6b25034-8da4-4097-8f79-b6d2b2b97ba5",
   "metadata": {},
   "source": [
    "---"
   ]
  },
  {
   "cell_type": "markdown",
   "id": "b4b376ab-2458-4c12-a620-c3538526a357",
   "metadata": {},
   "source": [
    "# OrElseGet()"
   ]
  },
  {
   "cell_type": "code",
   "execution_count": 119,
   "id": "0a74efcd-24ab-4333-bc4c-8f12244098c1",
   "metadata": {},
   "outputs": [
    {
     "name": "stdout",
     "output_type": "stream",
     "text": [
      "john"
     ]
    }
   ],
   "source": [
    "public void whenOrElseGetWorks_thenCorrect() {\n",
    "    String nullName = null;\n",
    "    String name = Optional.ofNullable(nullName).orElseGet(() -> \"john\");\n",
    "    out.print(name);\n",
    "}\n",
    "whenOrElseGetWorks_thenCorrect()"
   ]
  },
  {
   "cell_type": "code",
   "execution_count": 18,
   "id": "5e3bc752-8911-4754-8fc7-2df11eea360d",
   "metadata": {},
   "outputs": [
    {
     "data": {
      "text/plain": [
       "default value"
      ]
     },
     "execution_count": 18,
     "metadata": {},
     "output_type": "execute_result"
    }
   ],
   "source": [
    "Object value = Optional.ofNullable(null).orElseGet(() -> \"default value\");\n",
    "value"
   ]
  },
  {
   "cell_type": "code",
   "execution_count": 4,
   "id": "fbb413f3-dc9c-4c07-9f0e-74e092e30afa",
   "metadata": {},
   "outputs": [
    {
     "data": {
      "text/plain": [
       "Hello"
      ]
     },
     "execution_count": 4,
     "metadata": {},
     "output_type": "execute_result"
    }
   ],
   "source": [
    "Object value = Optional.ofNullable(\"Hello\").orElseGet(() -> \"default value\");\n",
    "value"
   ]
  },
  {
   "cell_type": "markdown",
   "id": "d32c8cc8-11ef-44ad-bf8f-d5e7c723c600",
   "metadata": {},
   "source": [
    "---"
   ]
  },
  {
   "cell_type": "markdown",
   "id": "b82433fe-7ea3-4820-812c-e0f22f782a6b",
   "metadata": {},
   "source": [
    "# orElseThrow()"
   ]
  },
  {
   "cell_type": "code",
   "execution_count": 22,
   "id": "dc37540c-b262-4e3f-a07d-04b0ca1a0823",
   "metadata": {},
   "outputs": [
    {
     "data": {
      "text/plain": [
       "REPL.$JShell$16$$Lambda$551/0x0000000800f18600@7465a836"
      ]
     },
     "execution_count": 22,
     "metadata": {},
     "output_type": "execute_result"
    }
   ],
   "source": [
    "Supplier<IllegalStateException> exception = () -> new IllegalStateException(\"exception\");\n",
    "exception"
   ]
  },
  {
   "cell_type": "code",
   "execution_count": 23,
   "id": "f97cb026-def8-4c73-8216-10c38df5b096",
   "metadata": {},
   "outputs": [
    {
     "ename": "EvalException",
     "evalue": "exception",
     "output_type": "error",
     "traceback": [
      "\u001b[1m\u001b[31m---------------------------------------------------------------------------\u001b[0m",
      "\u001b[1m\u001b[31mjava.lang.IllegalStateException: exception\u001b[0m",
      "\u001b[1m\u001b[31m\tat .lambda$do_it$$0(#12:1)\u001b[0m",
      "\u001b[1m\u001b[31m\tat java.base/java.util.Optional.orElseThrow(Optional.java:403)\u001b[0m",
      "\u001b[1m\u001b[31m\tat .(#12:1)\u001b[0m"
     ]
    }
   ],
   "source": [
    "Object value = Optional.ofNullable(null).orElseThrow(() -> new IllegalStateException(\"exception\"));\n",
    "value"
   ]
  },
  {
   "cell_type": "markdown",
   "id": "47d7cda0-f6e4-416f-9018-6c4bc764dcf6",
   "metadata": {},
   "source": [
    "---"
   ]
  },
  {
   "cell_type": "markdown",
   "id": "15676c08-71b4-4002-8d9e-124474e88eed",
   "metadata": {
    "jp-MarkdownHeadingCollapsed": true
   },
   "source": [
    "# isEmpty()\n",
    "> JDK 11"
   ]
  },
  {
   "cell_type": "markdown",
   "id": "837e90b2-103a-4a70-973c-54f200288d8e",
   "metadata": {},
   "source": [
    "---"
   ]
  }
 ],
 "metadata": {
  "kernelspec": {
   "display_name": "Java",
   "language": "java",
   "name": "java"
  },
  "language_info": {
   "codemirror_mode": "java",
   "file_extension": ".jshell",
   "mimetype": "text/x-java-source",
   "name": "Java",
   "pygments_lexer": "java",
   "version": "17.0.6+10-jvmci-22.3-b13"
  },
  "widgets": {
   "application/vnd.jupyter.widget-state+json": {
    "state": {},
    "version_major": 2,
    "version_minor": 0
   }
  }
 },
 "nbformat": 4,
 "nbformat_minor": 5
}
