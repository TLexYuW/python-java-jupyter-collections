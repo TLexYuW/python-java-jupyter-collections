{
 "cells": [
  {
   "cell_type": "markdown",
   "id": "b2726a56-3b40-4834-a02c-b656e65bfcdc",
   "metadata": {},
   "source": [
    "# Dependency"
   ]
  },
  {
   "cell_type": "code",
   "execution_count": 2,
   "id": "4d63c5e3-ab4d-4f0d-95a6-497b47974361",
   "metadata": {},
   "outputs": [],
   "source": [
    "// code"
   ]
  },
  {
   "cell_type": "markdown",
   "id": "3b17cdda-7301-48e3-891e-bad344e5c518",
   "metadata": {},
   "source": [
    "---"
   ]
  },
  {
   "cell_type": "markdown",
   "id": "b586c61a-0569-4f79-9379-d5f39fcc56e0",
   "metadata": {},
   "source": [
    "# Import"
   ]
  },
  {
   "cell_type": "code",
   "execution_count": 8,
   "id": "ddeb29e0-d720-4d0d-ab65-7f0d1c66f97f",
   "metadata": {},
   "outputs": [],
   "source": [
    "import java.util.*;\n",
    "\n",
    "import static java.lang.System.out;"
   ]
  },
  {
   "cell_type": "markdown",
   "id": "390c3dcb-7d28-419a-8d49-132783ebcfe8",
   "metadata": {},
   "source": [
    "---"
   ]
  },
  {
   "cell_type": "markdown",
   "id": "7786c1b8-cac4-4a3c-8f84-a52cae22f434",
   "metadata": {},
   "source": [
    "# TOC"
   ]
  },
  {
   "cell_type": "markdown",
   "id": "fa95e170-4939-44f9-bbd2-b17db52d3076",
   "metadata": {},
   "source": [
    "- `unmodifiableCollection()`\n",
    "- `synchronizedXXX()`"
   ]
  },
  {
   "cell_type": "markdown",
   "id": "7d2dd2fb-c4a2-4919-a546-d8e641b8df1b",
   "metadata": {},
   "source": [
    "---"
   ]
  },
  {
   "cell_type": "markdown",
   "id": "bc603df6-ec41-496e-be14-6e754e2c8cca",
   "metadata": {},
   "source": [
    "# Setup\n",
    "- [Model](#Model)\n",
    "- [Utils](#Utils)"
   ]
  },
  {
   "cell_type": "markdown",
   "id": "f3c9ed26-fab7-48c1-a2f3-7fb026c6a4fe",
   "metadata": {},
   "source": [
    "## Model"
   ]
  },
  {
   "cell_type": "code",
   "execution_count": null,
   "id": "62674650-a321-4723-b6c0-e6024d1d4db1",
   "metadata": {},
   "outputs": [],
   "source": []
  },
  {
   "cell_type": "markdown",
   "id": "fd870383-681a-4e7e-90c2-bbbdcae72a23",
   "metadata": {},
   "source": [
    "## Utils"
   ]
  },
  {
   "cell_type": "code",
   "execution_count": null,
   "id": "8ad0a488-3f68-45d1-be1d-d98aae7c1194",
   "metadata": {},
   "outputs": [],
   "source": []
  },
  {
   "cell_type": "markdown",
   "id": "817ab187-98d7-4cf3-a1ba-27ecf1cc08f2",
   "metadata": {},
   "source": [
    "---"
   ]
  },
  {
   "cell_type": "markdown",
   "id": "506af136-7884-4e1d-a3d3-39635e79acb9",
   "metadata": {},
   "source": [
    "# `unmodifiableCollection()`"
   ]
  },
  {
   "cell_type": "code",
   "execution_count": 9,
   "id": "a87e28b7-9cbc-41f2-b396-53396e48556a",
   "metadata": {},
   "outputs": [
    {
     "ename": "EvalException",
     "evalue": "null",
     "output_type": "error",
     "traceback": [
      "\u001b[1m\u001b[31m---------------------------------------------------------------------------\u001b[0m",
      "\u001b[1m\u001b[31mjava.lang.UnsupportedOperationException: null\u001b[0m",
      "\u001b[1m\u001b[31m\tat java.base/java.util.Collections$UnmodifiableCollection.add(Collections.java:1067)\u001b[0m",
      "\u001b[1m\u001b[31m\tat .(#26:1)\u001b[0m"
     ]
    }
   ],
   "source": [
    "List<String> list = new ArrayList<>();\n",
    "list.add(\"x\");\n",
    "\n",
    "Collection<String> unmodifiabledCollection = Collections.unmodifiableCollection(list);\n",
    "\n",
    "unmodifiabledCollection.add(\"y\"); // error\n",
    "\n",
    "System.out.println(unmodifiabledCollection.size());"
   ]
  },
  {
   "cell_type": "markdown",
   "id": "1ac12cef-22a3-4726-b98a-d8ba0e7182b1",
   "metadata": {},
   "source": [
    "---"
   ]
  },
  {
   "cell_type": "code",
   "execution_count": null,
   "id": "be1f62cc-60fb-4939-ac4a-e4616890c1d0",
   "metadata": {},
   "outputs": [],
   "source": []
  }
 ],
 "metadata": {
  "kernelspec": {
   "display_name": "Java",
   "language": "java",
   "name": "java"
  },
  "language_info": {
   "codemirror_mode": "java",
   "file_extension": ".jshell",
   "mimetype": "text/x-java-source",
   "name": "Java",
   "pygments_lexer": "java",
   "version": "17.0.6+10-jvmci-22.3-b13"
  },
  "widgets": {
   "application/vnd.jupyter.widget-state+json": {
    "state": {},
    "version_major": 2,
    "version_minor": 0
   }
  }
 },
 "nbformat": 4,
 "nbformat_minor": 5
}
