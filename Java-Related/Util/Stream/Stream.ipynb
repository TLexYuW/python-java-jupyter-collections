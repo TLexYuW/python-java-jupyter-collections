{
 "cells": [
  {
   "cell_type": "markdown",
   "id": "d0143813-e78f-4e5a-966f-779925933541",
   "metadata": {},
   "source": [
    "# Import"
   ]
  },
  {
   "cell_type": "code",
   "execution_count": 22,
   "id": "81ea9130-7cbe-43a6-a8b7-19fc8bb65a0d",
   "metadata": {},
   "outputs": [],
   "source": [
    "import java.util.stream.Stream;\n",
    "import java.util.function.*;\n",
    "import java.util.Collection.*;\n",
    "import java.util.stream.Collectors;\n",
    "import java.nio.file.Files;\n",
    "import java.nio.file.*;\n",
    "import java.io.File.*;\n",
    "import java.nio.charset.StandardCharsets;"
   ]
  },
  {
   "cell_type": "markdown",
   "id": "033f7c83-3213-4c57-9b6a-dc3eb95b8980",
   "metadata": {},
   "source": [
    "---"
   ]
  },
  {
   "cell_type": "markdown",
   "id": "41802b25-61a8-49aa-b514-3e47da242159",
   "metadata": {},
   "source": [
    "# Setup"
   ]
  },
  {
   "cell_type": "code",
   "execution_count": 85,
   "id": "fc7714ef-131b-4e1b-922f-c1889ef7a005",
   "metadata": {},
   "outputs": [],
   "source": [
    "Supplier<Stream<Integer>> intStreamSupplier = () -> Stream.of(1,2,2,3,4,5,5,6,7,8,9,9,9,10,10);\n",
    "List<String> someList = Arrays.asList(\"x,y,z\", \"999,666,333\");\n",
    "List<Integer> numbers = Arrays.asList(1, 2, 3, 4, 5, 6, 7, 8, 9, 10, 11, 12, 13, 14, 15, 16, 17, 18, 19, 20, 21, 22, 23, 24);"
   ]
  },
  {
   "cell_type": "code",
   "execution_count": 24,
   "id": "96745a3b-ce33-4a73-9331-8bfa732cf482",
   "metadata": {},
   "outputs": [],
   "source": [
    "public class Thing{\n",
    "    private int id;\n",
    "    private int thingNum;\n",
    "\n",
    "    public Thing(int id, int thingNum) {\n",
    "        this.id = id;\n",
    "\t\tthis.thingNum = thingNum;\n",
    "\t}\n",
    "\n",
    "    public void setThingNum(int thingNum){\n",
    "         this.thingNum = thingNum;\n",
    "    }\n",
    "    \n",
    "    public int getThingNum() {\n",
    "\t\treturn this.thingNum;\n",
    "\t}\n",
    "    \n",
    "    public void setId(int id){\n",
    "         this.id = id;\n",
    "    }\n",
    "    \n",
    "    public int getId() {\n",
    "\t\treturn this.id;\n",
    "\t}\n",
    "\n",
    "    @Override\n",
    "    public String toString(){\n",
    "        return \"thing's id = \" + id + \" and number = \" + thingNum;\n",
    "    }\n",
    "}"
   ]
  },
  {
   "cell_type": "code",
   "execution_count": 25,
   "id": "14d4db25-7a77-4242-ab87-8259d2ddef54",
   "metadata": {},
   "outputs": [],
   "source": [
    "Thing t1 = new Thing(1, 100);\n",
    "Thing t2 = new Thing(2, 50);\n",
    "Supplier<Stream<Thing>> things = () -> Stream.of(t1, t2);"
   ]
  },
  {
   "cell_type": "code",
   "execution_count": 26,
   "id": "049409a8-ac8c-4666-91d8-c586fa44cda0",
   "metadata": {},
   "outputs": [],
   "source": [
    "import java.util.ArrayList;\n",
    "import java.util.List;\n",
    "\n",
    "public class Person implements Comparable<Person> {\n",
    "    private String name;\n",
    "    private Integer age;\n",
    "    private Double salary;\n",
    "    private String title;\n",
    "    private String gender;\n",
    "    private String area;\n",
    "\n",
    "    public Person(String name, Integer age, Double salary, String title, String gender, String area) {\n",
    "        this.name = name;\n",
    "        this.age = age;\n",
    "        this.salary = salary;\n",
    "        this.title = title;\n",
    "        this.gender = gender;\n",
    "        this.area = area;\n",
    "    }\n",
    "\n",
    "    public String getName() {\n",
    "        return name;\n",
    "    }\n",
    "\n",
    "    public void setName(String name) {\n",
    "        this.name = name;\n",
    "    }\n",
    "\n",
    "    public Integer getAge() {\n",
    "        return age;\n",
    "    }\n",
    "\n",
    "    public void setAge(Integer age) {\n",
    "        this.age = age;\n",
    "    }\n",
    "\n",
    "    public Double getSalary() {\n",
    "        return salary;\n",
    "    }\n",
    "\n",
    "    public void setSalary(Double salary) {\n",
    "        this.salary = salary;\n",
    "    }\n",
    "\n",
    "    public String getTitle() {\n",
    "        return title;\n",
    "    }\n",
    "\n",
    "    public void setTitle(String title) {\n",
    "        this.title = title;\n",
    "    }\n",
    "\n",
    "    public String getGender() {\n",
    "        return gender;\n",
    "    }\n",
    "\n",
    "    public void setGender(String gender) {\n",
    "        this.gender = gender;\n",
    "    }\n",
    "\n",
    "    public String getArea() {\n",
    "        return area;\n",
    "    }\n",
    "\n",
    "    public void setArea(String area) {\n",
    "        this.area = area;\n",
    "    }\n",
    "\n",
    "    @Override\n",
    "    public String toString() {\n",
    "        return \"Person{\" +\n",
    "                \"name='\" + name + '\\'' +\n",
    "                \", age=\" + age +\n",
    "                \", salary=\" + salary +\n",
    "                \", title='\" + title + '\\'' +\n",
    "                \", gender='\" + gender + '\\'' +\n",
    "                \", area='\" + area + '\\'' +\n",
    "                '}';\n",
    "    }\n",
    "    \n",
    "    @Override\n",
    "    public int compareTo(Person otherPerson) {\n",
    "        int ageComparison = this.age.compareTo(otherPerson.age);\n",
    "        if (ageComparison != 0) {\n",
    "            return ageComparison;\n",
    "        }\n",
    "\n",
    "        return this.salary.compareTo(otherPerson.salary);\n",
    "    }\n",
    "}"
   ]
  },
  {
   "cell_type": "code",
   "execution_count": 27,
   "id": "5cc80845-edb4-4eae-b75b-242eb68d953b",
   "metadata": {},
   "outputs": [],
   "source": [
    "static List<Person> personList = new ArrayList<Person>();\n",
    "\n",
    "private static void initPerson() {\n",
    "    personList.add(new Person(\"User-A\", 18, 3000.0, \"FronEnd\", \"Male\", \"A Region\"));\n",
    "    personList.add(new Person(\"User-B\", 28, 5000.0, \"UI/UX\", \"FeMale\", \"B Region\"));\n",
    "    personList.add(new Person(\"User-C\", 38, 7000.0, \"BackEnd\", \"Male\", \"C Region\"));\n",
    "    personList.add(new Person(\"User-D\", 58, 10000.0, \"Manager\", \"Male\", \"A Region\"));\n",
    "    personList.add(new Person(\"User-E\", 32, 6500.0, \"3D\", \"FeMale\", \"C Region\"));\n",
    "\n",
    "}\n",
    "initPerson();"
   ]
  },
  {
   "cell_type": "code",
   "execution_count": 28,
   "id": "5d0fb79c",
   "metadata": {},
   "outputs": [],
   "source": [
    "public class Employee {\n",
    "    private int id;\n",
    "    private String name;\n",
    "    private double salary;\n",
    "\n",
    "    public Employee(int id, String name, double salary) {\n",
    "        this.id = id;\n",
    "        this.name = name;\n",
    "        this.salary = salary;\n",
    "    }\n",
    "\n",
    "    // Getter methods\n",
    "    public int getId() {\n",
    "        return id;\n",
    "    }\n",
    "\n",
    "    public String getName() {\n",
    "        return name;\n",
    "    }\n",
    "\n",
    "    public double getSalary() {\n",
    "        return salary;\n",
    "    }\n",
    "\n",
    "    // Setter methods\n",
    "    public void setId(int id) {\n",
    "        this.id = id;\n",
    "    }\n",
    "\n",
    "    public void setName(String name) {\n",
    "        this.name = name;\n",
    "    }\n",
    "\n",
    "    public void setSalary(double salary) {\n",
    "        this.salary = salary;\n",
    "    }\n",
    "\n",
    "    @Override\n",
    "    public String toString() {\n",
    "        return \"Employee{\" +\n",
    "                \"id=\" + id +\n",
    "                \", name='\" + name + '\\'' +\n",
    "                \", salary=\" + salary +\n",
    "                '}';\n",
    "    }\n",
    "}"
   ]
  },
  {
   "cell_type": "code",
   "execution_count": 29,
   "id": "5f5ea2ae",
   "metadata": {},
   "outputs": [],
   "source": [
    "private static Employee[] arrayOfEmps = {\n",
    "    new Employee(1, \"Jeff Bezos\", 100000.0), \n",
    "    new Employee(2, \"Bill Gates\", 200000.0), \n",
    "    new Employee(3, \"Mark Zuckerberg\", 300000.0)\n",
    "};\n",
    "Stream empsStream = Stream.of(arrayOfEmps);"
   ]
  },
  {
   "cell_type": "markdown",
   "id": "1b935757-74fc-454c-9053-e30e0ed5aac5",
   "metadata": {},
   "source": [
    "---"
   ]
  },
  {
   "cell_type": "markdown",
   "id": "29c209b5-4f87-474c-9e6c-e3a36fa88229",
   "metadata": {},
   "source": [
    "# TOC"
   ]
  },
  {
   "cell_type": "markdown",
   "id": "a22c1a0d-65d8-4a82-8325-e34048f33928",
   "metadata": {},
   "source": [
    "- [Create Stream](#create-stream)\n",
    "- [Stream IO](#Stream-IO)"
   ]
  },
  {
   "cell_type": "markdown",
   "id": "01502c79-9751-49b5-8c09-d5a73868571c",
   "metadata": {},
   "source": [
    "---"
   ]
  },
  {
   "cell_type": "markdown",
   "id": "e4971b5c-11dc-495e-a109-4e808e652de0",
   "metadata": {
    "jp-MarkdownHeadingCollapsed": true
   },
   "source": [
    "# Create Stream"
   ]
  },
  {
   "cell_type": "markdown",
   "id": "3b8cfb4e-3026-469e-a9e9-9e8c566be54f",
   "metadata": {},
   "source": [
    "#### Use Collection"
   ]
  },
  {
   "cell_type": "code",
   "execution_count": 30,
   "id": "274acea3-a300-4906-8db4-f69f83d5f54c",
   "metadata": {},
   "outputs": [],
   "source": [
    "List<String> list = new ArrayList(Arrays.asList(intStreamSupplier.get().toArray()));\n",
    "Stream<String> stream = list.stream();\n",
    "Stream<String> parallelStream = list.parallelStream();"
   ]
  },
  {
   "cell_type": "markdown",
   "id": "e1cf21bc-8bff-4363-9fe9-5242765a83e0",
   "metadata": {},
   "source": [
    "#### Use Arrays"
   ]
  },
  {
   "cell_type": "code",
   "execution_count": 31,
   "id": "c12c3bd2-024c-4900-a790-6f572060c502",
   "metadata": {},
   "outputs": [
    {
     "name": "stdout",
     "output_type": "stream",
     "text": [
      "54321"
     ]
    }
   ],
   "source": [
    "Integer[] nums = new Integer[]{5,4,3,2,1};\n",
    "Stream<Integer> stream = Arrays.stream(nums);\n",
    "stream.forEach(System.out::print);"
   ]
  },
  {
   "cell_type": "markdown",
   "id": "1047e009-f8aa-4aab-a414-9f1c68ba5a76",
   "metadata": {},
   "source": [
    "#### Use Stream"
   ]
  },
  {
   "cell_type": "code",
   "execution_count": 32,
   "id": "76c2dfb4-012b-4a8f-9545-0fe76b721ee1",
   "metadata": {},
   "outputs": [
    {
     "name": "stdout",
     "output_type": "stream",
     "text": [
      "123456"
     ]
    }
   ],
   "source": [
    "Stream<Integer> stream = Stream.of(1,2,3,4,5,6);\n",
    "stream.forEach(System.out::print);"
   ]
  },
  {
   "cell_type": "code",
   "execution_count": 33,
   "id": "24dc3b0f-168f-4c94-8617-ca107d0aa7d6",
   "metadata": {},
   "outputs": [
    {
     "name": "stdout",
     "output_type": "stream",
     "text": [
      "1\n",
      "3\n",
      "5\n",
      "7\n",
      "9\n"
     ]
    }
   ],
   "source": [
    "Stream<Integer> stream2 = Stream.iterate(1, (x) -> x + 2).limit(5);\n",
    "stream2.forEach(System.out::println);"
   ]
  },
  {
   "cell_type": "code",
   "execution_count": 34,
   "id": "f2165138-5493-4cd3-818d-b8f3827891bc",
   "metadata": {},
   "outputs": [
    {
     "name": "stdout",
     "output_type": "stream",
     "text": [
      "0.19961547516033984\n",
      "0.9279819764189069\n"
     ]
    }
   ],
   "source": [
    "Stream<Double> stream3 = Stream.generate(Math::random).limit(2);\n",
    "stream3.forEach(System.out::println);"
   ]
  },
  {
   "cell_type": "markdown",
   "id": "a8974da1-efb8-42d2-8a8b-5557a76f9c05",
   "metadata": {},
   "source": [
    "#### Use `BufferReader.lines()`"
   ]
  },
  {
   "cell_type": "code",
   "execution_count": 35,
   "id": "0e6b9ac7-a087-4be3-b176-4a275ae05161",
   "metadata": {},
   "outputs": [
    {
     "name": "stdout",
     "output_type": "stream",
     "text": [
      "I delete all of the context\n"
     ]
    }
   ],
   "source": [
    "BufferedReader reader = new BufferedReader(new FileReader(\"../../datasets/others/context.txt\"));\n",
    "Stream<String> lineStream = reader.lines();\n",
    "lineStream.forEach(System.out::println);"
   ]
  },
  {
   "cell_type": "markdown",
   "id": "b94724b2-9866-4164-9330-04e9a95251c2",
   "metadata": {},
   "source": [
    "#### Use `Pattern.splitAsStream()`"
   ]
  },
  {
   "cell_type": "code",
   "execution_count": 36,
   "id": "a3db878d-64b7-4939-8114-1a6cbef8c608",
   "metadata": {},
   "outputs": [
    {
     "name": "stdout",
     "output_type": "stream",
     "text": [
      "Neque\n",
      "porro\n",
      "quisquam\n",
      "est\n",
      "qui\n",
      "dolorem\n",
      "ipsum\n",
      "quia\n",
      "dolor\n",
      "sit\n",
      "amet,\n",
      "consectetur,\n",
      "adipisci\n",
      "velit...\n"
     ]
    }
   ],
   "source": [
    "Pattern pattern = Pattern.compile(\" \");\n",
    "Stream<String> stringStream = pattern.splitAsStream(\"Neque porro quisquam est qui dolorem ipsum quia dolor sit amet, consectetur, adipisci velit...\");\n",
    "stringStream.forEach(System.out::println);"
   ]
  },
  {
   "cell_type": "markdown",
   "id": "234e961d-ead0-48c2-bd8d-7162c69cd9c1",
   "metadata": {},
   "source": [
    "---"
   ]
  },
  {
   "cell_type": "markdown",
   "id": "91ad20fd-ec02-4be8-be06-9207a3c40bd4",
   "metadata": {},
   "source": [
    "# Stream IO"
   ]
  },
  {
   "cell_type": "code",
   "execution_count": 81,
   "id": "c5bbd116-c494-4d5c-ae50-79010dc161ba",
   "metadata": {},
   "outputs": [
    {
     "name": "stdout",
     "output_type": "stream",
     "text": [
      "Dave\n",
      "Jane\n",
      "Eddie\n",
      "Jimmie\n",
      "Done!\n"
     ]
    }
   ],
   "source": [
    "String fileName = \"../../datasets/others/names.txt\";\n",
    "Path path = new File(fileName).toPath();\n",
    "try(Stream<String> lines = Files.lines(path, StandardCharsets.UTF_8)){\n",
    "    lines.onClose(() -> System.out.println(\"Done!\")).forEach(System.out::println);   \n",
    "}catch(Exception ex){\n",
    "    ex.printStackTrace();\n",
    "}"
   ]
  },
  {
   "cell_type": "code",
   "execution_count": null,
   "id": "8802ea6c-d74e-4d17-97be-3d7d198d9e9f",
   "metadata": {},
   "outputs": [],
   "source": []
  }
 ],
 "metadata": {
  "kernelspec": {
   "display_name": "Java",
   "language": "java",
   "name": "java"
  },
  "language_info": {
   "codemirror_mode": "java",
   "file_extension": ".jshell",
   "mimetype": "text/x-java-source",
   "name": "java",
   "pygments_lexer": "java",
   "version": "17.0.6+10-jvmci-22.3-b13"
  },
  "widgets": {
   "application/vnd.jupyter.widget-state+json": {
    "state": {},
    "version_major": 2,
    "version_minor": 0
   }
  }
 },
 "nbformat": 4,
 "nbformat_minor": 5
}
