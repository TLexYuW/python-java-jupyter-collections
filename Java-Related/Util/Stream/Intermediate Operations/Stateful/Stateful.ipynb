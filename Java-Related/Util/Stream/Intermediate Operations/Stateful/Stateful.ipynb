{
 "cells": [
  {
   "cell_type": "markdown",
   "id": "d0143813-e78f-4e5a-966f-779925933541",
   "metadata": {},
   "source": [
    "# Import"
   ]
  },
  {
   "cell_type": "code",
   "execution_count": 10,
   "id": "81ea9130-7cbe-43a6-a8b7-19fc8bb65a0d",
   "metadata": {
    "notebookRunGroups": {
     "groupValue": "1"
    }
   },
   "outputs": [],
   "source": [
    "import java.util.stream.Stream;\n",
    "import java.util.function.*;\n",
    "import java.util.Collection.*;\n",
    "import java.util.stream.Collectors;\n",
    "import java.nio.file.Files;\n",
    "import java.nio.file.*;\n",
    "import java.io.File.*;\n",
    "import java.nio.charset.StandardCharsets;"
   ]
  },
  {
   "cell_type": "markdown",
   "id": "033f7c83-3213-4c57-9b6a-dc3eb95b8980",
   "metadata": {},
   "source": [
    "---"
   ]
  },
  {
   "cell_type": "markdown",
   "id": "6a838d3f",
   "metadata": {},
   "source": [
    "# Setup"
   ]
  },
  {
   "cell_type": "code",
   "execution_count": 11,
   "id": "b32d5ca3",
   "metadata": {
    "notebookRunGroups": {
     "groupValue": "1"
    }
   },
   "outputs": [],
   "source": [
    "Supplier<Stream<Integer>> intStreamSupplier = () -> Stream.of(1,2,2,3,4,5,5,6,7,8,9,9,9,10,10);\n",
    "List<String> someList = Arrays.asList(\"x,y,z\", \"999,666,333\");\n",
    "List<Integer> numbers = Arrays.asList(1, 2, 3, 4, 5, 6, 7, 8, 9, 10, 11, 12, 13, 14, 15, 16, 17, 18, 19, 20, 21, 22, 23, 24);"
   ]
  },
  {
   "cell_type": "code",
   "execution_count": 12,
   "id": "8a2eec2c",
   "metadata": {
    "notebookRunGroups": {
     "groupValue": "1"
    }
   },
   "outputs": [],
   "source": [
    "public class Thing{\n",
    "    private int id;\n",
    "    private int thingNum;\n",
    "\n",
    "    public Thing(int id, int thingNum) {\n",
    "        this.id = id;\n",
    "\t\tthis.thingNum = thingNum;\n",
    "\t}\n",
    "\n",
    "    public void setThingNum(int thingNum){\n",
    "         this.thingNum = thingNum;\n",
    "    }\n",
    "    \n",
    "    public int getThingNum() {\n",
    "\t\treturn this.thingNum;\n",
    "\t}\n",
    "    \n",
    "    public void setId(int id){\n",
    "         this.id = id;\n",
    "    }\n",
    "    \n",
    "    public int getId() {\n",
    "\t\treturn this.id;\n",
    "\t}\n",
    "\n",
    "    @Override\n",
    "    public String toString(){\n",
    "        return \"thing's id = \" + id + \" and number = \" + thingNum;\n",
    "    }\n",
    "}"
   ]
  },
  {
   "cell_type": "code",
   "execution_count": 13,
   "id": "9f2e059e",
   "metadata": {
    "notebookRunGroups": {
     "groupValue": "1"
    }
   },
   "outputs": [],
   "source": [
    "Thing t1 = new Thing(1, 100);\n",
    "Thing t2 = new Thing(2, 50);\n",
    "Supplier<Stream<Thing>> things = () -> Stream.of(t1, t2);"
   ]
  },
  {
   "cell_type": "code",
   "execution_count": 14,
   "id": "d9b62a1a",
   "metadata": {
    "notebookRunGroups": {
     "groupValue": "1"
    }
   },
   "outputs": [],
   "source": [
    "import java.util.ArrayList;\n",
    "import java.util.List;\n",
    "\n",
    "public class Person implements Comparable<Person> {\n",
    "    private String name;\n",
    "    private Integer age;\n",
    "    private Double salary;\n",
    "    private String title;\n",
    "    private String gender;\n",
    "    private String area;\n",
    "\n",
    "    public Person(String name, Integer age, Double salary, String title, String gender, String area) {\n",
    "        this.name = name;\n",
    "        this.age = age;\n",
    "        this.salary = salary;\n",
    "        this.title = title;\n",
    "        this.gender = gender;\n",
    "        this.area = area;\n",
    "    }\n",
    "\n",
    "    public String getName() {\n",
    "        return name;\n",
    "    }\n",
    "\n",
    "    public void setName(String name) {\n",
    "        this.name = name;\n",
    "    }\n",
    "\n",
    "    public Integer getAge() {\n",
    "        return age;\n",
    "    }\n",
    "\n",
    "    public void setAge(Integer age) {\n",
    "        this.age = age;\n",
    "    }\n",
    "\n",
    "    public Double getSalary() {\n",
    "        return salary;\n",
    "    }\n",
    "\n",
    "    public void setSalary(Double salary) {\n",
    "        this.salary = salary;\n",
    "    }\n",
    "\n",
    "    public String getTitle() {\n",
    "        return title;\n",
    "    }\n",
    "\n",
    "    public void setTitle(String title) {\n",
    "        this.title = title;\n",
    "    }\n",
    "\n",
    "    public String getGender() {\n",
    "        return gender;\n",
    "    }\n",
    "\n",
    "    public void setGender(String gender) {\n",
    "        this.gender = gender;\n",
    "    }\n",
    "\n",
    "    public String getArea() {\n",
    "        return area;\n",
    "    }\n",
    "\n",
    "    public void setArea(String area) {\n",
    "        this.area = area;\n",
    "    }\n",
    "\n",
    "    @Override\n",
    "    public String toString() {\n",
    "        return \"Person{\" +\n",
    "                \"name='\" + name + '\\'' +\n",
    "                \", age=\" + age +\n",
    "                \", salary=\" + salary +\n",
    "                \", title='\" + title + '\\'' +\n",
    "                \", gender='\" + gender + '\\'' +\n",
    "                \", area='\" + area + '\\'' +\n",
    "                '}';\n",
    "    }\n",
    "    \n",
    "    @Override\n",
    "    public int compareTo(Person otherPerson) {\n",
    "        int ageComparison = this.age.compareTo(otherPerson.age);\n",
    "        if (ageComparison != 0) {\n",
    "            return ageComparison;\n",
    "        }\n",
    "\n",
    "        return this.salary.compareTo(otherPerson.salary);\n",
    "    }\n",
    "}"
   ]
  },
  {
   "cell_type": "code",
   "execution_count": 15,
   "id": "9382a049",
   "metadata": {
    "notebookRunGroups": {
     "groupValue": "1"
    }
   },
   "outputs": [],
   "source": [
    "static List<Person> personList = new ArrayList<Person>();\n",
    "\n",
    "private static void initPerson() {\n",
    "    personList.add(new Person(\"User-A\", 18, 3000.0, \"FronEnd\", \"Male\", \"A Region\"));\n",
    "    personList.add(new Person(\"User-B\", 28, 5000.0, \"UI/UX\", \"FeMale\", \"B Region\"));\n",
    "    personList.add(new Person(\"User-C\", 38, 7000.0, \"BackEnd\", \"Male\", \"C Region\"));\n",
    "    personList.add(new Person(\"User-D\", 58, 10000.0, \"Manager\", \"Male\", \"A Region\"));\n",
    "    personList.add(new Person(\"User-E\", 32, 6500.0, \"3D\", \"FeMale\", \"C Region\"));\n",
    "\n",
    "}\n",
    "initPerson();"
   ]
  },
  {
   "cell_type": "code",
   "execution_count": 16,
   "id": "1e102dde",
   "metadata": {
    "notebookRunGroups": {
     "groupValue": "1"
    }
   },
   "outputs": [],
   "source": [
    "public class Employee {\n",
    "    private int id;\n",
    "    private String name;\n",
    "    private double salary;\n",
    "\n",
    "    public Employee(int id, String name, double salary) {\n",
    "        this.id = id;\n",
    "        this.name = name;\n",
    "        this.salary = salary;\n",
    "    }\n",
    "\n",
    "    // Getter methods\n",
    "    public int getId() {\n",
    "        return id;\n",
    "    }\n",
    "\n",
    "    public String getName() {\n",
    "        return name;\n",
    "    }\n",
    "\n",
    "    public double getSalary() {\n",
    "        return salary;\n",
    "    }\n",
    "\n",
    "    // Setter methods\n",
    "    public void setId(int id) {\n",
    "        this.id = id;\n",
    "    }\n",
    "\n",
    "    public void setName(String name) {\n",
    "        this.name = name;\n",
    "    }\n",
    "\n",
    "    public void setSalary(double salary) {\n",
    "        this.salary = salary;\n",
    "    }\n",
    "\n",
    "    @Override\n",
    "    public String toString() {\n",
    "        return \"Employee{\" +\n",
    "                \"id=\" + id +\n",
    "                \", name='\" + name + '\\'' +\n",
    "                \", salary=\" + salary +\n",
    "                '}';\n",
    "    }\n",
    "}"
   ]
  },
  {
   "cell_type": "code",
   "execution_count": 17,
   "id": "7020730f",
   "metadata": {
    "notebookRunGroups": {
     "groupValue": "1"
    }
   },
   "outputs": [],
   "source": [
    "private static Employee[] arrayOfEmps = {\n",
    "    new Employee(1, \"Jeff Bezos\", 100000.0), \n",
    "    new Employee(2, \"Bill Gates\", 200000.0), \n",
    "    new Employee(3, \"Mark Zuckerberg\", 300000.0)\n",
    "};\n",
    "Stream empsStream = Stream.of(arrayOfEmps);"
   ]
  },
  {
   "cell_type": "markdown",
   "id": "1b935757-74fc-454c-9053-e30e0ed5aac5",
   "metadata": {},
   "source": [
    "---"
   ]
  },
  {
   "cell_type": "markdown",
   "id": "29c209b5-4f87-474c-9e6c-e3a36fa88229",
   "metadata": {},
   "source": [
    "# TOC"
   ]
  },
  {
   "cell_type": "markdown",
   "id": "0db224b8-9272-4592-bd86-da6398e36307",
   "metadata": {},
   "source": [
    "- [`distinct()`](#distinct())\n",
    "- [`sorted()`](#sorted())\n",
    "- [`limit()`](#limit())\n",
    "- [`skip()`](#skip())"
   ]
  },
  {
   "cell_type": "markdown",
   "id": "01502c79-9751-49b5-8c09-d5a73868571c",
   "metadata": {},
   "source": [
    "---"
   ]
  },
  {
   "cell_type": "markdown",
   "id": "3e770a18",
   "metadata": {},
   "source": [
    "# Stateful"
   ]
  },
  {
   "cell_type": "markdown",
   "id": "2f2ebb00",
   "metadata": {},
   "source": [
    "### distinct()\n",
    "- 透過流中元素的 hashCode() 和 equals() 去除重複元素"
   ]
  },
  {
   "cell_type": "code",
   "execution_count": 18,
   "id": "3bd923f3",
   "metadata": {},
   "outputs": [
    {
     "name": "stdout",
     "output_type": "stream",
     "text": [
      "1\n",
      "2\n",
      "3\n",
      "4\n",
      "5\n",
      "6\n",
      "7\n",
      "8\n",
      "9\n",
      "10\n"
     ]
    }
   ],
   "source": [
    "intStreamSupplier.get().distinct().forEach(System.out::println);"
   ]
  },
  {
   "cell_type": "markdown",
   "id": "3315fcb1",
   "metadata": {},
   "source": [
    "### skip()\n",
    "- 略過n元素，配合`limit(n)`可實現分頁"
   ]
  },
  {
   "cell_type": "code",
   "execution_count": 19,
   "id": "a87277b6",
   "metadata": {},
   "outputs": [
    {
     "name": "stdout",
     "output_type": "stream",
     "text": [
      "10\n"
     ]
    }
   ],
   "source": [
    "intStreamSupplier.get().distinct().skip(9).forEach(System.out::println);"
   ]
  },
  {
   "cell_type": "markdown",
   "id": "be6276b1",
   "metadata": {},
   "source": [
    "### sorted()\n",
    "- sorted() 自然排序，流中元素需實作Comparable介面\n",
    "- sorted(Comparator com)：客製排序，自訂Comparator排序器"
   ]
  },
  {
   "cell_type": "code",
   "execution_count": 20,
   "id": "308f9928",
   "metadata": {},
   "outputs": [
    {
     "name": "stdout",
     "output_type": "stream",
     "text": [
      "[1, 2, 2, 3, 4, 5, 5, 6, 7, 8, 9, 9, 9, 10, 10]\n"
     ]
    }
   ],
   "source": [
    "List<Integer> nl = intStreamSupplier.get().sorted().toList();\n",
    "System.out.println(nl);"
   ]
  },
  {
   "cell_type": "code",
   "execution_count": 21,
   "id": "82389378",
   "metadata": {},
   "outputs": [
    {
     "name": "stdout",
     "output_type": "stream",
     "text": [
      "[10, 10, 9, 9, 9, 8, 7, 6, 5, 5, 4, 3, 2, 2, 1]\n"
     ]
    }
   ],
   "source": [
    "List<Integer> nl = intStreamSupplier.get().sorted((a,b) -> b.compareTo(a)).toList();\n",
    "System.out.println(nl);"
   ]
  },
  {
   "cell_type": "markdown",
   "id": "c667a491",
   "metadata": {},
   "source": [
    "---"
   ]
  }
 ],
 "metadata": {
  "kernelspec": {
   "display_name": "Java",
   "language": "java",
   "name": "java"
  },
  "language_info": {
   "codemirror_mode": "java",
   "file_extension": ".jshell",
   "mimetype": "text/x-java-source",
   "name": "java",
   "pygments_lexer": "java",
   "version": "17.0.6+10-jvmci-22.3-b13"
  },
  "widgets": {
   "application/vnd.jupyter.widget-state+json": {
    "state": {},
    "version_major": 2,
    "version_minor": 0
   }
  }
 },
 "nbformat": 4,
 "nbformat_minor": 5
}
