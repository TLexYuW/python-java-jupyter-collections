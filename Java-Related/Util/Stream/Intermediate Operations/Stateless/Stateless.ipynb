{
 "cells": [
  {
   "cell_type": "markdown",
   "id": "d0143813-e78f-4e5a-966f-779925933541",
   "metadata": {},
   "source": [
    "# Import"
   ]
  },
  {
   "cell_type": "code",
   "execution_count": 2,
   "id": "81ea9130-7cbe-43a6-a8b7-19fc8bb65a0d",
   "metadata": {
    "notebookRunGroups": {
     "groupValue": "1"
    },
    "vscode": {
     "languageId": "java"
    }
   },
   "outputs": [],
   "source": [
    "import java.util.stream.Stream;\n",
    "import java.util.function.*;\n",
    "import java.util.Collection.*;\n",
    "import java.util.stream.Collectors;\n",
    "import java.nio.file.Files;\n",
    "import java.nio.file.*;\n",
    "import java.io.File.*;\n",
    "import java.nio.charset.StandardCharsets;"
   ]
  },
  {
   "cell_type": "markdown",
   "id": "033f7c83-3213-4c57-9b6a-dc3eb95b8980",
   "metadata": {},
   "source": [
    "---"
   ]
  },
  {
   "cell_type": "markdown",
   "id": "6217814d",
   "metadata": {},
   "source": [
    "# Setup"
   ]
  },
  {
   "cell_type": "code",
   "execution_count": 3,
   "id": "79887dd8",
   "metadata": {
    "notebookRunGroups": {
     "groupValue": "1"
    },
    "vscode": {
     "languageId": "java"
    }
   },
   "outputs": [],
   "source": [
    "Supplier<Stream<Integer>> intStreamSupplier = () -> Stream.of(1,2,2,3,4,5,5,6,7,8,9,9,9,10,10);\n",
    "List<String> someList = Arrays.asList(\"x,y,z\", \"999,666,333\");\n",
    "List<Integer> numbers = Arrays.asList(1, 2, 3, 4, 5, 6, 7, 8, 9, 10, 11, 12, 13, 14, 15, 16, 17, 18, 19, 20, 21, 22, 23, 24);"
   ]
  },
  {
   "cell_type": "code",
   "execution_count": 4,
   "id": "36f902d5",
   "metadata": {
    "notebookRunGroups": {
     "groupValue": "1"
    },
    "vscode": {
     "languageId": "java"
    }
   },
   "outputs": [],
   "source": [
    "public class Thing{\n",
    "    private int id;\n",
    "    private int thingNum;\n",
    "\n",
    "    public Thing(int id, int thingNum) {\n",
    "        this.id = id;\n",
    "\t\tthis.thingNum = thingNum;\n",
    "\t}\n",
    "\n",
    "    public void setThingNum(int thingNum){\n",
    "         this.thingNum = thingNum;\n",
    "    }\n",
    "    \n",
    "    public int getThingNum() {\n",
    "\t\treturn this.thingNum;\n",
    "\t}\n",
    "    \n",
    "    public void setId(int id){\n",
    "         this.id = id;\n",
    "    }\n",
    "    \n",
    "    public int getId() {\n",
    "\t\treturn this.id;\n",
    "\t}\n",
    "\n",
    "    @Override\n",
    "    public String toString(){\n",
    "        return \"thing's id = \" + id + \" and number = \" + thingNum;\n",
    "    }\n",
    "}"
   ]
  },
  {
   "cell_type": "code",
   "execution_count": null,
   "id": "f4227a63",
   "metadata": {
    "notebookRunGroups": {
     "groupValue": ""
    },
    "vscode": {
     "languageId": "java"
    }
   },
   "outputs": [],
   "source": [
    "Thing t1 = new Thing(1, 100);\n",
    "Thing t2 = new Thing(2, 50);\n",
    "Supplier<Stream<Thing>> things = () -> Stream.of(t1, t2);"
   ]
  },
  {
   "cell_type": "code",
   "execution_count": 5,
   "id": "fa579fe6",
   "metadata": {
    "notebookRunGroups": {
     "groupValue": "1"
    },
    "vscode": {
     "languageId": "java"
    }
   },
   "outputs": [],
   "source": [
    "import java.util.ArrayList;\n",
    "import java.util.List;\n",
    "\n",
    "public class Person implements Comparable<Person> {\n",
    "    private String name;\n",
    "    private Integer age;\n",
    "    private Double salary;\n",
    "    private String title;\n",
    "    private String gender;\n",
    "    private String area;\n",
    "\n",
    "    public Person(String name, Integer age, Double salary, String title, String gender, String area) {\n",
    "        this.name = name;\n",
    "        this.age = age;\n",
    "        this.salary = salary;\n",
    "        this.title = title;\n",
    "        this.gender = gender;\n",
    "        this.area = area;\n",
    "    }\n",
    "\n",
    "    public String getName() {\n",
    "        return name;\n",
    "    }\n",
    "\n",
    "    public void setName(String name) {\n",
    "        this.name = name;\n",
    "    }\n",
    "\n",
    "    public Integer getAge() {\n",
    "        return age;\n",
    "    }\n",
    "\n",
    "    public void setAge(Integer age) {\n",
    "        this.age = age;\n",
    "    }\n",
    "\n",
    "    public Double getSalary() {\n",
    "        return salary;\n",
    "    }\n",
    "\n",
    "    public void setSalary(Double salary) {\n",
    "        this.salary = salary;\n",
    "    }\n",
    "\n",
    "    public String getTitle() {\n",
    "        return title;\n",
    "    }\n",
    "\n",
    "    public void setTitle(String title) {\n",
    "        this.title = title;\n",
    "    }\n",
    "\n",
    "    public String getGender() {\n",
    "        return gender;\n",
    "    }\n",
    "\n",
    "    public void setGender(String gender) {\n",
    "        this.gender = gender;\n",
    "    }\n",
    "\n",
    "    public String getArea() {\n",
    "        return area;\n",
    "    }\n",
    "\n",
    "    public void setArea(String area) {\n",
    "        this.area = area;\n",
    "    }\n",
    "\n",
    "    @Override\n",
    "    public String toString() {\n",
    "        return \"Person{\" +\n",
    "                \"name='\" + name + '\\'' +\n",
    "                \", age=\" + age +\n",
    "                \", salary=\" + salary +\n",
    "                \", title='\" + title + '\\'' +\n",
    "                \", gender='\" + gender + '\\'' +\n",
    "                \", area='\" + area + '\\'' +\n",
    "                '}';\n",
    "    }\n",
    "    \n",
    "    @Override\n",
    "    public int compareTo(Person otherPerson) {\n",
    "        int ageComparison = this.age.compareTo(otherPerson.age);\n",
    "        if (ageComparison != 0) {\n",
    "            return ageComparison;\n",
    "        }\n",
    "\n",
    "        return this.salary.compareTo(otherPerson.salary);\n",
    "    }\n",
    "}"
   ]
  },
  {
   "cell_type": "code",
   "execution_count": null,
   "id": "6cb92327",
   "metadata": {
    "notebookRunGroups": {
     "groupValue": ""
    },
    "vscode": {
     "languageId": "java"
    }
   },
   "outputs": [],
   "source": [
    "static List<Person> personList = new ArrayList<Person>();\n",
    "\n",
    "private static void initPerson() {\n",
    "    personList.add(new Person(\"User-A\", 18, 3000.0, \"FronEnd\", \"Male\", \"A Region\"));\n",
    "    personList.add(new Person(\"User-B\", 28, 5000.0, \"UI/UX\", \"FeMale\", \"B Region\"));\n",
    "    personList.add(new Person(\"User-C\", 38, 7000.0, \"BackEnd\", \"Male\", \"C Region\"));\n",
    "    personList.add(new Person(\"User-D\", 58, 10000.0, \"Manager\", \"Male\", \"A Region\"));\n",
    "    personList.add(new Person(\"User-E\", 32, 6500.0, \"3D\", \"FeMale\", \"C Region\"));\n",
    "\n",
    "}\n",
    "initPerson();"
   ]
  },
  {
   "cell_type": "code",
   "execution_count": 6,
   "id": "9309f5a5",
   "metadata": {
    "notebookRunGroups": {
     "groupValue": "1"
    },
    "vscode": {
     "languageId": "java"
    }
   },
   "outputs": [],
   "source": [
    "public class Employee {\n",
    "    private int id;\n",
    "    private String name;\n",
    "    private double salary;\n",
    "\n",
    "    public Employee(int id, String name, double salary) {\n",
    "        this.id = id;\n",
    "        this.name = name;\n",
    "        this.salary = salary;\n",
    "    }\n",
    "\n",
    "    // Getter methods\n",
    "    public int getId() {\n",
    "        return id;\n",
    "    }\n",
    "\n",
    "    public String getName() {\n",
    "        return name;\n",
    "    }\n",
    "\n",
    "    public double getSalary() {\n",
    "        return salary;\n",
    "    }\n",
    "\n",
    "    // Setter methods\n",
    "    public void setId(int id) {\n",
    "        this.id = id;\n",
    "    }\n",
    "\n",
    "    public void setName(String name) {\n",
    "        this.name = name;\n",
    "    }\n",
    "\n",
    "    public void setSalary(double salary) {\n",
    "        this.salary = salary;\n",
    "    }\n",
    "\n",
    "    @Override\n",
    "    public String toString() {\n",
    "        return \"Employee{\" +\n",
    "                \"id=\" + id +\n",
    "                \", name='\" + name + '\\'' +\n",
    "                \", salary=\" + salary +\n",
    "                '}';\n",
    "    }\n",
    "}"
   ]
  },
  {
   "cell_type": "code",
   "execution_count": 7,
   "id": "ac44f2a5",
   "metadata": {
    "notebookRunGroups": {
     "groupValue": "1"
    },
    "vscode": {
     "languageId": "java"
    }
   },
   "outputs": [],
   "source": [
    "private static Employee[] arrayOfEmps = {\n",
    "    new Employee(1, \"Jeff Bezos\", 100000.0), \n",
    "    new Employee(2, \"Bill Gates\", 200000.0), \n",
    "    new Employee(3, \"Mark Zuckerberg\", 300000.0)\n",
    "};\n",
    "Stream empsStream = Stream.of(arrayOfEmps);"
   ]
  },
  {
   "cell_type": "markdown",
   "id": "1b935757-74fc-454c-9053-e30e0ed5aac5",
   "metadata": {},
   "source": [
    "---"
   ]
  },
  {
   "cell_type": "markdown",
   "id": "29c209b5-4f87-474c-9e6c-e3a36fa88229",
   "metadata": {},
   "source": [
    "# TOC"
   ]
  },
  {
   "cell_type": "markdown",
   "id": "0db224b8-9272-4592-bd86-da6398e36307",
   "metadata": {},
   "source": [
    "- [`unordered()`](#unordered())\n",
    "- [`filter()`](#filter())\n",
    "- [`map()`](#map())\n",
    "- [`flatMap()`](#flatmap)\n",
    "- [`peek()`](#peek)\n",
    "- [`mapToInt()`](#mapToInt())\n",
    "- [`mapToLong()`](#mapToLong())\n",
    "- [`mapToDouble()`](#maptodouble)\n",
    "- [`flatMapToInt()`](#maptoint)\n",
    "- [`flatMapToLong()`](#flatmaptolong)\n",
    "- [`flatMapToDouble()`](#flatmaptodouble)\n",
    "- [`unordered()`](#unordered)"
   ]
  },
  {
   "cell_type": "markdown",
   "id": "01502c79-9751-49b5-8c09-d5a73868571c",
   "metadata": {},
   "source": [
    "---"
   ]
  },
  {
   "cell_type": "markdown",
   "id": "2082cc4c",
   "metadata": {},
   "source": [
    "# Stateless"
   ]
  },
  {
   "cell_type": "markdown",
   "id": "16e1ac15",
   "metadata": {},
   "source": [
    "### filter()"
   ]
  },
  {
   "cell_type": "code",
   "execution_count": null,
   "id": "111519dc",
   "metadata": {
    "vscode": {
     "languageId": "java"
    }
   },
   "outputs": [
    {
     "name": "stdout",
     "output_type": "stream",
     "text": [
      "2\n",
      "4\n",
      "6\n",
      "8\n",
      "10\n"
     ]
    }
   ],
   "source": [
    "intStreamSupplier.get().distinct().filter(e -> e % 2 == 0).forEach(System.out::println);"
   ]
  },
  {
   "cell_type": "markdown",
   "id": "f510b440",
   "metadata": {},
   "source": [
    "### map()"
   ]
  },
  {
   "cell_type": "code",
   "execution_count": null,
   "id": "50c1560b",
   "metadata": {
    "vscode": {
     "languageId": "java"
    }
   },
   "outputs": [
    {
     "name": "stdout",
     "output_type": "stream",
     "text": [
      "xyz\n",
      "999666333\n"
     ]
    }
   ],
   "source": [
    "Stream<String> s1 = someList.stream().map(s -> s.replaceAll(\",\", \"\"));\n",
    "s1.forEach(System.out::println);"
   ]
  },
  {
   "cell_type": "markdown",
   "id": "b8c77aab",
   "metadata": {},
   "source": [
    "### flatMap()"
   ]
  },
  {
   "cell_type": "code",
   "execution_count": null,
   "id": "e9b1f2dd",
   "metadata": {
    "vscode": {
     "languageId": "java"
    }
   },
   "outputs": [
    {
     "name": "stdout",
     "output_type": "stream",
     "text": [
      "[x,y,z, 999,666,333]\n",
      "[x, y, z, 999, 666, 333]\n",
      "x\n",
      "y\n",
      "z\n",
      "999\n",
      "666\n",
      "333\n"
     ]
    }
   ],
   "source": [
    "Supplier<Stream<String>> s3Supplier = () -> someList.stream().flatMap(s -> {\n",
    "    String[] split = s.split(\",\");\n",
    "    Stream<String> s2 = Arrays.stream(split);\n",
    "    return s2;\n",
    "});\n",
    "\n",
    "System.out.println(someList);\n",
    "System.out.println(s3Supplier.get().toList());\n",
    "s3Supplier.get().forEach(System.out::println);"
   ]
  },
  {
   "cell_type": "markdown",
   "id": "84569a66",
   "metadata": {},
   "source": [
    "#### vs map()"
   ]
  },
  {
   "cell_type": "code",
   "execution_count": null,
   "id": "33ada3d7",
   "metadata": {
    "vscode": {
     "languageId": "java"
    }
   },
   "outputs": [
    {
     "name": "stdout",
     "output_type": "stream",
     "text": [
      "Before flattening: [[1, 2, 3], [4, 5], [6, 7, 8]]\n"
     ]
    }
   ],
   "source": [
    "List<Integer> a = Arrays.asList(1, 2, 3);\n",
    "List<Integer> b = Arrays.asList(4, 5);\n",
    "List<Integer> c = Arrays.asList(6, 7, 8);\n",
    "\n",
    "List<List<Integer>> listOfListsOfInts = Arrays.asList(a, b, c);\n",
    "System.out.println(\"Before flattening: \" + listOfListsOfInts);"
   ]
  },
  {
   "cell_type": "code",
   "execution_count": null,
   "id": "7e9d7618",
   "metadata": {
    "vscode": {
     "languageId": "java"
    }
   },
   "outputs": [
    {
     "name": "stdout",
     "output_type": "stream",
     "text": [
      "map() Still : [[1, 2, 3], [4, 5], [6, 7, 8]]\n"
     ]
    }
   ],
   "source": [
    "List<List<Integer>> listOfInts1 = listOfListsOfInts.stream()\n",
    "        .map(list -> list.stream().collect(Collectors.toList()))\n",
    "        .collect(Collectors.toList());\n",
    "\n",
    "System.out.println(\"map() Still : \" + listOfInts1);"
   ]
  },
  {
   "cell_type": "markdown",
   "id": "17c4d04c",
   "metadata": {},
   "source": [
    "#### with flatMap()"
   ]
  },
  {
   "cell_type": "code",
   "execution_count": null,
   "id": "3144a8a4",
   "metadata": {
    "vscode": {
     "languageId": "java"
    }
   },
   "outputs": [
    {
     "name": "stdout",
     "output_type": "stream",
     "text": [
      "After flattening  : [1, 2, 3, 4, 5, 6, 7, 8]\n"
     ]
    }
   ],
   "source": [
    "List<Integer> listOfInts2 = listOfListsOfInts.stream()\n",
    "            .flatMap(Collection::stream)\n",
    "            .collect(Collectors.toList());\n",
    "            \n",
    "System.out.println(\"After flattening  : \" + listOfInts2);"
   ]
  },
  {
   "cell_type": "markdown",
   "id": "f156234c",
   "metadata": {},
   "source": [
    "### peek()\n",
    "> 如同於`map`，能得到流中的每一個元素，但`map`接收的是一個`Function`，有回傳值\n",
    ">\n",
    "> 而`peek`接收的是 `Consumer`，沒有回傳值"
   ]
  },
  {
   "cell_type": "code",
   "execution_count": null,
   "id": "c0e583c5",
   "metadata": {
    "vscode": {
     "languageId": "java"
    }
   },
   "outputs": [
    {
     "name": "stdout",
     "output_type": "stream",
     "text": [
      "thing's id = 1 and number = 9999999\n",
      "thing's id = 2 and number = 9999999\n"
     ]
    }
   ],
   "source": [
    "things.get().peek(t -> t.setThingNum(9999999)).forEach(System.out::println);"
   ]
  },
  {
   "cell_type": "markdown",
   "id": "7461adf5",
   "metadata": {},
   "source": [
    "### mapToInt()"
   ]
  },
  {
   "cell_type": "code",
   "execution_count": null,
   "id": "25afdb61",
   "metadata": {
    "vscode": {
     "languageId": "java"
    }
   },
   "outputs": [
    {
     "name": "stdout",
     "output_type": "stream",
     "text": [
      "5\n",
      "6\n"
     ]
    }
   ],
   "source": [
    "Stream<String> streamMap = Stream.of(\"hello\", \"world!\");\n",
    "streamMap.mapToInt(s -> s.length()).forEach(System.out::println);"
   ]
  },
  {
   "cell_type": "markdown",
   "id": "38ad1444",
   "metadata": {},
   "source": [
    "### mapToLong()"
   ]
  },
  {
   "cell_type": "code",
   "execution_count": null,
   "id": "b2562e49",
   "metadata": {
    "vscode": {
     "languageId": "java"
    }
   },
   "outputs": [],
   "source": []
  },
  {
   "cell_type": "markdown",
   "id": "bc1bae5e",
   "metadata": {},
   "source": [
    "### mapToDouble()"
   ]
  },
  {
   "cell_type": "code",
   "execution_count": null,
   "id": "4ffde14d",
   "metadata": {
    "vscode": {
     "languageId": "java"
    }
   },
   "outputs": [],
   "source": []
  },
  {
   "cell_type": "markdown",
   "id": "14724ad3",
   "metadata": {},
   "source": [
    "### flatMapToInt()"
   ]
  },
  {
   "cell_type": "code",
   "execution_count": null,
   "id": "37a50628",
   "metadata": {
    "vscode": {
     "languageId": "java"
    }
   },
   "outputs": [],
   "source": []
  },
  {
   "cell_type": "markdown",
   "id": "d4e839f2",
   "metadata": {},
   "source": [
    "### flatMapToLong()"
   ]
  },
  {
   "cell_type": "code",
   "execution_count": null,
   "id": "b7444b6e",
   "metadata": {
    "vscode": {
     "languageId": "java"
    }
   },
   "outputs": [],
   "source": []
  },
  {
   "cell_type": "markdown",
   "id": "50afe2dc",
   "metadata": {},
   "source": [
    "### flatMapToDouble()"
   ]
  },
  {
   "cell_type": "code",
   "execution_count": null,
   "id": "8d02a0d1",
   "metadata": {
    "vscode": {
     "languageId": "java"
    }
   },
   "outputs": [],
   "source": []
  },
  {
   "cell_type": "markdown",
   "id": "6f50e6bb",
   "metadata": {},
   "source": [
    "### unordered()"
   ]
  },
  {
   "cell_type": "code",
   "execution_count": null,
   "id": "a84200ae",
   "metadata": {
    "vscode": {
     "languageId": "java"
    }
   },
   "outputs": [
    {
     "name": "stdout",
     "output_type": "stream",
     "text": [
      "5\n",
      "1\n",
      "2\n",
      "6\n",
      "3\n",
      "7\n",
      "4\n"
     ]
    }
   ],
   "source": [
    "// For sequential streams, the presence or absence of an encounter order does not affect performance, only determinism.\n",
    "Stream.of(5, 1, 2, 6, 3, 7, 4).unordered().forEach(System.out::println);"
   ]
  },
  {
   "cell_type": "code",
   "execution_count": null,
   "id": "a17a1e8b",
   "metadata": {
    "vscode": {
     "languageId": "java"
    }
   },
   "outputs": [
    {
     "name": "stdout",
     "output_type": "stream",
     "text": [
      "3\n",
      "6\n",
      "4\n",
      "5\n",
      "2\n",
      "1\n",
      "7\n"
     ]
    }
   ],
   "source": [
    "// For parallel streams, relaxing the ordering constraint can sometimes enable more efficient execution\n",
    "Stream.of(5, 1, 2, 6, 3, 7,4).unordered().parallel().forEach(System.out::println);"
   ]
  },
  {
   "cell_type": "markdown",
   "id": "d35c8a47",
   "metadata": {},
   "source": [
    "---"
   ]
  }
 ],
 "metadata": {
  "kernelspec": {
   "display_name": "Java",
   "language": "java",
   "name": "java"
  },
  "language_info": {
   "codemirror_mode": "java",
   "file_extension": ".jshell",
   "mimetype": "text/x-java-source",
   "name": "Java",
   "pygments_lexer": "java",
   "version": "17.0.6+10-jvmci-22.3-b13"
  },
  "widgets": {
   "application/vnd.jupyter.widget-state+json": {
    "state": {},
    "version_major": 2,
    "version_minor": 0
   }
  }
 },
 "nbformat": 4,
 "nbformat_minor": 5
}
