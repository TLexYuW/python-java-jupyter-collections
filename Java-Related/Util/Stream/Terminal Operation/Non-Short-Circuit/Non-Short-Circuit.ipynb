{
 "cells": [
  {
   "cell_type": "markdown",
   "id": "17a859d2",
   "metadata": {},
   "source": [
    "# Import"
   ]
  },
  {
   "cell_type": "code",
   "execution_count": null,
   "id": "43c1c0e5",
   "metadata": {},
   "outputs": [],
   "source": [
    "import java.util.stream.Stream;\n",
    "import java.util.function.*;\n",
    "import java.util.Collection.*;\n",
    "import java.util.stream.Collectors;\n",
    "import java.nio.file.Files;\n",
    "import java.nio.file.*;\n",
    "import java.io.File.*;\n",
    "import java.nio.charset.StandardCharsets;"
   ]
  },
  {
   "cell_type": "markdown",
   "id": "033f7c83-3213-4c57-9b6a-dc3eb95b8980",
   "metadata": {},
   "source": [
    "---"
   ]
  },
  {
   "cell_type": "markdown",
   "id": "00dce67b",
   "metadata": {},
   "source": [
    "# Setup"
   ]
  },
  {
   "cell_type": "code",
   "execution_count": null,
   "id": "6126aaac",
   "metadata": {},
   "outputs": [],
   "source": [
    "Supplier<Stream<Integer>> intStreamSupplier = () -> Stream.of(1,2,2,3,4,5,5,6,7,8,9,9,9,10,10);\n",
    "List<String> someList = Arrays.asList(\"x,y,z\", \"999,666,333\");\n",
    "List<Integer> numbers = Arrays.asList(1, 2, 3, 4, 5, 6, 7, 8, 9, 10, 11, 12, 13, 14, 15, 16, 17, 18, 19, 20, 21, 22, 23, 24);"
   ]
  },
  {
   "cell_type": "code",
   "execution_count": null,
   "id": "c2e3eb8a",
   "metadata": {},
   "outputs": [],
   "source": [
    "public class Thing{\n",
    "    private int id;\n",
    "    private int thingNum;\n",
    "\n",
    "    public Thing(int id, int thingNum) {\n",
    "        this.id = id;\n",
    "\t\tthis.thingNum = thingNum;\n",
    "\t}\n",
    "\n",
    "    public void setThingNum(int thingNum){\n",
    "         this.thingNum = thingNum;\n",
    "    }\n",
    "    \n",
    "    public int getThingNum() {\n",
    "\t\treturn this.thingNum;\n",
    "\t}\n",
    "    \n",
    "    public void setId(int id){\n",
    "         this.id = id;\n",
    "    }\n",
    "    \n",
    "    public int getId() {\n",
    "\t\treturn this.id;\n",
    "\t}\n",
    "\n",
    "    @Override\n",
    "    public String toString(){\n",
    "        return \"thing's id = \" + id + \" and number = \" + thingNum;\n",
    "    }\n",
    "}"
   ]
  },
  {
   "cell_type": "code",
   "execution_count": null,
   "id": "a566a577",
   "metadata": {},
   "outputs": [],
   "source": [
    "Thing t1 = new Thing(1, 100);\n",
    "Thing t2 = new Thing(2, 50);\n",
    "Supplier<Stream<Thing>> things = () -> Stream.of(t1, t2);"
   ]
  },
  {
   "cell_type": "code",
   "execution_count": null,
   "id": "a57bb609",
   "metadata": {},
   "outputs": [],
   "source": [
    "import java.util.ArrayList;\n",
    "import java.util.List;\n",
    "\n",
    "public class Person implements Comparable<Person> {\n",
    "    private String name;\n",
    "    private Integer age;\n",
    "    private Double salary;\n",
    "    private String title;\n",
    "    private String gender;\n",
    "    private String area;\n",
    "\n",
    "    public Person(String name, Integer age, Double salary, String title, String gender, String area) {\n",
    "        this.name = name;\n",
    "        this.age = age;\n",
    "        this.salary = salary;\n",
    "        this.title = title;\n",
    "        this.gender = gender;\n",
    "        this.area = area;\n",
    "    }\n",
    "\n",
    "    public String getName() {\n",
    "        return name;\n",
    "    }\n",
    "\n",
    "    public void setName(String name) {\n",
    "        this.name = name;\n",
    "    }\n",
    "\n",
    "    public Integer getAge() {\n",
    "        return age;\n",
    "    }\n",
    "\n",
    "    public void setAge(Integer age) {\n",
    "        this.age = age;\n",
    "    }\n",
    "\n",
    "    public Double getSalary() {\n",
    "        return salary;\n",
    "    }\n",
    "\n",
    "    public void setSalary(Double salary) {\n",
    "        this.salary = salary;\n",
    "    }\n",
    "\n",
    "    public String getTitle() {\n",
    "        return title;\n",
    "    }\n",
    "\n",
    "    public void setTitle(String title) {\n",
    "        this.title = title;\n",
    "    }\n",
    "\n",
    "    public String getGender() {\n",
    "        return gender;\n",
    "    }\n",
    "\n",
    "    public void setGender(String gender) {\n",
    "        this.gender = gender;\n",
    "    }\n",
    "\n",
    "    public String getArea() {\n",
    "        return area;\n",
    "    }\n",
    "\n",
    "    public void setArea(String area) {\n",
    "        this.area = area;\n",
    "    }\n",
    "\n",
    "    @Override\n",
    "    public String toString() {\n",
    "        return \"Person{\" +\n",
    "                \"name='\" + name + '\\'' +\n",
    "                \", age=\" + age +\n",
    "                \", salary=\" + salary +\n",
    "                \", title='\" + title + '\\'' +\n",
    "                \", gender='\" + gender + '\\'' +\n",
    "                \", area='\" + area + '\\'' +\n",
    "                '}';\n",
    "    }\n",
    "    \n",
    "    @Override\n",
    "    public int compareTo(Person otherPerson) {\n",
    "        int ageComparison = this.age.compareTo(otherPerson.age);\n",
    "        if (ageComparison != 0) {\n",
    "            return ageComparison;\n",
    "        }\n",
    "\n",
    "        return this.salary.compareTo(otherPerson.salary);\n",
    "    }\n",
    "}"
   ]
  },
  {
   "cell_type": "code",
   "execution_count": null,
   "id": "8d9b72ee",
   "metadata": {},
   "outputs": [],
   "source": [
    "static List<Person> personList = new ArrayList<Person>();\n",
    "\n",
    "private static void initPerson() {\n",
    "    personList.add(new Person(\"User-A\", 18, 3000.0, \"FronEnd\", \"Male\", \"A Region\"));\n",
    "    personList.add(new Person(\"User-B\", 28, 5000.0, \"UI/UX\", \"FeMale\", \"B Region\"));\n",
    "    personList.add(new Person(\"User-C\", 38, 7000.0, \"BackEnd\", \"Male\", \"C Region\"));\n",
    "    personList.add(new Person(\"User-D\", 58, 10000.0, \"Manager\", \"Male\", \"A Region\"));\n",
    "    personList.add(new Person(\"User-E\", 32, 6500.0, \"3D\", \"FeMale\", \"C Region\"));\n",
    "\n",
    "}\n",
    "initPerson();"
   ]
  },
  {
   "cell_type": "code",
   "execution_count": null,
   "id": "f5990183",
   "metadata": {},
   "outputs": [],
   "source": [
    "public class Employee {\n",
    "    private int id;\n",
    "    private String name;\n",
    "    private double salary;\n",
    "\n",
    "    public Employee(int id, String name, double salary) {\n",
    "        this.id = id;\n",
    "        this.name = name;\n",
    "        this.salary = salary;\n",
    "    }\n",
    "\n",
    "    // Getter methods\n",
    "    public int getId() {\n",
    "        return id;\n",
    "    }\n",
    "\n",
    "    public String getName() {\n",
    "        return name;\n",
    "    }\n",
    "\n",
    "    public double getSalary() {\n",
    "        return salary;\n",
    "    }\n",
    "\n",
    "    // Setter methods\n",
    "    public void setId(int id) {\n",
    "        this.id = id;\n",
    "    }\n",
    "\n",
    "    public void setName(String name) {\n",
    "        this.name = name;\n",
    "    }\n",
    "\n",
    "    public void setSalary(double salary) {\n",
    "        this.salary = salary;\n",
    "    }\n",
    "\n",
    "    @Override\n",
    "    public String toString() {\n",
    "        return \"Employee{\" +\n",
    "                \"id=\" + id +\n",
    "                \", name='\" + name + '\\'' +\n",
    "                \", salary=\" + salary +\n",
    "                '}';\n",
    "    }\n",
    "}"
   ]
  },
  {
   "cell_type": "code",
   "execution_count": null,
   "id": "b3c07c4a",
   "metadata": {},
   "outputs": [],
   "source": [
    "private static Employee[] arrayOfEmps = {\n",
    "    new Employee(1, \"Jeff Bezos\", 100000.0), \n",
    "    new Employee(2, \"Bill Gates\", 200000.0), \n",
    "    new Employee(3, \"Mark Zuckerberg\", 300000.0)\n",
    "};\n",
    "Stream empsStream = Stream.of(arrayOfEmps);"
   ]
  },
  {
   "cell_type": "markdown",
   "id": "924bb312",
   "metadata": {},
   "source": [
    "---"
   ]
  },
  {
   "cell_type": "code",
   "execution_count": null,
   "id": "fc7714ef-131b-4e1b-922f-c1889ef7a005",
   "metadata": {},
   "outputs": [],
   "source": [
    "// code"
   ]
  },
  {
   "cell_type": "markdown",
   "id": "1b935757-74fc-454c-9053-e30e0ed5aac5",
   "metadata": {},
   "source": [
    "---"
   ]
  },
  {
   "cell_type": "markdown",
   "id": "29c209b5-4f87-474c-9e6c-e3a36fa88229",
   "metadata": {},
   "source": [
    "# TOC"
   ]
  },
  {
   "cell_type": "markdown",
   "id": "0db224b8-9272-4592-bd86-da6398e36307",
   "metadata": {},
   "source": [
    "- [`forEach()`](#forEach())\n",
    "- [`forEachOrdered()`](#forEachOrdered())\n",
    "- [`toArray()`](#toArray())\n",
    "- [`reduce()`](#reduce())\n",
    "- [`collect()`](#collect)\n",
    "- [`max()`](#max)\n",
    "- [`min()`](#min)\n",
    "- [`count()`](#count)"
   ]
  },
  {
   "cell_type": "markdown",
   "id": "01502c79-9751-49b5-8c09-d5a73868571c",
   "metadata": {},
   "source": [
    "---"
   ]
  },
  {
   "cell_type": "markdown",
   "id": "d31a971d",
   "metadata": {},
   "source": [
    "# Non-Short-Circuit"
   ]
  },
  {
   "cell_type": "markdown",
   "id": "b675d78b",
   "metadata": {},
   "source": [
    "### count()"
   ]
  },
  {
   "cell_type": "code",
   "execution_count": null,
   "id": "b7c86471",
   "metadata": {},
   "outputs": [
    {
     "data": {
      "text/plain": [
       "15"
      ]
     },
     "metadata": {},
     "output_type": "display_data"
    }
   ],
   "source": [
    "intStreamSupplier.get().count();"
   ]
  },
  {
   "cell_type": "markdown",
   "id": "332c806f",
   "metadata": {},
   "source": [
    "### max()"
   ]
  },
  {
   "cell_type": "code",
   "execution_count": null,
   "id": "a9e57609",
   "metadata": {},
   "outputs": [
    {
     "data": {
      "text/plain": [
       "10"
      ]
     },
     "metadata": {},
     "output_type": "display_data"
    }
   ],
   "source": [
    "intStreamSupplier.get().max(Integer::compare).get();"
   ]
  },
  {
   "cell_type": "markdown",
   "id": "455f74a0",
   "metadata": {},
   "source": [
    "### min()"
   ]
  },
  {
   "cell_type": "code",
   "execution_count": null,
   "id": "ea51a88a",
   "metadata": {},
   "outputs": [
    {
     "data": {
      "text/plain": [
       "1"
      ]
     },
     "metadata": {},
     "output_type": "display_data"
    }
   ],
   "source": [
    "intStreamSupplier.get().min(Integer::compare).get();"
   ]
  },
  {
   "cell_type": "markdown",
   "id": "ca5bda61",
   "metadata": {},
   "source": [
    "### reduce()"
   ]
  },
  {
   "cell_type": "code",
   "execution_count": null,
   "id": "eb4e1776",
   "metadata": {},
   "outputs": [
    {
     "data": {
      "text/plain": [
       "28"
      ]
     },
     "metadata": {},
     "output_type": "display_data"
    }
   ],
   "source": [
    "List<Integer> numbers2 = Arrays.asList(1, 2, 3, 4, 5, 6, 7);\n",
    "numbers2.stream().reduce((x,y)-> x + y).get();"
   ]
  },
  {
   "cell_type": "code",
   "execution_count": null,
   "id": "1379516b",
   "metadata": {},
   "outputs": [
    {
     "data": {
      "text/plain": [
       "128"
      ]
     },
     "metadata": {},
     "output_type": "display_data"
    }
   ],
   "source": [
    "numbers2.stream().reduce(100, (x,y)-> x + y);"
   ]
  },
  {
   "cell_type": "code",
   "execution_count": null,
   "id": "37f4c474",
   "metadata": {},
   "outputs": [
    {
     "name": "stdout",
     "output_type": "stream",
     "text": [
      "stream accumulator: x:0  y:1\n",
      "stream accumulator: x:-1  y:2\n",
      "stream accumulator: x:-3  y:3\n",
      "stream accumulator: x:-6  y:4\n",
      "stream accumulator: x:-10  y:5\n",
      "stream accumulator: x:-15  y:6\n",
      "stream accumulator: x:-21  y:7\n"
     ]
    },
    {
     "data": {
      "text/plain": [
       "-28"
      ]
     },
     "metadata": {},
     "output_type": "display_data"
    }
   ],
   "source": [
    "numbers2.stream().reduce(0,\n",
    "        (x, y) -> {\n",
    "            System.out.println(\"stream accumulator: x:\" + x + \"  y:\" + y);\n",
    "            return x - y;\n",
    "        },\n",
    "        (x, y) -> {\n",
    "            System.out.println(\"stream combiner: x:\" + x + \"  y:\" + y);\n",
    "            return x * y;\n",
    "        });"
   ]
  },
  {
   "cell_type": "code",
   "execution_count": null,
   "id": "f98d8ce3",
   "metadata": {},
   "outputs": [
    {
     "name": "stdout",
     "output_type": "stream",
     "text": [
      "parallelStream accumulator: x:0  y:5\n",
      "parallelStream accumulator: x:0  y:1\n",
      "parallelStream accumulator: x:0  y:4\n",
      "parallelStream accumulator: x:0  y:2\n",
      "parallelStream accumulator: x:0  y:7\n",
      "parallelStream accumulator: x:0  y:6\n",
      "parallelStream combiner: x:-4  y:-5\n",
      "parallelStream accumulator: x:0  y:3\n",
      "parallelStream combiner: x:-6  y:-7\n",
      "parallelStream combiner: x:20  y:42\n",
      "parallelStream combiner: x:-2  y:-3\n",
      "parallelStream combiner: x:-1  y:6\n",
      "parallelStream combiner: x:-6  y:840\n"
     ]
    },
    {
     "data": {
      "text/plain": [
       "-5040"
      ]
     },
     "metadata": {},
     "output_type": "display_data"
    }
   ],
   "source": [
    "numbers2.parallelStream().reduce(0,\n",
    "        (x, y) -> {\n",
    "            System.out.println(\"parallelStream accumulator: x:\" + x + \"  y:\" + y);\n",
    "            return x - y;\n",
    "        },\n",
    "        (x, y) -> {\n",
    "            System.out.println(\"parallelStream combiner: x:\" + x + \"  y:\" + y);\n",
    "            return x * y;\n",
    "        });"
   ]
  },
  {
   "cell_type": "code",
   "execution_count": null,
   "id": "a58dcfd6",
   "metadata": {},
   "outputs": [
    {
     "name": "stdout",
     "output_type": "stream",
     "text": [
      "x:1\n",
      "x:4\n",
      "x:9\n",
      "x:16\n",
      "x:25\n"
     ]
    },
    {
     "data": {
      "text/plain": [
       "37"
      ]
     },
     "metadata": {},
     "output_type": "display_data"
    }
   ],
   "source": [
    "List<Integer> num = Arrays.asList(1, 3, 5, 7, 9, 12);\n",
    "num.stream().reduce((x, y) -> {\n",
    "    System.out.println(\"x:\"+x);\n",
    "    return x + y;\n",
    "}).get();"
   ]
  },
  {
   "cell_type": "markdown",
   "id": "07c37c22",
   "metadata": {},
   "source": [
    "### forEach()"
   ]
  },
  {
   "cell_type": "code",
   "execution_count": null,
   "id": "9d28a17a",
   "metadata": {},
   "outputs": [
    {
     "name": "stdout",
     "output_type": "stream",
     "text": [
      "Jack\n"
     ]
    }
   ],
   "source": [
    "List<String> strAry = Arrays.asList( \"Jhonny\", \"David\", \"Jack\", \"Duke\", \"Jill\",\"Dany\",\"Julia\",\"Jenish\",\"Divya\");\n",
    "\n",
    "strAry.stream().forEach(s-> {\n",
    "\t\t\tif(\"Jack\".equalsIgnoreCase(s)) System.out.println(s);\n",
    "\t\t});"
   ]
  },
  {
   "cell_type": "markdown",
   "id": "7c8dd3da",
   "metadata": {},
   "source": [
    "### forEachOrdered()\n",
    "- Single Thread : 保證循環時元素是依照原來的順序逐一循環的\n",
    "- Parallel Thread : ？"
   ]
  },
  {
   "cell_type": "code",
   "execution_count": null,
   "id": "b5cff937",
   "metadata": {},
   "outputs": [
    {
     "name": "stdout",
     "output_type": "stream",
     "text": [
      "DDD,AAA,BBB,CCC"
     ]
    }
   ],
   "source": [
    "Stream.of(\"DDD,\",\"AAA,\",\"BBB,\",\"CCC\").forEachOrdered(System.out::print)"
   ]
  },
  {
   "cell_type": "code",
   "execution_count": null,
   "id": "b077a29a",
   "metadata": {},
   "outputs": [
    {
     "name": "stdout",
     "output_type": "stream",
     "text": [
      "AAA,BBB,CCC,DDD"
     ]
    }
   ],
   "source": [
    "Stream.of(\"AAA,\",\"BBB,\",\"CCC,\",\"DDD\").parallel().forEachOrdered(System.out::print);"
   ]
  },
  {
   "cell_type": "markdown",
   "id": "c0a48864",
   "metadata": {},
   "source": [
    "### collect()\n",
    "- [Collectors](#Java-Related/Util/Collectors.ipynb)\n"
   ]
  },
  {
   "cell_type": "code",
   "execution_count": null,
   "id": "b5b746a2",
   "metadata": {},
   "outputs": [
    {
     "data": {
      "text/plain": [
       "5"
      ]
     },
     "metadata": {},
     "output_type": "display_data"
    }
   ],
   "source": [
    "personList.stream().collect(Collectors.counting());"
   ]
  },
  {
   "cell_type": "code",
   "execution_count": null,
   "id": "d192c4b2",
   "metadata": {},
   "outputs": [
    {
     "data": {
      "text/plain": [
       "6300.0"
      ]
     },
     "metadata": {},
     "output_type": "display_data"
    }
   ],
   "source": [
    "personList.stream().collect(Collectors.averagingDouble(Person::getSalary));"
   ]
  },
  {
   "cell_type": "code",
   "execution_count": null,
   "id": "b706a65c",
   "metadata": {},
   "outputs": [
    {
     "data": {
      "text/plain": [
       "Optional[10000.0]"
      ]
     },
     "metadata": {},
     "output_type": "display_data"
    }
   ],
   "source": [
    "personList.stream().map(Person::getSalary).collect(Collectors.maxBy(Double::compare));"
   ]
  },
  {
   "cell_type": "code",
   "execution_count": null,
   "id": "d3209852",
   "metadata": {},
   "outputs": [
    {
     "data": {
      "text/plain": [
       "31500.0"
      ]
     },
     "metadata": {},
     "output_type": "display_data"
    }
   ],
   "source": [
    "personList.stream().collect(Collectors.summingDouble(Person::getSalary));"
   ]
  },
  {
   "cell_type": "code",
   "execution_count": null,
   "id": "d6a260b2",
   "metadata": {},
   "outputs": [
    {
     "data": {
      "text/plain": [
       "DoubleSummaryStatistics{count=5, sum=31500.000000, min=3000.000000, average=6300.000000, max=10000.000000}"
      ]
     },
     "metadata": {},
     "output_type": "display_data"
    }
   ],
   "source": [
    "personList.stream().collect(Collectors.summarizingDouble(Person::getSalary));"
   ]
  },
  {
   "cell_type": "code",
   "execution_count": null,
   "id": "9f9fe953",
   "metadata": {},
   "outputs": [
    {
     "data": {
      "text/plain": [
       "{false=[Person{name='User-A', age=18, salary=3000.0, title='FronEnd', gender='Male', area='A Region'}, Person{name='User-B', age=28, salary=5000.0, title='UI/UX', gender='FeMale', area='B Region'}, Person{name='User-C', age=38, salary=7000.0, title='BackEnd', gender='Male', area='C Region'}, Person{name='User-E', age=32, salary=6500.0, title='3D', gender='FeMale', area='C Region'}], true=[Person{name='User-D', age=58, salary=10000.0, title='Manager', gender='Male', area='A Region'}]}"
      ]
     },
     "metadata": {},
     "output_type": "display_data"
    }
   ],
   "source": [
    "personList.stream().collect(Collectors.partitioningBy(x -> x.getSalary() > 8000));"
   ]
  },
  {
   "cell_type": "code",
   "execution_count": null,
   "id": "2bfd6c44",
   "metadata": {},
   "outputs": [
    {
     "data": {
      "text/plain": [
       "{Male=[Person{name='User-A', age=18, salary=3000.0, title='FronEnd', gender='Male', area='A Region'}, Person{name='User-C', age=38, salary=7000.0, title='BackEnd', gender='Male', area='C Region'}, Person{name='User-D', age=58, salary=10000.0, title='Manager', gender='Male', area='A Region'}], FeMale=[Person{name='User-B', age=28, salary=5000.0, title='UI/UX', gender='FeMale', area='B Region'}, Person{name='User-E', age=32, salary=6500.0, title='3D', gender='FeMale', area='C Region'}]}"
      ]
     },
     "metadata": {},
     "output_type": "display_data"
    }
   ],
   "source": [
    "personList.stream().collect(Collectors.groupingBy(Person::getGender));"
   ]
  },
  {
   "cell_type": "code",
   "execution_count": null,
   "id": "dee28967",
   "metadata": {},
   "outputs": [
    {
     "data": {
      "text/plain": [
       "{Male={C Region=[Person{name='User-C', age=38, salary=7000.0, title='BackEnd', gender='Male', area='C Region'}], A Region=[Person{name='User-A', age=18, salary=3000.0, title='FronEnd', gender='Male', area='A Region'}, Person{name='User-D', age=58, salary=10000.0, title='Manager', gender='Male', area='A Region'}]}, FeMale={B Region=[Person{name='User-B', age=28, salary=5000.0, title='UI/UX', gender='FeMale', area='B Region'}], C Region=[Person{name='User-E', age=32, salary=6500.0, title='3D', gender='FeMale', area='C Region'}]}}"
      ]
     },
     "metadata": {},
     "output_type": "display_data"
    }
   ],
   "source": [
    "personList.stream().collect(Collectors.groupingBy(Person::getGender, Collectors.groupingBy(Person::getArea)));"
   ]
  },
  {
   "cell_type": "code",
   "execution_count": null,
   "id": "9519a046",
   "metadata": {},
   "outputs": [
    {
     "data": {
      "text/plain": [
       "[User-A, User-B, User-E, User-C, User-D]"
      ]
     },
     "metadata": {},
     "output_type": "display_data"
    }
   ],
   "source": [
    "personList.stream().sorted(Comparator.comparing(Person::getSalary)).map(Person::getName).collect(Collectors.toList());"
   ]
  },
  {
   "cell_type": "code",
   "execution_count": null,
   "id": "251b031f",
   "metadata": {},
   "outputs": [
    {
     "data": {
      "text/plain": [
       "[User-D, User-C, User-E, User-B, User-A]"
      ]
     },
     "metadata": {},
     "output_type": "display_data"
    }
   ],
   "source": [
    "personList.stream().sorted(Comparator.comparing(Person::getSalary).reversed()).map(Person::getName).collect(Collectors.toList());"
   ]
  },
  {
   "cell_type": "code",
   "execution_count": null,
   "id": "0c9bf820",
   "metadata": {},
   "outputs": [
    {
     "data": {
      "text/plain": [
       "[User-E, User-C, User-A, User-D, User-B]"
      ]
     },
     "metadata": {},
     "output_type": "display_data"
    }
   ],
   "source": [
    "personList.stream()\n",
    "            .sorted(Comparator.comparing(Person::getTitle).thenComparing(Person::getSalary)).map(Person::getName)\n",
    "            .collect(Collectors.toList());"
   ]
  },
  {
   "cell_type": "code",
   "execution_count": null,
   "id": "8ffd2378",
   "metadata": {},
   "outputs": [
    {
     "data": {
      "text/plain": [
       "[User-D, User-C, User-E, User-B, User-A]"
      ]
     },
     "metadata": {},
     "output_type": "display_data"
    }
   ],
   "source": [
    "personList.stream()\n",
    "        .sorted((p1, p2) -> {\n",
    "            if (p1.getSalary().equals(p2.getSalary())) {\n",
    "                return Integer.compare(p2.getAge(), p1.getAge());\n",
    "            } else {\n",
    "                return Double.compare(p2.getSalary(), p1.getSalary());\n",
    "            }\n",
    "        })\n",
    "        .map(Person::getName)\n",
    "        .collect(Collectors.toList());"
   ]
  },
  {
   "cell_type": "code",
   "execution_count": null,
   "id": "25be22bf",
   "metadata": {},
   "outputs": [],
   "source": [
    "String[] arr1 = { \"a\", \"b\", \"c\", \"d\" };\n",
    "String[] arr2 = { \"d\", \"e\", \"f\", \"g\" };\n",
    "Stream<String> streamStr1 = Stream.of(arr1);\n",
    "Stream<String> streamStr2 = Stream.of(arr2);"
   ]
  },
  {
   "cell_type": "code",
   "execution_count": null,
   "id": "cbd0c4e3",
   "metadata": {},
   "outputs": [
    {
     "data": {
      "text/plain": [
       "[a, b, c, d, e, f, g]"
      ]
     },
     "metadata": {},
     "output_type": "display_data"
    }
   ],
   "source": [
    "Stream.concat(streamStr1, streamStr2).distinct().collect(Collectors.toList())"
   ]
  },
  {
   "cell_type": "code",
   "execution_count": null,
   "id": "27570a12",
   "metadata": {},
   "outputs": [
    {
     "data": {
      "text/plain": [
       "[1, 3, 5, 7, 9, 11, 13, 15, 17, 19]"
      ]
     },
     "metadata": {},
     "output_type": "display_data"
    }
   ],
   "source": [
    "Stream.iterate(1, x -> x + 2).limit(10).collect(Collectors.toList());"
   ]
  },
  {
   "cell_type": "code",
   "execution_count": null,
   "id": "7d48a1a2",
   "metadata": {},
   "outputs": [
    {
     "data": {
      "text/plain": [
       "[3, 5, 7, 9, 11]"
      ]
     },
     "metadata": {},
     "output_type": "display_data"
    }
   ],
   "source": [
    "Stream.iterate(1, x -> x + 2).skip(1).limit(5).collect(Collectors.toList())"
   ]
  },
  {
   "cell_type": "markdown",
   "id": "73b8f1ab",
   "metadata": {},
   "source": [
    "---"
   ]
  }
 ],
 "metadata": {
  "kernelspec": {
   "display_name": "Java",
   "language": "java",
   "name": "java"
  },
  "language_info": {
   "codemirror_mode": "java",
   "file_extension": ".jshell",
   "mimetype": "text/x-java-source",
   "name": "java",
   "pygments_lexer": "java",
   "version": "17.0.6+10-jvmci-22.3-b13"
  },
  "widgets": {
   "application/vnd.jupyter.widget-state+json": {
    "state": {},
    "version_major": 2,
    "version_minor": 0
   }
  }
 },
 "nbformat": 4,
 "nbformat_minor": 5
}
