{
 "cells": [
  {
   "cell_type": "markdown",
   "id": "02e879b7-709d-42b9-a085-c3ecea885e2b",
   "metadata": {},
   "source": [
    "# Dependency"
   ]
  },
  {
   "cell_type": "code",
   "execution_count": null,
   "id": "12461eef-4619-4ae7-84e2-9c94694cf808",
   "metadata": {},
   "outputs": [],
   "source": [
    "// code"
   ]
  },
  {
   "cell_type": "markdown",
   "id": "9286f163-48fe-4da3-8b71-b9aa4e591ee5",
   "metadata": {},
   "source": [
    "---"
   ]
  },
  {
   "cell_type": "markdown",
   "id": "1bbb9bb8-d9ce-4ebe-9794-559d50a47783",
   "metadata": {},
   "source": [
    "# Import"
   ]
  },
  {
   "cell_type": "code",
   "execution_count": 151,
   "id": "93c979a8-b9e9-4279-b04f-a54a56024304",
   "metadata": {},
   "outputs": [],
   "source": [
    "import java.util.*;\n",
    "import java.util.function.*;\n",
    "import java.util.stream.*;\n",
    "import java.util.logging.*;\n",
    "import java.time.LocalDate;\n",
    "import java.time.Period;\n",
    "\n",
    "import static java.lang.System.out;"
   ]
  },
  {
   "cell_type": "markdown",
   "id": "800f48c3-fa22-4617-9dca-6b20edc3e153",
   "metadata": {},
   "source": [
    "---"
   ]
  },
  {
   "cell_type": "markdown",
   "id": "0d2c1775-7f3a-4714-94a2-ca7b0f8089ed",
   "metadata": {},
   "source": [
    "# TOC"
   ]
  },
  {
   "cell_type": "markdown",
   "id": "b2266553-0b6f-4b12-86d2-322d6b2bb2dc",
   "metadata": {},
   "source": [
    "- Fuctional Interface\n",
    "    - _Consumer_\n",
    "        - _BiConsumer_\n",
    "    - _Function_\n",
    "        - _BiFunction_\n",
    "    - _Predicate_\n",
    "    - _Supplier_\n",
    "    - _Stream_\n",
    "    - _Bixxxxxx_\n",
    "- Lambda \n",
    "- Callbacks\n",
    "    - Interface\n",
    "    - Lambda\n",
    "    - Reflection\n",
    "- Combinator Pattern\n",
    "- Operations"
   ]
  },
  {
   "cell_type": "markdown",
   "id": "efec681b-01a9-41eb-9a8b-3da36334d95e",
   "metadata": {},
   "source": [
    "---"
   ]
  },
  {
   "cell_type": "markdown",
   "id": "544c7439-2d27-453a-a60a-d43970965b5b",
   "metadata": {},
   "source": [
    "# Setup\n",
    "- [Model](#Model)\n",
    "- [Utils](#Utils)"
   ]
  },
  {
   "cell_type": "markdown",
   "id": "a81ff8c3-4bab-45ea-9094-d8643607b364",
   "metadata": {
    "jp-MarkdownHeadingCollapsed": true
   },
   "source": [
    "## Model"
   ]
  },
  {
   "cell_type": "code",
   "execution_count": 72,
   "id": "c4266338-7d61-464c-8aa6-d963f74588e1",
   "metadata": {},
   "outputs": [],
   "source": [
    "public enum Gender {\n",
    "    MALE, FEMALE, NONE;\n",
    "}"
   ]
  },
  {
   "cell_type": "code",
   "execution_count": 73,
   "id": "922e1a01-3943-4c13-bc7a-faea11463dc8",
   "metadata": {},
   "outputs": [],
   "source": [
    "public class Product {\n",
    "    private Integer id;\n",
    "    private String name;\n",
    "    private String price;\n",
    "\n",
    "    public Product() {\n",
    "    }\n",
    "\n",
    "    public Product(String name) {\n",
    "        this.name = name;\n",
    "    }\n",
    "    public Product(Integer id, String name, String price) {\n",
    "        this.id = id;\n",
    "        this.name = name;\n",
    "        this.price = price;\n",
    "    }\n",
    "\n",
    "\n",
    "\n",
    "    public Integer getId() {\n",
    "        return id;\n",
    "    }\n",
    "\n",
    "    public void setId(Integer id) {\n",
    "        this.id = id;\n",
    "    }\n",
    "\n",
    "    public String getName() {\n",
    "        return name;\n",
    "    }\n",
    "\n",
    "    public void setName(String name) {\n",
    "        this.name = name;\n",
    "    }\n",
    "\n",
    "    public String getPrice() {\n",
    "        return price;\n",
    "    }\n",
    "\n",
    "    public void setPrice(String price) {\n",
    "        this.price = price;\n",
    "    }\n",
    "\n",
    "    @Override\n",
    "    public String toString() {\n",
    "        return \"Product{\" +\n",
    "                \"id=\" + id +\n",
    "                \", name='\" + name + '\\'' +\n",
    "                \", price='\" + price + '\\'' +\n",
    "                '}';\n",
    "    }\n",
    "\n",
    "    public static String printSpecial(Product product) {\n",
    "        return product.getName() + \"-Special\";\n",
    "    }\n",
    "}"
   ]
  },
  {
   "cell_type": "code",
   "execution_count": 78,
   "id": "02a5b645-84ff-4261-bb9d-01ae6ac4c866",
   "metadata": {},
   "outputs": [],
   "source": [
    "public class Person{\n",
    "    private final String name;\n",
    "    private final Gender gender;\n",
    "\n",
    "    public Person(String name, Gender gender) {\n",
    "        this.name = name;\n",
    "        this.gender = gender;\n",
    "    }\n",
    "\n",
    "    public String getName() {\n",
    "        return name;\n",
    "    }\n",
    "\n",
    "    public Gender getGender() {\n",
    "        return gender;\n",
    "    }\n",
    "\n",
    "    @Override\n",
    "    public String toString() {\n",
    "        return \"Person{\" +\n",
    "                \"name='\" + name + '\\'' +\n",
    "                \", gender=\" + gender +\n",
    "                '}';\n",
    "    }\n",
    "}"
   ]
  },
  {
   "cell_type": "code",
   "execution_count": 137,
   "id": "d323c241-8acf-4f3e-9657-56824f935d3d",
   "metadata": {},
   "outputs": [],
   "source": [
    "public class Customer {\n",
    "    private final String customerName;\n",
    "    private final String customerPhoneNumber;\n",
    "\n",
    "    public Customer(String customerName, String customerPhoneNumber) {\n",
    "        this.customerName = customerName;\n",
    "        this.customerPhoneNumber = customerPhoneNumber;\n",
    "    }\n",
    "\n",
    "    public String getCustomerName() {\n",
    "        return customerName;\n",
    "    }\n",
    "\n",
    "    public String getCustomerPhoneNumber() {\n",
    "        return customerPhoneNumber;\n",
    "    }\n",
    "}"
   ]
  },
  {
   "cell_type": "code",
   "execution_count": 147,
   "id": "2b111402-12a6-4222-afc0-ce4f661a6368",
   "metadata": {},
   "outputs": [],
   "source": [
    "public class FC_Customer {\n",
    "    private final String name;\n",
    "    private final String email;\n",
    "    private final String phoneNumber;\n",
    "    private final LocalDate birth;\n",
    "\n",
    "    public FC_Customer(String name, String email, String phoneNumber, LocalDate birth) {\n",
    "        this.name = name;\n",
    "        this.email = email;\n",
    "        this.phoneNumber = phoneNumber;\n",
    "        this.birth = birth;\n",
    "    }\n",
    "\n",
    "    public String getName() {\n",
    "        return name;\n",
    "    }\n",
    "\n",
    "    public String getEmail() {\n",
    "        return email;\n",
    "    }\n",
    "\n",
    "    public String getPhoneNumber() {\n",
    "        return phoneNumber;\n",
    "    }\n",
    "\n",
    "    public LocalDate getBirth() {\n",
    "        return birth;\n",
    "    }\n",
    "}"
   ]
  },
  {
   "cell_type": "markdown",
   "id": "9902c22e-e736-4ab1-80f3-5d25359610ab",
   "metadata": {},
   "source": [
    "## Utils"
   ]
  },
  {
   "cell_type": "code",
   "execution_count": null,
   "id": "457e14ec-abb6-435a-aebc-527cbe28faf3",
   "metadata": {},
   "outputs": [],
   "source": []
  },
  {
   "cell_type": "markdown",
   "id": "af5e348c-9b2d-43c7-91ac-d571891e7080",
   "metadata": {},
   "source": [
    "---"
   ]
  },
  {
   "cell_type": "markdown",
   "id": "de7cb5f0-be40-4394-a2f0-6c866c879f64",
   "metadata": {},
   "source": [
    "# Functional Interface"
   ]
  },
  {
   "cell_type": "markdown",
   "id": "aa484a72-a944-4291-b80b-ba9659168d33",
   "metadata": {
    "jp-MarkdownHeadingCollapsed": true
   },
   "source": [
    "## _Consumer_"
   ]
  },
  {
   "cell_type": "markdown",
   "id": "10a486e0-8fad-4eeb-b27a-3e540631f425",
   "metadata": {},
   "source": [
    "### Demo1"
   ]
  },
  {
   "cell_type": "code",
   "execution_count": 47,
   "id": "11076d0f-0d4d-487d-9d78-6912417b2812",
   "metadata": {},
   "outputs": [],
   "source": [
    "Product product = new Product(\"iPhone 13\");\n",
    "\n",
    "// Lambda\n",
    "Consumer<Product> consumer = p -> Product.printSpecial(p);\n",
    "consumer.accept(product);\n",
    "\n",
    "// Method Ref\n",
    "Consumer<Product> consumer1 = Product::printSpecial;\n",
    "consumer1.accept(product);"
   ]
  },
  {
   "cell_type": "code",
   "execution_count": 48,
   "id": "ee02e232-ad06-418c-8729-916646537bc6",
   "metadata": {},
   "outputs": [
    {
     "name": "stdout",
     "output_type": "stream",
     "text": [
      "iPhone 13-Special\n",
      "iPad Air-Special\n",
      "MacBook Pro-Special\n"
     ]
    }
   ],
   "source": [
    "List<Product> products = Arrays.asList(\n",
    "        new Product(\"iPhone 13\"),\n",
    "        new Product(\"iPad Air\"),\n",
    "        new Product(\"MacBook Pro\")\n",
    ");\n",
    "\n",
    "products.stream()\n",
    "        .map(Product::printSpecial)\n",
    "        .forEach(System.out::println);"
   ]
  },
  {
   "cell_type": "markdown",
   "id": "be5e8c02-49ff-4c0d-9031-5c4cb2b749d4",
   "metadata": {},
   "source": [
    "### _BiConsumer_"
   ]
  },
  {
   "cell_type": "code",
   "execution_count": 141,
   "id": "d5d250d3-1cf2-4009-8117-a8a701ddde53",
   "metadata": {},
   "outputs": [],
   "source": [
    "// greetCustomer same as greetCustomerConsumer\n",
    "static void greetCustomer(Customer customer){\n",
    "    System.out.println(\"Hello \" + customer.getCustomerName()\n",
    "    + \", thanks for registering phone number \" + customer.getCustomerPhoneNumber());\n",
    "}\n",
    "\n",
    "static void greetCustomerV2(Customer customer, boolean showPhoneNumber){\n",
    "    System.out.println(\"Hello \" + customer.getCustomerName()\n",
    "            + \", thanks for registering phone number \"\n",
    "            + (showPhoneNumber ? customer.getCustomerPhoneNumber() : \"*********\"));\n",
    "}\n",
    "\n",
    "static Consumer<Customer> greetCustomerConsumer =\n",
    "        customer ->  System.out.println(\"Hello \" + customer.getCustomerName()\n",
    "                + \", thanks for registering phone number \" + customer.getCustomerPhoneNumber());\n",
    "\n",
    "static BiConsumer<Customer, Boolean> greetCustomerBiConsumer =\n",
    "        ((customer, showPhoneNumber) ->\n",
    "                System.out.println(\"Hello \" + customer.getCustomerName()\n",
    "                + \", thanks for registering phone number \"\n",
    "                        + (showPhoneNumber ? customer.getCustomerPhoneNumber() : \"*********\")));\n"
   ]
  },
  {
   "cell_type": "code",
   "execution_count": 142,
   "id": "59d481a6-e34f-4336-a0a9-20127862748d",
   "metadata": {},
   "outputs": [
    {
     "name": "stdout",
     "output_type": "stream",
     "text": [
      "Hello Lex, thanks for registering phone number 666666\n",
      "Hello Lex, thanks for registering phone number *********\n",
      "Hello Lex, thanks for registering phone number 666666\n",
      "Hello Lex, thanks for registering phone number *********\n"
     ]
    }
   ],
   "source": [
    "Customer lex = new Customer(\"Lex\",\"666666\");\n",
    "greetCustomer(lex);\n",
    "\n",
    "greetCustomerV2(lex, false);\n",
    "\n",
    "// Consumer Functional interface\n",
    "greetCustomerConsumer.accept(lex);\n",
    "\n",
    "greetCustomerBiConsumer.accept(lex, false);"
   ]
  },
  {
   "cell_type": "markdown",
   "id": "c752a4ef-4531-4c5b-a26f-4dcd084d0133",
   "metadata": {},
   "source": [
    "## _Function_"
   ]
  },
  {
   "cell_type": "code",
   "execution_count": 143,
   "id": "ad1542a9-84f2-4d50-b4e2-fa8b21dba440",
   "metadata": {},
   "outputs": [],
   "source": [
    "static Function<Integer, Integer> incrementByOneFunc = num -> num + 1;\n",
    "\n",
    "static Function<Integer, Integer> multipleBy10Func = number -> number * 10;\n",
    "\n",
    "// incrementByOne same as incrementByOneFunc\n",
    "static int incrementByOne(int num){\n",
    "    return num+1;\n",
    "}"
   ]
  },
  {
   "cell_type": "markdown",
   "id": "cfdb0b19-a3b9-4371-926c-4430af458dd6",
   "metadata": {},
   "source": [
    "### _BiFunction_"
   ]
  },
  {
   "cell_type": "code",
   "execution_count": 144,
   "id": "7caefec8-fcc4-499f-9a82-1fa453af3ad0",
   "metadata": {},
   "outputs": [],
   "source": [
    "static BiFunction<Integer, Integer, Integer> incrementByOneAndMultiplyBiFunc =\n",
    "        (numberToIncrementByOne, numberToMultiplyBy) -> (numberToIncrementByOne+1) * numberToMultiplyBy;\n",
    "\n",
    "static int incrementByOneAndMultiply(int num, int numToMultiplyBy) {\n",
    "    return (num+1) * numToMultiplyBy;\n",
    "}"
   ]
  },
  {
   "cell_type": "code",
   "execution_count": 125,
   "id": "4e3010df-677d-4247-871d-ae5fb629d203",
   "metadata": {},
   "outputs": [
    {
     "data": {
      "text/plain": [
       "2"
      ]
     },
     "execution_count": 125,
     "metadata": {},
     "output_type": "execute_result"
    }
   ],
   "source": [
    "int increment = incrementByOne(1);\n",
    "increment"
   ]
  },
  {
   "cell_type": "code",
   "execution_count": 126,
   "id": "1c69c529-1887-42a5-ac97-1efaa7336581",
   "metadata": {},
   "outputs": [
    {
     "data": {
      "text/plain": [
       "2"
      ]
     },
     "execution_count": 126,
     "metadata": {},
     "output_type": "execute_result"
    }
   ],
   "source": [
    "int increment2 = incrementByOneFunc.apply(1);\n",
    "increment2"
   ]
  },
  {
   "cell_type": "code",
   "execution_count": 127,
   "id": "94b7c0ec-918f-42cf-993e-89bec07bafbb",
   "metadata": {},
   "outputs": [
    {
     "data": {
      "text/plain": [
       "20"
      ]
     },
     "execution_count": 127,
     "metadata": {},
     "output_type": "execute_result"
    }
   ],
   "source": [
    "int multiply = multipleBy10Func.apply(increment2);\n",
    "multiply"
   ]
  },
  {
   "cell_type": "code",
   "execution_count": 128,
   "id": "4b62e6f2-d4cb-422c-ba06-ea27c008169d",
   "metadata": {},
   "outputs": [
    {
     "name": "stdout",
     "output_type": "stream",
     "text": [
      "Function result: 50\n"
     ]
    }
   ],
   "source": [
    "Function<Integer, Integer> addBy1AndThenMultiplyBy10 = incrementByOneFunc.andThen(multipleBy10Func);\n",
    "System.out.println(\"Function result: \" + addBy1AndThenMultiplyBy10.apply(4));"
   ]
  },
  {
   "cell_type": "code",
   "execution_count": 130,
   "id": "2a9a2d8c-0f6e-49f1-bb43-8900217c1c59",
   "metadata": {},
   "outputs": [
    {
     "name": "stdout",
     "output_type": "stream",
     "text": [
      "500\n",
      "BiFunction result: 500\n"
     ]
    }
   ],
   "source": [
    "// BiFunction takes 2 argument and produces 1 result\n",
    "System.out.println(incrementByOneAndMultiply(4, 100));\n",
    "System.out.println(\"BiFunction result: \" + incrementByOneAndMultiplyBiFunc.apply(4, 100));"
   ]
  },
  {
   "cell_type": "markdown",
   "id": "86662c1c-2e94-402d-a217-71c855a48d3b",
   "metadata": {
    "jp-MarkdownHeadingCollapsed": true
   },
   "source": [
    "## _Predicate_"
   ]
  },
  {
   "cell_type": "code",
   "execution_count": 114,
   "id": "e0d4da51-58a3-4d6d-aa79-7e5d0db0db03",
   "metadata": {},
   "outputs": [],
   "source": [
    "static Predicate<String> containsNumber3 =\n",
    "            phoneNumber -> phoneNumber.contains(\"3\");\n",
    "\n",
    "static Predicate<String> isPhoneNumberValidPredicate =\n",
    "        phoneNumber ->\n",
    "                phoneNumber.startsWith(\"07\") && phoneNumber.length() == 11;\n",
    "\n",
    "static boolean isPhoneNumberValid (String phoneNumber){\n",
    "    return phoneNumber.startsWith(\"07\") && phoneNumber.length() == 11;\n",
    "}"
   ]
  },
  {
   "cell_type": "code",
   "execution_count": 121,
   "id": "43bc6751-acde-4822-8e2b-b44504d43563",
   "metadata": {},
   "outputs": [
    {
     "name": "stdout",
     "output_type": "stream",
     "text": [
      "Without Predicate------------------------------\n",
      "true\n",
      "false\n",
      "false\n",
      "With Predicate------------------------------\n",
      "true\n",
      "false\n",
      "false\n",
      "---------------------------------------------\n",
      "Is phone number valid and contains number 3 : true\n",
      "Is phone number valid and contains number 3 : true\n"
     ]
    }
   ],
   "source": [
    "System.out.println(\"Without Predicate------------------------------\");\n",
    "System.out.println(isPhoneNumberValid(\"07000000000\"));\n",
    "System.out.println(isPhoneNumberValid(\"0700000000\"));\n",
    "System.out.println(isPhoneNumberValid(\"09009877300\"));\n",
    "\n",
    "System.out.println(\"With Predicate------------------------------\");\n",
    "System.out.println(isPhoneNumberValidPredicate.test(\"07000000000\"));\n",
    "System.out.println(isPhoneNumberValidPredicate.test(\"0700000000\"));\n",
    "System.out.println(isPhoneNumberValidPredicate.test(\"09009877300\"));\n",
    "\n",
    "System.out.println(\"---------------------------------------------\");\n",
    "System.out.println(\"Is phone number valid and contains number 3 : \"\n",
    "                   + isPhoneNumberValidPredicate.or(containsNumber3).test(\"03\"));\n",
    "System.out.println(\"Is phone number valid and contains number 3 : \"\n",
    "                   + isPhoneNumberValidPredicate.and(containsNumber3).test(\"07000000003\"));"
   ]
  },
  {
   "cell_type": "markdown",
   "id": "eb575198-2592-49e4-9fcb-cb0a6851ffcd",
   "metadata": {},
   "source": [
    "## _Supplier_"
   ]
  },
  {
   "cell_type": "code",
   "execution_count": 68,
   "id": "6d4dcdc4-3773-45a8-bae3-08e810bbb910",
   "metadata": {},
   "outputs": [
    {
     "data": {
      "text/plain": [
       "[jdbc://localhost:3306/users, jdbc://localhost:3306/customers]"
      ]
     },
     "execution_count": 68,
     "metadata": {},
     "output_type": "execute_result"
    }
   ],
   "source": [
    "static Supplier<List<String>> getDBConnectionURLsSupplier =\n",
    "    () -> List.of(\n",
    "            \"jdbc://localhost:3306/users\",\n",
    "            \"jdbc://localhost:3306/customers\"\n",
    "    );\n",
    "getDBConnectionURLsSupplier.get()"
   ]
  },
  {
   "cell_type": "markdown",
   "id": "d616567c-70c2-4db4-94a5-836047f963a1",
   "metadata": {},
   "source": [
    "## _Stream_"
   ]
  },
  {
   "cell_type": "code",
   "execution_count": 45,
   "id": "32ccb4a9-c079-443c-8606-e853d430a46f",
   "metadata": {},
   "outputs": [
    {
     "name": "stdout",
     "output_type": "stream",
     "text": [
      "Key = 1\n",
      "Key = 2\n",
      "Key = 3\n"
     ]
    }
   ],
   "source": [
    "List<String> keys = List.of(\"\", \"1\", \"2\", \"3\");\n",
    "\n",
    "keys.stream()\n",
    "        .filter(k -> !k.isEmpty())\n",
    "        .forEach(k -> System.out.println(\"Key = \" + k));"
   ]
  },
  {
   "cell_type": "code",
   "execution_count": 79,
   "id": "6a2b1093-e63b-482a-90cf-41ad4a3c782d",
   "metadata": {},
   "outputs": [],
   "source": [
    "List<Person> people = List.of(\n",
    "            new Person(\"John\", Gender.MALE),\n",
    "            new Person(\"Maria\", Gender.FEMALE),\n",
    "            new Person(\"Aisha\", Gender.FEMALE),\n",
    "            new Person(\"Alex\", Gender.MALE),\n",
    "            new Person(\"Alice\", Gender.FEMALE),\n",
    "            new Person(\"Test\", Gender.FEMALE)\n",
    "    );"
   ]
  },
  {
   "cell_type": "markdown",
   "id": "a1ccf545-850e-43cb-846f-ce5f51c549e3",
   "metadata": {},
   "source": [
    "### Demo1"
   ]
  },
  {
   "cell_type": "code",
   "execution_count": 89,
   "id": "f60cac1e-f1bb-4c0e-aa66-c8566ae10662",
   "metadata": {},
   "outputs": [],
   "source": [
    "Function<Person, String> personStringFunction = person -> person.getName();\n",
    "ToIntFunction<String> lengthFunc = String::length;\n",
    "IntConsumer IntConsumerPrintln = x -> System.out.println(x);"
   ]
  },
  {
   "cell_type": "code",
   "execution_count": 102,
   "id": "4429eeba-19c3-4ac0-8979-f376dae88bf8",
   "metadata": {},
   "outputs": [
    {
     "name": "stdout",
     "output_type": "stream",
     "text": [
      "Test\n",
      "6\n",
      "100\n"
     ]
    }
   ],
   "source": [
    "String p_name = personStringFunction.apply(new Person(\"Test\", Gender.NONE));\n",
    "out.println(p_name);\n",
    "int len = lengthFunc.applyAsInt(\"String\");\n",
    "out.println(len);\n",
    "IntConsumerPrintln.accept(100);"
   ]
  },
  {
   "cell_type": "code",
   "execution_count": 113,
   "id": "8a368c74-f5b3-462d-818f-383d871f4ef2",
   "metadata": {},
   "outputs": [
    {
     "name": "stdout",
     "output_type": "stream",
     "text": [
      "4\n",
      "5\n",
      "5\n",
      "4\n",
      "5\n",
      "4\n"
     ]
    }
   ],
   "source": [
    "people.stream()\n",
    "    .map(person -> person.getName())\n",
    "    .mapToInt(String::length)\n",
    "    .forEach(System.out::println);"
   ]
  },
  {
   "cell_type": "markdown",
   "id": "3b008a7c-d855-4f5d-abf9-65c3103c4789",
   "metadata": {},
   "source": [
    "### Demo2"
   ]
  },
  {
   "cell_type": "code",
   "execution_count": 109,
   "id": "1f775a89-9062-48ef-b76c-02975fee3d5c",
   "metadata": {},
   "outputs": [
    {
     "data": {
      "text/plain": [
       "false"
      ]
     },
     "execution_count": 109,
     "metadata": {},
     "output_type": "execute_result"
    }
   ],
   "source": [
    "Predicate<Person> personPredicate = person -> Gender.FEMALE.equals(person.getGender());\n",
    "personPredicate.test(new Person(\"Test\", Gender.NONE));"
   ]
  },
  {
   "cell_type": "code",
   "execution_count": 112,
   "id": "44ad9f0b-e7e2-43aa-85c9-1a4631674f37",
   "metadata": {},
   "outputs": [
    {
     "name": "stdout",
     "output_type": "stream",
     "text": [
      "true\n"
     ]
    }
   ],
   "source": [
    "boolean containsOnlyFemale = people.stream()\n",
    "            .noneMatch(person -> Gender.NONE.equals(person.getGender()));\n",
    "//          .anyMatch(person -> FEMALE.equals(person.getGender()));\n",
    "//          .allMatch(personPredicate);\n",
    "System.out.println(containsOnlyFemale);"
   ]
  },
  {
   "cell_type": "markdown",
   "id": "0f864ba6-1656-4f68-ada9-8659aed20d94",
   "metadata": {},
   "source": [
    "---"
   ]
  },
  {
   "cell_type": "markdown",
   "id": "af48008e-8fbd-4776-94d3-8c7984a0edb1",
   "metadata": {},
   "source": [
    "## _Bixxxxxx_"
   ]
  },
  {
   "cell_type": "markdown",
   "id": "3f029268-9bf4-4e72-8d83-59ea5ddab21d",
   "metadata": {},
   "source": [
    "### BiFunction"
   ]
  },
  {
   "cell_type": "code",
   "execution_count": 51,
   "id": "9fdae4c0-4516-4a7d-8c3c-3bb21b037956",
   "metadata": {},
   "outputs": [],
   "source": [
    "public class BiFuncService {\n",
    "    private final BiFunction<String, Integer, String> upperCaseName2 = (name, age) -> {\n",
    "        // logic\n",
    "        if(name.isBlank()) throw new IllegalArgumentException(\"\");\n",
    "        // System.out.println(age);\n",
    "        return name.toUpperCase();\n",
    "    };\n",
    "\n",
    "    public String getUpperCaseName(String name, int age) {\n",
    "        return upperCaseName2.apply(name, age);\n",
    "    }\n",
    "}"
   ]
  },
  {
   "cell_type": "code",
   "execution_count": 52,
   "id": "5a437c05-5aec-466d-aaea-4ad370e2a08b",
   "metadata": {},
   "outputs": [
    {
     "data": {
      "text/plain": [
       "ALEX"
      ]
     },
     "execution_count": 52,
     "metadata": {},
     "output_type": "execute_result"
    }
   ],
   "source": [
    "BiFuncService bifunc = new BiFuncService();\n",
    "String username = bifunc.getUpperCaseName(\"alex\", 20);\n",
    "username"
   ]
  },
  {
   "cell_type": "markdown",
   "id": "3089bca5-3b80-441e-821a-cb08c9833ccb",
   "metadata": {},
   "source": [
    "---"
   ]
  },
  {
   "cell_type": "markdown",
   "id": "74b63268-b970-4fdc-a5ae-8684e5857481",
   "metadata": {},
   "source": [
    "# Callbacks"
   ]
  },
  {
   "cell_type": "markdown",
   "id": "dc4297fe-fc4f-4d6a-9b5a-d873b89e037b",
   "metadata": {},
   "source": [
    "### Demo1"
   ]
  },
  {
   "cell_type": "code",
   "execution_count": 15,
   "id": "155a68f5-c5e3-4a7a-9472-ae4958e4a473",
   "metadata": {},
   "outputs": [],
   "source": [
    "interface Callback {\n",
    "    void success();\n",
    "\n",
    "    void fail();\n",
    "}\n",
    "public class Producer {\n",
    "    public void send(String msg, int ack, Callback callback) {\n",
    "        System.out.println(\"send msg : \" + msg);\n",
    "        if (ack == 0) {\n",
    "            callback.success();\n",
    "        } else {\n",
    "            callback.fail();\n",
    "        }\n",
    "    }\n",
    "}"
   ]
  },
  {
   "cell_type": "code",
   "execution_count": 16,
   "id": "2de0f5cf-b42a-4e04-ba94-16228586ec14",
   "metadata": {},
   "outputs": [
    {
     "name": "stdout",
     "output_type": "stream",
     "text": [
      "send msg : hello\n",
      "Send Successfully!\n"
     ]
    }
   ],
   "source": [
    "Producer producer = new Producer();\n",
    "String msg = \"hello\";\n",
    "\n",
    "producer.send(msg, 0, new Callback() {\n",
    "    @Override\n",
    "    public void success() {\n",
    "        System.out.println(\"Send Successfully!\");\n",
    "    }\n",
    "\n",
    "    @Override\n",
    "    public void fail() {\n",
    "        System.out.println(\"Send Failed!\");\n",
    "    }\n",
    "});"
   ]
  },
  {
   "cell_type": "markdown",
   "id": "d41fb206-bfd8-4cfb-9f2c-6aa1c8816cd8",
   "metadata": {},
   "source": [
    "### Demo2"
   ]
  },
  {
   "cell_type": "code",
   "execution_count": 17,
   "id": "0234c5c6-9cfb-4a65-a7f7-de38f65f2fd3",
   "metadata": {},
   "outputs": [],
   "source": [
    "static void hello(String firstName, String lastName, Consumer<String> callback){\n",
    "    System.out.println(firstName);\n",
    "    if (lastName != null){\n",
    "        System.out.println(lastName);\n",
    "    }else {\n",
    "        callback.accept(firstName);\n",
    "    }\n",
    "}\n",
    "\n",
    "static void hello2(String firstName, String lastName, Runnable callback){\n",
    "    System.out.println(firstName);\n",
    "    if (lastName != null){\n",
    "        System.out.println(lastName);\n",
    "    }else {\n",
    "        callback.run();\n",
    "    }\n",
    "}"
   ]
  },
  {
   "cell_type": "code",
   "execution_count": 19,
   "id": "5bd29c81-039e-44a3-a601-2fa511091b71",
   "metadata": {},
   "outputs": [
    {
     "name": "stdout",
     "output_type": "stream",
     "text": [
      "Lex\n",
      "no lastName provided for Lex\n",
      "Lex\n",
      "Test\n"
     ]
    }
   ],
   "source": [
    "hello(\"Lex\", null, value ->{\n",
    "    System.out.println(\"no lastName provided for \" + value);\n",
    "});\n",
    "\n",
    "hello2(\"Lex\", \"Test\", () -> System.out.println(\"no lastName provided\"));"
   ]
  },
  {
   "cell_type": "markdown",
   "id": "c1493de7-cc42-49a9-b25d-7bc4ad947aa6",
   "metadata": {},
   "source": [
    "## Interface"
   ]
  },
  {
   "cell_type": "code",
   "execution_count": 4,
   "id": "bee33449-5b0a-4913-832d-7ab53c549847",
   "metadata": {},
   "outputs": [],
   "source": [
    "interface ResponseCallback {\n",
    "    void process();\n",
    "}\n",
    "\n",
    "class Request {\n",
    "    public void send(ResponseCallback callback) throws InterruptedException {\n",
    "        Thread.sleep(3000);\n",
    "\n",
    "        callback.process();\n",
    "    }\n",
    "}"
   ]
  },
  {
   "cell_type": "code",
   "execution_count": 5,
   "id": "4b2515f1-3a85-430d-a1a7-73ff8292f9c4",
   "metadata": {},
   "outputs": [
    {
     "name": "stdout",
     "output_type": "stream",
     "text": [
      "Send Request!\n",
      "Send Completed!\n",
      "Receive Response!\n"
     ]
    }
   ],
   "source": [
    "final Request request = new Request();\n",
    "System.out.println(\"Send Request!\");\n",
    "\n",
    "new Thread(new Runnable() {\n",
    "    @Override\n",
    "    public void run() {\n",
    "        try {\n",
    "            request.send(new ResponseCallback() {\n",
    "                @Override\n",
    "                public void process() {\n",
    "                    System.out.println(\"Receive Response!\");\n",
    "                }\n",
    "            });\n",
    "        } catch (InterruptedException e) {\n",
    "            throw new RuntimeException(e);\n",
    "        }\n",
    "    }\n",
    "}).start();\n",
    "\n",
    "System.out.println(\"Send Completed!\");\n",
    "\n",
    "Thread.sleep(10000);"
   ]
  },
  {
   "cell_type": "markdown",
   "id": "4a3b6f53-bca7-4f15-a0d9-66cf11366993",
   "metadata": {},
   "source": [
    "## Lambda"
   ]
  },
  {
   "cell_type": "markdown",
   "id": "69334f5b-0176-4313-84c3-e5a1362ea2f6",
   "metadata": {},
   "source": [
    "### Demo1"
   ]
  },
  {
   "cell_type": "code",
   "execution_count": 6,
   "id": "dfbbe659-3072-46d0-b185-e3868eec35a1",
   "metadata": {},
   "outputs": [],
   "source": [
    "interface ResponseCallback {\n",
    "    void process();\n",
    "}\n",
    "\n",
    "class Request_L {\n",
    "    public void send(ResponseCallback callback) throws InterruptedException {\n",
    "        Thread.sleep(3000);\n",
    "\n",
    "        callback.process();\n",
    "    }\n",
    "}"
   ]
  },
  {
   "cell_type": "code",
   "execution_count": 7,
   "id": "93440cef-be38-4610-8dfe-517f2e5223f7",
   "metadata": {},
   "outputs": [
    {
     "name": "stdout",
     "output_type": "stream",
     "text": [
      "Send Request!\n",
      "Send Completed!\n",
      "Receive Response!\n"
     ]
    }
   ],
   "source": [
    "final Request_L request = new Request_L();\n",
    "System.out.println(\"Send Request!\");\n",
    "\n",
    "new Thread(() -> {\n",
    "    try {\n",
    "        request.send(() -> System.out.println(\"Receive Response!\"));\n",
    "    } catch (InterruptedException e) {\n",
    "        throw new RuntimeException(e);\n",
    "    }\n",
    "}).start();\n",
    "\n",
    "System.out.println(\"Send Completed!\");\n",
    "\n",
    "Thread.sleep(10000);"
   ]
  },
  {
   "cell_type": "markdown",
   "id": "ff03cd4d-1b86-4706-b4ee-0a5b3f00a68e",
   "metadata": {},
   "source": [
    "### Demo2"
   ]
  },
  {
   "cell_type": "code",
   "execution_count": 20,
   "id": "63400829-48ec-43b2-b905-d034442ee823",
   "metadata": {},
   "outputs": [
    {
     "name": "stdout",
     "output_type": "stream",
     "text": [
      "TEST\n"
     ]
    }
   ],
   "source": [
    "Function<String, String> upperCaseName = name -> {\n",
    "    // logic\n",
    "     if(name.isBlank()) throw new IllegalArgumentException(\"\");\n",
    "     return name.toUpperCase();\n",
    "};\n",
    "\n",
    "System.out.println(upperCaseName.apply(\"test\"));"
   ]
  },
  {
   "cell_type": "markdown",
   "id": "5c545d83-1f83-4017-830c-4a69e59b7fae",
   "metadata": {},
   "source": [
    "## Reflection"
   ]
  },
  {
   "cell_type": "code",
   "execution_count": 8,
   "id": "1bdba5c4-0b19-4e9b-a7f6-3451abbb61f9",
   "metadata": {},
   "outputs": [],
   "source": [
    "import java.lang.reflect.Constructor;\n",
    "import java.lang.reflect.Method;\n",
    "\n",
    "class Callback {\n",
    "    public void process() {\n",
    "        System.out.println(\"Process Response\");\n",
    "    }\n",
    "}\n",
    "\n",
    "class Request_R {\n",
    "    public void send(Class<Callback> callbackClass, Method method) throws Exception {\n",
    "        Thread.sleep(3000);\n",
    "        System.out.println(\"Receive Response\");\n",
    "        Constructor<Callback> constructor = callbackClass.getDeclaredConstructor();\n",
    "        method.invoke(constructor.newInstance());\n",
    "    }\n",
    "}"
   ]
  },
  {
   "cell_type": "code",
   "execution_count": null,
   "id": "875ab4e7-bdb9-4949-a961-f60c8df2fcfd",
   "metadata": {},
   "outputs": [
    {
     "name": "stdout",
     "output_type": "stream",
     "text": [
      "Send Completed!\n",
      "Receive Response\n",
      "Process Response\n"
     ]
    }
   ],
   "source": [
    "final Request_R request = new Request_R();\n",
    "new Thread(() -> {\n",
    "    try {\n",
    "        request.send(Callback.class, Callback.class.getMethod(\"process\"));\n",
    "    } catch (Exception e) {\n",
    "        throw new RuntimeException(e);\n",
    "    }\n",
    "}).start();\n",
    "\n",
    "System.out.println(\"Send Completed!\");\n",
    "\n",
    "Thread.sleep(1000 * 1000);"
   ]
  },
  {
   "cell_type": "markdown",
   "id": "7fa72810-81a3-40f1-b424-78bd60c43477",
   "metadata": {},
   "source": [
    "---"
   ]
  },
  {
   "cell_type": "markdown",
   "id": "5434ef75-f4fc-47be-ae38-37b747718342",
   "metadata": {},
   "source": [
    "# Combinator Pattern"
   ]
  },
  {
   "cell_type": "code",
   "execution_count": 164,
   "id": "2d4b0456-bf6b-492b-9a40-3248d6e83c07",
   "metadata": {},
   "outputs": [],
   "source": [
    "public enum ValidationResult{\n",
    "    SUCCESS,\n",
    "    PHONE_NUMBER_NOT_VALID,\n",
    "    EMAIL_NOT_VALID,\n",
    "    IS_NOT_AN_ADULT;\n",
    "}"
   ]
  },
  {
   "cell_type": "code",
   "execution_count": 179,
   "id": "6431ba0d-9a66-4e3d-9ee9-13aadbee4fb5",
   "metadata": {},
   "outputs": [],
   "source": [
    "public class CustomerValidatorService {\n",
    "\n",
    "    public boolean isEmailValid(String email){\n",
    "        return email.contains(\"@\");\n",
    "    }\n",
    "\n",
    "    public boolean isPhoneNumberValid(String phoneNumber){\n",
    "        return phoneNumber.startsWith(\"+0\");\n",
    "    }\n",
    "\n",
    "    public boolean isAdult(LocalDate birth){\n",
    "        return Period.between(birth, LocalDate.now()).getYears() > 18;\n",
    "    }\n",
    "\n",
    "    public boolean isValid(FC_Customer customer){\n",
    "        return isEmailValid(customer.getEmail()) &&\n",
    "                isPhoneNumberValid(customer.getPhoneNumber()) &&\n",
    "                isAdult(customer.getBirth());\n",
    "    }\n",
    "}"
   ]
  },
  {
   "cell_type": "code",
   "execution_count": 178,
   "id": "3011701f-1153-4b4c-8798-9330e9504ca0",
   "metadata": {},
   "outputs": [
    {
     "name": "stdout",
     "output_type": "stream",
     "text": [
      "true\n"
     ]
    }
   ],
   "source": [
    "FC_Customer customer = new FC_Customer(\"Test01\",\"test@gmail.com\",\"+0898787879887\",LocalDate.of(2000, 1, 1));\n",
    "\n",
    "System.out.println(new CustomerValidatorService().isValid(customer));"
   ]
  },
  {
   "cell_type": "code",
   "execution_count": 177,
   "id": "fb6888b2-14f0-489e-9662-d13d77a79492",
   "metadata": {},
   "outputs": [],
   "source": [
    "@FunctionalInterface\n",
    "public interface CustomerRegistrationValidator\n",
    "        extends Function<FC_Customer, ValidationResult> {\n",
    "\n",
    "    static Logger log = Logger.getLogger(CustomerRegistrationValidator.class.getName());\n",
    "\n",
    "    static CustomerRegistrationValidator isEmailValid(){\n",
    "        return customer -> {\n",
    "            log.info(\"Running email validation\");\n",
    "            return customer.getEmail().contains(\"@\")\n",
    "                    ? ValidationResult.SUCCESS : ValidationResult.EMAIL_NOT_VALID;\n",
    "        };\n",
    "    }\n",
    "\n",
    "    static CustomerRegistrationValidator isPhoneNumberValid(){\n",
    "        return customer -> customer.getPhoneNumber().startsWith(\"+0\")\n",
    "                ? ValidationResult.SUCCESS : ValidationResult.PHONE_NUMBER_NOT_VALID;\n",
    "    }\n",
    "\n",
    "    static CustomerRegistrationValidator isAdult(){\n",
    "        return customer -> Period.between(customer.getBirth(), LocalDate.now()).getYears() > 18\n",
    "                ? ValidationResult.SUCCESS : ValidationResult.IS_NOT_AN_ADULT;\n",
    "    }\n",
    "\n",
    "    default CustomerRegistrationValidator and (CustomerRegistrationValidator other){\n",
    "        return customer -> {\n",
    "            ValidationResult result = this.apply(customer);\n",
    "            return result.equals(ValidationResult.SUCCESS) ? other.apply(customer) : result;\n",
    "        };\n",
    "    }\n",
    "}"
   ]
  },
  {
   "cell_type": "code",
   "execution_count": 176,
   "id": "fcb9b0ef-b302-46b2-b85c-991ed9a159bc",
   "metadata": {},
   "outputs": [
    {
     "name": "stdout",
     "output_type": "stream",
     "text": [
      "IS_NOT_AN_ADULT\n"
     ]
    },
    {
     "ename": "EvalException",
     "evalue": "IS_NOT_AN_ADULT",
     "output_type": "error",
     "traceback": [
      "\u001b[1m\u001b[31m---------------------------------------------------------------------------\u001b[0m",
      "\u001b[1m\u001b[31mjava.lang.IllegalStateException: IS_NOT_AN_ADULT\u001b[0m",
      "\u001b[1m\u001b[31m\tat .(#246:1)\u001b[0m"
     ]
    }
   ],
   "source": [
    "FC_Customer customer = new FC_Customer(\"Test01\",\"test@gmail.com\",\"+0898787879887\",LocalDate.of(2022, 1, 1));\n",
    "\n",
    "// if valid, we can store customer in db\n",
    "// Using combinator pattern\n",
    "// lazy\n",
    "// CustomerRegistrationValidator validator  = isEmailValid().and(isPhoneNumberValid()).and(isAdult());\n",
    "\n",
    "ValidationResult result = CustomerRegistrationValidator.isEmailValid()\n",
    "    .and(CustomerRegistrationValidator.isPhoneNumberValid())\n",
    "    .and(CustomerRegistrationValidator.isAdult())\n",
    "    .apply(customer);\n",
    "System.out.println(result);\n",
    "\n",
    "if (result != ValidationResult.SUCCESS){\n",
    "    throw new IllegalStateException(result.name());\n",
    "}"
   ]
  },
  {
   "cell_type": "markdown",
   "id": "4118ec3c-5fbc-4a01-962a-33c7cc21299b",
   "metadata": {},
   "source": [
    "---"
   ]
  },
  {
   "cell_type": "markdown",
   "id": "e76157a9-5cef-41f3-8068-4c21e0393a6b",
   "metadata": {
    "jp-MarkdownHeadingCollapsed": true
   },
   "source": [
    "# Operations"
   ]
  },
  {
   "cell_type": "code",
   "execution_count": 62,
   "id": "105bf2ff-4d9b-4c55-a77f-f942e1c5b7ce",
   "metadata": {},
   "outputs": [
    {
     "name": "stdout",
     "output_type": "stream",
     "text": [
      "Before flattening: [[1, 2, 3], [4, 5], [6, 7, 8]]\n"
     ]
    }
   ],
   "source": [
    "List<Integer> a = Arrays.asList(1, 2, 3);\n",
    "List<Integer> b = Arrays.asList(4, 5);\n",
    "List<Integer> c = Arrays.asList(6, 7, 8);\n",
    "\n",
    "List<List<Integer>> listOfListsOfInts = Arrays.asList(a, b, c);\n",
    "System.out.println(\"Before flattening: \" + listOfListsOfInts);"
   ]
  },
  {
   "cell_type": "markdown",
   "id": "a0be6232-1afb-4fc0-8a61-26d4ebf76020",
   "metadata": {},
   "source": [
    "## `map()`"
   ]
  },
  {
   "cell_type": "code",
   "execution_count": 64,
   "id": "cb427a83-e2d3-417b-9757-d191893a4e49",
   "metadata": {},
   "outputs": [
    {
     "name": "stdout",
     "output_type": "stream",
     "text": [
      "map() Still : [[1, 2, 3], [4, 5], [6, 7, 8]]\n"
     ]
    }
   ],
   "source": [
    "List<List<Integer>> listOfInts1 = listOfListsOfInts.stream()\n",
    "        .map(list -> list.stream().collect(Collectors.toList()))\n",
    "        .collect(Collectors.toList());\n",
    "\n",
    "System.out.println(\"map() Still : \" + listOfInts1);"
   ]
  },
  {
   "cell_type": "markdown",
   "id": "69beaa1f-18ce-4d90-8e13-caf6043240a3",
   "metadata": {},
   "source": [
    "## `flatMap()`"
   ]
  },
  {
   "cell_type": "code",
   "execution_count": 65,
   "id": "6821f717-73bc-4629-bd3e-327bf2a22215",
   "metadata": {},
   "outputs": [],
   "source": [
    "List<Integer> listOfInts2 = listOfListsOfInts.stream()\n",
    "            .flatMap(Collection::stream)\n",
    "            .collect(Collectors.toList());"
   ]
  },
  {
   "cell_type": "code",
   "execution_count": 66,
   "id": "f1200a2a-c0d0-4c7f-a11e-a3f1f9001759",
   "metadata": {},
   "outputs": [
    {
     "name": "stdout",
     "output_type": "stream",
     "text": [
      "After flattening  : [1, 2, 3, 4, 5, 6, 7, 8]\n"
     ]
    }
   ],
   "source": [
    "System.out.println(\"After flattening  : \" + listOfInts2);"
   ]
  },
  {
   "cell_type": "markdown",
   "id": "6cded2a7-fc72-4d09-8a1e-08fe8bf0900a",
   "metadata": {},
   "source": [
    "---"
   ]
  }
 ],
 "metadata": {
  "kernelspec": {
   "display_name": "Java",
   "language": "java",
   "name": "java"
  },
  "language_info": {
   "codemirror_mode": "java",
   "file_extension": ".jshell",
   "mimetype": "text/x-java-source",
   "name": "Java",
   "pygments_lexer": "java",
   "version": "21+35-jvmci-23.1-b15"
  },
  "widgets": {
   "application/vnd.jupyter.widget-state+json": {
    "state": {},
    "version_major": 2,
    "version_minor": 0
   }
  }
 },
 "nbformat": 4,
 "nbformat_minor": 5
}
