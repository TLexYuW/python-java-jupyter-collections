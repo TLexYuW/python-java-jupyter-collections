{
 "cells": [
  {
   "cell_type": "markdown",
   "id": "d0143813-e78f-4e5a-966f-779925933541",
   "metadata": {},
   "source": [
    "# Import"
   ]
  },
  {
   "cell_type": "code",
   "execution_count": 34,
   "id": "81ea9130-7cbe-43a6-a8b7-19fc8bb65a0d",
   "metadata": {},
   "outputs": [],
   "source": [
    "import java.util.stream.Stream;\n",
    "import java.util.function.*;\n",
    "import java.util.Collection.*;"
   ]
  },
  {
   "cell_type": "markdown",
   "id": "033f7c83-3213-4c57-9b6a-dc3eb95b8980",
   "metadata": {},
   "source": [
    "---"
   ]
  },
  {
   "cell_type": "markdown",
   "id": "41802b25-61a8-49aa-b514-3e47da242159",
   "metadata": {},
   "source": [
    "# Setup"
   ]
  },
  {
   "cell_type": "code",
   "execution_count": 125,
   "id": "fc7714ef-131b-4e1b-922f-c1889ef7a005",
   "metadata": {},
   "outputs": [],
   "source": [
    "Supplier<Stream<Integer>> intStreamSupplier = () -> Stream.of(1,2,2,3,4,5,5,6,7,8,9,9,9,10,10);\n",
    "List<String> someList = Arrays.asList(\"x,y,z\", \"999,666,333\");\n",
    "List<Integer> numbers = Arrays.asList(1, 2, 3, 4, 5, 6, 7, 8, 9, 10, 11, 12, 13, 14, 15, 16, 17, 18, 19, 20, 21, 22, 23, 24);"
   ]
  },
  {
   "cell_type": "code",
   "execution_count": 126,
   "id": "96745a3b-ce33-4a73-9331-8bfa732cf482",
   "metadata": {},
   "outputs": [],
   "source": [
    "public class Thing{\n",
    "    private int id;\n",
    "    private int thingNum;\n",
    "\n",
    "    public Thing(int id, int thingNum) {\n",
    "        this.id = id;\n",
    "\t\tthis.thingNum = thingNum;\n",
    "\t}\n",
    "\n",
    "    public void setThingNum(int thingNum){\n",
    "         this.thingNum = thingNum;\n",
    "    }\n",
    "    \n",
    "    public int getThingNum() {\n",
    "\t\treturn this.thingNum;\n",
    "\t}\n",
    "    \n",
    "    public void setId(int id){\n",
    "         this.id = id;\n",
    "    }\n",
    "    \n",
    "    public int getId() {\n",
    "\t\treturn this.id;\n",
    "\t}\n",
    "\n",
    "    @Override\n",
    "    public String toString(){\n",
    "        return \"thing's id = \" + id + \" and number = \" + thingNum;\n",
    "    }\n",
    "}"
   ]
  },
  {
   "cell_type": "code",
   "execution_count": 127,
   "id": "14d4db25-7a77-4242-ab87-8259d2ddef54",
   "metadata": {},
   "outputs": [],
   "source": [
    "Thing t1 = new Thing(1, 100);\n",
    "Thing t2 = new Thing(2, 50);\n",
    "Supplier<Stream<Thing>> things = () -> Stream.of(t1, t2);"
   ]
  },
  {
   "cell_type": "markdown",
   "id": "1b935757-74fc-454c-9053-e30e0ed5aac5",
   "metadata": {},
   "source": [
    "---"
   ]
  },
  {
   "cell_type": "markdown",
   "id": "29c209b5-4f87-474c-9e6c-e3a36fa88229",
   "metadata": {},
   "source": [
    "# TOC"
   ]
  },
  {
   "cell_type": "markdown",
   "id": "a22c1a0d-65d8-4a82-8325-e34048f33928",
   "metadata": {},
   "source": [
    "- Intermediate Operations\n",
    "    - Stateless\n",
    "        - `unordered()`\n",
    "        - `filter()`\n",
    "        - `map()`\n",
    "        - `mapToInt()`\n",
    "        - `mapToLong()`\n",
    "        - `mapToDouble()`\n",
    "        - `flatMap()`\n",
    "        - `flatMapToInt()`\n",
    "        - `flatMapToLong()`\n",
    "        - `flatMapToDouble()`\n",
    "        - `peek()`\n",
    "    - Stateful\n",
    "        - [`distinct()`](#distinct())\n",
    "        - `sorted()`\n",
    "        - `limit()`\n",
    "        - [`skip()`](#skip())\n",
    "- Terminal Operation\n",
    "    - Non-Short-Circuit\n",
    "        - `forEach()`\n",
    "        - `forEachOrdered()`\n",
    "        - `toArray()`\n",
    "        - `reduce()`\n",
    "        - `collect()`\n",
    "        - `max()`\n",
    "        - `min()`\n",
    "        - `count()`\n",
    "    - Short-Circuit\n",
    "        - `anyMatch()`\n",
    "        - `allMatch()`\n",
    "        - `noneMatch()`\n",
    "        - `findFirst()`\n",
    "        - `findAny()`\n",
    "        - `limit()`"
   ]
  },
  {
   "cell_type": "markdown",
   "id": "01502c79-9751-49b5-8c09-d5a73868571c",
   "metadata": {},
   "source": [
    "---"
   ]
  },
  {
   "cell_type": "markdown",
   "id": "e4971b5c-11dc-495e-a109-4e808e652de0",
   "metadata": {
    "jp-MarkdownHeadingCollapsed": true
   },
   "source": [
    "# Create Stream"
   ]
  },
  {
   "cell_type": "markdown",
   "id": "3b8cfb4e-3026-469e-a9e9-9e8c566be54f",
   "metadata": {},
   "source": [
    "#### Use Collection"
   ]
  },
  {
   "cell_type": "code",
   "execution_count": 36,
   "id": "274acea3-a300-4906-8db4-f69f83d5f54c",
   "metadata": {},
   "outputs": [],
   "source": [
    "List<String> list = new ArrayList(Arrays.asList(intStreamSupplier.get().toArray()));\n",
    "Stream<String> stream = list.stream();\n",
    "Stream<String> parallelStream = list.parallelStream();"
   ]
  },
  {
   "cell_type": "markdown",
   "id": "e1cf21bc-8bff-4363-9fe9-5242765a83e0",
   "metadata": {},
   "source": [
    "#### Use Arrays"
   ]
  },
  {
   "cell_type": "code",
   "execution_count": 39,
   "id": "c12c3bd2-024c-4900-a790-6f572060c502",
   "metadata": {},
   "outputs": [
    {
     "name": "stdout",
     "output_type": "stream",
     "text": [
      "54321"
     ]
    }
   ],
   "source": [
    "Integer[] nums = new Integer[]{5,4,3,2,1};\n",
    "Stream<Integer> stream = Arrays.stream(nums);\n",
    "stream.forEach(System.out::print);"
   ]
  },
  {
   "cell_type": "markdown",
   "id": "1047e009-f8aa-4aab-a414-9f1c68ba5a76",
   "metadata": {},
   "source": [
    "#### Use Stream"
   ]
  },
  {
   "cell_type": "code",
   "execution_count": 41,
   "id": "76c2dfb4-012b-4a8f-9545-0fe76b721ee1",
   "metadata": {},
   "outputs": [
    {
     "name": "stdout",
     "output_type": "stream",
     "text": [
      "123456"
     ]
    }
   ],
   "source": [
    "Stream<Integer> stream = Stream.of(1,2,3,4,5,6);\n",
    "stream.forEach(System.out::print);"
   ]
  },
  {
   "cell_type": "code",
   "execution_count": 52,
   "id": "24dc3b0f-168f-4c94-8617-ca107d0aa7d6",
   "metadata": {},
   "outputs": [
    {
     "name": "stdout",
     "output_type": "stream",
     "text": [
      "1\n",
      "3\n",
      "5\n",
      "7\n",
      "9\n"
     ]
    }
   ],
   "source": [
    "Stream<Integer> stream2 = Stream.iterate(1, (x) -> x + 2).limit(5);\n",
    "stream2.forEach(System.out::println);"
   ]
  },
  {
   "cell_type": "code",
   "execution_count": 53,
   "id": "f2165138-5493-4cd3-818d-b8f3827891bc",
   "metadata": {},
   "outputs": [
    {
     "name": "stdout",
     "output_type": "stream",
     "text": [
      "0.7300979614771675\n",
      "0.21043144795685287\n"
     ]
    }
   ],
   "source": [
    "Stream<Double> stream3 = Stream.generate(Math::random).limit(2);\n",
    "stream3.forEach(System.out::println);"
   ]
  },
  {
   "cell_type": "markdown",
   "id": "a8974da1-efb8-42d2-8a8b-5557a76f9c05",
   "metadata": {},
   "source": [
    "#### Use `BufferReader.lines()`"
   ]
  },
  {
   "cell_type": "code",
   "execution_count": 58,
   "id": "0e6b9ac7-a087-4be3-b176-4a275ae05161",
   "metadata": {},
   "outputs": [
    {
     "name": "stdout",
     "output_type": "stream",
     "text": [
      "I delete all of the context\n"
     ]
    }
   ],
   "source": [
    "BufferedReader reader = new BufferedReader(new FileReader(\"../../datasets/others/context.txt\"));\n",
    "Stream<String> lineStream = reader.lines();\n",
    "lineStream.forEach(System.out::println);"
   ]
  },
  {
   "cell_type": "markdown",
   "id": "b94724b2-9866-4164-9330-04e9a95251c2",
   "metadata": {},
   "source": [
    "#### Use `Pattern.splitAsStream()`"
   ]
  },
  {
   "cell_type": "code",
   "execution_count": 59,
   "id": "a3db878d-64b7-4939-8114-1a6cbef8c608",
   "metadata": {},
   "outputs": [
    {
     "name": "stdout",
     "output_type": "stream",
     "text": [
      "Neque\n",
      "porro\n",
      "quisquam\n",
      "est\n",
      "qui\n",
      "dolorem\n",
      "ipsum\n",
      "quia\n",
      "dolor\n",
      "sit\n",
      "amet,\n",
      "consectetur,\n",
      "adipisci\n",
      "velit...\n"
     ]
    }
   ],
   "source": [
    "Pattern pattern = Pattern.compile(\" \");\n",
    "Stream<String> stringStream = pattern.splitAsStream(\"Neque porro quisquam est qui dolorem ipsum quia dolor sit amet, consectetur, adipisci velit...\");\n",
    "stringStream.forEach(System.out::println);"
   ]
  },
  {
   "cell_type": "markdown",
   "id": "234e961d-ead0-48c2-bd8d-7162c69cd9c1",
   "metadata": {},
   "source": [
    "---"
   ]
  },
  {
   "cell_type": "markdown",
   "id": "b572b94c-65e3-4c63-b7a7-eb1f72da1ad3",
   "metadata": {},
   "source": [
    "# Stateless"
   ]
  },
  {
   "cell_type": "markdown",
   "id": "923ecb2a-82fd-4583-baed-c8df66d24a37",
   "metadata": {},
   "source": [
    "### filter()"
   ]
  },
  {
   "cell_type": "code",
   "execution_count": 63,
   "id": "9e3e20ad-6634-46f2-a71d-63bf0be3fbf9",
   "metadata": {},
   "outputs": [
    {
     "name": "stdout",
     "output_type": "stream",
     "text": [
      "2\n",
      "4\n",
      "6\n",
      "8\n",
      "10\n"
     ]
    }
   ],
   "source": [
    "intStreamSupplier.get().distinct().filter(e -> e % 2 == 0).forEach(System.out::println);"
   ]
  },
  {
   "cell_type": "markdown",
   "id": "e834d130-4fa1-4e99-a56b-ca68b4689a56",
   "metadata": {},
   "source": [
    "### map()"
   ]
  },
  {
   "cell_type": "code",
   "execution_count": 71,
   "id": "7ef131ae-9004-4745-bd89-6264a05b4a9d",
   "metadata": {},
   "outputs": [
    {
     "name": "stdout",
     "output_type": "stream",
     "text": [
      "xyz\n",
      "999666333\n"
     ]
    }
   ],
   "source": [
    "Stream<String> s1 = someList.stream().map(s -> s.replaceAll(\",\", \"\"));\n",
    "s1.forEach(System.out::println);"
   ]
  },
  {
   "cell_type": "markdown",
   "id": "5bc82886-c86b-4dce-af91-802c54d34cf3",
   "metadata": {},
   "source": [
    "### flatMap()"
   ]
  },
  {
   "cell_type": "code",
   "execution_count": 88,
   "id": "a6f97154-7b5a-48a9-abea-96eba2c8ffcd",
   "metadata": {},
   "outputs": [
    {
     "name": "stdout",
     "output_type": "stream",
     "text": [
      "[x,y,z, 999,666,333]\n",
      "[x, y, z, 999, 666, 333]\n",
      "x\n",
      "y\n",
      "z\n",
      "999\n",
      "666\n",
      "333\n"
     ]
    }
   ],
   "source": [
    "Supplier<Stream<String>> s3Supplier = () -> someList.stream().flatMap(s -> {\n",
    "    String[] split = s.split(\",\");\n",
    "    Stream<String> s2 = Arrays.stream(split);\n",
    "    return s2;\n",
    "});\n",
    "\n",
    "System.out.println(someList);\n",
    "System.out.println(s3Supplier.get().toList());\n",
    "s3Supplier.get().forEach(System.out::println);"
   ]
  },
  {
   "cell_type": "markdown",
   "id": "e069bc6d-5c05-4cff-b419-d485c6ed8518",
   "metadata": {},
   "source": [
    "### sorted()\n",
    "- sorted() 自然排序，流中元素需實作Comparable介面\n",
    "- sorted(Comparator com)：客製排序，自訂Comparator排序器"
   ]
  },
  {
   "cell_type": "code",
   "execution_count": 92,
   "id": "25b67c75-c8a3-4c98-b7f5-f26f625c6fdd",
   "metadata": {},
   "outputs": [
    {
     "name": "stdout",
     "output_type": "stream",
     "text": [
      "[1, 2, 2, 3, 4, 5, 5, 6, 7, 8, 9, 9, 9, 10, 10]\n"
     ]
    }
   ],
   "source": [
    "List<Integer> nl = intStreamSupplier.get().sorted().toList();\n",
    "System.out.println(nl);"
   ]
  },
  {
   "cell_type": "code",
   "execution_count": 93,
   "id": "14da4a02-5f96-4a66-854a-b6b4be2df26e",
   "metadata": {},
   "outputs": [
    {
     "name": "stdout",
     "output_type": "stream",
     "text": [
      "[10, 10, 9, 9, 9, 8, 7, 6, 5, 5, 4, 3, 2, 2, 1]\n"
     ]
    }
   ],
   "source": [
    "List<Integer> nl = intStreamSupplier.get().sorted((a,b) -> b.compareTo(a)).toList();\n",
    "System.out.println(nl);"
   ]
  },
  {
   "cell_type": "markdown",
   "id": "fb5b77f4-ebaa-4eca-af26-7b9d17280b70",
   "metadata": {},
   "source": [
    "### peek()\n",
    "> 如同於`map`，能得到流中的每一個元素，但`map`接收的是一個`Function`，有回傳值\n",
    ">\n",
    "> 而`peek`接收的是 `Consumer`，沒有回傳值"
   ]
  },
  {
   "cell_type": "code",
   "execution_count": 113,
   "id": "1741cc4d-a22a-4a7f-913b-bc3aac21a855",
   "metadata": {},
   "outputs": [
    {
     "name": "stdout",
     "output_type": "stream",
     "text": [
      "thing's id = 1 and number = 9999999\n",
      "thing's id = 2 and number = 9999999\n"
     ]
    }
   ],
   "source": [
    "things.get().peek(t -> t.setThingNum(9999999)).forEach(System.out::println);"
   ]
  },
  {
   "cell_type": "markdown",
   "id": "403d830a-4d55-4c78-b05a-ffef9ab9c5d0",
   "metadata": {},
   "source": [
    "### filter"
   ]
  },
  {
   "cell_type": "code",
   "execution_count": null,
   "id": "2f6a8f9a-b25b-42c1-acd3-a95a299e5d6f",
   "metadata": {},
   "outputs": [],
   "source": []
  },
  {
   "cell_type": "markdown",
   "id": "c8fdd068-7749-41f3-a9a2-434289ddbbae",
   "metadata": {},
   "source": [
    "### filter"
   ]
  },
  {
   "cell_type": "code",
   "execution_count": null,
   "id": "9e9831c4-2fbc-4376-8757-a08b1528464d",
   "metadata": {},
   "outputs": [],
   "source": []
  },
  {
   "cell_type": "markdown",
   "id": "2d6c274e-dd39-4e2b-81a2-deb4374e0fbe",
   "metadata": {},
   "source": [
    "### filter"
   ]
  },
  {
   "cell_type": "code",
   "execution_count": null,
   "id": "a408da3e-04ae-434b-a6ff-e92396529890",
   "metadata": {},
   "outputs": [],
   "source": []
  },
  {
   "cell_type": "markdown",
   "id": "0fd774ae-2b92-4715-8b3f-94f358e13061",
   "metadata": {},
   "source": [
    "### filter"
   ]
  },
  {
   "cell_type": "code",
   "execution_count": null,
   "id": "d0e55e56-8297-495f-8917-8e8f157905f5",
   "metadata": {},
   "outputs": [],
   "source": []
  },
  {
   "cell_type": "markdown",
   "id": "ce86b616-e9e7-485d-a814-e1c6d09f1811",
   "metadata": {},
   "source": [
    "### filter"
   ]
  },
  {
   "cell_type": "code",
   "execution_count": null,
   "id": "a47c96bf-a303-42e2-af3a-d628759f0aaf",
   "metadata": {},
   "outputs": [],
   "source": []
  },
  {
   "cell_type": "markdown",
   "id": "85140986-9385-4218-9c49-3fd9ee9d4fd0",
   "metadata": {},
   "source": [
    "### filter"
   ]
  },
  {
   "cell_type": "code",
   "execution_count": null,
   "id": "ecd4cce7-98ea-472c-a300-a2efbe26108b",
   "metadata": {},
   "outputs": [],
   "source": []
  },
  {
   "cell_type": "markdown",
   "id": "884ecbaa-bedc-489f-b411-f95284f982f8",
   "metadata": {},
   "source": [
    "### filter"
   ]
  },
  {
   "cell_type": "code",
   "execution_count": null,
   "id": "184ce2a1-5648-420c-af54-7db7b020a7b6",
   "metadata": {},
   "outputs": [],
   "source": []
  },
  {
   "cell_type": "markdown",
   "id": "30a84143-4c36-446d-847b-0756185ec0aa",
   "metadata": {},
   "source": [
    "---"
   ]
  },
  {
   "cell_type": "markdown",
   "id": "f861a2f7-fa04-4bd8-8ad5-15d2b4d129cb",
   "metadata": {},
   "source": [
    "# Stateful"
   ]
  },
  {
   "cell_type": "markdown",
   "id": "8d606b73-4806-4af5-8d08-60864d836f04",
   "metadata": {},
   "source": [
    "### distinct()\n",
    "- 透過流中元素的 hashCode() 和 equals() 去除重複元素"
   ]
  },
  {
   "cell_type": "code",
   "execution_count": 24,
   "id": "21f77a20-320f-4ef8-a73a-d6c8e9fd5d75",
   "metadata": {},
   "outputs": [
    {
     "name": "stdout",
     "output_type": "stream",
     "text": [
      "1\n",
      "2\n",
      "3\n",
      "4\n",
      "5\n",
      "6\n",
      "7\n",
      "8\n",
      "9\n",
      "10\n"
     ]
    }
   ],
   "source": [
    "intStreamSupplier.get().distinct().forEach(System.out::println);"
   ]
  },
  {
   "cell_type": "markdown",
   "id": "f1d815b5-ee46-4fe4-ad80-e724dae775ed",
   "metadata": {},
   "source": [
    "### skip()\n",
    "- 略過n元素，配合`limit(n)`可實現分頁"
   ]
  },
  {
   "cell_type": "code",
   "execution_count": 26,
   "id": "148b80e0-6377-422c-8977-6bad71d9b0fd",
   "metadata": {},
   "outputs": [
    {
     "name": "stdout",
     "output_type": "stream",
     "text": [
      "10\n"
     ]
    }
   ],
   "source": [
    "intStreamSupplier.get().distinct().skip(9).forEach(System.out::println);"
   ]
  },
  {
   "cell_type": "markdown",
   "id": "23a55982-f505-4cc4-9e1f-fcc9ff4a0d9f",
   "metadata": {},
   "source": [
    "---"
   ]
  },
  {
   "cell_type": "markdown",
   "id": "e76dd02b-4d1b-4d6f-a2be-306bb1b0b242",
   "metadata": {},
   "source": [
    "# Non-Short-Circuit"
   ]
  },
  {
   "cell_type": "markdown",
   "id": "4cafe282-1339-42c3-883e-b25043729bca",
   "metadata": {},
   "source": [
    "### count()"
   ]
  },
  {
   "cell_type": "code",
   "execution_count": 121,
   "id": "ebc91f5b-6356-48d3-9cfe-fae8d2ff195b",
   "metadata": {},
   "outputs": [
    {
     "data": {
      "text/plain": [
       "15"
      ]
     },
     "execution_count": 121,
     "metadata": {},
     "output_type": "execute_result"
    }
   ],
   "source": [
    "intStreamSupplier.get().count();"
   ]
  },
  {
   "cell_type": "markdown",
   "id": "8287a9f3-535f-4a36-aeef-8fb906affcdf",
   "metadata": {},
   "source": [
    "### max()"
   ]
  },
  {
   "cell_type": "code",
   "execution_count": 123,
   "id": "a31f152a-aa13-4cf8-b4ae-8f631e700e23",
   "metadata": {},
   "outputs": [
    {
     "data": {
      "text/plain": [
       "10"
      ]
     },
     "execution_count": 123,
     "metadata": {},
     "output_type": "execute_result"
    }
   ],
   "source": [
    "intStreamSupplier.get().max(Integer::compare).get();"
   ]
  },
  {
   "cell_type": "markdown",
   "id": "4fb4ccaa-ce57-4c50-ae41-e31e5070ddc9",
   "metadata": {},
   "source": [
    "### min()"
   ]
  },
  {
   "cell_type": "code",
   "execution_count": 124,
   "id": "1af75db6-02ef-41ff-8f28-677bce45f223",
   "metadata": {
    "scrolled": true
   },
   "outputs": [
    {
     "data": {
      "text/plain": [
       "1"
      ]
     },
     "execution_count": 124,
     "metadata": {},
     "output_type": "execute_result"
    }
   ],
   "source": [
    "intStreamSupplier.get().min(Integer::compare).get();"
   ]
  },
  {
   "cell_type": "markdown",
   "id": "919a5500-ba42-4924-81c8-cbd2ab33a4b3",
   "metadata": {},
   "source": [
    "### reduce()"
   ]
  },
  {
   "cell_type": "code",
   "execution_count": 130,
   "id": "3cd48b3a-1c29-4842-bc2f-36d093b696b7",
   "metadata": {
    "scrolled": true
   },
   "outputs": [
    {
     "data": {
      "text/plain": [
       "28"
      ]
     },
     "execution_count": 130,
     "metadata": {},
     "output_type": "execute_result"
    }
   ],
   "source": [
    "List<Integer> numbers2 = Arrays.asList(1, 2, 3, 4, 5, 6, 7);\n",
    "numbers2.stream().reduce((x,y)-> x + y).get();"
   ]
  },
  {
   "cell_type": "code",
   "execution_count": 131,
   "id": "6e87e1ef-abfa-4b41-b38f-4ea375f08059",
   "metadata": {},
   "outputs": [
    {
     "data": {
      "text/plain": [
       "128"
      ]
     },
     "execution_count": 131,
     "metadata": {},
     "output_type": "execute_result"
    }
   ],
   "source": [
    "numbers2.stream().reduce(100, (x,y)-> x + y);"
   ]
  },
  {
   "cell_type": "code",
   "execution_count": 132,
   "id": "fb2b138f-03e5-4de1-a648-6a6d036333ae",
   "metadata": {},
   "outputs": [
    {
     "name": "stdout",
     "output_type": "stream",
     "text": [
      "stream accumulator: x:0  y:1\n",
      "stream accumulator: x:-1  y:2\n",
      "stream accumulator: x:-3  y:3\n",
      "stream accumulator: x:-6  y:4\n",
      "stream accumulator: x:-10  y:5\n",
      "stream accumulator: x:-15  y:6\n",
      "stream accumulator: x:-21  y:7\n"
     ]
    },
    {
     "data": {
      "text/plain": [
       "-28"
      ]
     },
     "execution_count": 132,
     "metadata": {},
     "output_type": "execute_result"
    }
   ],
   "source": [
    "numbers2.stream().reduce(0,\n",
    "        (x, y) -> {\n",
    "            System.out.println(\"stream accumulator: x:\" + x + \"  y:\" + y);\n",
    "            return x - y;\n",
    "        },\n",
    "        (x, y) -> {\n",
    "            System.out.println(\"stream combiner: x:\" + x + \"  y:\" + y);\n",
    "            return x * y;\n",
    "        });"
   ]
  },
  {
   "cell_type": "code",
   "execution_count": 134,
   "id": "a3881466-c014-44d1-8b56-4b2273236477",
   "metadata": {},
   "outputs": [
    {
     "ename": "IncompleteSourceException",
     "evalue": "numbers2.parallelStream().reduce((0,\n        (x, y) -> {\n            System.out.println(\"parallelStream accumulator: x:\" + x + \"  y:\" + y);\n            return x - y;\n        },\n        (x, y) -> {\n            System.out.println(\"parallelStream combiner: x:\" + x + \"  y:\" + y);\n            return x * y;\n        });",
     "output_type": "error",
     "traceback": [
      "\u001b[1m\u001b[31mIncomplete input:\u001b[0m",
      "\u001b[1m\u001b[30m|   \u001b[1m\u001b[30mnumbers2.parallelStream().reduce((0,\u001b[0m",
      "\u001b[1m\u001b[30m|   \u001b[1m\u001b[30m        (x, y) -> {\u001b[0m",
      "\u001b[1m\u001b[30m|   \u001b[1m\u001b[30m            System.out.println(\"parallelStream accumulator: x:\" + x + \"  y:\" + y);\u001b[0m",
      "\u001b[1m\u001b[30m|   \u001b[1m\u001b[30m            return x - y;\u001b[0m",
      "\u001b[1m\u001b[30m|   \u001b[1m\u001b[30m        },\u001b[0m",
      "\u001b[1m\u001b[30m|   \u001b[1m\u001b[30m        (x, y) -> {\u001b[0m",
      "\u001b[1m\u001b[30m|   \u001b[1m\u001b[30m            System.out.println(\"parallelStream combiner: x:\" + x + \"  y:\" + y);\u001b[0m",
      "\u001b[1m\u001b[30m|   \u001b[1m\u001b[30m            return x * y;\u001b[0m",
      "\u001b[1m\u001b[30m|   \u001b[1m\u001b[30m        });\u001b[0m"
     ]
    }
   ],
   "source": [
    "numbers2.parallelStream().reduce((0,\n",
    "        (x, y) -> {\n",
    "            System.out.println(\"parallelStream accumulator: x:\" + x + \"  y:\" + y);\n",
    "            return x - y;\n",
    "        },\n",
    "        (x, y) -> {\n",
    "            System.out.println(\"parallelStream combiner: x:\" + x + \"  y:\" + y);\n",
    "            return x * y;\n",
    "        });"
   ]
  },
  {
   "cell_type": "markdown",
   "id": "a6abfeac-425e-42db-a3e1-8bfe3aee1423",
   "metadata": {},
   "source": [
    "---"
   ]
  },
  {
   "cell_type": "markdown",
   "id": "963d27e1-3644-4a04-807c-b78d4c9a484d",
   "metadata": {},
   "source": [
    "# Short-Circuit"
   ]
  },
  {
   "cell_type": "markdown",
   "id": "82f1845a-e96f-4605-a6a3-847f18d152db",
   "metadata": {},
   "source": [
    "### limit()"
   ]
  },
  {
   "cell_type": "code",
   "execution_count": 61,
   "id": "c1385f3a-4213-421c-95b3-d9d423521cb1",
   "metadata": {},
   "outputs": [
    {
     "name": "stdout",
     "output_type": "stream",
     "text": [
      "1\n",
      "2\n"
     ]
    }
   ],
   "source": [
    "intStreamSupplier.get().limit(2).forEach(System.out::println);"
   ]
  },
  {
   "cell_type": "markdown",
   "id": "037cf8e6-dba7-4df2-8600-28b182a8fce2",
   "metadata": {},
   "source": [
    "### allMatch()"
   ]
  },
  {
   "cell_type": "code",
   "execution_count": 116,
   "id": "6b51ed6e-3bc3-4c01-a9ad-e025fc9a24f8",
   "metadata": {},
   "outputs": [
    {
     "data": {
      "text/plain": [
       "false"
      ]
     },
     "execution_count": 116,
     "metadata": {},
     "output_type": "execute_result"
    }
   ],
   "source": [
    "intStreamSupplier.get().allMatch(e -> e > 100);"
   ]
  },
  {
   "cell_type": "markdown",
   "id": "766252c6-672f-48b4-aef4-d585f352ba5c",
   "metadata": {},
   "source": [
    "### noneMatch()"
   ]
  },
  {
   "cell_type": "code",
   "execution_count": 117,
   "id": "28887f66-050e-4e00-b850-75a54d221019",
   "metadata": {},
   "outputs": [
    {
     "data": {
      "text/plain": [
       "true"
      ]
     },
     "execution_count": 117,
     "metadata": {},
     "output_type": "execute_result"
    }
   ],
   "source": [
    "intStreamSupplier.get().noneMatch(e -> e > 100);"
   ]
  },
  {
   "cell_type": "markdown",
   "id": "f80a6804-49e1-44d9-8bb1-d8a3b3fd9537",
   "metadata": {},
   "source": [
    "### anyMatch()"
   ]
  },
  {
   "cell_type": "code",
   "execution_count": 118,
   "id": "4eccbe39-2a59-4d4c-b42f-6155068a06c8",
   "metadata": {},
   "outputs": [
    {
     "data": {
      "text/plain": [
       "true"
      ]
     },
     "execution_count": 118,
     "metadata": {},
     "output_type": "execute_result"
    }
   ],
   "source": [
    "intStreamSupplier.get().anyMatch(e -> e > 7);"
   ]
  },
  {
   "cell_type": "markdown",
   "id": "ed75eab0-0f16-40cc-98fd-becc41299cb5",
   "metadata": {},
   "source": [
    "### findFirst()"
   ]
  },
  {
   "cell_type": "code",
   "execution_count": 119,
   "id": "1c7d75ff-b282-47fc-874c-048934acbb57",
   "metadata": {},
   "outputs": [
    {
     "data": {
      "text/plain": [
       "1"
      ]
     },
     "execution_count": 119,
     "metadata": {},
     "output_type": "execute_result"
    }
   ],
   "source": [
    "intStreamSupplier.get().findFirst().get();"
   ]
  },
  {
   "cell_type": "markdown",
   "id": "884a2e21-93f2-43d6-80f3-7cfc6c024da0",
   "metadata": {},
   "source": [
    "### findAny()"
   ]
  },
  {
   "cell_type": "code",
   "execution_count": 120,
   "id": "ce7c448f-d3ed-4378-bfb8-ea33ecad0b87",
   "metadata": {},
   "outputs": [
    {
     "data": {
      "text/plain": [
       "1"
      ]
     },
     "execution_count": 120,
     "metadata": {},
     "output_type": "execute_result"
    }
   ],
   "source": [
    "intStreamSupplier.get().findAny().get();"
   ]
  },
  {
   "cell_type": "markdown",
   "id": "e61498cc-6dd6-46d4-99b4-934314dfc0a1",
   "metadata": {},
   "source": [
    "---"
   ]
  },
  {
   "cell_type": "markdown",
   "id": "103a51f9-7c41-46ee-bdbd-75eae74f648b",
   "metadata": {},
   "source": [
    "# "
   ]
  },
  {
   "cell_type": "code",
   "execution_count": null,
   "id": "c5bbd116-c494-4d5c-ae50-79010dc161ba",
   "metadata": {},
   "outputs": [],
   "source": []
  }
 ],
 "metadata": {
  "kernelspec": {
   "display_name": "Java",
   "language": "java",
   "name": "java"
  },
  "language_info": {
   "codemirror_mode": "java",
   "file_extension": ".jshell",
   "mimetype": "text/x-java-source",
   "name": "Java",
   "pygments_lexer": "java",
   "version": "17.0.6+10-jvmci-22.3-b13"
  },
  "widgets": {
   "application/vnd.jupyter.widget-state+json": {
    "state": {},
    "version_major": 2,
    "version_minor": 0
   }
  }
 },
 "nbformat": 4,
 "nbformat_minor": 5
}
