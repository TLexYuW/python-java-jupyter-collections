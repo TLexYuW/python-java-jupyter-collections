{
 "cells": [
  {
   "cell_type": "markdown",
   "id": "d0143813-e78f-4e5a-966f-779925933541",
   "metadata": {},
   "source": [
    "# Import"
   ]
  },
  {
   "cell_type": "code",
   "execution_count": 187,
   "id": "81ea9130-7cbe-43a6-a8b7-19fc8bb65a0d",
   "metadata": {},
   "outputs": [],
   "source": [
    "import java.util.stream.Stream;\n",
    "import java.util.function.*;\n",
    "import java.util.Collection.*;\n",
    "import java.util.stream.Collectors;\n",
    "import java.nio.file.Files;\n",
    "import java.nio.file.*;\n",
    "import java.io.File.*;\n",
    "import java.nio.charset.StandardCharsets;"
   ]
  },
  {
   "cell_type": "markdown",
   "id": "033f7c83-3213-4c57-9b6a-dc3eb95b8980",
   "metadata": {},
   "source": [
    "---"
   ]
  },
  {
   "cell_type": "markdown",
   "id": "41802b25-61a8-49aa-b514-3e47da242159",
   "metadata": {},
   "source": [
    "# Setup"
   ]
  },
  {
   "cell_type": "code",
   "execution_count": 125,
   "id": "fc7714ef-131b-4e1b-922f-c1889ef7a005",
   "metadata": {},
   "outputs": [],
   "source": [
    "Supplier<Stream<Integer>> intStreamSupplier = () -> Stream.of(1,2,2,3,4,5,5,6,7,8,9,9,9,10,10);\n",
    "List<String> someList = Arrays.asList(\"x,y,z\", \"999,666,333\");\n",
    "List<Integer> numbers = Arrays.asList(1, 2, 3, 4, 5, 6, 7, 8, 9, 10, 11, 12, 13, 14, 15, 16, 17, 18, 19, 20, 21, 22, 23, 24);"
   ]
  },
  {
   "cell_type": "code",
   "execution_count": 126,
   "id": "96745a3b-ce33-4a73-9331-8bfa732cf482",
   "metadata": {},
   "outputs": [],
   "source": [
    "public class Thing{\n",
    "    private int id;\n",
    "    private int thingNum;\n",
    "\n",
    "    public Thing(int id, int thingNum) {\n",
    "        this.id = id;\n",
    "\t\tthis.thingNum = thingNum;\n",
    "\t}\n",
    "\n",
    "    public void setThingNum(int thingNum){\n",
    "         this.thingNum = thingNum;\n",
    "    }\n",
    "    \n",
    "    public int getThingNum() {\n",
    "\t\treturn this.thingNum;\n",
    "\t}\n",
    "    \n",
    "    public void setId(int id){\n",
    "         this.id = id;\n",
    "    }\n",
    "    \n",
    "    public int getId() {\n",
    "\t\treturn this.id;\n",
    "\t}\n",
    "\n",
    "    @Override\n",
    "    public String toString(){\n",
    "        return \"thing's id = \" + id + \" and number = \" + thingNum;\n",
    "    }\n",
    "}"
   ]
  },
  {
   "cell_type": "code",
   "execution_count": 127,
   "id": "14d4db25-7a77-4242-ab87-8259d2ddef54",
   "metadata": {},
   "outputs": [],
   "source": [
    "Thing t1 = new Thing(1, 100);\n",
    "Thing t2 = new Thing(2, 50);\n",
    "Supplier<Stream<Thing>> things = () -> Stream.of(t1, t2);"
   ]
  },
  {
   "cell_type": "code",
   "execution_count": 138,
   "id": "049409a8-ac8c-4666-91d8-c586fa44cda0",
   "metadata": {},
   "outputs": [],
   "source": [
    "import java.util.ArrayList;\n",
    "import java.util.List;\n",
    "\n",
    "public class Person implements Comparable<Person> {\n",
    "    private String name;\n",
    "    private Integer age;\n",
    "    private Double salary;\n",
    "    private String title;\n",
    "    private String gender;\n",
    "    private String area;\n",
    "\n",
    "    public Person(String name, Integer age, Double salary, String title, String gender, String area) {\n",
    "        this.name = name;\n",
    "        this.age = age;\n",
    "        this.salary = salary;\n",
    "        this.title = title;\n",
    "        this.gender = gender;\n",
    "        this.area = area;\n",
    "    }\n",
    "\n",
    "    public String getName() {\n",
    "        return name;\n",
    "    }\n",
    "\n",
    "    public void setName(String name) {\n",
    "        this.name = name;\n",
    "    }\n",
    "\n",
    "    public Integer getAge() {\n",
    "        return age;\n",
    "    }\n",
    "\n",
    "    public void setAge(Integer age) {\n",
    "        this.age = age;\n",
    "    }\n",
    "\n",
    "    public Double getSalary() {\n",
    "        return salary;\n",
    "    }\n",
    "\n",
    "    public void setSalary(Double salary) {\n",
    "        this.salary = salary;\n",
    "    }\n",
    "\n",
    "    public String getTitle() {\n",
    "        return title;\n",
    "    }\n",
    "\n",
    "    public void setTitle(String title) {\n",
    "        this.title = title;\n",
    "    }\n",
    "\n",
    "    public String getGender() {\n",
    "        return gender;\n",
    "    }\n",
    "\n",
    "    public void setGender(String gender) {\n",
    "        this.gender = gender;\n",
    "    }\n",
    "\n",
    "    public String getArea() {\n",
    "        return area;\n",
    "    }\n",
    "\n",
    "    public void setArea(String area) {\n",
    "        this.area = area;\n",
    "    }\n",
    "\n",
    "    @Override\n",
    "    public String toString() {\n",
    "        return \"Person{\" +\n",
    "                \"name='\" + name + '\\'' +\n",
    "                \", age=\" + age +\n",
    "                \", salary=\" + salary +\n",
    "                \", title='\" + title + '\\'' +\n",
    "                \", gender='\" + gender + '\\'' +\n",
    "                \", area='\" + area + '\\'' +\n",
    "                '}';\n",
    "    }\n",
    "    \n",
    "    @Override\n",
    "    public int compareTo(Person otherPerson) {\n",
    "        int ageComparison = this.age.compareTo(otherPerson.age);\n",
    "        if (ageComparison != 0) {\n",
    "            return ageComparison;\n",
    "        }\n",
    "\n",
    "        return this.salary.compareTo(otherPerson.salary);\n",
    "    }\n",
    "}"
   ]
  },
  {
   "cell_type": "code",
   "execution_count": 152,
   "id": "5cc80845-edb4-4eae-b75b-242eb68d953b",
   "metadata": {},
   "outputs": [],
   "source": [
    "static List<Person> personList = new ArrayList<Person>();\n",
    "\n",
    "private static void initPerson() {\n",
    "    personList.add(new Person(\"User-A\", 18, 3000.0, \"FronEnd\", \"Male\", \"A Region\"));\n",
    "    personList.add(new Person(\"User-B\", 28, 5000.0, \"UI/UX\", \"FeMale\", \"B Region\"));\n",
    "    personList.add(new Person(\"User-C\", 38, 7000.0, \"BackEnd\", \"Male\", \"C Region\"));\n",
    "    personList.add(new Person(\"User-D\", 58, 10000.0, \"Manager\", \"Male\", \"A Region\"));\n",
    "    personList.add(new Person(\"User-E\", 32, 6500.0, \"3D\", \"FeMale\", \"C Region\"));\n",
    "\n",
    "}\n",
    "initPerson();"
   ]
  },
  {
   "cell_type": "markdown",
   "id": "1b935757-74fc-454c-9053-e30e0ed5aac5",
   "metadata": {},
   "source": [
    "---"
   ]
  },
  {
   "cell_type": "markdown",
   "id": "29c209b5-4f87-474c-9e6c-e3a36fa88229",
   "metadata": {},
   "source": [
    "# TOC"
   ]
  },
  {
   "cell_type": "markdown",
   "id": "a22c1a0d-65d8-4a82-8325-e34048f33928",
   "metadata": {},
   "source": [
    "- Intermediate Operations\n",
    "    - Stateless\n",
    "        - [`unordered()`](#unordered())\n",
    "        - [`filter()`](#filter())\n",
    "        - [`map()`](#map())\n",
    "        - [`mapToInt()`](#mapToInt())\n",
    "        - [`mapToLong()`](#mapToLong())\n",
    "        - `mapToDouble()`\n",
    "        - `flatMap()`\n",
    "        - `flatMapToInt()`\n",
    "        - `flatMapToLong()`\n",
    "        - `flatMapToDouble()`\n",
    "        - `peek()`\n",
    "    - Stateful\n",
    "        - [`distinct()`](#distinct())\n",
    "        - [`sorted()`](#sorted())\n",
    "        - [`limit()`](#limit())\n",
    "        - [`skip()`](#skip())\n",
    "- Terminal Operation\n",
    "    - Non-Short-Circuit\n",
    "        - [`forEach()`](#forEach())\n",
    "        - [`forEachOrdered()`](#forEachOrdered())\n",
    "        - [`toArray()`](#toArray())\n",
    "        - [`reduce()`](#reduce())\n",
    "        - [`collect()`](#collect)\n",
    "        - `max()`\n",
    "        - `min()`\n",
    "        - `count()`\n",
    "    - Short-Circuit\n",
    "        - `anyMatch()`\n",
    "        - `allMatch()`\n",
    "        - `noneMatch()`\n",
    "        - `findFirst()`\n",
    "        - `findAny()`\n",
    "        - [`limit()`](#limit())\n",
    "- [Stream IO](#Stream-IO)"
   ]
  },
  {
   "cell_type": "markdown",
   "id": "01502c79-9751-49b5-8c09-d5a73868571c",
   "metadata": {},
   "source": [
    "---"
   ]
  },
  {
   "cell_type": "markdown",
   "id": "e4971b5c-11dc-495e-a109-4e808e652de0",
   "metadata": {
    "jp-MarkdownHeadingCollapsed": true
   },
   "source": [
    "# Create Stream"
   ]
  },
  {
   "cell_type": "markdown",
   "id": "3b8cfb4e-3026-469e-a9e9-9e8c566be54f",
   "metadata": {},
   "source": [
    "#### Use Collection"
   ]
  },
  {
   "cell_type": "code",
   "execution_count": 36,
   "id": "274acea3-a300-4906-8db4-f69f83d5f54c",
   "metadata": {},
   "outputs": [],
   "source": [
    "List<String> list = new ArrayList(Arrays.asList(intStreamSupplier.get().toArray()));\n",
    "Stream<String> stream = list.stream();\n",
    "Stream<String> parallelStream = list.parallelStream();"
   ]
  },
  {
   "cell_type": "markdown",
   "id": "e1cf21bc-8bff-4363-9fe9-5242765a83e0",
   "metadata": {},
   "source": [
    "#### Use Arrays"
   ]
  },
  {
   "cell_type": "code",
   "execution_count": 39,
   "id": "c12c3bd2-024c-4900-a790-6f572060c502",
   "metadata": {},
   "outputs": [
    {
     "name": "stdout",
     "output_type": "stream",
     "text": [
      "54321"
     ]
    }
   ],
   "source": [
    "Integer[] nums = new Integer[]{5,4,3,2,1};\n",
    "Stream<Integer> stream = Arrays.stream(nums);\n",
    "stream.forEach(System.out::print);"
   ]
  },
  {
   "cell_type": "markdown",
   "id": "1047e009-f8aa-4aab-a414-9f1c68ba5a76",
   "metadata": {},
   "source": [
    "#### Use Stream"
   ]
  },
  {
   "cell_type": "code",
   "execution_count": 41,
   "id": "76c2dfb4-012b-4a8f-9545-0fe76b721ee1",
   "metadata": {},
   "outputs": [
    {
     "name": "stdout",
     "output_type": "stream",
     "text": [
      "123456"
     ]
    }
   ],
   "source": [
    "Stream<Integer> stream = Stream.of(1,2,3,4,5,6);\n",
    "stream.forEach(System.out::print);"
   ]
  },
  {
   "cell_type": "code",
   "execution_count": 52,
   "id": "24dc3b0f-168f-4c94-8617-ca107d0aa7d6",
   "metadata": {},
   "outputs": [
    {
     "name": "stdout",
     "output_type": "stream",
     "text": [
      "1\n",
      "3\n",
      "5\n",
      "7\n",
      "9\n"
     ]
    }
   ],
   "source": [
    "Stream<Integer> stream2 = Stream.iterate(1, (x) -> x + 2).limit(5);\n",
    "stream2.forEach(System.out::println);"
   ]
  },
  {
   "cell_type": "code",
   "execution_count": 53,
   "id": "f2165138-5493-4cd3-818d-b8f3827891bc",
   "metadata": {},
   "outputs": [
    {
     "name": "stdout",
     "output_type": "stream",
     "text": [
      "0.7300979614771675\n",
      "0.21043144795685287\n"
     ]
    }
   ],
   "source": [
    "Stream<Double> stream3 = Stream.generate(Math::random).limit(2);\n",
    "stream3.forEach(System.out::println);"
   ]
  },
  {
   "cell_type": "markdown",
   "id": "a8974da1-efb8-42d2-8a8b-5557a76f9c05",
   "metadata": {},
   "source": [
    "#### Use `BufferReader.lines()`"
   ]
  },
  {
   "cell_type": "code",
   "execution_count": 58,
   "id": "0e6b9ac7-a087-4be3-b176-4a275ae05161",
   "metadata": {},
   "outputs": [
    {
     "name": "stdout",
     "output_type": "stream",
     "text": [
      "I delete all of the context\n"
     ]
    }
   ],
   "source": [
    "BufferedReader reader = new BufferedReader(new FileReader(\"../../datasets/others/context.txt\"));\n",
    "Stream<String> lineStream = reader.lines();\n",
    "lineStream.forEach(System.out::println);"
   ]
  },
  {
   "cell_type": "markdown",
   "id": "b94724b2-9866-4164-9330-04e9a95251c2",
   "metadata": {},
   "source": [
    "#### Use `Pattern.splitAsStream()`"
   ]
  },
  {
   "cell_type": "code",
   "execution_count": 59,
   "id": "a3db878d-64b7-4939-8114-1a6cbef8c608",
   "metadata": {},
   "outputs": [
    {
     "name": "stdout",
     "output_type": "stream",
     "text": [
      "Neque\n",
      "porro\n",
      "quisquam\n",
      "est\n",
      "qui\n",
      "dolorem\n",
      "ipsum\n",
      "quia\n",
      "dolor\n",
      "sit\n",
      "amet,\n",
      "consectetur,\n",
      "adipisci\n",
      "velit...\n"
     ]
    }
   ],
   "source": [
    "Pattern pattern = Pattern.compile(\" \");\n",
    "Stream<String> stringStream = pattern.splitAsStream(\"Neque porro quisquam est qui dolorem ipsum quia dolor sit amet, consectetur, adipisci velit...\");\n",
    "stringStream.forEach(System.out::println);"
   ]
  },
  {
   "cell_type": "markdown",
   "id": "234e961d-ead0-48c2-bd8d-7162c69cd9c1",
   "metadata": {},
   "source": [
    "---"
   ]
  },
  {
   "cell_type": "markdown",
   "id": "b572b94c-65e3-4c63-b7a7-eb1f72da1ad3",
   "metadata": {},
   "source": [
    "# Stateless"
   ]
  },
  {
   "cell_type": "markdown",
   "id": "923ecb2a-82fd-4583-baed-c8df66d24a37",
   "metadata": {},
   "source": [
    "### filter()"
   ]
  },
  {
   "cell_type": "code",
   "execution_count": 63,
   "id": "9e3e20ad-6634-46f2-a71d-63bf0be3fbf9",
   "metadata": {},
   "outputs": [
    {
     "name": "stdout",
     "output_type": "stream",
     "text": [
      "2\n",
      "4\n",
      "6\n",
      "8\n",
      "10\n"
     ]
    }
   ],
   "source": [
    "intStreamSupplier.get().distinct().filter(e -> e % 2 == 0).forEach(System.out::println);"
   ]
  },
  {
   "cell_type": "markdown",
   "id": "e834d130-4fa1-4e99-a56b-ca68b4689a56",
   "metadata": {},
   "source": [
    "### map()"
   ]
  },
  {
   "cell_type": "code",
   "execution_count": 71,
   "id": "7ef131ae-9004-4745-bd89-6264a05b4a9d",
   "metadata": {},
   "outputs": [
    {
     "name": "stdout",
     "output_type": "stream",
     "text": [
      "xyz\n",
      "999666333\n"
     ]
    }
   ],
   "source": [
    "Stream<String> s1 = someList.stream().map(s -> s.replaceAll(\",\", \"\"));\n",
    "s1.forEach(System.out::println);"
   ]
  },
  {
   "cell_type": "markdown",
   "id": "5bc82886-c86b-4dce-af91-802c54d34cf3",
   "metadata": {},
   "source": [
    "### flatMap()"
   ]
  },
  {
   "cell_type": "code",
   "execution_count": 88,
   "id": "a6f97154-7b5a-48a9-abea-96eba2c8ffcd",
   "metadata": {},
   "outputs": [
    {
     "name": "stdout",
     "output_type": "stream",
     "text": [
      "[x,y,z, 999,666,333]\n",
      "[x, y, z, 999, 666, 333]\n",
      "x\n",
      "y\n",
      "z\n",
      "999\n",
      "666\n",
      "333\n"
     ]
    }
   ],
   "source": [
    "Supplier<Stream<String>> s3Supplier = () -> someList.stream().flatMap(s -> {\n",
    "    String[] split = s.split(\",\");\n",
    "    Stream<String> s2 = Arrays.stream(split);\n",
    "    return s2;\n",
    "});\n",
    "\n",
    "System.out.println(someList);\n",
    "System.out.println(s3Supplier.get().toList());\n",
    "s3Supplier.get().forEach(System.out::println);"
   ]
  },
  {
   "cell_type": "markdown",
   "id": "fb5b77f4-ebaa-4eca-af26-7b9d17280b70",
   "metadata": {},
   "source": [
    "### peek()\n",
    "> 如同於`map`，能得到流中的每一個元素，但`map`接收的是一個`Function`，有回傳值\n",
    ">\n",
    "> 而`peek`接收的是 `Consumer`，沒有回傳值"
   ]
  },
  {
   "cell_type": "code",
   "execution_count": 113,
   "id": "1741cc4d-a22a-4a7f-913b-bc3aac21a855",
   "metadata": {},
   "outputs": [
    {
     "name": "stdout",
     "output_type": "stream",
     "text": [
      "thing's id = 1 and number = 9999999\n",
      "thing's id = 2 and number = 9999999\n"
     ]
    }
   ],
   "source": [
    "things.get().peek(t -> t.setThingNum(9999999)).forEach(System.out::println);"
   ]
  },
  {
   "cell_type": "markdown",
   "id": "403d830a-4d55-4c78-b05a-ffef9ab9c5d0",
   "metadata": {},
   "source": [
    "### mapToInt()"
   ]
  },
  {
   "cell_type": "code",
   "execution_count": 14,
   "id": "2f6a8f9a-b25b-42c1-acd3-a95a299e5d6f",
   "metadata": {},
   "outputs": [
    {
     "name": "stdout",
     "output_type": "stream",
     "text": [
      "5\n",
      "6\n"
     ]
    }
   ],
   "source": [
    "Stream<String> streamMap = Stream.of(\"hello\", \"world!\");\n",
    "streamMap.mapToInt(s -> s.length()).forEach(System.out::println);"
   ]
  },
  {
   "cell_type": "markdown",
   "id": "c8fdd068-7749-41f3-a9a2-434289ddbbae",
   "metadata": {},
   "source": [
    "### mapToLong()"
   ]
  },
  {
   "cell_type": "code",
   "execution_count": null,
   "id": "9e9831c4-2fbc-4376-8757-a08b1528464d",
   "metadata": {},
   "outputs": [],
   "source": []
  },
  {
   "cell_type": "markdown",
   "id": "2d6c274e-dd39-4e2b-81a2-deb4374e0fbe",
   "metadata": {},
   "source": [
    "### mapToDouble()"
   ]
  },
  {
   "cell_type": "code",
   "execution_count": null,
   "id": "a408da3e-04ae-434b-a6ff-e92396529890",
   "metadata": {},
   "outputs": [],
   "source": []
  },
  {
   "cell_type": "markdown",
   "id": "0fd774ae-2b92-4715-8b3f-94f358e13061",
   "metadata": {},
   "source": [
    "### flatMapToInt()"
   ]
  },
  {
   "cell_type": "code",
   "execution_count": null,
   "id": "d0e55e56-8297-495f-8917-8e8f157905f5",
   "metadata": {},
   "outputs": [],
   "source": []
  },
  {
   "cell_type": "markdown",
   "id": "ce86b616-e9e7-485d-a814-e1c6d09f1811",
   "metadata": {},
   "source": [
    "### flatMapToLong()"
   ]
  },
  {
   "cell_type": "code",
   "execution_count": null,
   "id": "a47c96bf-a303-42e2-af3a-d628759f0aaf",
   "metadata": {},
   "outputs": [],
   "source": []
  },
  {
   "cell_type": "markdown",
   "id": "85140986-9385-4218-9c49-3fd9ee9d4fd0",
   "metadata": {},
   "source": [
    "### flatMapToDouble()"
   ]
  },
  {
   "cell_type": "code",
   "execution_count": null,
   "id": "ecd4cce7-98ea-472c-a300-a2efbe26108b",
   "metadata": {},
   "outputs": [],
   "source": []
  },
  {
   "cell_type": "markdown",
   "id": "67f3d790-0252-4560-bd8f-7e461e106700",
   "metadata": {},
   "source": [
    "### unordered()"
   ]
  },
  {
   "cell_type": "code",
   "execution_count": 22,
   "id": "519e5e7f-6b0a-4a35-ab3c-df059852fc4c",
   "metadata": {},
   "outputs": [
    {
     "name": "stdout",
     "output_type": "stream",
     "text": [
      "5\n",
      "1\n",
      "2\n",
      "6\n",
      "3\n",
      "7\n",
      "4\n"
     ]
    }
   ],
   "source": [
    "// For sequential streams, the presence or absence of an encounter order does not affect performance, only determinism.\n",
    "Stream.of(5, 1, 2, 6, 3, 7, 4).unordered().forEach(System.out::println);"
   ]
  },
  {
   "cell_type": "code",
   "execution_count": 21,
   "id": "4cc14c88-1d57-49d7-a628-854324e9f19f",
   "metadata": {},
   "outputs": [
    {
     "name": "stdout",
     "output_type": "stream",
     "text": [
      "3\n",
      "6\n",
      "4\n",
      "2\n",
      "7\n",
      "5\n",
      "1\n"
     ]
    }
   ],
   "source": [
    "// For parallel streams, relaxing the ordering constraint can sometimes enable more efficient execution\n",
    "Stream.of(5, 1, 2, 6, 3, 7,4).unordered().parallel().forEach(System.out::println);"
   ]
  },
  {
   "cell_type": "markdown",
   "id": "30a84143-4c36-446d-847b-0756185ec0aa",
   "metadata": {},
   "source": [
    "---"
   ]
  },
  {
   "cell_type": "markdown",
   "id": "f861a2f7-fa04-4bd8-8ad5-15d2b4d129cb",
   "metadata": {},
   "source": [
    "# Stateful"
   ]
  },
  {
   "cell_type": "markdown",
   "id": "8d606b73-4806-4af5-8d08-60864d836f04",
   "metadata": {},
   "source": [
    "### distinct()\n",
    "- 透過流中元素的 hashCode() 和 equals() 去除重複元素"
   ]
  },
  {
   "cell_type": "code",
   "execution_count": 24,
   "id": "21f77a20-320f-4ef8-a73a-d6c8e9fd5d75",
   "metadata": {},
   "outputs": [
    {
     "name": "stdout",
     "output_type": "stream",
     "text": [
      "1\n",
      "2\n",
      "3\n",
      "4\n",
      "5\n",
      "6\n",
      "7\n",
      "8\n",
      "9\n",
      "10\n"
     ]
    }
   ],
   "source": [
    "intStreamSupplier.get().distinct().forEach(System.out::println);"
   ]
  },
  {
   "cell_type": "markdown",
   "id": "f1d815b5-ee46-4fe4-ad80-e724dae775ed",
   "metadata": {},
   "source": [
    "### skip()\n",
    "- 略過n元素，配合`limit(n)`可實現分頁"
   ]
  },
  {
   "cell_type": "code",
   "execution_count": 26,
   "id": "148b80e0-6377-422c-8977-6bad71d9b0fd",
   "metadata": {},
   "outputs": [
    {
     "name": "stdout",
     "output_type": "stream",
     "text": [
      "10\n"
     ]
    }
   ],
   "source": [
    "intStreamSupplier.get().distinct().skip(9).forEach(System.out::println);"
   ]
  },
  {
   "cell_type": "markdown",
   "id": "1ffd3a65-5531-4b58-85a4-3494e934eeb4",
   "metadata": {},
   "source": [
    "### sorted()\n",
    "- sorted() 自然排序，流中元素需實作Comparable介面\n",
    "- sorted(Comparator com)：客製排序，自訂Comparator排序器"
   ]
  },
  {
   "cell_type": "code",
   "execution_count": 92,
   "id": "6bc26472-d674-442c-9a9e-0d21f9dfcea7",
   "metadata": {},
   "outputs": [
    {
     "name": "stdout",
     "output_type": "stream",
     "text": [
      "[1, 2, 2, 3, 4, 5, 5, 6, 7, 8, 9, 9, 9, 10, 10]\n"
     ]
    }
   ],
   "source": [
    "List<Integer> nl = intStreamSupplier.get().sorted().toList();\n",
    "System.out.println(nl);"
   ]
  },
  {
   "cell_type": "code",
   "execution_count": 93,
   "id": "307a079f-3142-46c4-b3fa-e7e8bdb64f62",
   "metadata": {
    "scrolled": true
   },
   "outputs": [
    {
     "name": "stdout",
     "output_type": "stream",
     "text": [
      "[10, 10, 9, 9, 9, 8, 7, 6, 5, 5, 4, 3, 2, 2, 1]\n"
     ]
    }
   ],
   "source": [
    "List<Integer> nl = intStreamSupplier.get().sorted((a,b) -> b.compareTo(a)).toList();\n",
    "System.out.println(nl);"
   ]
  },
  {
   "cell_type": "markdown",
   "id": "23a55982-f505-4cc4-9e1f-fcc9ff4a0d9f",
   "metadata": {},
   "source": [
    "---"
   ]
  },
  {
   "cell_type": "markdown",
   "id": "e76dd02b-4d1b-4d6f-a2be-306bb1b0b242",
   "metadata": {},
   "source": [
    "# Non-Short-Circuit"
   ]
  },
  {
   "cell_type": "markdown",
   "id": "4cafe282-1339-42c3-883e-b25043729bca",
   "metadata": {},
   "source": [
    "### count()"
   ]
  },
  {
   "cell_type": "code",
   "execution_count": 121,
   "id": "ebc91f5b-6356-48d3-9cfe-fae8d2ff195b",
   "metadata": {},
   "outputs": [
    {
     "data": {
      "text/plain": [
       "15"
      ]
     },
     "execution_count": 121,
     "metadata": {},
     "output_type": "execute_result"
    }
   ],
   "source": [
    "intStreamSupplier.get().count();"
   ]
  },
  {
   "cell_type": "markdown",
   "id": "8287a9f3-535f-4a36-aeef-8fb906affcdf",
   "metadata": {},
   "source": [
    "### max()"
   ]
  },
  {
   "cell_type": "code",
   "execution_count": 123,
   "id": "a31f152a-aa13-4cf8-b4ae-8f631e700e23",
   "metadata": {},
   "outputs": [
    {
     "data": {
      "text/plain": [
       "10"
      ]
     },
     "execution_count": 123,
     "metadata": {},
     "output_type": "execute_result"
    }
   ],
   "source": [
    "intStreamSupplier.get().max(Integer::compare).get();"
   ]
  },
  {
   "cell_type": "markdown",
   "id": "4fb4ccaa-ce57-4c50-ae41-e31e5070ddc9",
   "metadata": {},
   "source": [
    "### min()"
   ]
  },
  {
   "cell_type": "code",
   "execution_count": 124,
   "id": "1af75db6-02ef-41ff-8f28-677bce45f223",
   "metadata": {
    "scrolled": true
   },
   "outputs": [
    {
     "data": {
      "text/plain": [
       "1"
      ]
     },
     "execution_count": 124,
     "metadata": {},
     "output_type": "execute_result"
    }
   ],
   "source": [
    "intStreamSupplier.get().min(Integer::compare).get();"
   ]
  },
  {
   "attachments": {
    "d4a872be-b7af-4125-b163-4cfcc631fb0c.png": {
     "image/png": "[encoded data removed]"
    }
   },
   "cell_type": "markdown",
   "id": "919a5500-ba42-4924-81c8-cbd2ab33a4b3",
   "metadata": {},
   "source": [
    "### reduce()\n",
    "![image.png](attachment:d4a872be-b7af-4125-b163-4cfcc631fb0c.png)"
   ]
  },
  {
   "cell_type": "code",
   "execution_count": 25,
   "id": "3cd48b3a-1c29-4842-bc2f-36d093b696b7",
   "metadata": {
    "scrolled": true
   },
   "outputs": [
    {
     "data": {
      "text/plain": [
       "28"
      ]
     },
     "execution_count": 25,
     "metadata": {},
     "output_type": "execute_result"
    }
   ],
   "source": [
    "List<Integer> numbers2 = Arrays.asList(1, 2, 3, 4, 5, 6, 7);\n",
    "numbers2.stream().reduce((x,y)-> x + y).get();"
   ]
  },
  {
   "cell_type": "code",
   "execution_count": 26,
   "id": "6e87e1ef-abfa-4b41-b38f-4ea375f08059",
   "metadata": {},
   "outputs": [
    {
     "data": {
      "text/plain": [
       "128"
      ]
     },
     "execution_count": 26,
     "metadata": {},
     "output_type": "execute_result"
    }
   ],
   "source": [
    "numbers2.stream().reduce(100, (x,y)-> x + y);"
   ]
  },
  {
   "cell_type": "code",
   "execution_count": 27,
   "id": "fb2b138f-03e5-4de1-a648-6a6d036333ae",
   "metadata": {},
   "outputs": [
    {
     "name": "stdout",
     "output_type": "stream",
     "text": [
      "stream accumulator: x:0  y:1\n",
      "stream accumulator: x:-1  y:2\n",
      "stream accumulator: x:-3  y:3\n",
      "stream accumulator: x:-6  y:4\n",
      "stream accumulator: x:-10  y:5\n",
      "stream accumulator: x:-15  y:6\n",
      "stream accumulator: x:-21  y:7\n"
     ]
    },
    {
     "data": {
      "text/plain": [
       "-28"
      ]
     },
     "execution_count": 27,
     "metadata": {},
     "output_type": "execute_result"
    }
   ],
   "source": [
    "numbers2.stream().reduce(0,\n",
    "        (x, y) -> {\n",
    "            System.out.println(\"stream accumulator: x:\" + x + \"  y:\" + y);\n",
    "            return x - y;\n",
    "        },\n",
    "        (x, y) -> {\n",
    "            System.out.println(\"stream combiner: x:\" + x + \"  y:\" + y);\n",
    "            return x * y;\n",
    "        });"
   ]
  },
  {
   "cell_type": "code",
   "execution_count": 30,
   "id": "a3881466-c014-44d1-8b56-4b2273236477",
   "metadata": {},
   "outputs": [
    {
     "name": "stdout",
     "output_type": "stream",
     "text": [
      "parallelStream accumulator: x:0  y:2\n",
      "parallelStream accumulator: x:0  y:6\n",
      "parallelStream accumulator: x:0  y:1\n",
      "parallelStream accumulator: x:0  y:4\n",
      "parallelStream accumulator: x:0  y:3\n",
      "parallelStream accumulator: x:0  y:7\n",
      "parallelStream accumulator: x:0  y:5\n",
      "parallelStream combiner: x:-6  y:-7\n",
      "parallelStream combiner: x:-2  y:-3\n",
      "parallelStream combiner: x:-1  y:6\n",
      "parallelStream combiner: x:-4  y:-5\n",
      "parallelStream combiner: x:20  y:42\n",
      "parallelStream combiner: x:-6  y:840\n"
     ]
    },
    {
     "data": {
      "text/plain": [
       "-5040"
      ]
     },
     "execution_count": 30,
     "metadata": {},
     "output_type": "execute_result"
    }
   ],
   "source": [
    "numbers2.parallelStream().reduce(0,\n",
    "        (x, y) -> {\n",
    "            System.out.println(\"parallelStream accumulator: x:\" + x + \"  y:\" + y);\n",
    "            return x - y;\n",
    "        },\n",
    "        (x, y) -> {\n",
    "            System.out.println(\"parallelStream combiner: x:\" + x + \"  y:\" + y);\n",
    "            return x * y;\n",
    "        });"
   ]
  },
  {
   "cell_type": "code",
   "execution_count": 74,
   "id": "3b567e68-efab-48f2-bc78-0ce676d71d36",
   "metadata": {},
   "outputs": [
    {
     "name": "stdout",
     "output_type": "stream",
     "text": [
      "x:1\n",
      "x:4\n",
      "x:9\n",
      "x:16\n",
      "x:25\n"
     ]
    },
    {
     "data": {
      "text/plain": [
       "37"
      ]
     },
     "execution_count": 74,
     "metadata": {},
     "output_type": "execute_result"
    }
   ],
   "source": [
    "List<Integer> num = Arrays.asList(1, 3, 5, 7, 9, 12);\n",
    "num.stream().reduce((x, y) -> {\n",
    "    System.out.println(\"x:\"+x);\n",
    "    return x + y;\n",
    "}).get();"
   ]
  },
  {
   "cell_type": "markdown",
   "id": "9429de13-bb56-4de2-bfc3-2ab6d821b1cb",
   "metadata": {},
   "source": [
    "### forEach()"
   ]
  },
  {
   "cell_type": "code",
   "execution_count": 34,
   "id": "8e5a239d-2714-46dc-a148-c4e72e89936f",
   "metadata": {},
   "outputs": [
    {
     "name": "stdout",
     "output_type": "stream",
     "text": [
      "Jack\n"
     ]
    }
   ],
   "source": [
    "List<String> strAry = Arrays.asList( \"Jhonny\", \"David\", \"Jack\", \"Duke\", \"Jill\",\"Dany\",\"Julia\",\"Jenish\",\"Divya\");\n",
    "\n",
    "strAry.stream().forEach(s-> {\n",
    "\t\t\tif(\"Jack\".equalsIgnoreCase(s)) System.out.println(s);\n",
    "\t\t});"
   ]
  },
  {
   "cell_type": "markdown",
   "id": "39d90b45-64e9-41b0-aed9-5419ef112f57",
   "metadata": {},
   "source": [
    "### forEachOrdered()\n",
    "- Single Thread : 保證循環時元素是依照原來的順序逐一循環的\n",
    "- Parallel Thread : ？"
   ]
  },
  {
   "cell_type": "code",
   "execution_count": 68,
   "id": "121afa93-ef0c-412b-b596-f4c7ff0d4f09",
   "metadata": {},
   "outputs": [
    {
     "name": "stdout",
     "output_type": "stream",
     "text": [
      "DDD,AAA,BBB,CCC"
     ]
    }
   ],
   "source": [
    "Stream.of(\"DDD,\",\"AAA,\",\"BBB,\",\"CCC\").forEachOrdered(System.out::print)"
   ]
  },
  {
   "cell_type": "code",
   "execution_count": 69,
   "id": "44d5551a-0313-46d4-8ca0-40b2cb9f674b",
   "metadata": {},
   "outputs": [
    {
     "name": "stdout",
     "output_type": "stream",
     "text": [
      "AAA,BBB,CCC,DDD"
     ]
    }
   ],
   "source": [
    "Stream.of(\"AAA,\",\"BBB,\",\"CCC,\",\"DDD\").parallel().forEachOrdered(System.out::print);"
   ]
  },
  {
   "cell_type": "markdown",
   "id": "a11d250b-1223-449e-8281-1a5013612904",
   "metadata": {},
   "source": [
    "### collect()\n",
    "- [Collectors](#Java-Related/Util/Collectors.ipynb)\r\n"
   ]
  },
  {
   "cell_type": "code",
   "execution_count": 153,
   "id": "43992ee5-1e10-4798-ab72-f00979d132d7",
   "metadata": {},
   "outputs": [
    {
     "data": {
      "text/plain": [
       "5"
      ]
     },
     "execution_count": 153,
     "metadata": {},
     "output_type": "execute_result"
    }
   ],
   "source": [
    "personList.stream().collect(Collectors.counting());"
   ]
  },
  {
   "cell_type": "code",
   "execution_count": 154,
   "id": "b512371d-1243-4b59-991b-374ce69ddc17",
   "metadata": {},
   "outputs": [
    {
     "data": {
      "text/plain": [
       "6300.0"
      ]
     },
     "execution_count": 154,
     "metadata": {},
     "output_type": "execute_result"
    }
   ],
   "source": [
    "personList.stream().collect(Collectors.averagingDouble(Person::getSalary));"
   ]
  },
  {
   "cell_type": "code",
   "execution_count": 155,
   "id": "09048686-3887-4d03-82ab-e566b77e6a73",
   "metadata": {},
   "outputs": [
    {
     "data": {
      "text/plain": [
       "Optional[10000.0]"
      ]
     },
     "execution_count": 155,
     "metadata": {},
     "output_type": "execute_result"
    }
   ],
   "source": [
    "personList.stream().map(Person::getSalary).collect(Collectors.maxBy(Double::compare));"
   ]
  },
  {
   "cell_type": "code",
   "execution_count": 156,
   "id": "3ea77de4-4f3c-4d11-af70-4515345f02f3",
   "metadata": {},
   "outputs": [
    {
     "data": {
      "text/plain": [
       "31500.0"
      ]
     },
     "execution_count": 156,
     "metadata": {},
     "output_type": "execute_result"
    }
   ],
   "source": [
    "personList.stream().collect(Collectors.summingDouble(Person::getSalary));"
   ]
  },
  {
   "cell_type": "code",
   "execution_count": 157,
   "id": "1ee6b763-fb9f-4461-afb5-53658d87c752",
   "metadata": {},
   "outputs": [
    {
     "data": {
      "text/plain": [
       "DoubleSummaryStatistics{count=5, sum=31500.000000, min=3000.000000, average=6300.000000, max=10000.000000}"
      ]
     },
     "execution_count": 157,
     "metadata": {},
     "output_type": "execute_result"
    }
   ],
   "source": [
    "personList.stream().collect(Collectors.summarizingDouble(Person::getSalary));"
   ]
  },
  {
   "cell_type": "code",
   "execution_count": 158,
   "id": "9482caab-fe79-49e5-8d8b-3926da85233d",
   "metadata": {},
   "outputs": [
    {
     "data": {
      "text/plain": [
       "{false=[Person{name='User-A', age=18, salary=3000.0, title='FronEnd', gender='Male', area='A Region'}, Person{name='User-B', age=28, salary=5000.0, title='UI/UX', gender='FeMale', area='B Region'}, Person{name='User-C', age=38, salary=7000.0, title='BackEnd', gender='Male', area='C Region'}, Person{name='User-E', age=32, salary=6500.0, title='3D', gender='FeMale', area='C Region'}], true=[Person{name='User-D', age=58, salary=10000.0, title='Manager', gender='Male', area='A Region'}]}"
      ]
     },
     "execution_count": 158,
     "metadata": {},
     "output_type": "execute_result"
    }
   ],
   "source": [
    "personList.stream().collect(Collectors.partitioningBy(x -> x.getSalary() > 8000));"
   ]
  },
  {
   "cell_type": "code",
   "execution_count": 159,
   "id": "f859094c-69a1-4e6b-8195-0fe85673c9b9",
   "metadata": {},
   "outputs": [
    {
     "data": {
      "text/plain": [
       "{Male=[Person{name='User-A', age=18, salary=3000.0, title='FronEnd', gender='Male', area='A Region'}, Person{name='User-C', age=38, salary=7000.0, title='BackEnd', gender='Male', area='C Region'}, Person{name='User-D', age=58, salary=10000.0, title='Manager', gender='Male', area='A Region'}], FeMale=[Person{name='User-B', age=28, salary=5000.0, title='UI/UX', gender='FeMale', area='B Region'}, Person{name='User-E', age=32, salary=6500.0, title='3D', gender='FeMale', area='C Region'}]}"
      ]
     },
     "execution_count": 159,
     "metadata": {},
     "output_type": "execute_result"
    }
   ],
   "source": [
    "personList.stream().collect(Collectors.groupingBy(Person::getGender));"
   ]
  },
  {
   "cell_type": "code",
   "execution_count": 160,
   "id": "8a5781a1-542f-45c3-a0c7-45b72fd7d438",
   "metadata": {},
   "outputs": [
    {
     "data": {
      "text/plain": [
       "{Male={C Region=[Person{name='User-C', age=38, salary=7000.0, title='BackEnd', gender='Male', area='C Region'}], A Region=[Person{name='User-A', age=18, salary=3000.0, title='FronEnd', gender='Male', area='A Region'}, Person{name='User-D', age=58, salary=10000.0, title='Manager', gender='Male', area='A Region'}]}, FeMale={B Region=[Person{name='User-B', age=28, salary=5000.0, title='UI/UX', gender='FeMale', area='B Region'}], C Region=[Person{name='User-E', age=32, salary=6500.0, title='3D', gender='FeMale', area='C Region'}]}}"
      ]
     },
     "execution_count": 160,
     "metadata": {},
     "output_type": "execute_result"
    }
   ],
   "source": [
    "personList.stream().collect(Collectors.groupingBy(Person::getGender, Collectors.groupingBy(Person::getArea)));"
   ]
  },
  {
   "cell_type": "code",
   "execution_count": 161,
   "id": "21d6f0d0-159a-45be-a872-589139a57dec",
   "metadata": {},
   "outputs": [
    {
     "data": {
      "text/plain": [
       "[User-A, User-B, User-E, User-C, User-D]"
      ]
     },
     "execution_count": 161,
     "metadata": {},
     "output_type": "execute_result"
    }
   ],
   "source": [
    "personList.stream().sorted(Comparator.comparing(Person::getSalary)).map(Person::getName).collect(Collectors.toList());"
   ]
  },
  {
   "cell_type": "code",
   "execution_count": 162,
   "id": "e0f1f759-2498-4964-9469-d5f9027a703b",
   "metadata": {},
   "outputs": [
    {
     "data": {
      "text/plain": [
       "[User-D, User-C, User-E, User-B, User-A]"
      ]
     },
     "execution_count": 162,
     "metadata": {},
     "output_type": "execute_result"
    }
   ],
   "source": [
    "personList.stream().sorted(Comparator.comparing(Person::getSalary).reversed()).map(Person::getName).collect(Collectors.toList());"
   ]
  },
  {
   "cell_type": "code",
   "execution_count": 171,
   "id": "91c4f636-afa1-41d0-bfb2-e1d7630a3791",
   "metadata": {},
   "outputs": [
    {
     "data": {
      "text/plain": [
       "[User-E, User-C, User-A, User-D, User-B]"
      ]
     },
     "execution_count": 171,
     "metadata": {},
     "output_type": "execute_result"
    }
   ],
   "source": [
    "personList.stream()\n",
    "            .sorted(Comparator.comparing(Person::getTitle).thenComparing(Person::getSalary)).map(Person::getName)\n",
    "            .collect(Collectors.toList());"
   ]
  },
  {
   "cell_type": "code",
   "execution_count": 172,
   "id": "e2d4ccbc-3eda-4e80-a997-5b64af33758a",
   "metadata": {},
   "outputs": [
    {
     "data": {
      "text/plain": [
       "[User-D, User-C, User-E, User-B, User-A]"
      ]
     },
     "execution_count": 172,
     "metadata": {},
     "output_type": "execute_result"
    }
   ],
   "source": [
    "personList.stream()\n",
    "        .sorted((p1, p2) -> {\n",
    "            if (p1.getSalary().equals(p2.getSalary())) {\n",
    "                return Integer.compare(p2.getAge(), p1.getAge());\n",
    "            } else {\n",
    "                return Double.compare(p2.getSalary(), p1.getSalary());\n",
    "            }\n",
    "        })\n",
    "        .map(Person::getName)\n",
    "        .collect(Collectors.toList());"
   ]
  },
  {
   "cell_type": "code",
   "execution_count": 173,
   "id": "be1cb900-7106-4cdf-9dda-dd642ce185ff",
   "metadata": {},
   "outputs": [],
   "source": [
    "String[] arr1 = { \"a\", \"b\", \"c\", \"d\" };\n",
    "String[] arr2 = { \"d\", \"e\", \"f\", \"g\" };\n",
    "Stream<String> streamStr1 = Stream.of(arr1);\n",
    "Stream<String> streamStr2 = Stream.of(arr2);"
   ]
  },
  {
   "cell_type": "code",
   "execution_count": 175,
   "id": "5fa22c1a-62b6-426e-a694-24df1101572c",
   "metadata": {},
   "outputs": [
    {
     "data": {
      "text/plain": [
       "[a, b, c, d, e, f, g]"
      ]
     },
     "execution_count": 175,
     "metadata": {},
     "output_type": "execute_result"
    }
   ],
   "source": [
    "Stream.concat(streamStr1, streamStr2).distinct().collect(Collectors.toList())"
   ]
  },
  {
   "cell_type": "code",
   "execution_count": 176,
   "id": "53ed4758-11dd-443e-9861-78f225629433",
   "metadata": {},
   "outputs": [
    {
     "data": {
      "text/plain": [
       "[1, 3, 5, 7, 9, 11, 13, 15, 17, 19]"
      ]
     },
     "execution_count": 176,
     "metadata": {},
     "output_type": "execute_result"
    }
   ],
   "source": [
    "Stream.iterate(1, x -> x + 2).limit(10).collect(Collectors.toList());"
   ]
  },
  {
   "cell_type": "code",
   "execution_count": 177,
   "id": "56ba6a4e-e4ab-4c4a-b12b-712557ef94ca",
   "metadata": {},
   "outputs": [
    {
     "data": {
      "text/plain": [
       "[3, 5, 7, 9, 11]"
      ]
     },
     "execution_count": 177,
     "metadata": {},
     "output_type": "execute_result"
    }
   ],
   "source": [
    "Stream.iterate(1, x -> x + 2).skip(1).limit(5).collect(Collectors.toList())"
   ]
  },
  {
   "cell_type": "markdown",
   "id": "a6abfeac-425e-42db-a3e1-8bfe3aee1423",
   "metadata": {},
   "source": [
    "---"
   ]
  },
  {
   "cell_type": "markdown",
   "id": "963d27e1-3644-4a04-807c-b78d4c9a484d",
   "metadata": {},
   "source": [
    "# Short-Circuit"
   ]
  },
  {
   "cell_type": "markdown",
   "id": "82f1845a-e96f-4605-a6a3-847f18d152db",
   "metadata": {},
   "source": [
    "### limit()"
   ]
  },
  {
   "cell_type": "code",
   "execution_count": 61,
   "id": "c1385f3a-4213-421c-95b3-d9d423521cb1",
   "metadata": {},
   "outputs": [
    {
     "name": "stdout",
     "output_type": "stream",
     "text": [
      "1\n",
      "2\n"
     ]
    }
   ],
   "source": [
    "intStreamSupplier.get().limit(2).forEach(System.out::println);"
   ]
  },
  {
   "cell_type": "markdown",
   "id": "037cf8e6-dba7-4df2-8600-28b182a8fce2",
   "metadata": {},
   "source": [
    "### allMatch()"
   ]
  },
  {
   "cell_type": "code",
   "execution_count": 116,
   "id": "6b51ed6e-3bc3-4c01-a9ad-e025fc9a24f8",
   "metadata": {},
   "outputs": [
    {
     "data": {
      "text/plain": [
       "false"
      ]
     },
     "execution_count": 116,
     "metadata": {},
     "output_type": "execute_result"
    }
   ],
   "source": [
    "intStreamSupplier.get().allMatch(e -> e > 100);"
   ]
  },
  {
   "cell_type": "markdown",
   "id": "766252c6-672f-48b4-aef4-d585f352ba5c",
   "metadata": {},
   "source": [
    "### noneMatch()"
   ]
  },
  {
   "cell_type": "code",
   "execution_count": 117,
   "id": "28887f66-050e-4e00-b850-75a54d221019",
   "metadata": {},
   "outputs": [
    {
     "data": {
      "text/plain": [
       "true"
      ]
     },
     "execution_count": 117,
     "metadata": {},
     "output_type": "execute_result"
    }
   ],
   "source": [
    "intStreamSupplier.get().noneMatch(e -> e > 100);"
   ]
  },
  {
   "cell_type": "markdown",
   "id": "f80a6804-49e1-44d9-8bb1-d8a3b3fd9537",
   "metadata": {},
   "source": [
    "### anyMatch()"
   ]
  },
  {
   "cell_type": "code",
   "execution_count": 118,
   "id": "4eccbe39-2a59-4d4c-b42f-6155068a06c8",
   "metadata": {},
   "outputs": [
    {
     "data": {
      "text/plain": [
       "true"
      ]
     },
     "execution_count": 118,
     "metadata": {},
     "output_type": "execute_result"
    }
   ],
   "source": [
    "intStreamSupplier.get().anyMatch(e -> e > 7);"
   ]
  },
  {
   "cell_type": "markdown",
   "id": "ed75eab0-0f16-40cc-98fd-becc41299cb5",
   "metadata": {},
   "source": [
    "### findFirst()"
   ]
  },
  {
   "cell_type": "code",
   "execution_count": 119,
   "id": "1c7d75ff-b282-47fc-874c-048934acbb57",
   "metadata": {},
   "outputs": [
    {
     "data": {
      "text/plain": [
       "1"
      ]
     },
     "execution_count": 119,
     "metadata": {},
     "output_type": "execute_result"
    }
   ],
   "source": [
    "intStreamSupplier.get().findFirst().get();"
   ]
  },
  {
   "cell_type": "markdown",
   "id": "884a2e21-93f2-43d6-80f3-7cfc6c024da0",
   "metadata": {},
   "source": [
    "### findAny()"
   ]
  },
  {
   "cell_type": "code",
   "execution_count": 120,
   "id": "ce7c448f-d3ed-4378-bfb8-ea33ecad0b87",
   "metadata": {},
   "outputs": [
    {
     "data": {
      "text/plain": [
       "1"
      ]
     },
     "execution_count": 120,
     "metadata": {},
     "output_type": "execute_result"
    }
   ],
   "source": [
    "intStreamSupplier.get().findAny().get();"
   ]
  },
  {
   "cell_type": "markdown",
   "id": "e61498cc-6dd6-46d4-99b4-934314dfc0a1",
   "metadata": {},
   "source": [
    "---"
   ]
  },
  {
   "cell_type": "markdown",
   "id": "91ad20fd-ec02-4be8-be06-9207a3c40bd4",
   "metadata": {},
   "source": [
    "# Stream IO"
   ]
  },
  {
   "cell_type": "code",
   "execution_count": 189,
   "id": "c5bbd116-c494-4d5c-ae50-79010dc161ba",
   "metadata": {},
   "outputs": [
    {
     "name": "stdout",
     "output_type": "stream",
     "text": [
      "Dave\n",
      "Jane\n",
      "Eddie\n",
      "Jimmie\n",
      "Done!\n"
     ]
    }
   ],
   "source": [
    "String fileName = \"../../datasets/others/names.txt\";\n",
    "Path path = new File(fileName).toPath();\n",
    "try(Stream<String> lines = Files.lines(path, StandardCharsets.UTF_8)){\n",
    "    lines.onClose(() -> System.out.println(\"Done!\")).forEach(System.out::println);   \n",
    "}catch(Exception ex){\n",
    "    ex.printStackTrace();\n",
    "}"
   ]
  },
  {
   "cell_type": "code",
   "execution_count": null,
   "id": "8802ea6c-d74e-4d17-97be-3d7d198d9e9f",
   "metadata": {},
   "outputs": [],
   "source": []
  }
 ],
 "metadata": {
  "kernelspec": {
   "display_name": "Java",
   "language": "java",
   "name": "java"
  },
  "language_info": {
   "codemirror_mode": "java",
   "file_extension": ".jshell",
   "mimetype": "text/x-java-source",
   "name": "Java",
   "pygments_lexer": "java",
   "version": "17.0.6+10-jvmci-22.3-b13"
  },
  "widgets": {
   "application/vnd.jupyter.widget-state+json": {
    "state": {},
    "version_major": 2,
    "version_minor": 0
   }
  }
 },
 "nbformat": 4,
 "nbformat_minor": 5
}
