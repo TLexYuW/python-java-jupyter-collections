{
 "cells": [
  {
   "cell_type": "markdown",
   "id": "3e259a45-cb0b-4844-9288-0f1330cabd45",
   "metadata": {},
   "source": [
    "# Dependency"
   ]
  },
  {
   "cell_type": "code",
   "execution_count": 2,
   "id": "9ff36e26-ae72-4e3b-809b-de9204c3ad10",
   "metadata": {},
   "outputs": [],
   "source": [
    "// code"
   ]
  },
  {
   "cell_type": "markdown",
   "id": "ee6687ce-9f9d-4128-b0cd-eb250ba768c8",
   "metadata": {},
   "source": [
    "---"
   ]
  },
  {
   "cell_type": "markdown",
   "id": "67157d6b-1407-4523-aaeb-a40765a0b5b1",
   "metadata": {},
   "source": [
    "# Import"
   ]
  },
  {
   "cell_type": "code",
   "execution_count": 1,
   "id": "0af9a04a-e6c2-40c9-8769-2e6250c81875",
   "metadata": {},
   "outputs": [],
   "source": [
    "import java.util.*;\n",
    "\n",
    "import static java.lang.System.out;"
   ]
  },
  {
   "cell_type": "markdown",
   "id": "a86b359b-4679-405a-83f4-8a5527b055e6",
   "metadata": {},
   "source": [
    "---"
   ]
  },
  {
   "cell_type": "markdown",
   "id": "e509eb65-649a-4aa5-a916-b33630342afa",
   "metadata": {},
   "source": [
    "# TOC"
   ]
  },
  {
   "cell_type": "markdown",
   "id": "d0f95e28-f474-4420-88db-c39a53f48700",
   "metadata": {},
   "source": [
    "- [Comparable](#Comparable)"
   ]
  },
  {
   "cell_type": "markdown",
   "id": "16ca4c07-c57f-4744-9c61-1c1479d7116c",
   "metadata": {},
   "source": [
    "---"
   ]
  },
  {
   "cell_type": "markdown",
   "id": "0ddccc3a-d93a-46b6-9985-8bf8bcd7eeaf",
   "metadata": {},
   "source": [
    "# Setup\n",
    "- [Model](#Model)\n",
    "- [Utils](#Utils)"
   ]
  },
  {
   "cell_type": "markdown",
   "id": "d06a76dc-27b9-41c9-9655-997556316b8d",
   "metadata": {},
   "source": [
    "## Model"
   ]
  },
  {
   "cell_type": "code",
   "execution_count": null,
   "id": "a7189b6c-b66f-46e6-890c-f8cc2d06f18b",
   "metadata": {},
   "outputs": [],
   "source": []
  },
  {
   "cell_type": "markdown",
   "id": "e8439cc2-d683-4dd0-a167-929cf4aa607a",
   "metadata": {},
   "source": [
    "## Utils"
   ]
  },
  {
   "cell_type": "code",
   "execution_count": null,
   "id": "687f8aa0-21cb-40a1-ab3f-5b0a908bc49f",
   "metadata": {},
   "outputs": [],
   "source": []
  },
  {
   "cell_type": "markdown",
   "id": "a74bd3ca-3526-4fd6-8338-b511ed2c530e",
   "metadata": {},
   "source": [
    "---"
   ]
  },
  {
   "cell_type": "markdown",
   "id": "772c9aa3-ef0e-4990-9675-6e0b69f027b1",
   "metadata": {
    "jp-MarkdownHeadingCollapsed": true
   },
   "source": [
    "# Comparable"
   ]
  },
  {
   "cell_type": "code",
   "execution_count": 62,
   "id": "3a4f8a50-e0f3-4617-a234-82edef843ea2",
   "metadata": {},
   "outputs": [],
   "source": [
    "class Student implements Comparable<Student> {\n",
    "    int age;\n",
    "    String name;\n",
    "\n",
    "    public Student(int age, String name) {\n",
    "        this.age = age;\n",
    "        this.name = name;\n",
    "    }\n",
    "\n",
    "    @Override\n",
    "    public String toString() {\n",
    "        return \"Student{\" +\n",
    "                \"age=\" + age +\n",
    "                \", name='\" + name + '\\'' +\n",
    "                '}';\n",
    "    }\n",
    "\n",
    "    @Override\n",
    "    public int compareTo(Student that) {\n",
    "        if (this.age > that.age) {\n",
    "            return 1;\n",
    "        } else {\n",
    "            return -1;\n",
    "        }\n",
    "    }\n",
    "}"
   ]
  },
  {
   "cell_type": "code",
   "execution_count": 74,
   "id": "04fda0a1-39c6-418c-bed4-97a2896900c4",
   "metadata": {},
   "outputs": [
    {
     "name": "stdout",
     "output_type": "stream",
     "text": [
      "[29, 31, 43, 72]\n",
      "[43, 31, 72, 29]\n",
      "[29, 31, 43, 72]\n",
      "[43, 31, 72, 29]\n",
      "----------------------------\n",
      "[31, 72, 43, 29]\n",
      "[43, 31, 72, 29]\n",
      "[31, 72, 43, 29]\n",
      "[43, 31, 72, 29]\n"
     ]
    }
   ],
   "source": [
    "List<Integer> nums = List.of(43,31,72,29);\n",
    "List<Integer> list = new ArrayList<>(nums);\n",
    "\n",
    "Collections.sort(list);\n",
    "System.out.println(list); // [29, 31, 43, 72]\n",
    "System.out.println(nums); // [43, 31, 72, 29]\n",
    "list.sort(null);\n",
    "System.out.println(list); // [29, 31, 43, 72]\n",
    "System.out.println(nums); // [43, 31, 72, 29]\n",
    "\n",
    "out.println(\"----------------------------\");\n",
    "\n",
    "// Use your own logic\n",
    "Comparator<Integer> comparator = (i, j) -> {\n",
    "    if (i % 10 > j % 10) {\n",
    "        return 1;\n",
    "    } else {\n",
    "        return -1;\n",
    "    }\n",
    "};\n",
    "\n",
    "Collections.sort(list, comparator);\n",
    "System.out.println(list); // [31, 72, 43, 29]\n",
    "System.out.println(nums); // [43, 31, 72, 29]\n",
    "list.sort(comparator);\n",
    "System.out.println(list); // [31, 72, 43, 29]\n",
    "System.out.println(nums); // [43, 31, 72, 29]"
   ]
  },
  {
   "cell_type": "code",
   "execution_count": 75,
   "id": "4a88aa1d-3439-4ddf-816c-64b41800397d",
   "metadata": {},
   "outputs": [
    {
     "name": "stdout",
     "output_type": "stream",
     "text": [
      "[Student{age=12, name='John'}, Student{age=18, name='Peter'}, Student{age=20, name='K'}, Student{age=21, name='Nick'}]\n",
      "Student{age=12, name='John'}\n",
      "Student{age=18, name='Peter'}\n",
      "Student{age=20, name='K'}\n",
      "Student{age=21, name='Nick'}\n"
     ]
    }
   ],
   "source": [
    "// Comparator<Student> comparator = (i, j) -> {\n",
    "    /*\n",
    "    if (i.age > j.age) {\n",
    "        return 1;\n",
    "    } else {\n",
    "        return -1;\n",
    "    }\n",
    "     */\n",
    "//     return i.age > j.age ? 1 : -1;\n",
    "// };\n",
    "\n",
    "List<Student> students = List.of(\n",
    "    new Student(21, \"Nick\"),\n",
    "    new Student(12, \"John\"),\n",
    "    new Student(18, \"Peter\"),\n",
    "    new Student(20, \"K\")\n",
    ");\n",
    "List<Student> s_arr = new ArrayList(students);\n",
    "\n",
    "Collections.sort(s_arr);\n",
    "System.out.println(s_arr);\n",
    "for (Student s : s_arr) {\n",
    "    System.out.println(s);\n",
    "}"
   ]
  },
  {
   "cell_type": "code",
   "execution_count": null,
   "id": "9d6b3815-bffa-4fc9-b356-e10d2f8a33f3",
   "metadata": {},
   "outputs": [],
   "source": []
  }
 ],
 "metadata": {
  "kernelspec": {
   "display_name": "Java",
   "language": "java",
   "name": "java"
  },
  "language_info": {
   "codemirror_mode": "java",
   "file_extension": ".jshell",
   "mimetype": "text/x-java-source",
   "name": "Java",
   "pygments_lexer": "java",
   "version": "17.0.6+10-jvmci-22.3-b13"
  },
  "widgets": {
   "application/vnd.jupyter.widget-state+json": {
    "state": {},
    "version_major": 2,
    "version_minor": 0
   }
  }
 },
 "nbformat": 4,
 "nbformat_minor": 5
}
