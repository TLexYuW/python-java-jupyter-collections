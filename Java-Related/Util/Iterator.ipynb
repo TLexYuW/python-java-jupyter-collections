{
 "cells": [
  {
   "cell_type": "markdown",
   "id": "d0143813-e78f-4e5a-966f-779925933541",
   "metadata": {},
   "source": [
    "# Import"
   ]
  },
  {
   "cell_type": "code",
   "execution_count": 1,
   "id": "81ea9130-7cbe-43a6-a8b7-19fc8bb65a0d",
   "metadata": {},
   "outputs": [],
   "source": [
    "import java.util.*;\n",
    "import java.util.concurrent.*;\n",
    "\n",
    "import static java.lang.System.out;"
   ]
  },
  {
   "cell_type": "markdown",
   "id": "033f7c83-3213-4c57-9b6a-dc3eb95b8980",
   "metadata": {},
   "source": [
    "---"
   ]
  },
  {
   "cell_type": "markdown",
   "id": "41802b25-61a8-49aa-b514-3e47da242159",
   "metadata": {},
   "source": [
    "# Setup"
   ]
  },
  {
   "cell_type": "code",
   "execution_count": 2,
   "id": "fc7714ef-131b-4e1b-922f-c1889ef7a005",
   "metadata": {},
   "outputs": [],
   "source": [
    "// code"
   ]
  },
  {
   "cell_type": "markdown",
   "id": "1b935757-74fc-454c-9053-e30e0ed5aac5",
   "metadata": {},
   "source": [
    "---"
   ]
  },
  {
   "cell_type": "markdown",
   "id": "29c209b5-4f87-474c-9e6c-e3a36fa88229",
   "metadata": {},
   "source": [
    "# TOC"
   ]
  },
  {
   "cell_type": "markdown",
   "id": "0db224b8-9272-4592-bd86-da6398e36307",
   "metadata": {},
   "source": []
  },
  {
   "cell_type": "markdown",
   "id": "01502c79-9751-49b5-8c09-d5a73868571c",
   "metadata": {},
   "source": [
    "---"
   ]
  },
  {
   "cell_type": "markdown",
   "id": "13aece2c-1474-40c9-90be-971bf406eeac",
   "metadata": {},
   "source": [
    "# Iterator"
   ]
  },
  {
   "cell_type": "code",
   "execution_count": 3,
   "id": "d51eda2b-4d0d-4572-b22e-2dbe9785b635",
   "metadata": {},
   "outputs": [
    {
     "data": {
      "text/plain": [
       "true"
      ]
     },
     "execution_count": 3,
     "metadata": {},
     "output_type": "execute_result"
    }
   ],
   "source": [
    "List<String> list = new ArrayList<>();\n",
    "list.add(\"123\");\n",
    "list.add(\"ABC\");\n",
    "list.add(\"!@#$%^\");"
   ]
  },
  {
   "cell_type": "code",
   "execution_count": 4,
   "id": "33160f5e-f1bd-495c-906f-8b72be354107",
   "metadata": {},
   "outputs": [
    {
     "name": "stdout",
     "output_type": "stream",
     "text": [
      "123\n",
      "ABC\n",
      "!@#$%^\n"
     ]
    }
   ],
   "source": [
    "Iterator<String> iterator1 = list.iterator();\n",
    "\n",
    "while (iterator1.hasNext()){\n",
    "    String next = iterator1.next();\n",
    "    System.out.println(next);\n",
    "}"
   ]
  },
  {
   "cell_type": "code",
   "execution_count": 5,
   "id": "7709403d-e97f-485f-bcc4-c722c095b1bb",
   "metadata": {},
   "outputs": [],
   "source": [
    "Map<String, String> map = new HashMap<>();\n",
    "map.put(\"key1\",\"value1\");\n",
    "map.put(\"key2\",\"value2\");\n",
    "map.put(\"key3\",\"value3\");\n",
    "Iterator<String> keyIterator = map.keySet().iterator();\n",
    "Iterator<String> valueIterator = map.values().iterator();\n",
    "Iterator<Map.Entry<String, String>> iterator3 = map.entrySet().iterator();"
   ]
  },
  {
   "cell_type": "code",
   "execution_count": 6,
   "id": "ed66924a-77f8-4c76-9e3a-6e43889cb334",
   "metadata": {},
   "outputs": [
    {
     "name": "stdout",
     "output_type": "stream",
     "text": [
      "key1\n",
      "key2\n",
      "key3\n",
      "value1\n",
      "value2\n",
      "value3\n",
      "key1=value1\n",
      "key2=value2\n",
      "key3=value3\n"
     ]
    }
   ],
   "source": [
    "while (keyIterator.hasNext()){\n",
    "    String next = keyIterator.next();\n",
    "    System.out.println(next);\n",
    "}\n",
    "while (valueIterator.hasNext()){\n",
    "    String next = valueIterator.next();\n",
    "    System.out.println(next);\n",
    "}\n",
    "while (iterator3.hasNext()){\n",
    "    Map.Entry<String, String> next = iterator3.next();\n",
    "    System.out.println(next);\n",
    "}"
   ]
  },
  {
   "cell_type": "code",
   "execution_count": 7,
   "id": "b3c3ccd8-301c-46b5-a0f9-c9c7c28abe47",
   "metadata": {},
   "outputs": [
    {
     "name": "stdout",
     "output_type": "stream",
     "text": [
      "987\n",
      "abc\n",
      ")(*%$^&$\n",
      "987\n",
      "abc\n"
     ]
    }
   ],
   "source": [
    "List<String> list2 = new ArrayList<>();\n",
    "list2.add(\"987\");\n",
    "list2.add(\"abc\");\n",
    "list2.add(\")(*%$^&$\");\n",
    "\n",
    "Iterator<String> iterator2 = list2.iterator();\n",
    "\n",
    "while (iterator2.hasNext()){\n",
    "    System.out.println(iterator2.next());\n",
    "    // list2.remove(list.size()-1); // ConcurrentModificationException\n",
    "}\n",
    "\n",
    "// modify the list\n",
    "list2.remove(list2.size() - 1);\n",
    "\n",
    "Iterator<String> iterator3 = list2.iterator();\n",
    "while (iterator3.hasNext()){\n",
    "    System.out.println(iterator3.next());\n",
    "}"
   ]
  },
  {
   "cell_type": "code",
   "execution_count": 8,
   "id": "4ed38ef7-72d7-4329-976b-efb088b8ebd6",
   "metadata": {},
   "outputs": [
    {
     "name": "stdout",
     "output_type": "stream",
     "text": [
      "In While Loop...\n",
      "1\n",
      "In While Loop...\n",
      "9999\n",
      "In While Loop...\n",
      "111111\n",
      "0\n"
     ]
    }
   ],
   "source": [
    "List<Integer> nums = new ArrayList<>();\n",
    "nums.add(1);\n",
    "nums.add(9999);\n",
    "nums.add(111111);\n",
    "\n",
    "Iterator<Integer> n_iterator = nums.iterator();\n",
    "\n",
    "// n_iterator.forEachRemaining(x -> {\n",
    "//     System.out.println(\"In forEachRemaining...\");\n",
    "//     System.out.println(x);\n",
    "// });\n",
    "\n",
    "while (n_iterator.hasNext()){\n",
    "    System.out.println(\"In While Loop...\");\n",
    "    System.out.println(n_iterator.next());\n",
    "    n_iterator.remove();\n",
    "}\n",
    "\n",
    "System.out.println(nums.size()); // 0"
   ]
  },
  {
   "cell_type": "markdown",
   "id": "ad7cf63c-b680-42a2-8cdf-6e4768168f19",
   "metadata": {},
   "source": [
    "## Custom Iterator"
   ]
  },
  {
   "cell_type": "code",
   "execution_count": 9,
   "id": "8fbddcbb-f9ab-4ac8-9d47-ac31d5cebbce",
   "metadata": {},
   "outputs": [],
   "source": [
    "public class MyListIterator<T> implements Iterator<T>{\n",
    "\n",
    "    private List<T> source = null;\n",
    "    private int index = 0;\n",
    "\n",
    "    public MyListIterator(List<T> source) {\n",
    "        this.source = source;\n",
    "    }\n",
    "\n",
    "    @Override\n",
    "    public boolean hasNext() {\n",
    "        return this.index < this.source.size();\n",
    "    }\n",
    "\n",
    "    @Override\n",
    "    public T next() {\n",
    "        return this.source.get(this.index++);\n",
    "    }\n",
    "}"
   ]
  },
  {
   "cell_type": "code",
   "execution_count": 10,
   "id": "08bab2d1-812b-4fa1-aff5-dad693066ccb",
   "metadata": {},
   "outputs": [],
   "source": [
    "List<String> list = new ArrayList<>();\n",
    "list.add(\"123\");\n",
    "list.add(\"ABC\");\n",
    "list.add(\"xyz\");\n",
    "\n",
    "ListIterator<String> listIterator = list.listIterator();"
   ]
  },
  {
   "cell_type": "code",
   "execution_count": 11,
   "id": "754c2faa-1e62-42ec-adba-ce97cab1e1eb",
   "metadata": {},
   "outputs": [
    {
     "name": "stdout",
     "output_type": "stream",
     "text": [
      "123\n",
      "ABC\n",
      "xyz\n"
     ]
    }
   ],
   "source": [
    "while (listIterator.hasNext()){\n",
    "    System.out.println(listIterator.next());\n",
    "}"
   ]
  },
  {
   "cell_type": "code",
   "execution_count": 12,
   "id": "c56f4403-0176-4031-a976-e6f359c6e1a1",
   "metadata": {},
   "outputs": [
    {
     "name": "stdout",
     "output_type": "stream",
     "text": [
      "xyz\n",
      "ABC\n",
      "123\n"
     ]
    }
   ],
   "source": [
    "while (listIterator.hasPrevious()){\n",
    "    System.out.println(listIterator.previous());\n",
    "}"
   ]
  },
  {
   "cell_type": "markdown",
   "id": "6e9289a3-4a6a-4f64-bdee-c9ef9b5d676b",
   "metadata": {},
   "source": [
    "---"
   ]
  }
 ],
 "metadata": {
  "kernelspec": {
   "display_name": "Java",
   "language": "java",
   "name": "java"
  },
  "language_info": {
   "codemirror_mode": "java",
   "file_extension": ".jshell",
   "mimetype": "text/x-java-source",
   "name": "Java",
   "pygments_lexer": "java",
   "version": "17.0.6+10-jvmci-22.3-b13"
  },
  "widgets": {
   "application/vnd.jupyter.widget-state+json": {
    "state": {},
    "version_major": 2,
    "version_minor": 0
   }
  }
 },
 "nbformat": 4,
 "nbformat_minor": 5
}
