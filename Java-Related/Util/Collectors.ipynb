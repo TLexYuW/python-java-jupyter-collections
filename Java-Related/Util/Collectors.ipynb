{
 "cells": [
  {
   "cell_type": "markdown",
   "id": "17aa43be-172d-4f70-a3d1-d4bb4b3d061f",
   "metadata": {},
   "source": [
    "# Dependency"
   ]
  },
  {
   "cell_type": "code",
   "execution_count": 2,
   "id": "9e1ffdbb-345e-4bf8-ac43-27139fa7f25d",
   "metadata": {},
   "outputs": [],
   "source": [
    "// code"
   ]
  },
  {
   "cell_type": "markdown",
   "id": "18713e0d-0704-496b-9edd-5c3a2c39a1da",
   "metadata": {},
   "source": [
    "---"
   ]
  },
  {
   "cell_type": "markdown",
   "id": "352aa2d2-755e-4db8-918e-d25fa3ca9d09",
   "metadata": {},
   "source": [
    "# Import"
   ]
  },
  {
   "cell_type": "code",
   "execution_count": 1,
   "id": "44aea2f8-43bf-47e2-a321-b214ec1c6ad9",
   "metadata": {},
   "outputs": [],
   "source": [
    "\n",
    "import java.util.Arrays;\n",
    "import java.util.List;\n",
    "import java.util.Map;\n",
    "import java.util.Map.Entry;\n",
    "import java.util.Set;\n",
    "import java.util.function.*;\n",
    "import java.util.stream.Collectors;\n",
    "import static java.util.stream.Collectors.*;"
   ]
  },
  {
   "cell_type": "markdown",
   "id": "f917e148-bd35-4c70-a93c-6f75f15cb627",
   "metadata": {},
   "source": [
    "---"
   ]
  },
  {
   "cell_type": "markdown",
   "id": "f2c27400-e1a9-45ad-b4d2-253e824db6a6",
   "metadata": {},
   "source": [
    "# TOC"
   ]
  },
  {
   "cell_type": "markdown",
   "id": "7139696d-2afc-463a-90c4-c03f0ca2a45c",
   "metadata": {},
   "source": [
    "- [`toList()`](#toLsit())\n",
    "- `partitioningBy()`\n",
    "- `counting()`"
   ]
  },
  {
   "cell_type": "markdown",
   "id": "13f030d9-4c15-44d5-9436-1ca20b353e8e",
   "metadata": {},
   "source": [
    "## Use Case Demo"
   ]
  },
  {
   "cell_type": "markdown",
   "id": "80b3f6a9-0d4e-43fd-9bd2-a4e37a2e9064",
   "metadata": {},
   "source": [
    "- [Given a list of integers, separate odd and even numbers](#Given-a-list-of-integers,-separate-odd-and-even-numbers)\n",
    "- [Find frequency of each character in a string](#Find-frequency-of-each-character-in-a-string)"
   ]
  },
  {
   "cell_type": "markdown",
   "id": "596bc070-6546-416f-bebe-911b9a57f005",
   "metadata": {},
   "source": [
    "---"
   ]
  },
  {
   "cell_type": "markdown",
   "id": "415f8890-b47e-4d2a-be09-e26cd0bfb0a3",
   "metadata": {},
   "source": [
    "# Setup"
   ]
  },
  {
   "cell_type": "code",
   "execution_count": 5,
   "id": "4245566d-b619-48b6-bbf3-ccd0fa60026b",
   "metadata": {},
   "outputs": [],
   "source": [
    "List<String> givenList = Arrays.asList(\"a\", \"bb\", \"ccc\", \"dd\");"
   ]
  },
  {
   "cell_type": "markdown",
   "id": "a56c7a9f-80b6-4ecb-b861-ece1722aa5df",
   "metadata": {},
   "source": [
    "---"
   ]
  },
  {
   "cell_type": "markdown",
   "id": "87ee29a5-0049-4d59-8763-8dac9ec7ae80",
   "metadata": {},
   "source": [
    "# `toLsit()`"
   ]
  },
  {
   "cell_type": "code",
   "execution_count": 8,
   "id": "24c7b2e0-d998-4f5f-8237-dc701d4d7350",
   "metadata": {},
   "outputs": [
    {
     "name": "stdout",
     "output_type": "stream",
     "text": [
      "[a, bb, ccc, dd]\n"
     ]
    }
   ],
   "source": [
    "List<String> result = givenList.stream().collect(toList());\n",
    "System.out.println(result);"
   ]
  },
  {
   "cell_type": "markdown",
   "id": "cb81c597-4ee5-4239-b50f-3b08422f0af6",
   "metadata": {},
   "source": [
    "---"
   ]
  },
  {
   "cell_type": "markdown",
   "id": "40bb053b-a548-4d91-afbe-6f7e6e25ed8b",
   "metadata": {},
   "source": [
    "# "
   ]
  },
  {
   "cell_type": "code",
   "execution_count": null,
   "id": "44df05b9-0aa3-4645-bb31-a4897dc00c09",
   "metadata": {},
   "outputs": [],
   "source": []
  },
  {
   "cell_type": "markdown",
   "id": "220ffa95-b850-45ff-b20f-cf81affed528",
   "metadata": {},
   "source": [
    "---"
   ]
  },
  {
   "cell_type": "markdown",
   "id": "a647a9ed-79ef-4603-9d3b-54c365b8eb10",
   "metadata": {},
   "source": [
    "# Given a list of integers, separate odd and even numbers"
   ]
  },
  {
   "cell_type": "code",
   "execution_count": 16,
   "id": "cb6a15db-f97a-4d20-b478-9e629989aef6",
   "metadata": {},
   "outputs": [],
   "source": [
    "List<Integer> listOfInt = Arrays.asList(71, 18, 42, 21, 67, 32, 95, 14, 56, 87);\n",
    "\n",
    "Map<Boolean, List<Integer>> oddAndEvenNums = listOfInt.stream().collect(Collectors.partitioningBy(i -> i % 2 == 0));\n",
    "\n",
    "Set<Map.Entry<Boolean, List<Integer>>> entrySet = oddAndEvenNums.entrySet();"
   ]
  },
  {
   "cell_type": "code",
   "execution_count": 17,
   "id": "50d3d042-e480-47bc-b07c-08c8d0efde4d",
   "metadata": {},
   "outputs": [
    {
     "name": "stdout",
     "output_type": "stream",
     "text": [
      "--------------\n",
      "Odd\n",
      "--------------\n",
      "71\n",
      "21\n",
      "67\n",
      "95\n",
      "87\n",
      "--------------\n",
      "Even\n",
      "--------------\n",
      "18\n",
      "42\n",
      "32\n",
      "14\n",
      "56\n"
     ]
    }
   ],
   "source": [
    "for (var entry : entrySet) {\n",
    "    System.out.println(\"--------------\");\n",
    "\n",
    "    if (entry.getKey()) {\n",
    "        System.out.println(\"Even\");\n",
    "    } else {\n",
    "        System.out.println(\"Odd\");\n",
    "    }\n",
    "\n",
    "    System.out.println(\"--------------\");\n",
    "\n",
    "    List<Integer> l = entry.getValue();\n",
    "\n",
    "    for (int i : l) {\n",
    "        System.out.println(i);\n",
    "    }\n",
    "}"
   ]
  },
  {
   "cell_type": "markdown",
   "id": "b036358e-cdc3-49ff-b1ed-9612e5d8b36b",
   "metadata": {},
   "source": [
    "---"
   ]
  },
  {
   "cell_type": "markdown",
   "id": "5b2c7ecf-86a9-405c-9503-70e4fa9790e2",
   "metadata": {},
   "source": [
    "# Find frequency of each character in a string"
   ]
  },
  {
   "cell_type": "code",
   "execution_count": 6,
   "id": "7528e0db-40f6-4637-a816-6572a1631460",
   "metadata": {},
   "outputs": [
    {
     "data": {
      "text/plain": [
       "{ =13, a=8, b=4, c=1, d=3, e=10, f=3, g=4, h=6, i=2, k=2, ,=1, l=3, m=3, .=1, n=3, o=3, p=3, r=7, s=5, t=7, T=1, u=3, w=1, y=3}"
      ]
     },
     "execution_count": 6,
     "metadata": {},
     "output_type": "execute_result"
    }
   ],
   "source": [
    "String input = \"The aroma of freshly baked bread wafted through the bustling marketplace, tempting hungry passersby.\";\n",
    "\n",
    "Map<Character, Long> charCountMap = input.chars()\n",
    "    .mapToObj(c -> (char)c)\n",
    "    .collect(Collectors.groupingBy(Function.identity(), Collectors.counting()));\n",
    "\n",
    "charCountMap"
   ]
  },
  {
   "cell_type": "markdown",
   "id": "15c8dd52-9838-4d2f-942b-346b6ed1679f",
   "metadata": {},
   "source": [
    "---"
   ]
  }
 ],
 "metadata": {
  "kernelspec": {
   "display_name": "Java",
   "language": "java",
   "name": "java"
  },
  "language_info": {
   "codemirror_mode": "java",
   "file_extension": ".jshell",
   "mimetype": "text/x-java-source",
   "name": "Java",
   "pygments_lexer": "java",
   "version": "17.0.6+10-jvmci-22.3-b13"
  },
  "widgets": {
   "application/vnd.jupyter.widget-state+json": {
    "state": {},
    "version_major": 2,
    "version_minor": 0
   }
  }
 },
 "nbformat": 4,
 "nbformat_minor": 5
}
