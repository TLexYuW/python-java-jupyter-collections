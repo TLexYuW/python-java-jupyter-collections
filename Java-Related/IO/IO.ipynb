{
 "cells": [
  {
   "cell_type": "markdown",
   "id": "b55e4ef5-d0c5-427e-9310-f7b2e1cfa1f5",
   "metadata": {},
   "source": [
    "# Import"
   ]
  },
  {
   "cell_type": "code",
   "execution_count": 9,
   "id": "2d6a3ba7-567c-491b-bb9e-f3f820a3de90",
   "metadata": {},
   "outputs": [],
   "source": [
    "import java.io.*;\n",
    "\n",
    "import static java.lang.System.out;"
   ]
  },
  {
   "cell_type": "markdown",
   "id": "c4ef30e6-77e1-4a0b-84e4-98ac5bb6deec",
   "metadata": {},
   "source": [
    "---"
   ]
  },
  {
   "cell_type": "markdown",
   "id": "57ffee7f-94ec-4c95-9d31-0800515c398e",
   "metadata": {},
   "source": [
    "# TOC"
   ]
  },
  {
   "cell_type": "markdown",
   "id": "9b1988e3-dbff-4771-9f76-4daa2c980204",
   "metadata": {},
   "source": [
    "- bytes stream\n",
    "    - OutputStream\n",
    "        - [BufferedOutputStream](#BufferedOutputStream)\n",
    "        - [BufferedInputStream](#BufferedInputStream)"
   ]
  },
  {
   "cell_type": "markdown",
   "id": "fe8eec6f-7833-4148-a2a9-3bef1e1f9e38",
   "metadata": {},
   "source": [
    "---"
   ]
  },
  {
   "cell_type": "markdown",
   "id": "dd614b46-1c3d-4a68-b280-c2c6062fed81",
   "metadata": {},
   "source": [
    "# Setup"
   ]
  },
  {
   "cell_type": "code",
   "execution_count": null,
   "id": "95d78673-561d-433b-b40f-3e11dca81299",
   "metadata": {},
   "outputs": [],
   "source": [
    "// code"
   ]
  },
  {
   "cell_type": "markdown",
   "id": "287d22a2-5a83-4ca7-bcdb-a4ebeb8c391d",
   "metadata": {},
   "source": [
    "---"
   ]
  },
  {
   "cell_type": "markdown",
   "id": "659e9404-3a43-41f5-b29f-3d95030b83ca",
   "metadata": {},
   "source": [
    "# BufferedOutputStream"
   ]
  },
  {
   "cell_type": "code",
   "execution_count": 10,
   "id": "35871191-cf5f-4dd8-bfa4-3620e88d049b",
   "metadata": {},
   "outputs": [],
   "source": [
    "try (BufferedOutputStream bos = new BufferedOutputStream(new FileOutputStream(\"../../datasets/others/bosOutput.txt\"))) {\n",
    "    byte[] array = \"This is Bos Output\".getBytes();\n",
    "    bos.write(array);\n",
    "} catch (Exception ex) {\n",
    "    out.println(ex.getMessage());\n",
    "}"
   ]
  },
  {
   "cell_type": "markdown",
   "id": "5ba8da08-245e-4671-b140-aa5898ba6093",
   "metadata": {},
   "source": [
    "---"
   ]
  },
  {
   "cell_type": "markdown",
   "id": "c2226222-fcac-4574-955c-e2c563ad9b74",
   "metadata": {},
   "source": [
    "# BufferedInputStream"
   ]
  },
  {
   "cell_type": "code",
   "execution_count": 11,
   "id": "a5ab9451-d59b-4b4e-b040-de94120fc27c",
   "metadata": {},
   "outputs": [
    {
     "name": "stdout",
     "output_type": "stream",
     "text": [
      "This is Bos Output\n"
     ]
    }
   ],
   "source": [
    "try (BufferedInputStream bis = new BufferedInputStream(new FileInputStream(\"../../datasets/others/bosOutput.txt\"))) {\n",
    "    String result = new String(bis.readAllBytes());\n",
    "    out.println(result);\n",
    "} catch (Exception ex) {\n",
    "    out.println(ex.getMessage());\n",
    "}"
   ]
  },
  {
   "cell_type": "markdown",
   "id": "b59c1100-04cd-4b86-800b-acba6c2fa474",
   "metadata": {},
   "source": [
    "---"
   ]
  }
 ],
 "metadata": {
  "kernelspec": {
   "display_name": "Java",
   "language": "java",
   "name": "java"
  },
  "language_info": {
   "codemirror_mode": "java",
   "file_extension": ".jshell",
   "mimetype": "text/x-java-source",
   "name": "Java",
   "pygments_lexer": "java",
   "version": "17.0.6+10-jvmci-22.3-b13"
  },
  "widgets": {
   "application/vnd.jupyter.widget-state+json": {
    "state": {},
    "version_major": 2,
    "version_minor": 0
   }
  }
 },
 "nbformat": 4,
 "nbformat_minor": 5
}
