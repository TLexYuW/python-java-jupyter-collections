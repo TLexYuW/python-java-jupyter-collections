{
 "cells": [
  {
   "cell_type": "markdown",
   "id": "b55e4ef5-d0c5-427e-9310-f7b2e1cfa1f5",
   "metadata": {},
   "source": [
    "# Import"
   ]
  },
  {
   "cell_type": "code",
   "execution_count": 2,
   "id": "2d6a3ba7-567c-491b-bb9e-f3f820a3de90",
   "metadata": {},
   "outputs": [],
   "source": [
    "import java.io.*;\n",
    "import java.util.zip.DeflaterOutputStream;\n",
    "\n",
    "import static java.lang.System.out;"
   ]
  },
  {
   "cell_type": "markdown",
   "id": "c4ef30e6-77e1-4a0b-84e4-98ac5bb6deec",
   "metadata": {},
   "source": [
    "---"
   ]
  },
  {
   "cell_type": "markdown",
   "id": "57ffee7f-94ec-4c95-9d31-0800515c398e",
   "metadata": {},
   "source": [
    "# TOC"
   ]
  },
  {
   "cell_type": "markdown",
   "id": "9b1988e3-dbff-4771-9f76-4daa2c980204",
   "metadata": {},
   "source": [
    "- [Byte Stream](#Byte-Stream)\n",
    "    - InputStream\n",
    "        - [ByteArrayInputStream](#ByteArrayInputStream)\n",
    "        - [PipedInputStream](#PipedInputStream)\n",
    "        - FilterInputStream \n",
    "            - [BufferedInputStream](#BufferedInputStream)\n",
    "            - [DataInputStream](#DataInputStream)\n",
    "        - [FileInputStream](#FileInputStream)\n",
    "        - [ObjectInputStream](#ObjectInputStream)\n",
    "    - OutputStream\n",
    "        - ByteArrayOutputStream\n",
    "        - PipedOutputStream\n",
    "        - FilterOnputStream\n",
    "            - [BufferedOutputStream](#BufferedOutputStream)\n",
    "            - [DataOutputStream](#DataOutputStream)\n",
    "            - PrintStream\n",
    "            - [DelfaterOutputStream](#DelfaterOutputStream)\n",
    "        - [FileOutputStream](#FileOutputStream)\n",
    "        - [ObjectOutputStream](#ObjectOutputStream)\n",
    "- [Char Stream](#Char-Stream)\n",
    "    - Reader\n",
    "        - CharrArrayReader\n",
    "        - PipedReader\n",
    "        - FilterReader\n",
    "        - BufferedReader\n",
    "        - InputStreamReader \n",
    "            - [FileReader](#FileReader)\n",
    "    - Writer\n",
    "        - CharrArrayWriter\n",
    "        - PipedWriter\n",
    "        - FilterWriter\n",
    "        - BufferedWriter\n",
    "        - OutputStreamWriter\n",
    "            - [FileWriter](#FileWriter)\n",
    "        - PrtintWriter "
   ]
  },
  {
   "cell_type": "markdown",
   "id": "5387002a-7bee-4d60-b91b-5df1a11de099",
   "metadata": {},
   "source": [
    "## Categories"
   ]
  },
  {
   "cell_type": "markdown",
   "id": "5453aa3f-8f44-401c-ae8d-b01c078bde6d",
   "metadata": {},
   "source": [
    "- [File](#File)\n",
    "    - [FileInputStream](#FileInputStream)\n",
    "    - [FileOutputStream](#FileOutputStream)\n",
    "    - [FileReader](#FileReader)\n",
    "    - [FileWriter](#FileWriter)\n",
    "- Array`[]`\n",
    "    - [ByteArrayInputStream](#ByteArrayInputStream)\n",
    "    - ByteArrayOutputStream\n",
    "    - CharrArrayReader\n",
    "    - CharrArrayWriter\n",
    "- Pipe\n",
    "    - PipedInputStream\n",
    "    - PipedOutputStream\n",
    "    - PipedReader\n",
    "    - PipedWriter\n",
    "- Primitive Data Types\n",
    "    - [DataInputStream](#DataInputStream)\n",
    "    - [DataOutputStream](#DataOutputStream)\n",
    "- Buffered\n",
    "    - [BufferedInputStream](#BufferedInputStream)\n",
    "    - [BufferedOutputStream](#BufferedOutputStream)\n",
    "    - BufferedReader\n",
    "    - BufferedWriter\n",
    "- Print\n",
    "    - PrintStream\n",
    "    - PrtintWriter\n",
    "- Object Serialize and Deserialize\n",
    "    - [ObjectInputStream](#ObjectInputStream)\n",
    "    - [ObjectOutputStream](#ObjectOutputStream)\n",
    "- Transform\n",
    "    - InputStreamReader\n",
    "    - OutputStreamWriter"
   ]
  },
  {
   "cell_type": "markdown",
   "id": "fe8eec6f-7833-4148-a2a9-3bef1e1f9e38",
   "metadata": {},
   "source": [
    "---"
   ]
  },
  {
   "cell_type": "markdown",
   "id": "dd614b46-1c3d-4a68-b280-c2c6062fed81",
   "metadata": {},
   "source": [
    "# Setup\n",
    "- [Model](#Model)\n",
    "- [Utils](#Utils)"
   ]
  },
  {
   "cell_type": "markdown",
   "id": "e15326e5-4dd2-41e1-be73-2141c2258511",
   "metadata": {
    "jp-MarkdownHeadingCollapsed": true
   },
   "source": [
    "## Model"
   ]
  },
  {
   "cell_type": "code",
   "execution_count": 9,
   "id": "95d78673-561d-433b-b40f-3e11dca81299",
   "metadata": {},
   "outputs": [],
   "source": [
    "public class Person implements Serializable {\n",
    "\tprivate String name;\n",
    "\tprivate int age;\n",
    "\n",
    "\tpublic Person(String name, int age) {\n",
    "\t\tthis.name = name;\n",
    "\t\tthis.age = age;\n",
    "\t}\n",
    "\n",
    "\tpublic String getName() {\n",
    "\t\treturn name;\n",
    "\t}\n",
    "\n",
    "\tpublic void setName(String name) {\n",
    "\t\tthis.name = name;\n",
    "\t}\n",
    "\n",
    "\tpublic int getAge() {\n",
    "\t\treturn age;\n",
    "\t}\n",
    "\n",
    "\tpublic void setAge(int age) {\n",
    "\t\tthis.age = age;\n",
    "\t}\n",
    "\n",
    "\t@Override\n",
    "\tpublic String toString() {\n",
    "\t\treturn \"Person{\" +\n",
    "\t\t\t\t\"name='\" + name + '\\'' +\n",
    "\t\t\t\t\", age=\" + age +\n",
    "\t\t\t\t'}';\n",
    "\t}\n",
    "}"
   ]
  },
  {
   "cell_type": "markdown",
   "id": "e746e661-95d0-4c05-8a2d-c686e548c59c",
   "metadata": {},
   "source": [
    "---"
   ]
  },
  {
   "cell_type": "markdown",
   "id": "d9bd0cc3-77a4-406b-b378-9d18329f88e7",
   "metadata": {
    "jp-MarkdownHeadingCollapsed": true
   },
   "source": [
    "## Utils"
   ]
  },
  {
   "cell_type": "code",
   "execution_count": 10,
   "id": "984cc37b-4597-4b50-9845-888a83e50393",
   "metadata": {},
   "outputs": [],
   "source": [
    "private static Person readPerson(String data) {\n",
    "    String[] fields = data.split(\":\");\n",
    "    String name = fields[0];\n",
    "    int age = Integer.parseInt(fields[1]);\n",
    "    return new Person(name, age);\n",
    "}"
   ]
  },
  {
   "cell_type": "markdown",
   "id": "287d22a2-5a83-4ca7-bcdb-a4ebeb8c391d",
   "metadata": {},
   "source": [
    "---"
   ]
  },
  {
   "cell_type": "markdown",
   "id": "a2877675-135b-4aec-a1c7-7da0f1c1003c",
   "metadata": {},
   "source": [
    "# File"
   ]
  },
  {
   "cell_type": "code",
   "execution_count": 35,
   "id": "65e2afb1-b7cb-41e3-bb58-7049a3a4f869",
   "metadata": {},
   "outputs": [
    {
     "name": "stdout",
     "output_type": "stream",
     "text": [
      "bosOutput-checkpoint.txt\n",
      "context-checkpoint.txt\n",
      "dosOutput-checkpoint.txt\n",
      "input-checkpoint.txt\n",
      "more_names-checkpoint.txt\n",
      "names-checkpoint.txt\n",
      "bosOutput.txt\n",
      "context.txt\n",
      "dosOutput.txt\n",
      "fosOutput.txt\n",
      "fwOutput.txt\n",
      "input.txt\n",
      "more_names.txt\n",
      "name_list.txt\n",
      "oosPeople.bin\n"
     ]
    }
   ],
   "source": [
    "public static void listAllFiles(File dir){\n",
    "    if(dir == null || !dir.exists()){\n",
    "        return;\n",
    "    }\n",
    "    if(dir.isFile()){\n",
    "        out.println(dir.getName());\n",
    "        return;\n",
    "    }\n",
    "    for(File file : dir.listFiles()){\n",
    "        listAllFiles(file);\n",
    "    }\n",
    "}\n",
    "\n",
    "listAllFiles(new File(\"../../datasets/others\"));"
   ]
  },
  {
   "cell_type": "code",
   "execution_count": 41,
   "id": "b8c83894-0bc9-4493-94c7-50d58a73f7de",
   "metadata": {},
   "outputs": [],
   "source": [
    "public static void copyFile(String src, String dist) throws IOException {\n",
    "    FileInputStream fis = new FileInputStream(src);\n",
    "    FileOutputStream fos = new FileOutputStream(dist);\n",
    "\n",
    "    byte[] buffer = new byte[20 * 1024];\n",
    "\n",
    "    buffer =  fis.readAllBytes();\n",
    "\n",
    "    fos.write(buffer);\n",
    "\n",
    "    fis.close();\n",
    "    fos.close();\n",
    "}\n",
    "\n",
    "copyFile(\"../../datasets/others/names.txt\", \"../../datasets/io_dest/names-copy.txt\");"
   ]
  },
  {
   "cell_type": "code",
   "execution_count": 40,
   "id": "6f387ebf-c815-4aee-ac2a-7d44d1629283",
   "metadata": {},
   "outputs": [
    {
     "name": "stdout",
     "output_type": "stream",
     "text": [
      "File exists.\n",
      "File Path = ..\\..\\datasets\\others\\names.txt\n",
      "File Absole Path = D:\\CodeWorkSpaces\\SortedWorkspace\\Python-Projects\\python-java-jupyter-collections\\Java-Related\\IO\\..\\..\\datasets\\others\\names.txt\n",
      "true\n"
     ]
    }
   ],
   "source": [
    "File file = new File(\"../../datasets/others/names.txt\");\n",
    "if (file.exists()) {\n",
    "    System.out.println(\"File exists.\");\n",
    "    System.out.println(\"File Path = \" + file.getPath());\n",
    "    System.out.println(\"File Absole Path = \" + file.getAbsolutePath());\n",
    "    System.out.println(file.isFile());\n",
    "    // file.delete();\n",
    "} else {\n",
    "    System.out.println(\"File not exists.\");\n",
    "}"
   ]
  },
  {
   "cell_type": "markdown",
   "id": "e842cf7c-7530-4bd8-8c85-a98601d4682b",
   "metadata": {},
   "source": [
    "---"
   ]
  },
  {
   "cell_type": "markdown",
   "id": "cfd9623e-c952-49d8-bdc5-9a2276ebdf90",
   "metadata": {},
   "source": [
    "# Byte Stream"
   ]
  },
  {
   "cell_type": "markdown",
   "id": "ccf5c9f0-ea41-45ac-adf5-cf7aa2a42099",
   "metadata": {
    "jp-MarkdownHeadingCollapsed": true
   },
   "source": [
    "### FileOutputStream"
   ]
  },
  {
   "cell_type": "code",
   "execution_count": 13,
   "id": "c887a828-69ce-4ef3-bbf4-86f571577051",
   "metadata": {},
   "outputs": [],
   "source": [
    "try (FileOutputStream fis = new FileOutputStream(\"../../datasets/others/fosOutput.txt\")) {\n",
    "    byte[] array = \"This is fis Output\".getBytes();\n",
    "    fis.write(array);\n",
    "} catch (Exception ex) {\n",
    "    ex.printStackTrace();\n",
    "}"
   ]
  },
  {
   "cell_type": "markdown",
   "id": "47195ea4-9257-43bb-91ae-eb76052c4b16",
   "metadata": {
    "jp-MarkdownHeadingCollapsed": true
   },
   "source": [
    "### FileInputStream"
   ]
  },
  {
   "cell_type": "code",
   "execution_count": 14,
   "id": "e7973d3e-b930-48b1-a51f-1d74f085c0ae",
   "metadata": {},
   "outputs": [
    {
     "name": "stdout",
     "output_type": "stream",
     "text": [
      "Number of remaining bytes: 18\n",
      "The actual number of bytes skipped: 2\n",
      "The content read from file: \n",
      "is is fis Output"
     ]
    }
   ],
   "source": [
    "try (InputStream fis = new FileInputStream(\"../../datasets/others/fosOutput.txt\")) {\n",
    "    System.out.println(\"Number of remaining bytes: \" + fis.available());\n",
    "    long skip = fis.skip(2);\n",
    "    int content;\n",
    "    System.out.println(\"The actual number of bytes skipped: \" + skip);\n",
    "    System.out.println(\"The content read from file: \");\n",
    "    while ((content=fis.read()) != -1) {\n",
    "        System.out.print((char)content); // 中文亂碼 -> FileReader\n",
    "    }\n",
    "} catch (Exception ex) {\n",
    "    ex.printStackTrace();\n",
    "}"
   ]
  },
  {
   "cell_type": "markdown",
   "id": "c5935ab4-d6a0-4c40-b3bf-0cf20419ea1b",
   "metadata": {},
   "source": [
    "---"
   ]
  },
  {
   "cell_type": "markdown",
   "id": "659e9404-3a43-41f5-b29f-3d95030b83ca",
   "metadata": {
    "jp-MarkdownHeadingCollapsed": true
   },
   "source": [
    "### BufferedOutputStream"
   ]
  },
  {
   "cell_type": "code",
   "execution_count": 15,
   "id": "35871191-cf5f-4dd8-bfa4-3620e88d049b",
   "metadata": {},
   "outputs": [],
   "source": [
    "try (BufferedOutputStream bos = new BufferedOutputStream(new FileOutputStream(\"../../datasets/others/bosOutput.txt\"))) {\n",
    "    byte[] array = \"This is Bos Output\".getBytes();\n",
    "    bos.write(array);\n",
    "} catch (Exception ex) {\n",
    "    out.println(ex.getMessage());\n",
    "}"
   ]
  },
  {
   "cell_type": "markdown",
   "id": "5ba8da08-245e-4671-b140-aa5898ba6093",
   "metadata": {},
   "source": [
    "---"
   ]
  },
  {
   "cell_type": "markdown",
   "id": "c2226222-fcac-4574-955c-e2c563ad9b74",
   "metadata": {
    "jp-MarkdownHeadingCollapsed": true
   },
   "source": [
    "### BufferedInputStream"
   ]
  },
  {
   "cell_type": "code",
   "execution_count": 16,
   "id": "a5ab9451-d59b-4b4e-b040-de94120fc27c",
   "metadata": {},
   "outputs": [
    {
     "name": "stdout",
     "output_type": "stream",
     "text": [
      "This is Bos Output\n"
     ]
    }
   ],
   "source": [
    "try (BufferedInputStream bis = new BufferedInputStream(new FileInputStream(\"../../datasets/others/bosOutput.txt\"))) {\n",
    "    String result = new String(bis.readAllBytes());\n",
    "    out.println(result);\n",
    "} catch (Exception ex) {\n",
    "    out.println(ex.getMessage());\n",
    "}"
   ]
  },
  {
   "cell_type": "markdown",
   "id": "b59c1100-04cd-4b86-800b-acba6c2fa474",
   "metadata": {},
   "source": [
    "---"
   ]
  },
  {
   "cell_type": "markdown",
   "id": "5013780e-2727-4570-8ffd-80a1f0f25de6",
   "metadata": {
    "jp-MarkdownHeadingCollapsed": true
   },
   "source": [
    "### DataOutputStream"
   ]
  },
  {
   "cell_type": "code",
   "execution_count": 17,
   "id": "6a7283f6-acb9-4d15-8560-724707debacc",
   "metadata": {},
   "outputs": [],
   "source": [
    "try (DataOutputStream dos = new DataOutputStream(new FileOutputStream(\"../../datasets/others/dosOutput.txt\"))) {\n",
    "    Person p1 = new Person(\"p1\",100);\n",
    "    Person p2 = new Person(\"p2\",50);\n",
    "    Person p3 = new Person(\"p3\",25);\n",
    "    dos.writeUTF(p1.getName() + \":\" +  p1.getAge());\n",
    "    dos.writeUTF(p2.getName() + \":\" +  p2.getAge());\n",
    "    dos.writeUTF(p3.getName() + \":\" +  p3.getAge());\n",
    "} catch (Exception ex) {\n",
    "    System.out.println(ex.getMessage());\n",
    "}"
   ]
  },
  {
   "cell_type": "markdown",
   "id": "2a950e5a-330d-4c7a-a982-58990ea163d6",
   "metadata": {},
   "source": [
    "---"
   ]
  },
  {
   "cell_type": "markdown",
   "id": "e09c1f62-82a0-48a4-95b4-9f1d757175e4",
   "metadata": {},
   "source": [
    "### DataInputStream"
   ]
  },
  {
   "cell_type": "code",
   "execution_count": 18,
   "id": "f5eef472-6561-461c-b6ef-25d8a824a872",
   "metadata": {},
   "outputs": [
    {
     "name": "stdout",
     "output_type": "stream",
     "text": [
      "p1 is 100 years old.\n",
      "p2 is 50 years old.\n",
      "p3 is 25 years old.\n"
     ]
    }
   ],
   "source": [
    "try (DataInputStream dis = new DataInputStream(new FileInputStream(\"../../datasets/others/dosOutput.txt\"))) {\n",
    "    Person p1 = readPerson(dis.readUTF());\n",
    "    Person p2 = readPerson(dis.readUTF());\n",
    "    Person p3 = readPerson(dis.readUTF());\n",
    "\n",
    "    System.out.println(p1.getName() + \" is \" + p1.getAge() + \" years old.\");\n",
    "    System.out.println(p2.getName() + \" is \" + p2.getAge() + \" years old.\");\n",
    "    System.out.println(p3.getName() + \" is \" + p3.getAge() + \" years old.\");\n",
    "} catch (Exception ex) {\n",
    "    System.out.println(ex.getMessage());\n",
    "}"
   ]
  },
  {
   "cell_type": "markdown",
   "id": "f44fe49a-ef7a-415a-b390-1cffecb80697",
   "metadata": {
    "jp-MarkdownHeadingCollapsed": true
   },
   "source": [
    "---"
   ]
  },
  {
   "cell_type": "markdown",
   "id": "104cf28a-867c-48ce-a680-a7e4590a39d8",
   "metadata": {},
   "source": [
    "### DataInputStream"
   ]
  },
  {
   "cell_type": "code",
   "execution_count": 3,
   "id": "2582b3ee-3367-497b-a2e1-74998d49a16a",
   "metadata": {},
   "outputs": [],
   "source": [
    "try(DeflaterOutputStream dos = new DeflaterOutputStream(new FileOutputStream(\"../../datasets/others/compressed_output.txt\"))) {\n",
    "    dos.write(\"This is some data to compress.\".getBytes());\n",
    "} catch (Exception ex) {\n",
    "    ex.printStackTrace();\n",
    "}"
   ]
  },
  {
   "cell_type": "markdown",
   "id": "c0758168-1abc-479c-9270-02c69fc3e54b",
   "metadata": {},
   "source": [
    "---"
   ]
  },
  {
   "cell_type": "markdown",
   "id": "9f120f1d-ec28-4264-a312-ef6973cb904f",
   "metadata": {},
   "source": [
    "### ObjectOutputStream"
   ]
  },
  {
   "cell_type": "code",
   "execution_count": 19,
   "id": "71652abf-3bef-4938-869b-69f1450b8643",
   "metadata": {},
   "outputs": [],
   "source": [
    "try (ObjectOutputStream oos = new ObjectOutputStream(new FileOutputStream(\"../../datasets/others/oosPeople.bin\"))) {\n",
    "\n",
    "    Person p1 = new Person(\"p1\",100);\n",
    "    Person p2 = new Person(\"p2\",50);\n",
    "    Person p3 = new Person(\"p3\",25);\n",
    "\n",
    "    oos.writeObject(p1);\n",
    "    oos.writeObject(p2);\n",
    "    oos.writeObject(p3);\n",
    "} catch (Exception ex) {\n",
    "    System.out.println(\"err\");\n",
    "}"
   ]
  },
  {
   "cell_type": "markdown",
   "id": "232cfb40-259b-4bc6-b8be-fc21cf12319b",
   "metadata": {},
   "source": [
    "### ObjectInputStream"
   ]
  },
  {
   "cell_type": "code",
   "execution_count": 20,
   "id": "cd95a9a5-dfbc-4dc3-97ec-5e05192a9027",
   "metadata": {},
   "outputs": [
    {
     "name": "stdout",
     "output_type": "stream",
     "text": [
      "Person{name='p1', age=100}\n",
      "Person{name='p2', age=50}\n",
      "Person{name='p3', age=25}\n",
      "end of file err\n"
     ]
    }
   ],
   "source": [
    "try(ObjectInputStream oos = new ObjectInputStream(new FileInputStream(\"../../datasets/others/oosPeople.bin\"))) {\n",
    "    while (true){\n",
    "        try {\n",
    "            Person p = (Person) oos.readObject();\n",
    "            System.out.println(p);\n",
    "        } catch (Exception ex) {\n",
    "            System.out.println(\"end of file err\");\n",
    "            break;\n",
    "        }\n",
    "    }\n",
    "} catch (Exception ex) {\n",
    "    ex.printStackTrace();\n",
    "}"
   ]
  },
  {
   "cell_type": "markdown",
   "id": "c82dc1c3-d341-4f66-97f3-7b022ed8ed04",
   "metadata": {
    "jp-MarkdownHeadingCollapsed": true
   },
   "source": [
    "---"
   ]
  },
  {
   "cell_type": "markdown",
   "id": "a6135ea2-4091-40c2-9c01-8b3bffecea43",
   "metadata": {},
   "source": [
    "# Char Stream"
   ]
  },
  {
   "cell_type": "markdown",
   "id": "38f54bf1-ad64-4c05-9c3e-cd1f10984fac",
   "metadata": {},
   "source": [
    "### FileWriter"
   ]
  },
  {
   "cell_type": "code",
   "execution_count": 25,
   "id": "ae083dc2-8d36-4f70-b5cc-881721c6c7ac",
   "metadata": {},
   "outputs": [],
   "source": [
    "try (Writer writer = new FileWriter(\"../../datasets/others/fwOutput.txt\")) {\n",
    "    writer.write(\"This is fw Output\");\n",
    "} catch (Exception ex) {\n",
    "    ex.printStackTrace();\n",
    "}"
   ]
  },
  {
   "cell_type": "markdown",
   "id": "28fce16a-cc7a-477d-a2b6-df6bc531f863",
   "metadata": {},
   "source": [
    "### FileReader"
   ]
  },
  {
   "cell_type": "code",
   "execution_count": 30,
   "id": "c0c551a2-544c-47d3-8cef-c265ebece4e2",
   "metadata": {},
   "outputs": [
    {
     "name": "stdout",
     "output_type": "stream",
     "text": [
      "The Content read from file: \n",
      "\u0000\u0000\u0000\u0000\u0000\u0000HIJK"
     ]
    }
   ],
   "source": [
    "try (FileReader reader = new FileReader(\"../../datasets/others/input.txt\")) {\n",
    "    int content;\n",
    "    System.out.println(\"The Content read from file: \");\n",
    "    while ((content = reader.read()) != -1){\n",
    "        System.out.print((char) content);\n",
    "    }\n",
    "} catch (Exception ex) {\n",
    "    System.out.println(\"err\");\n",
    "}"
   ]
  },
  {
   "cell_type": "markdown",
   "id": "f2320a24-5404-4926-8b34-e3d1508ffdfa",
   "metadata": {
    "jp-MarkdownHeadingCollapsed": true
   },
   "source": [
    "---"
   ]
  },
  {
   "cell_type": "markdown",
   "id": "33a4f75d-b567-4ea0-aa38-a51eac3a3d15",
   "metadata": {},
   "source": [
    "### RandomAccessFile"
   ]
  },
  {
   "cell_type": "code",
   "execution_count": 29,
   "id": "deb3d7ed-95c8-4bd2-9f70-237e463d2726",
   "metadata": {},
   "outputs": [
    {
     "name": "stdout",
     "output_type": "stream",
     "text": [
      "before read offset: 0, current read char ￿, after read offset: 0\n",
      "before read offset: 6, current read char ￿, after read offset: 6\n",
      "before read offset: 0, current read char \u0000, after read offset: 1\n"
     ]
    }
   ],
   "source": [
    "try (RandomAccessFile randomAccessFile = new RandomAccessFile(new File(\"../../datasets/others/input.txt\"), \"rw\")) {\n",
    "    // read=r,readwrite=rw,rws,rwd\n",
    "    System.out.println(\"before read offset: \" + randomAccessFile.getFilePointer() +\n",
    "            \", current read char \" + (char) randomAccessFile.read() +\n",
    "            \", after read offset: \" + randomAccessFile.getFilePointer());\n",
    "    \n",
    "    randomAccessFile.seek(6);\n",
    "    System.out.println(\"before read offset: \" + randomAccessFile.getFilePointer() +\n",
    "            \", current read char \" + (char) randomAccessFile.read() +\n",
    "            \", after read offset: \" + randomAccessFile.getFilePointer());\n",
    "    \n",
    "    byte[] arr = new byte[]{'H', 'I', 'J', 'K'};\n",
    "    randomAccessFile.write(arr);\n",
    "    \n",
    "    randomAccessFile.seek(0);\n",
    "    System.out.println(\"before read offset: \" + randomAccessFile.getFilePointer() +\n",
    "            \", current read char \" + (char) randomAccessFile.read() +\n",
    "            \", after read offset: \" + randomAccessFile.getFilePointer());\n",
    "} catch (Exception ex) {\n",
    "    System.out.println(\"err\");\n",
    "}"
   ]
  },
  {
   "cell_type": "markdown",
   "id": "6fd6b3b1-ff70-4efa-bc3f-807b50bae727",
   "metadata": {
    "jp-MarkdownHeadingCollapsed": true
   },
   "source": [
    "---"
   ]
  }
 ],
 "metadata": {
  "kernelspec": {
   "display_name": "Java",
   "language": "java",
   "name": "java"
  },
  "language_info": {
   "codemirror_mode": "java",
   "file_extension": ".jshell",
   "mimetype": "text/x-java-source",
   "name": "Java",
   "pygments_lexer": "java",
   "version": "21+35-jvmci-23.1-b15"
  },
  "widgets": {
   "application/vnd.jupyter.widget-state+json": {
    "state": {},
    "version_major": 2,
    "version_minor": 0
   }
  }
 },
 "nbformat": 4,
 "nbformat_minor": 5
}
