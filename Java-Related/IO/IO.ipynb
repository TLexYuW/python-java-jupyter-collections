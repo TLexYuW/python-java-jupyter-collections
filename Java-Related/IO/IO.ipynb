{
 "cells": [
  {
   "cell_type": "markdown",
   "id": "b55e4ef5-d0c5-427e-9310-f7b2e1cfa1f5",
   "metadata": {},
   "source": [
    "# Import"
   ]
  },
  {
   "cell_type": "code",
   "execution_count": 13,
   "id": "2d6a3ba7-567c-491b-bb9e-f3f820a3de90",
   "metadata": {},
   "outputs": [],
   "source": [
    "import java.io.*;\n",
    "\n",
    "import static java.lang.System.out;"
   ]
  },
  {
   "cell_type": "markdown",
   "id": "c4ef30e6-77e1-4a0b-84e4-98ac5bb6deec",
   "metadata": {},
   "source": [
    "---"
   ]
  },
  {
   "cell_type": "markdown",
   "id": "57ffee7f-94ec-4c95-9d31-0800515c398e",
   "metadata": {},
   "source": [
    "# TOC"
   ]
  },
  {
   "cell_type": "markdown",
   "id": "9b1988e3-dbff-4771-9f76-4daa2c980204",
   "metadata": {},
   "source": [
    "- bytes stream\n",
    "    - [BufferedOutputStream](#BufferedOutputStream)\n",
    "    - [BufferedInputStream](#BufferedInputStream)\n",
    "    - [DataOutputStream](#DataOutputStream)\n",
    "    - [DataInputStream](#DataInputStream)\n",
    "    - [FileOutputStream](#FileOutputStream)\n",
    "    - [FileInputStream](#FileInputStream)\n",
    "    - [ObjectOutputStream](#ObjectOutputStream)\n",
    "    - [ObjectInputStream](#ObjectInputStream)\n",
    "- char stream\n",
    "    - [FileWriter](#FileWriter)\n",
    "    - [FileReader](#FileReader)"
   ]
  },
  {
   "cell_type": "markdown",
   "id": "fe8eec6f-7833-4148-a2a9-3bef1e1f9e38",
   "metadata": {},
   "source": [
    "---"
   ]
  },
  {
   "cell_type": "markdown",
   "id": "dd614b46-1c3d-4a68-b280-c2c6062fed81",
   "metadata": {},
   "source": [
    "# Setup\n",
    "- [Model](#Model)\n",
    "- [Utils](#Utils)"
   ]
  },
  {
   "cell_type": "markdown",
   "id": "e15326e5-4dd2-41e1-be73-2141c2258511",
   "metadata": {},
   "source": [
    "## Model"
   ]
  },
  {
   "cell_type": "code",
   "execution_count": 21,
   "id": "95d78673-561d-433b-b40f-3e11dca81299",
   "metadata": {},
   "outputs": [],
   "source": [
    "public class Person implements Serializable {\n",
    "\tprivate String name;\n",
    "\tprivate int age;\n",
    "\n",
    "\tpublic Person(String name, int age) {\n",
    "\t\tthis.name = name;\n",
    "\t\tthis.age = age;\n",
    "\t}\n",
    "\n",
    "\tpublic String getName() {\n",
    "\t\treturn name;\n",
    "\t}\n",
    "\n",
    "\tpublic void setName(String name) {\n",
    "\t\tthis.name = name;\n",
    "\t}\n",
    "\n",
    "\tpublic int getAge() {\n",
    "\t\treturn age;\n",
    "\t}\n",
    "\n",
    "\tpublic void setAge(int age) {\n",
    "\t\tthis.age = age;\n",
    "\t}\n",
    "\n",
    "\t@Override\n",
    "\tpublic String toString() {\n",
    "\t\treturn \"Person{\" +\n",
    "\t\t\t\t\"name='\" + name + '\\'' +\n",
    "\t\t\t\t\", age=\" + age +\n",
    "\t\t\t\t'}';\n",
    "\t}\n",
    "}"
   ]
  },
  {
   "cell_type": "markdown",
   "id": "e746e661-95d0-4c05-8a2d-c686e548c59c",
   "metadata": {},
   "source": [
    "---"
   ]
  },
  {
   "cell_type": "markdown",
   "id": "d9bd0cc3-77a4-406b-b378-9d18329f88e7",
   "metadata": {},
   "source": [
    "## Utils"
   ]
  },
  {
   "cell_type": "code",
   "execution_count": 20,
   "id": "984cc37b-4597-4b50-9845-888a83e50393",
   "metadata": {},
   "outputs": [],
   "source": [
    "private static Person readPerson(String data) {\n",
    "    String[] fields = data.split(\":\");\n",
    "    String name = fields[0];\n",
    "    int age = Integer.parseInt(fields[1]);\n",
    "    return new Person(name, age);\n",
    "}"
   ]
  },
  {
   "cell_type": "markdown",
   "id": "287d22a2-5a83-4ca7-bcdb-a4ebeb8c391d",
   "metadata": {},
   "source": [
    "---"
   ]
  },
  {
   "cell_type": "markdown",
   "id": "659e9404-3a43-41f5-b29f-3d95030b83ca",
   "metadata": {},
   "source": [
    "# BufferedOutputStream"
   ]
  },
  {
   "cell_type": "code",
   "execution_count": 14,
   "id": "35871191-cf5f-4dd8-bfa4-3620e88d049b",
   "metadata": {},
   "outputs": [],
   "source": [
    "try (BufferedOutputStream bos = new BufferedOutputStream(new FileOutputStream(\"../../datasets/others/bosOutput.txt\"))) {\n",
    "    byte[] array = \"This is Bos Output\".getBytes();\n",
    "    bos.write(array);\n",
    "} catch (Exception ex) {\n",
    "    out.println(ex.getMessage());\n",
    "}"
   ]
  },
  {
   "cell_type": "markdown",
   "id": "5ba8da08-245e-4671-b140-aa5898ba6093",
   "metadata": {},
   "source": [
    "---"
   ]
  },
  {
   "cell_type": "markdown",
   "id": "c2226222-fcac-4574-955c-e2c563ad9b74",
   "metadata": {},
   "source": [
    "# BufferedInputStream"
   ]
  },
  {
   "cell_type": "code",
   "execution_count": 15,
   "id": "a5ab9451-d59b-4b4e-b040-de94120fc27c",
   "metadata": {},
   "outputs": [
    {
     "name": "stdout",
     "output_type": "stream",
     "text": [
      "This is Bos Output\n"
     ]
    }
   ],
   "source": [
    "try (BufferedInputStream bis = new BufferedInputStream(new FileInputStream(\"../../datasets/others/bosOutput.txt\"))) {\n",
    "    String result = new String(bis.readAllBytes());\n",
    "    out.println(result);\n",
    "} catch (Exception ex) {\n",
    "    out.println(ex.getMessage());\n",
    "}"
   ]
  },
  {
   "cell_type": "markdown",
   "id": "b59c1100-04cd-4b86-800b-acba6c2fa474",
   "metadata": {},
   "source": [
    "---"
   ]
  },
  {
   "cell_type": "markdown",
   "id": "5013780e-2727-4570-8ffd-80a1f0f25de6",
   "metadata": {},
   "source": [
    "# DataOutputStream"
   ]
  },
  {
   "cell_type": "code",
   "execution_count": 19,
   "id": "6a7283f6-acb9-4d15-8560-724707debacc",
   "metadata": {},
   "outputs": [],
   "source": [
    "try (DataOutputStream dos = new DataOutputStream(new FileOutputStream(\"../../datasets/others/dosOutput.txt\"))) {\n",
    "    Person p1 = new Person(\"p1\",100);\n",
    "    Person p2 = new Person(\"p2\",50);\n",
    "    Person p3 = new Person(\"p3\",25);\n",
    "    dos.writeUTF(p1.getName() + \":\" +  p1.getAge());\n",
    "    dos.writeUTF(p2.getName() + \":\" +  p2.getAge());\n",
    "    dos.writeUTF(p3.getName() + \":\" +  p3.getAge());\n",
    "} catch (Exception ex) {\n",
    "    System.out.println(ex.getMessage());\n",
    "}"
   ]
  },
  {
   "cell_type": "markdown",
   "id": "2a950e5a-330d-4c7a-a982-58990ea163d6",
   "metadata": {},
   "source": [
    "---"
   ]
  },
  {
   "cell_type": "markdown",
   "id": "e09c1f62-82a0-48a4-95b4-9f1d757175e4",
   "metadata": {},
   "source": [
    "# DataInputStream"
   ]
  },
  {
   "cell_type": "code",
   "execution_count": 22,
   "id": "f5eef472-6561-461c-b6ef-25d8a824a872",
   "metadata": {},
   "outputs": [
    {
     "name": "stdout",
     "output_type": "stream",
     "text": [
      "p1 is 100 years old.\n",
      "p2 is 50 years old.\n",
      "p3 is 25 years old.\n"
     ]
    }
   ],
   "source": [
    "try (DataInputStream dis = new DataInputStream(new FileInputStream(\"../../datasets/others/dosOutput.txt\"))) {\n",
    "    Person p1 = readPerson(dis.readUTF());\n",
    "    Person p2 = readPerson(dis.readUTF());\n",
    "    Person p3 = readPerson(dis.readUTF());\n",
    "\n",
    "    System.out.println(p1.getName() + \" is \" + p1.getAge() + \" years old.\");\n",
    "    System.out.println(p2.getName() + \" is \" + p2.getAge() + \" years old.\");\n",
    "    System.out.println(p3.getName() + \" is \" + p3.getAge() + \" years old.\");\n",
    "} catch (Exception ex) {\n",
    "    System.out.println(ex.getMessage());\n",
    "}"
   ]
  },
  {
   "cell_type": "markdown",
   "id": "f44fe49a-ef7a-415a-b390-1cffecb80697",
   "metadata": {},
   "source": [
    "---"
   ]
  },
  {
   "cell_type": "code",
   "execution_count": null,
   "id": "96c8f54d-8463-4311-9474-0bbcbb779724",
   "metadata": {},
   "outputs": [],
   "source": []
  }
 ],
 "metadata": {
  "kernelspec": {
   "display_name": "Java",
   "language": "java",
   "name": "java"
  },
  "language_info": {
   "codemirror_mode": "java",
   "file_extension": ".jshell",
   "mimetype": "text/x-java-source",
   "name": "Java",
   "pygments_lexer": "java",
   "version": "17.0.6+10-jvmci-22.3-b13"
  },
  "widgets": {
   "application/vnd.jupyter.widget-state+json": {
    "state": {},
    "version_major": 2,
    "version_minor": 0
   }
  }
 },
 "nbformat": 4,
 "nbformat_minor": 5
}
