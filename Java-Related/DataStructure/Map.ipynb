{
 "cells": [
  {
   "cell_type": "markdown",
   "id": "d0143813-e78f-4e5a-966f-779925933541",
   "metadata": {},
   "source": [
    "# Import"
   ]
  },
  {
   "cell_type": "code",
   "execution_count": 1,
   "id": "81ea9130-7cbe-43a6-a8b7-19fc8bb65a0d",
   "metadata": {},
   "outputs": [],
   "source": [
    "import java.util.*;\n",
    "import java.util.concurrent.*;\n",
    "\n",
    "import static java.lang.System.out;"
   ]
  },
  {
   "cell_type": "markdown",
   "id": "033f7c83-3213-4c57-9b6a-dc3eb95b8980",
   "metadata": {},
   "source": [
    "---"
   ]
  },
  {
   "cell_type": "markdown",
   "id": "41802b25-61a8-49aa-b514-3e47da242159",
   "metadata": {},
   "source": [
    "# Setup"
   ]
  },
  {
   "cell_type": "code",
   "execution_count": 2,
   "id": "fc7714ef-131b-4e1b-922f-c1889ef7a005",
   "metadata": {},
   "outputs": [],
   "source": [
    "// code"
   ]
  },
  {
   "cell_type": "markdown",
   "id": "1b935757-74fc-454c-9053-e30e0ed5aac5",
   "metadata": {},
   "source": [
    "---"
   ]
  },
  {
   "cell_type": "markdown",
   "id": "29c209b5-4f87-474c-9e6c-e3a36fa88229",
   "metadata": {},
   "source": [
    "# TOC"
   ]
  },
  {
   "cell_type": "markdown",
   "id": "0db224b8-9272-4592-bd86-da6398e36307",
   "metadata": {},
   "source": [
    "- Map\n",
    "    - HashMap\n",
    "    - TreeMap\n",
    "    - LinkedHashMap\n",
    "    - Concurrent implementations\n",
    "        - ConcurrentHashMap\n",
    "        - ConcurrentSkipListMap\n",
    "- Legacy implementations\n",
    "    - Hashtable"
   ]
  },
  {
   "cell_type": "markdown",
   "id": "01502c79-9751-49b5-8c09-d5a73868571c",
   "metadata": {},
   "source": [
    "---"
   ]
  },
  {
   "cell_type": "markdown",
   "id": "24016339-a11a-4e0d-a752-e93f665c2181",
   "metadata": {},
   "source": [
    "# Map"
   ]
  },
  {
   "cell_type": "markdown",
   "id": "1a9fb0d9-58de-4216-981b-00b70f8aacd2",
   "metadata": {},
   "source": [
    "## Iteration Ways"
   ]
  },
  {
   "cell_type": "code",
   "execution_count": 3,
   "id": "7efaaaeb-a8b9-46c7-a29d-c607d3f5b2bf",
   "metadata": {},
   "outputs": [],
   "source": [
    "ConcurrentHashMap<String, Integer> users_map = new ConcurrentHashMap<>();\n",
    "users_map.put(\"UserA\", 20);\n",
    "users_map.put(\"UserB\", 50);\n",
    "users_map.put(\"UserC\", 100);\n",
    "users_map.put(\"UserD\", 200);\n",
    "users_map.put(\"UserE\", 1300);\n",
    "users_map.put(\"UserF\", 2000);\n",
    "users_map.put(\"UserG\", 10000);"
   ]
  },
  {
   "cell_type": "markdown",
   "id": "053a47cd-073a-4d65-b7b9-9c35519f2a75",
   "metadata": {
    "jp-MarkdownHeadingCollapsed": true
   },
   "source": [
    "### 1st, for-each entries"
   ]
  },
  {
   "cell_type": "code",
   "execution_count": 4,
   "id": "2e8f22bc-63d9-49ba-8218-d5dd68e1b7cc",
   "metadata": {},
   "outputs": [
    {
     "name": "stdout",
     "output_type": "stream",
     "text": [
      "Key = UserB, Value = 50\n",
      "Key = UserA, Value = 20\n",
      "Key = UserF, Value = 2000\n",
      "Key = UserE, Value = 1300\n",
      "Key = UserD, Value = 200\n",
      "Key = UserC, Value = 100\n",
      "Key = UserG, Value = 10000\n"
     ]
    }
   ],
   "source": [
    "for (Map.Entry<String, Integer> entry : users_map.entrySet()) {\n",
    "    System.out.println(\"Key = \" + entry.getKey() + \", Value = \" + entry.getValue());\n",
    "}"
   ]
  },
  {
   "cell_type": "markdown",
   "id": "326e2ea7-5d5e-4e8d-b0c8-cbd398ea02fe",
   "metadata": {},
   "source": [
    "### 2nd, for-each keys or values"
   ]
  },
  {
   "cell_type": "code",
   "execution_count": 5,
   "id": "ae5f8cb0-13fd-474d-99a5-3b86f9a34ddd",
   "metadata": {},
   "outputs": [
    {
     "name": "stdout",
     "output_type": "stream",
     "text": [
      "key = UserB\n",
      "key = UserA\n",
      "key = UserF\n",
      "key = UserE\n",
      "key = UserD\n",
      "key = UserC\n",
      "key = UserG\n",
      "value = 50\n",
      "value = 20\n",
      "value = 2000\n",
      "value = 1300\n",
      "value = 200\n",
      "value = 100\n",
      "value = 10000\n"
     ]
    }
   ],
   "source": [
    "for (String key : users_map.keySet()) {\n",
    "    System.out.println(\"key = \" + key);\n",
    "}\n",
    "for (Integer value : users_map.values()) {\n",
    "    System.out.println(\"value = \" + value);\n",
    "}"
   ]
  },
  {
   "cell_type": "markdown",
   "id": "595822fd-898f-4c1e-af86-eceffc4a18a9",
   "metadata": {},
   "source": [
    "### 3rd, Iterator"
   ]
  },
  {
   "cell_type": "code",
   "execution_count": 6,
   "id": "dc67d00b-9479-4514-b86d-8b270aace47f",
   "metadata": {},
   "outputs": [
    {
     "name": "stdout",
     "output_type": "stream",
     "text": [
      "Key = UserB, Value = 50\n",
      "Key = UserA, Value = 20\n",
      "Key = UserF, Value = 2000\n",
      "Key = UserE, Value = 1300\n",
      "Key = UserD, Value = 200\n",
      "Key = UserC, Value = 100\n",
      "Key = UserG, Value = 10000\n"
     ]
    }
   ],
   "source": [
    "Iterator<Map.Entry<String, Integer>> entries = users_map.entrySet().iterator();\n",
    "while (entries.hasNext()){\n",
    "    Map.Entry<String, Integer> entry = entries.next();\n",
    "    System.out.println(\"Key = \" + entry.getKey() + \", \" + \"Value = \" + entry.getValue());\n",
    "    if (\"UserB\".equals(entry.getKey())){\n",
    "        users_map.remove(entry.getKey());\n",
    "    }\n",
    "}"
   ]
  },
  {
   "cell_type": "markdown",
   "id": "e96c2263-2ada-4e91-b57e-7d001156b967",
   "metadata": {},
   "source": [
    "#### Without Generics"
   ]
  },
  {
   "cell_type": "code",
   "execution_count": 7,
   "id": "de834d6e-3e91-4f1a-9cf5-d346094ba5dc",
   "metadata": {},
   "outputs": [
    {
     "name": "stdout",
     "output_type": "stream",
     "text": [
      "Key = UserA, Value = 20\n",
      "Key = UserF, Value = 2000\n",
      "Key = UserE, Value = 1300\n",
      "Key = UserD, Value = 200\n",
      "Key = UserC, Value = 100\n",
      "Key = UserG, Value = 10000\n"
     ]
    }
   ],
   "source": [
    "Iterator entrys = users_map.entrySet().iterator();\n",
    "while (entrys.hasNext()) {\n",
    "    Map.Entry entry = (Map.Entry) entrys.next();\n",
    "    String key = (String)entry.getKey();\n",
    "    Integer value = (Integer)entry.getValue();\n",
    "    System.out.println(\"Key = \" + key + \", Value = \" + value);\n",
    "}"
   ]
  },
  {
   "cell_type": "markdown",
   "id": "1c04b2cc-7f97-42f5-8386-b3064dd70c87",
   "metadata": {},
   "source": [
    "### 4th, Not Recommend"
   ]
  },
  {
   "cell_type": "code",
   "execution_count": 8,
   "id": "dea4db08-a598-4a06-a63b-15d05820ee3a",
   "metadata": {},
   "outputs": [
    {
     "name": "stdout",
     "output_type": "stream",
     "text": [
      "Key = UserA, Value = 20\n",
      "Key = UserF, Value = 2000\n",
      "Key = UserE, Value = 1300\n",
      "Key = UserD, Value = 200\n",
      "Key = UserC, Value = 100\n",
      "Key = UserG, Value = 10000\n"
     ]
    }
   ],
   "source": [
    "for (String key : users_map.keySet()){\n",
    "    Integer value = users_map.get(key);\n",
    "    System.out.println(\"Key = \" + key + \", Value = \" + value);\n",
    "}"
   ]
  },
  {
   "cell_type": "markdown",
   "id": "b6345d70-7849-45c4-bad7-8be90821afb5",
   "metadata": {},
   "source": [
    "## HashMap"
   ]
  },
  {
   "cell_type": "code",
   "execution_count": 9,
   "id": "2673987f-fe5f-46b6-8671-941e44491486",
   "metadata": {},
   "outputs": [
    {
     "name": "stdout",
     "output_type": "stream",
     "text": [
      "HashMap = {Four=4, Two=2}\n"
     ]
    }
   ],
   "source": [
    "HashMap<String, Integer> evenNumbers = new HashMap<>();\n",
    "evenNumbers.put(\"Two\", 2);\n",
    "evenNumbers.put(\"Four\", 4);\n",
    "System.out.println(\"HashMap = \" + evenNumbers);"
   ]
  },
  {
   "cell_type": "code",
   "execution_count": 10,
   "id": "7e964ae7-fe9e-4345-a33a-00dd0ea9437e",
   "metadata": {},
   "outputs": [
    {
     "name": "stdout",
     "output_type": "stream",
     "text": [
      "emp K hashcode value = 100\n",
      "emp L hashcode value = 101\n",
      "emp J hashcode value = 1000\n",
      "emp hashcode value = 1018\n"
     ]
    }
   ],
   "source": [
    "Map<String, Integer> employees = new HashMap<>(); // transient Node<K,V>[] table; Node, LinkedList\n",
    "employees.put(\"K\", 100); // hashcode(), hashing()\n",
    "employees.put(\"L\", 101);\n",
    "employees.put(\"J\", 1000);\n",
    "\n",
    "System.out.println(\"emp K hashcode value = \" + employees.get(\"K\").hashCode());\n",
    "System.out.println(\"emp L hashcode value = \" + employees.get(\"L\").hashCode());\n",
    "System.out.println(\"emp J hashcode value = \" + employees.get(\"J\").hashCode());\n",
    "System.out.println(\"emp hashcode value = \" + employees.hashCode());"
   ]
  },
  {
   "cell_type": "markdown",
   "id": "30d41ac2-9f49-41c9-9692-a84ae6204c03",
   "metadata": {},
   "source": [
    "##  Concurrent implementations"
   ]
  },
  {
   "cell_type": "markdown",
   "id": "89bf5590-a217-4a68-a414-f15ee4ac146b",
   "metadata": {},
   "source": [
    "### ConcurrentHashMap"
   ]
  },
  {
   "cell_type": "code",
   "execution_count": 11,
   "id": "3bbc5357-b3a8-42ec-b5cd-f61efc1f23b3",
   "metadata": {},
   "outputs": [
    {
     "name": "stdout",
     "output_type": "stream",
     "text": [
      "ConcurrentHashMap = {Four=4, Nine=9, Two=2}\n"
     ]
    }
   ],
   "source": [
    "ConcurrentHashMap<String, Integer> map = new ConcurrentHashMap<>(evenNumbers);\n",
    "map.put(\"Nine\", 9);\n",
    "System.out.println(\"ConcurrentHashMap = \" + map);"
   ]
  },
  {
   "cell_type": "markdown",
   "id": "cf9d9a8b-c76d-407e-850c-cd6f750aff17",
   "metadata": {},
   "source": [
    "##### `putIfAbsent()`"
   ]
  },
  {
   "cell_type": "code",
   "execution_count": 12,
   "id": "96f91a82-4a94-42c6-9d71-7ddaf14b47e9",
   "metadata": {},
   "outputs": [],
   "source": [
    "map.putIfAbsent(\"Six\", 6);"
   ]
  },
  {
   "cell_type": "markdown",
   "id": "158ee62e-a034-4193-994b-5c31b021fdbb",
   "metadata": {},
   "source": [
    "##### `putAll()`"
   ]
  },
  {
   "cell_type": "code",
   "execution_count": 13,
   "id": "aa703487-7c27-4e0c-aea5-8ef9b819d936",
   "metadata": {},
   "outputs": [
    {
     "name": "stdout",
     "output_type": "stream",
     "text": [
      "ConcurrentHashMap = {Six=6, Four=4, Nine=9, One=1, Twelve=12, Two=2, Three=3, TwelveV2=12}\n"
     ]
    }
   ],
   "source": [
    "ConcurrentHashMap<String, Integer> numbers = new ConcurrentHashMap<>();\n",
    "numbers.put(\"One\", 1);\n",
    "numbers.put(\"Three\", 3);\n",
    "numbers.put(\"Twelve\", 12);\n",
    "numbers.put(\"TwelveV2\", 12);\n",
    "\n",
    "map.putAll(numbers);\n",
    "\n",
    "System.out.println(\"ConcurrentHashMap = \" + map);"
   ]
  },
  {
   "cell_type": "markdown",
   "id": "dda23a45-261f-4f59-82c9-d7b6d7c992d5",
   "metadata": {},
   "source": [
    "##### `entrySet()`"
   ]
  },
  {
   "cell_type": "code",
   "execution_count": 14,
   "id": "40010960-ca1e-4e71-96c3-a2fadfa0322d",
   "metadata": {},
   "outputs": [
    {
     "name": "stdout",
     "output_type": "stream",
     "text": [
      "Key/Value mappings = [Six=6, Four=4, Nine=9, One=1, Twelve=12, Two=2, Three=3, TwelveV2=12]\n"
     ]
    }
   ],
   "source": [
    "System.out.println(\"Key/Value mappings = \" + map.entrySet());"
   ]
  },
  {
   "cell_type": "markdown",
   "id": "2704e1db-ed5a-47e0-a787-0c8fccc8f232",
   "metadata": {},
   "source": [
    "##### `keySet()`"
   ]
  },
  {
   "cell_type": "code",
   "execution_count": 15,
   "id": "571903c0-473d-4e2f-be23-fce7e01c64ec",
   "metadata": {},
   "outputs": [
    {
     "name": "stdout",
     "output_type": "stream",
     "text": [
      "Keys = [Six, Four, Nine, One, Twelve, Two, Three, TwelveV2]\n"
     ]
    }
   ],
   "source": [
    "System.out.println(\"Keys = \" + map.keySet());"
   ]
  },
  {
   "cell_type": "markdown",
   "id": "cb30aa22-048a-4500-a6ca-ca274ee290a4",
   "metadata": {},
   "source": [
    "##### `values()`"
   ]
  },
  {
   "cell_type": "code",
   "execution_count": 16,
   "id": "e87e435e-ab89-4a48-9936-717f8f5f2034",
   "metadata": {},
   "outputs": [
    {
     "name": "stdout",
     "output_type": "stream",
     "text": [
      "Values mappings = [6, 4, 9, 1, 12, 2, 3, 12]\n"
     ]
    }
   ],
   "source": [
    "System.out.println(\"Values mappings = \" + map.values());"
   ]
  },
  {
   "cell_type": "markdown",
   "id": "e9db5b6f-73be-457c-b688-107dee36d0c3",
   "metadata": {},
   "source": [
    "##### `get()`"
   ]
  },
  {
   "cell_type": "code",
   "execution_count": 17,
   "id": "161825fb-657c-4e7d-97c7-513743ecc8ea",
   "metadata": {},
   "outputs": [
    {
     "name": "stdout",
     "output_type": "stream",
     "text": [
      "Using get() = 6\n"
     ]
    }
   ],
   "source": [
    "System.out.println(\"Using get() = \" + map.get(\"Six\"));"
   ]
  },
  {
   "cell_type": "markdown",
   "id": "e2015a5e-e7aa-4fb7-be8c-a46ba75c5876",
   "metadata": {},
   "source": [
    "##### `getOrDefault()`"
   ]
  },
  {
   "cell_type": "code",
   "execution_count": 18,
   "id": "9f494d77-1894-4429-8985-e9c23f6a7b02",
   "metadata": {},
   "outputs": [
    {
     "name": "stdout",
     "output_type": "stream",
     "text": [
      "Using getOrDefault() = 1000000\n"
     ]
    }
   ],
   "source": [
    "System.out.println(\"Using getOrDefault() = \" + map.getOrDefault(\"rewokldsfmgks\", 1_000_000));"
   ]
  },
  {
   "cell_type": "markdown",
   "id": "06028d46-8f2a-445b-b695-db1f46b13c5b",
   "metadata": {},
   "source": [
    "##### `remove()`"
   ]
  },
  {
   "cell_type": "code",
   "execution_count": 19,
   "id": "070f1468-37c0-48f0-9d6a-a5330192f8ed",
   "metadata": {},
   "outputs": [
    {
     "name": "stdout",
     "output_type": "stream",
     "text": [
      "Is the entry {Six=6} removed? true\n",
      "map = {Four=4, Nine=9, One=1, Twelve=12, Two=2, Three=3, TwelveV2=12}\n"
     ]
    }
   ],
   "source": [
    "boolean result = map.remove(\"Six\", 6);\n",
    "System.out.println(\"Is the entry {Six=6} removed? \" + result);\n",
    "System.out.println(\"map = \" + map);"
   ]
  },
  {
   "cell_type": "markdown",
   "id": "eb209b62-7b1e-4001-81a8-47c9fde55616",
   "metadata": {},
   "source": [
    "##### `forEach()`"
   ]
  },
  {
   "cell_type": "code",
   "execution_count": 20,
   "id": "1171b9f7-b386-4a70-bc5c-5f628bbff357",
   "metadata": {},
   "outputs": [
    {
     "name": "stdout",
     "output_type": "stream",
     "text": [
      "Key: Four, value: 4\n",
      "Key: Nine, value: 9\n",
      "Key: One, value: 1\n",
      "Key: Twelve, value: 12\n",
      "Key: Two, value: 2\n",
      "Key: Three, value: 3\n",
      "Key: TwelveV2, value: 12\n",
      "-------------------------------------------------\n",
      "12, 2, 3, 12, 4, 9, 1, \n",
      "------------------------------------------------\n",
      "Key: Four, value: 4\n",
      "Key: Nine, value: 9\n",
      "Key: Twelve, value: 12\n",
      "Key: Two, value: 2\n",
      "Key: Three, value: 3\n",
      "Key: TwelveV2, value: 12\n",
      "Key: One, value: 1\n",
      "-------------------------------------------------\n",
      "Key: Four\n",
      "Key: Nine\n",
      "Key: One\n",
      "Key: Twelve\n",
      "Key: Two\n",
      "Key: Three\n",
      "Key: TwelveV2\n",
      "-------------------------------------------------\n",
      "Value: 4\n",
      "Value: 9\n",
      "Value: 1\n",
      "Value: 12\n",
      "Value: 2\n",
      "Value: 3\n",
      "Value: 12\n",
      "-------------------------------------------------\n"
     ]
    }
   ],
   "source": [
    "map.forEach(6, (k, v) -> System.out.println(\"Key: \" + k + \", value: \" + v));\n",
    "System.out.println(\"-------------------------------------------------\");\n",
    "map.forEach(6, (k, v) -> v, (v) -> System.out.print(v + \", \"));\n",
    "System.out.println(\"\\n------------------------------------------------\");\n",
    "map.forEachEntry(6, entry -> System.out.println(\"Key: \" + entry.getKey() + \", value: \" + entry.getValue()));\n",
    "System.out.println(\"-------------------------------------------------\");\n",
    "map.forEachKey(6, k -> System.out.println(\"Key: \" + k));\n",
    "System.out.println(\"-------------------------------------------------\");\n",
    "map.forEachValue(6, v -> System.out.println(\"Value: \" + v));\n",
    "System.out.println(\"-------------------------------------------------\");"
   ]
  },
  {
   "cell_type": "markdown",
   "id": "89aa4988-eaef-474f-83f5-aed1d9852883",
   "metadata": {},
   "source": [
    "##### `search()`"
   ]
  },
  {
   "cell_type": "code",
   "execution_count": 21,
   "id": "78f6df6e-3d11-47e2-ab42-075472d2f965",
   "metadata": {},
   "outputs": [
    {
     "name": "stdout",
     "output_type": "stream",
     "text": [
      "search key = Twelve\n"
     ]
    }
   ],
   "source": [
    "String key = map.search(6, (k, v) -> v == 12 ? k : null);\n",
    "System.out.println(\"search key = \" + key);"
   ]
  },
  {
   "cell_type": "markdown",
   "id": "cc96663d-004b-49d2-bae0-555e64088839",
   "metadata": {},
   "source": [
    "##### `searchEntries()`"
   ]
  },
  {
   "cell_type": "code",
   "execution_count": 22,
   "id": "a39ea69d-0c74-46c2-8df0-5f0eb811f9f2",
   "metadata": {},
   "outputs": [
    {
     "name": "stdout",
     "output_type": "stream",
     "text": [
      "Key: Twelve, value: 12\n",
      "Key: Four, value: 4\n",
      "Entry : Twelve=12\n"
     ]
    }
   ],
   "source": [
    "Map.Entry entry_ = map.searchEntries(6, (entry) -> {\n",
    "            System.out.println(\"Key: \" + entry.getKey() + \", value: \" + entry.getValue());\n",
    "            return entry.getValue() == 12 ? entry : null;\n",
    "        });\n",
    "System.out.println(\"Entry : \" + entry_);"
   ]
  },
  {
   "cell_type": "markdown",
   "id": "5fbe213d-8d14-40bf-b4d8-893699c819ea",
   "metadata": {},
   "source": [
    "##### `searchKeys()`"
   ]
  },
  {
   "cell_type": "code",
   "execution_count": 23,
   "id": "b6af82e5-2457-4bec-b46b-5b5b4e165189",
   "metadata": {},
   "outputs": [
    {
     "name": "stdout",
     "output_type": "stream",
     "text": [
      "searchKeys Key: Twelve\n",
      "searchKeys Key: Four\n",
      "searchKeys Key: Nine\n",
      "searchKeys Key: One\n",
      "searchKeys Key: Two\n",
      "key_ = One\n"
     ]
    }
   ],
   "source": [
    "String key_ = map.searchKeys(6, k_e_y -> {\n",
    "\t\t\tSystem.out.println(\"searchKeys Key: \" + k_e_y);\n",
    "\t\t\treturn k_e_y.equals(\"One\") ? k_e_y : null;\n",
    "\t\t});\n",
    "System.out.println(\"key_ = \" + key_);"
   ]
  },
  {
   "cell_type": "markdown",
   "id": "9cdc7ffe-3963-47ed-a80c-6770f0c3445a",
   "metadata": {},
   "source": [
    "##### `searchValues()`"
   ]
  },
  {
   "cell_type": "code",
   "execution_count": 24,
   "id": "9eb5c45e-7d9b-4cfa-9f8b-a06e405bd406",
   "metadata": {},
   "outputs": [
    {
     "name": "stdout",
     "output_type": "stream",
     "text": [
      "searchValues Value: 12\n",
      "searchValues Value: 2\n",
      "searchValues Value: 3\n",
      "searchValues Value: 4\n",
      "num = 3\n"
     ]
    }
   ],
   "source": [
    "Integer num = map.searchValues(6, value_ -> {\n",
    "\t\t\tSystem.out.println(\"searchValues Value: \" + value_);\n",
    "\t\t\treturn value_ == 3 ? value_ : null;\n",
    "\t\t});\n",
    "System.out.println(\"num = \" + num);"
   ]
  },
  {
   "cell_type": "markdown",
   "id": "f44a9189-dd2b-410d-bfba-d420a265b738",
   "metadata": {},
   "source": [
    "##### `reduce()`\n",
    "> (k, v) -> v is a transformer function. It transfers the key/value mappings into values only.\n",
    "> \n",
    "> (v1, v2) -> v1 + v2 is a reducer function. It gathers together all the values and adds all values."
   ]
  },
  {
   "cell_type": "code",
   "execution_count": 25,
   "id": "ea1a8b89-1d39-47a0-9ba2-bb4de2857f61",
   "metadata": {},
   "outputs": [
    {
     "name": "stdout",
     "output_type": "stream",
     "text": [
      "reduce str = Four-4, Nine-9, One-1, Twelve-12, Two-2, Three-3, TwelveV2-12\n"
     ]
    }
   ],
   "source": [
    "String str = map.reduce(6, (_k_, v) -> _k_ + \"-\" + v, (s1, s2) -> s1 + \", \" + s2);\n",
    "System.out.println(\"reduce str = \" + str);"
   ]
  },
  {
   "cell_type": "code",
   "execution_count": 26,
   "id": "502e4ee5-de0a-41b3-842e-66527c1e488f",
   "metadata": {},
   "outputs": [
    {
     "name": "stdout",
     "output_type": "stream",
     "text": [
      "4, 9\n",
      "13, 1\n",
      "12, 2\n",
      "14, 3\n",
      "17, 12\n",
      "14, 29\n",
      "Sum of Values = 43\n"
     ]
    }
   ],
   "source": [
    "int sum = map.reduce(6, (k_, v) -> v, (v1, v2) -> {\n",
    "\t\t\tSystem.out.println(v1 + \", \" + v2);\n",
    "\t\t\treturn v1 + v2;\n",
    "\t\t});\n",
    "System.out.println(\"Sum of Values = \" + sum);"
   ]
  },
  {
   "cell_type": "code",
   "execution_count": 27,
   "id": "70372caa-f0c0-44b5-9042-11d30e715a2d",
   "metadata": {},
   "outputs": [
    {
     "name": "stdout",
     "output_type": "stream",
     "text": [
      "Output = UserB:50, UserA:20, UserC:100\n"
     ]
    }
   ],
   "source": [
    "ConcurrentHashMap<String, Integer> map_u = new ConcurrentHashMap<>();\n",
    "map_u.put(\"UserA\", 20);\n",
    "map_u.put(\"UserB\", 50);\n",
    "map_u.put(\"UserC\", 100);\n",
    "\n",
    "String output = map_u.reduce(3,\n",
    "            (k, v) -> k + \":\" + v,\n",
    "            (s1, s2) -> s1 + \", \" + s2);\n",
    "System.out.println(\"Output = \" + output);"
   ]
  },
  {
   "cell_type": "code",
   "execution_count": 28,
   "id": "b34f054d-496a-4f88-b68a-184e09932d03",
   "metadata": {},
   "outputs": [
    {
     "name": "stdout",
     "output_type": "stream",
     "text": [
      "UserB\n",
      "UserA\n",
      "UserC\n"
     ]
    }
   ],
   "source": [
    "map_u.keys().asIterator().forEachRemaining(System.out::println);"
   ]
  },
  {
   "cell_type": "markdown",
   "id": "947e5d1a-16ff-4ee3-b4a1-ebc13dbdabb6",
   "metadata": {},
   "source": [
    "##### `reduceEntries()`"
   ]
  },
  {
   "cell_type": "code",
   "execution_count": 29,
   "id": "383f9958-9adf-461d-9e39-c0c2b722d437",
   "metadata": {},
   "outputs": [
    {
     "name": "stdout",
     "output_type": "stream",
     "text": [
      "reduceEntries transform => Four, 4\n",
      "reduceEntries transform => Nine, 9\n",
      "reduceEntries transform => Twelve, 12\n",
      "reduceEntries transform => Two, 2\n",
      "reduceEntries reducer => Four=4, Nine=9\n",
      "reduceEntries reducer => Twelve=12, Two=2\n",
      "reduceEntries transform => One, 1\n",
      "reduceEntries reducer => Nine=9, One=1\n",
      "reduceEntries transform => Three, 3\n",
      "reduceEntries reducer => Twelve=12, Three=3\n",
      "reduceEntries transform => TwelveV2, 12\n",
      "reduceEntries reducer => Twelve=12, TwelveV2=12\n",
      "reduceEntries reducer => One=1, Twelve=12\n",
      "ReduceEntry : Twelve=12\n"
     ]
    }
   ],
   "source": [
    "Map.Entry reduceEntry = map.reduceEntries(6,\n",
    "\t\t\t\t(e) -> {\n",
    "\t\t\t\t\tSystem.out.println(\"reduceEntries transform => \" + e.getKey() + \", \" + e.getValue());\n",
    "\t\t\t\t\treturn e;\n",
    "\t\t\t\t}\n",
    "\t\t\t\t, (e1, e2) -> {\n",
    "\t\t\t\t\tSystem.out.println(\"reduceEntries reducer => \" + e1 + \", \" + e2);\n",
    "\t\t\t\t\tif (e1.getKey().equals(\"Twelve\")) {\n",
    "\t\t\t\t\t\treturn e1;\n",
    "\t\t\t\t\t}\n",
    "\t\t\t\t\treturn e2;\n",
    "\t\t\t\t});\n",
    "System.out.println(\"ReduceEntry : \" + reduceEntry);"
   ]
  },
  {
   "cell_type": "markdown",
   "id": "95492c12-9711-4986-b8b9-f627b6e2ae7d",
   "metadata": {},
   "source": [
    "##### `reduceKeys()`"
   ]
  },
  {
   "cell_type": "code",
   "execution_count": 30,
   "id": "f66b5f29-0a34-4486-9d9c-f31e194f2541",
   "metadata": {},
   "outputs": [
    {
     "name": "stdout",
     "output_type": "stream",
     "text": [
      "reduceKeys Reducer => Twelve,Two\n",
      "reduceKeys Reducer => Four,Nine\n",
      "reduceKeys Reducer => Four, Nine,One\n",
      "reduceKeys Reducer => Twelve, Two,Three\n",
      "reduceKeys Reducer => Twelve, Two, Three,TwelveV2\n",
      "reduceKeys Reducer => Four, Nine, One,Twelve, Two, Three, TwelveV2\n",
      "_key_ = Four, Nine, One, Twelve, Two, Three, TwelveV2\n"
     ]
    }
   ],
   "source": [
    "String _key_ = map.reduceKeys(6, (k1, k2) -> {\n",
    "\t\t\tSystem.out.println(\"reduceKeys Reducer => \" + k1 + \",\" + k2);\n",
    "\t\t\treturn k1 + \", \" + k2;\n",
    "\t\t});\n",
    "System.out.println(\"_key_ = \" + _key_);"
   ]
  },
  {
   "cell_type": "markdown",
   "id": "ff04d5be-30e2-41f3-86d6-0c008adee2ff",
   "metadata": {},
   "source": [
    "##### `reduceValues()`"
   ]
  },
  {
   "cell_type": "code",
   "execution_count": 31,
   "id": "e99bb8e3-14fc-41da-9ddd-6589432afeb2",
   "metadata": {},
   "outputs": [
    {
     "name": "stdout",
     "output_type": "stream",
     "text": [
      "reduceValues Reducer => 4,9\n",
      "reduceValues Reducer => 13,1\n",
      "reduceValues Reducer => 12,2\n",
      "reduceValues Reducer => 14,3\n",
      "reduceValues Reducer => 17,12\n",
      "reduceValues Reducer => 14,29\n",
      "total = 43\n"
     ]
    }
   ],
   "source": [
    "int total = map.reduceValues(6, (v1, v2) -> {\n",
    "        System.out.println(\"reduceValues Reducer => \" + v1 + \",\" + v2);\n",
    "        return v1 + v2;\n",
    "    });\n",
    "System.out.println(\"total = \" + total);"
   ]
  },
  {
   "cell_type": "markdown",
   "id": "205ea1b8-7272-4670-9df7-be5679dabe70",
   "metadata": {},
   "source": [
    "---"
   ]
  }
 ],
 "metadata": {
  "kernelspec": {
   "display_name": "Java",
   "language": "java",
   "name": "java"
  },
  "language_info": {
   "codemirror_mode": "java",
   "file_extension": ".jshell",
   "mimetype": "text/x-java-source",
   "name": "Java",
   "pygments_lexer": "java",
   "version": "17.0.6+10-jvmci-22.3-b13"
  },
  "widgets": {
   "application/vnd.jupyter.widget-state+json": {
    "state": {},
    "version_major": 2,
    "version_minor": 0
   }
  }
 },
 "nbformat": 4,
 "nbformat_minor": 5
}
