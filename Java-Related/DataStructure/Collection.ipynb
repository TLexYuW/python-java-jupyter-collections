{
 "cells": [
  {
   "cell_type": "markdown",
   "id": "5314adb9-2df2-4a78-a124-f8bbfb5112c4",
   "metadata": {},
   "source": [
    "# Dependency"
   ]
  },
  {
   "cell_type": "code",
   "execution_count": 1,
   "id": "675104e1-5634-40a9-8220-aaca0248f76a",
   "metadata": {},
   "outputs": [],
   "source": [
    "// code"
   ]
  },
  {
   "cell_type": "markdown",
   "id": "88c7aadb-0892-4207-9877-cb652eea7d40",
   "metadata": {},
   "source": [
    "---"
   ]
  },
  {
   "cell_type": "markdown",
   "id": "513d6617-cfef-4a84-bf72-65e00ff4a115",
   "metadata": {},
   "source": [
    "# Import"
   ]
  },
  {
   "cell_type": "code",
   "execution_count": 2,
   "id": "5f1e7739-759b-46e7-b6e5-05206347f18b",
   "metadata": {},
   "outputs": [],
   "source": [
    "import java.util.*;\n",
    "import java.util.concurrent.*;\n",
    "\n",
    "import static java.lang.System.out;"
   ]
  },
  {
   "cell_type": "markdown",
   "id": "ecbae0a9-1b41-4a73-b40c-3d6c5866eb49",
   "metadata": {},
   "source": [
    "---"
   ]
  },
  {
   "cell_type": "markdown",
   "id": "29f82f02-c3da-49f4-9966-e80961e0cb81",
   "metadata": {},
   "source": [
    "# TOC\n",
    "- Stack\n",
    "- List\n",
    "    - ArrayList\n",
    "    - LinkedList\n",
    "- Set\n",
    "    - HashSet\n",
    "    - TreeSet\n",
    "    - LinkedHashSet\n",
    "    - Concurrent implementations\n",
    "        - ConcurrentSkipListSet\n",
    "- Queue\n",
    "    - ArrayDeque\n",
    "    - PriorityQueue\n",
    "    - Concurrent implementations\n",
    "        - ConcurrentLinkedQueue\n",
    "        - LinkedBlockingQueue\n",
    "        - ArrayBlockingQueue\n",
    "        - PriorityBlockingQueue\n",
    "        - DelayQueue\n",
    "        - SynchronousQueue\n",
    "        - LinkedBlockingDeque\n",
    "        - LinkedTransferQueue\n",
    "- iterator\n",
    "- Legacy implementations\n",
    "    - Vector\n",
    "- Special Purpose Implementations\n",
    "    - CopyOnWriteArrayList\n",
    "    - CopyOnWriteArraySet"
   ]
  },
  {
   "cell_type": "markdown",
   "id": "9b16ad94-74a8-4964-852b-8c9dd24db824",
   "metadata": {},
   "source": [
    "---"
   ]
  },
  {
   "cell_type": "markdown",
   "id": "b6e98f56-72de-4cba-bcfc-f1dbff715c82",
   "metadata": {
    "jp-MarkdownHeadingCollapsed": true
   },
   "source": [
    "# Setup\n",
    "- [Model](#Model)\n",
    "- [Utils](#Utils)"
   ]
  },
  {
   "cell_type": "markdown",
   "id": "2c3e8734-81b6-4fb5-bc1c-9ca7e492285a",
   "metadata": {
    "jp-MarkdownHeadingCollapsed": true
   },
   "source": [
    "## Model"
   ]
  },
  {
   "cell_type": "code",
   "execution_count": null,
   "id": "7c6d638c-b9e0-4ae5-911b-06f9504c90de",
   "metadata": {},
   "outputs": [],
   "source": []
  },
  {
   "cell_type": "markdown",
   "id": "04f4a4d1-465d-49f3-bf76-8f721e56a7cf",
   "metadata": {
    "jp-MarkdownHeadingCollapsed": true
   },
   "source": [
    "## Utils"
   ]
  },
  {
   "cell_type": "code",
   "execution_count": null,
   "id": "946b9311-0180-4c56-bd6f-64d32ae25f95",
   "metadata": {},
   "outputs": [],
   "source": []
  },
  {
   "cell_type": "markdown",
   "id": "d677394a-18ea-4e92-bbec-df22795bdbbe",
   "metadata": {},
   "source": [
    "---"
   ]
  },
  {
   "cell_type": "markdown",
   "id": "db0e2266-8c9b-4a82-8843-5dd54c1ca62f",
   "metadata": {},
   "source": [
    "# Stack"
   ]
  },
  {
   "cell_type": "code",
   "execution_count": 16,
   "id": "9e9c4347-a256-440b-aaa8-0aed0c3b79a3",
   "metadata": {},
   "outputs": [
    {
     "data": {
      "text/plain": [
       "Go"
      ]
     },
     "execution_count": 16,
     "metadata": {},
     "output_type": "execute_result"
    }
   ],
   "source": [
    "Stack<String> stack = new Stack<>();\n",
    "\n",
    "stack.push(\"Java\");\n",
    "stack.push(\"Python\");\n",
    "stack.push(\"C++\");\n",
    "stack.push(\"JavaScript\");\n",
    "stack.push(\"Go\");"
   ]
  },
  {
   "cell_type": "markdown",
   "id": "1f42d9d2-6016-4216-984b-57c598028b82",
   "metadata": {},
   "source": [
    "#### search()"
   ]
  },
  {
   "cell_type": "code",
   "execution_count": 17,
   "id": "83ea7d58-28bb-4fa0-97a8-2f49b9827166",
   "metadata": {},
   "outputs": [
    {
     "name": "stdout",
     "output_type": "stream",
     "text": [
      "Element 'C++' found at position: 3\n"
     ]
    }
   ],
   "source": [
    "String elementToSearch = \"C++\";\n",
    "int position = stack.search(elementToSearch);\n",
    "\n",
    "// Check if the element is found and print the result\n",
    "if (position != -1) {\n",
    "    System.out.println(\"Element '\" + elementToSearch + \"' found at position: \" + position);\n",
    "} else {\n",
    "    System.out.println(\"Element '\" + elementToSearch + \"' not found in the stack.\");\n",
    "}"
   ]
  },
  {
   "cell_type": "markdown",
   "id": "33373e1d-4491-44d7-badd-4ce757246bf3",
   "metadata": {},
   "source": [
    "# Set"
   ]
  },
  {
   "cell_type": "markdown",
   "id": "11184b19-01a8-43a9-babf-c1c3f0f5e61d",
   "metadata": {
    "jp-MarkdownHeadingCollapsed": true
   },
   "source": [
    "## HashSet"
   ]
  },
  {
   "cell_type": "code",
   "execution_count": 3,
   "id": "de208842-3bd6-403a-ae25-346405253298",
   "metadata": {},
   "outputs": [
    {
     "name": "stdout",
     "output_type": "stream",
     "text": [
      "[S, W, K, L]\n"
     ]
    }
   ],
   "source": [
    "Set<String> names = new HashSet<>();\n",
    "names.add(\"W\");\n",
    "names.add(\"L\");\n",
    "names.add(\"K\");\n",
    "names.add(\"S\");\n",
    "System.out.println(names);"
   ]
  },
  {
   "cell_type": "code",
   "execution_count": 4,
   "id": "177baeac-935e-4fcd-b576-640fda5413d5",
   "metadata": {},
   "outputs": [
    {
     "name": "stdout",
     "output_type": "stream",
     "text": [
      "S\n",
      "W\n",
      "K\n",
      "L\n"
     ]
    }
   ],
   "source": [
    "for (String name : names) {\n",
    "    System.out.println(name);\n",
    "}"
   ]
  },
  {
   "cell_type": "code",
   "execution_count": 5,
   "id": "71456dbd-75aa-4cf7-92b4-d8af9047fd92",
   "metadata": {},
   "outputs": [
    {
     "name": "stdout",
     "output_type": "stream",
     "text": [
      "S\n",
      "W\n",
      "K\n",
      "L\n"
     ]
    }
   ],
   "source": [
    "names.forEach(System.out::println);"
   ]
  },
  {
   "cell_type": "code",
   "execution_count": 6,
   "id": "5a7a0dad-db91-41d6-bad7-d018840900c2",
   "metadata": {},
   "outputs": [
    {
     "name": "stdout",
     "output_type": "stream",
     "text": [
      "S\n",
      "W\n",
      "K\n",
      "L\n"
     ]
    }
   ],
   "source": [
    "Iterator<String> iterator = names.iterator();\n",
    "while (iterator.hasNext()) {\n",
    "    System.out.println(iterator.next());\n",
    "}"
   ]
  },
  {
   "cell_type": "code",
   "execution_count": 7,
   "id": "caa59146-0b3d-431a-99f6-58237bf732ae",
   "metadata": {},
   "outputs": [
    {
     "name": "stdout",
     "output_type": "stream",
     "text": [
      "[1, 2, 3, 4]\n"
     ]
    }
   ],
   "source": [
    "List<Integer> integerList = Arrays.asList(1, 2, 3, 4, 1, 2, 3);\n",
    "Set<Integer> numsSet = new HashSet<>(integerList);\n",
    "System.out.println(numsSet);"
   ]
  },
  {
   "cell_type": "code",
   "execution_count": 8,
   "id": "b475c1ee-a5d4-4f03-ad46-913a97650eae",
   "metadata": {},
   "outputs": [
    {
     "name": "stdout",
     "output_type": "stream",
     "text": [
      "[S, W, K]\n",
      "3\n",
      "true\n"
     ]
    }
   ],
   "source": [
    "names.remove(\"L\");\n",
    "System.out.println(names);\n",
    "System.out.println(names.size());\n",
    "System.out.println(names.contains(\"W\"));"
   ]
  },
  {
   "cell_type": "markdown",
   "id": "4fcb0d25-3795-47ef-a5d9-41807575d71c",
   "metadata": {
    "jp-MarkdownHeadingCollapsed": true
   },
   "source": [
    "## TreeSet"
   ]
  },
  {
   "cell_type": "code",
   "execution_count": 9,
   "id": "18695d79-f70e-4179-ac64-2025ce4c51a9",
   "metadata": {},
   "outputs": [
    {
     "name": "stdout",
     "output_type": "stream",
     "text": [
      "[1, 2, 3, 4, 5, 6, 7, 10]\n"
     ]
    }
   ],
   "source": [
    "List<Integer> integerList1 = Arrays.asList(7,6,5,10,4,2,3,1,1);\n",
    "Set<Integer> integerTreeSet = new TreeSet<>(integerList1);\n",
    "System.out.println(integerTreeSet);"
   ]
  },
  {
   "cell_type": "markdown",
   "id": "ddc092e3-94da-4a8c-943a-afcc46f40076",
   "metadata": {},
   "source": [
    "## LinkedHashSet"
   ]
  },
  {
   "cell_type": "code",
   "execution_count": 10,
   "id": "66e6b863-b521-4e3b-902d-26f60d62b8be",
   "metadata": {},
   "outputs": [
    {
     "name": "stdout",
     "output_type": "stream",
     "text": [
      "[100, 7, 6, 5, 10, 4, 2, 3, 1]\n"
     ]
    }
   ],
   "source": [
    "List<Integer> integerList2 = Arrays.asList(100,7,6,5,10,4,2,3,1);\n",
    "Set<Integer> integerTreeSet1 = new LinkedHashSet<>(integerList2);\n",
    "System.out.println(integerTreeSet1);"
   ]
  },
  {
   "cell_type": "markdown",
   "id": "318ada0f-3c70-4ecd-be41-1a2de7891d4b",
   "metadata": {},
   "source": [
    "---"
   ]
  },
  {
   "cell_type": "markdown",
   "id": "322baf66-bb6f-4113-ad9b-1c10a3e0389b",
   "metadata": {
    "jp-MarkdownHeadingCollapsed": true
   },
   "source": [
    "# Queue"
   ]
  },
  {
   "cell_type": "code",
   "execution_count": null,
   "id": "05df29fc-2c2b-4570-af6c-629f6e98b124",
   "metadata": {},
   "outputs": [],
   "source": []
  },
  {
   "cell_type": "markdown",
   "id": "890fbc41-fc48-43f9-b1f2-5838916c3581",
   "metadata": {},
   "source": [
    "---"
   ]
  },
  {
   "cell_type": "markdown",
   "id": "3c0831d7-6aac-48d8-ac90-32622f534082",
   "metadata": {},
   "source": [
    "# Legacy implementations"
   ]
  },
  {
   "cell_type": "markdown",
   "id": "dcd08ab5-2433-4537-ad11-2c39b49d34cd",
   "metadata": {},
   "source": [
    "## Vector"
   ]
  },
  {
   "cell_type": "code",
   "execution_count": 11,
   "id": "8f881623-71bf-4f33-abc0-e3ccb4f0833b",
   "metadata": {},
   "outputs": [
    {
     "name": "stdout",
     "output_type": "stream",
     "text": [
      "Added 1_000_000 elements to arraylist: 38 ms\n"
     ]
    },
    {
     "data": {
      "text/plain": [
       "java.io.PrintStream@4f5a98df"
      ]
     },
     "execution_count": 11,
     "metadata": {},
     "output_type": "execute_result"
    }
   ],
   "source": [
    "List<Integer> arrayList = new ArrayList<>();\n",
    "long start = System.nanoTime();\n",
    "\n",
    "for (int i = 0; i < 1_000_000; i++) {\n",
    "    arrayList.add(i);\n",
    "}\n",
    "\n",
    "long end = System.nanoTime();\n",
    "\n",
    "long millisecs = TimeUnit.MILLISECONDS.convert(end - start, TimeUnit.NANOSECONDS);\n",
    "\n",
    "System.out.printf(\"Added 1_000_000 elements to arraylist: %d ms\\n\", millisecs);"
   ]
  },
  {
   "cell_type": "code",
   "execution_count": 12,
   "id": "d9f8f342-ee65-41f6-bd41-697803698998",
   "metadata": {},
   "outputs": [
    {
     "name": "stdout",
     "output_type": "stream",
     "text": [
      "Added 1_000_000 elements to vector: 44 ms\n"
     ]
    },
    {
     "data": {
      "text/plain": [
       "java.io.PrintStream@4f5a98df"
      ]
     },
     "execution_count": 12,
     "metadata": {},
     "output_type": "execute_result"
    }
   ],
   "source": [
    "List<Integer> vector = new Vector<>();\n",
    "\n",
    "start = System.nanoTime();\n",
    "\n",
    "for (int i = 0; i < 1_000_000; i++) {\n",
    "    vector.add(i);\n",
    "}\n",
    "\n",
    "end = System.nanoTime();\n",
    "\n",
    "millisecs = TimeUnit.MILLISECONDS.convert(end - start, TimeUnit.NANOSECONDS);\n",
    "\n",
    "System.out.printf(\"Added 1_000_000 elements to vector: %d ms\\n\", millisecs);"
   ]
  },
  {
   "cell_type": "code",
   "execution_count": 13,
   "id": "eaec5313-26f9-4646-930f-24e8a2d36d0c",
   "metadata": {},
   "outputs": [
    {
     "name": "stdout",
     "output_type": "stream",
     "text": [
      "Added 1_000_000 elements to multiThreadSafeArrayList: 210 ms\n"
     ]
    },
    {
     "data": {
      "text/plain": [
       "java.io.PrintStream@4f5a98df"
      ]
     },
     "execution_count": 13,
     "metadata": {},
     "output_type": "execute_result"
    }
   ],
   "source": [
    "List<Integer> multiThreadSafeArrayList = Collections.synchronizedList(new ArrayList<>());\n",
    "\n",
    "start = System.nanoTime();\n",
    "Thread t1 = new Thread(() -> {\n",
    "    for (int i = 0; i < 1_000_000; i++) {\n",
    "        multiThreadSafeArrayList.add(i);\n",
    "    }\n",
    "});\n",
    "Thread t2 = new Thread(() -> {\n",
    "    for (int i = 0; i < 1_000_000; i++) {\n",
    "        multiThreadSafeArrayList.add(i);\n",
    "    }\n",
    "});\n",
    "t1.start();\n",
    "t2.start();\n",
    "t1.join();\n",
    "t2.join();\n",
    "\n",
    "end = System.nanoTime();\n",
    "\n",
    "millisecs = TimeUnit.MILLISECONDS.convert(end - start, TimeUnit.NANOSECONDS);\n",
    "\n",
    "System.out.printf(\"Added 1_000_000 elements to multiThreadSafeArrayList: %d ms\\n\", millisecs);"
   ]
  },
  {
   "cell_type": "code",
   "execution_count": null,
   "id": "9f712292-3462-4c13-8672-89db15025bda",
   "metadata": {},
   "outputs": [],
   "source": [
    "List<Integer> multiThreadVector = new Vector<>();\n",
    "start = System.nanoTime();\n",
    "\n",
    "Thread t3 = new Thread(() -> {\n",
    "    for (int i = 0; i < 1_000_000; i++) {\n",
    "        multiThreadVector.add(i);\n",
    "    }\n",
    "});\n",
    "Thread t4 = new Thread(() -> {\n",
    "    for (int i = 0; i < 1_000_000; i++) {\n",
    "        multiThreadVector.add(i);\n",
    "    }\n",
    "});\n",
    "t3.start();\n",
    "t4.start();\n",
    "t3.join();\n",
    "t4.join();\n",
    "\n",
    "end = System.nanoTime();\n",
    "\n",
    "millisecs = TimeUnit.MILLISECONDS.convert(end - start, TimeUnit.NANOSECONDS);\n",
    "\n",
    "System.out.printf(\"Added 1_000_000 elements to multiThreadVector: %d ms\\n\", millisecs);"
   ]
  },
  {
   "cell_type": "markdown",
   "id": "dbdb8b31-c80b-46de-a44a-ceae725fc4c1",
   "metadata": {},
   "source": [
    "---"
   ]
  }
 ],
 "metadata": {
  "kernelspec": {
   "display_name": "Java",
   "language": "java",
   "name": "java"
  },
  "language_info": {
   "codemirror_mode": "java",
   "file_extension": ".jshell",
   "mimetype": "text/x-java-source",
   "name": "Java",
   "pygments_lexer": "java",
   "version": "17.0.6+10-jvmci-22.3-b13"
  },
  "widgets": {
   "application/vnd.jupyter.widget-state+json": {
    "state": {},
    "version_major": 2,
    "version_minor": 0
   }
  }
 },
 "nbformat": 4,
 "nbformat_minor": 5
}
