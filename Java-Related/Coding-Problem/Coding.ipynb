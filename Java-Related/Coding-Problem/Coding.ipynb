{
 "cells": [
  {
   "cell_type": "markdown",
   "id": "93d86de3-e69d-454a-9b91-72955d9dd7be",
   "metadata": {},
   "source": [
    "# TOC"
   ]
  },
  {
   "cell_type": "markdown",
   "id": "b7af4af6-d381-4899-8780-fc1842d6004c",
   "metadata": {},
   "source": [
    "- Count Letters\n",
    "- Prime Factorization"
   ]
  },
  {
   "cell_type": "markdown",
   "id": "156b08a1-81bb-49bb-8dbc-e2c92ad49e9d",
   "metadata": {},
   "source": [
    "---"
   ]
  },
  {
   "cell_type": "markdown",
   "id": "918a7035-b1ca-4cb0-9319-4b313b0839d3",
   "metadata": {},
   "source": [
    "# Template"
   ]
  },
  {
   "cell_type": "markdown",
   "id": "e2efa4d1-956b-4fee-87d5-c71c0fedecea",
   "metadata": {},
   "source": [
    "#### Demo"
   ]
  },
  {
   "cell_type": "code",
   "execution_count": null,
   "id": "ce040146-6e21-4c45-a6f6-8f47d7e9bcb7",
   "metadata": {},
   "outputs": [],
   "source": []
  },
  {
   "cell_type": "markdown",
   "id": "15b78175-a28c-4189-8f95-7d0202bdaef4",
   "metadata": {},
   "source": [
    "---"
   ]
  },
  {
   "cell_type": "markdown",
   "id": "224b8bda-d9ac-4f1e-a5ab-8f17c1de1faf",
   "metadata": {
    "jp-MarkdownHeadingCollapsed": true
   },
   "source": [
    "# Count Letters"
   ]
  },
  {
   "cell_type": "markdown",
   "id": "06a2917a-b6da-41dc-aa71-9bcceaa9345c",
   "metadata": {},
   "source": [
    "有一字串陣列內容如下:\n",
    "\n",
    "`const mySkills = ['javascript', 'java', 'sql', 'c', 'python', 'php', 'swift'];`\n",
    "\n",
    "請統計並印出陣列內每個字母各有幾個\n",
    "\n",
    "(Similar LeetCode 242)"
   ]
  },
  {
   "cell_type": "code",
   "execution_count": 26,
   "id": "d865eb0f-d939-4acd-85cf-7fa9dd0c0449",
   "metadata": {},
   "outputs": [
    {
     "name": "stdout",
     "output_type": "stream",
     "text": [
      "{a=4, c=2, f=1, h=2, i=2, j=2, l=1, n=1, o=1, p=4, q=1, r=1, s=3, t=3, v=2, w=1, y=1}\n"
     ]
    }
   ],
   "source": [
    "String[] mySkills = {\"javascript\", \"java\", \"sql\", \"c\", \"python\", \"php\", \"swift\"};\n",
    "\n",
    "Map<Character, Integer> letterCount = new HashMap<>();\n",
    "\n",
    "for (String skill : mySkills) {\n",
    "    for (char letter : skill.toCharArray()) {\n",
    "        letterCount.put(letter, letterCount.getOrDefault(letter, 0) + 1);\n",
    "    }\n",
    "}\n",
    "\n",
    "System.out.println(letterCount);"
   ]
  },
  {
   "cell_type": "markdown",
   "id": "2d978aec-e6ad-4b14-ba55-31bbc534cc34",
   "metadata": {},
   "source": [
    "---"
   ]
  },
  {
   "cell_type": "markdown",
   "id": "0596aca9-4ba5-4fcc-b54d-c2968ad8b0fe",
   "metadata": {
    "jp-MarkdownHeadingCollapsed": true
   },
   "source": [
    "# Prime Factorization"
   ]
  },
  {
   "cell_type": "code",
   "execution_count": 25,
   "id": "2be422af-00ab-4e24-994b-8a5db725c6d3",
   "metadata": {},
   "outputs": [
    {
     "name": "stdout",
     "output_type": "stream",
     "text": [
      "50 = 2*5*5"
     ]
    }
   ],
   "source": [
    "private static void decompose(int num) {\n",
    "    System.out.print(num + \" = \");\n",
    "    int j = 2;\n",
    "    while (j <= num){\n",
    "        if (j == num){\n",
    "            System.out.print(num);\n",
    "            break;\n",
    "        } else if (num % j == 0) {\n",
    "            System.out.print(j + \"*\");\n",
    "            num /= j;\n",
    "        }else {\n",
    "            j++;\n",
    "        }\n",
    "    }\n",
    "}\n",
    "decompose(50);"
   ]
  },
  {
   "cell_type": "code",
   "execution_count": 24,
   "id": "dee6a752-c9d4-4e98-969e-d25442432b5c",
   "metadata": {},
   "outputs": [
    {
     "name": "stdout",
     "output_type": "stream",
     "text": [
      "50 = 2 * 5^2\n"
     ]
    }
   ],
   "source": [
    "private static void decompose_format(int num) {\n",
    "    StringBuilder str = new StringBuilder();\n",
    "    Map<Integer, Integer> map = new HashMap<>();\n",
    "    System.out.print(num + \" = \");\n",
    "\n",
    "    for (int j = 2; j <= num; j++) {\n",
    "        int power = 0;\n",
    "\n",
    "        while (num % j == 0) {\n",
    "            power++;\n",
    "            num /= j;\n",
    "        }\n",
    "\n",
    "        if (power > 0) {\n",
    "            map.put(j, power);\n",
    "        }\n",
    "    }\n",
    "\n",
    "    for (Map.Entry<Integer, Integer> entry : map.entrySet()) {\n",
    "        int base = entry.getKey();\n",
    "        int exponent = entry.getValue();\n",
    "\n",
    "        if (exponent == 1) {\n",
    "            str.append(base).append(\" \");\n",
    "        } else {\n",
    "            str.append(base).append(\"^\").append(exponent).append(\" \");\n",
    "        }\n",
    "    }\n",
    "\n",
    "    System.out.println(str.toString().trim().replaceAll(\" \", \" * \"));\n",
    "}\n",
    "\n",
    "decompose_format(50)"
   ]
  },
  {
   "cell_type": "markdown",
   "id": "3bfb34e5-fce9-4ca6-8f5a-953b42f27ae6",
   "metadata": {},
   "source": [
    "---"
   ]
  }
 ],
 "metadata": {
  "kernelspec": {
   "display_name": "Java",
   "language": "java",
   "name": "java"
  },
  "language_info": {
   "codemirror_mode": "java",
   "file_extension": ".jshell",
   "mimetype": "text/x-java-source",
   "name": "Java",
   "pygments_lexer": "java",
   "version": "17.0.9+8-LTS"
  }
 },
 "nbformat": 4,
 "nbformat_minor": 5
}
