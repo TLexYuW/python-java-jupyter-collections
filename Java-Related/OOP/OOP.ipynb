{
 "cells": [
  {
   "cell_type": "markdown",
   "id": "3e259a45-cb0b-4844-9288-0f1330cabd45",
   "metadata": {},
   "source": [
    "# Dependency"
   ]
  },
  {
   "cell_type": "code",
   "execution_count": 5,
   "id": "9ff36e26-ae72-4e3b-809b-de9204c3ad10",
   "metadata": {},
   "outputs": [],
   "source": [
    "// code"
   ]
  },
  {
   "cell_type": "markdown",
   "id": "ee6687ce-9f9d-4128-b0cd-eb250ba768c8",
   "metadata": {},
   "source": [
    "---"
   ]
  },
  {
   "cell_type": "markdown",
   "id": "67157d6b-1407-4523-aaeb-a40765a0b5b1",
   "metadata": {},
   "source": [
    "# Import"
   ]
  },
  {
   "cell_type": "code",
   "execution_count": 6,
   "id": "0af9a04a-e6c2-40c9-8769-2e6250c81875",
   "metadata": {},
   "outputs": [],
   "source": [
    "import java.util.*;\n",
    "\n",
    "import static java.lang.System.out;"
   ]
  },
  {
   "cell_type": "markdown",
   "id": "a86b359b-4679-405a-83f4-8a5527b055e6",
   "metadata": {},
   "source": [
    "---"
   ]
  },
  {
   "cell_type": "markdown",
   "id": "e509eb65-649a-4aa5-a916-b33630342afa",
   "metadata": {},
   "source": [
    "# TOC"
   ]
  },
  {
   "cell_type": "markdown",
   "id": "d0f95e28-f474-4420-88db-c39a53f48700",
   "metadata": {},
   "source": [
    "- Object\n",
    "- Constructor\n",
    "- Overload\n",
    "- Encapsulation\n",
    "- Inheritance\n",
    "- Polymorphism\r",
    "- \n",
    "Dynamic Polymorphism\n",
    "- Aggregation\n",
    "- Association\n",
    "- Composition\n",
    "- Cohesion\n",
    "- Coupling\n",
    "    - loose\n",
    "    - tight"
   ]
  },
  {
   "cell_type": "markdown",
   "id": "16ca4c07-c57f-4744-9c61-1c1479d7116c",
   "metadata": {},
   "source": [
    "---"
   ]
  },
  {
   "cell_type": "markdown",
   "id": "0ddccc3a-d93a-46b6-9985-8bf8bcd7eeaf",
   "metadata": {},
   "source": [
    "# Setup\n",
    "- [Model](#Model)\n",
    "- [Utils](#Utils)"
   ]
  },
  {
   "cell_type": "markdown",
   "id": "d06a76dc-27b9-41c9-9655-997556316b8d",
   "metadata": {
    "jp-MarkdownHeadingCollapsed": true
   },
   "source": [
    "## Model"
   ]
  },
  {
   "cell_type": "code",
   "execution_count": 7,
   "id": "a7189b6c-b66f-46e6-890c-f8cc2d06f18b",
   "metadata": {},
   "outputs": [],
   "source": [
    "public class Human {\n",
    "    String name;\n",
    "    int age;\n",
    "    double weight;\n",
    "\n",
    "    Human(String name, int age, double weight) {\n",
    "        this.name = name;\n",
    "        this.age = age;\n",
    "        this.weight = weight;\n",
    "    }\n",
    "\n",
    "    void eat(){\n",
    "        System.out.println(this.name + \" is eating ...\");\n",
    "    }\n",
    "    void drink(){\n",
    "        System.out.println(this.name + \" is drinking ...\");\n",
    "    }\n",
    "}"
   ]
  },
  {
   "cell_type": "code",
   "execution_count": 8,
   "id": "ba8f1f9e-6bd4-490e-a11f-9c79ebc14e36",
   "metadata": {},
   "outputs": [],
   "source": [
    "public class Car {\n",
    "    // Not Practical\n",
    "    public String make = \"Tesla\";\n",
    "    public String model = \"Model X\";\n",
    "    int year = 2022;\n",
    "    String color = \"white\";\n",
    "    double price = 110_000.00;\n",
    "\n",
    "    public void drive(){\n",
    "        System.out.println(\"Driving the car\");\n",
    "    }\n",
    "\n",
    "    public void brake(){\n",
    "        System.out.println(\"Step on the brakes\");\n",
    "    }\n",
    "}"
   ]
  },
  {
   "cell_type": "code",
   "execution_count": 9,
   "id": "ccc7b1bc-0555-47d7-8be3-3b759083995a",
   "metadata": {},
   "outputs": [],
   "source": [
    "public class Car2 {\n",
    "    private String model;\n",
    "    private String make;\n",
    "    private int year;\n",
    "\n",
    "    public Car2(String model, String make, int year) {\n",
    "        this.setModel(model);\n",
    "        this.setMake(make);\n",
    "        this.setYear(year);\n",
    "//        this.model = model;\n",
    "//        this.make = make;\n",
    "//        this.year = year;\n",
    "    }\n",
    "\n",
    "    public String getModel() {\n",
    "        return model;\n",
    "    }\n",
    "\n",
    "    public void setModel(String model) {\n",
    "        this.model = model;\n",
    "    }\n",
    "\n",
    "    public String getMake() {\n",
    "        return make;\n",
    "    }\n",
    "\n",
    "    public void setMake(String make) {\n",
    "        this.make = make;\n",
    "    }\n",
    "\n",
    "    public int getYear() {\n",
    "        return year;\n",
    "    }\n",
    "\n",
    "    public void setYear(int year) {\n",
    "        this.year = year;\n",
    "    }\n",
    "}"
   ]
  },
  {
   "cell_type": "markdown",
   "id": "e8439cc2-d683-4dd0-a167-929cf4aa607a",
   "metadata": {},
   "source": [
    "## Utils"
   ]
  },
  {
   "cell_type": "code",
   "execution_count": null,
   "id": "687f8aa0-21cb-40a1-ab3f-5b0a908bc49f",
   "metadata": {},
   "outputs": [],
   "source": []
  },
  {
   "cell_type": "markdown",
   "id": "17c480f9-ce0f-4518-a672-3b8f9240b11f",
   "metadata": {},
   "source": [
    "# Diagram"
   ]
  },
  {
   "cell_type": "markdown",
   "id": "e35f9085-87b1-4c6d-a9aa-b618f4b9c15e",
   "metadata": {},
   "source": [
    "### Ref\n",
    "- [GFG](https://www.geeksforgeeks.org/association-composition-aggregation-java/)\n",
    "\n",
    "- Association : one-to-many relationship\n",
    "```mermaid\n",
    "flowchart LR\n",
    "    B[Bank]\n",
    "    Emp1[Employee_1]\n",
    "    Emp2[Employee_2]\n",
    "    Emp3[Employee_3]\n",
    "    \n",
    "    B ---- Emp1\n",
    "    B ---- Emp2\n",
    "    B ---- Emp3\n",
    "```\n",
    "- Aggregation\n",
    "```mermaid\n",
    "classDiagram\n",
    "    College o-- Student\n",
    "    College o-- Teacher\n",
    "```\n",
    "- Composition\n",
    "```mermaid\n",
    "classDiagram\n",
    "    Vehicle *-- Engine\n",
    "    Vehicle *-- Tyre\n",
    "```"
   ]
  },
  {
   "cell_type": "markdown",
   "id": "a74bd3ca-3526-4fd6-8338-b511ed2c530e",
   "metadata": {},
   "source": [
    "---"
   ]
  },
  {
   "cell_type": "markdown",
   "id": "15e95f5a-1de1-4dbc-bacb-6f09b5a7b36d",
   "metadata": {
    "jp-MarkdownHeadingCollapsed": true
   },
   "source": [
    "# Object\n",
    "> an instance of a class that may contain attributes and methods"
   ]
  },
  {
   "cell_type": "code",
   "execution_count": 10,
   "id": "a19b5624-c96b-4a5b-bb84-bafc94ff7a55",
   "metadata": {},
   "outputs": [
    {
     "name": "stdout",
     "output_type": "stream",
     "text": [
      "REPL.$JShell$37$Car@34749816\n",
      "Model X\n",
      "Driving the car\n",
      "Step on the brakes\n"
     ]
    }
   ],
   "source": [
    "Car myCar = new Car();\n",
    "System.out.println(myCar);\n",
    "System.out.println(myCar.model);\n",
    "myCar.drive();\n",
    "myCar.brake();"
   ]
  },
  {
   "cell_type": "markdown",
   "id": "e41e1d99-a44f-4234-a57d-e5fef3a0caa5",
   "metadata": {},
   "source": [
    "---"
   ]
  },
  {
   "cell_type": "markdown",
   "id": "b4758c64-b633-4858-b333-251369568eae",
   "metadata": {},
   "source": [
    "# Constructor\n",
    "> special method that is called when an object is instantiated (created)\n",
    ">\n",
    "> create different objects, attributes"
   ]
  },
  {
   "cell_type": "code",
   "execution_count": 11,
   "id": "0e3bd433-e103-41d3-9410-e76806a2e360",
   "metadata": {},
   "outputs": [
    {
     "name": "stdout",
     "output_type": "stream",
     "text": [
      "Rick\n",
      "50\n",
      "Rick is eating ...\n",
      "Rick2 is drinking ...\n"
     ]
    }
   ],
   "source": [
    "Human human1 = new Human(\"Rick\",100,50.00);\n",
    "Human human2 = new Human(\"Rick2\",50,70.00);\n",
    "\n",
    "System.out.println(human1.name);\n",
    "System.out.println(human2.age);\n",
    "\n",
    "human1.eat();\n",
    "human2.drink();"
   ]
  },
  {
   "cell_type": "markdown",
   "id": "f4a05ac2-8389-4197-a69c-cbbbd864b577",
   "metadata": {},
   "source": [
    "---"
   ]
  },
  {
   "cell_type": "markdown",
   "id": "5994e562-2491-415f-bca0-56fc9319d8c3",
   "metadata": {},
   "source": [
    "# Overload\n",
    "> multiple constructors within a class with the same name\n",
    "> \n",
    "> but have different parameters\n",
    "> \n",
    "> name + parameters = signaturere"
   ]
  },
  {
   "cell_type": "code",
   "execution_count": 18,
   "id": "05963e99-8a5d-4e8d-b69a-ed52ad1f845a",
   "metadata": {},
   "outputs": [],
   "source": [
    "public class Pizza {\n",
    "    String bread;\n",
    "    String sauce;\n",
    "    String cheese;\n",
    "    String topping;\n",
    "\n",
    "    public Pizza() {\n",
    "    }\n",
    "\n",
    "    public Pizza(String bread) {\n",
    "        this.bread = bread;\n",
    "    }\n",
    "\n",
    "    public Pizza(String bread, String sauce) {\n",
    "        this.bread = bread;\n",
    "        this.sauce = sauce;\n",
    "    }\n",
    "\n",
    "    public Pizza(String bread, String sauce, String cheese) {\n",
    "        this.bread = bread;\n",
    "        this.sauce = sauce;\n",
    "        this.cheese = cheese;\n",
    "    }\n",
    "\n",
    "    public Pizza(String bread, String sauce, String cheese, String topping) {\n",
    "        this.bread = bread;\n",
    "        this.sauce = sauce;\n",
    "        this.cheese = cheese;\n",
    "        this.topping = topping;\n",
    "    }\n",
    "\n",
    "    @Override\n",
    "    public String toString() {\n",
    "        return \"Pizza{\" +\n",
    "                \"bread='\" + bread + '\\'' +\n",
    "                \", sauce='\" + sauce + '\\'' +\n",
    "                \", cheese='\" + cheese + '\\'' +\n",
    "                \", topping='\" + topping + '\\'' +\n",
    "                '}';\n",
    "    }\n",
    "}"
   ]
  },
  {
   "cell_type": "code",
   "execution_count": 19,
   "id": "886ea5ee-7ad2-4708-9508-3919c74e27c6",
   "metadata": {},
   "outputs": [
    {
     "name": "stdout",
     "output_type": "stream",
     "text": [
      "Here are the ingredients of your pizza: \n",
      "thicc crust\n",
      "tomato\n",
      "mozzarella\n",
      "pepperoni\n",
      "Pizza{bread='thicc crust', sauce='tomato', cheese='mozzarella', topping='null'}\n",
      "Pizza{bread='thicc crust', sauce='tomato', cheese='null', topping='null'}\n",
      "Pizza{bread='thicc crust', sauce='null', cheese='null', topping='null'}\n",
      "Pizza{bread='null', sauce='null', cheese='null', topping='null'}\n"
     ]
    }
   ],
   "source": [
    "Pizza pizza = new Pizza(\"thicc crust\",\"tomato\",\"mozzarella\",\"pepperoni\");\n",
    "System.out.println(\"Here are the ingredients of your pizza: \");\n",
    "System.out.println(pizza.bread);\n",
    "System.out.println(pizza.sauce);\n",
    "System.out.println(pizza.cheese);\n",
    "System.out.println(pizza.topping);\n",
    "\n",
    "Pizza pizza2 = new Pizza(\"thicc crust\",\"tomato\",\"mozzarella\");\n",
    "out.println(pizza2);\n",
    "\n",
    "Pizza pizza3 = new Pizza(\"thicc crust\",\"tomato\");\n",
    "out.println(pizza3);\n",
    "\n",
    "Pizza pizza4 = new Pizza(\"thicc crust\");\n",
    "out.println(pizza4);\n",
    "\n",
    "Pizza pizza5 = new Pizza();\n",
    "out.println(pizza5);"
   ]
  },
  {
   "cell_type": "markdown",
   "id": "64a031f7-0c39-40c1-9873-861c62fa0ab5",
   "metadata": {},
   "source": [
    "---"
   ]
  },
  {
   "cell_type": "markdown",
   "id": "78284585-9ee9-4fa6-9504-601b8e3aafaa",
   "metadata": {},
   "source": [
    "# Encapsulation\n",
    "> attributes of a class will be hidden or private,\n",
    "> \n",
    "> Can be accessed only through methods (getters & setters)\n",
    "> \n",
    "> You should make attributes private if you don't have a reason to make them public/protected"
   ]
  },
  {
   "cell_type": "code",
   "execution_count": 14,
   "id": "d86e69f1-6a4a-4622-bf92-5aa6ab6fbb89",
   "metadata": {},
   "outputs": [
    {
     "name": "stdout",
     "output_type": "stream",
     "text": [
      "Tesla\n",
      "Model X\n",
      "2023\n",
      "REPL.$JShell$38$Car2@26c07558\n"
     ]
    }
   ],
   "source": [
    "Car2 car = new Car2(\"Model X\",\"Tesla\",2023);\n",
    "\n",
    "System.out.println(car.getMake());\n",
    "System.out.println(car.getModel());\n",
    "System.out.println(car.getYear());\n",
    "\n",
    "car.setYear(2022);\n",
    "System.out.println(car);"
   ]
  },
  {
   "cell_type": "markdown",
   "id": "72aac5eb-e1ba-49aa-90c6-5301db5cda8d",
   "metadata": {},
   "source": [
    "---"
   ]
  },
  {
   "cell_type": "markdown",
   "id": "096c59b1-c519-439d-b9b1-8ad344cc88b0",
   "metadata": {},
   "source": [
    "# Polymorphism\n",
    "> greek word for poly-\"many\", morph-\"form\"\n",
    ">\n",
    ">  The ability of an object to identify as more than one type"
   ]
  },
  {
   "cell_type": "code",
   "execution_count": 4,
   "id": "b5b5bece-fb5b-44a5-a1e3-f876fbabbca7",
   "metadata": {},
   "outputs": [],
   "source": [
    "public class Vehicle {\n",
    "    public void go(){\n",
    "    }\n",
    "}\n",
    "\n",
    "public class Car extends Vehicle {\n",
    "    public void go(){\n",
    "        System.out.println(\"The Car begins moving\");\n",
    "    }\n",
    "}\n",
    "\n",
    "public class Motorcycle extends Vehicle {\n",
    "    public void go(){\n",
    "        System.out.println(\"The Motorcycle begins moving\");\n",
    "    }\n",
    "}\n",
    "\n",
    "public class Bike extends Vehicle {\n",
    "    public void go(){\n",
    "        System.out.println(\"The Bike begins moving\");\n",
    "    }\n",
    "}"
   ]
  },
  {
   "cell_type": "code",
   "execution_count": 5,
   "id": "32793743-ccbc-49a6-9b01-f004628d4a5e",
   "metadata": {},
   "outputs": [
    {
     "name": "stdout",
     "output_type": "stream",
     "text": [
      "The Car begins moving\n",
      "The Bike begins moving\n",
      "The Motorcycle begins moving\n",
      "The Car begins moving\n",
      "The Bike begins moving\n",
      "The Motorcycle begins moving\n"
     ]
    }
   ],
   "source": [
    "Car car = new Car();\n",
    "Bike bike = new Bike();\n",
    "Motorcycle motorcycle = new Motorcycle();\n",
    "\n",
    "Vehicle[] racers = {car, bike, motorcycle};\n",
    "\n",
    "car.go();\n",
    "bike.go();\n",
    "motorcycle.go();\n",
    "\n",
    "for (Vehicle v: racers) {\n",
    "    v.go();\n",
    "}"
   ]
  },
  {
   "cell_type": "markdown",
   "id": "5eccfa81-df54-498b-8a77-2f69c789fb74",
   "metadata": {},
   "source": [
    "---"
   ]
  },
  {
   "cell_type": "markdown",
   "id": "e932fe1f-a41c-4e76-97da-1d7e76ab86bf",
   "metadata": {},
   "source": [
    "# Dynamic Polymorphism\n",
    "> many shapes/forms\n",
    "> \n",
    "> dynamics = after compilation(during runtime)\n",
    "> \n",
    "> ex: A corvette is a corvette, a car , a vehicle, and an object"
   ]
  },
  {
   "cell_type": "code",
   "execution_count": 1,
   "id": "56bdccde-176c-419e-b93e-afbba1f2b12b",
   "metadata": {},
   "outputs": [],
   "source": [
    "public class Animal {\n",
    "    public void speak() {\n",
    "        System.out.println(\"Animal goes brrrr...\");\n",
    "    }\n",
    "}\n",
    "public class Cat extends Animal {\n",
    "    @Override\n",
    "    public void speak() {\n",
    "        System.out.println(\"meow~~~\");\n",
    "    }\n",
    "}\n",
    "public class Dog extends Animal{\n",
    "    @Override\n",
    "    public void speak() {\n",
    "        System.out.println(\"woof!\");\n",
    "    }\n",
    "}\n"
   ]
  },
  {
   "cell_type": "code",
   "execution_count": 3,
   "id": "4f9ae963-ab5c-440a-9868-590959fb695b",
   "metadata": {},
   "outputs": [
    {
     "name": "stdout",
     "output_type": "stream",
     "text": [
      "What animal do u want?\n",
      "(1=dog) or (2=cat): \n"
     ]
    },
    {
     "name": "stdin",
     "output_type": "stream",
     "text": [
      " 1\n"
     ]
    },
    {
     "name": "stdout",
     "output_type": "stream",
     "text": [
      "woof!\n"
     ]
    }
   ],
   "source": [
    "Scanner scanner = new Scanner(System.in);\n",
    "Animal animal;\n",
    "\n",
    "System.out.println(\"What animal do u want?\");\n",
    "System.out.println(\"(1=dog) or (2=cat): \");\n",
    "int choice = scanner.nextInt();\n",
    "\n",
    "if (choice == 1) {\n",
    "    animal = new Dog();\n",
    "    animal.speak();\n",
    "} else if (choice == 2) {\n",
    "    animal = new Cat();\n",
    "    animal.speak();\n",
    "} else {\n",
    "    animal = new Animal();\n",
    "    animal.speak();\n",
    "    System.out.println(\"Invalid choice\");\n",
    "}"
   ]
  },
  {
   "cell_type": "markdown",
   "id": "f4309520-8c79-4312-a287-a37a704d888c",
   "metadata": {},
   "source": [
    "---"
   ]
  },
  {
   "cell_type": "markdown",
   "id": "84cf46e0-ff2f-4613-8f93-0d6ad8f1e992",
   "metadata": {},
   "source": [
    "# "
   ]
  },
  {
   "cell_type": "code",
   "execution_count": null,
   "id": "0cc78e8d-df00-4be1-ac35-0781632fbf02",
   "metadata": {},
   "outputs": [],
   "source": []
  },
  {
   "cell_type": "markdown",
   "id": "5c75760c-57dd-467f-9076-9427ad2e89e0",
   "metadata": {},
   "source": [
    "---"
   ]
  },
  {
   "cell_type": "markdown",
   "id": "15ac4f03-3b2b-43b7-ab64-9eaed1026c02",
   "metadata": {},
   "source": [
    "# "
   ]
  },
  {
   "cell_type": "code",
   "execution_count": null,
   "id": "57cbd716-6b74-4a65-a31e-24d74a8f5489",
   "metadata": {},
   "outputs": [],
   "source": []
  },
  {
   "cell_type": "markdown",
   "id": "fae1771b-6cf2-4337-a1f8-38dc0da236a3",
   "metadata": {},
   "source": [
    "---"
   ]
  },
  {
   "cell_type": "markdown",
   "id": "b239b0f1-dccd-46ac-bc61-8d574ec887b0",
   "metadata": {},
   "source": [
    "# "
   ]
  },
  {
   "cell_type": "code",
   "execution_count": null,
   "id": "2f8409dd-0889-45b2-95a0-5fc926289ce0",
   "metadata": {},
   "outputs": [],
   "source": []
  },
  {
   "cell_type": "markdown",
   "id": "44ccefd9-c3d3-4609-8ca1-bd4fad3b6ac5",
   "metadata": {},
   "source": [
    "---"
   ]
  },
  {
   "cell_type": "markdown",
   "id": "2893a915-a799-4976-9c58-e1031f3a3a43",
   "metadata": {},
   "source": [
    "# "
   ]
  },
  {
   "cell_type": "code",
   "execution_count": null,
   "id": "60573a2a-a26c-475a-a962-684961243530",
   "metadata": {},
   "outputs": [],
   "source": []
  },
  {
   "cell_type": "markdown",
   "id": "1c30f19a-c2b6-4147-90a2-ee69caeba205",
   "metadata": {},
   "source": [
    "---"
   ]
  },
  {
   "cell_type": "markdown",
   "id": "4d1b8ef5-315b-46ee-8cec-d74ddc2577a8",
   "metadata": {},
   "source": [
    "# Scope"
   ]
  },
  {
   "cell_type": "code",
   "execution_count": 15,
   "id": "907743b0-d6ad-4b6b-be65-12477824c5e5",
   "metadata": {},
   "outputs": [],
   "source": [
    "public class DiceRoller {\n",
    "    // global\n",
    "    // declared outside a method, but within a class\n",
    "    // visible to all parts of a class\n",
    "    Random random;\n",
    "    int number;\n",
    "    DiceRoller() {\n",
    "        random = new Random();\n",
    "        roll();\n",
    "\n",
    "    // local\n",
    "    // declared inside a method\n",
    "    // visible only to method\n",
    "       // Random random = new Random();\n",
    "       // int number = 0;\n",
    "       // roll(random, number);\n",
    "    }\n",
    "\n",
    "    // void roll(Random random, int num) {\n",
    "    //     number = random.nextInt(5) + num;\n",
    "    //     System.out.println(number);\n",
    "    // }\n",
    "    \n",
    "    void roll() {\n",
    "        number = random.nextInt(5) + 1;\n",
    "        System.out.println(number);\n",
    "    }\n",
    "}"
   ]
  },
  {
   "cell_type": "code",
   "execution_count": 16,
   "id": "1286de6e-9af0-4740-8e9d-92ee894e143e",
   "metadata": {},
   "outputs": [
    {
     "name": "stdout",
     "output_type": "stream",
     "text": [
      "3\n",
      "5\n",
      "1\n",
      "4\n",
      "1\n",
      "4\n",
      "2\n",
      "5\n",
      "4\n",
      "2\n",
      "1\n",
      "2\n",
      "1\n",
      "3\n",
      "2\n",
      "3\n",
      "1\n",
      "1\n",
      "5\n",
      "1\n"
     ]
    }
   ],
   "source": [
    "for (int i = 0; i < 20; i++) {\n",
    "    DiceRoller diceRoller = new DiceRoller();\n",
    "    // diceRoller.roll(new Random(), 10);\n",
    "}"
   ]
  },
  {
   "cell_type": "markdown",
   "id": "6f250b73-8666-498e-bb40-be067a6a4871",
   "metadata": {},
   "source": [
    "---"
   ]
  },
  {
   "cell_type": "markdown",
   "id": "c6055737-7be3-4036-b3e7-f7255c40e1cc",
   "metadata": {},
   "source": [
    "# "
   ]
  },
  {
   "cell_type": "code",
   "execution_count": null,
   "id": "ae09509b-fca7-4ec6-951b-4b19f59efd6f",
   "metadata": {},
   "outputs": [],
   "source": []
  },
  {
   "cell_type": "markdown",
   "id": "b8b35cb0-9cad-4f0d-a884-f8fb3bfb4d30",
   "metadata": {},
   "source": [
    "---"
   ]
  },
  {
   "cell_type": "markdown",
   "id": "c87f1057-f5b1-4cfe-9ded-b3be7b63c280",
   "metadata": {},
   "source": [
    "# "
   ]
  },
  {
   "cell_type": "code",
   "execution_count": null,
   "id": "b93bf053-2b80-41d5-814d-1773dbcd07af",
   "metadata": {},
   "outputs": [],
   "source": []
  },
  {
   "cell_type": "markdown",
   "id": "3da8ada3-534a-47c6-ae49-ae50a032e080",
   "metadata": {},
   "source": [
    "---"
   ]
  }
 ],
 "metadata": {
  "kernelspec": {
   "display_name": "Java",
   "language": "java",
   "name": "java"
  },
  "language_info": {
   "codemirror_mode": "java",
   "file_extension": ".jshell",
   "mimetype": "text/x-java-source",
   "name": "Java",
   "pygments_lexer": "java",
   "version": "17.0.6+10-jvmci-22.3-b13"
  },
  "widgets": {
   "application/vnd.jupyter.widget-state+json": {
    "state": {},
    "version_major": 2,
    "version_minor": 0
   }
  }
 },
 "nbformat": 4,
 "nbformat_minor": 5
}
