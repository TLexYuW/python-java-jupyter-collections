{
 "cells": [
  {
   "cell_type": "markdown",
   "id": "3e259a45-cb0b-4844-9288-0f1330cabd45",
   "metadata": {},
   "source": [
    "# Dependency"
   ]
  },
  {
   "cell_type": "code",
   "execution_count": 25,
   "id": "9ff36e26-ae72-4e3b-809b-de9204c3ad10",
   "metadata": {},
   "outputs": [],
   "source": [
    "// code"
   ]
  },
  {
   "cell_type": "markdown",
   "id": "ee6687ce-9f9d-4128-b0cd-eb250ba768c8",
   "metadata": {},
   "source": [
    "---"
   ]
  },
  {
   "cell_type": "markdown",
   "id": "67157d6b-1407-4523-aaeb-a40765a0b5b1",
   "metadata": {},
   "source": [
    "# Import"
   ]
  },
  {
   "cell_type": "code",
   "execution_count": 26,
   "id": "0af9a04a-e6c2-40c9-8769-2e6250c81875",
   "metadata": {},
   "outputs": [],
   "source": [
    "import java.util.*;\n",
    "\n",
    "import static java.lang.System.out;"
   ]
  },
  {
   "cell_type": "markdown",
   "id": "a86b359b-4679-405a-83f4-8a5527b055e6",
   "metadata": {},
   "source": [
    "---"
   ]
  },
  {
   "cell_type": "markdown",
   "id": "e509eb65-649a-4aa5-a916-b33630342afa",
   "metadata": {},
   "source": [
    "# TOC"
   ]
  },
  {
   "cell_type": "markdown",
   "id": "d0f95e28-f474-4420-88db-c39a53f48700",
   "metadata": {},
   "source": [
    "- Object\n",
    "- Constructor\n",
    "- Overload\n",
    "- Encapsulation\n",
    "- Inheritance\n",
    "- Polymorphism\r",
    "    - Dynamic Polymorphism\n",
    "- Scope\n",
    "- Aggregation\n",
    "- Association\n",
    "- Composition\n",
    "- Coupling\n",
    "    - loose\n",
    "    - tight\n",
    "- Cohesion"
   ]
  },
  {
   "cell_type": "markdown",
   "id": "16ca4c07-c57f-4744-9c61-1c1479d7116c",
   "metadata": {},
   "source": [
    "---"
   ]
  },
  {
   "cell_type": "markdown",
   "id": "0ddccc3a-d93a-46b6-9985-8bf8bcd7eeaf",
   "metadata": {},
   "source": [
    "# Setup\n",
    "- [Model](#Model)\n",
    "- [Utils](#Utils)"
   ]
  },
  {
   "cell_type": "markdown",
   "id": "d06a76dc-27b9-41c9-9655-997556316b8d",
   "metadata": {
    "jp-MarkdownHeadingCollapsed": true
   },
   "source": [
    "## Model"
   ]
  },
  {
   "cell_type": "code",
   "execution_count": 27,
   "id": "a7189b6c-b66f-46e6-890c-f8cc2d06f18b",
   "metadata": {},
   "outputs": [],
   "source": [
    "public class Human {\n",
    "    String name;\n",
    "    int age;\n",
    "    double weight;\n",
    "\n",
    "    Human(String name, int age, double weight) {\n",
    "        this.name = name;\n",
    "        this.age = age;\n",
    "        this.weight = weight;\n",
    "    }\n",
    "\n",
    "    void eat(){\n",
    "        System.out.println(this.name + \" is eating ...\");\n",
    "    }\n",
    "    void drink(){\n",
    "        System.out.println(this.name + \" is drinking ...\");\n",
    "    }\n",
    "}"
   ]
  },
  {
   "cell_type": "code",
   "execution_count": 28,
   "id": "ba8f1f9e-6bd4-490e-a11f-9c79ebc14e36",
   "metadata": {},
   "outputs": [],
   "source": [
    "public class Car {\n",
    "    // Not Practical\n",
    "    public String make = \"Tesla\";\n",
    "    public String model = \"Model X\";\n",
    "    int year = 2022;\n",
    "    String color = \"white\";\n",
    "    double price = 110_000.00;\n",
    "\n",
    "    public void drive(){\n",
    "        System.out.println(\"Driving the car\");\n",
    "    }\n",
    "\n",
    "    public void brake(){\n",
    "        System.out.println(\"Step on the brakes\");\n",
    "    }\n",
    "}"
   ]
  },
  {
   "cell_type": "code",
   "execution_count": 29,
   "id": "ccc7b1bc-0555-47d7-8be3-3b759083995a",
   "metadata": {},
   "outputs": [],
   "source": [
    "public class Car2 {\n",
    "    private String model;\n",
    "    private String make;\n",
    "    private int year;\n",
    "\n",
    "    public Car2(String model, String make, int year) {\n",
    "        this.setModel(model);\n",
    "        this.setMake(make);\n",
    "        this.setYear(year);\n",
    "//        this.model = model;\n",
    "//        this.make = make;\n",
    "//        this.year = year;\n",
    "    }\n",
    "\n",
    "    public String getModel() {\n",
    "        return model;\n",
    "    }\n",
    "\n",
    "    public void setModel(String model) {\n",
    "        this.model = model;\n",
    "    }\n",
    "\n",
    "    public String getMake() {\n",
    "        return make;\n",
    "    }\n",
    "\n",
    "    public void setMake(String make) {\n",
    "        this.make = make;\n",
    "    }\n",
    "\n",
    "    public int getYear() {\n",
    "        return year;\n",
    "    }\n",
    "\n",
    "    public void setYear(int year) {\n",
    "        this.year = year;\n",
    "    }\n",
    "}"
   ]
  },
  {
   "cell_type": "markdown",
   "id": "e8439cc2-d683-4dd0-a167-929cf4aa607a",
   "metadata": {},
   "source": [
    "## Utils"
   ]
  },
  {
   "cell_type": "code",
   "execution_count": null,
   "id": "687f8aa0-21cb-40a1-ab3f-5b0a908bc49f",
   "metadata": {},
   "outputs": [],
   "source": []
  },
  {
   "cell_type": "markdown",
   "id": "a74bd3ca-3526-4fd6-8338-b511ed2c530e",
   "metadata": {},
   "source": [
    "---"
   ]
  },
  {
   "cell_type": "markdown",
   "id": "15e95f5a-1de1-4dbc-bacb-6f09b5a7b36d",
   "metadata": {
    "jp-MarkdownHeadingCollapsed": true
   },
   "source": [
    "# Object\n",
    "> an instance of a class that may contain attributes and methods"
   ]
  },
  {
   "cell_type": "code",
   "execution_count": 30,
   "id": "a19b5624-c96b-4a5b-bb84-bafc94ff7a55",
   "metadata": {},
   "outputs": [
    {
     "name": "stdout",
     "output_type": "stream",
     "text": [
      "REPL.$JShell$25J$Car@6fc7181d\n",
      "Model X\n",
      "Driving the car\n",
      "Step on the brakes\n"
     ]
    }
   ],
   "source": [
    "Car myCar = new Car();\n",
    "System.out.println(myCar);\n",
    "System.out.println(myCar.model);\n",
    "myCar.drive();\n",
    "myCar.brake();"
   ]
  },
  {
   "cell_type": "markdown",
   "id": "e41e1d99-a44f-4234-a57d-e5fef3a0caa5",
   "metadata": {},
   "source": [
    "---"
   ]
  },
  {
   "cell_type": "markdown",
   "id": "b4758c64-b633-4858-b333-251369568eae",
   "metadata": {
    "jp-MarkdownHeadingCollapsed": true
   },
   "source": [
    "# Constructor\n",
    "> special method that is called when an object is instantiated (created)\n",
    ">\n",
    "> create different objects, attributes"
   ]
  },
  {
   "cell_type": "code",
   "execution_count": 31,
   "id": "0e3bd433-e103-41d3-9410-e76806a2e360",
   "metadata": {},
   "outputs": [
    {
     "name": "stdout",
     "output_type": "stream",
     "text": [
      "Rick\n",
      "50\n",
      "Rick is eating ...\n",
      "Rick2 is drinking ...\n"
     ]
    }
   ],
   "source": [
    "Human human1 = new Human(\"Rick\",100,50.00);\n",
    "Human human2 = new Human(\"Rick2\",50,70.00);\n",
    "\n",
    "System.out.println(human1.name);\n",
    "System.out.println(human2.age);\n",
    "\n",
    "human1.eat();\n",
    "human2.drink();"
   ]
  },
  {
   "cell_type": "markdown",
   "id": "f4a05ac2-8389-4197-a69c-cbbbd864b577",
   "metadata": {},
   "source": [
    "---"
   ]
  },
  {
   "cell_type": "markdown",
   "id": "5994e562-2491-415f-bca0-56fc9319d8c3",
   "metadata": {
    "jp-MarkdownHeadingCollapsed": true
   },
   "source": [
    "# Overload\n",
    "> multiple constructors within a class with the same name\n",
    "> \n",
    "> but have different parameters\n",
    "> \n",
    "> name + parameters = signaturere"
   ]
  },
  {
   "cell_type": "code",
   "execution_count": 32,
   "id": "05963e99-8a5d-4e8d-b69a-ed52ad1f845a",
   "metadata": {},
   "outputs": [],
   "source": [
    "public class Pizza {\n",
    "    String bread;\n",
    "    String sauce;\n",
    "    String cheese;\n",
    "    String topping;\n",
    "\n",
    "    public Pizza() {\n",
    "    }\n",
    "\n",
    "    public Pizza(String bread) {\n",
    "        this.bread = bread;\n",
    "    }\n",
    "\n",
    "    public Pizza(String bread, String sauce) {\n",
    "        this.bread = bread;\n",
    "        this.sauce = sauce;\n",
    "    }\n",
    "\n",
    "    public Pizza(String bread, String sauce, String cheese) {\n",
    "        this.bread = bread;\n",
    "        this.sauce = sauce;\n",
    "        this.cheese = cheese;\n",
    "    }\n",
    "\n",
    "    public Pizza(String bread, String sauce, String cheese, String topping) {\n",
    "        this.bread = bread;\n",
    "        this.sauce = sauce;\n",
    "        this.cheese = cheese;\n",
    "        this.topping = topping;\n",
    "    }\n",
    "\n",
    "    @Override\n",
    "    public String toString() {\n",
    "        return \"Pizza{\" +\n",
    "                \"bread='\" + bread + '\\'' +\n",
    "                \", sauce='\" + sauce + '\\'' +\n",
    "                \", cheese='\" + cheese + '\\'' +\n",
    "                \", topping='\" + topping + '\\'' +\n",
    "                '}';\n",
    "    }\n",
    "}"
   ]
  },
  {
   "cell_type": "code",
   "execution_count": 33,
   "id": "886ea5ee-7ad2-4708-9508-3919c74e27c6",
   "metadata": {},
   "outputs": [
    {
     "name": "stdout",
     "output_type": "stream",
     "text": [
      "Here are the ingredients of your pizza: \n",
      "thicc crust\n",
      "tomato\n",
      "mozzarella\n",
      "pepperoni\n",
      "Pizza{bread='thicc crust', sauce='tomato', cheese='mozzarella', topping='null'}\n",
      "Pizza{bread='thicc crust', sauce='tomato', cheese='null', topping='null'}\n",
      "Pizza{bread='thicc crust', sauce='null', cheese='null', topping='null'}\n",
      "Pizza{bread='null', sauce='null', cheese='null', topping='null'}\n"
     ]
    }
   ],
   "source": [
    "Pizza pizza = new Pizza(\"thicc crust\",\"tomato\",\"mozzarella\",\"pepperoni\");\n",
    "System.out.println(\"Here are the ingredients of your pizza: \");\n",
    "System.out.println(pizza.bread);\n",
    "System.out.println(pizza.sauce);\n",
    "System.out.println(pizza.cheese);\n",
    "System.out.println(pizza.topping);\n",
    "\n",
    "Pizza pizza2 = new Pizza(\"thicc crust\",\"tomato\",\"mozzarella\");\n",
    "out.println(pizza2);\n",
    "\n",
    "Pizza pizza3 = new Pizza(\"thicc crust\",\"tomato\");\n",
    "out.println(pizza3);\n",
    "\n",
    "Pizza pizza4 = new Pizza(\"thicc crust\");\n",
    "out.println(pizza4);\n",
    "\n",
    "Pizza pizza5 = new Pizza();\n",
    "out.println(pizza5);"
   ]
  },
  {
   "cell_type": "markdown",
   "id": "64a031f7-0c39-40c1-9873-861c62fa0ab5",
   "metadata": {},
   "source": [
    "---"
   ]
  },
  {
   "cell_type": "markdown",
   "id": "78284585-9ee9-4fa6-9504-601b8e3aafaa",
   "metadata": {
    "jp-MarkdownHeadingCollapsed": true
   },
   "source": [
    "# Encapsulation\n",
    "> attributes of a class will be hidden or private,\n",
    "> \n",
    "> Can be accessed only through methods (getters & setters)\n",
    "> \n",
    "> You should make attributes private if you don't have a reason to make them public/protected"
   ]
  },
  {
   "cell_type": "code",
   "execution_count": 34,
   "id": "d86e69f1-6a4a-4622-bf92-5aa6ab6fbb89",
   "metadata": {},
   "outputs": [
    {
     "name": "stdout",
     "output_type": "stream",
     "text": [
      "Tesla\n",
      "Model X\n",
      "2023\n",
      "REPL.$JShell$52$Car2@3e503edc\n"
     ]
    }
   ],
   "source": [
    "Car2 car = new Car2(\"Model X\",\"Tesla\",2023);\n",
    "\n",
    "System.out.println(car.getMake());\n",
    "System.out.println(car.getModel());\n",
    "System.out.println(car.getYear());\n",
    "\n",
    "car.setYear(2022);\n",
    "System.out.println(car);"
   ]
  },
  {
   "cell_type": "markdown",
   "id": "72aac5eb-e1ba-49aa-90c6-5301db5cda8d",
   "metadata": {},
   "source": [
    "---"
   ]
  },
  {
   "cell_type": "markdown",
   "id": "096c59b1-c519-439d-b9b1-8ad344cc88b0",
   "metadata": {
    "jp-MarkdownHeadingCollapsed": true
   },
   "source": [
    "# Polymorphism\n",
    "> greek word for poly-\"many\", morph-\"form\"\n",
    ">\n",
    ">  The ability of an object to identify as more than one type"
   ]
  },
  {
   "cell_type": "code",
   "execution_count": 35,
   "id": "b5b5bece-fb5b-44a5-a1e3-f876fbabbca7",
   "metadata": {},
   "outputs": [],
   "source": [
    "public class Vehicle {\n",
    "    public void go(){\n",
    "    }\n",
    "}\n",
    "\n",
    "public class Car extends Vehicle {\n",
    "    public void go(){\n",
    "        System.out.println(\"The Car begins moving\");\n",
    "    }\n",
    "}\n",
    "\n",
    "public class Motorcycle extends Vehicle {\n",
    "    public void go(){\n",
    "        System.out.println(\"The Motorcycle begins moving\");\n",
    "    }\n",
    "}\n",
    "\n",
    "public class Bike extends Vehicle {\n",
    "    public void go(){\n",
    "        System.out.println(\"The Bike begins moving\");\n",
    "    }\n",
    "}"
   ]
  },
  {
   "cell_type": "code",
   "execution_count": 36,
   "id": "32793743-ccbc-49a6-9b01-f004628d4a5e",
   "metadata": {},
   "outputs": [
    {
     "name": "stdout",
     "output_type": "stream",
     "text": [
      "The Car begins moving\n",
      "The Bike begins moving\n",
      "The Motorcycle begins moving\n",
      "The Car begins moving\n",
      "The Bike begins moving\n",
      "The Motorcycle begins moving\n"
     ]
    }
   ],
   "source": [
    "Car car = new Car();\n",
    "Bike bike = new Bike();\n",
    "Motorcycle motorcycle = new Motorcycle();\n",
    "\n",
    "Vehicle[] racers = {car, bike, motorcycle};\n",
    "\n",
    "car.go();\n",
    "bike.go();\n",
    "motorcycle.go();\n",
    "\n",
    "for (Vehicle v: racers) {\n",
    "    v.go();\n",
    "}"
   ]
  },
  {
   "cell_type": "markdown",
   "id": "5eccfa81-df54-498b-8a77-2f69c789fb74",
   "metadata": {},
   "source": [
    "---"
   ]
  },
  {
   "cell_type": "markdown",
   "id": "e932fe1f-a41c-4e76-97da-1d7e76ab86bf",
   "metadata": {},
   "source": [
    "## Dynamic Polymorphism\n",
    "> many shapes/forms\n",
    "> \n",
    "> dynamics = after compilation(during runtime)\n",
    "> \n",
    "> ex: A corvette is a corvette, a car , a vehicle, and an object"
   ]
  },
  {
   "cell_type": "code",
   "execution_count": 37,
   "id": "56bdccde-176c-419e-b93e-afbba1f2b12b",
   "metadata": {},
   "outputs": [],
   "source": [
    "public class Animal {\n",
    "    public void speak() {\n",
    "        System.out.println(\"Animal goes brrrr...\");\n",
    "    }\n",
    "}\n",
    "public class Cat extends Animal {\n",
    "    @Override\n",
    "    public void speak() {\n",
    "        System.out.println(\"meow~~~\");\n",
    "    }\n",
    "}\n",
    "public class Dog extends Animal{\n",
    "    @Override\n",
    "    public void speak() {\n",
    "        System.out.println(\"woof!\");\n",
    "    }\n",
    "}\n"
   ]
  },
  {
   "cell_type": "code",
   "execution_count": null,
   "id": "4f9ae963-ab5c-440a-9868-590959fb695b",
   "metadata": {},
   "outputs": [
    {
     "name": "stdout",
     "output_type": "stream",
     "text": [
      "What animal do u want?\n",
      "(1=dog) or (2=cat): \n"
     ]
    }
   ],
   "source": [
    "Scanner scanner = new Scanner(System.in);\n",
    "Animal animal;\n",
    "\n",
    "System.out.println(\"What animal do u want?\");\n",
    "System.out.println(\"(1=dog) or (2=cat): \");\n",
    "int choice = scanner.nextInt();\n",
    "\n",
    "if (choice == 1) {\n",
    "    animal = new Dog();\n",
    "    animal.speak();\n",
    "} else if (choice == 2) {\n",
    "    animal = new Cat();\n",
    "    animal.speak();\n",
    "} else {\n",
    "    animal = new Animal();\n",
    "    animal.speak();\n",
    "    System.out.println(\"Invalid choice\");\n",
    "}"
   ]
  },
  {
   "cell_type": "markdown",
   "id": "f4309520-8c79-4312-a287-a37a704d888c",
   "metadata": {},
   "source": [
    "---"
   ]
  },
  {
   "cell_type": "markdown",
   "id": "4d1b8ef5-315b-46ee-8cec-d74ddc2577a8",
   "metadata": {
    "jp-MarkdownHeadingCollapsed": true
   },
   "source": [
    "# Scope"
   ]
  },
  {
   "cell_type": "code",
   "execution_count": null,
   "id": "907743b0-d6ad-4b6b-be65-12477824c5e5",
   "metadata": {},
   "outputs": [],
   "source": [
    "public class DiceRoller {\n",
    "    // global\n",
    "    // declared outside a method, but within a class\n",
    "    // visible to all parts of a class\n",
    "    Random random;\n",
    "    int number;\n",
    "    DiceRoller() {\n",
    "        random = new Random();\n",
    "        roll();\n",
    "\n",
    "    // local\n",
    "    // declared inside a method\n",
    "    // visible only to method\n",
    "       // Random random = new Random();\n",
    "       // int number = 0;\n",
    "       // roll(random, number);\n",
    "    }\n",
    "\n",
    "    // void roll(Random random, int num) {\n",
    "    //     number = random.nextInt(5) + num;\n",
    "    //     System.out.println(number);\n",
    "    // }\n",
    "    \n",
    "    void roll() {\n",
    "        number = random.nextInt(5) + 1;\n",
    "        System.out.println(number);\n",
    "    }\n",
    "}"
   ]
  },
  {
   "cell_type": "code",
   "execution_count": null,
   "id": "1286de6e-9af0-4740-8e9d-92ee894e143e",
   "metadata": {},
   "outputs": [],
   "source": [
    "for (int i = 0; i < 20; i++) {\n",
    "    DiceRoller diceRoller = new DiceRoller();\n",
    "    // diceRoller.roll(new Random(), 10);\n",
    "}"
   ]
  },
  {
   "cell_type": "markdown",
   "id": "f1bcf23d-9b7d-4a4b-ab6c-a6625bda8371",
   "metadata": {},
   "source": [
    "---"
   ]
  },
  {
   "cell_type": "markdown",
   "id": "84cf46e0-ff2f-4613-8f93-0d6ad8f1e992",
   "metadata": {
    "jp-MarkdownHeadingCollapsed": true
   },
   "source": [
    "# Aggregation"
   ]
  },
  {
   "cell_type": "markdown",
   "id": "c822db2f-3fdc-4e87-9ca0-7f69145a260a",
   "metadata": {},
   "source": [
    "- Aggregation\n",
    "```mermaid\n",
    "classDiagram\n",
    "    College o-- Student\n",
    "    College o-- Teacher\n",
    "```"
   ]
  },
  {
   "cell_type": "code",
   "execution_count": null,
   "id": "0cc78e8d-df00-4be1-ac35-0781632fbf02",
   "metadata": {},
   "outputs": [],
   "source": [
    "class Student {\n",
    "\n",
    "\t// Attributes of student\n",
    "\tString name;\n",
    "\tint id;\n",
    "\tString dept;\n",
    "\n",
    "\t// Constructor of student class\n",
    "\tStudent(String name, int id, String dept) {\n",
    "\t\t// This keyword refers to current instance itself\n",
    "\t\tthis.name = name;\n",
    "\t\tthis.id = id;\n",
    "\t\tthis.dept = dept;\n",
    "\t}\n",
    "}\n",
    "\n",
    "// Class 2\n",
    "// Department class contains list of student objects\n",
    "// It is associated with student class through its Objects\n",
    "class Department {\n",
    "\t// Attributes of Department class\n",
    "\tString name;\n",
    "\tprivate List<Student> students;\n",
    "\n",
    "\tDepartment(String name, List<Student> students) {\n",
    "\t\t// this keyword refers to current instance itself\n",
    "\t\tthis.name = name;\n",
    "\t\tthis.students = students;\n",
    "\t}\n",
    "\n",
    "\t// Method of Department class\n",
    "\tpublic List<Student> getStudents() {\n",
    "\t\t// Returning list of user defined type\n",
    "\t\t// Student type\n",
    "\t\treturn students;\n",
    "\t}\n",
    "}\n",
    "\n",
    "// Class 3\n",
    "//  Institute class contains list of Department\n",
    "// Objects. It is associated with Department\n",
    "// class through its Objects\n",
    "class Institute {\n",
    "\n",
    "\t// Attributes of Institute\n",
    "\tString instituteName;\n",
    "\tprivate List<Department> departments;\n",
    "\n",
    "\t// Constructor of institute class\n",
    "\tInstitute(String instituteName, List<Department> departments) {\n",
    "\t\t// This keyword refers to current instance itself\n",
    "\t\tthis.instituteName = instituteName;\n",
    "\t\tthis.departments = departments;\n",
    "\t}\n",
    "\n",
    "\t// Method of Institute class\n",
    "\t// Counting total students of all departments\n",
    "\t// in a given institute\n",
    "\tpublic int getTotalStudentsInInstitute() {\n",
    "\t\tint noOfStudents = 0;\n",
    "\t\tList<Student> students;\n",
    "\n",
    "\t\tfor (Department dept : departments) {\n",
    "\t\t\tstudents = dept.getStudents();\n",
    "\n",
    "\t\t\tfor (Student s : students) {\n",
    "\t\t\t\tnoOfStudents++;\n",
    "\t\t\t}\n",
    "\t\t}\n",
    "\t\treturn noOfStudents;\n",
    "\t}\n",
    "}"
   ]
  },
  {
   "cell_type": "code",
   "execution_count": null,
   "id": "f9cb8ab6-d988-4f31-89f9-46fbd1254b78",
   "metadata": {},
   "outputs": [],
   "source": [
    "// Creating object of Student class inside main()\n",
    "Student s1 = new Student(\"Mia\", 1, \"CSE\");\n",
    "Student s2 = new Student(\"Priya\", 2, \"CSE\");\n",
    "Student s3 = new Student(\"John\", 1, \"EE\");\n",
    "Student s4 = new Student(\"Rahul\", 2, \"EE\");\n",
    "\n",
    "// Creating a List of CSE Students\n",
    "List<Student> cse_students = new ArrayList<Student>();\n",
    "\n",
    "// Adding CSE students\n",
    "cse_students.add(s1);\n",
    "cse_students.add(s2);\n",
    "\n",
    "// Creating a List of EE Students\n",
    "List<Student> ee_students = new ArrayList<Student>();\n",
    "\n",
    "// Adding EE students\n",
    "ee_students.add(s3);\n",
    "ee_students.add(s4);\n",
    "\n",
    "// Creating objects of EE and CSE class inside\n",
    "// main()\n",
    "Department CSE = new Department(\"CSE\", cse_students);\n",
    "Department EE = new Department(\"EE\", ee_students);\n",
    "\n",
    "List<Department> departments = new ArrayList<Department>();\n",
    "departments.add(CSE);\n",
    "departments.add(EE);\n",
    "\n",
    "// Lastly creating an instance of Institute\n",
    "Institute institute = new Institute(\"BITS\", departments);\n",
    "\n",
    "// Display message for better readability\n",
    "// Calling method to get total number of students\n",
    "// in institute and printing on console\n",
    "System.out.printf(\"Total students in institute: %s\", institute.getTotalStudentsInInstitute());"
   ]
  },
  {
   "cell_type": "markdown",
   "id": "5c75760c-57dd-467f-9076-9427ad2e89e0",
   "metadata": {},
   "source": [
    "---"
   ]
  },
  {
   "cell_type": "markdown",
   "id": "15ac4f03-3b2b-43b7-ab64-9eaed1026c02",
   "metadata": {
    "jp-MarkdownHeadingCollapsed": true
   },
   "source": [
    "# Association"
   ]
  },
  {
   "cell_type": "markdown",
   "id": "d71838de-49b5-4805-90ef-82672736eae6",
   "metadata": {},
   "source": [
    "one-to-many relationship\n",
    "```mermaid\n",
    "flowchart LR\n",
    "    B[Bank]\n",
    "    Emp1[Employee_1]\n",
    "    Emp2[Employee_2]\n",
    "    Emp3[Employee_3]\n",
    "    \n",
    "    B ---- Emp1\n",
    "    B ---- Emp2\n",
    "    B ---- Emp3\n",
    "```"
   ]
  },
  {
   "cell_type": "code",
   "execution_count": null,
   "id": "57cbd716-6b74-4a65-a31e-24d74a8f5489",
   "metadata": {},
   "outputs": [],
   "source": [
    "public class Bank {\n",
    "\t// Attributes of bank\n",
    "\tprivate String name;\n",
    "\n",
    "\tprivate Set<Employee> employees;\n",
    "\n",
    "\t// Constructor of this class\n",
    "\tBank(String name) {\n",
    "\t\t// this keyword refers to current instance itself\n",
    "\t\tthis.name = name;\n",
    "\t}\n",
    "\n",
    "\t// Method of Bank class\n",
    "\tpublic String getBankName() {\n",
    "\t\t// Returning name of bank\n",
    "\t\treturn this.name;\n",
    "\t}\n",
    "\n",
    "\tpublic void setEmployees(Set<Employee> employees) {\n",
    "\t\tthis.employees = employees;\n",
    "\t}\n",
    "\n",
    "\tpublic Set<Employee>\n",
    "\tgetEmployees(Set<Employee> employees) {\n",
    "\t\treturn this.employees;\n",
    "\t}\n",
    "}\n",
    "\n",
    "// Class 2\n",
    "// Employee class\n",
    "public class Employee {\n",
    "\t// Attributes of employee\n",
    "\tprivate String name;\n",
    "\n",
    "\t// Employee name\n",
    "\tEmployee(String name) {\n",
    "\t\t// This keyword refers to current instance itself\n",
    "\t\tthis.name = name;\n",
    "\t}\n",
    "\n",
    "\t// Method of Employee class\n",
    "\tpublic String getEmployeeName() {\n",
    "\t\t// returning the name of employee\n",
    "\t\treturn this.name;\n",
    "\t}\n",
    "}"
   ]
  },
  {
   "cell_type": "code",
   "execution_count": null,
   "id": "85fccc53-c3c1-4e0c-881e-382884406fe6",
   "metadata": {},
   "outputs": [],
   "source": [
    "// Creating objects of bank and Employee class\n",
    "Bank bank = new Bank(\"LCorp\");\n",
    "Employee employee = new Employee(\"Emp 1\");\n",
    "\n",
    "Set<Employee> employees = new HashSet<>();\n",
    "employees.add(employee);\n",
    "\n",
    "bank.setEmployees(employees);\n",
    "\n",
    "System.out.printf(\"\"\"\n",
    "        %s belongs to bank %s\n",
    "        \"\"\", employee.getEmployeeName(), bank.getBankName());"
   ]
  },
  {
   "cell_type": "markdown",
   "id": "fae1771b-6cf2-4337-a1f8-38dc0da236a3",
   "metadata": {},
   "source": [
    "---"
   ]
  },
  {
   "cell_type": "markdown",
   "id": "b239b0f1-dccd-46ac-bc61-8d574ec887b0",
   "metadata": {
    "jp-MarkdownHeadingCollapsed": true
   },
   "source": [
    "# Composition"
   ]
  },
  {
   "cell_type": "markdown",
   "id": "71e7af5e-3e17-4e9c-bdcf-e7f835817f88",
   "metadata": {},
   "source": [
    "## Demo1\n",
    "```mermaid\n",
    "classDiagram\n",
    "    Vehicle *-- Engine\n",
    "    Vehicle *-- Tyre\n",
    "```"
   ]
  },
  {
   "cell_type": "code",
   "execution_count": null,
   "id": "2f8409dd-0889-45b2-95a0-5fc926289ce0",
   "metadata": {},
   "outputs": [],
   "source": [
    "public class Book {\n",
    "\n",
    "\t// Attributes of book\n",
    "\tpublic String title;\n",
    "\tpublic String author;\n",
    "\n",
    "\t// Constructor of Book class\n",
    "\tBook(String title, String author) {\n",
    "\n",
    "\t\t// This keyword refers to current instance itself\n",
    "\t\tthis.title = title;\n",
    "\t\tthis.author = author;\n",
    "\t}\n",
    "}\n",
    "\n",
    "// Class 2\n",
    "public class Library {\n",
    "\n",
    "\t// Reference to refer to list of books\n",
    "\tprivate final List<Book> books;\n",
    "\n",
    "\t// Library class contains list of books\n",
    "\tLibrary(List<Book> books) {\n",
    "\n",
    "\t\t// Referring to same book as\n",
    "\t\t// this keyword refers to same instance itself\n",
    "\t\tthis.books = books;\n",
    "\t}\n",
    "\n",
    "\t// Method\n",
    "\t// To get total number of books in library\n",
    "\tpublic List<Book> getTotalBooksInLibrary() {\n",
    "\t\treturn books;\n",
    "\t}\n",
    "}"
   ]
  },
  {
   "cell_type": "code",
   "execution_count": null,
   "id": "126d6d97-366b-4d58-95c8-5a87c38ea7e6",
   "metadata": {},
   "outputs": [],
   "source": [
    "// Creating objects of Book class inside main()\n",
    "// method Custom inputs\n",
    "Book b1 = new Book(\"EffectiveJ Java\", \"Joshua Bloch\");\n",
    "Book b2 = new Book(\"Thinking in Java\", \"Bruce Eckel\");\n",
    "Book b3 = new Book(\"Java: The Complete Reference\", \"Herbert Schildt\");\n",
    "\n",
    "// Creating the list which contains number of books\n",
    "List<Book> books = new ArrayList<Book>();\n",
    "\n",
    "// Adding books\n",
    "// using add() method\n",
    "books.add(b1);\n",
    "books.add(b2);\n",
    "books.add(b3);\n",
    "\n",
    "Library library = new Library(books);\n",
    "\n",
    "// Calling method to get total books in library\n",
    "// and storing it in list of user0defined type - Books\n",
    "List<Book> bks = library.getTotalBooksInLibrary();\n",
    "\n",
    "// Iterating over books using for each loop\n",
    "for (Book bk : bks) {\n",
    "    // Printing the title and author name of book on console\n",
    "    System.out.printf(\"\"\"\n",
    "            Title : %s and Author : %s\n",
    "            \"\"\", bk.title, bk.author);\n",
    "}"
   ]
  },
  {
   "cell_type": "markdown",
   "id": "693aca8b-f913-4c07-a2ee-2d00196faf80",
   "metadata": {},
   "source": [
    "## Demo2\n",
    "- Preferred"
   ]
  },
  {
   "cell_type": "code",
   "execution_count": null,
   "id": "113eb07d-c7c6-41a4-b71e-011fb72042bd",
   "metadata": {},
   "outputs": [],
   "source": [
    "// Class 1\n",
    "// Engine class which will be used by car.'\n",
    "// so 'Car' class will have a field of Engine type.\n",
    "public class Engine {\n",
    "\t// Method to starting an engine\n",
    "\tpublic void work() {\n",
    "\t\t// Print statement whenever this method is called\n",
    "\t\tSystem.out.println(\"Engine of car has been started \");\n",
    "\t}\n",
    "}\n",
    "\n",
    "// Class 2\n",
    "// Engine class\n",
    "public class Car {\n",
    "\n",
    "\t// For a car to move, it needs to have an engine.\n",
    "\t// Composition\n",
    "\tprivate final Engine engine;\n",
    "\n",
    "\t// Constructor of this class\n",
    "\tCar(Engine engine) {\n",
    "\t\t// This keywords refers to same instance\n",
    "\t\tthis.engine = engine;\n",
    "\t}\n",
    "\n",
    "\t// Method\n",
    "\t// Car start moving by starting engine\n",
    "\tpublic void move() {\n",
    "\t\tif (engine != null) {\n",
    "\t\t\t// Calling method for working of engine\n",
    "\t\t\tengine.work();\n",
    "\n",
    "\t\t\t// Print statement\n",
    "\t\t\tSystem.out.println(\"Car is moving \");\n",
    "\t\t}\n",
    "\t}\n",
    "}"
   ]
  },
  {
   "cell_type": "code",
   "execution_count": null,
   "id": "b46431b2-2b8e-46fa-9b5f-9340bbb03fe2",
   "metadata": {},
   "outputs": [],
   "source": [
    "// Making an engine by creating an instance of Engine class.\n",
    "Engine engine = new Engine();\n",
    "\n",
    "// Making a car with engine so we are passing a engine instance as an argument\n",
    "// while creating instance of Car\n",
    "Car car = new Car(engine);\n",
    "\n",
    "// Making car to move by calling move() method inside main()\n",
    "car.move();"
   ]
  },
  {
   "cell_type": "markdown",
   "id": "60857063-bff5-4241-b420-77c50f6cea3f",
   "metadata": {},
   "source": [
    "## Demo3"
   ]
  },
  {
   "cell_type": "code",
   "execution_count": null,
   "id": "418370cf-fa0c-45f3-9892-dad8d4487893",
   "metadata": {},
   "outputs": [],
   "source": [
    "public class Engine {\n",
    "\tpublic void start() {\n",
    "\t\tSystem.out.println(\"Engine started\");\n",
    "\t}\n",
    "\n",
    "\tpublic void stop() {\n",
    "\t\tSystem.out.println(\"Engine stopped\");\n",
    "\t}\n",
    "}\n",
    "public class Car {\n",
    "\tprivate Engine engine;\n",
    "\n",
    "\tpublic Car() {\n",
    "\t\tengine = new Engine(); // Composition: Car \"has\" an Engine\n",
    "\t}\n",
    "\n",
    "\tpublic void startCar() {\n",
    "\t\tengine.start(); // Delegating the start operation to the Engine\n",
    "\t}\n",
    "\n",
    "\tpublic void stopCar() {\n",
    "\t\tengine.stop(); // Delegating the stop operation to the Engine\n",
    "\t}\n",
    "}"
   ]
  },
  {
   "cell_type": "code",
   "execution_count": null,
   "id": "4489beab-02a0-4ccb-9c0a-dca93d1d7c09",
   "metadata": {},
   "outputs": [],
   "source": [
    "Car myCar = new Car();\n",
    "myCar.startCar();\n",
    "myCar.stopCar();"
   ]
  },
  {
   "cell_type": "markdown",
   "id": "44ccefd9-c3d3-4609-8ca1-bd4fad3b6ac5",
   "metadata": {},
   "source": [
    "---"
   ]
  },
  {
   "cell_type": "markdown",
   "id": "2893a915-a799-4976-9c58-e1031f3a3a43",
   "metadata": {},
   "source": [
    "# Couplinght"
   ]
  },
  {
   "cell_type": "markdown",
   "id": "685e6699-c955-475c-90de-2b16dba09f29",
   "metadata": {},
   "source": [
    "### Tight"
   ]
  },
  {
   "cell_type": "code",
   "execution_count": null,
   "id": "5e8e2550-fbda-469b-bb0f-66b0c6266711",
   "metadata": {},
   "outputs": [],
   "source": [
    "public class XMLFetch {\n",
    "\tpublic List<Object> fetchMetadata() {\n",
    "\t\tSystem.out.println(\"Fetch Metadata From XML ...\");\n",
    "\t\tList<Object> metadata = new ArrayList<>();\n",
    "\t\treturn metadata;\n",
    "\t}\n",
    "}\n",
    "public class JSONFetch {\n",
    "\tpublic List<Object> fetchMetadata() {\n",
    "\t\tSystem.out.println(\"Fetch Metadata From JSON ...\");\n",
    "\t\tList<Object> metadata = new ArrayList<>();\n",
    "\t\treturn metadata;\n",
    "\t}\n",
    "}"
   ]
  },
  {
   "cell_type": "code",
   "execution_count": null,
   "id": "636b70f3-cf25-4fc3-86a7-f60f024376c0",
   "metadata": {},
   "outputs": [],
   "source": [
    "public class CSVExport {\n",
    "\tpublic File export(List<Object> metadata) {\n",
    "\t\tSystem.out.println(\"Exporting data to CSV...\");\n",
    "\t\tFile outputCSV = null;\n",
    "\t\treturn outputCSV;\n",
    "\t}\n",
    "}\n",
    "public class PDFExport {\n",
    "\tpublic File export(List<Object> metadata) {\n",
    "\t\tSystem.out.println(\"Exporting data to PDF...\");\n",
    "\t\tFile outputPDF = null;\n",
    "\t\treturn outputPDF;\n",
    "\t}\n",
    "}"
   ]
  },
  {
   "cell_type": "code",
   "execution_count": null,
   "id": "f4284b37-05ad-45d7-a14d-722f37b97254",
   "metadata": {},
   "outputs": [],
   "source": [
    "public class MetadataCollector {\n",
    "\tprivate XMLFetch xmlFetch = new XMLFetch();\n",
    "\tprivate JSONFetch jsonFetch = new JSONFetch();\n",
    "\tprivate CSVExport csvExport = new CSVExport();\n",
    "\tprivate PDFExport pdfExport = new PDFExport();\n",
    "\t;\n",
    "\tpublic void collectMetadata() {\n",
    "\t\tSystem.out.println(\"Collect data from xml, then export to csv...\");\n",
    "\t\tList<Object> metadata = xmlFetch.fetchMetadata();\n",
    "\t\tcsvExport.export(metadata);\n",
    "\t}\n",
    "\n",
    "\tpublic void collectMetadata(int inputType, int outputType) {\n",
    "\t\tif (outputType == 1) {\n",
    "\t\t\tList<Object> metadata = null;\n",
    "\t\t\tif (inputType == 1) {\n",
    "\t\t\t\tmetadata = xmlFetch.fetchMetadata();\n",
    "\t\t\t} else {\n",
    "\t\t\t\tmetadata = jsonFetch.fetchMetadata();\n",
    "\t\t\t}\n",
    "\t\t\tcsvExport.export(metadata);\n",
    "\t\t} else {\n",
    "\t\t\tList<Object> metadata = null;\n",
    "\t\t\tif (inputType == 1) {\n",
    "\t\t\t\tmetadata = xmlFetch.fetchMetadata();\n",
    "\t\t\t} else {\n",
    "\t\t\t\tmetadata = jsonFetch.fetchMetadata();\n",
    "\t\t\t}\n",
    "\t\t\tpdfExport.export(metadata);\n",
    "\t\t}\n",
    "\t}\n",
    "}"
   ]
  },
  {
   "cell_type": "code",
   "execution_count": null,
   "id": "328caed6-2b87-4d5c-bca0-71cdb330280c",
   "metadata": {},
   "outputs": [],
   "source": [
    "MetadataCollector metadataCollector = new MetadataCollector();\n",
    "metadataCollector.collectMetadata();"
   ]
  },
  {
   "cell_type": "markdown",
   "id": "1de43a1d-bb2d-45ce-8e92-77ffc52c5cfa",
   "metadata": {},
   "source": [
    "### Loose\n"
   ]
  },
  {
   "cell_type": "markdown",
   "id": "05ff66b0-f984-4f51-9ee5-65888981b0de",
   "metadata": {},
   "source": [
    "#### interface"
   ]
  },
  {
   "cell_type": "code",
   "execution_count": 2,
   "id": "5b281736-6634-4ca4-80fe-548404458c59",
   "metadata": {},
   "outputs": [],
   "source": [
    "public interface L_FetchMetadata {\n",
    "\tList<Object> extractMetadata();\n",
    "}\n",
    "public interface L_ExportMetadata {\n",
    "\tFile export(List<Object> metadata);\n",
    "}"
   ]
  },
  {
   "cell_type": "markdown",
   "id": "2355fc96-21e3-4f27-acef-76fb73541707",
   "metadata": {},
   "source": [
    "#### Concrete"
   ]
  },
  {
   "cell_type": "code",
   "execution_count": 3,
   "id": "f7415ca6-3c7d-4775-834e-be580cc13bb3",
   "metadata": {},
   "outputs": [],
   "source": [
    "public class L_JSONFetch implements L_FetchMetadata {\n",
    "\t@Override\n",
    "\tpublic List<Object> extractMetadata() {\n",
    "\t\tSystem.out.println(\"Fetch Metadata From JSON ...\");\n",
    "\t\tList<Object> metadata = new ArrayList<>();\n",
    "\t\treturn metadata;\n",
    "\t}\n",
    "}\n",
    "public class L_XMLFetch implements L_FetchMetadata {\n",
    "\t@Override\n",
    "\tpublic List<Object> extractMetadata() {\n",
    "\t\tSystem.out.println(\"Fetch Metadata From XML ...\");\n",
    "\t\tList<Object> metadata = new ArrayList<>();\n",
    "\t\treturn metadata;\n",
    "\t}\n",
    "}"
   ]
  },
  {
   "cell_type": "code",
   "execution_count": 4,
   "id": "33bc9a87-d71c-403d-a1f1-a6656f4e562e",
   "metadata": {},
   "outputs": [],
   "source": [
    "public class L_CSVExport implements L_ExportMetadata {\n",
    "\t@Override\n",
    "\tpublic File export(List<Object> metadata) {\n",
    "\t\tSystem.out.println(\"Exporting data to CSV...\");\n",
    "\t\tFile outputCSV = null;\n",
    "\t\treturn outputCSV;\n",
    "\t}\n",
    "}\n",
    "public class L_PDFExport implements L_ExportMetadata {\n",
    "\t@Override\n",
    "\tpublic File export(List<Object> metadata) {\n",
    "\t\tSystem.out.println(\"Exporting data to PDF...\");\n",
    "\t\tFile outputPDF = null;\n",
    "\t\treturn outputPDF;\n",
    "\t}\n",
    "}"
   ]
  },
  {
   "cell_type": "code",
   "execution_count": 5,
   "id": "bc3e4da1-f191-4db0-9d26-2809672426a5",
   "metadata": {},
   "outputs": [],
   "source": [
    "public class L_MetadataCollector {\n",
    "\n",
    "\tprivate L_FetchMetadata fetchMetadata;\n",
    "\tprivate L_ExportMetadata exportMetadata;\n",
    "\n",
    "\tpublic L_MetadataCollector(L_FetchMetadata fetchMetadata, L_ExportMetadata exportMetadata) {\n",
    "\t\tthis.fetchMetadata = fetchMetadata;\n",
    "\t\tthis.exportMetadata = exportMetadata;\n",
    "\t}\n",
    "\n",
    "\tpublic void collectMetadata(){\n",
    "\t\tList<Object> metadata = fetchMetadata.extractMetadata();\n",
    "\t\texportMetadata.export(metadata);\n",
    "\t}\n",
    "\n",
    "\tpublic L_FetchMetadata getFetchMetadata() {\n",
    "\t\treturn fetchMetadata;\n",
    "\t}\n",
    "\n",
    "\tpublic void setFetchMetadata(L_FetchMetadata fetchMetadata) {\n",
    "\t\tthis.fetchMetadata = fetchMetadata;\n",
    "\t}\n",
    "\n",
    "\tpublic L_ExportMetadata getExportMetadata() {\n",
    "\t\treturn exportMetadata;\n",
    "\t}\n",
    "\n",
    "\tpublic void setExportMetadata(L_ExportMetadata exportMetadata) {\n",
    "\t\tthis.exportMetadata = exportMetadata;\n",
    "\t}\n",
    "}"
   ]
  },
  {
   "cell_type": "markdown",
   "id": "6c65a233-ee97-446a-90b9-f80905ef475d",
   "metadata": {},
   "source": [
    "#### Main"
   ]
  },
  {
   "cell_type": "code",
   "execution_count": 6,
   "id": "a96a2a4e-66e5-472f-825a-d18686aa4551",
   "metadata": {},
   "outputs": [
    {
     "name": "stdout",
     "output_type": "stream",
     "text": [
      "Fetch Metadata From XML ...\n",
      "Exporting data to PDF...\n",
      "Fetch Metadata From XML ...\n",
      "Exporting data to CSV...\n",
      "Fetch Metadata From JSON ...\n",
      "Exporting data to PDF...\n",
      "Fetch Metadata From JSON ...\n",
      "Exporting data to CSV...\n"
     ]
    }
   ],
   "source": [
    "L_MetadataCollector mc1 = new L_MetadataCollector(new L_XMLFetch(), new L_PDFExport());\n",
    "mc1.collectMetadata();\n",
    "L_MetadataCollector mc2 = new L_MetadataCollector(new L_XMLFetch(), new L_CSVExport());\n",
    "mc2.collectMetadata();\n",
    "L_MetadataCollector mc3 = new L_MetadataCollector(new L_JSONFetch(), new L_PDFExport());\n",
    "mc3.collectMetadata();\n",
    "L_MetadataCollector mc4 = new L_MetadataCollector(new L_JSONFetch(), new L_CSVExport());\n",
    "mc4.collectMetadata();"
   ]
  },
  {
   "cell_type": "markdown",
   "id": "1c30f19a-c2b6-4147-90a2-ee69caeba205",
   "metadata": {},
   "source": [
    "---"
   ]
  }
 ],
 "metadata": {
  "kernelspec": {
   "display_name": "Java",
   "language": "java",
   "name": "java"
  },
  "language_info": {
   "codemirror_mode": "java",
   "file_extension": ".jshell",
   "mimetype": "text/x-java-source",
   "name": "Java",
   "pygments_lexer": "java",
   "version": "17.0.9+8-LTS"
  },
  "widgets": {
   "application/vnd.jupyter.widget-state+json": {
    "state": {},
    "version_major": 2,
    "version_minor": 0
   }
  }
 },
 "nbformat": 4,
 "nbformat_minor": 5
}
