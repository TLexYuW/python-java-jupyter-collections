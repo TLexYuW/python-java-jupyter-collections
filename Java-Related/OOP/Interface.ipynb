{
 "cells": [
  {
   "cell_type": "markdown",
   "id": "b9cb0f41-7baa-4e65-8032-e118be212fb0",
   "metadata": {},
   "source": [
    "# Dependency"
   ]
  },
  {
   "cell_type": "code",
   "execution_count": 2,
   "id": "42f0a5ba-b790-4a67-b4c1-2d701ad6964e",
   "metadata": {},
   "outputs": [],
   "source": [
    "// code"
   ]
  },
  {
   "cell_type": "markdown",
   "id": "87cf8685-e601-422d-93d7-27000a76e051",
   "metadata": {},
   "source": [
    "---"
   ]
  },
  {
   "cell_type": "markdown",
   "id": "9264c3fe-f9e9-4654-b6f5-c4a9c8d86321",
   "metadata": {
    "jp-MarkdownHeadingCollapsed": true
   },
   "source": [
    "# Import"
   ]
  },
  {
   "cell_type": "code",
   "execution_count": 1,
   "id": "33084862-5959-4c49-89d4-2ee0675e77e8",
   "metadata": {},
   "outputs": [],
   "source": [
    "import static java.lang.System.out;"
   ]
  },
  {
   "cell_type": "markdown",
   "id": "4c517b64-0ed3-4d2a-aa0b-316e07d683b0",
   "metadata": {},
   "source": [
    "---"
   ]
  },
  {
   "cell_type": "markdown",
   "id": "2d745009-8ae0-49cc-83d1-d8516c4ddbae",
   "metadata": {},
   "source": [
    "# TOC"
   ]
  },
  {
   "cell_type": "markdown",
   "id": "e8436ab1-3335-4c08-885c-3068793fbcad",
   "metadata": {},
   "source": [
    "- interface\n",
    "- abstract class"
   ]
  },
  {
   "cell_type": "markdown",
   "id": "b0fde003-ca9d-408f-aa12-bb9124fc757d",
   "metadata": {},
   "source": [
    "---"
   ]
  },
  {
   "cell_type": "markdown",
   "id": "0dde8efe-37a3-4fc9-9dd2-5dec2c39c0ed",
   "metadata": {},
   "source": [
    "# Setup\n",
    "- [Model](#Model)\n",
    "- [Utils](#Utils)"
   ]
  },
  {
   "cell_type": "markdown",
   "id": "0776e5ab-c46c-488a-9459-f200c75289cc",
   "metadata": {
    "jp-MarkdownHeadingCollapsed": true
   },
   "source": [
    "## Model"
   ]
  },
  {
   "cell_type": "code",
   "execution_count": null,
   "id": "c145ae02-9a9c-4214-ae25-3d54079174bc",
   "metadata": {},
   "outputs": [],
   "source": []
  },
  {
   "cell_type": "markdown",
   "id": "ee616508-8f2f-4a16-8111-1a77d406839c",
   "metadata": {},
   "source": [
    "## Utils"
   ]
  },
  {
   "cell_type": "code",
   "execution_count": null,
   "id": "eacf812b-36b9-4808-8244-5d224e3e91c6",
   "metadata": {},
   "outputs": [],
   "source": []
  },
  {
   "cell_type": "markdown",
   "id": "4cbf06f9-ea84-4d5a-b65d-5c50e8e4f83f",
   "metadata": {},
   "source": [
    "---"
   ]
  },
  {
   "cell_type": "markdown",
   "id": "33f055e2-673e-41c2-98df-760c84c012c7",
   "metadata": {},
   "source": [
    "# interface\n",
    "> a template that can be applied to class.\n",
    ">\n",
    "> similar to inheritance, but specifies what a class has/must do.\n",
    "> \n",
    "> classes can apply more than one interface, inheritance is limited to 1 super"
   ]
  },
  {
   "cell_type": "markdown",
   "id": "41a597bc-7c8f-4959-a30c-b3e04c78e6d1",
   "metadata": {},
   "source": [
    "## Demo1"
   ]
  },
  {
   "cell_type": "code",
   "execution_count": 1,
   "id": "0371be95-cf0b-4ec2-875b-2ace8504468e",
   "metadata": {},
   "outputs": [],
   "source": [
    "public interface Predator {\n",
    "    void hunt();\n",
    "}\n",
    "public interface Prey {\n",
    "    void flee();\n",
    "}"
   ]
  },
  {
   "cell_type": "code",
   "execution_count": 2,
   "id": "64537741-21fe-488f-94b7-43c89908402a",
   "metadata": {},
   "outputs": [],
   "source": [
    "public class Hawk implements Predator{\n",
    "    @Override\n",
    "    public void hunt() {\n",
    "        System.out.println(\"The Hawk is hunting\");\n",
    "    }\n",
    "}"
   ]
  },
  {
   "cell_type": "code",
   "execution_count": 3,
   "id": "fa9c64a6-48e2-428d-9795-8d47764f672d",
   "metadata": {},
   "outputs": [],
   "source": [
    "public class Fish implements Prey, Predator{\n",
    "    @Override\n",
    "    public void hunt() {\n",
    "        System.out.println(\"The Fish is hunting smaller fish\");\n",
    "    }\n",
    "\n",
    "    @Override\n",
    "    public void flee() {\n",
    "        System.out.println(\"The Fish is fleeing from bigger fish\");\n",
    "    }\n",
    "}"
   ]
  },
  {
   "cell_type": "code",
   "execution_count": 4,
   "id": "e4f0c2e3-ae9d-4b90-b206-077ca4250e56",
   "metadata": {},
   "outputs": [],
   "source": [
    "public class Rabbit implements Prey{\n",
    "    @Override\n",
    "    public void flee() {\n",
    "        System.out.println(\"The rabbit is fleeing\");\n",
    "    }\n",
    "}"
   ]
  },
  {
   "cell_type": "code",
   "execution_count": 5,
   "id": "fef91bb5-ed76-41c5-be64-6b88b04775ed",
   "metadata": {},
   "outputs": [
    {
     "name": "stdout",
     "output_type": "stream",
     "text": [
      "The rabbit is fleeing\n",
      "The Hawk is hunting\n",
      "The Fish is hunting smaller fish\n",
      "The Fish is fleeing from bigger fish\n"
     ]
    }
   ],
   "source": [
    "Rabbit rabbit = new Rabbit();\n",
    "rabbit.flee();\n",
    "\n",
    "Hawk hawk = new Hawk();\n",
    "hawk.hunt();\n",
    "\n",
    "Fish fish = new Fish();\n",
    "fish.hunt();\n",
    "fish.flee();"
   ]
  },
  {
   "cell_type": "markdown",
   "id": "cc7dc4c7-128c-40bc-80df-5bad0deec50c",
   "metadata": {
    "jp-MarkdownHeadingCollapsed": true
   },
   "source": [
    "## Demo2"
   ]
  },
  {
   "cell_type": "code",
   "execution_count": 2,
   "id": "eb7262b9-b2a2-4176-bd05-24056bec7c8b",
   "metadata": {},
   "outputs": [],
   "source": [
    "public interface A {\n",
    "\tpublic static final String test = \"????\";\n",
    "\tvoid sample();\n",
    "\tvoid sum();\n",
    "}"
   ]
  },
  {
   "cell_type": "code",
   "execution_count": 3,
   "id": "915847fb-6009-4d99-95fd-769344513866",
   "metadata": {},
   "outputs": [],
   "source": [
    "public interface B {\n",
    "\n",
    "\t// public static final\n",
    "\tString test = \"1234567\";\n",
    "\tvoid sample();\n",
    "\tvoid sum(int x, int y);\n",
    "\n",
    "\tdefault void canUnimplemented() {\n",
    "\t\tSystem.out.println(test);\n",
    "\t}\n",
    "}"
   ]
  },
  {
   "cell_type": "code",
   "execution_count": 4,
   "id": "a6830186-bd2d-4130-b838-a3600269509d",
   "metadata": {},
   "outputs": [],
   "source": [
    "public class C implements A, B {\n",
    "\n",
    "\t@Override\n",
    "\tpublic void sample() {\n",
    "\t\tSystem.out.println(\"sample from c\");\n",
    "\t}\n",
    "\n",
    "\t@Override\n",
    "\tpublic void sum(int x, int y) {\n",
    "\t\tSystem.out.println((x + y));\n",
    "\t}\n",
    "\n",
    "\t@Override\n",
    "\tpublic void sum() {\n",
    "\t\tSystem.out.println(\"Empty\");\n",
    "\t}\n",
    "\n",
    "\t@Override\n",
    "\tpublic void canUnimplemented() {\n",
    "\t\tB.super.canUnimplemented();\n",
    "\t}\n",
    "}"
   ]
  },
  {
   "cell_type": "code",
   "execution_count": 6,
   "id": "4666ac6c-e922-4052-bfe8-77161ebc48b4",
   "metadata": {},
   "outputs": [
    {
     "name": "stdout",
     "output_type": "stream",
     "text": [
      "sample from c\n",
      "5\n",
      "Empty\n",
      "1234567\n"
     ]
    }
   ],
   "source": [
    "// A a = new A(); // 'A' is abstract; cannot be instantiated\n",
    "\n",
    "C c = new C();\n",
    "\n",
    "c.sample();\n",
    "\n",
    "c.sum(2,3);\n",
    "\n",
    "c.sum();\n",
    "\n",
    "c.canUnimplemented();"
   ]
  },
  {
   "cell_type": "markdown",
   "id": "5aa1b3da-85ca-4851-af1a-d70d6545a467",
   "metadata": {},
   "source": [
    "---"
   ]
  },
  {
   "cell_type": "markdown",
   "id": "93330873-829b-44f9-93d1-96ff792d40a4",
   "metadata": {
    "jp-MarkdownHeadingCollapsed": true
   },
   "source": [
    "# Abstract"
   ]
  },
  {
   "cell_type": "code",
   "execution_count": 7,
   "id": "dc5f90c7-aac0-4f7e-a487-1c337504cc96",
   "metadata": {},
   "outputs": [],
   "source": [
    "public abstract class Animal {\n",
    "\n",
    "\t// can have fields\n",
    "\tprivate String test;\n",
    "\n",
    "\tpublic Animal() {\n",
    "\t}\n",
    "\n",
    "\t// can have constructor\n",
    "\tpublic Animal(String test) {\n",
    "\t\tthis.test = \"?????\";\n",
    "\t}\n",
    "\n",
    "\tpublic abstract void sound();\n",
    "\n",
    "\tpublic void move(){\n",
    "\t\tSystem.out.println(\"Moving...\");\n",
    "\t}\n",
    "\n",
    "\tpublic void canUnimplemented(){\n",
    "\n",
    "\t}\n",
    "}"
   ]
  },
  {
   "cell_type": "code",
   "execution_count": 8,
   "id": "bfc7b65f-3622-4aad-9e8b-0a99f8ed1be1",
   "metadata": {},
   "outputs": [],
   "source": [
    "public class Lion extends Animal {\n",
    "\tpublic Lion() {\n",
    "\t}\n",
    "\n",
    "\tpublic Lion(String test) {\n",
    "\t\tsuper(test);\n",
    "\t}\n",
    "\n",
    "\t@Override\n",
    "\tpublic void sound() {\n",
    "\t\tSystem.out.println(\"Roar ~~~\");\n",
    "\t}\n",
    "\n",
    "\t@Override\n",
    "\tpublic void move() {\n",
    "\t\tSystem.out.println(\"Lion Moving...\");\n",
    "\t}\n",
    "}"
   ]
  },
  {
   "cell_type": "code",
   "execution_count": 9,
   "id": "84fbde6a-64a4-4048-b5d2-fc659125e294",
   "metadata": {},
   "outputs": [
    {
     "name": "stdout",
     "output_type": "stream",
     "text": [
      "Roar ~~~\n",
      "Lion Moving...\n"
     ]
    }
   ],
   "source": [
    "Animal lion = new Lion();\n",
    "lion.sound();\n",
    "lion.move();"
   ]
  },
  {
   "cell_type": "code",
   "execution_count": null,
   "id": "803afb12-239a-4e44-9b3a-1ee9c2e807d5",
   "metadata": {},
   "outputs": [],
   "source": []
  }
 ],
 "metadata": {
  "kernelspec": {
   "display_name": "Java",
   "language": "java",
   "name": "java"
  },
  "language_info": {
   "codemirror_mode": "java",
   "file_extension": ".jshell",
   "mimetype": "text/x-java-source",
   "name": "Java",
   "pygments_lexer": "java",
   "version": "17.0.9+8-LTS"
  },
  "widgets": {
   "application/vnd.jupyter.widget-state+json": {
    "state": {},
    "version_major": 2,
    "version_minor": 0
   }
  }
 },
 "nbformat": 4,
 "nbformat_minor": 5
}
