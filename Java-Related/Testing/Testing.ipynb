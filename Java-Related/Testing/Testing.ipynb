{
 "cells": [
  {
   "cell_type": "markdown",
   "id": "03fcbbc0-cb15-48ba-8f36-da176ab60ef4",
   "metadata": {},
   "source": [
    "# Dependencies"
   ]
  },
  {
   "cell_type": "code",
   "execution_count": 1,
   "id": "83bf2f3a-762b-4de1-b8b9-04a56b608591",
   "metadata": {},
   "outputs": [],
   "source": [
    "%%loadFromPOM\n",
    "    <properties>\n",
    "        <junit-platform.version>5.3.1</junit-platform.version>\n",
    "    </properties>\n",
    "    <dependencies>\n",
    "        <dependency>\n",
    "            <groupId>org.junit.jupiter</groupId>\n",
    "            <artifactId>junit-jupiter-api</artifactId>\n",
    "            <version>5.3.1</version>\n",
    "        <!--    <scope>test</scope> -->\n",
    "        </dependency>\n",
    "        <dependency>\n",
    "            <groupId>org.junit.jupiter</groupId>\n",
    "            <artifactId>junit-jupiter-engine</artifactId>\n",
    "            <version>${junit-platform.version}</version>\n",
    "        <!--    <scope>test</scope> -->\n",
    "        </dependency>\n",
    "    </dependencies>\n",
    "    <build>\n",
    "        <plugins>\n",
    "            <plugin>\n",
    "                <groupId>org.apache.maven.plugins</groupId>\n",
    "                <artifactId>maven-compiler-plugin</artifactId>\n",
    "                <version>3.8.0</version>\n",
    "            </plugin>\n",
    "            <plugin>\n",
    "                <groupId>org.apache.maven.plugins</groupId>\n",
    "                <artifactId>maven-surefire-plugin</artifactId>\n",
    "                <version>2.22.0</version>\n",
    "                <configuration>\n",
    "                    <argLine>\n",
    "                        --illegal-access=permit\n",
    "                    </argLine>\n",
    "                </configuration>\n",
    "            </plugin>\n",
    "            <plugin>\n",
    "                <groupId>org.apache.maven.plugins</groupId>\n",
    "                <artifactId>maven-failsafe-plugin</artifactId>\n",
    "                <version>2.22.0</version>\n",
    "                <configuration>\n",
    "                    <argLine>\n",
    "                        --illegal-access=permit\n",
    "                    </argLine>\n",
    "                </configuration>\n",
    "            </plugin>\n",
    "        </plugins>\n",
    "    </build>"
   ]
  },
  {
   "cell_type": "markdown",
   "id": "2a43a476-982d-4fad-8c91-e163be3bae12",
   "metadata": {},
   "source": [
    "# Import"
   ]
  },
  {
   "cell_type": "code",
   "execution_count": null,
   "id": "b2d65910-d79c-4d77-9c30-07965a8c8b41",
   "metadata": {},
   "outputs": [],
   "source": [
    "// code"
   ]
  },
  {
   "cell_type": "markdown",
   "id": "8da835ae-4b87-4ad9-af6c-904a82f0499d",
   "metadata": {},
   "source": [
    "---"
   ]
  },
  {
   "cell_type": "markdown",
   "id": "564863e5-a24a-44b1-b1fb-8712b4bce3d9",
   "metadata": {},
   "source": [
    "# TOC"
   ]
  },
  {
   "cell_type": "code",
   "execution_count": null,
   "id": "bd763f26-b8af-4bf2-b833-ea1d99001e44",
   "metadata": {},
   "outputs": [],
   "source": [
    "// code"
   ]
  },
  {
   "cell_type": "markdown",
   "id": "ebd50e75-09c5-47e3-929d-4cab07a41af7",
   "metadata": {},
   "source": [
    "---"
   ]
  },
  {
   "cell_type": "markdown",
   "id": "41e27d80-afa1-465e-a3cc-a30c388282f9",
   "metadata": {},
   "source": [
    "# Setup"
   ]
  },
  {
   "cell_type": "code",
   "execution_count": null,
   "id": "14b80ea3-4154-4399-9b8f-a2cabfa1bc32",
   "metadata": {},
   "outputs": [],
   "source": [
    "// code"
   ]
  }
 ],
 "metadata": {
  "kernelspec": {
   "display_name": "Java",
   "language": "java",
   "name": "java"
  },
  "language_info": {
   "codemirror_mode": "java",
   "file_extension": ".jshell",
   "mimetype": "text/x-java-source",
   "name": "Java",
   "pygments_lexer": "java",
   "version": "17.0.6+10-jvmci-22.3-b13"
  },
  "widgets": {
   "application/vnd.jupyter.widget-state+json": {
    "state": {},
    "version_major": 2,
    "version_minor": 0
   }
  }
 },
 "nbformat": 4,
 "nbformat_minor": 5
}
