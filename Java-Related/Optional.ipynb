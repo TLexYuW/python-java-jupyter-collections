{
 "cells": [
  {
   "cell_type": "markdown",
   "id": "e12986fe-5f4e-4dd0-a55d-62669b8ad408",
   "metadata": {},
   "source": [
    "# Dependency"
   ]
  },
  {
   "cell_type": "code",
   "execution_count": 76,
   "id": "ae343569-7a75-4d02-bdaa-006239b4711b",
   "metadata": {},
   "outputs": [],
   "source": [
    "%%loadFromPOM\n",
    "<properties>\n",
    "    <junit-platform.version>5.3.1</junit-platform.version>\n",
    "</properties>\n",
    "<dependencies>\n",
    "    <dependency>\n",
    "        <groupId>org.junit.jupiter</groupId>\n",
    "        <artifactId>junit-jupiter-api</artifactId>\n",
    "        <version>5.3.1</version>\n",
    "    <!--    <scope>test</scope> -->\n",
    "    </dependency>\n",
    "    <dependency>\n",
    "        <groupId>org.junit.jupiter</groupId>\n",
    "        <artifactId>junit-jupiter-engine</artifactId>\n",
    "        <version>${junit-platform.version}</version>\n",
    "    <!--    <scope>test</scope> -->\n",
    "    </dependency>\n",
    "</dependencies>"
   ]
  },
  {
   "cell_type": "markdown",
   "id": "144febc4-63d0-448a-a66b-87241ffdf6ff",
   "metadata": {},
   "source": [
    "# Import"
   ]
  },
  {
   "cell_type": "code",
   "execution_count": 77,
   "id": "5868e14d-8085-4107-b79f-56e5edba6d02",
   "metadata": {},
   "outputs": [],
   "source": [
    "import org.junit.jupiter.api.Test;\n",
    "\n",
    "import java.util.Arrays;\n",
    "import java.util.List;\n",
    "import java.util.NoSuchElementException;\n",
    "import java.util.Optional;\n",
    "\n",
    "import static java.lang.System.*;\n",
    "import static org.junit.jupiter.api.Assertions.*;"
   ]
  },
  {
   "cell_type": "markdown",
   "id": "5690cb8d-63f4-4cb2-87ba-40300f0c8c08",
   "metadata": {},
   "source": [
    "---"
   ]
  },
  {
   "cell_type": "markdown",
   "id": "73dad69e-3a1b-4bf2-af2b-1d82e15d59b2",
   "metadata": {},
   "source": [
    "# TOC\n",
    "Ref\n",
    "- https://www.baeldung.com/java-optional"
   ]
  },
  {
   "cell_type": "markdown",
   "id": "47d4547a-fc10-4309-9023-8cb12213f655",
   "metadata": {},
   "source": [
    "- isPresent"
   ]
  },
  {
   "cell_type": "markdown",
   "id": "c066dd1e-9930-4076-9bb4-93df0f65755d",
   "metadata": {},
   "source": [
    "---"
   ]
  },
  {
   "cell_type": "markdown",
   "id": "17c700db-c555-41a5-bf8e-a8ebfc6af52d",
   "metadata": {},
   "source": [
    "# isPresent\n",
    "> JDK 8"
   ]
  },
  {
   "cell_type": "code",
   "execution_count": 114,
   "id": "61b3b1a6-229c-4c92-a95d-816482e113a1",
   "metadata": {},
   "outputs": [
    {
     "name": "stdout",
     "output_type": "stream",
     "text": [
      "false\n"
     ]
    }
   ],
   "source": [
    "\n",
    "public void whenCreatesEmptyOptional_thenCorrect() {\n",
    "    Optional<String> empty = Optional.empty();\n",
    "    out.println(empty.isPresent());\n",
    "}\n",
    "whenCreatesEmptyOptional_thenCorrect()"
   ]
  },
  {
   "cell_type": "code",
   "execution_count": 115,
   "id": "e0d9448b-208e-4b50-8e9d-0f3ad110b862",
   "metadata": {},
   "outputs": [
    {
     "name": "stdout",
     "output_type": "stream",
     "text": [
      "true\n"
     ]
    }
   ],
   "source": [
    "public void givenNonNull_whenCreatesNonNullable_thenCorrect() {\n",
    "    String name = \"baeldung\";\n",
    "    Optional<String> opt = Optional.of(name);\n",
    "    out.println(opt.isPresent());\n",
    "}\n",
    "givenNonNull_whenCreatesNonNullable_thenCorrect()"
   ]
  },
  {
   "cell_type": "code",
   "execution_count": 116,
   "id": "71a92c26-8b4a-45a9-bf48-b3fe783b2e49",
   "metadata": {},
   "outputs": [
    {
     "name": "stdout",
     "output_type": "stream",
     "text": [
      "false\n"
     ]
    }
   ],
   "source": [
    "\n",
    "public void givenNonNull_whenCreatesNonNullable_thenCorrect() {\n",
    "    String name = null;\n",
    "    Optional<String> opt = Optional.ofNullable(name);\n",
    "    out.println(opt.isPresent());\n",
    "}\n",
    "givenNonNull_whenCreatesNonNullable_thenCorrect()"
   ]
  },
  {
   "cell_type": "code",
   "execution_count": 112,
   "id": "fe4afa77-e26b-4309-ab98-02ee300ae3dd",
   "metadata": {},
   "outputs": [
    {
     "ename": "EvalException",
     "evalue": "null",
     "output_type": "error",
     "traceback": [
      "\u001b[1m\u001b[31m---------------------------------------------------------------------------\u001b[0m",
      "\u001b[1m\u001b[31mjava.lang.NullPointerException: null\u001b[0m",
      "\u001b[1m\u001b[31m\tat java.base/java.util.Objects.requireNonNull(Objects.java:208)\u001b[0m",
      "\u001b[1m\u001b[31m\tat java.base/java.util.Optional.of(Optional.java:113)\u001b[0m",
      "\u001b[1m\u001b[31m\tat .givenNull_whenThrowsErrorOnCreate_thenCorrect(#59:3)\u001b[0m",
      "\u001b[1m\u001b[31m\tat .(#101:1)\u001b[0m"
     ]
    }
   ],
   "source": [
    "public void givenNull_whenThrowsErrorOnCreate_thenCorrect() {\n",
    "    String name = null;\n",
    "    Optional.of(name);\n",
    "}\n",
    "givenNull_whenThrowsErrorOnCreate_thenCorrect()"
   ]
  },
  {
   "cell_type": "code",
   "execution_count": 111,
   "id": "55feae2c-ed2e-40bd-b6c6-f09c3ee0f3d4",
   "metadata": {},
   "outputs": [
    {
     "name": "stdout",
     "output_type": "stream",
     "text": [
      "false\n"
     ]
    }
   ],
   "source": [
    "public void givenNonNull_whenCreatesNullable_thenCorrect() {\n",
    "    String name = null;\n",
    "    Optional<String> opt = Optional.ofNullable(name);\n",
    "    out.println(opt.isPresent());\n",
    "}\n",
    "givenNonNull_whenCreatesNullable_thenCorrect()"
   ]
  },
  {
   "cell_type": "markdown",
   "id": "1268d772-63f2-4958-b823-d397793fdc80",
   "metadata": {},
   "source": [
    "---"
   ]
  },
  {
   "cell_type": "markdown",
   "id": "a6a1b67f-9f1c-453e-8155-097f5654464a",
   "metadata": {},
   "source": [
    "---"
   ]
  },
  {
   "cell_type": "markdown",
   "id": "fe417198-f0d7-4ecb-bb00-9612fa13c5f7",
   "metadata": {},
   "source": [
    "# OrElse()"
   ]
  },
  {
   "cell_type": "code",
   "execution_count": 102,
   "id": "cfb5f784-895a-433f-a662-f498f6dfaae8",
   "metadata": {},
   "outputs": [
    {
     "name": "stdout",
     "output_type": "stream",
     "text": [
      "john"
     ]
    }
   ],
   "source": [
    "public void whenOrElseWorks_thenCorrect() {\n",
    "    String nullName = null;\n",
    "    String name = Optional.ofNullable(nullName).orElse(\"john\");\n",
    "    out.print(name);\n",
    "}\n",
    "whenOrElseWorks_thenCorrect()"
   ]
  },
  {
   "cell_type": "markdown",
   "id": "b6b25034-8da4-4097-8f79-b6d2b2b97ba5",
   "metadata": {},
   "source": [
    "---"
   ]
  },
  {
   "cell_type": "markdown",
   "id": "b4b376ab-2458-4c12-a620-c3538526a357",
   "metadata": {},
   "source": [
    "# OrElseGet()"
   ]
  },
  {
   "cell_type": "code",
   "execution_count": 119,
   "id": "0a74efcd-24ab-4333-bc4c-8f12244098c1",
   "metadata": {},
   "outputs": [
    {
     "name": "stdout",
     "output_type": "stream",
     "text": [
      "john"
     ]
    }
   ],
   "source": [
    "public void whenOrElseGetWorks_thenCorrect() {\n",
    "    String nullName = null;\n",
    "    String name = Optional.ofNullable(nullName).orElseGet(() -> \"john\");\n",
    "    out.print(name);\n",
    "}\n",
    "whenOrElseGetWorks_thenCorrect()"
   ]
  },
  {
   "cell_type": "markdown",
   "id": "47d7cda0-f6e4-416f-9018-6c4bc764dcf6",
   "metadata": {},
   "source": [
    "---"
   ]
  },
  {
   "cell_type": "markdown",
   "id": "15676c08-71b4-4002-8d9e-124474e88eed",
   "metadata": {},
   "source": [
    "# isEmpty\n",
    "> JDK 11"
   ]
  },
  {
   "cell_type": "markdown",
   "id": "837e90b2-103a-4a70-973c-54f200288d8e",
   "metadata": {},
   "source": [
    "---"
   ]
  }
 ],
 "metadata": {
  "kernelspec": {
   "display_name": "Java",
   "language": "java",
   "name": "java"
  },
  "language_info": {
   "codemirror_mode": "java",
   "file_extension": ".jshell",
   "mimetype": "text/x-java-source",
   "name": "Java",
   "pygments_lexer": "java",
   "version": "17.0.6+10-jvmci-22.3-b13"
  },
  "widgets": {
   "application/vnd.jupyter.widget-state+json": {
    "state": {},
    "version_major": 2,
    "version_minor": 0
   }
  }
 },
 "nbformat": 4,
 "nbformat_minor": 5
}
