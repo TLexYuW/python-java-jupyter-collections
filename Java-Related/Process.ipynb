{
 "cells": [
  {
   "cell_type": "markdown",
   "id": "a9c17ec9-20d8-4387-888a-cc8478673c66",
   "metadata": {},
   "source": [
    "# Dependency"
   ]
  },
  {
   "cell_type": "code",
   "execution_count": 1,
   "id": "3549d61e-b82d-402b-a146-0bda7986c72d",
   "metadata": {},
   "outputs": [],
   "source": [
    "// %%loadFromPOM"
   ]
  },
  {
   "cell_type": "markdown",
   "id": "55cbe158-25ad-4628-80b5-eb38bf24d77c",
   "metadata": {},
   "source": [
    "---"
   ]
  },
  {
   "cell_type": "markdown",
   "id": "e7323758-3b3c-4a67-8961-d4dc9fbd25ce",
   "metadata": {},
   "source": [
    "# Import"
   ]
  },
  {
   "cell_type": "code",
   "execution_count": 13,
   "id": "a7872bda-adbd-40d0-ae36-5eb3ba1a3db7",
   "metadata": {},
   "outputs": [],
   "source": [
    "import java.util.stream.Collectors;\n",
    "\n",
    "import static java.lang.System.out;\n"
   ]
  },
  {
   "cell_type": "markdown",
   "id": "e232dc10-d5cf-411d-910c-4f66b117d717",
   "metadata": {},
   "source": [
    "---"
   ]
  },
  {
   "cell_type": "markdown",
   "id": "22aa288c-b6ac-4d1b-9f9e-5b666e98d2ce",
   "metadata": {},
   "source": [
    "# TOC"
   ]
  },
  {
   "cell_type": "markdown",
   "id": "08eacce6-42ff-4e90-a512-86edb2cd9f8c",
   "metadata": {},
   "source": []
  },
  {
   "cell_type": "markdown",
   "id": "c1e23f83-0be3-4ff1-8562-17cf6c3d3a73",
   "metadata": {},
   "source": [
    "---"
   ]
  },
  {
   "cell_type": "markdown",
   "id": "a246d619-c84f-4108-9d8a-b2a405bf946b",
   "metadata": {},
   "source": [
    "# Setup\n",
    "- [Model](#Model)\n",
    "- [Utils](#Utils)"
   ]
  },
  {
   "cell_type": "markdown",
   "id": "dcd11288-466a-4137-964b-ebfbd1e4b2d6",
   "metadata": {},
   "source": [
    "## Model"
   ]
  },
  {
   "cell_type": "code",
   "execution_count": null,
   "id": "6e02ef5f-c827-4498-8cd6-b1b74ca8a19c",
   "metadata": {},
   "outputs": [],
   "source": []
  },
  {
   "cell_type": "markdown",
   "id": "73a6224a-e323-4d6c-8af0-2e307204c58e",
   "metadata": {},
   "source": [
    "## Utils"
   ]
  },
  {
   "cell_type": "code",
   "execution_count": 17,
   "id": "248e0b99-e4b0-47cc-8d00-68d9930f6885",
   "metadata": {},
   "outputs": [],
   "source": [
    "private List<String> readOutput(InputStream inputStream) throws IOException {\n",
    "    try (BufferedReader output = new BufferedReader(new InputStreamReader(inputStream))) {\n",
    "        return output.lines()\n",
    "            .collect(Collectors.toList());\n",
    "    }\n",
    "}"
   ]
  },
  {
   "cell_type": "markdown",
   "id": "1dfdf6f9-9a9c-422b-9541-05a0e9ed5f7d",
   "metadata": {},
   "source": [
    "---"
   ]
  },
  {
   "cell_type": "code",
   "execution_count": 22,
   "id": "49d2a8b9-0818-4eaa-9cd9-e8b6f6825549",
   "metadata": {},
   "outputs": [
    {
     "name": "stdout",
     "output_type": "stream",
     "text": [
      "[openjdk 17.0.6 2023-01-17, OpenJDK Runtime Environment GraalVM CE 22.3.1 (build 17.0.6+10-jvmci-22.3-b13), OpenJDK 64-Bit Server VM GraalVM CE 22.3.1 (build 17.0.6+10-jvmci-22.3-b13, mixed mode, sharing)]\n",
      "0\n"
     ]
    }
   ],
   "source": [
    "ProcessBuilder processBuilder = new ProcessBuilder(\"java\", \"--version\");\n",
    "processBuilder.redirectErrorStream(true);\n",
    "\n",
    "Process process = processBuilder.start();\n",
    "\n",
    "List<String> results = readOutput(process.getInputStream());\n",
    "out.println(results);\n",
    "\n",
    "int exitCode = process.waitFor();\n",
    "out.println(exitCode);"
   ]
  },
  {
   "cell_type": "code",
   "execution_count": 24,
   "id": "911f7679-a0c0-42ff-8503-073a6cd1f001",
   "metadata": {},
   "outputs": [],
   "source": [
    "ProcessBuilder processBuilder = new ProcessBuilder();\n",
    "Map<String, String> environment = processBuilder.environment();\n",
    "// environment.forEach((key, value) -> System.out.println(key + value));"
   ]
  }
 ],
 "metadata": {
  "kernelspec": {
   "display_name": "Java",
   "language": "java",
   "name": "java"
  },
  "language_info": {
   "codemirror_mode": "java",
   "file_extension": ".jshell",
   "mimetype": "text/x-java-source",
   "name": "Java",
   "pygments_lexer": "java",
   "version": "17.0.6+10-jvmci-22.3-b13"
  },
  "widgets": {
   "application/vnd.jupyter.widget-state+json": {
    "state": {},
    "version_major": 2,
    "version_minor": 0
   }
  }
 },
 "nbformat": 4,
 "nbformat_minor": 5
}
