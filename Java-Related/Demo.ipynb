{
 "cells": [
  {
   "cell_type": "markdown",
   "id": "d4dd6594-e179-43c8-9ef1-f5ea974ffaac",
   "metadata": {},
   "source": [
    "# Dependency"
   ]
  },
  {
   "cell_type": "code",
   "execution_count": 2,
   "id": "079a8f81-5df5-48e6-8621-ff0ea5e485be",
   "metadata": {},
   "outputs": [],
   "source": [
    "// code"
   ]
  },
  {
   "cell_type": "markdown",
   "id": "2827e422-9d0a-49f7-959c-4421d9e8b543",
   "metadata": {},
   "source": [
    "---"
   ]
  },
  {
   "cell_type": "markdown",
   "id": "275c1980-f7c4-4817-b0f6-3ffb87c901b2",
   "metadata": {
    "jp-MarkdownHeadingCollapsed": true
   },
   "source": [
    "# Import"
   ]
  },
  {
   "cell_type": "code",
   "execution_count": 1,
   "id": "698d4de6-2d52-42f0-8ad3-ff563aa35488",
   "metadata": {},
   "outputs": [],
   "source": [
    "import static java.lang.System.out;"
   ]
  },
  {
   "cell_type": "markdown",
   "id": "582f744f-8689-47bc-bb85-db14ae8094fb",
   "metadata": {},
   "source": [
    "---"
   ]
  },
  {
   "cell_type": "markdown",
   "id": "86b2281b-5829-453f-94b6-d44ace2398a6",
   "metadata": {
    "jp-MarkdownHeadingCollapsed": true
   },
   "source": [
    "# TOC"
   ]
  },
  {
   "cell_type": "markdown",
   "id": "0ff7138c-9290-4161-bbbd-9fd63a69018d",
   "metadata": {},
   "source": []
  },
  {
   "cell_type": "markdown",
   "id": "9e948e74-cbd8-4bbf-bb83-28cbf9680771",
   "metadata": {},
   "source": [
    "---"
   ]
  },
  {
   "cell_type": "markdown",
   "id": "ae72a46f-4c9a-4ba1-8207-f319003e2d7a",
   "metadata": {
    "jp-MarkdownHeadingCollapsed": true
   },
   "source": [
    "# Setup\n",
    "- [Model](#Model)\n",
    "- [Utils](#Utils)"
   ]
  },
  {
   "cell_type": "markdown",
   "id": "e27e7985-349b-484e-906b-087f008c7ee6",
   "metadata": {
    "jp-MarkdownHeadingCollapsed": true
   },
   "source": [
    "## Model"
   ]
  },
  {
   "cell_type": "code",
   "execution_count": null,
   "id": "44d05de7-a547-4abb-8b55-586bad8a481c",
   "metadata": {},
   "outputs": [],
   "source": []
  },
  {
   "cell_type": "markdown",
   "id": "9c9ff459-8889-48bc-b5a9-45b6f8d0079e",
   "metadata": {},
   "source": [
    "## Utils"
   ]
  },
  {
   "cell_type": "code",
   "execution_count": null,
   "id": "3b4afd1c-b7d1-4e46-a2e3-6b27928c93e5",
   "metadata": {},
   "outputs": [],
   "source": []
  },
  {
   "cell_type": "markdown",
   "id": "c4ef30e6-77e1-4a0b-84e4-98ac5bb6deec",
   "metadata": {},
   "source": [
    "---"
   ]
  },
  {
   "cell_type": "markdown",
   "id": "659e9404-3a43-41f5-b29f-3d95030b83ca",
   "metadata": {},
   "source": [
    "# Demo"
   ]
  },
  {
   "cell_type": "code",
   "execution_count": 1,
   "id": "35871191-cf5f-4dd8-bfa4-3620e88d049b",
   "metadata": {},
   "outputs": [
    {
     "name": "stdout",
     "output_type": "stream",
     "text": [
      "Hello World!\n"
     ]
    }
   ],
   "source": [
    "System.out.println(\"Hello World!\")"
   ]
  },
  {
   "cell_type": "markdown",
   "id": "5ba8da08-245e-4671-b140-aa5898ba6093",
   "metadata": {},
   "source": [
    "---"
   ]
  },
  {
   "cell_type": "markdown",
   "id": "0ea801ae-e70e-4a90-abad-e0bbf9cfc1e5",
   "metadata": {},
   "source": [
    "# Dependency"
   ]
  },
  {
   "cell_type": "code",
   "execution_count": 1,
   "id": "7c6f99aa-b4d8-48ce-a9e1-70d926c5b936",
   "metadata": {},
   "outputs": [],
   "source": [
    "%maven org.knowm.xchart:xchart:3.5.2\n",
    "\n",
    "import org.knowm.xchart.*;"
   ]
  },
  {
   "cell_type": "code",
   "execution_count": 3,
   "id": "ab280358-c6ea-4ee3-bf02-6c240ec7c81c",
   "metadata": {},
   "outputs": [
    {
     "data": {
      "image/png": "[encoded data removed]",
      "text/plain": [
       "BufferedImage@5c0ed80b: type = 1 DirectColorModel: rmask=ff0000 gmask=ff00 bmask=ff amask=0 IntegerInterleavedRaster: width = 600 height = 400 #Bands = 3 xOff = 0 yOff = 0 dataOffset[0] 0"
      ]
     },
     "execution_count": 3,
     "metadata": {},
     "output_type": "execute_result"
    }
   ],
   "source": [
    "double[] xData = new double[]{0.0, 1.0, 2.0};\n",
    "double[] yData = new double[]{2.0, 1.0, 0.0};\n",
    "\n",
    "XYChart chart = QuickChart.getChart(\"Sample Chart\", \"X\", \"Y\", \"y(x)\", xData, yData);\n",
    "\n",
    "BitmapEncoder.getBufferedImage(chart);"
   ]
  },
  {
   "cell_type": "markdown",
   "id": "d9130fc7-cb2b-4c1b-bcd3-d336a3d6758c",
   "metadata": {},
   "source": [
    "---"
   ]
  },
  {
   "cell_type": "markdown",
   "id": "5ad2256e-1b5f-49d5-af3a-f4fbee98ddf2",
   "metadata": {},
   "source": [
    "# JUnit"
   ]
  },
  {
   "cell_type": "code",
   "execution_count": 8,
   "id": "b4b082eb-249f-4c0c-9563-f4bfa1100a96",
   "metadata": {},
   "outputs": [],
   "source": [
    "%%loadFromPOM\n",
    "    <properties>\n",
    "        <junit-platform.version>5.3.1</junit-platform.version>\n",
    "    </properties>\n",
    "    <dependencies>\n",
    "        <dependency>\n",
    "            <groupId>org.junit.jupiter</groupId>\n",
    "            <artifactId>junit-jupiter-api</artifactId>\n",
    "            <version>5.3.1</version>\n",
    "        <!--    <scope>test</scope> -->\n",
    "        </dependency>\n",
    "        <dependency>\n",
    "            <groupId>org.junit.jupiter</groupId>\n",
    "            <artifactId>junit-jupiter-engine</artifactId>\n",
    "            <version>${junit-platform.version}</version>\n",
    "        <!--    <scope>test</scope> -->\n",
    "        </dependency>\n",
    "    </dependencies>\n",
    "    <build>\n",
    "        <plugins>\n",
    "            <plugin>\n",
    "                <groupId>org.apache.maven.plugins</groupId>\n",
    "                <artifactId>maven-compiler-plugin</artifactId>\n",
    "                <version>3.8.0</version>\n",
    "            </plugin>\n",
    "            <plugin>\n",
    "                <groupId>org.apache.maven.plugins</groupId>\n",
    "                <artifactId>maven-surefire-plugin</artifactId>\n",
    "                <version>2.22.0</version>\n",
    "                <configuration>\n",
    "                    <argLine>\n",
    "                        --illegal-access=permit\n",
    "                    </argLine>\n",
    "                </configuration>\n",
    "            </plugin>\n",
    "            <plugin>\n",
    "                <groupId>org.apache.maven.plugins</groupId>\n",
    "                <artifactId>maven-failsafe-plugin</artifactId>\n",
    "                <version>2.22.0</version>\n",
    "                <configuration>\n",
    "                    <argLine>\n",
    "                        --illegal-access=permit\n",
    "                    </argLine>\n",
    "                </configuration>\n",
    "            </plugin>\n",
    "        </plugins>\n",
    "    </build>"
   ]
  },
  {
   "cell_type": "markdown",
   "id": "dbdc975b-7e57-4bff-ba83-32e5b4698e9c",
   "metadata": {},
   "source": [
    "---"
   ]
  },
  {
   "cell_type": "code",
   "execution_count": 7,
   "id": "afa30568-9185-4e33-b562-5b2c75ea6db4",
   "metadata": {},
   "outputs": [],
   "source": [
    "import java.util.Random;"
   ]
  },
  {
   "cell_type": "code",
   "execution_count": 14,
   "id": "a9e0c859-5853-4e5e-8910-c510e9599449",
   "metadata": {},
   "outputs": [
    {
     "name": "stdout",
     "output_type": "stream",
     "text": [
      "Unique Number: 170529998408051170666\n"
     ]
    }
   ],
   "source": [
    "private static String generateUniqueNumber() {\n",
    "    // Get the current timestamp as a string\n",
    "    String timestamp = Long.toString(System.currentTimeMillis());\n",
    "\n",
    "    // Generate a random number with up to 9 digits\n",
    "    int randomSuffix = new Random().nextInt(1000000000);\n",
    "\n",
    "    // Concatenate timestamp and random number\n",
    "    String uniqueNumber = timestamp + String.format(\"%09d\", randomSuffix);\n",
    "\n",
    "    // Trim or pad to ensure the final length is 21\n",
    "    if (uniqueNumber.length() > 21) {\n",
    "        uniqueNumber = uniqueNumber.substring(0, 21);\n",
    "    } else if (uniqueNumber.length() < 21) {\n",
    "        uniqueNumber = String.format(\"%-21s\", uniqueNumber).replace(' ', '0');\n",
    "    }\n",
    "\n",
    "    return uniqueNumber;\n",
    "}\n",
    "String uniqueNumber = generateUniqueNumber();\n",
    "System.out.println(\"Unique Number: \" + uniqueNumber);"
   ]
  },
  {
   "cell_type": "code",
   "execution_count": null,
   "id": "6e74bc1b-af88-47bd-895e-4b4673c88109",
   "metadata": {},
   "outputs": [],
   "source": []
  }
 ],
 "metadata": {
  "kernelspec": {
   "display_name": "Java",
   "language": "java",
   "name": "java"
  },
  "language_info": {
   "codemirror_mode": "java",
   "file_extension": ".jshell",
   "mimetype": "text/x-java-source",
   "name": "Java",
   "pygments_lexer": "java",
   "version": "17.0.9+8-LTS"
  },
  "widgets": {
   "application/vnd.jupyter.widget-state+json": {
    "state": {},
    "version_major": 2,
    "version_minor": 0
   }
  }
 },
 "nbformat": 4,
 "nbformat_minor": 5
}
