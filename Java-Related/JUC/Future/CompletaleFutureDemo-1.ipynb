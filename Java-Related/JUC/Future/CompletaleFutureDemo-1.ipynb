{
 "cells": [
  {
   "cell_type": "code",
   "execution_count": 1,
   "id": "5dd41dbe-9303-40c7-9488-89fcc15fb2fb",
   "metadata": {},
   "outputs": [
    {
     "name": "stdout",
     "output_type": "stream",
     "text": [
      "Test\n"
     ]
    }
   ],
   "source": [
    "System.out.println(\"Test\")"
   ]
  },
  {
   "cell_type": "code",
   "execution_count": 6,
   "id": "c6045f8c-8fa2-490f-8bf9-eba4b74ec6be",
   "metadata": {},
   "outputs": [],
   "source": [
    "\tstatic void sleep(int t, TimeUnit u) {\n",
    "\t\ttry {\n",
    "\t\t\tu.sleep(t);\n",
    "\t\t} catch (InterruptedException e) {\n",
    "\t\t}\n",
    "\t}"
   ]
  },
  {
   "cell_type": "code",
   "execution_count": 7,
   "id": "b4be68ee-6683-4630-a3c6-d2f463897e4f",
   "metadata": {},
   "outputs": [
    {
     "name": "stdout",
     "output_type": "stream",
     "text": [
      "Thread : ForkJoinPool.commonPool-worker-1==> 洗水壺\n",
      "Thread : ForkJoinPool.commonPool-worker-2==> 洗茶壺\n",
      "洗水壺 Done!\n",
      "Thread : ForkJoinPool.commonPool-worker-1==> 燒開水\n",
      "洗茶壺 Done!\n",
      "Thread : ForkJoinPool.commonPool-worker-2==> 洗茶杯\n",
      "洗茶杯 Done!\n",
      "Thread : ForkJoinPool.commonPool-worker-2==> 拿茶葉\n",
      "拿茶葉 Done!\n",
      "燒開水 Done!\n",
      "Thread : ForkJoinPool.commonPool-worker-1 拿到 Longjing\n",
      "泡茶\n",
      "上茶\n"
     ]
    },
    {
     "ename": "CompilationException",
     "evalue": "",
     "output_type": "error",
     "traceback": [
      "\u001b[1m\u001b[30m|   \u001b[1m\u001b[30m\t\u001b[0m\u001b[1m\u001b[30m\u001b[41m\u001b[0m\u001b[1m\u001b[30m}\u001b[0m",
      "\u001b[1m\u001b[31millegal start of statement\u001b[0m",
      ""
     ]
    }
   ],
   "source": [
    "import java.util.concurrent.CompletableFuture;\n",
    "import java.util.concurrent.TimeUnit;\n",
    "\n",
    "\n",
    "// T1\n",
    "\t\tCompletableFuture<Void> f1 = CompletableFuture.runAsync(() -> {\n",
    "\t\t\tSystem.out.print(\"Thread : \" + Thread.currentThread().getName());\n",
    "\t\t\tSystem.out.println(\"==> 洗水壺\");\n",
    "\t\t\tsleep(1, TimeUnit.SECONDS);\n",
    "\t\t\tSystem.out.println(\"洗水壺 Done!\");\n",
    "\n",
    "\t\t\tSystem.out.print(\"Thread : \" + Thread.currentThread().getName());\n",
    "\t\t\tSystem.out.println(\"==> 燒開水\");\n",
    "\t\t\tsleep(15, TimeUnit.SECONDS);\n",
    "\t\t\tSystem.out.println(\"燒開水 Done!\");\n",
    "\t\t});\n",
    "\n",
    "\t\t// T2\n",
    "\t\tCompletableFuture<String> f2 = CompletableFuture.supplyAsync(() -> {\n",
    "\t\t\tSystem.out.print(\"Thread : \" + Thread.currentThread().getName());\n",
    "\t\t\tSystem.out.println(\"==> 洗茶壺\");\n",
    "\t\t\tsleep(1, TimeUnit.SECONDS);\n",
    "\t\t\tSystem.out.println(\"洗茶壺 Done!\");\n",
    "\n",
    "\t\t\tSystem.out.print(\"Thread : \" + Thread.currentThread().getName());\n",
    "\t\t\tSystem.out.println(\"==> 洗茶杯\");\n",
    "\t\t\tsleep(2, TimeUnit.SECONDS);\n",
    "\t\t\tSystem.out.println(\"洗茶杯 Done!\");\n",
    "\n",
    "\t\t\tSystem.out.print(\"Thread : \" + Thread.currentThread().getName());\n",
    "\t\t\tSystem.out.println(\"==> 拿茶葉\");\n",
    "\t\t\tsleep(1, TimeUnit.SECONDS);\n",
    "\t\t\tSystem.out.println(\"拿茶葉 Done!\");\n",
    "\t\t\treturn \"Longjing\";\n",
    "\t\t});\n",
    "\n",
    "\t\t// T3 = T1 + T2 都完成後執行\n",
    "\t\tCompletableFuture<String> f3 = f1.thenCombine(f2, (x, t) -> {\n",
    "\t\t\tSystem.out.print(\"Thread : \" + Thread.currentThread().getName());\n",
    "\t\t\tSystem.out.println(\" 拿到 \" + t);\n",
    "\t\t\tSystem.out.println(\"泡茶\");\n",
    "\t\t\treturn \"上茶\";\n",
    "\t\t});\n",
    "\n",
    "\t\tSystem.out.println(f3.join());\n",
    "\n",
    "\t}\n"
   ]
  },
  {
   "cell_type": "code",
   "execution_count": null,
   "id": "6afa0d54-3065-437d-844d-5af25a9cc80c",
   "metadata": {},
   "outputs": [],
   "source": []
  }
 ],
 "metadata": {
  "kernelspec": {
   "display_name": "Java",
   "language": "java",
   "name": "java"
  },
  "language_info": {
   "codemirror_mode": "java",
   "file_extension": ".jshell",
   "mimetype": "text/x-java-source",
   "name": "Java",
   "pygments_lexer": "java",
   "version": "17.0.6+10-jvmci-22.3-b13"
  },
  "widgets": {
   "application/vnd.jupyter.widget-state+json": {
    "state": {},
    "version_major": 2,
    "version_minor": 0
   }
  }
 },
 "nbformat": 4,
 "nbformat_minor": 5
}
