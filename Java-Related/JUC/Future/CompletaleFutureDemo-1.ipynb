{
 "cells": [
  {
   "cell_type": "code",
   "execution_count": 2,
   "id": "c6045f8c-8fa2-490f-8bf9-eba4b74ec6be",
   "metadata": {},
   "outputs": [],
   "source": [
    "static void sleep(int t, TimeUnit u) {\n",
    "    try {\n",
    "        u.sleep(t);\n",
    "    } catch (InterruptedException e) {\n",
    "    }\n",
    "}"
   ]
  },
  {
   "cell_type": "code",
   "execution_count": 3,
   "id": "b4be68ee-6683-4630-a3c6-d2f463897e4f",
   "metadata": {},
   "outputs": [
    {
     "name": "stdout",
     "output_type": "stream",
     "text": [
      "Thread : ForkJoinPool.commonPool-worker-1==> 洗水壺\n",
      "Thread : ForkJoinPool.commonPool-worker-2==> 洗茶壺\n",
      "洗水壺 Done!\n",
      "Thread : ForkJoinPool.commonPool-worker-1==> 燒開水\n",
      "洗茶壺 Done!\n",
      "Thread : ForkJoinPool.commonPool-worker-2==> 洗茶杯\n",
      "洗茶杯 Done!\n",
      "Thread : ForkJoinPool.commonPool-worker-2==> 拿茶葉\n",
      "拿茶葉 Done!\n",
      "燒開水 Done!\n",
      "Thread : ForkJoinPool.commonPool-worker-1 拿到 Longjing\n",
      "泡茶\n",
      "上茶\n"
     ]
    }
   ],
   "source": [
    "import java.util.concurrent.CompletableFuture;\n",
    "import java.util.concurrent.TimeUnit;\n",
    "\n",
    "\n",
    "// T1\n",
    "CompletableFuture<Void> f1 = CompletableFuture.runAsync(() -> {\n",
    "    System.out.print(\"Thread : \" + Thread.currentThread().getName());\n",
    "    System.out.println(\"==> 洗水壺\");\n",
    "    sleep(1, TimeUnit.SECONDS);\n",
    "    System.out.println(\"洗水壺 Done!\");\n",
    "\n",
    "    System.out.print(\"Thread : \" + Thread.currentThread().getName());\n",
    "    System.out.println(\"==> 燒開水\");\n",
    "    sleep(15, TimeUnit.SECONDS);\n",
    "    System.out.println(\"燒開水 Done!\");\n",
    "});\n",
    "\n",
    "// T2\n",
    "CompletableFuture<String> f2 = CompletableFuture.supplyAsync(() -> {\n",
    "    System.out.print(\"Thread : \" + Thread.currentThread().getName());\n",
    "    System.out.println(\"==> 洗茶壺\");\n",
    "    sleep(1, TimeUnit.SECONDS);\n",
    "    System.out.println(\"洗茶壺 Done!\");\n",
    "\n",
    "    System.out.print(\"Thread : \" + Thread.currentThread().getName());\n",
    "    System.out.println(\"==> 洗茶杯\");\n",
    "    sleep(2, TimeUnit.SECONDS);\n",
    "    System.out.println(\"洗茶杯 Done!\");\n",
    "\n",
    "    System.out.print(\"Thread : \" + Thread.currentThread().getName());\n",
    "    System.out.println(\"==> 拿茶葉\");\n",
    "    sleep(1, TimeUnit.SECONDS);\n",
    "    System.out.println(\"拿茶葉 Done!\");\n",
    "    return \"Longjing\";\n",
    "});\n",
    "\n",
    "// T3 = T1 + T2 都完成後執行\n",
    "CompletableFuture<String> f3 = f1.thenCombine(f2, (x, t) -> {\n",
    "    System.out.print(\"Thread : \" + Thread.currentThread().getName());\n",
    "    System.out.println(\" 拿到 \" + t);\n",
    "    System.out.println(\"泡茶\");\n",
    "    return \"上茶\";\n",
    "});\n",
    "\n",
    "System.out.println(f3.join());\n",
    "\n"
   ]
  },
  {
   "cell_type": "code",
   "execution_count": null,
   "id": "6afa0d54-3065-437d-844d-5af25a9cc80c",
   "metadata": {},
   "outputs": [],
   "source": []
  }
 ],
 "metadata": {
  "kernelspec": {
   "display_name": "Java",
   "language": "java",
   "name": "java"
  },
  "language_info": {
   "codemirror_mode": "java",
   "file_extension": ".jshell",
   "mimetype": "text/x-java-source",
   "name": "Java",
   "pygments_lexer": "java",
   "version": "17.0.6+10-jvmci-22.3-b13"
  },
  "widgets": {
   "application/vnd.jupyter.widget-state+json": {
    "state": {},
    "version_major": 2,
    "version_minor": 0
   }
  }
 },
 "nbformat": 4,
 "nbformat_minor": 5
}
