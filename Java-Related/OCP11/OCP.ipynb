{
 "cells": [
  {
   "cell_type": "markdown",
   "id": "516385a9-080c-48be-ab3b-3b256730f2e3",
   "metadata": {},
   "source": [
    "# Dependency"
   ]
  },
  {
   "cell_type": "code",
   "execution_count": 71,
   "id": "cffd8c57-6d5c-4705-a497-25c2b3d05e0f",
   "metadata": {},
   "outputs": [],
   "source": [
    "// %%loadFromPOM"
   ]
  },
  {
   "cell_type": "markdown",
   "id": "7368d715-935f-409f-8267-5058e5c6ec23",
   "metadata": {},
   "source": [
    "---"
   ]
  },
  {
   "cell_type": "markdown",
   "id": "92108b8f-2286-498a-a777-232a13f26fe4",
   "metadata": {},
   "source": [
    "# Import"
   ]
  },
  {
   "cell_type": "code",
   "execution_count": 72,
   "id": "7103ef9e-f3ea-40c8-a580-a783cfb2d085",
   "metadata": {},
   "outputs": [],
   "source": [
    "import static java.lang.System.out;"
   ]
  },
  {
   "cell_type": "markdown",
   "id": "6c95ed1e-6447-4314-90cb-a8e110d9d229",
   "metadata": {},
   "source": [
    "---"
   ]
  },
  {
   "cell_type": "markdown",
   "id": "df83c810-8821-4acd-a596-01252eea6ad9",
   "metadata": {},
   "source": [
    "# TOC"
   ]
  },
  {
   "cell_type": "markdown",
   "id": "1ef631a2-5b0c-4fbd-bdf5-b65de8975a77",
   "metadata": {},
   "source": []
  },
  {
   "cell_type": "markdown",
   "id": "e50ba3cc-9761-4d56-b3a9-85cd905a77e8",
   "metadata": {},
   "source": [
    "---"
   ]
  },
  {
   "cell_type": "markdown",
   "id": "7905ade6-4df9-4cb1-9cbd-23a6791cf514",
   "metadata": {},
   "source": [
    "# Setup\n",
    "- [Model](#Model)\n",
    "- [Utils](#Utils)"
   ]
  },
  {
   "cell_type": "markdown",
   "id": "34f3f2ca-ee5d-4006-af18-3c8a6999b421",
   "metadata": {
    "jp-MarkdownHeadingCollapsed": true
   },
   "source": [
    "## Model"
   ]
  },
  {
   "cell_type": "code",
   "execution_count": null,
   "id": "1d7da4eb-9d19-4a71-bdd7-b724912ed181",
   "metadata": {},
   "outputs": [],
   "source": []
  },
  {
   "cell_type": "markdown",
   "id": "347935c9-4f97-467a-a308-30a0b9a866ac",
   "metadata": {},
   "source": [
    "## Utils"
   ]
  },
  {
   "cell_type": "code",
   "execution_count": null,
   "id": "56cc7043-84ec-4f0d-9d5f-2252c60f0bb4",
   "metadata": {},
   "outputs": [],
   "source": []
  },
  {
   "cell_type": "markdown",
   "id": "ec9d38fa-f31c-44eb-84f9-bc1a703ebc81",
   "metadata": {},
   "source": [
    "---"
   ]
  },
  {
   "cell_type": "markdown",
   "id": "092ae827-a53f-43f9-aec7-581230b958a6",
   "metadata": {},
   "source": [
    "# Chapter1"
   ]
  },
  {
   "cell_type": "markdown",
   "id": "fc863970-51d4-4758-83ae-3d03a2019900",
   "metadata": {},
   "source": [
    "### 1"
   ]
  },
  {
   "cell_type": "code",
   "execution_count": 73,
   "id": "92ee99d5-24ee-4a18-9dd3-06a93a98507c",
   "metadata": {},
   "outputs": [],
   "source": [
    "// var _ = \"test\";\n",
    "var _blue = \"test\";\n",
    "// var 2blue = \"test\";\n",
    "var blue$ = \"test\";\n",
    "var Blue = \"test\";"
   ]
  },
  {
   "cell_type": "markdown",
   "id": "8aec8691-819a-4773-85e4-f7ea3edc3449",
   "metadata": {},
   "source": [
    "### 2"
   ]
  },
  {
   "cell_type": "code",
   "execution_count": 74,
   "id": "98c92e9f-a560-45a8-8147-442fd3b2b8a6",
   "metadata": {},
   "outputs": [
    {
     "name": "stdout",
     "output_type": "stream",
     "text": [
      "7\n"
     ]
    }
   ],
   "source": [
    "int meal = 5;\n",
    "int tip = 2;\n",
    "var total = meal + (meal > 6 ? tip++ : tip--);\n",
    "System.out.println(total);"
   ]
  },
  {
   "cell_type": "markdown",
   "id": "6853822f-9ff4-4bfe-9cad-fb515ada25ab",
   "metadata": {},
   "source": [
    "### 3"
   ]
  },
  {
   "cell_type": "code",
   "execution_count": 75,
   "id": "35869415-b35a-4500-9c68-f02da7022b3e",
   "metadata": {},
   "outputs": [],
   "source": [
    "var q1 = 4.0f;\n",
    "float q2 = 4.0f;\n",
    "Float q3 = 4.0f;\n",
    "// double q4 = 4.0f;\n",
    "// Double q5 = 4.0f;\n",
    "Object q6 = 4.0f;"
   ]
  },
  {
   "cell_type": "markdown",
   "id": "dc6cd6a0-7974-46dc-b42d-fd4f1ff40778",
   "metadata": {},
   "source": [
    "### 4"
   ]
  },
  {
   "cell_type": "code",
   "execution_count": 76,
   "id": "c1c1b5c8-5a43-4119-a943-125100bc9fca",
   "metadata": {},
   "outputs": [
    {
     "name": "stdout",
     "output_type": "stream",
     "text": [
      "123\n"
     ]
    }
   ],
   "source": [
    "var b = \"12\";\n",
    "b += \"3\";\n",
    "// b.reverse();\n",
    "System.out.println(b);"
   ]
  },
  {
   "cell_type": "code",
   "execution_count": 77,
   "id": "0f48ef5c-be7b-444b-84d7-da7a7d501934",
   "metadata": {},
   "outputs": [
    {
     "name": "stdout",
     "output_type": "stream",
     "text": [
      "321\n"
     ]
    }
   ],
   "source": [
    "var b1 = \"12\";\n",
    "b1 += \"3\";\n",
    "StringBuilder sb = new StringBuilder(b1);\n",
    "sb.reverse();\n",
    "System.out.println(sb);"
   ]
  },
  {
   "cell_type": "markdown",
   "id": "6620f12f-d934-4a6e-b08a-b7db38590401",
   "metadata": {},
   "source": [
    "### 5"
   ]
  },
  {
   "cell_type": "code",
   "execution_count": 78,
   "id": "0eb79a62-9adf-45f3-a30f-fb63dae5359a",
   "metadata": {},
   "outputs": [
    {
     "name": "stdout",
     "output_type": "stream",
     "text": [
      "true\n",
      "true 2\n",
      "--, Hashcode1800978059\n",
      "--, Hashcode1800978059\n",
      "java.lang.StringBuilder@6b58be8b\n",
      "java.lang.StringBuilder@6b58be8b\n",
      "test, Hashcode3556498\n",
      "test, Hashcode3556498\n",
      "java.lang.String@659f4d90\n",
      "java.lang.String@61a0d5fb\n"
     ]
    }
   ],
   "source": [
    "var line = new StringBuilder(\"-\");\n",
    "var anotherLine = line.append(\"-\");\n",
    "System.out.println(line.equals(anotherLine));\n",
    "System.out.print(line == anotherLine);\n",
    "System.out.print(\" \");\n",
    "System.out.println(line.length());\n",
    "System.out.println(line + \", Hashcode\" + line.hashCode());\n",
    "System.out.println(anotherLine + \", Hashcode\" + anotherLine.hashCode());\n",
    "String l = line.getClass().getName() + \"@\" + Integer.toHexString(System.identityHashCode(line));\n",
    "String al = anotherLine.getClass().getName() + \"@\" + Integer.toHexString(System.identityHashCode(anotherLine));\n",
    "System.out.println(l);\n",
    "System.out.println(al);\n",
    "var t1 = new String(\"test\");\n",
    "var t2 = new String(\"test\");\n",
    "String t1sih = t1.getClass().getName() + \"@\" + Integer.toHexString(System.identityHashCode(t1));\n",
    "String t2sih = t2.getClass().getName() + \"@\" + Integer.toHexString(System.identityHashCode(t2));\n",
    "System.out.println(t1 + \", Hashcode\" + t1.hashCode());\n",
    "System.out.println(t2 + \", Hashcode\" + t2.hashCode());\n",
    "System.out.println(t1sih);\n",
    "System.out.println(t2sih);"
   ]
  },
  {
   "cell_type": "markdown",
   "id": "04d9a54f-c42a-4e7f-a8fe-7917d7b24f5e",
   "metadata": {},
   "source": [
    "### 6"
   ]
  },
  {
   "cell_type": "code",
   "execution_count": null,
   "id": "e857e1ab-0088-4f63-8fbc-6ee0c0fe531a",
   "metadata": {},
   "outputs": [],
   "source": []
  },
  {
   "cell_type": "markdown",
   "id": "be5a6caa-6cf8-4e84-8899-fa66f7b8a126",
   "metadata": {},
   "source": [
    "### 7"
   ]
  },
  {
   "cell_type": "code",
   "execution_count": 79,
   "id": "f61ab280-34a6-4f2c-97aa-6fe18650e3e7",
   "metadata": {},
   "outputs": [
    {
     "name": "stdout",
     "output_type": "stream",
     "text": [
      "-, Hashcode45\n",
      "--, Hashcode1440\n",
      "java.lang.String@24a247ab\n",
      "java.lang.String@aa01952\n",
      "false 1"
     ]
    }
   ],
   "source": [
    "var line = new String(\"-\");\n",
    "var anotherLine = line.concat(\"-\");\n",
    "System.out.println(line + \", Hashcode\" + line.hashCode());\n",
    "System.out.println(anotherLine + \", Hashcode\" + anotherLine.hashCode());\n",
    "String l = line.getClass().getName() + \"@\" + Integer.toHexString(System.identityHashCode(line));\n",
    "String al = anotherLine.getClass().getName() + \"@\" + Integer.toHexString(System.identityHashCode(anotherLine));\n",
    "System.out.println(l);\n",
    "System.out.println(al);\n",
    "System.out.print(line == anotherLine);\n",
    "System.out.print(\" \");\n",
    "System.out.print(line.length());"
   ]
  },
  {
   "cell_type": "markdown",
   "id": "761c8244-778b-4cb8-83a8-4bd325c0aea1",
   "metadata": {},
   "source": [
    "### 8"
   ]
  },
  {
   "cell_type": "code",
   "execution_count": 80,
   "id": "2a67d683-baf3-41c2-a257-7579cf7e40a0",
   "metadata": {},
   "outputs": [],
   "source": [
    "// byte pi1 = 3.14;\n",
    "double pi2 = 3.14;\n",
    "// float pi3 = 3.14;\n",
    "// short pi4 = 3.14;\n",
    "var pi5 = 3.14;"
   ]
  },
  {
   "cell_type": "markdown",
   "id": "75ac4a9f-f8db-4fd5-bb0e-f26544ea9749",
   "metadata": {},
   "source": [
    "### 9"
   ]
  },
  {
   "cell_type": "code",
   "execution_count": null,
   "id": "a29dbd42-9087-4768-a03e-9da874a947a9",
   "metadata": {},
   "outputs": [],
   "source": []
  },
  {
   "cell_type": "markdown",
   "id": "f579d015-87a4-41e8-ba6f-6ace82667a73",
   "metadata": {},
   "source": [
    "### 10"
   ]
  },
  {
   "cell_type": "code",
   "execution_count": 81,
   "id": "b162e3cf-d395-4105-9b44-754efe9deb63",
   "metadata": {},
   "outputs": [],
   "source": [
    "Comparator c1 = (j, k) -> 0;\n",
    "Comparator<String> c2 = (String j, String k) -> 0;\n",
    "// Comparator c3 = (var j, String k) -> 0;\n",
    "// Comparator c4 = (var j, k) -> 0;\n",
    "// Comparator c5 = (var j, var k) -> 0;"
   ]
  },
  {
   "cell_type": "markdown",
   "id": "179f285c-6107-4310-bbcf-c8d337d69997",
   "metadata": {},
   "source": [
    "### 11"
   ]
  },
  {
   "cell_type": "code",
   "execution_count": 82,
   "id": "ee023c1f-091a-4102-b924-850bbae3ca8f",
   "metadata": {},
   "outputs": [],
   "source": [
    "public static void secret1(String mystery) {\n",
    "    char ch = mystery.charAt(3);\n",
    "    // mystery = mystery.insert(1, \"more\");\n",
    "    int num = mystery.length();\n",
    "}\n",
    "public static void secret2(StringBuilder mystery) {\n",
    "    char ch = mystery.charAt(3);\n",
    "    mystery = mystery.insert(1, \"more\");\n",
    "    int num = mystery.length();\n",
    "}"
   ]
  },
  {
   "cell_type": "markdown",
   "id": "a716ec7d-431a-4a39-bd28-66e683ad77e9",
   "metadata": {},
   "source": [
    "### 12"
   ]
  },
  {
   "cell_type": "code",
   "execution_count": 83,
   "id": "c77999dd-675c-4c81-97a3-1932f5b6f618",
   "metadata": {},
   "outputs": [
    {
     "name": "stdout",
     "output_type": "stream",
     "text": [
      "333 806 1601"
     ]
    }
   ],
   "source": [
    "var teams = new StringBuilder(\"333\");\n",
    "teams.append(\" 806\");\n",
    "teams.append(\" 1601\");\n",
    "System.out.print(teams);"
   ]
  },
  {
   "cell_type": "markdown",
   "id": "f0d364b0-11fa-4a33-8059-e7ba62808727",
   "metadata": {},
   "source": [
    "### 13"
   ]
  },
  {
   "cell_type": "code",
   "execution_count": 84,
   "id": "37b50445-baca-4b0c-8cc7-4ed7e8f301ad",
   "metadata": {},
   "outputs": [],
   "source": [
    "// double num1, int num2 = 0;\n",
    "int num3, num4;\n",
    "int num5, num6 = 0;\n",
    "int num7 = 0, num8 = 0;"
   ]
  },
  {
   "cell_type": "markdown",
   "id": "164a3387-ad6c-4cf8-98ff-47e9de4e1b4c",
   "metadata": {},
   "source": [
    "### 14"
   ]
  },
  {
   "cell_type": "code",
   "execution_count": 85,
   "id": "eae3dd67-eab0-4282-8453-c26206ac799a",
   "metadata": {},
   "outputs": [],
   "source": [
    "// var color1;\n",
    "// var color1v = \"test\";\n",
    "class Magnet {\n",
    "    // line a2\n",
    "    // var color2;\n",
    "    // var color2v = 0;\n",
    "    public void attach() {\n",
    "        // line a3\n",
    "        // var color3;\n",
    "        var color3v = 0;\n",
    "    }\n",
    "    // line a4\n",
    "    // var color4;\n",
    "}"
   ]
  },
  {
   "cell_type": "markdown",
   "id": "9154537c-8979-4400-9a90-42c51d46df34",
   "metadata": {},
   "source": [
    "### 15"
   ]
  },
  {
   "cell_type": "code",
   "execution_count": 86,
   "id": "0d42efb1-57dd-492e-be14-7fdf14668968",
   "metadata": {},
   "outputs": [
    {
     "name": "stdout",
     "output_type": "stream",
     "text": [
      "[9]\n",
      "[]\n"
     ]
    }
   ],
   "source": [
    "var list = new ArrayList<Integer>();\n",
    "list.add(10);\n",
    "list.add(9);\n",
    "list.add(8);\n",
    "var num = 9;\n",
    "list.removeIf(x -> {\n",
    "    int keep = num;\n",
    "    return x != keep;\n",
    "});\n",
    "System.out.println(list);\n",
    "list.removeIf(x -> {\n",
    "    int keep = num;\n",
    "    return x == keep;\n",
    "});\n",
    "System.out.println(list);"
   ]
  },
  {
   "cell_type": "markdown",
   "id": "2c864f40-c813-4471-81dd-f44ce643585a",
   "metadata": {},
   "source": [
    "### 16"
   ]
  },
  {
   "cell_type": "code",
   "execution_count": 87,
   "id": "14d90101-41e6-46ea-9217-736dfbae6eed",
   "metadata": {},
   "outputs": [
    {
     "name": "stdout",
     "output_type": "stream",
     "text": [
      ":) - (:\n",
      ":) - (:\n",
      "true\n"
     ]
    }
   ],
   "source": [
    "var happy = \" :) - (: \";\n",
    "var really = happy.trim();\n",
    "System.out.println(really);\n",
    "var question = happy.substring(1, happy.length() - 1) ;\n",
    "System.out.println(question);\n",
    "System.out.println(really.equals(question))"
   ]
  },
  {
   "cell_type": "markdown",
   "id": "ced4a6af-058c-4ee7-a4a3-dfc32a8851da",
   "metadata": {},
   "source": [
    "### 17"
   ]
  },
  {
   "cell_type": "code",
   "execution_count": 88,
   "id": "42cd232d-113b-4c81-bc7b-06cc98581317",
   "metadata": {},
   "outputs": [],
   "source": [
    "double num1 = 2.718;\n",
    "// double num2 = 2._718;\n",
    "double num3 = 2.7_1_8;\n",
    "// double num4 = _2.718;"
   ]
  },
  {
   "cell_type": "markdown",
   "id": "4d16db2a-fa65-48b4-a7c3-bac2c2581966",
   "metadata": {},
   "source": [
    "### 18"
   ]
  },
  {
   "cell_type": "code",
   "execution_count": 89,
   "id": "59595a83-89c6-4e4b-8685-292e5922a830",
   "metadata": {},
   "outputs": [],
   "source": [
    "class Airplane {\n",
    "    static int start = 2;\n",
    "    final int end;\n",
    "\n",
    "    public Airplane(int x) {\n",
    "        x = 4;\n",
    "        end = x;\n",
    "    }\n",
    "\n",
    "    public void fly(int distance) {\n",
    "        System.out.print(end - start + \" \");\n",
    "        System.out.print(distance);\n",
    "    }\n",
    "\n",
    "    public static void main(String... start) {\n",
    "        new Airplane(10).fly(5);\n",
    "    }\n",
    "}"
   ]
  },
  {
   "cell_type": "markdown",
   "id": "685a9be6-00fd-4291-80f3-bf62bb0fd21e",
   "metadata": {},
   "source": [
    "### 19"
   ]
  },
  {
   "cell_type": "code",
   "execution_count": 90,
   "id": "be558d52-e9d8-4413-9ce8-5a8e491e9f32",
   "metadata": {},
   "outputs": [],
   "source": [
    "class Countdown {\n",
    "    public static void main(String[] args) {\n",
    "        var builder = \"54321\";\n",
    "        builder = builder.substring(4);\n",
    "        System.out.println(builder.charAt(2));\n",
    "    }\n",
    "}"
   ]
  },
  {
   "cell_type": "markdown",
   "id": "b2a439f4-3735-4f84-991c-7e21680fbdbc",
   "metadata": {},
   "source": [
    "### 20"
   ]
  },
  {
   "cell_type": "code",
   "execution_count": 91,
   "id": "9a8d4d74-74fe-47f5-8ec3-c87893cfc1d6",
   "metadata": {},
   "outputs": [],
   "source": [
    "class Rematerialize {\n",
    "    public static void main(String[] input) {\n",
    "        int init = 11;\n",
    "        int split = 3;\n",
    "        int partA = init / split;\n",
    "        int partB = init % split;\n",
    "        int result = split * (partB + partA);\n",
    "        System.out.print(result);\n",
    "    }\n",
    "}"
   ]
  },
  {
   "cell_type": "markdown",
   "id": "44e0332a-92f7-44e5-9b43-f6589d358b85",
   "metadata": {},
   "source": [
    "### 21"
   ]
  },
  {
   "cell_type": "code",
   "execution_count": 92,
   "id": "a67b0443-73ce-4407-bd23-5e1f3f250cac",
   "metadata": {},
   "outputs": [
    {
     "name": "stdout",
     "output_type": "stream",
     "text": [
      "robotsradical\n"
     ]
    }
   ],
   "source": [
    "StringBuilder sb = new StringBuilder();\n",
    "var sb2 = new StringBuilder(\"radical\").insert(sb.length(), \"robots\");\n",
    "System.out.println(sb2);"
   ]
  },
  {
   "cell_type": "markdown",
   "id": "e022c655-c9df-4c43-b80c-ad3243631819",
   "metadata": {},
   "source": [
    "### 22"
   ]
  },
  {
   "cell_type": "code",
   "execution_count": 93,
   "id": "544ea844-3613-4249-a1ac-8c1db20f20c1",
   "metadata": {},
   "outputs": [
    {
     "name": "stdout",
     "output_type": "stream",
     "text": [
      "Salad\n"
     ]
    }
   ],
   "source": [
    "int time = 9;\n",
    "int day = 3;\n",
    "var dinner = ++time >= 10 ? day-- <= 2 ? \"Takeout\" : \"Salad\" : \"Leftovers\";\n",
    "System.out.println(dinner);"
   ]
  },
  {
   "cell_type": "markdown",
   "id": "d41eadfd-01ce-4ea1-8af5-c32bdaa48581",
   "metadata": {},
   "source": [
    "### 23"
   ]
  },
  {
   "cell_type": "code",
   "execution_count": 94,
   "id": "6544c523-6ab0-4feb-92a3-348eaa3b4ac3",
   "metadata": {},
   "outputs": [
    {
     "name": "stdout",
     "output_type": "stream",
     "text": [
      "694\n"
     ]
    }
   ],
   "source": [
    "var teams = new String(\"694\");\n",
    "teams.concat(\" 1155\");\n",
    "teams.concat(\" 2265\");\n",
    "teams.concat(\" 2869\");\n",
    "System.out.println(teams);"
   ]
  },
  {
   "cell_type": "markdown",
   "id": "21d47aba-9819-4b7e-8c21-86662cae0944",
   "metadata": {},
   "source": [
    "### 24"
   ]
  },
  {
   "cell_type": "code",
   "execution_count": 95,
   "id": "afccd7e3-222e-46b2-9c66-25dd6f67c4c4",
   "metadata": {},
   "outputs": [],
   "source": [
    "// bool b = null;\n",
    "// Bool bl = null;\n",
    "Boolean BL = null;\n",
    "// int i = null;\n",
    "Integer in = null;\n",
    "String s = null;"
   ]
  },
  {
   "cell_type": "markdown",
   "id": "8904b966-1682-4fac-9eb1-15f2cfbbd4d6",
   "metadata": {},
   "source": [
    "### 25"
   ]
  },
  {
   "cell_type": "code",
   "execution_count": 96,
   "id": "3166426f-8a63-44dc-abe7-91de93268400",
   "metadata": {
    "scrolled": true
   },
   "outputs": [
    {
     "name": "stdout",
     "output_type": "stream",
     "text": [
      "true-2-true\n"
     ]
    }
   ],
   "source": [
    "int height = 2, length = 3;\n",
    "boolean w = height > 1 | --length < 4;\n",
    "var x = height!=2 ? length++ : height;\n",
    "boolean z = height % length == 0;\n",
    "System.out.println(w + \"-\" + x + \"-\" + z);"
   ]
  },
  {
   "cell_type": "markdown",
   "id": "6bd5c4ca-6012-4cee-9a83-2aa8e597a0e8",
   "metadata": {},
   "source": [
    "### 26"
   ]
  },
  {
   "cell_type": "code",
   "execution_count": 97,
   "id": "eca71415-e9a4-4126-9864-3314ee54e996",
   "metadata": {},
   "outputs": [
    {
     "name": "stdout",
     "output_type": "stream",
     "text": [
      "e\n"
     ]
    }
   ],
   "source": [
    "var sb = new StringBuilder();\n",
    "sb.append(\"red\");\n",
    "sb.deleteCharAt(0);\n",
    "sb.delete(1, 2);\n",
    "System.out.println(sb);"
   ]
  },
  {
   "cell_type": "markdown",
   "id": "649ee6db-8949-4070-8f0f-fb205c1ca130",
   "metadata": {},
   "source": [
    "### 27"
   ]
  },
  {
   "cell_type": "code",
   "execution_count": 98,
   "id": "844e9432-bf33-4e83-9d9b-48d6d828fad5",
   "metadata": {},
   "outputs": [
    {
     "name": "stdout",
     "output_type": "stream",
     "text": [
      "1. true\n"
     ]
    }
   ],
   "source": [
    "String s = \"xabcy\";\n",
    "if (s.contains(\"abc\")) System.out.println(\"1. \" + true);\n",
    "if (s.equals(\"abc\")) System.out.println(\"2. \" + true);"
   ]
  },
  {
   "cell_type": "markdown",
   "id": "ea353e95-6fe2-4127-852c-b8dc707c16bb",
   "metadata": {},
   "source": [
    "### 28"
   ]
  },
  {
   "cell_type": "code",
   "execution_count": 99,
   "id": "329d48e1-21a0-4e65-8ee2-c13c52638e99",
   "metadata": {},
   "outputs": [
    {
     "name": "stdout",
     "output_type": "stream",
     "text": [
      "false,false,true\n"
     ]
    }
   ],
   "source": [
    "boolean carrot = true;\n",
    "Boolean potato = false;\n",
    "var broccoli = true;\n",
    "carrot = carrot & potato;\n",
    "broccoli = broccoli ? !carrot : potato;\n",
    "potato = !broccoli ^ carrot;\n",
    "System.out.println(carrot + \",\" + potato + \",\" + broccoli);"
   ]
  },
  {
   "cell_type": "markdown",
   "id": "82fb9fa1-76a1-40d7-89e7-2aacfb7c19f2",
   "metadata": {},
   "source": [
    "### 29"
   ]
  },
  {
   "cell_type": "code",
   "execution_count": 100,
   "id": "018b094c-cbcf-405c-b55a-088d8d9cb492",
   "metadata": {},
   "outputs": [
    {
     "name": "stdout",
     "output_type": "stream",
     "text": [
      "[baby, baby, baby]\n"
     ]
    }
   ],
   "source": [
    "var babies = Arrays.asList(\"chick\", \"cygnet\", \"duckling\");\n",
    "babies.replaceAll(x -> {\n",
    "            var newValue = \"baby\";\n",
    "            return newValue;\n",
    "        }\n",
    ");\n",
    "System.out.println(babies);"
   ]
  },
  {
   "cell_type": "markdown",
   "id": "df7ca6cb-3583-4a84-896d-a94adbff97af",
   "metadata": {},
   "source": [
    "### 30"
   ]
  },
  {
   "cell_type": "code",
   "execution_count": 101,
   "id": "119d837c-18e5-472b-b06f-116436a063a4",
   "metadata": {},
   "outputs": [
    {
     "name": "stdout",
     "output_type": "stream",
     "text": [
      "4\n",
      "2\n"
     ]
    }
   ],
   "source": [
    "var builder = new StringBuilder(\"54321\");\n",
    "builder.substring(2);\n",
    "String str = builder.substring(2);\n",
    "System.out.println(builder.charAt(1));\n",
    "System.out.println(str.charAt(1));"
   ]
  },
  {
   "cell_type": "markdown",
   "id": "19a9068f-df31-466f-be7e-91f0bd1517c3",
   "metadata": {},
   "source": [
    "---"
   ]
  },
  {
   "cell_type": "markdown",
   "id": "2dbe4fe9-af85-4d4c-a0b2-62e01be7347f",
   "metadata": {},
   "source": [
    "# Chapter2"
   ]
  },
  {
   "cell_type": "code",
   "execution_count": 103,
   "id": "45632657-e191-4464-8ed0-fd6bfd838971",
   "metadata": {},
   "outputs": [],
   "source": [
    "void dance() {\n",
    "    // var singer = 0;\n",
    "    while (singer)\n",
    "        System.out.print(singer++);\n",
    "}"
   ]
  },
  {
   "cell_type": "markdown",
   "id": "ccf2bf0a-d4e6-4d7d-9ccb-080c8d593a6c",
   "metadata": {},
   "source": [
    "---"
   ]
  }
 ],
 "metadata": {
  "kernelspec": {
   "display_name": "Java",
   "language": "java",
   "name": "java"
  },
  "language_info": {
   "codemirror_mode": "java",
   "file_extension": ".jshell",
   "mimetype": "text/x-java-source",
   "name": "Java",
   "pygments_lexer": "java",
   "version": "17.0.9+8-LTS"
  }
 },
 "nbformat": 4,
 "nbformat_minor": 5
}
