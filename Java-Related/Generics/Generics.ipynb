{
 "cells": [
  {
   "cell_type": "markdown",
   "id": "3e259a45-cb0b-4844-9288-0f1330cabd45",
   "metadata": {},
   "source": [
    "# Dependency"
   ]
  },
  {
   "cell_type": "code",
   "execution_count": 2,
   "id": "9ff36e26-ae72-4e3b-809b-de9204c3ad10",
   "metadata": {},
   "outputs": [],
   "source": [
    "// code"
   ]
  },
  {
   "cell_type": "markdown",
   "id": "ee6687ce-9f9d-4128-b0cd-eb250ba768c8",
   "metadata": {},
   "source": [
    "---"
   ]
  },
  {
   "cell_type": "markdown",
   "id": "67157d6b-1407-4523-aaeb-a40765a0b5b1",
   "metadata": {},
   "source": [
    "# Import"
   ]
  },
  {
   "cell_type": "code",
   "execution_count": 10,
   "id": "0af9a04a-e6c2-40c9-8769-2e6250c81875",
   "metadata": {},
   "outputs": [],
   "source": [
    "import java.util.*;\n",
    "\n",
    "\n",
    "import static java.lang.System.out;"
   ]
  },
  {
   "cell_type": "markdown",
   "id": "a86b359b-4679-405a-83f4-8a5527b055e6",
   "metadata": {},
   "source": [
    "---"
   ]
  },
  {
   "cell_type": "markdown",
   "id": "e509eb65-649a-4aa5-a916-b33630342afa",
   "metadata": {},
   "source": [
    "# TOC"
   ]
  },
  {
   "cell_type": "markdown",
   "id": "d0f95e28-f474-4420-88db-c39a53f48700",
   "metadata": {},
   "source": [
    "- Generic Interface\n",
    "- Bounded Generics\n",
    "- Wildcard Generic\n",
    "- Upper Bound and Lower Bound\n",
    "- Generic Method"
   ]
  },
  {
   "cell_type": "markdown",
   "id": "16ca4c07-c57f-4744-9c61-1c1479d7116c",
   "metadata": {},
   "source": [
    "---"
   ]
  },
  {
   "cell_type": "markdown",
   "id": "0ddccc3a-d93a-46b6-9985-8bf8bcd7eeaf",
   "metadata": {},
   "source": [
    "# Setup\n",
    "- [Model](#Model)\n",
    "- [Utils](#Utils)"
   ]
  },
  {
   "cell_type": "markdown",
   "id": "d06a76dc-27b9-41c9-9655-997556316b8d",
   "metadata": {
    "jp-MarkdownHeadingCollapsed": true
   },
   "source": [
    "## Model"
   ]
  },
  {
   "cell_type": "code",
   "execution_count": null,
   "id": "a7189b6c-b66f-46e6-890c-f8cc2d06f18b",
   "metadata": {},
   "outputs": [],
   "source": []
  },
  {
   "cell_type": "markdown",
   "id": "e8439cc2-d683-4dd0-a167-929cf4aa607a",
   "metadata": {
    "jp-MarkdownHeadingCollapsed": true
   },
   "source": [
    "## Utils"
   ]
  },
  {
   "cell_type": "code",
   "execution_count": null,
   "id": "687f8aa0-21cb-40a1-ab3f-5b0a908bc49f",
   "metadata": {},
   "outputs": [],
   "source": []
  },
  {
   "cell_type": "markdown",
   "id": "a74bd3ca-3526-4fd6-8338-b511ed2c530e",
   "metadata": {},
   "source": [
    "---"
   ]
  },
  {
   "cell_type": "markdown",
   "id": "ca3dce52-10ed-45bf-9f16-3a4d8ab53316",
   "metadata": {
    "jp-MarkdownHeadingCollapsed": true
   },
   "source": [
    "# Demo1"
   ]
  },
  {
   "cell_type": "code",
   "execution_count": 13,
   "id": "7d973e49-f437-4fc9-b311-a2a209afceba",
   "metadata": {},
   "outputs": [],
   "source": [
    "public class Printer<T> {\n",
    "\n",
    "    T numToPrint;\n",
    "\n",
    "    public Printer(T numToPrint) {\n",
    "        this.numToPrint = numToPrint;\n",
    "    }\n",
    "\n",
    "    public void print(){\n",
    "        System.out.println(numToPrint);\n",
    "    }\n",
    "}"
   ]
  },
  {
   "cell_type": "code",
   "execution_count": 14,
   "id": "e4aa8d22-500d-4fab-8948-599be67a6f45",
   "metadata": {},
   "outputs": [],
   "source": [
    "public class IntegerPrinter {\n",
    "\n",
    "    Integer numToPrint;\n",
    "\n",
    "    public IntegerPrinter(Integer numToPrint) {\n",
    "        this.numToPrint = numToPrint;\n",
    "    }\n",
    "\n",
    "    public void print(){\n",
    "        System.out.println(numToPrint);\n",
    "    }\n",
    "}"
   ]
  },
  {
   "cell_type": "code",
   "execution_count": 15,
   "id": "02fdfeed-7ed9-4ccb-82aa-03a689bd9031",
   "metadata": {},
   "outputs": [
    {
     "name": "stdout",
     "output_type": "stream",
     "text": [
      "23\n",
      "23.0\n",
      "23\n"
     ]
    }
   ],
   "source": [
    "IntegerPrinter specificPrinter = new IntegerPrinter(23);\n",
    "        specificPrinter.print();\n",
    "\n",
    "        Printer<Double> printer = new Printer<>(23.0);\n",
    "        printer.print();\n",
    "\n",
    "        Printer<Integer> printer1 = new Printer<>(23);\n",
    "        printer1.print();"
   ]
  },
  {
   "cell_type": "markdown",
   "id": "d62a25d9-1156-438e-bc3c-d128dd4530bc",
   "metadata": {},
   "source": [
    "---"
   ]
  },
  {
   "cell_type": "markdown",
   "id": "8c134806-4ea2-401a-b5c4-48bd3bebcea3",
   "metadata": {
    "jp-MarkdownHeadingCollapsed": true
   },
   "source": [
    "# Demo2"
   ]
  },
  {
   "cell_type": "code",
   "execution_count": 16,
   "id": "b1c868ec-4b04-4e20-871d-e3b056707268",
   "metadata": {},
   "outputs": [],
   "source": [
    "class Point<T> {\n",
    "    private T x;\n",
    "\n",
    "    public void setX(T x) {\n",
    "        this.x = x;\n",
    "    }\n",
    "\n",
    "    public T getX() {\n",
    "        return this.x;\n",
    "    }\n",
    "}"
   ]
  },
  {
   "cell_type": "code",
   "execution_count": 17,
   "id": "5184e1b8-fbac-404d-bfbc-8b3210923585",
   "metadata": {},
   "outputs": [
    {
     "name": "stdout",
     "output_type": "stream",
     "text": [
      "100\n",
      "100.12\n"
     ]
    }
   ],
   "source": [
    "Point<Integer> p1 = new Point<Integer>();\n",
    "p1.setX(new Integer(100));\n",
    "System.out.println(p1.getX());\n",
    "\n",
    "Point<Float> p2 = new Point<Float>();\n",
    "p2.setX(new Float(100.12f));\n",
    "System.out.println(p2.getX());"
   ]
  },
  {
   "cell_type": "code",
   "execution_count": 30,
   "id": "41766c79-a214-45bb-955b-36e0a26f3e78",
   "metadata": {},
   "outputs": [],
   "source": [
    "class IntegerPoint{\n",
    "    private Integer x ;\n",
    "    private Integer y ;\n",
    "    public void setX(Integer x){\n",
    "        this.x = x ;\n",
    "    }\n",
    "    public void setY(Integer y){\n",
    "        this.y = y ;\n",
    "    }\n",
    "    public Integer getX(){\n",
    "        return this.x ;\n",
    "    }\n",
    "    public Integer getY(){\n",
    "        return this.y ;\n",
    "    }\n",
    "}\n",
    "class FloatPoint{\n",
    "    private Float x ;\n",
    "    private Float y ;\n",
    "    public void setX(Float x){\n",
    "        this.x = x ;\n",
    "    }\n",
    "    public void setY(Float y){\n",
    "        this.y = y ;\n",
    "    }\n",
    "    public Float getX(){\n",
    "        return this.x ;\n",
    "    }\n",
    "    public Float getY(){\n",
    "        return this.y ;\n",
    "    }\n",
    "}\n",
    "class ObjectPoint {\n",
    "    private Object x ;\n",
    "    private Object y ;\n",
    "    public void setX(Object x){\n",
    "        this.x = x ;\n",
    "    }\n",
    "    public void setY(Object y){\n",
    "        this.y = y ;\n",
    "    }\n",
    "    public Object getX(){\n",
    "        return this.x ;\n",
    "    }\n",
    "    public Object getY(){\n",
    "        return this.y ;\n",
    "    }\n",
    "}"
   ]
  },
  {
   "cell_type": "code",
   "execution_count": 31,
   "id": "19d72106-a03d-4661-b647-148e6dc76d8c",
   "metadata": {},
   "outputs": [
    {
     "name": "stdout",
     "output_type": "stream",
     "text": [
      "100\n",
      "100.12\n"
     ]
    }
   ],
   "source": [
    "ObjectPoint integerPoint = new ObjectPoint();\n",
    "integerPoint.setX(new Integer(100));\n",
    "Integer integerX = (Integer)integerPoint.getX();\n",
    "System.out.println(integerX);\n",
    "\n",
    "ObjectPoint floatPoint = new ObjectPoint();\n",
    "floatPoint.setX(new Float(100.12f));\n",
    "Float floatX = (Float)floatPoint.getX();\n",
    "System.out.println(floatX);"
   ]
  },
  {
   "cell_type": "markdown",
   "id": "e3403827-0ed0-45ae-b339-8664ad76c3ad",
   "metadata": {},
   "source": [
    "---"
   ]
  },
  {
   "cell_type": "markdown",
   "id": "030cf930-8ca8-421c-b955-fed723415087",
   "metadata": {
    "jp-MarkdownHeadingCollapsed": true
   },
   "source": [
    "# Demo3\n",
    "- `多泛型參數型態 T, U`"
   ]
  },
  {
   "cell_type": "code",
   "execution_count": 34,
   "id": "75567802-fd74-40e8-b71f-4b8d74eab426",
   "metadata": {},
   "outputs": [],
   "source": [
    "class MorePoint<T, U> {\n",
    "    private T x;\n",
    "    private U name;\n",
    "\n",
    "    //作為參數傳入\n",
    "    public void setX(T x){\n",
    "        this.x = x;\n",
    "    }\n",
    "    public void setName(U name){\n",
    "        this.name = name;\n",
    "    }\n",
    "\n",
    "    //作為返回值\n",
    "    public T getX(){\n",
    "        return this.x;\n",
    "    }\n",
    "    public U getName(){\n",
    "        return this.name;\n",
    "    }\n",
    "}"
   ]
  },
  {
   "cell_type": "code",
   "execution_count": 33,
   "id": "b17fe6c2-cd2e-4c57-922a-62c4f2c61315",
   "metadata": {},
   "outputs": [
    {
     "name": "stdout",
     "output_type": "stream",
     "text": [
      "1, Second Param Name\n"
     ]
    }
   ],
   "source": [
    "MorePoint<Integer, String> morePoint = new MorePoint<>();\n",
    "morePoint.setX(new Integer(1));\n",
    "morePoint.setName(\"Second Param Name\");\n",
    "System.out.println(morePoint.getX() + \", \" + morePoint.getName());"
   ]
  },
  {
   "cell_type": "markdown",
   "id": "90698f3c-7e22-4611-8f00-f6dbc1d55760",
   "metadata": {},
   "source": [
    "---"
   ]
  },
  {
   "cell_type": "markdown",
   "id": "d506949a-b075-474c-b0db-b8f5230759b9",
   "metadata": {
    "jp-MarkdownHeadingCollapsed": true
   },
   "source": [
    "# Generic Interface"
   ]
  },
  {
   "cell_type": "code",
   "execution_count": 35,
   "id": "4310af90-396a-48a6-b299-d8884f1cc264",
   "metadata": {},
   "outputs": [],
   "source": [
    "interface Info<T> { //在接口上定義泛型\n",
    "    T getVar(); //定義抽象方法，抽象方法的返回值就是泛型型態\n",
    "    void setVar(T x);\n",
    "}\n",
    "\n",
    "class InfoImpl implements Info<String> { //定義泛型介面的子類別\n",
    "    private String var;\n",
    "\n",
    "    public InfoImpl(String var){\n",
    "        this.setVar(var);\n",
    "    }\n",
    "\n",
    "    @Override\n",
    "    public void setVar(String var){\n",
    "        this.var = var;\n",
    "    }\n",
    "    @Override\n",
    "    public String getVar(){\n",
    "        return this.var;\n",
    "    }\n",
    "}"
   ]
  },
  {
   "cell_type": "code",
   "execution_count": 36,
   "id": "d41456ad-3351-4b16-94da-138eabbdc315",
   "metadata": {},
   "outputs": [
    {
     "name": "stdout",
     "output_type": "stream",
     "text": [
      "This is Generic interface.\n"
     ]
    }
   ],
   "source": [
    "InfoImpl i = new InfoImpl(\"This is Generic interface.\");\n",
    "System.out.println(i.getVar());"
   ]
  },
  {
   "cell_type": "markdown",
   "id": "c034b1c4-9f07-4b4f-a643-fa4dbb10d601",
   "metadata": {},
   "source": [
    "---"
   ]
  },
  {
   "cell_type": "markdown",
   "id": "106fed1b-a79b-454a-8289-352e7b5c18b5",
   "metadata": {},
   "source": [
    "# Bounded Generics"
   ]
  },
  {
   "cell_type": "code",
   "execution_count": 41,
   "id": "fac350a0-b484-4877-90b0-afde4d1215c0",
   "metadata": {},
   "outputs": [],
   "source": [
    "class CollectionGeneric <T extends Collection> {\n",
    "    private final T collection;\n",
    "\n",
    "    CollectionGeneric(T collection){\n",
    "        this.collection = collection;\n",
    "    }\n",
    "\n",
    "    void show(){\n",
    "        System.out.println(this.collection.getClass().getName());\n",
    "    }\n",
    "}"
   ]
  },
  {
   "cell_type": "code",
   "execution_count": 42,
   "id": "24e243e4-de86-43fe-84f2-95c38906f7e6",
   "metadata": {},
   "outputs": [
    {
     "name": "stdout",
     "output_type": "stream",
     "text": [
      "java.util.ArrayDeque\n",
      "java.util.ArrayList\n",
      "java.util.LinkedHashSet\n",
      "java.util.LinkedList\n",
      "java.util.Stack\n",
      "java.util.TreeSet\n",
      "java.util.Vector\n"
     ]
    }
   ],
   "source": [
    "// error\n",
    "// Type parameter 'java.lang.String' is not within its bound; should implement 'java.util.Collection'\n",
    "// new CollectionGeneric<String>();\n",
    "new CollectionGeneric<>(new ArrayDeque<>()).show();\n",
    "new CollectionGeneric<>(new ArrayList<>()).show();\n",
    "new CollectionGeneric<>(new LinkedHashSet<>()).show();\n",
    "new CollectionGeneric<>(new LinkedList<>()).show();\n",
    "new CollectionGeneric<>(new Stack<>()).show();\n",
    "new CollectionGeneric<>(new TreeSet<>()).show();\n",
    "new CollectionGeneric<>(new Vector<>()).show();"
   ]
  },
  {
   "cell_type": "markdown",
   "id": "000ea647-9ab7-4e18-9c83-c35f5b748e9d",
   "metadata": {},
   "source": [
    "---"
   ]
  },
  {
   "cell_type": "markdown",
   "id": "c7cac4a0-5264-488f-80a3-a7e415113722",
   "metadata": {},
   "source": [
    "# Bounded Types\n",
    "> you can create the objects of a generic class to have data of specific derived types\n",
    "> \n",
    "> ex. class MyGenericClass<T extends Number, T2 extends Number>r>"
   ]
  },
  {
   "cell_type": "code",
   "execution_count": 6,
   "id": "c8bc8a9e-5d5f-42c8-9cc6-b585e26c091e",
   "metadata": {},
   "outputs": [],
   "source": [
    "public class MyGenericClass<T extends Number, T2 extends Number> {\n",
    "    T x;\n",
    "    T2 y;\n",
    "\n",
    "    public MyGenericClass(T x, T2 y) {\n",
    "        this.x = x;\n",
    "        this.y = y;\n",
    "    }\n",
    "\n",
    "    public T getValueT() {\n",
    "        return x;\n",
    "    }\n",
    "    public T2 getValueT2() {\n",
    "        return y;\n",
    "    }\n",
    "}"
   ]
  },
  {
   "cell_type": "code",
   "execution_count": 5,
   "id": "50bae777-851e-406b-852f-7039ab751691",
   "metadata": {},
   "outputs": [],
   "source": [
    "public class MyIntClass {\n",
    "    Integer x;\n",
    "\n",
    "    public MyIntClass(Integer x) {\n",
    "        this.x = x;\n",
    "    }\n",
    "\n",
    "    public Integer getValue() {\n",
    "        return x;\n",
    "    }\n",
    "}\n",
    "\n",
    "public class MyDoubleClass {\n",
    "    Double d;\n",
    "\n",
    "    public MyDoubleClass(Double d) {\n",
    "        this.d = d;\n",
    "    }\n",
    "\n",
    "    public Double getValue() {\n",
    "        return d;\n",
    "    }\n",
    "}"
   ]
  },
  {
   "cell_type": "code",
   "execution_count": 8,
   "id": "5bae4fa0-82ff-495b-a821-2fa325d9b75e",
   "metadata": {},
   "outputs": [
    {
     "name": "stdout",
     "output_type": "stream",
     "text": [
      "1, 7\n",
      "5.5, 9.8\n"
     ]
    }
   ],
   "source": [
    "MyGenericClass<Integer, Integer> myIntClass = new MyGenericClass<>(1, 7);\n",
    "MyGenericClass<Double, Double> myDoubleClass = new MyGenericClass<>(5.5, 9.8);\n",
    "\n",
    "ArrayList<MyGenericClass> myArr = new ArrayList<>();\n",
    "myArr.add(myIntClass);\n",
    "myArr.add(myDoubleClass);\n",
    "\n",
    "myArr.forEach(x -> System.out.println(x.getValueT() + \", \" + x.getValueT2()));"
   ]
  },
  {
   "cell_type": "markdown",
   "id": "58be60ca-a64d-4137-930b-f45bda3abf15",
   "metadata": {},
   "source": [
    "---"
   ]
  },
  {
   "cell_type": "markdown",
   "id": "2106e36a-d3cf-456b-bebd-9fde6db6eff8",
   "metadata": {
    "jp-MarkdownHeadingCollapsed": true
   },
   "source": [
    "# Wildcard Generic"
   ]
  },
  {
   "cell_type": "code",
   "execution_count": 48,
   "id": "d6e25db4-9c80-44d9-bcef-2090ce20a7d1",
   "metadata": {},
   "outputs": [],
   "source": [
    "class Point<T, U> {\n",
    "    private T x;\n",
    "    private U y;\n",
    "\n",
    "    Point(T x, U y){\n",
    "        setPoint(x, y);\n",
    "    }\n",
    "\n",
    "    void setPoint(T x, U y){\n",
    "        this.x = x;\n",
    "        this.y = y;\n",
    "    }\n",
    "\n",
    "    T getX(){\n",
    "        return this.x;\n",
    "    }\n",
    "    U getY(){\n",
    "        return this.y;\n",
    "    }\n",
    "}"
   ]
  },
  {
   "cell_type": "code",
   "execution_count": 49,
   "id": "a58f2388-116d-404a-9b5d-6ff34bc20e12",
   "metadata": {},
   "outputs": [
    {
     "name": "stdout",
     "output_type": "stream",
     "text": [
      "x : java.lang.Integer\n",
      "y : java.lang.Double\n",
      "------------------------------------------\n",
      "x : java.lang.Object\n",
      "y : [Ljava.lang.String;\n",
      "------------------------------------------\n"
     ]
    }
   ],
   "source": [
    "Point<?, ?> p = new Point(12, 13.5); // 自動封裝\n",
    "System.out.println(\"x : \" + p.getX().getClass().getName());\n",
    "System.out.println(\"y : \" + p.getY().getClass().getName());\n",
    "System.out.println(\"------------------------------------------\");\n",
    "\n",
    "p = new Point(new Object(), new String[]{\"A\", \"B\"});\n",
    "System.out.println(\"x : \" + p.getX().getClass().getName());\n",
    "System.out.println(\"y : \" + p.getY().getClass().getName());\n",
    "System.out.println(\"------------------------------------------\");"
   ]
  },
  {
   "cell_type": "markdown",
   "id": "f4708f1a-d18d-4078-9c98-d314a035de5f",
   "metadata": {},
   "source": [
    "---"
   ]
  },
  {
   "cell_type": "markdown",
   "id": "5680c0b5-f9d4-4bfa-b422-d95dbf08fb7e",
   "metadata": {},
   "source": [
    "# Upper Bound and Lower Bound "
   ]
  },
  {
   "cell_type": "code",
   "execution_count": 66,
   "id": "e951cfc4-5243-4160-a0e6-e2ddb6c0f525",
   "metadata": {},
   "outputs": [],
   "source": [
    "//Lev 1\n",
    "class Food {\n",
    "}\n",
    "\n",
    "//Lev 2\n",
    "class Fruit extends Food {\n",
    "}\n",
    "\n",
    "class Meat extends Food {\n",
    "}\n",
    "\n",
    "//Lev 3\n",
    "class Apple extends Fruit {\n",
    "}\n",
    "\n",
    "class Banana extends Fruit {\n",
    "}\n",
    "\n",
    "class Pork extends Meat {\n",
    "}\n",
    "\n",
    "class Beef extends Meat {\n",
    "}\n",
    "\n",
    "//Lev 4\n",
    "class RedApple extends Apple {\n",
    "}\n",
    "\n",
    "class GreenApple extends Apple {\n",
    "}\n",
    "\n",
    "// Generic\n",
    "class Plate<T> {\n",
    "    private T item;\n",
    "\n",
    "    public Plate(T t) {\n",
    "        item = t;\n",
    "    }\n",
    "\n",
    "    public void set(T t) {\n",
    "        item = t;\n",
    "    }\n",
    "\n",
    "    public T get() {\n",
    "        return item;\n",
    "    }\n",
    "}"
   ]
  },
  {
   "cell_type": "code",
   "execution_count": 67,
   "id": "b6fdcd36-ac22-4078-b5f5-411b69cf9470",
   "metadata": {},
   "outputs": [
    {
     "name": "stdout",
     "output_type": "stream",
     "text": [
      "REPL.$JShell$155$Apple@639054f3, REPL.$JShell$155$Apple@639054f3, REPL.$JShell$155$Apple@639054f3\n",
      "REPL.$JShell$155$Apple@6d57b6f1\n"
     ]
    }
   ],
   "source": [
    "// Apple is a Fruit\n",
    "// Apple in Plate is not a Fruit in Plate\n",
    "// Plate<Fruit> plate = new Plate<Apple>(new Apple()); // err\n",
    "\n",
    "// Producer, 只讀取，不能存\n",
    "Plate<? extends Fruit> plateProducer = new Plate<Apple>(new Apple());\n",
    "// plate(new Fruit()); // err\n",
    "// plate(new Apple()); // err\n",
    "\n",
    "Fruit fruit1 = plateProducer.get();\n",
    "Food food = plateProducer.get();\n",
    "Object o = plateProducer.get();\n",
    "System.out.printf(\"%s, %s, %s\\n\", fruit1, food, o);\n",
    "// 只能讀取存放為Fruiit或其父類別\n",
    "// Apple apple = plateProducer.get(); // err\n",
    "\n",
    "// Consumer : 能存，但往外讀取只能用Object\n",
    "Plate<? super Fruit> plateConsumer = new Plate<Food>(new Food());\n",
    "plateConsumer.set(new Fruit());\n",
    "plateConsumer.set(new Apple());\n",
    "\n",
    "// 無法存入 Fruit父類別\n",
    "// plateConsumer.set(new Food()); // err\n",
    "\n",
    "// 讀取出來的東西只能存於Object類別內\n",
    "// Fruit fruit2 = plateConsumer.get(); // err\n",
    "// Food food2 = plateConsumer.get();   // err\n",
    "// Apple apple = plateConsumer.get();  // err\n",
    "\n",
    "Object o2 = plateConsumer.get();\n",
    "System.out.println(o2);"
   ]
  },
  {
   "cell_type": "markdown",
   "id": "bd4c378f-0a45-4b69-a983-df343100cba0",
   "metadata": {},
   "source": [
    "## Demo2"
   ]
  },
  {
   "cell_type": "code",
   "execution_count": null,
   "id": "7079fdd7-69c1-41c9-a30b-85a39b7c42ac",
   "metadata": {},
   "outputs": [],
   "source": []
  },
  {
   "cell_type": "markdown",
   "id": "7a0a2e95-f0c8-4c9c-a000-11d40f374728",
   "metadata": {},
   "source": [
    "---"
   ]
  },
  {
   "cell_type": "markdown",
   "id": "9dc773a6-c2a4-43e8-a0de-0e4fe21f1403",
   "metadata": {
    "jp-MarkdownHeadingCollapsed": true
   },
   "source": [
    "# Generic Method"
   ]
  },
  {
   "cell_type": "code",
   "execution_count": 12,
   "id": "631e24f0-0154-4887-8b9b-6e85aee8530c",
   "metadata": {},
   "outputs": [],
   "source": [
    "public class GenericMethodDemo {\n",
    "    public <T> List<T> fromArrayToList(T[] a) {\n",
    "\t\treturn Arrays.stream(a).collect(Collectors.toList());\n",
    "\t}\n",
    "\n",
    "\tpublic static <T, G> List<G> fromArrayToList(T[] a, Function<T, G> mapperFunction) {\n",
    "\t\treturn Arrays.stream(a)\n",
    "\t\t\t\t.map(mapperFunction)\n",
    "\t\t\t\t.collect(Collectors.toList());\n",
    "\t}\n",
    "\n",
    "\t// Bounded Generic\n",
    "\tpublic <T extends Number> List<T> fromArrayToList(T[] a) {\n",
    "\t\treturn Arrays.stream(a).collect(Collectors.toList());\n",
    "\t}\n",
    "\n",
    "\t// Multiple Bounds\n",
    "\tpublic <T extends Number & Comparable<T>> List<T> fromArrayToList2(T[] a) {\n",
    "\t\treturn Arrays.stream(a).collect(Collectors.toList());\n",
    "\t}\n",
    "\n",
    "\t/*\n",
    "\tpublic static void paintAllBuildings(List<Building> buildings) {\n",
    "\t\tbuildings.forEach(Building::paint);\n",
    "\t}\n",
    "\n",
    "\tpublic static void paintAllBuildings(List<? extends Building> buildings) {\n",
    "\n",
    "\t}\n",
    "    */\n",
    "}"
   ]
  },
  {
   "cell_type": "code",
   "execution_count": 11,
   "id": "fab6c435-fc74-4c82-aece-4ec7cd762b4a",
   "metadata": {},
   "outputs": [
    {
     "name": "stdout",
     "output_type": "stream",
     "text": [
      "[1, 2, 3, 4, 5]\n"
     ]
    }
   ],
   "source": [
    "Integer[] intArray = {1, 2, 3, 4, 5};\n",
    "List<String> list = GenericMethodDemo.fromArrayToList(intArray, Object::toString);\n",
    "\n",
    "System.out.println(list);"
   ]
  },
  {
   "cell_type": "markdown",
   "id": "52532b00-13a0-4c32-b2c0-aaf1d316366e",
   "metadata": {},
   "source": [
    "## Demo2"
   ]
  },
  {
   "cell_type": "code",
   "execution_count": 1,
   "id": "3f865dbe-4af9-4739-be6f-2504946be6fa",
   "metadata": {},
   "outputs": [],
   "source": [
    "public class Person {\n",
    "    String name;\n",
    "    int age;\n",
    "\n",
    "    Person(String name, int age) {\n",
    "        this.name = name;\n",
    "        this.age = age;\n",
    "    }\n",
    "\n",
    "    @Override\n",
    "    public String toString() {\n",
    "        return \"Person{name='\" + name + \"', age=\" + age + \"}\";\n",
    "    }\n",
    "}\n",
    "private static <T> void draw(T x) {\n",
    "    System.out.println(\"x = \" + x);\n",
    "}"
   ]
  },
  {
   "cell_type": "code",
   "execution_count": 4,
   "id": "890704ee-30be-4285-9972-530453606ea9",
   "metadata": {},
   "outputs": [
    {
     "name": "stdout",
     "output_type": "stream",
     "text": [
      "x = 42\n",
      "x = Hello, World!\n",
      "x = 3.14\n",
      "x = Person{name='John', age=100}\n"
     ]
    }
   ],
   "source": [
    "// Example with Integer\n",
    "draw(42);\n",
    "\n",
    "// Example with String\n",
    "draw(\"Hello, World!\");\n",
    "\n",
    "// Example with Double\n",
    "draw(3.14);\n",
    "\n",
    "// Example with custom class\n",
    "Person person = new Person(\"John\", 100);\n",
    "draw(person);"
   ]
  },
  {
   "cell_type": "markdown",
   "id": "15408754-b2c4-4778-9575-a3880b0cb44c",
   "metadata": {},
   "source": [
    "---"
   ]
  }
 ],
 "metadata": {
  "kernelspec": {
   "display_name": "Java",
   "language": "java",
   "name": "java"
  },
  "language_info": {
   "codemirror_mode": "java",
   "file_extension": ".jshell",
   "mimetype": "text/x-java-source",
   "name": "Java",
   "pygments_lexer": "java",
   "version": "17.0.6+10-jvmci-22.3-b13"
  },
  "widgets": {
   "application/vnd.jupyter.widget-state+json": {
    "state": {},
    "version_major": 2,
    "version_minor": 0
   }
  }
 },
 "nbformat": 4,
 "nbformat_minor": 5
}
