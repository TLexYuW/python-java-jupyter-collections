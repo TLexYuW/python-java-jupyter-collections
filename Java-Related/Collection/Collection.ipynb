{
 "cells": [
  {
   "cell_type": "markdown",
   "id": "5314adb9-2df2-4a78-a124-f8bbfb5112c4",
   "metadata": {},
   "source": [
    "# Dependency"
   ]
  },
  {
   "cell_type": "code",
   "execution_count": 50,
   "id": "675104e1-5634-40a9-8220-aaca0248f76a",
   "metadata": {},
   "outputs": [],
   "source": [
    "// code"
   ]
  },
  {
   "cell_type": "markdown",
   "id": "88c7aadb-0892-4207-9877-cb652eea7d40",
   "metadata": {},
   "source": [
    "---"
   ]
  },
  {
   "cell_type": "markdown",
   "id": "513d6617-cfef-4a84-bf72-65e00ff4a115",
   "metadata": {},
   "source": [
    "# Import"
   ]
  },
  {
   "cell_type": "code",
   "execution_count": 51,
   "id": "5f1e7739-759b-46e7-b6e5-05206347f18b",
   "metadata": {},
   "outputs": [],
   "source": [
    "import java.util.*;\n",
    "import java.util.concurrent.*;\n",
    "\n",
    "import static java.lang.System.out;"
   ]
  },
  {
   "cell_type": "markdown",
   "id": "ecbae0a9-1b41-4a73-b40c-3d6c5866eb49",
   "metadata": {},
   "source": [
    "---"
   ]
  },
  {
   "cell_type": "markdown",
   "id": "29f82f02-c3da-49f4-9966-e80961e0cb81",
   "metadata": {},
   "source": [
    "# TOC\n",
    "- Map\n",
    "    - HashMap\n",
    "    - ConcurrentHashMap\n",
    "- Set\n",
    "    - HashSet\n",
    "- Vector\n",
    "- Queue\n",
    "    - ConcurrentLinkedQueue\n",
    "    - LinkedBlockingQueue\n",
    "- iterator"
   ]
  },
  {
   "cell_type": "markdown",
   "id": "04a5ab9b-b58a-454c-88b5-7ebd36355cb8",
   "metadata": {
    "jp-MarkdownHeadingCollapsed": true
   },
   "source": [
    "### Ref\r\n",
    "- iterator\r\n",
    "  - https://www.youtube.com/playlist?list=PLL8woMHwr36HmQfxqqqxns5GexTNmxFqK\r\n",
    "- Map、HashMap、ConcurrentHashMap\r\n",
    "  - https://youtu.be/F3qSB5VhDN8\r\n",
    "  - https://youtu.be/_A0Wty5Aeis\r\n",
    "  - https://www.programiz.com/java-programming/concurrenthashmap\r\n",
    "- Set\r\n",
    "  - https://youtu.be/QvHBHuuddYk\r\n",
    "- Vector\r\n",
    "  - https://youtu.be/s2h_lYgbkPI"
   ]
  },
  {
   "cell_type": "markdown",
   "id": "9b16ad94-74a8-4964-852b-8c9dd24db824",
   "metadata": {},
   "source": [
    "---"
   ]
  },
  {
   "cell_type": "markdown",
   "id": "b6e98f56-72de-4cba-bcfc-f1dbff715c82",
   "metadata": {
    "jp-MarkdownHeadingCollapsed": true
   },
   "source": [
    "# Setup\n",
    "- [Model](#Model)\n",
    "- [Utils](#Utils)"
   ]
  },
  {
   "cell_type": "markdown",
   "id": "2c3e8734-81b6-4fb5-bc1c-9ca7e492285a",
   "metadata": {
    "jp-MarkdownHeadingCollapsed": true
   },
   "source": [
    "## Model"
   ]
  },
  {
   "cell_type": "code",
   "execution_count": null,
   "id": "7c6d638c-b9e0-4ae5-911b-06f9504c90de",
   "metadata": {},
   "outputs": [],
   "source": []
  },
  {
   "cell_type": "markdown",
   "id": "04f4a4d1-465d-49f3-bf76-8f721e56a7cf",
   "metadata": {},
   "source": [
    "## Utils"
   ]
  },
  {
   "cell_type": "code",
   "execution_count": null,
   "id": "946b9311-0180-4c56-bd6f-64d32ae25f95",
   "metadata": {},
   "outputs": [],
   "source": []
  },
  {
   "cell_type": "markdown",
   "id": "d677394a-18ea-4e92-bbec-df22795bdbbe",
   "metadata": {},
   "source": [
    "---"
   ]
  },
  {
   "cell_type": "markdown",
   "id": "ce9e3d18-1d43-4106-a1da-59247a0734d9",
   "metadata": {},
   "source": [
    "# Map"
   ]
  },
  {
   "cell_type": "markdown",
   "id": "ba21529a-0def-46fa-9ab3-c9f0d026dc1a",
   "metadata": {},
   "source": [
    "## Iteration Ways"
   ]
  },
  {
   "cell_type": "code",
   "execution_count": 102,
   "id": "c7cad052-88ab-4dd9-9eab-199f4fe48ecd",
   "metadata": {},
   "outputs": [],
   "source": [
    "ConcurrentHashMap<String, Integer> users_map = new ConcurrentHashMap<>();\n",
    "users_map.put(\"UserA\", 20);\n",
    "users_map.put(\"UserB\", 50);\n",
    "users_map.put(\"UserC\", 100);\n",
    "users_map.put(\"UserD\", 200);\n",
    "users_map.put(\"UserE\", 1300);\n",
    "users_map.put(\"UserF\", 2000);\n",
    "users_map.put(\"UserG\", 10000);"
   ]
  },
  {
   "cell_type": "markdown",
   "id": "52251156-68b1-4e38-8ada-decb503f5fe7",
   "metadata": {},
   "source": [
    "### 1st, for-each entries"
   ]
  },
  {
   "cell_type": "code",
   "execution_count": 103,
   "id": "fcfe87a7-45b2-4735-a081-8899474bbb9a",
   "metadata": {},
   "outputs": [
    {
     "name": "stdout",
     "output_type": "stream",
     "text": [
      "Key = UserB, Value = 50\n",
      "Key = UserA, Value = 20\n",
      "Key = UserF, Value = 2000\n",
      "Key = UserE, Value = 1300\n",
      "Key = UserD, Value = 200\n",
      "Key = UserC, Value = 100\n",
      "Key = UserG, Value = 10000\n"
     ]
    }
   ],
   "source": [
    "for (Map.Entry<String, Integer> entry : users_map.entrySet()) {\n",
    "    System.out.println(\"Key = \" + entry.getKey() + \", Value = \" + entry.getValue());\n",
    "}"
   ]
  },
  {
   "cell_type": "markdown",
   "id": "b14fbdac-6cba-45a4-89f5-3ba8c57e19d8",
   "metadata": {},
   "source": [
    "### 2nd, for-each keys or values"
   ]
  },
  {
   "cell_type": "code",
   "execution_count": 104,
   "id": "a40270a2-17cb-4ad1-b062-3c3e5ffd0131",
   "metadata": {},
   "outputs": [
    {
     "name": "stdout",
     "output_type": "stream",
     "text": [
      "key = UserB\n",
      "key = UserA\n",
      "key = UserF\n",
      "key = UserE\n",
      "key = UserD\n",
      "key = UserC\n",
      "key = UserG\n",
      "value = 50\n",
      "value = 20\n",
      "value = 2000\n",
      "value = 1300\n",
      "value = 200\n",
      "value = 100\n",
      "value = 10000\n"
     ]
    }
   ],
   "source": [
    "for (String key : users_map.keySet()) {\n",
    "    System.out.println(\"key = \" + key);\n",
    "}\n",
    "for (Integer value : users_map.values()) {\n",
    "    System.out.println(\"value = \" + value);\n",
    "}"
   ]
  },
  {
   "cell_type": "markdown",
   "id": "a68db9c5-46b4-4526-843e-531c52ffceb5",
   "metadata": {},
   "source": [
    "### 3rd, Iterator"
   ]
  },
  {
   "cell_type": "code",
   "execution_count": 105,
   "id": "a5929ea0-a9a4-4bfc-a78b-ec1e522454e3",
   "metadata": {},
   "outputs": [
    {
     "name": "stdout",
     "output_type": "stream",
     "text": [
      "Key = UserB, Value = 50\n",
      "Key = UserA, Value = 20\n",
      "Key = UserF, Value = 2000\n",
      "Key = UserE, Value = 1300\n",
      "Key = UserD, Value = 200\n",
      "Key = UserC, Value = 100\n",
      "Key = UserG, Value = 10000\n"
     ]
    }
   ],
   "source": [
    "Iterator<Map.Entry<String, Integer>> entries = users_map.entrySet().iterator();\n",
    "while (entries.hasNext()){\n",
    "    Map.Entry<String, Integer> entry = entries.next();\n",
    "    System.out.println(\"Key = \" + entry.getKey() + \", \" + \"Value = \" + entry.getValue());\n",
    "    if (\"UserB\".equals(entry.getKey())){\n",
    "        users_map.remove(entry.getKey());\n",
    "    }\n",
    "}"
   ]
  },
  {
   "cell_type": "markdown",
   "id": "a297a1ef-167b-44a8-b071-2e25a1e82774",
   "metadata": {},
   "source": [
    "#### Without Generics"
   ]
  },
  {
   "cell_type": "code",
   "execution_count": 106,
   "id": "a26005f2-753a-46c6-8307-30f179662783",
   "metadata": {},
   "outputs": [
    {
     "name": "stdout",
     "output_type": "stream",
     "text": [
      "Key = UserA, Value = 20\n",
      "Key = UserF, Value = 2000\n",
      "Key = UserE, Value = 1300\n",
      "Key = UserD, Value = 200\n",
      "Key = UserC, Value = 100\n",
      "Key = UserG, Value = 10000\n"
     ]
    }
   ],
   "source": [
    "Iterator entrys = users_map.entrySet().iterator();\n",
    "while (entrys.hasNext()) {\n",
    "    Map.Entry entry = (Map.Entry) entrys.next();\n",
    "    String key = (String)entry.getKey();\n",
    "    Integer value = (Integer)entry.getValue();\n",
    "    System.out.println(\"Key = \" + key + \", Value = \" + value);\n",
    "}"
   ]
  },
  {
   "cell_type": "markdown",
   "id": "727fbba9-328d-4a74-a1bf-4b4faaaf9d73",
   "metadata": {},
   "source": [
    "### 4th, Not Recommend"
   ]
  },
  {
   "cell_type": "code",
   "execution_count": 107,
   "id": "022bb11a-6d97-4b61-b297-edeef41b62c7",
   "metadata": {},
   "outputs": [
    {
     "name": "stdout",
     "output_type": "stream",
     "text": [
      "Key = UserA, Value = 20\n",
      "Key = UserF, Value = 2000\n",
      "Key = UserE, Value = 1300\n",
      "Key = UserD, Value = 200\n",
      "Key = UserC, Value = 100\n",
      "Key = UserG, Value = 10000\n"
     ]
    }
   ],
   "source": [
    "for (String key : users_map.keySet()){\n",
    "    Integer value = users_map.get(key);\n",
    "    System.out.println(\"Key = \" + key + \", Value = \" + value);\n",
    "}"
   ]
  },
  {
   "cell_type": "markdown",
   "id": "90cbe62c-4d40-4aac-b587-d0abe973499a",
   "metadata": {},
   "source": [
    "## HashMap"
   ]
  },
  {
   "cell_type": "code",
   "execution_count": 52,
   "id": "0aff7d0d-2f0c-43b3-a086-336134f96b1d",
   "metadata": {},
   "outputs": [
    {
     "name": "stdout",
     "output_type": "stream",
     "text": [
      "HashMap = {Four=4, Two=2}\n"
     ]
    }
   ],
   "source": [
    "HashMap<String, Integer> evenNumbers = new HashMap<>();\n",
    "evenNumbers.put(\"Two\", 2);\n",
    "evenNumbers.put(\"Four\", 4);\n",
    "System.out.println(\"HashMap = \" + evenNumbers);"
   ]
  },
  {
   "cell_type": "code",
   "execution_count": 141,
   "id": "9ccc616d-ad80-4bdb-bd76-06595f74d239",
   "metadata": {},
   "outputs": [
    {
     "name": "stdout",
     "output_type": "stream",
     "text": [
      "emp K hashcode value = 100\n",
      "emp L hashcode value = 101\n",
      "emp J hashcode value = 1000\n",
      "emp hashcode value = 1018\n"
     ]
    }
   ],
   "source": [
    "Map<String, Integer> employees = new HashMap<>(); // transient Node<K,V>[] table; Node, LinkedList\n",
    "employees.put(\"K\", 100); // hashcode(), hashing()\n",
    "employees.put(\"L\", 101);\n",
    "employees.put(\"J\", 1000);\n",
    "\n",
    "System.out.println(\"emp K hashcode value = \" + employees.get(\"K\").hashCode());\n",
    "System.out.println(\"emp L hashcode value = \" + employees.get(\"L\").hashCode());\n",
    "System.out.println(\"emp J hashcode value = \" + employees.get(\"J\").hashCode());\n",
    "System.out.println(\"emp hashcode value = \" + employees.hashCode());"
   ]
  },
  {
   "cell_type": "markdown",
   "id": "0f11125d-d89f-442f-994c-53540c7a7faf",
   "metadata": {
    "jp-MarkdownHeadingCollapsed": true
   },
   "source": [
    "## ConcurrentHashMap"
   ]
  },
  {
   "cell_type": "code",
   "execution_count": 53,
   "id": "d54b552c-8c08-4b32-b750-cdc45c6defb4",
   "metadata": {},
   "outputs": [
    {
     "name": "stdout",
     "output_type": "stream",
     "text": [
      "ConcurrentHashMap = {Four=4, Nine=9, Two=2}\n"
     ]
    }
   ],
   "source": [
    "ConcurrentHashMap<String, Integer> map = new ConcurrentHashMap<>(evenNumbers);\n",
    "map.put(\"Nine\", 9);\n",
    "System.out.println(\"ConcurrentHashMap = \" + map);"
   ]
  },
  {
   "cell_type": "markdown",
   "id": "7b49a32f-e24b-4c72-bbd7-d69f3ed26088",
   "metadata": {},
   "source": [
    "##### `putIfAbsent()`"
   ]
  },
  {
   "cell_type": "code",
   "execution_count": 54,
   "id": "bd069ac4-5174-47e2-acc5-7b0a77cbdf59",
   "metadata": {},
   "outputs": [],
   "source": [
    "map.putIfAbsent(\"Six\", 6);"
   ]
  },
  {
   "cell_type": "markdown",
   "id": "d3447c46-b3f0-449d-9da9-4a508f81434e",
   "metadata": {},
   "source": [
    "##### `putAll()`"
   ]
  },
  {
   "cell_type": "code",
   "execution_count": 55,
   "id": "2db95309-7b1e-4f2e-b564-5e191f3a6983",
   "metadata": {},
   "outputs": [
    {
     "name": "stdout",
     "output_type": "stream",
     "text": [
      "ConcurrentHashMap = {Six=6, Four=4, Nine=9, One=1, Twelve=12, Two=2, Three=3, TwelveV2=12}\n"
     ]
    }
   ],
   "source": [
    "ConcurrentHashMap<String, Integer> numbers = new ConcurrentHashMap<>();\n",
    "numbers.put(\"One\", 1);\n",
    "numbers.put(\"Three\", 3);\n",
    "numbers.put(\"Twelve\", 12);\n",
    "numbers.put(\"TwelveV2\", 12);\n",
    "\n",
    "map.putAll(numbers);\n",
    "\n",
    "System.out.println(\"ConcurrentHashMap = \" + map);"
   ]
  },
  {
   "cell_type": "markdown",
   "id": "b28451fb-d33f-4bbd-a4a7-fcdaa596a690",
   "metadata": {},
   "source": [
    "##### `entrySet()`"
   ]
  },
  {
   "cell_type": "code",
   "execution_count": 56,
   "id": "b5f7f27c-b614-47a8-810e-6fc945df0689",
   "metadata": {},
   "outputs": [
    {
     "name": "stdout",
     "output_type": "stream",
     "text": [
      "Key/Value mappings = [Six=6, Four=4, Nine=9, One=1, Twelve=12, Two=2, Three=3, TwelveV2=12]\n"
     ]
    }
   ],
   "source": [
    "System.out.println(\"Key/Value mappings = \" + map.entrySet());"
   ]
  },
  {
   "cell_type": "markdown",
   "id": "c82f52fa-b6ff-4c79-bc95-6f3fd88a11a5",
   "metadata": {},
   "source": [
    "##### `keySet()`"
   ]
  },
  {
   "cell_type": "code",
   "execution_count": 57,
   "id": "b71bdf51-02bf-4220-9a25-5abc949f750a",
   "metadata": {},
   "outputs": [
    {
     "name": "stdout",
     "output_type": "stream",
     "text": [
      "Keys = [Six, Four, Nine, One, Twelve, Two, Three, TwelveV2]\n"
     ]
    }
   ],
   "source": [
    "System.out.println(\"Keys = \" + map.keySet());"
   ]
  },
  {
   "cell_type": "markdown",
   "id": "a5a97054-9dc2-422d-911c-ba2539101393",
   "metadata": {},
   "source": [
    "##### `values()`"
   ]
  },
  {
   "cell_type": "code",
   "execution_count": 58,
   "id": "7d6727fb-04f8-4342-9588-fd71da810c11",
   "metadata": {},
   "outputs": [
    {
     "name": "stdout",
     "output_type": "stream",
     "text": [
      "Values mappings = [6, 4, 9, 1, 12, 2, 3, 12]\n"
     ]
    }
   ],
   "source": [
    "System.out.println(\"Values mappings = \" + map.values());"
   ]
  },
  {
   "cell_type": "markdown",
   "id": "6b08e9c0-e846-445a-944e-ef5d06724481",
   "metadata": {},
   "source": [
    "##### `get()`"
   ]
  },
  {
   "cell_type": "code",
   "execution_count": 59,
   "id": "ae7c97c9-3f8d-4eb8-8ccb-a03a5c2ed11d",
   "metadata": {},
   "outputs": [
    {
     "name": "stdout",
     "output_type": "stream",
     "text": [
      "Using get() = 6\n"
     ]
    }
   ],
   "source": [
    "System.out.println(\"Using get() = \" + map.get(\"Six\"));"
   ]
  },
  {
   "cell_type": "markdown",
   "id": "c560703c-4c0f-48a3-93a7-44aad955e406",
   "metadata": {},
   "source": [
    "##### `getOrDefault()`"
   ]
  },
  {
   "cell_type": "code",
   "execution_count": 60,
   "id": "a477091b-610c-4806-91f2-4988f18a5679",
   "metadata": {},
   "outputs": [
    {
     "name": "stdout",
     "output_type": "stream",
     "text": [
      "Using getOrDefault() = 1000000\n"
     ]
    }
   ],
   "source": [
    "System.out.println(\"Using getOrDefault() = \" + map.getOrDefault(\"rewokldsfmgks\", 1_000_000));"
   ]
  },
  {
   "cell_type": "markdown",
   "id": "43e22d9e-9ac9-44d4-9768-7b6462490386",
   "metadata": {},
   "source": [
    "##### `remove()`"
   ]
  },
  {
   "cell_type": "code",
   "execution_count": 61,
   "id": "97d8563c-7015-426e-869c-9b3321a5b994",
   "metadata": {},
   "outputs": [
    {
     "name": "stdout",
     "output_type": "stream",
     "text": [
      "Is the entry {Six=6} removed? true\n",
      "map = {Four=4, Nine=9, One=1, Twelve=12, Two=2, Three=3, TwelveV2=12}\n"
     ]
    }
   ],
   "source": [
    "boolean result = map.remove(\"Six\", 6);\n",
    "System.out.println(\"Is the entry {Six=6} removed? \" + result);\n",
    "System.out.println(\"map = \" + map);"
   ]
  },
  {
   "cell_type": "markdown",
   "id": "392cdad0-7a48-4a0d-9c54-529a663570fb",
   "metadata": {},
   "source": [
    "##### `forEach()`"
   ]
  },
  {
   "cell_type": "code",
   "execution_count": 99,
   "id": "1f255a50-03e7-403c-ada2-99ceeef10c17",
   "metadata": {},
   "outputs": [
    {
     "name": "stdout",
     "output_type": "stream",
     "text": [
      "Key: Four, value: 4\n",
      "Key: Nine, value: 9\n",
      "Key: One, value: 1\n",
      "Key: Twelve, value: 12\n",
      "Key: Two, value: 2\n",
      "Key: Three, value: 3\n",
      "Key: TwelveV2, value: 12\n",
      "-------------------------------------------------\n",
      "4, 9, 1, 12, 2, 3, 12, \n",
      "------------------------------------------------\n",
      "Key: Four, value: 4\n",
      "Key: Nine, value: 9\n",
      "Key: One, value: 1\n",
      "Key: Twelve, value: 12\n",
      "Key: Two, value: 2\n",
      "Key: Three, value: 3\n",
      "Key: TwelveV2, value: 12\n",
      "-------------------------------------------------\n",
      "Key: Four\n",
      "Key: Nine\n",
      "Key: One\n",
      "Key: Twelve\n",
      "Key: Two\n",
      "Key: Three\n",
      "Key: TwelveV2\n",
      "-------------------------------------------------\n",
      "Value: 4\n",
      "Value: 9\n",
      "Value: 1\n",
      "Value: 12\n",
      "Value: 2\n",
      "Value: 3\n",
      "Value: 12\n",
      "-------------------------------------------------\n"
     ]
    }
   ],
   "source": [
    "map.forEach(6, (k, v) -> System.out.println(\"Key: \" + k + \", value: \" + v));\n",
    "System.out.println(\"-------------------------------------------------\");\n",
    "map.forEach(6, (k, v) -> v, (v) -> System.out.print(v + \", \"));\n",
    "System.out.println(\"\\n------------------------------------------------\");\n",
    "map.forEachEntry(6, entry -> System.out.println(\"Key: \" + entry.getKey() + \", value: \" + entry.getValue()));\n",
    "System.out.println(\"-------------------------------------------------\");\n",
    "map.forEachKey(6, k -> System.out.println(\"Key: \" + k));\n",
    "System.out.println(\"-------------------------------------------------\");\n",
    "map.forEachValue(6, v -> System.out.println(\"Value: \" + v));\n",
    "System.out.println(\"-------------------------------------------------\");"
   ]
  },
  {
   "cell_type": "markdown",
   "id": "410b7122-91d2-4e59-8524-4cf5a26c21a0",
   "metadata": {},
   "source": [
    "##### `search()`"
   ]
  },
  {
   "cell_type": "code",
   "execution_count": 79,
   "id": "6beea4c7-c76d-4778-a993-dd3e65ffb5b5",
   "metadata": {},
   "outputs": [
    {
     "name": "stdout",
     "output_type": "stream",
     "text": [
      "search key = Twelve\n"
     ]
    }
   ],
   "source": [
    "String key = map.search(6, (k, v) -> v == 12 ? k : null);\n",
    "System.out.println(\"search key = \" + key);"
   ]
  },
  {
   "cell_type": "markdown",
   "id": "e4575953-8b64-4d0b-800a-3b0a88fdca0c",
   "metadata": {},
   "source": [
    "##### `searchEntries()`"
   ]
  },
  {
   "cell_type": "code",
   "execution_count": 85,
   "id": "b9304d7b-4ab8-41f0-a588-dc82c5aed16b",
   "metadata": {},
   "outputs": [
    {
     "name": "stdout",
     "output_type": "stream",
     "text": [
      "Key: Four, value: 4\n",
      "Key: Nine, value: 9\n",
      "Key: One, value: 1\n",
      "Key: Twelve, value: 12\n",
      "Entry : Twelve=12\n"
     ]
    }
   ],
   "source": [
    "Map.Entry entry_ = map.searchEntries(6, (entry) -> {\n",
    "            System.out.println(\"Key: \" + entry.getKey() + \", value: \" + entry.getValue());\n",
    "            return entry.getValue() == 12 ? entry : null;\n",
    "        });\n",
    "System.out.println(\"Entry : \" + entry_);"
   ]
  },
  {
   "cell_type": "markdown",
   "id": "25296ac3-2e99-4c67-843d-01928d3358eb",
   "metadata": {},
   "source": [
    "##### `searchKeys()`"
   ]
  },
  {
   "cell_type": "code",
   "execution_count": 86,
   "id": "54ae0e80-2713-4e99-84ba-4c9ace7b0426",
   "metadata": {},
   "outputs": [
    {
     "name": "stdout",
     "output_type": "stream",
     "text": [
      "searchKeys Key: Four\n",
      "searchKeys Key: Nine\n",
      "searchKeys Key: One\n",
      "searchKeys Key: Twelve\n",
      "key_ = One\n"
     ]
    }
   ],
   "source": [
    "String key_ = map.searchKeys(6, k_e_y -> {\n",
    "\t\t\tSystem.out.println(\"searchKeys Key: \" + k_e_y);\n",
    "\t\t\treturn k_e_y.equals(\"One\") ? k_e_y : null;\n",
    "\t\t});\n",
    "System.out.println(\"key_ = \" + key_);"
   ]
  },
  {
   "cell_type": "markdown",
   "id": "b04331d8-6e59-4401-b1e0-9f141d37ca45",
   "metadata": {},
   "source": [
    "##### `searchValues()`"
   ]
  },
  {
   "cell_type": "code",
   "execution_count": 88,
   "id": "a140f7d0-1dbb-422f-a68e-e42e4dbcaf2f",
   "metadata": {},
   "outputs": [
    {
     "name": "stdout",
     "output_type": "stream",
     "text": [
      "searchValues Value: 4\n",
      "searchValues Value: 9\n",
      "searchValues Value: 1\n",
      "searchValues Value: 12\n",
      "searchValues Value: 2\n",
      "searchValues Value: 3\n",
      "num = 3\n"
     ]
    }
   ],
   "source": [
    "Integer num = map.searchValues(6, value_ -> {\n",
    "\t\t\tSystem.out.println(\"searchValues Value: \" + value_);\n",
    "\t\t\treturn value_ == 3 ? value_ : null;\n",
    "\t\t});\n",
    "System.out.println(\"num = \" + num);"
   ]
  },
  {
   "cell_type": "markdown",
   "id": "04a15315-d8c3-418a-a90d-1cbbbffcf21a",
   "metadata": {},
   "source": [
    "##### `reduce()`\n",
    "> (k, v) -> v is a transformer function. It transfers the key/value mappings into values only.\n",
    "> \n",
    "> (v1, v2) -> v1 + v2 is a reducer function. It gathers together all the values and adds all values."
   ]
  },
  {
   "cell_type": "code",
   "execution_count": 91,
   "id": "31f2dafb-17b9-4af4-a10a-43fcff45531a",
   "metadata": {},
   "outputs": [
    {
     "name": "stdout",
     "output_type": "stream",
     "text": [
      "reduce str = Four-4, Nine-9, One-1, Twelve-12, Two-2, Three-3, TwelveV2-12\n"
     ]
    }
   ],
   "source": [
    "String str = map.reduce(6, (_k_, v) -> _k_ + \"-\" + v, (s1, s2) -> s1 + \", \" + s2);\n",
    "System.out.println(\"reduce str = \" + str);"
   ]
  },
  {
   "cell_type": "code",
   "execution_count": 93,
   "id": "a8be0d83-ecfb-4a04-8ca0-6e9bd1f4f97e",
   "metadata": {},
   "outputs": [
    {
     "name": "stdout",
     "output_type": "stream",
     "text": [
      "4, 9\n",
      "13, 1\n",
      "12, 2\n",
      "14, 3\n",
      "17, 12\n",
      "14, 29\n",
      "Sum of Values = 43\n"
     ]
    }
   ],
   "source": [
    "int sum = map.reduce(6, (k_, v) -> v, (v1, v2) -> {\n",
    "\t\t\tSystem.out.println(v1 + \", \" + v2);\n",
    "\t\t\treturn v1 + v2;\n",
    "\t\t});\n",
    "System.out.println(\"Sum of Values = \" + sum);"
   ]
  },
  {
   "cell_type": "code",
   "execution_count": 100,
   "id": "1b576ffe-0a18-474a-95b2-c30a5e3b6429",
   "metadata": {},
   "outputs": [
    {
     "name": "stdout",
     "output_type": "stream",
     "text": [
      "Output = UserB:50, UserA:20, UserC:100\n"
     ]
    }
   ],
   "source": [
    "ConcurrentHashMap<String, Integer> map_u = new ConcurrentHashMap<>();\n",
    "map_u.put(\"UserA\", 20);\n",
    "map_u.put(\"UserB\", 50);\n",
    "map_u.put(\"UserC\", 100);\n",
    "\n",
    "String output = map_u.reduce(3,\n",
    "            (k, v) -> k + \":\" + v,\n",
    "            (s1, s2) -> s1 + \", \" + s2);\n",
    "System.out.println(\"Output = \" + output);"
   ]
  },
  {
   "cell_type": "code",
   "execution_count": 101,
   "id": "9fd717cd-c3f6-4b39-9c6d-5613a2fb7ae9",
   "metadata": {},
   "outputs": [
    {
     "name": "stdout",
     "output_type": "stream",
     "text": [
      "UserB\n",
      "UserA\n",
      "UserC\n"
     ]
    }
   ],
   "source": [
    "map_u.keys().asIterator().forEachRemaining(System.out::println);"
   ]
  },
  {
   "cell_type": "markdown",
   "id": "1c5c6c2e-fd55-4c6e-b79a-15073f938563",
   "metadata": {},
   "source": [
    "##### `reduceEntries()`"
   ]
  },
  {
   "cell_type": "code",
   "execution_count": 95,
   "id": "a2daee41-9fe0-43b4-b205-fe174746f64d",
   "metadata": {},
   "outputs": [
    {
     "name": "stdout",
     "output_type": "stream",
     "text": [
      "reduceEntries transform => Four, 4\n",
      "reduceEntries transform => Nine, 9\n",
      "reduceEntries transform => Twelve, 12\n",
      "reduceEntries transform => Two, 2\n",
      "reduceEntries reducer => Four=4, Nine=9\n",
      "reduceEntries transform => One, 1\n",
      "reduceEntries reducer => Nine=9, One=1\n",
      "reduceEntries reducer => Twelve=12, Two=2\n",
      "reduceEntries transform => Three, 3\n",
      "reduceEntries reducer => Twelve=12, Three=3\n",
      "reduceEntries transform => TwelveV2, 12\n",
      "reduceEntries reducer => Twelve=12, TwelveV2=12\n",
      "reduceEntries reducer => One=1, Twelve=12\n",
      "ReduceEntry : Twelve=12\n"
     ]
    }
   ],
   "source": [
    "Map.Entry reduceEntry = map.reduceEntries(6,\n",
    "\t\t\t\t(e) -> {\n",
    "\t\t\t\t\tSystem.out.println(\"reduceEntries transform => \" + e.getKey() + \", \" + e.getValue());\n",
    "\t\t\t\t\treturn e;\n",
    "\t\t\t\t}\n",
    "\t\t\t\t, (e1, e2) -> {\n",
    "\t\t\t\t\tSystem.out.println(\"reduceEntries reducer => \" + e1 + \", \" + e2);\n",
    "\t\t\t\t\tif (e1.getKey().equals(\"Twelve\")) {\n",
    "\t\t\t\t\t\treturn e1;\n",
    "\t\t\t\t\t}\n",
    "\t\t\t\t\treturn e2;\n",
    "\t\t\t\t});\n",
    "System.out.println(\"ReduceEntry : \" + reduceEntry);"
   ]
  },
  {
   "cell_type": "markdown",
   "id": "6f4b1396-05a9-4db8-8303-4a3ca892a1ed",
   "metadata": {},
   "source": [
    "##### `reduceKeys()`"
   ]
  },
  {
   "cell_type": "code",
   "execution_count": 97,
   "id": "493e3a92-8868-4340-b28f-4dc12e2b9216",
   "metadata": {},
   "outputs": [
    {
     "name": "stdout",
     "output_type": "stream",
     "text": [
      "reduceKeys Reducer => Twelve,Two\n",
      "reduceKeys Reducer => Four,Nine\n",
      "reduceKeys Reducer => Four, Nine,One\n",
      "reduceKeys Reducer => Twelve, Two,Three\n",
      "reduceKeys Reducer => Twelve, Two, Three,TwelveV2\n",
      "reduceKeys Reducer => Four, Nine, One,Twelve, Two, Three, TwelveV2\n",
      "_key_ = Four, Nine, One, Twelve, Two, Three, TwelveV2\n"
     ]
    }
   ],
   "source": [
    "String _key_ = map.reduceKeys(6, (k1, k2) -> {\n",
    "\t\t\tSystem.out.println(\"reduceKeys Reducer => \" + k1 + \",\" + k2);\n",
    "\t\t\treturn k1 + \", \" + k2;\n",
    "\t\t});\n",
    "System.out.println(\"_key_ = \" + _key_);"
   ]
  },
  {
   "cell_type": "markdown",
   "id": "3b060cc8-b333-4332-b9bd-42f018717030",
   "metadata": {},
   "source": [
    "##### `reduceValues()`"
   ]
  },
  {
   "cell_type": "code",
   "execution_count": 98,
   "id": "2530d7ad-0d56-42bd-af8b-7ff6fd54aa8d",
   "metadata": {},
   "outputs": [
    {
     "name": "stdout",
     "output_type": "stream",
     "text": [
      "reduceValues Reducer => 12,2\n",
      "reduceValues Reducer => 4,9\n",
      "reduceValues Reducer => 13,1\n",
      "reduceValues Reducer => 14,3\n",
      "reduceValues Reducer => 17,12\n",
      "reduceValues Reducer => 14,29\n",
      "total = 43\n"
     ]
    }
   ],
   "source": [
    "int total = map.reduceValues(6, (v1, v2) -> {\n",
    "        System.out.println(\"reduceValues Reducer => \" + v1 + \",\" + v2);\n",
    "        return v1 + v2;\n",
    "    });\n",
    "System.out.println(\"total = \" + total);"
   ]
  },
  {
   "cell_type": "markdown",
   "id": "c7d34490-e614-4931-a851-5a3fdbc9d875",
   "metadata": {},
   "source": [
    "---"
   ]
  },
  {
   "cell_type": "markdown",
   "id": "db0e2266-8c9b-4a82-8843-5dd54c1ca62f",
   "metadata": {
    "jp-MarkdownHeadingCollapsed": true
   },
   "source": [
    "# Set"
   ]
  },
  {
   "cell_type": "markdown",
   "id": "11184b19-01a8-43a9-babf-c1c3f0f5e61d",
   "metadata": {},
   "source": [
    "## HashSet"
   ]
  },
  {
   "cell_type": "code",
   "execution_count": 63,
   "id": "de208842-3bd6-403a-ae25-346405253298",
   "metadata": {},
   "outputs": [
    {
     "name": "stdout",
     "output_type": "stream",
     "text": [
      "[S, W, K, L]\n"
     ]
    }
   ],
   "source": [
    "Set<String> names = new HashSet<>();\n",
    "names.add(\"W\");\n",
    "names.add(\"L\");\n",
    "names.add(\"K\");\n",
    "names.add(\"S\");\n",
    "System.out.println(names);"
   ]
  },
  {
   "cell_type": "code",
   "execution_count": 64,
   "id": "177baeac-935e-4fcd-b576-640fda5413d5",
   "metadata": {},
   "outputs": [
    {
     "name": "stdout",
     "output_type": "stream",
     "text": [
      "S\n",
      "W\n",
      "K\n",
      "L\n"
     ]
    }
   ],
   "source": [
    "for (String name : names) {\n",
    "    System.out.println(name);\n",
    "}"
   ]
  },
  {
   "cell_type": "code",
   "execution_count": 65,
   "id": "71456dbd-75aa-4cf7-92b4-d8af9047fd92",
   "metadata": {},
   "outputs": [
    {
     "name": "stdout",
     "output_type": "stream",
     "text": [
      "S\n",
      "W\n",
      "K\n",
      "L\n"
     ]
    }
   ],
   "source": [
    "names.forEach(System.out::println);"
   ]
  },
  {
   "cell_type": "code",
   "execution_count": 66,
   "id": "5a7a0dad-db91-41d6-bad7-d018840900c2",
   "metadata": {},
   "outputs": [
    {
     "name": "stdout",
     "output_type": "stream",
     "text": [
      "S\n",
      "W\n",
      "K\n",
      "L\n"
     ]
    }
   ],
   "source": [
    "Iterator<String> iterator = names.iterator();\n",
    "while (iterator.hasNext()) {\n",
    "    System.out.println(iterator.next());\n",
    "}"
   ]
  },
  {
   "cell_type": "code",
   "execution_count": 67,
   "id": "caa59146-0b3d-431a-99f6-58237bf732ae",
   "metadata": {},
   "outputs": [
    {
     "name": "stdout",
     "output_type": "stream",
     "text": [
      "[1, 2, 3, 4]\n"
     ]
    }
   ],
   "source": [
    "List<Integer> integerList = Arrays.asList(1, 2, 3, 4, 1, 2, 3);\n",
    "Set<Integer> numsSet = new HashSet<>(integerList);\n",
    "System.out.println(numsSet);"
   ]
  },
  {
   "cell_type": "code",
   "execution_count": 68,
   "id": "b475c1ee-a5d4-4f03-ad46-913a97650eae",
   "metadata": {},
   "outputs": [
    {
     "name": "stdout",
     "output_type": "stream",
     "text": [
      "[S, W, K]\n",
      "3\n",
      "true\n"
     ]
    }
   ],
   "source": [
    "names.remove(\"L\");\n",
    "System.out.println(names);\n",
    "System.out.println(names.size());\n",
    "System.out.println(names.contains(\"W\"));"
   ]
  },
  {
   "cell_type": "markdown",
   "id": "4fcb0d25-3795-47ef-a5d9-41807575d71c",
   "metadata": {},
   "source": [
    "## TreeSet"
   ]
  },
  {
   "cell_type": "code",
   "execution_count": 69,
   "id": "18695d79-f70e-4179-ac64-2025ce4c51a9",
   "metadata": {},
   "outputs": [
    {
     "name": "stdout",
     "output_type": "stream",
     "text": [
      "[1, 2, 3, 4, 5, 6, 7, 10]\n"
     ]
    }
   ],
   "source": [
    "List<Integer> integerList1 = Arrays.asList(7,6,5,10,4,2,3,1,1);\n",
    "Set<Integer> integerTreeSet = new TreeSet<>(integerList1);\n",
    "System.out.println(integerTreeSet);"
   ]
  },
  {
   "cell_type": "markdown",
   "id": "ddc092e3-94da-4a8c-943a-afcc46f40076",
   "metadata": {},
   "source": [
    "## LinkedHashSet"
   ]
  },
  {
   "cell_type": "code",
   "execution_count": 70,
   "id": "66e6b863-b521-4e3b-902d-26f60d62b8be",
   "metadata": {},
   "outputs": [
    {
     "name": "stdout",
     "output_type": "stream",
     "text": [
      "[100, 7, 6, 5, 10, 4, 2, 3, 1]\n"
     ]
    }
   ],
   "source": [
    "List<Integer> integerList2 = Arrays.asList(100,7,6,5,10,4,2,3,1);\n",
    "Set<Integer> integerTreeSet1 = new LinkedHashSet<>(integerList2);\n",
    "System.out.println(integerTreeSet1);"
   ]
  },
  {
   "cell_type": "markdown",
   "id": "318ada0f-3c70-4ecd-be41-1a2de7891d4b",
   "metadata": {},
   "source": [
    "---"
   ]
  },
  {
   "cell_type": "markdown",
   "id": "b250e988-5250-4edf-9c59-53e17029ee5e",
   "metadata": {
    "jp-MarkdownHeadingCollapsed": true
   },
   "source": [
    "# Vector"
   ]
  },
  {
   "cell_type": "code",
   "execution_count": 71,
   "id": "8f881623-71bf-4f33-abc0-e3ccb4f0833b",
   "metadata": {},
   "outputs": [
    {
     "name": "stdout",
     "output_type": "stream",
     "text": [
      "Added 1_000_000 elements to arraylist: 38 ms\n"
     ]
    },
    {
     "data": {
      "text/plain": [
       "java.io.PrintStream@67670be6"
      ]
     },
     "execution_count": 71,
     "metadata": {},
     "output_type": "execute_result"
    }
   ],
   "source": [
    "List<Integer> arrayList = new ArrayList<>();\n",
    "long start = System.nanoTime();\n",
    "\n",
    "for (int i = 0; i < 1_000_000; i++) {\n",
    "    arrayList.add(i);\n",
    "}\n",
    "\n",
    "long end = System.nanoTime();\n",
    "\n",
    "long millisecs = TimeUnit.MILLISECONDS.convert(end - start, TimeUnit.NANOSECONDS);\n",
    "\n",
    "System.out.printf(\"Added 1_000_000 elements to arraylist: %d ms\\n\", millisecs);"
   ]
  },
  {
   "cell_type": "code",
   "execution_count": 72,
   "id": "d9f8f342-ee65-41f6-bd41-697803698998",
   "metadata": {},
   "outputs": [
    {
     "name": "stdout",
     "output_type": "stream",
     "text": [
      "Added 1_000_000 elements to vector: 35 ms\n"
     ]
    },
    {
     "data": {
      "text/plain": [
       "java.io.PrintStream@67670be6"
      ]
     },
     "execution_count": 72,
     "metadata": {},
     "output_type": "execute_result"
    }
   ],
   "source": [
    "List<Integer> vector = new Vector<>();\n",
    "\n",
    "start = System.nanoTime();\n",
    "\n",
    "for (int i = 0; i < 1_000_000; i++) {\n",
    "    vector.add(i);\n",
    "}\n",
    "\n",
    "end = System.nanoTime();\n",
    "\n",
    "millisecs = TimeUnit.MILLISECONDS.convert(end - start, TimeUnit.NANOSECONDS);\n",
    "\n",
    "System.out.printf(\"Added 1_000_000 elements to vector: %d ms\\n\", millisecs);"
   ]
  },
  {
   "cell_type": "code",
   "execution_count": 73,
   "id": "eaec5313-26f9-4646-930f-24e8a2d36d0c",
   "metadata": {},
   "outputs": [
    {
     "name": "stdout",
     "output_type": "stream",
     "text": [
      "Added 1_000_000 elements to multiThreadSafeArrayList: 114 ms\n"
     ]
    },
    {
     "data": {
      "text/plain": [
       "java.io.PrintStream@67670be6"
      ]
     },
     "execution_count": 73,
     "metadata": {},
     "output_type": "execute_result"
    }
   ],
   "source": [
    "List<Integer> multiThreadSafeArrayList = Collections.synchronizedList(new ArrayList<>());\n",
    "\n",
    "start = System.nanoTime();\n",
    "Thread t1 = new Thread(() -> {\n",
    "    for (int i = 0; i < 1_000_000; i++) {\n",
    "        multiThreadSafeArrayList.add(i);\n",
    "    }\n",
    "});\n",
    "Thread t2 = new Thread(() -> {\n",
    "    for (int i = 0; i < 1_000_000; i++) {\n",
    "        multiThreadSafeArrayList.add(i);\n",
    "    }\n",
    "});\n",
    "t1.start();\n",
    "t2.start();\n",
    "t1.join();\n",
    "t2.join();\n",
    "\n",
    "end = System.nanoTime();\n",
    "\n",
    "millisecs = TimeUnit.MILLISECONDS.convert(end - start, TimeUnit.NANOSECONDS);\n",
    "\n",
    "System.out.printf(\"Added 1_000_000 elements to multiThreadSafeArrayList: %d ms\\n\", millisecs);"
   ]
  },
  {
   "cell_type": "code",
   "execution_count": 74,
   "id": "9f712292-3462-4c13-8672-89db15025bda",
   "metadata": {},
   "outputs": [
    {
     "name": "stdout",
     "output_type": "stream",
     "text": [
      "Added 1_000_000 elements to multiThreadVector: 131 ms\n"
     ]
    },
    {
     "data": {
      "text/plain": [
       "java.io.PrintStream@67670be6"
      ]
     },
     "execution_count": 74,
     "metadata": {},
     "output_type": "execute_result"
    }
   ],
   "source": [
    "List<Integer> multiThreadVector = new Vector<>();\n",
    "start = System.nanoTime();\n",
    "\n",
    "Thread t3 = new Thread(() -> {\n",
    "    for (int i = 0; i < 1_000_000; i++) {\n",
    "        multiThreadVector.add(i);\n",
    "    }\n",
    "});\n",
    "Thread t4 = new Thread(() -> {\n",
    "    for (int i = 0; i < 1_000_000; i++) {\n",
    "        multiThreadVector.add(i);\n",
    "    }\n",
    "});\n",
    "t3.start();\n",
    "t4.start();\n",
    "t3.join();\n",
    "t4.join();\n",
    "\n",
    "end = System.nanoTime();\n",
    "\n",
    "millisecs = TimeUnit.MILLISECONDS.convert(end - start, TimeUnit.NANOSECONDS);\n",
    "\n",
    "System.out.printf(\"Added 1_000_000 elements to multiThreadVector: %d ms\\n\", millisecs);"
   ]
  },
  {
   "cell_type": "markdown",
   "id": "8c32716b-0024-4b99-b1c0-55776cb12422",
   "metadata": {},
   "source": [
    "---"
   ]
  },
  {
   "cell_type": "markdown",
   "id": "322baf66-bb6f-4113-ad9b-1c10a3e0389b",
   "metadata": {},
   "source": [
    "# Queue"
   ]
  },
  {
   "cell_type": "code",
   "execution_count": null,
   "id": "05df29fc-2c2b-4570-af6c-629f6e98b124",
   "metadata": {},
   "outputs": [],
   "source": []
  },
  {
   "cell_type": "markdown",
   "id": "890fbc41-fc48-43f9-b1f2-5838916c3581",
   "metadata": {},
   "source": [
    "---"
   ]
  },
  {
   "cell_type": "markdown",
   "id": "7c79eef1-ca94-4104-894c-fc47b7558a8b",
   "metadata": {},
   "source": [
    "# Iterator"
   ]
  },
  {
   "cell_type": "code",
   "execution_count": 124,
   "id": "b2665bbb-1792-4779-a64c-b2e451196a0c",
   "metadata": {},
   "outputs": [
    {
     "data": {
      "text/plain": [
       "true"
      ]
     },
     "execution_count": 124,
     "metadata": {},
     "output_type": "execute_result"
    }
   ],
   "source": [
    "List<String> list = new ArrayList<>();\n",
    "list.add(\"123\");\n",
    "list.add(\"ABC\");\n",
    "list.add(\"!@#$%^\");"
   ]
  },
  {
   "cell_type": "code",
   "execution_count": 125,
   "id": "67692b03-165e-4fcd-995c-80d71c787489",
   "metadata": {},
   "outputs": [
    {
     "name": "stdout",
     "output_type": "stream",
     "text": [
      "123\n",
      "ABC\n",
      "!@#$%^\n"
     ]
    }
   ],
   "source": [
    "Iterator<String> iterator1 = list.iterator();\n",
    "\n",
    "while (iterator1.hasNext()){\n",
    "    String next = iterator1.next();\n",
    "    System.out.println(next);\n",
    "}"
   ]
  },
  {
   "cell_type": "code",
   "execution_count": 126,
   "id": "1a31da57-d190-49a1-b179-a6e080f3bf8c",
   "metadata": {},
   "outputs": [],
   "source": [
    "Map<String, String> map = new HashMap<>();\n",
    "map.put(\"key1\",\"value1\");\n",
    "map.put(\"key2\",\"value2\");\n",
    "map.put(\"key3\",\"value3\");\n",
    "Iterator<String> keyIterator = map.keySet().iterator();\n",
    "Iterator<String> valueIterator = map.values().iterator();\n",
    "Iterator<Map.Entry<String, String>> iterator3 = map.entrySet().iterator();"
   ]
  },
  {
   "cell_type": "code",
   "execution_count": 127,
   "id": "7ba30c87-8ecf-4025-8cbd-119dcefb7bbb",
   "metadata": {},
   "outputs": [
    {
     "name": "stdout",
     "output_type": "stream",
     "text": [
      "key1\n",
      "key2\n",
      "key3\n",
      "value1\n",
      "value2\n",
      "value3\n",
      "key1=value1\n",
      "key2=value2\n",
      "key3=value3\n"
     ]
    }
   ],
   "source": [
    "while (keyIterator.hasNext()){\n",
    "    String next = keyIterator.next();\n",
    "    System.out.println(next);\n",
    "}\n",
    "while (valueIterator.hasNext()){\n",
    "    String next = valueIterator.next();\n",
    "    System.out.println(next);\n",
    "}\n",
    "while (iterator3.hasNext()){\n",
    "    Map.Entry<String, String> next = iterator3.next();\n",
    "    System.out.println(next);\n",
    "}"
   ]
  },
  {
   "cell_type": "code",
   "execution_count": 133,
   "id": "4bde7620-f505-4770-966f-82cb94663e49",
   "metadata": {},
   "outputs": [
    {
     "name": "stdout",
     "output_type": "stream",
     "text": [
      "987\n",
      "abc\n",
      ")(*%$^&$\n",
      "987\n",
      "abc\n"
     ]
    }
   ],
   "source": [
    "List<String> list2 = new ArrayList<>();\n",
    "list2.add(\"987\");\n",
    "list2.add(\"abc\");\n",
    "list2.add(\")(*%$^&$\");\n",
    "\n",
    "Iterator<String> iterator2 = list2.iterator();\n",
    "\n",
    "while (iterator2.hasNext()){\n",
    "    System.out.println(iterator2.next());\n",
    "    // list2.remove(list.size()-1); // ConcurrentModificationException\n",
    "}\n",
    "\n",
    "// modify the list\n",
    "list2.remove(list2.size() - 1);\n",
    "\n",
    "Iterator<String> iterator3 = list2.iterator();\n",
    "while (iterator3.hasNext()){\n",
    "    System.out.println(iterator3.next());\n",
    "}"
   ]
  },
  {
   "cell_type": "code",
   "execution_count": 138,
   "id": "f259b677-fafe-40b7-ad73-f0bcb7859329",
   "metadata": {},
   "outputs": [
    {
     "name": "stdout",
     "output_type": "stream",
     "text": [
      "In While Loop...\n",
      "1\n",
      "In While Loop...\n",
      "9999\n",
      "In While Loop...\n",
      "111111\n",
      "0\n"
     ]
    }
   ],
   "source": [
    "List<Integer> nums = new ArrayList<>();\n",
    "nums.add(1);\n",
    "nums.add(9999);\n",
    "nums.add(111111);\n",
    "\n",
    "Iterator<Integer> n_iterator = nums.iterator();\n",
    "\n",
    "// n_iterator.forEachRemaining(x -> {\n",
    "//     System.out.println(\"In forEachRemaining...\");\n",
    "//     System.out.println(x);\n",
    "// });\n",
    "\n",
    "while (n_iterator.hasNext()){\n",
    "    System.out.println(\"In While Loop...\");\n",
    "    System.out.println(n_iterator.next());\n",
    "    n_iterator.remove();\n",
    "}\n",
    "\n",
    "System.out.println(nums.size()); // 0"
   ]
  },
  {
   "cell_type": "markdown",
   "id": "fc01fa99-1623-4436-9ce6-0c9cd2b408fe",
   "metadata": {},
   "source": [
    "---"
   ]
  },
  {
   "cell_type": "markdown",
   "id": "d91b4579-285c-48d5-acff-06b8dbad8645",
   "metadata": {},
   "source": [
    "## Custom Iterator"
   ]
  },
  {
   "cell_type": "code",
   "execution_count": 108,
   "id": "360cd9a7-aac7-4d6e-a69e-21f7838ab8e0",
   "metadata": {},
   "outputs": [],
   "source": [
    "public class MyListIterator<T> implements Iterator<T>{\n",
    "\n",
    "    private List<T> source = null;\n",
    "    private int index = 0;\n",
    "\n",
    "    public MyListIterator(List<T> source) {\n",
    "        this.source = source;\n",
    "    }\n",
    "\n",
    "    @Override\n",
    "    public boolean hasNext() {\n",
    "        return this.index < this.source.size();\n",
    "    }\n",
    "\n",
    "    @Override\n",
    "    public T next() {\n",
    "        return this.source.get(this.index++);\n",
    "    }\n",
    "}"
   ]
  },
  {
   "cell_type": "code",
   "execution_count": 112,
   "id": "5453638a-69fd-4cf2-97d1-c5d1be4dd100",
   "metadata": {},
   "outputs": [],
   "source": [
    "List<String> list = new ArrayList<>();\n",
    "list.add(\"123\");\n",
    "list.add(\"ABC\");\n",
    "list.add(\"xyz\");\n",
    "\n",
    "ListIterator<String> listIterator = list.listIterator();"
   ]
  },
  {
   "cell_type": "code",
   "execution_count": 113,
   "id": "82fd38df-4c68-43e3-88fe-3dd0dd55f3af",
   "metadata": {},
   "outputs": [
    {
     "name": "stdout",
     "output_type": "stream",
     "text": [
      "123\n",
      "ABC\n",
      "xyz\n"
     ]
    }
   ],
   "source": [
    "while (listIterator.hasNext()){\n",
    "    System.out.println(listIterator.next());\n",
    "}"
   ]
  },
  {
   "cell_type": "code",
   "execution_count": 114,
   "id": "9b93d434-5ee6-492d-9191-5e52fb072391",
   "metadata": {},
   "outputs": [
    {
     "name": "stdout",
     "output_type": "stream",
     "text": [
      "xyz\n",
      "ABC\n",
      "123\n"
     ]
    }
   ],
   "source": [
    "while (listIterator.hasPrevious()){\n",
    "    System.out.println(listIterator.previous());\n",
    "}"
   ]
  },
  {
   "cell_type": "markdown",
   "id": "9ebcf04b-539a-4a26-b99d-12ad6aa7a746",
   "metadata": {},
   "source": [
    "---"
   ]
  },
  {
   "cell_type": "code",
   "execution_count": null,
   "id": "974a6add-a18f-4b82-ad20-9c886375156a",
   "metadata": {},
   "outputs": [],
   "source": []
  }
 ],
 "metadata": {
  "kernelspec": {
   "display_name": "Java",
   "language": "java",
   "name": "java"
  },
  "language_info": {
   "codemirror_mode": "java",
   "file_extension": ".jshell",
   "mimetype": "text/x-java-source",
   "name": "Java",
   "pygments_lexer": "java",
   "version": "17.0.6+10-jvmci-22.3-b13"
  },
  "widgets": {
   "application/vnd.jupyter.widget-state+json": {
    "state": {},
    "version_major": 2,
    "version_minor": 0
   }
  }
 },
 "nbformat": 4,
 "nbformat_minor": 5
}
