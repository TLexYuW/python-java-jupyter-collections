{
 "cells": [
  {
   "cell_type": "markdown",
   "id": "352aa2d2-755e-4db8-918e-d25fa3ca9d09",
   "metadata": {},
   "source": [
    "# Import"
   ]
  },
  {
   "cell_type": "code",
   "execution_count": 4,
   "id": "44aea2f8-43bf-47e2-a321-b214ec1c6ad9",
   "metadata": {},
   "outputs": [],
   "source": [
    "import static java.util.stream.Collectors.*;"
   ]
  },
  {
   "cell_type": "markdown",
   "id": "f917e148-bd35-4c70-a93c-6f75f15cb627",
   "metadata": {},
   "source": [
    "---"
   ]
  },
  {
   "cell_type": "markdown",
   "id": "f2c27400-e1a9-45ad-b4d2-253e824db6a6",
   "metadata": {},
   "source": [
    "# TOC"
   ]
  },
  {
   "cell_type": "markdown",
   "id": "9a9b5b5a-2524-4290-bb6a-8fcf20df1dc5",
   "metadata": {},
   "source": [
    "- "
   ]
  },
  {
   "cell_type": "markdown",
   "id": "7be981cb-3a84-48c7-af7b-8e8d13b246ae",
   "metadata": {},
   "source": [
    "---"
   ]
  },
  {
   "cell_type": "markdown",
   "id": "a680c299-86ad-4889-ab56-811163eea798",
   "metadata": {},
   "source": [
    "# Title"
   ]
  },
  {
   "cell_type": "markdown",
   "id": "7139696d-2afc-463a-90c4-c03f0ca2a45c",
   "metadata": {},
   "source": [
    "- [`toList()`](#toLsit())"
   ]
  },
  {
   "cell_type": "markdown",
   "id": "596bc070-6546-416f-bebe-911b9a57f005",
   "metadata": {},
   "source": [
    "---"
   ]
  },
  {
   "cell_type": "markdown",
   "id": "415f8890-b47e-4d2a-be09-e26cd0bfb0a3",
   "metadata": {},
   "source": [
    "# Setup"
   ]
  },
  {
   "cell_type": "code",
   "execution_count": 5,
   "id": "4245566d-b619-48b6-bbf3-ccd0fa60026b",
   "metadata": {},
   "outputs": [],
   "source": [
    "List<String> givenList = Arrays.asList(\"a\", \"bb\", \"ccc\", \"dd\");"
   ]
  },
  {
   "cell_type": "markdown",
   "id": "a56c7a9f-80b6-4ecb-b861-ece1722aa5df",
   "metadata": {},
   "source": [
    "---"
   ]
  },
  {
   "cell_type": "markdown",
   "id": "87ee29a5-0049-4d59-8763-8dac9ec7ae80",
   "metadata": {},
   "source": [
    "# `toLsit()`"
   ]
  },
  {
   "cell_type": "code",
   "execution_count": 8,
   "id": "24c7b2e0-d998-4f5f-8237-dc701d4d7350",
   "metadata": {},
   "outputs": [
    {
     "name": "stdout",
     "output_type": "stream",
     "text": [
      "[a, bb, ccc, dd]\n"
     ]
    }
   ],
   "source": [
    "List<String> result = givenList.stream().collect(toList());\n",
    "System.out.println(result);"
   ]
  },
  {
   "cell_type": "code",
   "execution_count": null,
   "id": "ee32a262-0e40-433f-ab6f-95fec901ba92",
   "metadata": {},
   "outputs": [],
   "source": []
  }
 ],
 "metadata": {
  "kernelspec": {
   "display_name": "Java",
   "language": "java",
   "name": "java"
  },
  "language_info": {
   "codemirror_mode": "java",
   "file_extension": ".jshell",
   "mimetype": "text/x-java-source",
   "name": "Java",
   "pygments_lexer": "java",
   "version": "17.0.6+10-jvmci-22.3-b13"
  },
  "widgets": {
   "application/vnd.jupyter.widget-state+json": {
    "state": {},
    "version_major": 2,
    "version_minor": 0
   }
  }
 },
 "nbformat": 4,
 "nbformat_minor": 5
}
