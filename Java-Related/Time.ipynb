{
 "cells": [
  {
   "cell_type": "markdown",
   "id": "ff1a3c9d-1d46-456a-89a6-5c451d69bb7d",
   "metadata": {},
   "source": [
    "# Dependency"
   ]
  },
  {
   "cell_type": "code",
   "execution_count": 2,
   "id": "d766dc71-55fb-4147-ae60-935a84b36ad4",
   "metadata": {},
   "outputs": [],
   "source": [
    "// code"
   ]
  },
  {
   "cell_type": "markdown",
   "id": "af849673-3acc-48bf-a00a-b43555f6e909",
   "metadata": {},
   "source": [
    "---"
   ]
  },
  {
   "cell_type": "markdown",
   "id": "c5d3ed57-48ee-46a0-a589-04447aefdad1",
   "metadata": {},
   "source": [
    "# Import"
   ]
  },
  {
   "cell_type": "code",
   "execution_count": 8,
   "id": "b60b3524-5c2a-42f3-b9c3-8c7a4bd61572",
   "metadata": {},
   "outputs": [],
   "source": [
    "import java.time.*;\n",
    "import java.time.format.*;\n",
    "\n",
    "import static java.lang.System.out;"
   ]
  },
  {
   "cell_type": "markdown",
   "id": "b46b835e-287a-4a99-9b2b-6009e5b32c40",
   "metadata": {},
   "source": [
    "---"
   ]
  },
  {
   "cell_type": "markdown",
   "id": "945dc36a-61f2-4506-b3a7-ca44164b8585",
   "metadata": {},
   "source": [
    "# TOC"
   ]
  },
  {
   "cell_type": "markdown",
   "id": "123245f8-9bcc-4036-9866-73da30fece2b",
   "metadata": {},
   "source": []
  },
  {
   "cell_type": "markdown",
   "id": "ba167845-043e-4e74-808c-336bb81767e2",
   "metadata": {},
   "source": [
    "---"
   ]
  },
  {
   "cell_type": "markdown",
   "id": "27cb2d40-4cd9-46f3-b6ad-8657899466cc",
   "metadata": {},
   "source": [
    "# Setup\n",
    "- [Model](#Model)\n",
    "- [Utils](#Utils)"
   ]
  },
  {
   "cell_type": "markdown",
   "id": "e6d61639-2b6d-41a0-97a1-b25940efbec1",
   "metadata": {},
   "source": [
    "## Model"
   ]
  },
  {
   "cell_type": "code",
   "execution_count": null,
   "id": "7d877191-e3ce-4940-b3b4-b939879cbc2d",
   "metadata": {},
   "outputs": [],
   "source": []
  },
  {
   "cell_type": "markdown",
   "id": "c0d8510d-b858-4b7e-9e63-812e6fa18306",
   "metadata": {},
   "source": [
    "## Utils"
   ]
  },
  {
   "cell_type": "code",
   "execution_count": null,
   "id": "51e9e001-e0e9-440e-a2c1-23d81ce0d89a",
   "metadata": {},
   "outputs": [],
   "source": []
  },
  {
   "cell_type": "markdown",
   "id": "a3cec1b3-cbaf-44db-b351-a5314b76ab04",
   "metadata": {},
   "source": [
    "---"
   ]
  },
  {
   "cell_type": "markdown",
   "id": "9d04664a-2ed8-4d73-9c8e-2e6821f02659",
   "metadata": {},
   "source": [
    "# LocalDate"
   ]
  },
  {
   "cell_type": "code",
   "execution_count": 22,
   "id": "e51e0970-405d-466e-888f-fdd9a9757f91",
   "metadata": {},
   "outputs": [
    {
     "name": "stdout",
     "output_type": "stream",
     "text": [
      "2023-02-28\n",
      "2023-03-01\n",
      "2023-08-01\n"
     ]
    }
   ],
   "source": [
    "LocalDate ld = LocalDate.of(2023, Month.FEBRUARY, 28);\n",
    "System.out.println(ld);\n",
    "ld = ld.plusDays(1);\n",
    "System.out.println(ld);\n",
    "ld = ld.plusMonths(5);\n",
    "System.out.println(ld);"
   ]
  },
  {
   "cell_type": "markdown",
   "id": "97186083-d165-44c7-89f9-45c671885d00",
   "metadata": {},
   "source": [
    "---"
   ]
  },
  {
   "cell_type": "markdown",
   "id": "09a47092-f99a-4bea-b991-aeac16d97b1d",
   "metadata": {},
   "source": [
    "# DateTimeFormatter"
   ]
  },
  {
   "cell_type": "code",
   "execution_count": 23,
   "id": "f06f6dbe-c681-4107-b786-e8a5366fdb95",
   "metadata": {},
   "outputs": [
    {
     "name": "stdout",
     "output_type": "stream",
     "text": [
      "2023 08 01\n",
      "2023 08 01\n",
      "2023 Aug 01\n",
      "2023 Aug 01\n"
     ]
    }
   ],
   "source": [
    "DateTimeFormatter dtf = DateTimeFormatter.ofPattern(\"yyyy MM dd\");\n",
    "System.out.println(ld.format(dtf));\n",
    "System.out.println(dtf.format(ld));\n",
    "\n",
    "DateTimeFormatter dtf = DateTimeFormatter.ofPattern(\"yyyy MMM dd\");\n",
    "System.out.println(ld.format(dtf));\n",
    "System.out.println(dtf.format(ld));"
   ]
  },
  {
   "cell_type": "markdown",
   "id": "6a5bc2b2-774f-470e-b53f-9b52a3b014fa",
   "metadata": {},
   "source": [
    "---"
   ]
  },
  {
   "cell_type": "markdown",
   "id": "e9fb2cbc-62eb-4dfc-821b-01b7df42d4b7",
   "metadata": {},
   "source": [
    "# LocalTime"
   ]
  },
  {
   "cell_type": "code",
   "execution_count": 26,
   "id": "e5d21dd1-13b6-413b-a73a-b08d897a2ef1",
   "metadata": {},
   "outputs": [
    {
     "name": "stdout",
     "output_type": "stream",
     "text": [
      "12:30:15\n"
     ]
    }
   ],
   "source": [
    "LocalTime lt = LocalTime.of(12, 30, 15);\n",
    "System.out.println(lt);"
   ]
  },
  {
   "cell_type": "markdown",
   "id": "3d8b1c94-dc65-4ab6-b7d7-4f2ff2ce871d",
   "metadata": {},
   "source": [
    "---"
   ]
  },
  {
   "cell_type": "markdown",
   "id": "fa5e32e8-c303-4acd-a95a-0fc3b94d1f93",
   "metadata": {},
   "source": [
    "# LocalDateTime"
   ]
  },
  {
   "cell_type": "code",
   "execution_count": 27,
   "id": "088fa37e-5d20-474b-93a3-6f26ead7b8d4",
   "metadata": {},
   "outputs": [
    {
     "name": "stdout",
     "output_type": "stream",
     "text": [
      "2023-08-01T12:30:15\n"
     ]
    }
   ],
   "source": [
    "LocalDateTime ldt = LocalDateTime.of(ld, lt);\n",
    "System.out.println(ldt);"
   ]
  },
  {
   "cell_type": "markdown",
   "id": "e68b2c27-d9e8-451b-9df7-fec3bb0c0308",
   "metadata": {},
   "source": [
    "---"
   ]
  },
  {
   "cell_type": "markdown",
   "id": "f7d77e84-bba2-4493-936c-b99442590e53",
   "metadata": {},
   "source": [
    "# ZonedDateTime"
   ]
  },
  {
   "cell_type": "code",
   "execution_count": 20,
   "id": "2671e48f-4d98-4a7f-ba1a-760ceb87b2d1",
   "metadata": {},
   "outputs": [],
   "source": [
    "// ZoneId.getAvailableZoneIds().forEach(System.out::println);"
   ]
  },
  {
   "cell_type": "code",
   "execution_count": 28,
   "id": "e62c38b8-6634-4be7-b733-3b59d2270898",
   "metadata": {},
   "outputs": [
    {
     "name": "stdout",
     "output_type": "stream",
     "text": [
      "2023-08-01T12:30:15+08:00[Asia/Taipei]\n"
     ]
    }
   ],
   "source": [
    "ZonedDateTime zdt = ZonedDateTime.of(ldt, ZoneId.of(\"Asia/Taipei\"));\n",
    "System.out.println(zdt);"
   ]
  },
  {
   "cell_type": "markdown",
   "id": "bcefa91c-fbaa-40ab-9e71-ef7083d23fad",
   "metadata": {},
   "source": [
    "---"
   ]
  }
 ],
 "metadata": {
  "kernelspec": {
   "display_name": "Java",
   "language": "java",
   "name": "java"
  },
  "language_info": {
   "codemirror_mode": "java",
   "file_extension": ".jshell",
   "mimetype": "text/x-java-source",
   "name": "Java",
   "pygments_lexer": "java",
   "version": "17.0.9+8-LTS"
  }
 },
 "nbformat": 4,
 "nbformat_minor": 5
}
