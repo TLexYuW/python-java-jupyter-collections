{
 "cells": [
  {
   "cell_type": "markdown",
   "id": "3e259a45-cb0b-4844-9288-0f1330cabd45",
   "metadata": {},
   "source": [
    "# Dependency"
   ]
  },
  {
   "cell_type": "code",
   "execution_count": 2,
   "id": "9ff36e26-ae72-4e3b-809b-de9204c3ad10",
   "metadata": {},
   "outputs": [],
   "source": [
    "// code"
   ]
  },
  {
   "cell_type": "markdown",
   "id": "ee6687ce-9f9d-4128-b0cd-eb250ba768c8",
   "metadata": {},
   "source": [
    "---"
   ]
  },
  {
   "cell_type": "markdown",
   "id": "67157d6b-1407-4523-aaeb-a40765a0b5b1",
   "metadata": {},
   "source": [
    "# Import"
   ]
  },
  {
   "cell_type": "code",
   "execution_count": 5,
   "id": "0af9a04a-e6c2-40c9-8769-2e6250c81875",
   "metadata": {},
   "outputs": [],
   "source": [
    "import java.lang.reflect.Field;\n",
    "import java.lang.reflect.InvocationTargetException;\n",
    "import java.lang.reflect.Method;\n",
    "\n",
    "import static java.lang.System.out;"
   ]
  },
  {
   "cell_type": "markdown",
   "id": "a86b359b-4679-405a-83f4-8a5527b055e6",
   "metadata": {},
   "source": [
    "---"
   ]
  },
  {
   "cell_type": "markdown",
   "id": "e509eb65-649a-4aa5-a916-b33630342afa",
   "metadata": {},
   "source": [
    "# TOC"
   ]
  },
  {
   "cell_type": "markdown",
   "id": "d0f95e28-f474-4420-88db-c39a53f48700",
   "metadata": {},
   "source": []
  },
  {
   "cell_type": "markdown",
   "id": "16ca4c07-c57f-4744-9c61-1c1479d7116c",
   "metadata": {},
   "source": [
    "---"
   ]
  },
  {
   "cell_type": "markdown",
   "id": "0ddccc3a-d93a-46b6-9985-8bf8bcd7eeaf",
   "metadata": {},
   "source": [
    "# Setup\n",
    "- [Model](#Model)\n",
    "- [Utils](#Utils)"
   ]
  },
  {
   "cell_type": "markdown",
   "id": "d06a76dc-27b9-41c9-9655-997556316b8d",
   "metadata": {},
   "source": [
    "## Model"
   ]
  },
  {
   "cell_type": "code",
   "execution_count": 6,
   "id": "a7189b6c-b66f-46e6-890c-f8cc2d06f18b",
   "metadata": {},
   "outputs": [],
   "source": [
    "public class Cat {\n",
    "    private final String name;\n",
    "    private int age;\n",
    "\n",
    "    public Cat(String name, int age) {\n",
    "        this.name = name;\n",
    "        this.age = age;\n",
    "    }\n",
    "\n",
    "    public String getName() {\n",
    "        return name;\n",
    "    }\n",
    "\n",
    "    public int getAge() {\n",
    "        return age;\n",
    "    }\n",
    "\n",
    "    public void setAge(int age) {\n",
    "        this.age = age;\n",
    "    }\n",
    "\n",
    "    public void meow() {\n",
    "        System.out.println(\"Meow...\");\n",
    "    }\n",
    "\n",
    "    private void heyThisIsPrivate(){\n",
    "        System.out.println(\"How did you call this??\");\n",
    "    }\n",
    "\n",
    "    public static void thisIsPublicStaticMethod(){\n",
    "        System.out.println(\"This is public and static!\");\n",
    "    }\n",
    "\n",
    "    private static void thisIsPrivateStaticMethod(){\n",
    "        System.out.println(\"Hey, I'm private and static!\");\n",
    "    }\n",
    "}"
   ]
  },
  {
   "cell_type": "markdown",
   "id": "e8439cc2-d683-4dd0-a167-929cf4aa607a",
   "metadata": {},
   "source": [
    "## Utils"
   ]
  },
  {
   "cell_type": "code",
   "execution_count": null,
   "id": "687f8aa0-21cb-40a1-ab3f-5b0a908bc49f",
   "metadata": {},
   "outputs": [],
   "source": []
  },
  {
   "cell_type": "markdown",
   "id": "a74bd3ca-3526-4fd6-8338-b511ed2c530e",
   "metadata": {},
   "source": [
    "---"
   ]
  },
  {
   "cell_type": "code",
   "execution_count": 15,
   "id": "a9ca1f71-b343-4e02-af4e-686cbf538724",
   "metadata": {},
   "outputs": [
    {
     "name": "stdout",
     "output_type": "stream",
     "text": [
      "Original Name : L\n",
      "name\n",
      "age\n",
      "Reflection Name : Reflection Set New Name\n",
      "\n",
      "Hey, I'm private and static!\n",
      "thisIsPrivateStaticMethod\n",
      "This is public and static!\n",
      "thisIsPublicStaticMethod\n",
      "getName\n",
      "setAge\n",
      "How did you call this??\n",
      "heyThisIsPrivate\n",
      "Meow...\n",
      "Meow...\n",
      "meow\n",
      "getAge\n"
     ]
    }
   ],
   "source": [
    "// Cat fields are private, and we can't access it\n",
    "Cat myCat = new Cat(\"L\",8);\n",
    "System.out.println(\"Original Name : \" + myCat.getName());\n",
    "\n",
    "// With reflection help, we can\n",
    "Field[] catFields = myCat.getClass().getDeclaredFields();\n",
    "for (Field field : catFields) {\n",
    "   System.out.println(field.getName());\n",
    "    if (field.getName().equals(\"name\")) {\n",
    "        field.setAccessible(true);\n",
    "        field.set(myCat, \"Reflection Set New Name\");\n",
    "    }\n",
    "}\n",
    "System.out.println(\"Reflection Name : \" + myCat.getName() + \"\\n\");\n",
    "\n",
    "// ----- Method\n",
    "Method[] catMethods = myCat.getClass().getDeclaredMethods();\n",
    "for (Method m : catMethods) {\n",
    "    // call private static method\n",
    "    if (m.getName().equals(\"thisIsPrivateStaticMethod\")) {\n",
    "        m.setAccessible(true);\n",
    "        m.invoke(null);\n",
    "    }\n",
    "\n",
    "    // call public static method\n",
    "   if (m.getName().equals(\"thisIsPublicStaticMethod\")) {\n",
    "       m.setAccessible(true);\n",
    "       m.invoke(null);\n",
    "   }\n",
    "\n",
    "    // Private method\n",
    "   if (m.getName().equals(\"heyThisIsPrivate\")) {\n",
    "       m.setAccessible(true);\n",
    "       m.invoke(myCat);\n",
    "   }\n",
    "\n",
    "    // public\n",
    "   if (m.getName().equals(\"meow\")) {\n",
    "       m.invoke(myCat);\n",
    "       myCat.meow();\n",
    "   }\n",
    "\n",
    "   System.out.println(m.getName());\n",
    "}\n"
   ]
  },
  {
   "cell_type": "code",
   "execution_count": null,
   "id": "8386dbd5-5a4b-4815-8f4e-e510acf8517a",
   "metadata": {},
   "outputs": [],
   "source": []
  }
 ],
 "metadata": {
  "kernelspec": {
   "display_name": "Java",
   "language": "java",
   "name": "java"
  },
  "language_info": {
   "codemirror_mode": "java",
   "file_extension": ".jshell",
   "mimetype": "text/x-java-source",
   "name": "Java",
   "pygments_lexer": "java",
   "version": "17.0.9+8-LTS"
  }
 },
 "nbformat": 4,
 "nbformat_minor": 5
}
