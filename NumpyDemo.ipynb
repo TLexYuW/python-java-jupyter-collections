{
 "cells": [
  {
   "cell_type": "code",
   "execution_count": 2,
   "id": "7bd73021-298e-4873-89c7-3af175bb8b51",
   "metadata": {},
   "outputs": [],
   "source": [
    "import numpy as np"
   ]
  },
  {
   "cell_type": "markdown",
   "id": "487ccbd2-a23a-4a7e-9525-a170dc1a261e",
   "metadata": {},
   "source": [
    "---"
   ]
  },
  {
   "cell_type": "markdown",
   "id": "ae099df0-98e7-4574-8ea0-d7c7de0097cf",
   "metadata": {},
   "source": [
    "# TOC"
   ]
  },
  {
   "cell_type": "markdown",
   "id": "f1faddfb-2fdb-46b7-ab86-6ebf31de2d1d",
   "metadata": {},
   "source": [
    "---"
   ]
  },
  {
   "cell_type": "markdown",
   "id": "c78b8b61-cbe3-48db-8415-343ad613d1ae",
   "metadata": {},
   "source": [
    "- array\n",
    "- linspace"
   ]
  },
  {
   "cell_type": "markdown",
   "id": "fa586c9c-3dad-4d72-845b-d19cf1f542da",
   "metadata": {},
   "source": [
    "---"
   ]
  },
  {
   "cell_type": "markdown",
   "id": "8367d53a-d542-4d99-99c4-13c334b53075",
   "metadata": {},
   "source": [
    "# Demo"
   ]
  },
  {
   "cell_type": "markdown",
   "id": "a6fd8f35-92fb-4dbe-9575-c4539c76a57e",
   "metadata": {},
   "source": [
    "> Desc."
   ]
  },
  {
   "cell_type": "code",
   "execution_count": 5,
   "id": "f2faf35d-292c-4e09-85ae-12443c2bd182",
   "metadata": {},
   "outputs": [],
   "source": [
    "# Demo"
   ]
  },
  {
   "cell_type": "markdown",
   "id": "844fa9dd-ba9e-4709-a8c2-9c7d871968f4",
   "metadata": {},
   "source": [
    "---"
   ]
  },
  {
   "cell_type": "markdown",
   "id": "637bdb04-2985-445d-905d-1f2286d951ca",
   "metadata": {},
   "source": [
    "# array"
   ]
  },
  {
   "cell_type": "markdown",
   "id": "cbffd436-193c-4257-ba5d-8c8153fa8773",
   "metadata": {},
   "source": [
    "> Desc."
   ]
  },
  {
   "cell_type": "code",
   "execution_count": 7,
   "id": "14256c1d-b1f4-4ec5-bcd2-bf028bb7026d",
   "metadata": {},
   "outputs": [
    {
     "name": "stdout",
     "output_type": "stream",
     "text": [
      "[1 2 3 4]\n",
      "[1, 2, 3, 4]\n"
     ]
    }
   ],
   "source": [
    "na = np.array([1,2,3,4])\n",
    "print(na)\n",
    "pa = [1,2,3,4]\n",
    "print(pa)"
   ]
  },
  {
   "cell_type": "markdown",
   "id": "b73ad943-2ccf-4d56-89f0-59811ddd2f43",
   "metadata": {},
   "source": [
    "---"
   ]
  },
  {
   "cell_type": "markdown",
   "id": "ec10f8af-c495-407d-a21f-faf0738d2b4e",
   "metadata": {},
   "source": [
    "# linspace"
   ]
  },
  {
   "cell_type": "markdown",
   "id": "c3ed0f72-1acb-4fdb-85be-378fb9eae6bb",
   "metadata": {},
   "source": [
    "> 在一定範圍內來均勻地撒點"
   ]
  },
  {
   "cell_type": "code",
   "execution_count": 3,
   "id": "0b6e5deb-ec33-4d4c-a7a8-79cd37606ea9",
   "metadata": {},
   "outputs": [
    {
     "name": "stdout",
     "output_type": "stream",
     "text": [
      "[1. 2. 3.]\n"
     ]
    }
   ],
   "source": [
    "a = np.linspace(1, 3, 3)\n",
    "print(a)"
   ]
  },
  {
   "cell_type": "code",
   "execution_count": 4,
   "id": "06b24603-7655-4861-a57b-f39da2e097d2",
   "metadata": {},
   "outputs": [
    {
     "name": "stdout",
     "output_type": "stream",
     "text": [
      "[1.         1.21052632 1.42105263 1.63157895 1.84210526 2.05263158\n",
      " 2.26315789 2.47368421 2.68421053 2.89473684 3.10526316 3.31578947\n",
      " 3.52631579 3.73684211 3.94736842 4.15789474 4.36842105 4.57894737\n",
      " 4.78947368 5.        ]\n"
     ]
    }
   ],
   "source": [
    "a = np.linspace(1, 5, 20)\n",
    "print(a)"
   ]
  },
  {
   "cell_type": "code",
   "execution_count": null,
   "id": "78611fb4-ab0e-4982-8e9c-a38d83333246",
   "metadata": {},
   "outputs": [],
   "source": []
  }
 ],
 "metadata": {
  "kernelspec": {
   "display_name": "Python 3 (ipykernel)",
   "language": "python",
   "name": "python3"
  },
  "language_info": {
   "codemirror_mode": {
    "name": "ipython",
    "version": 3
   },
   "file_extension": ".py",
   "mimetype": "text/x-python",
   "name": "python",
   "nbconvert_exporter": "python",
   "pygments_lexer": "ipython3",
   "version": "3.9.6"
  }
 },
 "nbformat": 4,
 "nbformat_minor": 5
}
